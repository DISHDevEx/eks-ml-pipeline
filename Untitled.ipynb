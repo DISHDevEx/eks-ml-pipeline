{
 "cells": [
  {
   "cell_type": "code",
   "execution_count": 1,
   "metadata": {},
   "outputs": [],
   "source": [
    "import pandas as pd\n",
    "import numpy as np"
   ]
  },
  {
   "cell_type": "code",
   "execution_count": 2,
   "metadata": {},
   "outputs": [],
   "source": [
    "aeDummyData = np.load(\"aeDummyData.npy\")"
   ]
  },
  {
   "cell_type": "code",
   "execution_count": 3,
   "metadata": {},
   "outputs": [],
   "source": [
    "aeDummyData1 = aeDummyData[0:360,:,:]"
   ]
  },
  {
   "cell_type": "code",
   "execution_count": 4,
   "metadata": {},
   "outputs": [
    {
     "data": {
      "text/plain": [
       "(360, 20, 3)"
      ]
     },
     "execution_count": 4,
     "metadata": {},
     "output_type": "execute_result"
    }
   ],
   "source": [
    "aeDummyData1.shape"
   ]
  },
  {
   "cell_type": "code",
   "execution_count": 5,
   "metadata": {},
   "outputs": [],
   "source": [
    "np.save(\"aeDummyData.npy\",aeDummyData1)"
   ]
  },
  {
   "cell_type": "code",
   "execution_count": 6,
   "metadata": {},
   "outputs": [],
   "source": [
    "pcaDummyData = np.load(\"pcaDummyData.npy\")"
   ]
  },
  {
   "cell_type": "code",
   "execution_count": 7,
   "metadata": {},
   "outputs": [
    {
     "data": {
      "text/plain": [
       "(100, 25, 3)"
      ]
     },
     "execution_count": 7,
     "metadata": {},
     "output_type": "execute_result"
    }
   ],
   "source": [
    "pcaDummyData.shape"
   ]
  },
  {
   "cell_type": "code",
   "execution_count": 2,
   "metadata": {},
   "outputs": [],
   "source": [
    "from eks_ml_pipeline import TrainTestPipelines\n",
    "from eks_ml_pipeline import node_pca_input, pod_pca_input, container_pca_input\n",
    "from eks_ml_pipeline import node_autoencoder_input, pod_autoencoder_input, container_autoencoder_input\n"
   ]
  },
  {
   "cell_type": "code",
   "execution_count": 3,
   "metadata": {},
   "outputs": [
    {
     "name": "stdout",
     "output_type": "stream",
     "text": [
      "You are all set up to train a\n",
      " <eks_ml_pipeline.models.autoencoder_model.AutoencoderModelDish5g object at 0x7ff977ac5e50>\n",
      "using the .train method.\n",
      "tensor read from: s3://dish-5g.core.pd.g.dp.eks.logs.e/node_autoencoder_ad/v0.0.2/data/tensors/training_2022_9_29_1.npy\n",
      "Model: \"sequential\"\n",
      "_________________________________________________________________\n",
      " Layer (type)                Output Shape              Param #   \n",
      "=================================================================\n",
      " bidirectional (Bidirectiona  (None, 256)              135168    \n",
      " l)                                                              \n",
      "                                                                 \n",
      " repeat_vector (RepeatVector  (None, 20, 256)          0         \n",
      " )                                                               \n",
      "                                                                 \n",
      " bidirectional_1 (Bidirectio  (None, 20, 256)          394240    \n",
      " nal)                                                            \n",
      "                                                                 \n",
      " time_distributed (TimeDistr  (None, 20, 3)            771       \n",
      " ibuted)                                                         \n",
      "                                                                 \n",
      "=================================================================\n",
      "Total params: 530,179\n",
      "Trainable params: 530,179\n",
      "Non-trainable params: 0\n",
      "_________________________________________________________________\n",
      "900/900 [==============================] - 66s 67ms/step - loss: 0.6831 - val_loss: 0.6412\n"
     ]
    },
    {
     "data": {
      "image/png": "[encoded data removed]",
      "text/plain": [
       "<Figure size 640x480 with 1 Axes>"
      ]
     },
     "metadata": {},
     "output_type": "display_data"
    },
    {
     "name": "stdout",
     "output_type": "stream",
     "text": [
      "1125/1125 [==============================] - 25s 21ms/step\n",
      "\n",
      "Model is trained.\n"
     ]
    },
    {
     "name": "stderr",
     "output_type": "stream",
     "text": [
      "WARNING:absl:Found untraced functions such as _update_step_xla, lstm_cell_1_layer_call_fn, lstm_cell_1_layer_call_and_return_conditional_losses, lstm_cell_2_layer_call_fn, lstm_cell_2_layer_call_and_return_conditional_losses while saving (showing 5 of 9). These functions will not be directly callable after loading.\n"
     ]
    },
    {
     "name": "stdout",
     "output_type": "stream",
     "text": [
      "INFO:tensorflow:Assets written to: ../node_autoencoder/assets\n"
     ]
    },
    {
     "name": "stderr",
     "output_type": "stream",
     "text": [
      "INFO:tensorflow:Assets written to: ../node_autoencoder/assets\n"
     ]
    },
    {
     "name": "stdout",
     "output_type": "stream",
     "text": [
      "\n",
      "***Locally saved /root/delete_once_done_with_pr/node_autoencoder.zip was succesfully deleted.***\n",
      "\n",
      "Uploaded Path: s3://dish-5g.core.pd.g.dp.eks.logs.e/node_autoencoder_ad/v0.0.2/models/zipped_models/node_autoencoder_ad_model_v0.0.1-test_training_2022_9_29_1.zip\n",
      "Uploaded Path: s3://dish-5g.core.pd.g.dp.eks.logs.e/node_autoencoder_ad/v0.0.2/models/onnx_models/node_autoencoder_ad_model_v0.0.1-test_training_2022_9_29_1.onnx\n",
      "\n",
      "***Locally saved model in ../node_autoencoder was succesfully deleted***\n",
      "\n",
      "Local file ../node_autoencoder deleted.\n"
     ]
    }
   ],
   "source": [
    "ttp = TrainTestPipelines(node_autoencoder_input())\n",
    "ttp.train()"
   ]
  },
  {
   "cell_type": "code",
   "execution_count": 4,
   "metadata": {},
   "outputs": [],
   "source": [
    "import boto3"
   ]
  },
  {
   "cell_type": "code",
   "execution_count": 5,
   "metadata": {},
   "outputs": [],
   "source": [
    "s3 = boto3.client('s3')"
   ]
  },
  {
   "cell_type": "code",
   "execution_count": 6,
   "metadata": {},
   "outputs": [
    {
     "ename": "SyntaxError",
     "evalue": "invalid syntax (<ipython-input-6-3444c2dcc3b6>, line 1)",
     "output_type": "error",
     "traceback": [
      "\u001b[0;36m  File \u001b[0;32m\"<ipython-input-6-3444c2dcc3b6>\"\u001b[0;36m, line \u001b[0;32m1\u001b[0m\n\u001b[0;31m    s3://dish-5g.core.pd.g.dp.eks.logs.e/test_autoencoder_ad/v0.0.1/models/onnx_models/test_autoencoder_ad_model_v0.0.1-test_aeDummyDataTrain.onnx\u001b[0m\n\u001b[0m        ^\u001b[0m\n\u001b[0;31mSyntaxError\u001b[0m\u001b[0;31m:\u001b[0m invalid syntax\n"
     ]
    }
   ],
   "source": [
    "s3://dish-5g.core.pd.g.dp.eks.logs.e/test_autoencoder_ad/v0.0.1/models/onnx_models/test_autoencoder_ad_model_v0.0.1-test_aeDummyDataTrain.onnx"
   ]
  },
  {
   "cell_type": "code",
   "execution_count": 10,
   "metadata": {},
   "outputs": [],
   "source": [
    "j = s3.head_object(Bucket='dish-5g.core.pd.g.dp.eks.logs.e', Key='test_autoencoder_ad/v0.0.1/models/onnx_models/test_autoencoder_ad_model_v0.0.1-test_aeDummyDataTrain.onnx')"
   ]
  },
  {
   "cell_type": "code",
   "execution_count": 11,
   "metadata": {},
   "outputs": [
    {
     "name": "stdout",
     "output_type": "stream",
     "text": [
      "{'ResponseMetadata': {'RequestId': 'CARKGMA4Y7XK6HXR', 'HostId': 'JE5XORcyhIjEstcjs/eRRSAOUW17WdbcpMxNjFoQHYZKzKTwfK3DemeofNkx/etVi0IVc5OIk1A=', 'HTTPStatusCode': 200, 'HTTPHeaders': {'x-amz-id-2': 'JE5XORcyhIjEstcjs/eRRSAOUW17WdbcpMxNjFoQHYZKzKTwfK3DemeofNkx/etVi0IVc5OIk1A=', 'x-amz-request-id': 'CARKGMA4Y7XK6HXR', 'date': 'Thu, 02 Feb 2023 18:25:14 GMT', 'last-modified': 'Thu, 02 Feb 2023 18:22:47 GMT', 'etag': '\"6243fe1fe9ca74ff592f436fd0d706a7\"', 'accept-ranges': 'bytes', 'content-type': 'binary/octet-stream', 'server': 'AmazonS3', 'content-length': '2138581'}, 'RetryAttempts': 0}, 'AcceptRanges': 'bytes', 'LastModified': datetime.datetime(2023, 2, 2, 18, 22, 47, tzinfo=tzutc()), 'ContentLength': 2138581, 'ETag': '\"6243fe1fe9ca74ff592f436fd0d706a7\"', 'ContentType': 'binary/octet-stream', 'Metadata': {}}\n"
     ]
    }
   ],
   "source": [
    "print(j)"
   ]
  },
  {
   "cell_type": "code",
   "execution_count": null,
   "metadata": {},
   "outputs": [],
   "source": []
  }
 ],
 "metadata": {
  "instance_type": "ml.t3.xlarge",
  "kernelspec": {
   "display_name": "Python 3 (Data Science)",
   "language": "python",
   "name": "python3__SAGEMAKER_INTERNAL__arn:aws:sagemaker:us-west-2:236514542706:image/datascience-1.0"
  },
  "language_info": {
   "codemirror_mode": {
    "name": "ipython",
    "version": 3
   },
   "file_extension": ".py",
   "mimetype": "text/x-python",
   "name": "python",
   "nbconvert_exporter": "python",
   "pygments_lexer": "ipython3",
   "version": "3.7.10"
  }
 },
 "nbformat": 4,
 "nbformat_minor": 4
}
