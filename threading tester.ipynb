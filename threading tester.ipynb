{
 "cells": [
  {
   "cell_type": "code",
   "execution_count": null,
   "id": "15df4dc8-5838-44ff-9792-e3817e65c83a",
   "metadata": {
    "tags": []
   },
   "outputs": [],
   "source": [
    "!pip uninstall -y msspackages"
   ]
  },
  {
   "cell_type": "code",
   "execution_count": null,
   "id": "85c37249-02d8-45d6-9320-2a08e3d598a3",
   "metadata": {
    "tags": []
   },
   "outputs": [],
   "source": [
    "!pip install /root/msspackages/dist/msspackages-0.0.7-py3-none-any.whl"
   ]
  },
  {
   "cell_type": "code",
   "execution_count": null,
   "id": "92e762a1-7799-449c-9b38-1ace492942e8",
   "metadata": {
    "tags": []
   },
   "outputs": [],
   "source": [
    "from msspackages import setup_runner\n",
    "setup_runner()"
   ]
  },
  {
   "cell_type": "code",
   "execution_count": null,
   "id": "75564eeb-91f9-4897-86cb-df8b4260c0bf",
   "metadata": {
    "tags": []
   },
   "outputs": [],
   "source": [
    "!python3 -m pip install -r requirements.txt"
   ]
  },
  {
   "cell_type": "code",
   "execution_count": null,
   "id": "220bd6f8-c6c1-485b-ab82-583d0bc8d9e1",
   "metadata": {
    "tags": []
   },
   "outputs": [],
   "source": [
    "time_steps = 20\n",
    "batch_size = 32\n",
    "train_n_samples = batch_size * 1000\n",
    "test_n_samples = round((batch_size*1000*0.2) / 0.8)"
   ]
  },
  {
   "cell_type": "code",
   "execution_count": null,
   "id": "45065f14-3e29-4259-a66c-e7a2079dfb0d",
   "metadata": {
    "tags": []
   },
   "outputs": [],
   "source": [
    "features = ['pod_cpu_utilization','pod_memory_utilization','pod_network_total_bytes']\n",
    "scaled_features = ['scaled_pod_cpu_utilization','scaled_pod_memory_utilization','scaled_pod_network_total_bytes']"
   ]
  },
  {
   "cell_type": "code",
   "execution_count": null,
   "id": "1572ecc2-4601-4ac8-b9e0-dac44bde03e9",
   "metadata": {
    "tags": []
   },
   "outputs": [],
   "source": [
    "import pandas as pd\n",
    "pod_training_df = pd.read_parquet('training_pod_2022_9_9.parquet', engine='fastparquet')\n",
    "pod_testing_df = pd.read_parquet('testing_pod_2022_9_9.parquet', engine='fastparquet')\n"
   ]
  },
  {
   "cell_type": "code",
   "execution_count": null,
   "id": "cb6f55c7-3813-4bb9-9024-6e7007cd7192",
   "metadata": {
    "tags": []
   },
   "outputs": [],
   "source": [
    "pod_training_df.shape"
   ]
  },
  {
   "cell_type": "code",
   "execution_count": null,
   "id": "a10e331a-e1e9-47dd-b9b9-774c6e026db5",
   "metadata": {
    "tags": []
   },
   "outputs": [],
   "source": [
    "pod_testing_df.shape"
   ]
  },
  {
   "cell_type": "code",
   "execution_count": null,
   "id": "8dd0ac62-8af1-4d34-bb43-a5bfdc9be33d",
   "metadata": {
    "tags": []
   },
   "outputs": [],
   "source": [
    "pod_training_df.head()"
   ]
  },
  {
   "cell_type": "code",
   "execution_count": null,
   "id": "0efda7d9-345b-403f-b4ee-11a56b6b7e77",
   "metadata": {
    "tags": []
   },
   "outputs": [],
   "source": [
    "pod_training_df['freq'] = pod_training_df.groupby('pod_id')['pod_id'].transform('count')"
   ]
  },
  {
   "cell_type": "code",
   "execution_count": null,
   "id": "c06df7ae-f4f4-484f-b381-71c2ed536e10",
   "metadata": {
    "tags": []
   },
   "outputs": [],
   "source": [
    "filtered_pod_df = pod_training_df[pod_training_df[\"freq\"] > 20]"
   ]
  },
  {
   "cell_type": "code",
   "execution_count": null,
   "id": "889f1912-9b73-4554-afad-406ec827ef97",
   "metadata": {
    "tags": []
   },
   "outputs": [],
   "source": [
    "filtered_pod_df.head()"
   ]
  },
  {
   "cell_type": "code",
   "execution_count": null,
   "id": "339df17f-37c7-4ee7-ac3b-f581b04d696b",
   "metadata": {
    "tags": []
   },
   "outputs": [],
   "source": [
    "selected_pod_list = filtered_pod_df['pod_id'].sample(train_n_samples).to_list()"
   ]
  },
  {
   "cell_type": "code",
   "execution_count": null,
   "id": "a767cec7-561d-4916-b275-31fb50ea9366",
   "metadata": {
    "tags": []
   },
   "outputs": [],
   "source": [
    "len(selected_pod_list)"
   ]
  },
  {
   "cell_type": "code",
   "execution_count": null,
   "id": "b7f12f3e-b951-4288-8dda-d580d45f82df",
   "metadata": {
    "tags": []
   },
   "outputs": [],
   "source": [
    "from sklearn.preprocessing import StandardScaler\n",
    "\n",
    "def pod_tensor_builder(pod_id, input_pod_processed_df, time_steps, scaled_features, features):\n",
    "\n",
    "    ##pick random df, and normalize\n",
    "    print(pod_id)\n",
    "    pod_fe_df = input_pod_processed_df.loc[(input_pod_processed_df[\"pod_id\"] == pod_id)]\n",
    "    pod_fe_df = pod_fe_df.sort_values(by='Timestamp').reset_index(drop=True)\n",
    "    pod_fe_df_len = len(pod_fe_df)\n",
    "    #smaller df check \n",
    "    # if pod_fe_df_len > time_steps:\n",
    "    #     print(f'Exception occurred: pod_fe_df_len-time_steps = {pod_fe_df_len-time_steps}')\n",
    "    #     break\n",
    "\n",
    "    #tensor builder\n",
    "    start = random.choice(range(pod_fe_df_len-time_steps))\n",
    "    pod_fe_df = pod_fe_df[start:start+time_steps]\n",
    "\n",
    "    #scaler transformations\n",
    "    scaler = StandardScaler()\n",
    "    pod_fe_df[scaled_features] = scaler.fit_transform(pod_fe_df[features])\n",
    "\n",
    "    return pod_fe_df"
   ]
  },
  {
   "cell_type": "code",
   "execution_count": null,
   "id": "da6f393a-5ec5-4ac2-b1e8-e922d4a6433d",
   "metadata": {
    "tags": []
   },
   "outputs": [],
   "source": [
    "%%time\n",
    "from joblib import Parallel, delayed\n",
    "import random\n",
    "import multiprocessing\n",
    "\n",
    "num_cores = multiprocessing.cpu_count()\n",
    "print(num_cores)\n",
    "pod_fe_df_list = Parallel(n_jobs=num_cores, prefer=\"processes\")(delayed(pod_tensor_builder)(random_pod_id, filtered_pod_df, time_steps, scaled_features, features) for random_pod_id in selected_pod_list)"
   ]
  },
  {
   "cell_type": "code",
   "execution_count": null,
   "id": "74377133-1274-47e6-aa15-5d0debaaf5d4",
   "metadata": {
    "tags": []
   },
   "outputs": [],
   "source": [
    "pod_fe_df_list"
   ]
  },
  {
   "cell_type": "code",
   "execution_count": null,
   "id": "a6681ec0-7ff9-43c7-b0e4-c5d3a32f0526",
   "metadata": {},
   "outputs": [],
   "source": [
    "from eks_ml_pipeline import write_tensor, awswrangler_pandas_dataframe_to_s3"
   ]
  },
  {
   "cell_type": "code",
   "execution_count": null,
   "id": "58743dc6-e4f2-4b5e-947d-4068342ce4e1",
   "metadata": {},
   "outputs": [],
   "source": [
    "awswrangler_pandas_dataframe_to_s3(pod_training_data,  \"dish-5g.core.pd.g.dp.eks.logs.e\", \"pod_autoencoder_ad\", \"v0.0.2\", \"training_2022_9_9\")"
   ]
  },
  {
   "cell_type": "code",
   "execution_count": null,
   "id": "65188a9c-8974-4550-aeb4-7bfed63f2947",
   "metadata": {},
   "outputs": [],
   "source": [
    "write_tensor(pod_training_tensor, \"dish-5g.core.pd.g.dp.eks.logs.e\", \"pod_autoencoder_ad\", \"v0.0.2\", \"training_2022_9_9\")"
   ]
  }
 ],
 "metadata": {
  "instance_type": "ml.m5.24xlarge",
  "kernelspec": {
   "display_name": "Python 3 (Data Science)",
   "language": "python",
   "name": "python3__SAGEMAKER_INTERNAL__arn:aws:sagemaker:us-east-1:081325390199:image/datascience-1.0"
  },
  "language_info": {
   "codemirror_mode": {
    "name": "ipython",
    "version": 3
   },
   "file_extension": ".py",
   "mimetype": "text/x-python",
   "name": "python",
   "nbconvert_exporter": "python",
   "pygments_lexer": "ipython3",
   "version": "3.7.10"
  }
 },
 "nbformat": 4,
 "nbformat_minor": 5
}
