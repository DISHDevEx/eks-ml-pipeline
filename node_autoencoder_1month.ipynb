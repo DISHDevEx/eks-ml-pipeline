{
 "cells": [
  {
   "cell_type": "code",
   "execution_count": null,
   "id": "c5795d41-af06-4563-8060-008b2b410c7e",
   "metadata": {
    "tags": []
   },
   "outputs": [],
   "source": [
    "pwd"
   ]
  },
  {
   "cell_type": "code",
   "execution_count": null,
   "id": "25fc82af-6908-402e-a544-08339dfdf8c9",
   "metadata": {
    "tags": []
   },
   "outputs": [],
   "source": [
    "!pip uninstall -y msspackages"
   ]
  },
  {
   "cell_type": "code",
   "execution_count": null,
   "id": "4d830bfe-b848-42d9-91a9-76586651fdd7",
   "metadata": {
    "tags": []
   },
   "outputs": [],
   "source": [
    "!pip install /root/msspackages/dist/msspackages-0.0.7-py3-none-any.whl"
   ]
  },
  {
   "cell_type": "code",
   "execution_count": null,
   "id": "d902adb5-2bc1-4994-9c59-affd3111bb7e",
   "metadata": {
    "tags": []
   },
   "outputs": [],
   "source": [
    "from msspackages import setup_runner\n",
    "setup_runner()"
   ]
  },
  {
   "cell_type": "code",
   "execution_count": null,
   "id": "09c2459b-a90a-42c0-9245-a28860c80613",
   "metadata": {
    "tags": []
   },
   "outputs": [],
   "source": [
    "!python3 -m pip install -r requirements.txt"
   ]
  },
  {
   "cell_type": "code",
   "execution_count": 2,
   "id": "98ecfaf6-d050-4ded-aac4-5e7e16b3f5eb",
   "metadata": {
    "tags": []
   },
   "outputs": [],
   "source": [
    "import numpy as np\n",
    "import random\n",
    "from eks_ml_pipeline import cleanup\n",
    "from msspackages import Pyspark_data_ingestion, get_features\n",
    "from pyspark.sql.functions import col, count, rand, get_json_object\n",
    "\n",
    " pyspark_node_data = Pyspark_data_ingestion(\"202\",\"9\", -1, -1, \"384gb\", \"Node\")\n",
    "err, pyspark_node_df = pyspark_node_data.read()\n",
    "\n",
    "#get features\n",
    "features_df = get_features(\",feature_group_version)\n",
    "features = features_df[\"feature_name\"].to_list()\n",
    "processed_features = feature_processor.cleanup(features)\n",
    "\n",
    "model_parameters = features_df[\"model_parameters\"].iloc[0]\n",
    "time_steps = model_parameters[\"time_steps\"]\n",
    "\n",
    "#filter inital node df based on request features\n",
    "node_df = pyspark_node_df.select(\"Timestamp\", \"InstanceId\", *processed_features)\n",
    "node_df = node_df.withColumn(\"Timestamp\",(col(\"Timestamp\")/1000).cast(\"timestamp\"))\n",
    "\n",
    "# Drop NA\n",
    "cleaned_node_df = node_df.na.drop(subset=processed_features)\n",
    "\n",
    "#Quality(timestamp filtered) nodes\n",
    "quality_filtered_node_df = cleaned_node_df.groupBy(\"InstanceId\").agg(count(\"Timestamp\").alias(\"timestamp_count\"))\n",
    "# to get data that is closer to 1min apart\n",
    "quality_filtered_nodes = quality_filtered_node_df.filter(col(\"timestamp_count\") >= 2*time_steps)\n",
    "\n",
    "#Processed Node DF                                                      \n",
    "processed_node_df = cleaned_node_df.filter(col(\"InstanceId\").isin(quality_filtered_nodes[\"InstanceId\"]))\n",
    "\n",
    "node_train, node_test = processed_node_df.randomSplit(weights=[0.8,0.2], seed=200)\n",
    "\n",
    "node_train = node_train.toPandas()\n",
    "\n",
    "node_test = node_test.toPandas()\n"
   ]
  },
  {
   "cell_type": "code",
   "execution_count": 3,
   "id": "2166dcc9-aea3-4c27-9de8-85025474a77f",
   "metadata": {
    "tags": []
   },
   "outputs": [
    {
     "data": {
      "text/html": [
       "<div>\n",
       "<style scoped>\n",
       "    .dataframe tbody tr th:only-of-type {\n",
       "        vertical-align: middle;\n",
       "    }\n",
       "\n",
       "    .dataframe tbody tr th {\n",
       "        vertical-align: top;\n",
       "    }\n",
       "\n",
       "    .dataframe thead th {\n",
       "        text-align: right;\n",
       "    }\n",
       "</style>\n",
       "<table border=\"1\" class=\"dataframe\">\n",
       "  <thead>\n",
       "    <tr style=\"text-align: right;\">\n",
       "      <th></th>\n",
       "      <th>Timestamp</th>\n",
       "      <th>InstanceId</th>\n",
       "      <th>node_cpu_utilization</th>\n",
       "      <th>node_memory_utilization</th>\n",
       "    </tr>\n",
       "  </thead>\n",
       "  <tbody>\n",
       "    <tr>\n",
       "      <th>0</th>\n",
       "      <td>1664424030</td>\n",
       "      <td>i-04a4b2462d91b8365</td>\n",
       "      <td>0.649978</td>\n",
       "      <td>14.384109</td>\n",
       "    </tr>\n",
       "    <tr>\n",
       "      <th>1</th>\n",
       "      <td>1664424032</td>\n",
       "      <td>i-00f549b1977d71421</td>\n",
       "      <td>0.777477</td>\n",
       "      <td>4.267736</td>\n",
       "    </tr>\n",
       "    <tr>\n",
       "      <th>2</th>\n",
       "      <td>1664424032</td>\n",
       "      <td>i-0b9338508727a6fb2</td>\n",
       "      <td>0.786083</td>\n",
       "      <td>4.950936</td>\n",
       "    </tr>\n",
       "    <tr>\n",
       "      <th>3</th>\n",
       "      <td>1664424034</td>\n",
       "      <td>i-083a68dd2c550b41f</td>\n",
       "      <td>0.597077</td>\n",
       "      <td>8.435321</td>\n",
       "    </tr>\n",
       "    <tr>\n",
       "      <th>4</th>\n",
       "      <td>1664424036</td>\n",
       "      <td>i-0c5d6a0a32608913c</td>\n",
       "      <td>7.095775</td>\n",
       "      <td>21.414884</td>\n",
       "    </tr>\n",
       "  </tbody>\n",
       "</table>\n",
       "</div>"
      ],
      "text/plain": [
       "    Timestamp           InstanceId  node_cpu_utilization  \\\n",
       "0  1664424030  i-04a4b2462d91b8365              0.649978   \n",
       "1  1664424032  i-00f549b1977d71421              0.777477   \n",
       "2  1664424032  i-0b9338508727a6fb2              0.786083   \n",
       "3  1664424034  i-083a68dd2c550b41f              0.597077   \n",
       "4  1664424036  i-0c5d6a0a32608913c              7.095775   \n",
       "\n",
       "   node_memory_utilization  \n",
       "0                14.384109  \n",
       "1                 4.267736  \n",
       "2                 4.950936  \n",
       "3                 8.435321  \n",
       "4                21.414884  "
      ]
     },
     "execution_count": 3,
     "metadata": {},
     "output_type": "execute_result"
    }
   ],
   "source": [
    "node_train.head()"
   ]
  },
  {
   "cell_type": "code",
   "execution_count": 4,
   "id": "3ef98863-860c-4d93-a049-097a3fa33f4d",
   "metadata": {
    "tags": []
   },
   "outputs": [
    {
     "data": {
      "text/html": [
       "<div>\n",
       "<style scoped>\n",
       "    .dataframe tbody tr th:only-of-type {\n",
       "        vertical-align: middle;\n",
       "    }\n",
       "\n",
       "    .dataframe tbody tr th {\n",
       "        vertical-align: top;\n",
       "    }\n",
       "\n",
       "    .dataframe thead th {\n",
       "        text-align: right;\n",
       "    }\n",
       "</style>\n",
       "<table border=\"1\" class=\"dataframe\">\n",
       "  <thead>\n",
       "    <tr style=\"text-align: right;\">\n",
       "      <th></th>\n",
       "      <th>Timestamp</th>\n",
       "      <th>InstanceId</th>\n",
       "      <th>node_cpu_utilization</th>\n",
       "      <th>node_memory_utilization</th>\n",
       "    </tr>\n",
       "  </thead>\n",
       "  <tbody>\n",
       "    <tr>\n",
       "      <th>0</th>\n",
       "      <td>1664424034</td>\n",
       "      <td>i-0d313c9be74747d64</td>\n",
       "      <td>5.491797</td>\n",
       "      <td>15.790962</td>\n",
       "    </tr>\n",
       "    <tr>\n",
       "      <th>1</th>\n",
       "      <td>1664424058</td>\n",
       "      <td>i-0db8295ecf678b21c</td>\n",
       "      <td>4.510470</td>\n",
       "      <td>40.447957</td>\n",
       "    </tr>\n",
       "    <tr>\n",
       "      <th>2</th>\n",
       "      <td>1664424074</td>\n",
       "      <td>i-0fce1b989f63bca3c</td>\n",
       "      <td>11.449553</td>\n",
       "      <td>2.275796</td>\n",
       "    </tr>\n",
       "    <tr>\n",
       "      <th>3</th>\n",
       "      <td>1664424080</td>\n",
       "      <td>i-0be6bf586e60ad4f3</td>\n",
       "      <td>10.035803</td>\n",
       "      <td>3.159258</td>\n",
       "    </tr>\n",
       "    <tr>\n",
       "      <th>4</th>\n",
       "      <td>1664424082</td>\n",
       "      <td>i-03421a696fce8926a</td>\n",
       "      <td>0.332393</td>\n",
       "      <td>0.641663</td>\n",
       "    </tr>\n",
       "  </tbody>\n",
       "</table>\n",
       "</div>"
      ],
      "text/plain": [
       "    Timestamp           InstanceId  node_cpu_utilization  \\\n",
       "0  1664424034  i-0d313c9be74747d64              5.491797   \n",
       "1  1664424058  i-0db8295ecf678b21c              4.510470   \n",
       "2  1664424074  i-0fce1b989f63bca3c             11.449553   \n",
       "3  1664424080  i-0be6bf586e60ad4f3             10.035803   \n",
       "4  1664424082  i-03421a696fce8926a              0.332393   \n",
       "\n",
       "   node_memory_utilization  \n",
       "0                15.790962  \n",
       "1                40.447957  \n",
       "2                 2.275796  \n",
       "3                 3.159258  \n",
       "4                 0.641663  "
      ]
     },
     "execution_count": 4,
     "metadata": {},
     "output_type": "execute_result"
    }
   ],
   "source": [
    "node_test.head()"
   ]
  },
  {
   "cell_type": "code",
   "execution_count": 5,
   "id": "aaf2235b-39b1-43b8-8742-71f29c4aef38",
   "metadata": {
    "tags": []
   },
   "outputs": [],
   "source": [
    "from eks_ml_pipeline import write_tensor, awswrangler_pandas_dataframe_to_s3"
   ]
  },
  {
   "cell_type": "code",
   "execution_count": 6,
   "id": "34437401-61e6-4ab7-9ba4-b9dabcb3e0fe",
   "metadata": {
    "tags": []
   },
   "outputs": [
    {
     "name": "stdout",
     "output_type": "stream",
     "text": [
      "sucess\n"
     ]
    }
   ],
   "source": [
    "awswrangler_pandas_dataframe_to_s3(node_train,  \"dish-5g.core.pd.g.dp.eks.logs.e\", \"node_hmm_ad\", \"v0.0.1\", \"raw_training_2022_9_29\")"
   ]
  },
  {
   "cell_type": "code",
   "execution_count": 7,
   "id": "7fe05dd3-3f1e-4382-8e7f-2283ea4911d0",
   "metadata": {
    "tags": []
   },
   "outputs": [
    {
     "name": "stdout",
     "output_type": "stream",
     "text": [
      "sucess\n"
     ]
    }
   ],
   "source": [
    "awswrangler_pandas_dataframe_to_s3(node_test,  \"dish-5g.core.pd.g.dp.eks.logs.e\", \"node_hmm_ad\", \"v0.0.1\", \"raw_testing_2022_9_29\")"
   ]
  },
  {
   "cell_type": "code",
   "execution_count": 8,
   "id": "2391f76b-9f95-4411-8d45-a7fcdfe01972",
   "metadata": {
    "tags": []
   },
   "outputs": [
    {
     "data": {
      "text/plain": [
       "Timestamp                  535834\n",
       "InstanceId                 535834\n",
       "node_cpu_utilization       535834\n",
       "node_memory_utilization    535834\n",
       "dtype: int64"
      ]
     },
     "execution_count": 8,
     "metadata": {},
     "output_type": "execute_result"
    }
   ],
   "source": [
    "node_train.count()"
   ]
  },
  {
   "cell_type": "code",
   "execution_count": 9,
   "id": "f9962a00-ef00-4a93-aae2-94ae206feea9",
   "metadata": {
    "tags": []
   },
   "outputs": [],
   "source": [
    "import boto3\n",
    "import io\n",
    "import pandas as pd\n",
    "\n",
    "# Read the parquet file\n",
    "buffer = io.BytesIO()\n",
    "s3 = boto3.resource('s3')\n",
    "object = s3.Object('dish-5g.core.pd.g.dp.eks.logs.e','node_hmm_ad/v0.0.1/data/pandas_df/raw_training_2022_9_29.parquet')\n",
    "object.download_fileobj(buffer)\n",
    "node_training_df = pd.read_parquet(buffer)\n"
   ]
  },
  {
   "cell_type": "code",
   "execution_count": 10,
   "id": "3552218b-88b7-45d1-9514-190b39560330",
   "metadata": {
    "tags": []
   },
   "outputs": [
    {
     "data": {
      "text/html": [
       "<div>\n",
       "<style scoped>\n",
       "    .dataframe tbody tr th:only-of-type {\n",
       "        vertical-align: middle;\n",
       "    }\n",
       "\n",
       "    .dataframe tbody tr th {\n",
       "        vertical-align: top;\n",
       "    }\n",
       "\n",
       "    .dataframe thead th {\n",
       "        text-align: right;\n",
       "    }\n",
       "</style>\n",
       "<table border=\"1\" class=\"dataframe\">\n",
       "  <thead>\n",
       "    <tr style=\"text-align: right;\">\n",
       "      <th></th>\n",
       "      <th>Timestamp</th>\n",
       "      <th>InstanceId</th>\n",
       "      <th>node_cpu_utilization</th>\n",
       "      <th>node_memory_utilization</th>\n",
       "    </tr>\n",
       "  </thead>\n",
       "  <tbody>\n",
       "    <tr>\n",
       "      <th>0</th>\n",
       "      <td>1664424030</td>\n",
       "      <td>i-04a4b2462d91b8365</td>\n",
       "      <td>0.649978</td>\n",
       "      <td>14.384109</td>\n",
       "    </tr>\n",
       "    <tr>\n",
       "      <th>1</th>\n",
       "      <td>1664424032</td>\n",
       "      <td>i-00f549b1977d71421</td>\n",
       "      <td>0.777477</td>\n",
       "      <td>4.267736</td>\n",
       "    </tr>\n",
       "    <tr>\n",
       "      <th>2</th>\n",
       "      <td>1664424032</td>\n",
       "      <td>i-0b9338508727a6fb2</td>\n",
       "      <td>0.786083</td>\n",
       "      <td>4.950936</td>\n",
       "    </tr>\n",
       "    <tr>\n",
       "      <th>3</th>\n",
       "      <td>1664424034</td>\n",
       "      <td>i-083a68dd2c550b41f</td>\n",
       "      <td>0.597077</td>\n",
       "      <td>8.435321</td>\n",
       "    </tr>\n",
       "    <tr>\n",
       "      <th>4</th>\n",
       "      <td>1664424036</td>\n",
       "      <td>i-0c5d6a0a32608913c</td>\n",
       "      <td>7.095775</td>\n",
       "      <td>21.414884</td>\n",
       "    </tr>\n",
       "  </tbody>\n",
       "</table>\n",
       "</div>"
      ],
      "text/plain": [
       "    Timestamp           InstanceId  node_cpu_utilization  \\\n",
       "0  1664424030  i-04a4b2462d91b8365              0.649978   \n",
       "1  1664424032  i-00f549b1977d71421              0.777477   \n",
       "2  1664424032  i-0b9338508727a6fb2              0.786083   \n",
       "3  1664424034  i-083a68dd2c550b41f              0.597077   \n",
       "4  1664424036  i-0c5d6a0a32608913c              7.095775   \n",
       "\n",
       "   node_memory_utilization  \n",
       "0                14.384109  \n",
       "1                 4.267736  \n",
       "2                 4.950936  \n",
       "3                 8.435321  \n",
       "4                21.414884  "
      ]
     },
     "execution_count": 10,
     "metadata": {},
     "output_type": "execute_result"
    }
   ],
   "source": [
    "node_training_df.head()"
   ]
  },
  {
   "cell_type": "code",
   "execution_count": 11,
   "id": "a493d914-61f0-4ead-a1bb-26f22b58ec75",
   "metadata": {
    "tags": []
   },
   "outputs": [
    {
     "data": {
      "text/plain": [
       "Timestamp                  535834\n",
       "InstanceId                 535834\n",
       "node_cpu_utilization       535834\n",
       "node_memory_utilization    535834\n",
       "dtype: int64"
      ]
     },
     "execution_count": 11,
     "metadata": {},
     "output_type": "execute_result"
    }
   ],
   "source": [
    "node_training_df.count()"
   ]
  },
  {
   "cell_type": "code",
   "execution_count": 12,
   "id": "66d12fec-d2bf-4c20-bc83-da5f89f3fd9c",
   "metadata": {
    "tags": []
   },
   "outputs": [],
   "source": [
    "n_component = 9\n",
    "covariance_type = \"full\"\n",
    "time_steps = 12\n",
    "weight = 2\n",
    "hour_params = 24\n",
    "split_ratio = 0.8"
   ]
  },
  {
   "cell_type": "code",
   "execution_count": null,
   "id": "6fd87c35-1474-4017-8b05-d92a916decb6",
   "metadata": {},
   "outputs": [],
   "source": []
  },
  {
   "cell_type": "code",
   "execution_count": null,
   "id": "7996e97f-4d5a-4348-b550-b14451bfa0b7",
   "metadata": {},
   "outputs": [],
   "source": []
  },
  {
   "cell_type": "code",
   "execution_count": 13,
   "id": "0276b831-3d3c-4b22-9b1c-9d8cc73f2bf9",
   "metadata": {
    "tags": []
   },
   "outputs": [],
   "source": [
    "features = [\"node_cpu_utilization\",\"node_memory_utilization\"]\n",
    "scaled_features = [\"scaled_node_cpu_utilization\",\"scaled_node_memory_utilization\"]"
   ]
  },
  {
   "cell_type": "code",
   "execution_count": 14,
   "id": "9d0b24ad-b613-49c0-bbe1-957e6255dbba",
   "metadata": {
    "tags": []
   },
   "outputs": [],
   "source": [
    "node_training_df['freq'] = node_training_df.groupby('InstanceId')['InstanceId'].transform('count')"
   ]
  },
  {
   "cell_type": "code",
   "execution_count": 15,
   "id": "ab51ef2b-bd32-4b20-ae24-20e923d346ab",
   "metadata": {
    "tags": []
   },
   "outputs": [],
   "source": [
    "filtered_node_df = node_training_df[node_training_df[\"freq\"] > 12]"
   ]
  },
  {
   "cell_type": "code",
   "execution_count": null,
   "id": "d91a1c92-e9d1-4cdd-b729-99a7b8daf912",
   "metadata": {},
   "outputs": [],
   "source": []
  },
  {
   "cell_type": "code",
   "execution_count": 19,
   "id": "735814cc-9abf-499e-b547-a045dec29e30",
   "metadata": {
    "tags": []
   },
   "outputs": [
    {
     "data": {
      "text/plain": [
       "5760"
      ]
     },
     "execution_count": 19,
     "metadata": {},
     "output_type": "execute_result"
    }
   ],
   "source": [
    "sample_size = round(hour_params*1440*weight/time_steps)\n",
    "sample_size"
   ]
  },
  {
   "cell_type": "code",
   "execution_count": 21,
   "id": "6ad13e0c-f1c8-4d54-93f7-049364948b12",
   "metadata": {
    "tags": []
   },
   "outputs": [],
   "source": [
    "selected_node_list = filtered_node_df['InstanceId'].sample(sample_size).to_list()"
   ]
  },
  {
   "cell_type": "code",
   "execution_count": 22,
   "id": "ac10fb70-e33b-484d-a2c0-3ef1c2fd6de4",
   "metadata": {
    "tags": []
   },
   "outputs": [
    {
     "data": {
      "text/plain": [
       "5760"
      ]
     },
     "execution_count": 22,
     "metadata": {},
     "output_type": "execute_result"
    }
   ],
   "source": [
    "len(selected_node_list)"
   ]
  },
  {
   "cell_type": "code",
   "execution_count": 25,
   "id": "83bc59da-3024-43ee-b0a7-6cb38e198e4a",
   "metadata": {
    "tags": []
   },
   "outputs": [],
   "source": [
    "from sklearn.preprocessing import StandardScaler\n",
    "import random\n",
    "\n",
    "def tensor_builder(instance_id):\n",
    "    \n",
    "    features = [\"node_cpu_utilization\",\"node_memory_utilization\"]\n",
    "    scaled_features = [\"scaled_node_cpu_utilization\",\"scaled_node_memory_utilization\"]\n",
    "\n",
    "    ##pick random df, and normalize\n",
    "    node_fe_df = filtered_node_df.loc[(filtered_node_df[\"InstanceId\"] == instance_id)]\n",
    "    node_fe_df = node_fe_df.sort_values(by='Timestamp').reset_index(drop=True)\n",
    "    node_fe_df_len = len(node_fe_df)\n",
    "\n",
    "    #tensor builder\n",
    "    start = random.choice(range(node_fe_df_len-12))\n",
    "    node_fe_df = node_fe_df[start:start+12]\n",
    "\n",
    "    #scaler transformations\n",
    "    scaler = StandardScaler()\n",
    "    node_fe_df[scaled_features] = scaler.fit_transform(node_fe_df[features])\n",
    "\n",
    "    return node_fe_df"
   ]
  },
  {
   "cell_type": "code",
   "execution_count": 26,
   "id": "3f45ae5e-92d8-46b6-b692-ed561f87e829",
   "metadata": {
    "tags": []
   },
   "outputs": [
    {
     "name": "stdout",
     "output_type": "stream",
     "text": [
      "96\n",
      "CPU times: user 1.86 s, sys: 1.17 s, total: 3.03 s\n",
      "Wall time: 6 s\n"
     ]
    }
   ],
   "source": [
    "%%time\n",
    "import multiprocessing\n",
    "\n",
    "num_cores = multiprocessing.cpu_count()\n",
    "print(num_cores)\n",
    "results = multiprocessing.Pool(num_cores).map(tensor_builder, selected_node_list)"
   ]
  },
  {
   "cell_type": "code",
   "execution_count": 27,
   "id": "31d1b884-1e78-4497-ae36-dbb4d17a4e7f",
   "metadata": {
    "tags": []
   },
   "outputs": [
    {
     "data": {
      "text/plain": [
       "5760"
      ]
     },
     "execution_count": 27,
     "metadata": {},
     "output_type": "execute_result"
    }
   ],
   "source": [
    "len(results)"
   ]
  },
  {
   "cell_type": "code",
   "execution_count": 34,
   "id": "699e4296-2f72-4d5c-86b1-e6303c30a787",
   "metadata": {
    "tags": []
   },
   "outputs": [
    {
     "data": {
      "text/plain": [
       "(12, 7)"
      ]
     },
     "execution_count": 34,
     "metadata": {},
     "output_type": "execute_result"
    }
   ],
   "source": [
    "results[647].shape"
   ]
  },
  {
   "cell_type": "code",
   "execution_count": 35,
   "id": "c942d586-78f4-432a-9079-beda75fc3286",
   "metadata": {
    "tags": []
   },
   "outputs": [
    {
     "data": {
      "text/html": [
       "<div>\n",
       "<style scoped>\n",
       "    .dataframe tbody tr th:only-of-type {\n",
       "        vertical-align: middle;\n",
       "    }\n",
       "\n",
       "    .dataframe tbody tr th {\n",
       "        vertical-align: top;\n",
       "    }\n",
       "\n",
       "    .dataframe thead th {\n",
       "        text-align: right;\n",
       "    }\n",
       "</style>\n",
       "<table border=\"1\" class=\"dataframe\">\n",
       "  <thead>\n",
       "    <tr style=\"text-align: right;\">\n",
       "      <th></th>\n",
       "      <th>Timestamp</th>\n",
       "      <th>InstanceId</th>\n",
       "      <th>node_cpu_utilization</th>\n",
       "      <th>node_memory_utilization</th>\n",
       "      <th>freq</th>\n",
       "      <th>scaled_node_cpu_utilization</th>\n",
       "      <th>scaled_node_memory_utilization</th>\n",
       "    </tr>\n",
       "  </thead>\n",
       "  <tbody>\n",
       "    <tr>\n",
       "      <th>73</th>\n",
       "      <td>1664415081</td>\n",
       "      <td>i-0fce1b989f63bca3c</td>\n",
       "      <td>11.443150</td>\n",
       "      <td>2.274137</td>\n",
       "      <td>1169</td>\n",
       "      <td>-1.473668</td>\n",
       "      <td>-1.749892</td>\n",
       "    </tr>\n",
       "    <tr>\n",
       "      <th>74</th>\n",
       "      <td>1664415207</td>\n",
       "      <td>i-0fce1b989f63bca3c</td>\n",
       "      <td>11.448565</td>\n",
       "      <td>2.275410</td>\n",
       "      <td>1169</td>\n",
       "      <td>-0.771999</td>\n",
       "      <td>0.028353</td>\n",
       "    </tr>\n",
       "    <tr>\n",
       "      <th>75</th>\n",
       "      <td>1664415255</td>\n",
       "      <td>i-0fce1b989f63bca3c</td>\n",
       "      <td>11.455987</td>\n",
       "      <td>2.275119</td>\n",
       "      <td>1169</td>\n",
       "      <td>0.189730</td>\n",
       "      <td>-0.378225</td>\n",
       "    </tr>\n",
       "    <tr>\n",
       "      <th>76</th>\n",
       "      <td>1664415321</td>\n",
       "      <td>i-0fce1b989f63bca3c</td>\n",
       "      <td>11.471695</td>\n",
       "      <td>2.275287</td>\n",
       "      <td>1169</td>\n",
       "      <td>2.225067</td>\n",
       "      <td>-0.142837</td>\n",
       "    </tr>\n",
       "    <tr>\n",
       "      <th>77</th>\n",
       "      <td>1664415383</td>\n",
       "      <td>i-0fce1b989f63bca3c</td>\n",
       "      <td>11.455607</td>\n",
       "      <td>2.275146</td>\n",
       "      <td>1169</td>\n",
       "      <td>0.140429</td>\n",
       "      <td>-0.339707</td>\n",
       "    </tr>\n",
       "    <tr>\n",
       "      <th>78</th>\n",
       "      <td>1664415442</td>\n",
       "      <td>i-0fce1b989f63bca3c</td>\n",
       "      <td>11.444745</td>\n",
       "      <td>2.276770</td>\n",
       "      <td>1169</td>\n",
       "      <td>-1.266896</td>\n",
       "      <td>1.928573</td>\n",
       "    </tr>\n",
       "    <tr>\n",
       "      <th>79</th>\n",
       "      <td>1664415493</td>\n",
       "      <td>i-0fce1b989f63bca3c</td>\n",
       "      <td>11.454979</td>\n",
       "      <td>2.275388</td>\n",
       "      <td>1169</td>\n",
       "      <td>0.059058</td>\n",
       "      <td>-0.001605</td>\n",
       "    </tr>\n",
       "    <tr>\n",
       "      <th>80</th>\n",
       "      <td>1664415614</td>\n",
       "      <td>i-0fce1b989f63bca3c</td>\n",
       "      <td>11.456714</td>\n",
       "      <td>2.276061</td>\n",
       "      <td>1169</td>\n",
       "      <td>0.283902</td>\n",
       "      <td>0.937805</td>\n",
       "    </tr>\n",
       "    <tr>\n",
       "      <th>81</th>\n",
       "      <td>1664415748</td>\n",
       "      <td>i-0fce1b989f63bca3c</td>\n",
       "      <td>11.464998</td>\n",
       "      <td>2.274988</td>\n",
       "      <td>1169</td>\n",
       "      <td>1.357317</td>\n",
       "      <td>-0.560115</td>\n",
       "    </tr>\n",
       "    <tr>\n",
       "      <th>82</th>\n",
       "      <td>1664415802</td>\n",
       "      <td>i-0fce1b989f63bca3c</td>\n",
       "      <td>11.448114</td>\n",
       "      <td>2.276580</td>\n",
       "      <td>1169</td>\n",
       "      <td>-0.830471</td>\n",
       "      <td>1.663227</td>\n",
       "    </tr>\n",
       "    <tr>\n",
       "      <th>83</th>\n",
       "      <td>1664415858</td>\n",
       "      <td>i-0fce1b989f63bca3c</td>\n",
       "      <td>11.455009</td>\n",
       "      <td>2.274823</td>\n",
       "      <td>1169</td>\n",
       "      <td>0.063034</td>\n",
       "      <td>-0.791223</td>\n",
       "    </tr>\n",
       "    <tr>\n",
       "      <th>84</th>\n",
       "      <td>1664415921</td>\n",
       "      <td>i-0fce1b989f63bca3c</td>\n",
       "      <td>11.454712</td>\n",
       "      <td>2.274964</td>\n",
       "      <td>1169</td>\n",
       "      <td>0.024496</td>\n",
       "      <td>-0.594353</td>\n",
       "    </tr>\n",
       "  </tbody>\n",
       "</table>\n",
       "</div>"
      ],
      "text/plain": [
       "     Timestamp           InstanceId  node_cpu_utilization  \\\n",
       "73  1664415081  i-0fce1b989f63bca3c             11.443150   \n",
       "74  1664415207  i-0fce1b989f63bca3c             11.448565   \n",
       "75  1664415255  i-0fce1b989f63bca3c             11.455987   \n",
       "76  1664415321  i-0fce1b989f63bca3c             11.471695   \n",
       "77  1664415383  i-0fce1b989f63bca3c             11.455607   \n",
       "78  1664415442  i-0fce1b989f63bca3c             11.444745   \n",
       "79  1664415493  i-0fce1b989f63bca3c             11.454979   \n",
       "80  1664415614  i-0fce1b989f63bca3c             11.456714   \n",
       "81  1664415748  i-0fce1b989f63bca3c             11.464998   \n",
       "82  1664415802  i-0fce1b989f63bca3c             11.448114   \n",
       "83  1664415858  i-0fce1b989f63bca3c             11.455009   \n",
       "84  1664415921  i-0fce1b989f63bca3c             11.454712   \n",
       "\n",
       "    node_memory_utilization  freq  scaled_node_cpu_utilization  \\\n",
       "73                 2.274137  1169                    -1.473668   \n",
       "74                 2.275410  1169                    -0.771999   \n",
       "75                 2.275119  1169                     0.189730   \n",
       "76                 2.275287  1169                     2.225067   \n",
       "77                 2.275146  1169                     0.140429   \n",
       "78                 2.276770  1169                    -1.266896   \n",
       "79                 2.275388  1169                     0.059058   \n",
       "80                 2.276061  1169                     0.283902   \n",
       "81                 2.274988  1169                     1.357317   \n",
       "82                 2.276580  1169                    -0.830471   \n",
       "83                 2.274823  1169                     0.063034   \n",
       "84                 2.274964  1169                     0.024496   \n",
       "\n",
       "    scaled_node_memory_utilization  \n",
       "73                       -1.749892  \n",
       "74                        0.028353  \n",
       "75                       -0.378225  \n",
       "76                       -0.142837  \n",
       "77                       -0.339707  \n",
       "78                        1.928573  \n",
       "79                       -0.001605  \n",
       "80                        0.937805  \n",
       "81                       -0.560115  \n",
       "82                        1.663227  \n",
       "83                       -0.791223  \n",
       "84                       -0.594353  "
      ]
     },
     "execution_count": 35,
     "metadata": {},
     "output_type": "execute_result"
    }
   ],
   "source": [
    "results[647]"
   ]
  },
  {
   "cell_type": "code",
   "execution_count": 36,
   "id": "b939e618-d7ca-4020-b0b3-8d7485682273",
   "metadata": {
    "tags": []
   },
   "outputs": [],
   "source": [
    "node_training_df = pd.concat(results)"
   ]
  },
  {
   "cell_type": "code",
   "execution_count": 37,
   "id": "7cc4b283-72a4-444c-aef9-dce27b342225",
   "metadata": {
    "tags": []
   },
   "outputs": [
    {
     "data": {
      "text/plain": [
       "(69120, 7)"
      ]
     },
     "execution_count": 37,
     "metadata": {},
     "output_type": "execute_result"
    }
   ],
   "source": [
    "node_training_df.shape"
   ]
  },
  {
   "cell_type": "code",
   "execution_count": 38,
   "id": "1a863fa8-f39f-4b33-9d26-f81e485b3c12",
   "metadata": {
    "tags": []
   },
   "outputs": [
    {
     "name": "stdout",
     "output_type": "stream",
     "text": [
      "sucess\n"
     ]
    }
   ],
   "source": [
    "awswrangler_pandas_dataframe_to_s3(node_training_df,  \"dish-5g.core.pd.g.dp.eks.logs.e\", \"node_hmm_ad\", \"v0.0.1\", \"training_2022_9_29\")"
   ]
  }
 ],
 "metadata": {
  "instance_type": "ml.m5.24xlarge",
  "kernelspec": {
   "display_name": "Python 3 (Data Science)",
   "language": "python",
   "name": "python3__SAGEMAKER_INTERNAL__arn:aws:sagemaker:us-east-1:081325390199:image/datascience-1.0"
  },
  "language_info": {
   "codemirror_mode": {
    "name": "ipython",
    "version": 3
   },
   "file_extension": ".py",
   "mimetype": "text/x-python",
   "name": "python",
   "nbconvert_exporter": "python",
   "pygments_lexer": "ipython3",
   "version": "3.7.10"
  }
 },
 "nbformat": 4,
 "nbformat_minor": 5
}
