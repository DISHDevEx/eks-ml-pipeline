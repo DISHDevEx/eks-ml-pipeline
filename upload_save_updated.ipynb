{
 "cells": [
  {
   "cell_type": "code",
   "execution_count": null,
   "id": "2628ccba-1fd8-4322-89f5-9c929f5591ff",
   "metadata": {},
   "outputs": [],
   "source": [
    "!python3 -m pip install -r requirements.txt"
   ]
  },
  {
   "cell_type": "code",
   "execution_count": null,
   "id": "82481fe9-935a-440a-8684-dc3e11b46664",
   "metadata": {},
   "outputs": [],
   "source": [
    "!pip install /root/git/msspackages/dist/msspackages-0.0.7-py3-none-any.whl"
   ]
  },
  {
   "cell_type": "code",
   "execution_count": 2,
   "id": "cd11c122-cc70-4d37-b884-18d05fe080d4",
   "metadata": {
    "tags": []
   },
   "outputs": [],
   "source": [
    "from eks_ml_pipeline import S3Utilities"
   ]
  },
  {
   "cell_type": "code",
   "execution_count": 3,
   "id": "a891c894-1ea4-4108-8c36-b7b09bd930e1",
   "metadata": {
    "tags": []
   },
   "outputs": [],
   "source": [
    "bucket_name = \"dish-5g.core.pd.g.dp.eks.logs.e\"\n",
    "model_name = \"se_util_test\"\n",
    "version = \"v0.0.1\"\n",
    "\n",
    "S3Utills = S3Utilities(bucket_name,model_name,version)"
   ]
  },
  {
   "cell_type": "code",
   "execution_count": 9,
   "id": "70682047-c606-4788-a2e8-9d3e953bd19e",
   "metadata": {
    "tags": []
   },
   "outputs": [],
   "source": [
    "#dummy data\n",
    "import numpy as np\n",
    "container_tensor = np.zeros((8000,25,9))"
   ]
  },
  {
   "cell_type": "code",
   "execution_count": 5,
   "id": "4efb1545-7776-4a7e-b40e-f1c17cf4d9a7",
   "metadata": {
    "tags": []
   },
   "outputs": [],
   "source": [
    "# dummy data\n",
    "import pandas as pd\n",
    "\n",
    "data = {'Name': ['Jai', 'Princi', 'Gaurav', 'Anuj'],\n",
    "    'Height': [5.1, 6.2, 5.1, 5.2],\n",
    "    'Qualification': ['Msc', 'MA', 'Msc', 'Msc']}\n",
    "  \n",
    "  \n",
    "# Convert the dictionary into DataFrame\n",
    "df = pd.DataFrame(data)"
   ]
  },
  {
   "cell_type": "code",
   "execution_count": 6,
   "id": "dba0af9f-f7e2-4d19-a604-0f9cbf6fb4d0",
   "metadata": {
    "tags": []
   },
   "outputs": [
    {
     "name": "stdout",
     "output_type": "stream",
     "text": [
      "Uploaded Path: s3://dish-5g.core.pd.g.dp.eks.logs.e/se_util_test/v0.0.1/data/tensors/test.npy\n"
     ]
    }
   ],
   "source": [
    "# if the tensor is for data pass the data flag\n",
    "# data can be of type train or test\n",
    "S3Utills.write_tensor(container_tensor, \"data\", \"tensors\", \"test.npy\")"
   ]
  },
  {
   "cell_type": "code",
   "execution_count": 7,
   "id": "fbd08235-3c49-4943-9122-a84883fc8bc2",
   "metadata": {
    "tags": []
   },
   "outputs": [
    {
     "name": "stdout",
     "output_type": "stream",
     "text": [
      "tensor read from: s3://dish-5g.core.pd.g.dp.eks.logs.e/se_util_test/v0.0.1/data/tensors/test.npy\n"
     ]
    }
   ],
   "source": [
    "tensor = S3Utills.read_tensor(\"data\", \"tensors\", \"test.npy\")"
   ]
  },
  {
   "cell_type": "code",
   "execution_count": 8,
   "id": "b6e9a5e4-50b6-420e-b2a4-f4ff55a4fa78",
   "metadata": {
    "tags": []
   },
   "outputs": [
    {
     "name": "stdout",
     "output_type": "stream",
     "text": [
      "Uploaded Path: s3://dish-5g.core.pd.g.dp.eks.logs.e/se_util_test/v0.0.1/data/pandas/test1.parquet\n"
     ]
    }
   ],
   "source": [
    "S3Utills.pandas_dataframe_to_s3(df, \"data\", \"pandas\", \"test1.parquet\")"
   ]
  },
  {
   "cell_type": "code",
   "execution_count": 9,
   "id": "a6b01e8c-067a-44da-a790-110c822da6cf",
   "metadata": {
    "tags": []
   },
   "outputs": [
    {
     "name": "stdout",
     "output_type": "stream",
     "text": [
      "uploaded to: s3://dish-5g.core.pd.g.dp.eks.logs.e/se_util_test/v0.0.1/data/pandas/test2.parquet\n"
     ]
    }
   ],
   "source": [
    "S3Utills.awswrangler_pandas_dataframe_to_s3(df, \"data\", \"pandas\", \"test2.parquet\")"
   ]
  },
  {
   "cell_type": "code",
   "execution_count": 10,
   "id": "99a8580d-3c01-4271-8868-5dc95dd1143d",
   "metadata": {},
   "outputs": [
    {
     "name": "stdout",
     "output_type": "stream",
     "text": [
      "file written to: s3://dish-5g.core.pd.g.dp.eks.logs.e/se_util_test/v0.0.1/models/folder_name_in_s3/saved_model.pb\n",
      "file written to: s3://dish-5g.core.pd.g.dp.eks.logs.e/se_util_test/v0.0.1/models/folder_name_in_s3/variables.index\n"
     ]
    }
   ],
   "source": [
    "S3Utills.upload_directory('/root/trained_AutoEncoder',\"models\", \"folder_name_in_s3\")"
   ]
  },
  {
   "cell_type": "code",
   "execution_count": 11,
   "id": "c48aa81e-2265-40b5-895f-5ab4d2a80edc",
   "metadata": {
    "tags": []
   },
   "outputs": [
    {
     "name": "stdout",
     "output_type": "stream",
     "text": [
      "Uploaded Path: s3://dish-5g.core.pd.g.dp.eks.logs.e/se_util_test/v0.0.1/models/zipped_file/file_name.zip\n"
     ]
    }
   ],
   "source": [
    "S3Utills.zip_and_upload(\"/root/trained_AutoEncoder\",\"models\", \"zipped_file\", \"file_name.zip\")"
   ]
  },
  {
   "cell_type": "code",
   "execution_count": 12,
   "id": "32b6728a-08df-4f86-892c-6a4a760ebd80",
   "metadata": {
    "tags": []
   },
   "outputs": [
    {
     "name": "stdout",
     "output_type": "stream",
     "text": [
      "Downloaded file to: /root/temp/123.zip\n"
     ]
    }
   ],
   "source": [
    "S3Utills.download_zip(\"/root/temp/123.zip\",\"models\", \"zipped_file\", \"file_name.zip\")"
   ]
  },
  {
   "cell_type": "code",
   "execution_count": 13,
   "id": "92213855-a631-4287-a499-342010bfc5e3",
   "metadata": {
    "tags": []
   },
   "outputs": [
    {
     "name": "stdout",
     "output_type": "stream",
     "text": [
      "unzipped at: /root/temp\n"
     ]
    }
   ],
   "source": [
    "S3Utills.unzip(\"/root/temp/123.zip\",\"/root/temp\")"
   ]
  },
  {
   "cell_type": "code",
   "execution_count": 14,
   "id": "2f206dd9-f9eb-4b50-a957-e1fd83a5041d",
   "metadata": {
    "tags": []
   },
   "outputs": [
    {
     "name": "stdout",
     "output_type": "stream",
     "text": [
      "Uploaded Path: s3://dish-5g.core.pd.g.dp.eks.logs.e/anyfile/test.py\n"
     ]
    }
   ],
   "source": [
    "S3Utills.upload_file(\"/root/test.py\", bucket_name, \"anyfile/test.py\")"
   ]
  },
  {
   "cell_type": "code",
   "execution_count": 15,
   "id": "c07ef4c4-3b74-4943-a1e5-9eb11e1af7fc",
   "metadata": {
    "tags": []
   },
   "outputs": [
    {
     "name": "stdout",
     "output_type": "stream",
     "text": [
      "Downloaded file to: /root/test123.py\n"
     ]
    }
   ],
   "source": [
    "S3Utills.download_file(\"/root/test123.py\", bucket_name, \"anyfile/test.py\")"
   ]
  }
 ],
 "metadata": {
  "instance_type": "ml.m5.24xlarge",
  "kernelspec": {
   "display_name": "Python 3 (Data Science)",
   "language": "python",
   "name": "python3__SAGEMAKER_INTERNAL__arn:aws:sagemaker:us-east-1:081325390199:image/datascience-1.0"
  },
  "language_info": {
   "codemirror_mode": {
    "name": "ipython",
    "version": 3
   },
   "file_extension": ".py",
   "mimetype": "text/x-python",
   "name": "python",
   "nbconvert_exporter": "python",
   "pygments_lexer": "ipython3",
   "version": "3.7.10"
  }
 },
 "nbformat": 4,
 "nbformat_minor": 5
}
