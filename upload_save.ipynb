{
 "cells": [
  {
   "cell_type": "code",
   "execution_count": null,
   "id": "0b87c013-fc5b-446d-b631-cf9f79f95c57",
   "metadata": {
    "tags": []
   },
   "outputs": [],
   "source": [
    "from eks_ml_pipeline import write_tensor, read_tensor, uploadDirectory , write_parquet, download_zip, upload_zip, unzip, pandas_dataframe_to_s3, awswrangler_pandas_dataframe_to_s3"
   ]
  },
  {
   "cell_type": "code",
   "execution_count": null,
   "id": "a891c894-1ea4-4108-8c36-b7b09bd930e1",
   "metadata": {},
   "outputs": [],
   "source": [
    "bucket_name = \"dish-5g.core.pd.g.dp.eks.logs.e\"\n",
    "model_name = \"pandas_df_write_test1\"\n",
    "version = \"v0.0.1\"\n",
    "file = \"zip_test\""
   ]
  },
  {
   "cell_type": "code",
   "execution_count": null,
   "id": "70682047-c606-4788-a2e8-9d3e953bd19e",
   "metadata": {},
   "outputs": [],
   "source": [
    "#dummy data\n",
    "import numpy as np\n",
    "container_tensor = np.zeros((8000,25,3))"
   ]
  },
  {
   "cell_type": "code",
   "execution_count": null,
   "id": "dba0af9f-f7e2-4d19-a604-0f9cbf6fb4d0",
   "metadata": {
    "tags": []
   },
   "outputs": [],
   "source": [
    "# model can be train or test\n",
    "write_tensor(container_tensor,bucket_name,model_name,version,\"train\")"
   ]
  },
  {
   "cell_type": "code",
   "execution_count": null,
   "id": "f36e2c9a-9321-4794-90b3-55511a025ebf",
   "metadata": {},
   "outputs": [],
   "source": [
    "array = read_tensor(bucket_name, model_name,version,\"train\")"
   ]
  },
  {
   "cell_type": "code",
   "execution_count": null,
   "id": "99a8580d-3c01-4271-8868-5dc95dd1143d",
   "metadata": {},
   "outputs": [],
   "source": [
    "uploadDirectory('/root/trained_AutoEncoder',bucket_name,model_name,version)"
   ]
  },
  {
   "cell_type": "code",
   "execution_count": null,
   "id": "7a28cc17-2acf-4938-a716-f2caefea7278",
   "metadata": {},
   "outputs": [],
   "source": [
    "write_parquet(df,bucket_name,model_name,version,model_data_type)"
   ]
  },
  {
   "cell_type": "code",
   "execution_count": null,
   "id": "c1cbdcaf-6b3f-4b10-b998-007f60948625",
   "metadata": {
    "tags": []
   },
   "outputs": [],
   "source": [
    "local_path = '/root/trained_AutoEncoder'\n",
    "upload_zip(local_path, bucket_name, model_name, version, file)"
   ]
  },
  {
   "cell_type": "code",
   "execution_count": null,
   "id": "b830b1d3-2325-4dc6-ab16-f8d01ce1fd4c",
   "metadata": {},
   "outputs": [],
   "source": [
    "download_path = '/root/zip_test.zip'\n",
    "download_zip(download_path, bucket_name, model_name, version, file)"
   ]
  },
  {
   "cell_type": "code",
   "execution_count": null,
   "id": "c583d9fc-0741-4c7c-a605-57be6999e673",
   "metadata": {
    "tags": []
   },
   "outputs": [],
   "source": [
    "path_to_zip = '/root/zip_test.zip'\n",
    "extract_location = '/root/test'\n",
    "unzip(path_to_zip, extract_location)"
   ]
  },
  {
   "cell_type": "code",
   "execution_count": null,
   "id": "553e8185-7a95-44e9-a75b-47d51323d6d3",
   "metadata": {
    "tags": []
   },
   "outputs": [],
   "source": [
    "# dummy data\n",
    "import pandas as pd\n",
    "\n",
    "data = {'Name': ['Jai', 'Princi', 'Gaurav', 'Anuj'],\n",
    "    'Height': [5.1, 6.2, 5.1, 5.2],\n",
    "    'Qualification': ['Msc', 'MA', 'Msc', 'Msc']}\n",
    "  \n",
    "  \n",
    "# Convert the dictionary into DataFrame\n",
    "df = pd.DataFrame(data)"
   ]
  },
  {
   "cell_type": "code",
   "execution_count": null,
   "id": "c844b9e9-5060-40e3-ac00-622d2b5ab283",
   "metadata": {
    "tags": []
   },
   "outputs": [],
   "source": [
    "pandas_dataframe_to_s3(df, bucket_name,model_name,version,'train')"
   ]
  },
  {
   "cell_type": "code",
   "execution_count": null,
   "id": "4cfd4b44-0b14-4fd4-afce-117d70fa4e33",
   "metadata": {
    "tags": []
   },
   "outputs": [],
   "source": [
    "awswrangler_pandas_dataframe_to_s3(df, bucket_name, model_name,version, 'test')"
   ]
  }
 ],
 "metadata": {
  "instance_type": "ml.t3.medium",
  "kernelspec": {
   "display_name": "Python 3 (Data Science)",
   "language": "python",
   "name": "python3__SAGEMAKER_INTERNAL__arn:aws:sagemaker:us-east-1:081325390199:image/datascience-1.0"
  },
  "language_info": {
   "codemirror_mode": {
    "name": "ipython",
    "version": 3
   },
   "file_extension": ".py",
   "mimetype": "text/x-python",
   "name": "python",
   "nbconvert_exporter": "python",
   "pygments_lexer": "ipython3",
   "version": "3.7.10"
  }
 },
 "nbformat": 4,
 "nbformat_minor": 5
}
