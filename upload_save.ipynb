{
 "cells": [
  {
   "cell_type": "code",
   "execution_count": null,
   "id": "0b87c013-fc5b-446d-b631-cf9f79f95c57",
   "metadata": {
    "tags": []
   },
   "outputs": [],
   "source": [
    "from eks_ml_pipeline import write_tensor, read_tensor, uploadDirectory , write_parquet, download_zip, upload_zip, unzip, pandas_dataframe_to_s3, awswrangler_pandas_dataframe_to_s3"
   ]
  },
  {
   "cell_type": "code",
   "execution_count": null,
   "id": "6e8fa680-3c88-46f8-9288-504d02709405",
   "metadata": {
    "tags": []
   },
   "outputs": [],
   "source": [
    "!python3 -m pip install -r requirements.txt"
   ]
  },
  {
   "cell_type": "code",
   "execution_count": null,
   "id": "a891c894-1ea4-4108-8c36-b7b09bd930e1",
   "metadata": {
    "tags": []
   },
   "outputs": [],
   "source": [
    "bucket_name = \"dish-5g.core.pd.g.dp.eks.logs.e\"\n",
    "model_name = \"tensor_write_test1\"\n",
    "version = \"v0.0.1\"\n",
    "file = \"zip_test\""
   ]
  },
  {
   "cell_type": "code",
   "execution_count": null,
   "id": "70682047-c606-4788-a2e8-9d3e953bd19e",
   "metadata": {
    "tags": []
   },
   "outputs": [],
   "source": [
    "#dummy data\n",
    "import numpy as np\n",
    "container_tensor = np.zeros((8000,25,3))"
   ]
  },
  {
   "cell_type": "code",
   "execution_count": null,
   "id": "dba0af9f-f7e2-4d19-a604-0f9cbf6fb4d0",
   "metadata": {
    "tags": []
   },
   "outputs": [],
   "source": [
    "# if the tensor is for data pass the data flag\n",
    "# data can be of type train or test\n",
    "write_tensor(container_tensor,bucket_name,model_name,version,\"data\",\"train\")"
   ]
  },
  {
   "cell_type": "code",
   "execution_count": null,
   "id": "240e3c63-7965-4699-af3e-23c3dc915b39",
   "metadata": {
    "tags": []
   },
   "outputs": [],
   "source": [
    "# if the tensor is for model pass the model flag so the file gets written to the model folder\n",
    "write_tensor(container_tensor,bucket_name,model_name,version,\"model\",\"train\")"
   ]
  },
  {
   "cell_type": "code",
   "execution_count": null,
   "id": "f36e2c9a-9321-4794-90b3-55511a025ebf",
   "metadata": {},
   "outputs": [],
   "source": [
    "array = read_tensor(bucket_name, model_name,version,\"train\")"
   ]
  },
  {
   "cell_type": "code",
   "execution_count": null,
   "id": "99a8580d-3c01-4271-8868-5dc95dd1143d",
   "metadata": {},
   "outputs": [],
   "source": [
    "uploadDirectory('/root/trained_AutoEncoder',bucket_name,model_name,version)"
   ]
  },
  {
   "cell_type": "code",
   "execution_count": null,
   "id": "7a28cc17-2acf-4938-a716-f2caefea7278",
   "metadata": {},
   "outputs": [],
   "source": [
    "write_parquet(df,bucket_name,model_name,version,model_data_type)"
   ]
  },
  {
   "cell_type": "code",
   "execution_count": null,
   "id": "c1cbdcaf-6b3f-4b10-b998-007f60948625",
   "metadata": {
    "tags": []
   },
   "outputs": [],
   "source": [
    "local_path = '/root/trained_AutoEncoder'\n",
    "upload_zip(local_path, bucket_name, model_name, version, file)"
   ]
  },
  {
   "cell_type": "code",
   "execution_count": null,
   "id": "b830b1d3-2325-4dc6-ab16-f8d01ce1fd4c",
   "metadata": {},
   "outputs": [],
   "source": [
    "download_path = '/root/zip_test.zip'\n",
    "download_zip(download_path, bucket_name, model_name, version, file)"
   ]
  },
  {
   "cell_type": "code",
   "execution_count": null,
   "id": "c583d9fc-0741-4c7c-a605-57be6999e673",
   "metadata": {
    "tags": []
   },
   "outputs": [],
   "source": [
    "path_to_zip = '/root/zip_test.zip'\n",
    "extract_location = '/root/test'\n",
    "unzip(path_to_zip, extract_location)"
   ]
  },
  {
   "cell_type": "code",
   "execution_count": null,
   "id": "553e8185-7a95-44e9-a75b-47d51323d6d3",
   "metadata": {
    "tags": []
   },
   "outputs": [],
   "source": [
    "# dummy data\n",
    "import pandas as pd\n",
    "\n",
    "data = {'Name': ['Jai', 'Princi', 'Gaurav', 'Anuj'],\n",
    "    'Height': [5.1, 6.2, 5.1, 5.2],\n",
    "    'Qualification': ['Msc', 'MA', 'Msc', 'Msc']}\n",
    "  \n",
    "  \n",
    "# Convert the dictionary into DataFrame\n",
    "df = pd.DataFrame(data)"
   ]
  },
  {
   "cell_type": "code",
   "execution_count": null,
   "id": "c844b9e9-5060-40e3-ac00-622d2b5ab283",
   "metadata": {
    "tags": []
   },
   "outputs": [],
   "source": [
    "pandas_dataframe_to_s3(df, bucket_name,model_name,version,'train')"
   ]
  },
  {
   "cell_type": "code",
   "execution_count": null,
   "id": "4cfd4b44-0b14-4fd4-afce-117d70fa4e33",
   "metadata": {
    "tags": []
   },
   "outputs": [],
   "source": [
    "awswrangler_pandas_dataframe_to_s3(df, bucket_name, model_name,version, 'test')"
   ]
  },
  {
   "cell_type": "code",
   "execution_count": null,
   "id": "07c43926-07c2-47b1-8b79-f36eb8db1970",
   "metadata": {},
   "outputs": [],
   "source": []
  },
  {
   "cell_type": "code",
   "execution_count": 2,
   "id": "1ae8ece7-deaa-495f-a09c-01819af2a496",
   "metadata": {
    "collapsed": true,
    "jupyter": {
     "outputs_hidden": true
    },
    "tags": []
   },
   "outputs": [
    {
     "name": "stdout",
     "output_type": "stream",
     "text": [
      "Keyring is skipped due to an exception: 'keyring.backends'\n",
      "Processing /root/msspackages/dist/msspackages-0.0.7-py3-none-any.whl\n",
      "Requirement already satisfied: numpy in /opt/conda/lib/python3.7/site-packages (from msspackages==0.0.7) (1.21.6)\n",
      "Requirement already satisfied: pandas in /opt/conda/lib/python3.7/site-packages (from msspackages==0.0.7) (1.3.5)\n",
      "Collecting pyspark\n",
      "  Using cached pyspark-3.3.1-py2.py3-none-any.whl\n",
      "Requirement already satisfied: dask in /opt/conda/lib/python3.7/site-packages (from msspackages==0.0.7) (2022.2.0)\n",
      "Requirement already satisfied: tqdm in /opt/conda/lib/python3.7/site-packages (from msspackages==0.0.7) (4.42.1)\n",
      "Collecting configparser\n",
      "  Using cached configparser-5.3.0-py3-none-any.whl (19 kB)\n",
      "Requirement already satisfied: fsspec>=0.6.0 in /opt/conda/lib/python3.7/site-packages (from dask->msspackages==0.0.7) (2022.11.0)\n",
      "Requirement already satisfied: partd>=0.3.10 in /opt/conda/lib/python3.7/site-packages (from dask->msspackages==0.0.7) (1.1.0)\n",
      "Requirement already satisfied: pyyaml>=5.3.1 in /opt/conda/lib/python3.7/site-packages (from dask->msspackages==0.0.7) (6.0)\n",
      "Requirement already satisfied: cloudpickle>=1.1.1 in /opt/conda/lib/python3.7/site-packages (from dask->msspackages==0.0.7) (2.2.0)\n",
      "Requirement already satisfied: toolz>=0.8.2 in /opt/conda/lib/python3.7/site-packages (from dask->msspackages==0.0.7) (0.10.0)\n",
      "Requirement already satisfied: packaging>=20.0 in /opt/conda/lib/python3.7/site-packages (from dask->msspackages==0.0.7) (20.1)\n",
      "Requirement already satisfied: python-dateutil>=2.7.3 in /opt/conda/lib/python3.7/site-packages (from pandas->msspackages==0.0.7) (2.8.2)\n",
      "Requirement already satisfied: pytz>=2017.3 in /opt/conda/lib/python3.7/site-packages (from pandas->msspackages==0.0.7) (2019.3)\n",
      "Collecting py4j==0.10.9.5\n",
      "  Using cached py4j-0.10.9.5-py2.py3-none-any.whl (199 kB)\n",
      "Requirement already satisfied: pyparsing>=2.0.2 in /opt/conda/lib/python3.7/site-packages (from packaging>=20.0->dask->msspackages==0.0.7) (2.4.6)\n",
      "Requirement already satisfied: six in /opt/conda/lib/python3.7/site-packages (from packaging>=20.0->dask->msspackages==0.0.7) (1.14.0)\n",
      "Requirement already satisfied: locket in /opt/conda/lib/python3.7/site-packages (from partd>=0.3.10->dask->msspackages==0.0.7) (0.2.0)\n",
      "Installing collected packages: py4j, pyspark, configparser, msspackages\n",
      "Successfully installed configparser-5.3.0 msspackages-0.0.7 py4j-0.10.9.5 pyspark-3.3.1\n",
      "\u001b[33mWARNING: Running pip as the 'root' user can result in broken permissions and conflicting behaviour with the system package manager. It is recommended to use a virtual environment instead: https://pip.pypa.io/warnings/venv\u001b[0m\u001b[33m\n",
      "\u001b[0m"
     ]
    }
   ],
   "source": [
    "!pip install /root/msspackages/dist/msspackages-0.0.7-py3-none-any.whl"
   ]
  },
  {
   "cell_type": "code",
   "execution_count": 3,
   "id": "eae3f9ac-89eb-450a-abe5-72de3f4caa38",
   "metadata": {
    "collapsed": true,
    "jupyter": {
     "outputs_hidden": true
    },
    "tags": []
   },
   "outputs": [
    {
     "name": "stdout",
     "output_type": "stream",
     "text": [
      "Keyring is skipped due to an exception: 'keyring.backends'\n",
      "Requirement already satisfied: pyspark>=3.3.0 in /opt/conda/lib/python3.7/site-packages (from -r requirements.txt (line 1)) (3.3.1)\n",
      "Requirement already satisfied: pandas>=1.3.5 in /opt/conda/lib/python3.7/site-packages (from -r requirements.txt (line 2)) (1.3.5)\n",
      "Collecting keras>=2.11.0\n",
      "  Using cached keras-2.11.0-py2.py3-none-any.whl (1.7 MB)\n",
      "Collecting tensorflow>=2.11.0\n",
      "  Using cached tensorflow-2.11.0-cp37-cp37m-manylinux_2_17_x86_64.manylinux2014_x86_64.whl (588.3 MB)\n",
      "Collecting matplotlib>=3.5.3\n",
      "  Using cached matplotlib-3.5.3-cp37-cp37m-manylinux_2_5_x86_64.manylinux1_x86_64.whl (11.2 MB)\n",
      "Requirement already satisfied: numpy>=1.21.6 in /opt/conda/lib/python3.7/site-packages (from -r requirements.txt (line 6)) (1.21.6)\n",
      "Requirement already satisfied: dill>=0.3.6 in /opt/conda/lib/python3.7/site-packages (from -r requirements.txt (line 7)) (0.3.6)\n",
      "Collecting scikit_learn>=1.0.2\n",
      "  Using cached scikit_learn-1.0.2-cp37-cp37m-manylinux_2_17_x86_64.manylinux2014_x86_64.whl (24.8 MB)\n",
      "Requirement already satisfied: statsmodels>=0.11.0 in /opt/conda/lib/python3.7/site-packages (from -r requirements.txt (line 9)) (0.11.0)\n",
      "Collecting boto3>=1.26.29\n",
      "  Downloading boto3-1.26.38-py3-none-any.whl (132 kB)\n",
      "\u001b[2K     \u001b[90m━━━━━━━━━━━━━━━━━━━━━━━━━━━━━━━━━━━━━━━\u001b[0m \u001b[32m132.7/132.7 kB\u001b[0m \u001b[31m1.9 MB/s\u001b[0m eta \u001b[36m0:00:00\u001b[0ma \u001b[36m0:00:01\u001b[0m\n",
      "\u001b[?25hCollecting awswrangler>=2.18.0\n",
      "  Using cached awswrangler-2.18.0-py3-none-any.whl (255 kB)\n",
      "Requirement already satisfied: pyarrow>=10.0.0 in /opt/conda/lib/python3.7/site-packages (from -r requirements.txt (line 12)) (10.0.1)\n",
      "Collecting fast-arrow>=1.0.3\n",
      "  Using cached fast_arrow-1.0.3-py3-none-any.whl (163 kB)\n",
      "Collecting tf2onnx>=1.13.0\n",
      "  Downloading tf2onnx-1.13.0-py3-none-any.whl (442 kB)\n",
      "\u001b[2K     \u001b[90m━━━━━━━━━━━━━━━━━━━━━━━━━━━━━━━━━━━━━━━\u001b[0m \u001b[32m442.3/442.3 kB\u001b[0m \u001b[31m5.6 MB/s\u001b[0m eta \u001b[36m0:00:00\u001b[0m00:01\u001b[0m\n",
      "\u001b[?25hRequirement already satisfied: py4j==0.10.9.5 in /opt/conda/lib/python3.7/site-packages (from pyspark>=3.3.0->-r requirements.txt (line 1)) (0.10.9.5)\n",
      "Requirement already satisfied: python-dateutil>=2.7.3 in /opt/conda/lib/python3.7/site-packages (from pandas>=1.3.5->-r requirements.txt (line 2)) (2.8.2)\n",
      "Requirement already satisfied: pytz>=2017.3 in /opt/conda/lib/python3.7/site-packages (from pandas>=1.3.5->-r requirements.txt (line 2)) (2019.3)\n",
      "Collecting astunparse>=1.6.0\n",
      "  Using cached astunparse-1.6.3-py2.py3-none-any.whl (12 kB)\n",
      "Collecting opt-einsum>=2.3.2\n",
      "  Using cached opt_einsum-3.3.0-py3-none-any.whl (65 kB)\n",
      "Requirement already satisfied: typing-extensions>=3.6.6 in /opt/conda/lib/python3.7/site-packages (from tensorflow>=2.11.0->-r requirements.txt (line 4)) (4.4.0)\n",
      "Collecting tensorflow-io-gcs-filesystem>=0.23.1\n",
      "  Downloading tensorflow_io_gcs_filesystem-0.29.0-cp37-cp37m-manylinux_2_12_x86_64.manylinux2010_x86_64.whl (2.4 MB)\n",
      "\u001b[2K     \u001b[90m━━━━━━━━━━━━━━━━━━━━━━━━━━━━━━━━━━━━━━━━\u001b[0m \u001b[32m2.4/2.4 MB\u001b[0m \u001b[31m21.8 MB/s\u001b[0m eta \u001b[36m0:00:00\u001b[0m:00:01\u001b[0m\n",
      "\u001b[?25hCollecting termcolor>=1.1.0\n",
      "  Using cached termcolor-2.1.1-py3-none-any.whl (6.2 kB)\n",
      "Requirement already satisfied: packaging in /opt/conda/lib/python3.7/site-packages (from tensorflow>=2.11.0->-r requirements.txt (line 4)) (20.1)\n",
      "Requirement already satisfied: setuptools in /opt/conda/lib/python3.7/site-packages (from tensorflow>=2.11.0->-r requirements.txt (line 4)) (59.3.0)\n",
      "Collecting gast<=0.4.0,>=0.2.1\n",
      "  Using cached gast-0.4.0-py3-none-any.whl (9.8 kB)\n",
      "Requirement already satisfied: h5py>=2.9.0 in /opt/conda/lib/python3.7/site-packages (from tensorflow>=2.11.0->-r requirements.txt (line 4)) (2.10.0)\n",
      "Collecting flatbuffers>=2.0\n",
      "  Using cached flatbuffers-22.12.6-py2.py3-none-any.whl (26 kB)\n",
      "Collecting grpcio<2.0,>=1.24.3\n",
      "  Using cached grpcio-1.51.1-cp37-cp37m-manylinux_2_17_x86_64.manylinux2014_x86_64.whl (4.8 MB)\n",
      "Requirement already satisfied: six>=1.12.0 in /opt/conda/lib/python3.7/site-packages (from tensorflow>=2.11.0->-r requirements.txt (line 4)) (1.14.0)\n",
      "Collecting tensorflow-estimator<2.12,>=2.11.0\n",
      "  Using cached tensorflow_estimator-2.11.0-py2.py3-none-any.whl (439 kB)\n",
      "Requirement already satisfied: google-pasta>=0.1.1 in /opt/conda/lib/python3.7/site-packages (from tensorflow>=2.11.0->-r requirements.txt (line 4)) (0.2.0)\n",
      "Collecting protobuf<3.20,>=3.9.2\n",
      "  Using cached protobuf-3.19.6-cp37-cp37m-manylinux_2_17_x86_64.manylinux2014_x86_64.whl (1.1 MB)\n",
      "Collecting libclang>=13.0.0\n",
      "  Using cached libclang-14.0.6-py2.py3-none-manylinux2010_x86_64.whl (14.1 MB)\n",
      "Requirement already satisfied: wrapt>=1.11.0 in /opt/conda/lib/python3.7/site-packages (from tensorflow>=2.11.0->-r requirements.txt (line 4)) (1.11.2)\n",
      "Collecting absl-py>=1.0.0\n",
      "  Using cached absl_py-1.3.0-py3-none-any.whl (124 kB)\n",
      "Collecting tensorboard<2.12,>=2.11\n",
      "  Using cached tensorboard-2.11.0-py3-none-any.whl (6.0 MB)\n",
      "Collecting fonttools>=4.22.0\n",
      "  Using cached fonttools-4.38.0-py3-none-any.whl (965 kB)\n",
      "Requirement already satisfied: cycler>=0.10 in /opt/conda/lib/python3.7/site-packages (from matplotlib>=3.5.3->-r requirements.txt (line 5)) (0.10.0)\n",
      "Requirement already satisfied: kiwisolver>=1.0.1 in /opt/conda/lib/python3.7/site-packages (from matplotlib>=3.5.3->-r requirements.txt (line 5)) (1.1.0)\n",
      "Requirement already satisfied: pillow>=6.2.0 in /opt/conda/lib/python3.7/site-packages (from matplotlib>=3.5.3->-r requirements.txt (line 5)) (9.3.0)\n",
      "Requirement already satisfied: pyparsing>=2.2.1 in /opt/conda/lib/python3.7/site-packages (from matplotlib>=3.5.3->-r requirements.txt (line 5)) (2.4.6)\n",
      "Requirement already satisfied: joblib>=0.11 in /opt/conda/lib/python3.7/site-packages (from scikit_learn>=1.0.2->-r requirements.txt (line 8)) (0.14.1)\n",
      "Collecting threadpoolctl>=2.0.0\n",
      "  Using cached threadpoolctl-3.1.0-py3-none-any.whl (14 kB)\n",
      "Requirement already satisfied: scipy>=1.1.0 in /opt/conda/lib/python3.7/site-packages (from scikit_learn>=1.0.2->-r requirements.txt (line 8)) (1.4.1)\n",
      "Requirement already satisfied: patsy>=0.5 in /opt/conda/lib/python3.7/site-packages (from statsmodels>=0.11.0->-r requirements.txt (line 9)) (0.5.1)\n",
      "Requirement already satisfied: jmespath<2.0.0,>=0.7.1 in /opt/conda/lib/python3.7/site-packages (from boto3>=1.26.29->-r requirements.txt (line 10)) (1.0.1)\n",
      "Requirement already satisfied: s3transfer<0.7.0,>=0.6.0 in /opt/conda/lib/python3.7/site-packages (from boto3>=1.26.29->-r requirements.txt (line 10)) (0.6.0)\n",
      "Collecting botocore<1.30.0,>=1.29.38\n",
      "  Downloading botocore-1.29.38-py3-none-any.whl (10.3 MB)\n",
      "\u001b[2K     \u001b[90m━━━━━━━━━━━━━━━━━━━━━━━━━━━━━━━━━━━━━━━━\u001b[0m \u001b[32m10.3/10.3 MB\u001b[0m \u001b[31m47.3 MB/s\u001b[0m eta \u001b[36m0:00:00\u001b[0m00:01\u001b[0m00:01\u001b[0m\n",
      "\u001b[?25hCollecting progressbar2<5.0.0,>=4.0.0\n",
      "  Using cached progressbar2-4.2.0-py2.py3-none-any.whl (27 kB)\n",
      "Collecting requests-aws4auth<2.0.0,>=1.1.1\n",
      "  Using cached requests_aws4auth-1.1.2-py2.py3-none-any.whl (24 kB)\n",
      "Collecting jsonpath-ng<2.0.0,>=1.5.3\n",
      "  Using cached jsonpath_ng-1.5.3-py3-none-any.whl (29 kB)\n",
      "Collecting redshift-connector<2.1.0,>=2.0.889\n",
      "  Using cached redshift_connector-2.0.909-py3-none-any.whl (112 kB)\n",
      "Collecting pymysql<2.0.0,>=1.0.0\n",
      "  Using cached PyMySQL-1.0.2-py3-none-any.whl (43 kB)\n",
      "Collecting pg8000<2.0.0,>=1.20.0\n",
      "  Using cached pg8000-1.29.4-py3-none-any.whl (51 kB)\n",
      "Collecting gremlinpython<4.0.0,>=3.5.2\n",
      "  Using cached gremlinpython-3.6.1-py2.py3-none-any.whl (73 kB)\n",
      "Requirement already satisfied: openpyxl<3.1.0,>=3.0.0 in /opt/conda/lib/python3.7/site-packages (from awswrangler>=2.18.0->-r requirements.txt (line 11)) (3.0.3)\n",
      "Collecting opensearch-py<3,>=1\n",
      "  Using cached opensearch_py-2.0.1-py2.py3-none-any.whl (214 kB)\n",
      "Collecting backoff<3.0.0,>=1.11.1\n",
      "  Using cached backoff-2.2.1-py3-none-any.whl (15 kB)\n",
      "Requirement already satisfied: pathlib2 in /opt/conda/lib/python3.7/site-packages (from fast-arrow>=1.0.3->-r requirements.txt (line 13)) (2.3.5)\n",
      "Requirement already satisfied: yarl in /opt/conda/lib/python3.7/site-packages (from fast-arrow>=1.0.3->-r requirements.txt (line 13)) (1.8.2)\n",
      "Collecting deprecation\n",
      "  Using cached deprecation-2.1.0-py2.py3-none-any.whl (11 kB)\n",
      "Requirement already satisfied: requests>=2.20.0 in /opt/conda/lib/python3.7/site-packages (from fast-arrow>=1.0.3->-r requirements.txt (line 13)) (2.28.1)\n",
      "Collecting datetime\n",
      "  Downloading DateTime-4.9-py2.py3-none-any.whl (52 kB)\n",
      "\u001b[2K     \u001b[90m━━━━━━━━━━━━━━━━━━━━━━━━━━━━━━━━━━━━━━━━\u001b[0m \u001b[32m52.4/52.4 kB\u001b[0m \u001b[31m1.3 MB/s\u001b[0m eta \u001b[36m0:00:00\u001b[0m\n",
      "\u001b[?25hRequirement already satisfied: urllib3>=1.24.2 in /opt/conda/lib/python3.7/site-packages (from fast-arrow>=1.0.3->-r requirements.txt (line 13)) (1.26.13)\n",
      "Collecting flatbuffers>=2.0\n",
      "  Downloading flatbuffers-2.0.7-py2.py3-none-any.whl (26 kB)\n",
      "Collecting onnx>=1.4.1\n",
      "  Downloading onnx-1.13.0-cp37-cp37m-manylinux_2_17_x86_64.manylinux2014_x86_64.whl (13.5 MB)\n",
      "\u001b[2K     \u001b[90m━━━━━━━━━━━━━━━━━━━━━━━━━━━━━━━━━━━━━━━━\u001b[0m \u001b[32m13.5/13.5 MB\u001b[0m \u001b[31m44.7 MB/s\u001b[0m eta \u001b[36m0:00:00\u001b[0m00:01\u001b[0m00:01\u001b[0m\n",
      "\u001b[?25hRequirement already satisfied: wheel<1.0,>=0.23.0 in /opt/conda/lib/python3.7/site-packages (from astunparse>=1.6.0->tensorflow>=2.11.0->-r requirements.txt (line 4)) (0.34.2)\n",
      "Collecting aenum<4.0.0,>=1.4.5\n",
      "  Using cached aenum-3.1.11-py3-none-any.whl (131 kB)\n",
      "Collecting isodate<1.0.0,>=0.6.0\n",
      "  Using cached isodate-0.6.1-py2.py3-none-any.whl (41 kB)\n",
      "Requirement already satisfied: nest-asyncio in /opt/conda/lib/python3.7/site-packages (from gremlinpython<4.0.0,>=3.5.2->awswrangler>=2.18.0->-r requirements.txt (line 11)) (1.5.6)\n",
      "Collecting aiohttp<=3.8.1,>=3.8.0\n",
      "  Using cached aiohttp-3.8.1-cp37-cp37m-manylinux_2_5_x86_64.manylinux1_x86_64.manylinux_2_12_x86_64.manylinux2010_x86_64.whl (1.1 MB)\n",
      "Requirement already satisfied: ply in /opt/conda/lib/python3.7/site-packages (from jsonpath-ng<2.0.0,>=1.5.3->awswrangler>=2.18.0->-r requirements.txt (line 11)) (3.11)\n",
      "Requirement already satisfied: decorator in /opt/conda/lib/python3.7/site-packages (from jsonpath-ng<2.0.0,>=1.5.3->awswrangler>=2.18.0->-r requirements.txt (line 11)) (4.4.1)\n",
      "Collecting onnx>=1.4.1\n",
      "  Downloading onnx-1.12.0-cp37-cp37m-manylinux_2_17_x86_64.manylinux2014_x86_64.whl (13.1 MB)\n",
      "\u001b[2K     \u001b[90m━━━━━━━━━━━━━━━━━━━━━━━━━━━━━━━━━━━━━━━━\u001b[0m \u001b[32m13.1/13.1 MB\u001b[0m \u001b[31m42.4 MB/s\u001b[0m eta \u001b[36m0:00:00\u001b[0m00:01\u001b[0m00:01\u001b[0m\n",
      "\u001b[?25hRequirement already satisfied: et-xmlfile in /opt/conda/lib/python3.7/site-packages (from openpyxl<3.1.0,>=3.0.0->awswrangler>=2.18.0->-r requirements.txt (line 11)) (1.0.1)\n",
      "Requirement already satisfied: jdcal in /opt/conda/lib/python3.7/site-packages (from openpyxl<3.1.0,>=3.0.0->awswrangler>=2.18.0->-r requirements.txt (line 11)) (1.4.1)\n",
      "Requirement already satisfied: certifi in /opt/conda/lib/python3.7/site-packages (from opensearch-py<3,>=1->awswrangler>=2.18.0->-r requirements.txt (line 11)) (2022.9.24)\n",
      "Requirement already satisfied: importlib-metadata>=1.0 in /opt/conda/lib/python3.7/site-packages (from pg8000<2.0.0,>=1.20.0->awswrangler>=2.18.0->-r requirements.txt (line 11)) (5.1.0)\n",
      "Collecting scramp>=1.4.3\n",
      "  Using cached scramp-1.4.4-py3-none-any.whl (13 kB)\n",
      "Collecting python-utils>=3.0.0\n",
      "  Using cached python_utils-3.4.5-py2.py3-none-any.whl (23 kB)\n",
      "Collecting pytz>=2017.3\n",
      "  Downloading pytz-2022.7-py2.py3-none-any.whl (499 kB)\n",
      "\u001b[2K     \u001b[90m━━━━━━━━━━━━━━━━━━━━━━━━━━━━━━━━━━━━━━━\u001b[0m \u001b[32m499.4/499.4 kB\u001b[0m \u001b[31m7.8 MB/s\u001b[0m eta \u001b[36m0:00:00\u001b[0m00:01\u001b[0m\n",
      "\u001b[?25hRequirement already satisfied: lxml>=4.6.5 in /opt/conda/lib/python3.7/site-packages (from redshift-connector<2.1.0,>=2.0.889->awswrangler>=2.18.0->-r requirements.txt (line 11)) (4.9.1)\n",
      "Requirement already satisfied: beautifulsoup4<5.0.0,>=4.7.0 in /opt/conda/lib/python3.7/site-packages (from redshift-connector<2.1.0,>=2.0.889->awswrangler>=2.18.0->-r requirements.txt (line 11)) (4.8.2)\n",
      "Requirement already satisfied: charset-normalizer<3,>=2 in /opt/conda/lib/python3.7/site-packages (from requests>=2.20.0->fast-arrow>=1.0.3->-r requirements.txt (line 13)) (2.0.4)\n",
      "Requirement already satisfied: idna<4,>=2.5 in /opt/conda/lib/python3.7/site-packages (from requests>=2.20.0->fast-arrow>=1.0.3->-r requirements.txt (line 13)) (2.8)\n",
      "Collecting google-auth<3,>=1.6.3\n",
      "  Using cached google_auth-2.15.0-py2.py3-none-any.whl (177 kB)\n",
      "Collecting google-auth-oauthlib<0.5,>=0.4.1\n",
      "  Using cached google_auth_oauthlib-0.4.6-py2.py3-none-any.whl (18 kB)\n",
      "Collecting tensorboard-data-server<0.7.0,>=0.6.0\n",
      "  Using cached tensorboard_data_server-0.6.1-py3-none-manylinux2010_x86_64.whl (4.9 MB)\n",
      "Collecting tensorboard-plugin-wit>=1.6.0\n",
      "  Using cached tensorboard_plugin_wit-1.8.1-py3-none-any.whl (781 kB)\n",
      "Collecting werkzeug>=1.0.1\n",
      "  Using cached Werkzeug-2.2.2-py3-none-any.whl (232 kB)\n",
      "Collecting markdown>=2.6.8\n",
      "  Using cached Markdown-3.4.1-py3-none-any.whl (93 kB)\n",
      "Collecting zope.interface\n",
      "  Using cached zope.interface-5.5.2-cp37-cp37m-manylinux_2_5_x86_64.manylinux1_x86_64.manylinux_2_12_x86_64.manylinux2010_x86_64.whl (254 kB)\n",
      "Requirement already satisfied: multidict>=4.0 in /opt/conda/lib/python3.7/site-packages (from yarl->fast-arrow>=1.0.3->-r requirements.txt (line 13)) (6.0.3)\n",
      "Requirement already satisfied: async-timeout<5.0,>=4.0.0a3 in /opt/conda/lib/python3.7/site-packages (from aiohttp<=3.8.1,>=3.8.0->gremlinpython<4.0.0,>=3.5.2->awswrangler>=2.18.0->-r requirements.txt (line 11)) (4.0.2)\n",
      "Requirement already satisfied: attrs>=17.3.0 in /opt/conda/lib/python3.7/site-packages (from aiohttp<=3.8.1,>=3.8.0->gremlinpython<4.0.0,>=3.5.2->awswrangler>=2.18.0->-r requirements.txt (line 11)) (22.1.0)\n",
      "Requirement already satisfied: aiosignal>=1.1.2 in /opt/conda/lib/python3.7/site-packages (from aiohttp<=3.8.1,>=3.8.0->gremlinpython<4.0.0,>=3.5.2->awswrangler>=2.18.0->-r requirements.txt (line 11)) (1.3.1)\n",
      "Requirement already satisfied: asynctest==0.13.0 in /opt/conda/lib/python3.7/site-packages (from aiohttp<=3.8.1,>=3.8.0->gremlinpython<4.0.0,>=3.5.2->awswrangler>=2.18.0->-r requirements.txt (line 11)) (0.13.0)\n",
      "Requirement already satisfied: frozenlist>=1.1.1 in /opt/conda/lib/python3.7/site-packages (from aiohttp<=3.8.1,>=3.8.0->gremlinpython<4.0.0,>=3.5.2->awswrangler>=2.18.0->-r requirements.txt (line 11)) (1.3.3)\n",
      "Requirement already satisfied: soupsieve>=1.2 in /opt/conda/lib/python3.7/site-packages (from beautifulsoup4<5.0.0,>=4.7.0->redshift-connector<2.1.0,>=2.0.889->awswrangler>=2.18.0->-r requirements.txt (line 11)) (1.9.5)\n",
      "Requirement already satisfied: rsa<5,>=3.1.4 in /opt/conda/lib/python3.7/site-packages (from google-auth<3,>=1.6.3->tensorboard<2.12,>=2.11->tensorflow>=2.11.0->-r requirements.txt (line 4)) (4.9)\n",
      "Collecting pyasn1-modules>=0.2.1\n",
      "  Using cached pyasn1_modules-0.2.8-py2.py3-none-any.whl (155 kB)\n",
      "Collecting cachetools<6.0,>=2.0.0\n",
      "  Using cached cachetools-5.2.0-py3-none-any.whl (9.3 kB)\n",
      "Collecting requests-oauthlib>=0.7.0\n",
      "  Using cached requests_oauthlib-1.3.1-py2.py3-none-any.whl (23 kB)\n",
      "Requirement already satisfied: zipp>=0.5 in /opt/conda/lib/python3.7/site-packages (from importlib-metadata>=1.0->pg8000<2.0.0,>=1.20.0->awswrangler>=2.18.0->-r requirements.txt (line 11)) (3.11.0)\n",
      "Collecting asn1crypto>=1.5.1\n",
      "  Using cached asn1crypto-1.5.1-py2.py3-none-any.whl (105 kB)\n",
      "Requirement already satisfied: MarkupSafe>=2.1.1 in /opt/conda/lib/python3.7/site-packages (from werkzeug>=1.0.1->tensorboard<2.12,>=2.11->tensorflow>=2.11.0->-r requirements.txt (line 4)) (2.1.1)\n",
      "Requirement already satisfied: pyasn1<0.5.0,>=0.4.6 in /opt/conda/lib/python3.7/site-packages (from pyasn1-modules>=0.2.1->google-auth<3,>=1.6.3->tensorboard<2.12,>=2.11->tensorflow>=2.11.0->-r requirements.txt (line 4)) (0.4.8)\n",
      "Collecting oauthlib>=3.0.0\n",
      "  Using cached oauthlib-3.2.2-py3-none-any.whl (151 kB)\n",
      "Installing collected packages: tensorboard-plugin-wit, pytz, libclang, flatbuffers, asn1crypto, aenum, zope.interface, werkzeug, threadpoolctl, termcolor, tensorflow-io-gcs-filesystem, tensorflow-estimator, tensorboard-data-server, python-utils, pymysql, pyasn1-modules, protobuf, opt-einsum, oauthlib, keras, jsonpath-ng, isodate, grpcio, gast, fonttools, cachetools, backoff, astunparse, absl-py, scramp, scikit_learn, requests-oauthlib, requests-aws4auth, progressbar2, opensearch-py, onnx, matplotlib, markdown, google-auth, deprecation, datetime, botocore, aiohttp, tf2onnx, pg8000, gremlinpython, google-auth-oauthlib, fast-arrow, tensorboard, boto3, tensorflow, redshift-connector, awswrangler\n",
      "  Attempting uninstall: pytz\n",
      "    Found existing installation: pytz 2019.3\n",
      "    Uninstalling pytz-2019.3:\n",
      "      Successfully uninstalled pytz-2019.3\n",
      "  Attempting uninstall: asn1crypto\n",
      "    Found existing installation: asn1crypto 1.3.0\n",
      "    Uninstalling asn1crypto-1.3.0:\n",
      "      Successfully uninstalled asn1crypto-1.3.0\n",
      "  Attempting uninstall: werkzeug\n",
      "    Found existing installation: Werkzeug 1.0.0\n",
      "    Uninstalling Werkzeug-1.0.0:\n",
      "      Successfully uninstalled Werkzeug-1.0.0\n",
      "  Attempting uninstall: protobuf\n",
      "    Found existing installation: protobuf 3.20.3\n",
      "    Uninstalling protobuf-3.20.3:\n",
      "      Successfully uninstalled protobuf-3.20.3\n",
      "  Attempting uninstall: scikit_learn\n",
      "    Found existing installation: scikit-learn 0.22.1\n",
      "    Uninstalling scikit-learn-0.22.1:\n",
      "      Successfully uninstalled scikit-learn-0.22.1\n",
      "  Attempting uninstall: matplotlib\n",
      "    Found existing installation: matplotlib 3.1.3\n",
      "    Uninstalling matplotlib-3.1.3:\n",
      "      Successfully uninstalled matplotlib-3.1.3\n",
      "  Attempting uninstall: botocore\n",
      "    Found existing installation: botocore 1.29.24\n",
      "    Uninstalling botocore-1.29.24:\n",
      "      Successfully uninstalled botocore-1.29.24\n",
      "  Attempting uninstall: aiohttp\n",
      "    Found existing installation: aiohttp 3.8.3\n",
      "    Uninstalling aiohttp-3.8.3:\n",
      "      Successfully uninstalled aiohttp-3.8.3\n",
      "  Attempting uninstall: boto3\n",
      "    Found existing installation: boto3 1.26.24\n",
      "    Uninstalling boto3-1.26.24:\n",
      "      Successfully uninstalled boto3-1.26.24\n",
      "\u001b[31mERROR: pip's dependency resolver does not currently take into account all the packages that are installed. This behaviour is the source of the following dependency conflicts.\n",
      "sagemaker 2.120.0 requires importlib-metadata<5.0,>=1.4.0, but you have importlib-metadata 5.1.0 which is incompatible.\n",
      "awscli 1.27.24 requires botocore==1.29.24, but you have botocore 1.29.38 which is incompatible.\n",
      "awscli 1.27.24 requires PyYAML<5.5,>=3.10, but you have pyyaml 6.0 which is incompatible.\n",
      "awscli 1.27.24 requires rsa<4.8,>=3.1.2, but you have rsa 4.9 which is incompatible.\n",
      "aiobotocore 2.4.1 requires botocore<1.27.60,>=1.27.59, but you have botocore 1.29.38 which is incompatible.\u001b[0m\u001b[31m\n",
      "\u001b[0mSuccessfully installed absl-py-1.3.0 aenum-3.1.11 aiohttp-3.8.1 asn1crypto-1.5.1 astunparse-1.6.3 awswrangler-2.18.0 backoff-2.2.1 boto3-1.26.38 botocore-1.29.38 cachetools-5.2.0 datetime-4.9 deprecation-2.1.0 fast-arrow-1.0.3 flatbuffers-2.0.7 fonttools-4.38.0 gast-0.4.0 google-auth-2.15.0 google-auth-oauthlib-0.4.6 gremlinpython-3.6.1 grpcio-1.51.1 isodate-0.6.1 jsonpath-ng-1.5.3 keras-2.11.0 libclang-14.0.6 markdown-3.4.1 matplotlib-3.5.3 oauthlib-3.2.2 onnx-1.12.0 opensearch-py-2.0.1 opt-einsum-3.3.0 pg8000-1.29.4 progressbar2-4.2.0 protobuf-3.19.6 pyasn1-modules-0.2.8 pymysql-1.0.2 python-utils-3.4.5 pytz-2022.7 redshift-connector-2.0.909 requests-aws4auth-1.1.2 requests-oauthlib-1.3.1 scikit_learn-1.0.2 scramp-1.4.4 tensorboard-2.11.0 tensorboard-data-server-0.6.1 tensorboard-plugin-wit-1.8.1 tensorflow-2.11.0 tensorflow-estimator-2.11.0 tensorflow-io-gcs-filesystem-0.29.0 termcolor-2.1.1 tf2onnx-1.13.0 threadpoolctl-3.1.0 werkzeug-2.2.2 zope.interface-5.5.2\n",
      "\u001b[33mWARNING: Running pip as the 'root' user can result in broken permissions and conflicting behaviour with the system package manager. It is recommended to use a virtual environment instead: https://pip.pypa.io/warnings/venv\u001b[0m\u001b[33m\n",
      "\u001b[0m"
     ]
    }
   ],
   "source": [
    "!pip install -r requirements.txt"
   ]
  },
  {
   "cell_type": "code",
   "execution_count": 6,
   "id": "94c5a8c0-bec0-485a-9b3f-5c8ccbaa07f7",
   "metadata": {
    "tags": []
   },
   "outputs": [
    {
     "name": "stdout",
     "output_type": "stream",
     "text": [
      "b\"Hit:1 http://deb.debian.org/debian buster InRelease\\nHit:2 http://deb.debian.org/debian buster-updates InRelease\\nHit:3 http://security.debian.org/debian-security buster/updates InRelease\\nReading package lists...\\nBuilding dependency tree...\\nReading state information...\\n54 packages can be upgraded. Run 'apt list --upgradable' to see them.\\nReading package lists...\\nBuilding dependency tree...\\nReading state information...\\nsudo is already the newest version (1.8.27-1+deb10u4).\\n0 upgraded, 0 newly installed, 0 to remove and 54 not upgraded.\\nReading package lists...\\nBuilding dependency tree...\\nReading state information...\\ndefault-jre is already the newest version (2:1.11-71).\\n0 upgraded, 0 newly installed, 0 to remove and 54 not upgraded.\\nReading package lists...\\nBuilding dependency tree...\\nReading state information...\\npython3 is already the newest version (3.7.3-1).\\n0 upgraded, 0 newly installed, 0 to remove and 54 not upgraded.\\nReading package lists...\\nBuilding dependency tree...\\nReading state information...\\npython3-pip is already the newest version (18.1-5).\\n0 upgraded, 0 newly installed, 0 to remove and 54 not upgraded.\\n\"\n",
      "\n"
     ]
    }
   ],
   "source": [
    "from msspackages import setup_runner\n",
    "setup_runner()"
   ]
  },
  {
   "cell_type": "code",
   "execution_count": 2,
   "id": "71cad0d2-b826-4945-8a43-95fd3180df5c",
   "metadata": {
    "tags": []
   },
   "outputs": [],
   "source": [
    "from eks_ml_pipeline import node_autoencoder_fe_input, node_fe_pipeline"
   ]
  },
  {
   "cell_type": "code",
   "execution_count": 3,
   "id": "97c02ece-bfc8-4df3-8d0a-ea6ce974a028",
   "metadata": {
    "tags": []
   },
   "outputs": [
    {
     "name": "stdout",
     "output_type": "stream",
     "text": [
      "96\n",
      "(36000, 20, 9)\n",
      "(9000, 20, 9)\n"
     ]
    }
   ],
   "source": [
    "node_fe_pipeline(*node_autoencoder_fe_input())"
   ]
  },
  {
   "cell_type": "code",
   "execution_count": null,
   "id": "2e1a09df-17d5-456a-8d1b-7bf0e434c35e",
   "metadata": {},
   "outputs": [],
   "source": []
  }
 ],
 "metadata": {
  "instance_type": "ml.m5.24xlarge",
  "kernelspec": {
   "display_name": "Python 3 (Data Science)",
   "language": "python",
   "name": "python3__SAGEMAKER_INTERNAL__arn:aws:sagemaker:us-east-1:081325390199:image/datascience-1.0"
  },
  "language_info": {
   "codemirror_mode": {
    "name": "ipython",
    "version": 3
   },
   "file_extension": ".py",
   "mimetype": "text/x-python",
   "name": "python",
   "nbconvert_exporter": "python",
   "pygments_lexer": "ipython3",
   "version": "3.7.10"
  }
 },
 "nbformat": 4,
 "nbformat_minor": 5
}
