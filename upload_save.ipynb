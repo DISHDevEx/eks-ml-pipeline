{
 "cells": [
  {
   "cell_type": "code",
   "execution_count": 2,
   "id": "0b87c013-fc5b-446d-b631-cf9f79f95c57",
   "metadata": {
    "tags": []
   },
   "outputs": [],
   "source": [
    "from eks_ml_pipeline import write_tensor, read_tensor, uploadDirectory , write_parquet"
   ]
  },
  {
   "cell_type": "code",
   "execution_count": null,
   "id": "a891c894-1ea4-4108-8c36-b7b09bd930e1",
   "metadata": {},
   "outputs": [],
   "source": [
    "bucket_name = \"dish-5g.core.pd.g.dp.eks.logs.e\"\n",
    "model_name = \"conatiner_autoencoder_ad\"\n",
    "version = \"v0.0.1\""
   ]
  },
  {
   "cell_type": "code",
   "execution_count": null,
   "id": "70682047-c606-4788-a2e8-9d3e953bd19e",
   "metadata": {},
   "outputs": [],
   "source": [
    "import numpy as np\n",
    "container_tensor = np.zeros((8000,25,3))"
   ]
  },
  {
   "cell_type": "code",
   "execution_count": null,
   "id": "dba0af9f-f7e2-4d19-a604-0f9cbf6fb4d0",
   "metadata": {
    "tags": []
   },
   "outputs": [],
   "source": [
    "write_tensor(container_tensor,bucket_name,model_name,version,filename)"
   ]
  },
  {
   "cell_type": "code",
   "execution_count": null,
   "id": "f36e2c9a-9321-4794-90b3-55511a025ebf",
   "metadata": {},
   "outputs": [],
   "source": [
    "array = read_tensor(bucket_name , 'conatiner_autoencoder_ad/v0.0.1/data/conatiner_autoencoder_ad_test.npy')"
   ]
  },
  {
   "cell_type": "code",
   "execution_count": null,
   "id": "99a8580d-3c01-4271-8868-5dc95dd1143d",
   "metadata": {},
   "outputs": [],
   "source": [
    "uploadDirectory('/root/trained_AutoEncoder',bucket_name,model_name,version)"
   ]
  },
  {
   "cell_type": "code",
   "execution_count": null,
   "id": "7a28cc17-2acf-4938-a716-f2caefea7278",
   "metadata": {},
   "outputs": [],
   "source": [
    "write_parquet(df,bucket_name,model_name,version,model_data_type)"
   ]
  }
 ],
 "metadata": {
  "instance_type": "ml.t3.medium",
  "kernelspec": {
   "display_name": "Python 3 (Data Science)",
   "language": "python",
   "name": "python3__SAGEMAKER_INTERNAL__arn:aws:sagemaker:us-east-1:081325390199:image/datascience-1.0"
  },
  "language_info": {
   "codemirror_mode": {
    "name": "ipython",
    "version": 3
   },
   "file_extension": ".py",
   "mimetype": "text/x-python",
   "name": "python",
   "nbconvert_exporter": "python",
   "pygments_lexer": "ipython3",
   "version": "3.7.10"
  }
 },
 "nbformat": 4,
 "nbformat_minor": 5
}
