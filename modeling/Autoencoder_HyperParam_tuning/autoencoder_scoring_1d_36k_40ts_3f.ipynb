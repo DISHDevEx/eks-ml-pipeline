{
 "cells": [
  {
   "cell_type": "markdown",
   "metadata": {},
   "source": [
    "# Autoencoder Multivariate Training (Expiriment 3)\n",
    "\n",
    " Vinayak Sharma\n",
    "  \n",
    " This notebook aims to train an autoencoder on univariate timeseries data from EKS Performance metrics for MANY NODES. The training data is 'non-anomalous'. \n",
    "\n",
    " The model and implementation techniques can be found in the following github: https://github.com/emerelte/kad\n",
    " \n",
    " The research paper that this work is based on can be found here: https://ieeexplore.ieee.org/stamp/stamp.jsp?tp=&arnumber=9925210"
   ]
  },
  {
   "cell_type": "markdown",
   "metadata": {},
   "source": [
    "------"
   ]
  },
  {
   "cell_type": "code",
   "execution_count": 59,
   "metadata": {},
   "outputs": [],
   "source": [
    "##global variable\n",
    "timesteps = 40\n",
    "time_steps = 40\n",
    "batch_size = 36\n",
    "n_samples = batch_size*1000\n",
    "features = ['node_cpu_utilization','node_memory_utilization','node_network_total_bytes']"
   ]
  },
  {
   "cell_type": "markdown",
   "metadata": {},
   "source": [
    "## Imports"
   ]
  },
  {
   "cell_type": "code",
   "execution_count": 60,
   "metadata": {},
   "outputs": [],
   "source": [
    "# !pip install -r /root/eks-ml-pipeline/modeling/kad/kad/requirements.txt\n",
    "# # # !pip install keras\n",
    "# # # !pip install tensorflow"
   ]
  },
  {
   "cell_type": "code",
   "execution_count": 61,
   "metadata": {},
   "outputs": [],
   "source": [
    "# !pip install tensorflow"
   ]
  },
  {
   "cell_type": "code",
   "execution_count": 62,
   "metadata": {},
   "outputs": [],
   "source": [
    "# import matplotlib as mpl\n",
    "# mpl.rcParams.keys()"
   ]
  },
  {
   "cell_type": "code",
   "execution_count": 63,
   "metadata": {},
   "outputs": [],
   "source": [
    "import importlib\n",
    "import numpy as np\n",
    "import pandas as pd\n",
    "from matplotlib import pyplot as plt\n",
    "from sklearn.preprocessing import MinMaxScaler, StandardScaler\n",
    "import json\n",
    "import sys\n",
    "import statsmodels.api as sm\n",
    "import os\n",
    "import keras\n",
    "from keras import layers\n",
    "import tensorflow as tf\n",
    "from sklearn.preprocessing import StandardScaler\n",
    "from autoencoder_model_dish_5g import autoencoder_model_dish_5g\n",
    "\n",
    "from sklearn.model_selection import train_test_split\n",
    "\n",
    "import _pickle as cPickle\n"
   ]
  },
  {
   "cell_type": "code",
   "execution_count": 64,
   "metadata": {},
   "outputs": [],
   "source": [
    "import logging\n",
    "import warnings\n",
    "import numpy as np\n",
    "import pandas as pd\n",
    "from sklearn.model_selection import train_test_split\n",
    "from sklearn.preprocessing import MinMaxScaler\n",
    "from tensorflow import keras\n",
    "import tensorflow as tf\n",
    "from tensorflow.keras import layers\n",
    "from matplotlib import pyplot as plt\n",
    "\n",
    "\n",
    "import random \n"
   ]
  },
  {
   "cell_type": "code",
   "execution_count": 65,
   "metadata": {},
   "outputs": [],
   "source": [
    "pd.set_option('display.max_rows', None)"
   ]
  },
  {
   "cell_type": "markdown",
   "metadata": {},
   "source": [
    "First lets read in our training sample set "
   ]
  },
  {
   "cell_type": "code",
   "execution_count": 66,
   "metadata": {},
   "outputs": [],
   "source": [
    "##isolate the first days worth of data\n",
    "training_df_full = pd.read_parquet('/root/healthy_clusters_node_month.parquet')\n",
    "training_df_full['Timestamp'] = pd.to_datetime(training_df['Timestamp'], unit='ms')\n",
    "training_df_full = training_df_full[(training_df_full['Timestamp'] > '2022-06-01') & (training_df_full['Timestamp'] < '2022-06-02')]\n",
    "training_df_full = training_df_full.sort_values(by='Timestamp')"
   ]
  },
  {
   "cell_type": "code",
   "execution_count": 67,
   "metadata": {},
   "outputs": [
    {
     "data": {
      "text/plain": [
       "(77642, 19)"
      ]
     },
     "execution_count": 67,
     "metadata": {},
     "output_type": "execute_result"
    }
   ],
   "source": [
    "training_df_full.shape"
   ]
  },
  {
   "cell_type": "code",
   "execution_count": 68,
   "metadata": {},
   "outputs": [],
   "source": [
    "columns_to_keep = ['Timestamp','InstanceId','node_cpu_utilization','node_memory_utilization','node_network_total_bytes']"
   ]
  },
  {
   "cell_type": "code",
   "execution_count": 69,
   "metadata": {},
   "outputs": [
    {
     "name": "stderr",
     "output_type": "stream",
     "text": [
      "/opt/conda/lib/python3.7/site-packages/ipykernel_launcher.py:1: FutureWarning: In a future version of pandas all arguments of DataFrame.drop except for the argument 'labels' will be keyword-only\n",
      "  \"\"\"Entry point for launching an IPython kernel.\n"
     ]
    }
   ],
   "source": [
    "training_df = training_df_full.drop(training_df_full.columns.difference(columns_to_keep),1, inplace=False)\n",
    "training_df['Timestamp'] = pd.to_datetime(training_df['Timestamp'], unit='ms')"
   ]
  },
  {
   "cell_type": "code",
   "execution_count": 70,
   "metadata": {},
   "outputs": [
    {
     "data": {
      "text/plain": [
       "(77642, 5)"
      ]
     },
     "execution_count": 70,
     "metadata": {},
     "output_type": "execute_result"
    }
   ],
   "source": [
    "training_df.shape"
   ]
  },
  {
   "cell_type": "code",
   "execution_count": 71,
   "metadata": {},
   "outputs": [
    {
     "data": {
      "text/plain": [
       "77642"
      ]
     },
     "execution_count": 71,
     "metadata": {},
     "output_type": "execute_result"
    }
   ],
   "source": [
    "len(training_df)"
   ]
  },
  {
   "cell_type": "code",
   "execution_count": 72,
   "metadata": {},
   "outputs": [],
   "source": [
    "training_df = training_df.dropna()"
   ]
  },
  {
   "cell_type": "code",
   "execution_count": 73,
   "metadata": {},
   "outputs": [],
   "source": [
    "test_df = training_df.copy()\n",
    "training_df = training_df[training_df.InstanceId != 'i-0b36e8825c482f762']"
   ]
  },
  {
   "cell_type": "markdown",
   "metadata": {},
   "source": [
    "-----"
   ]
  },
  {
   "cell_type": "markdown",
   "metadata": {},
   "source": [
    "# TRAIN DATASET: Build out Dataset for training on many nodes\n",
    "\n",
    "now we are starting to build out a training dataset for two nodes. This will prove our understanding of how to model can generalize across many EC2 instances. "
   ]
  },
  {
   "cell_type": "code",
   "execution_count": 74,
   "metadata": {},
   "outputs": [],
   "source": [
    "## for normalization\n",
    "# scaler = StandardScaler()\n",
    "\n",
    "scaler = StandardScaler()"
   ]
  },
  {
   "cell_type": "code",
   "execution_count": 75,
   "metadata": {},
   "outputs": [],
   "source": [
    "instance_dfs =[]\n",
    "for instance in training_df['InstanceId'].unique():\n",
    "    if(len(training_df[training_df.InstanceId == instance]) >60):\n",
    "        instance_dfs.append(training_df[training_df.InstanceId == instance].sort_values(by='Timestamp')\\\n",
    "                            .reset_index(drop=True))"
   ]
  },
  {
   "cell_type": "code",
   "execution_count": 76,
   "metadata": {},
   "outputs": [
    {
     "data": {
      "text/plain": [
       "(36000, 40, 3)"
      ]
     },
     "execution_count": 76,
     "metadata": {},
     "output_type": "execute_result"
    }
   ],
   "source": [
    "\n",
    "x_train = np.zeros((n_samples,time_steps,len(features)))\n",
    "for b in range(n_samples):\n",
    "    \n",
    "    ##pick random df, and normalize\n",
    "    df = random.choice(instance_dfs)\n",
    "    df = df.drop(columns = ['InstanceId'])\n",
    "    df = df.set_index('Timestamp')\n",
    "    df = df.sort_index()\n",
    "    df[features] = scaler.fit_transform(df[features])\n",
    "    \n",
    "    \n",
    "    \n",
    "    sample = np.zeros((n_samples,len(features)))\n",
    "    ##make sure length of df is atleast 40\n",
    "    first_time = random.choice(range(len(df)-time_steps))\n",
    "    df.head()\n",
    "    sample = df[features].iloc[first_time:first_time+time_steps]\n",
    "    x_train[b] = sample\n",
    "\n",
    "x_train.shape"
   ]
  },
  {
   "cell_type": "markdown",
   "metadata": {},
   "source": [
    "our xtrain shape has the following properties: (sample size, time steps, numFeatures)"
   ]
  },
  {
   "cell_type": "markdown",
   "metadata": {},
   "source": [
    "-------"
   ]
  },
  {
   "cell_type": "markdown",
   "metadata": {},
   "source": [
    "# TEST DATASET: Build out Dataset for testing on one node"
   ]
  },
  {
   "cell_type": "code",
   "execution_count": 80,
   "metadata": {},
   "outputs": [],
   "source": [
    "# test_df = test_df[test_df.InstanceId == 'i-0b36e8825c482f762']"
   ]
  },
  {
   "cell_type": "code",
   "execution_count": 81,
   "metadata": {},
   "outputs": [],
   "source": [
    "# test_df.head()"
   ]
  },
  {
   "cell_type": "code",
   "execution_count": 82,
   "metadata": {},
   "outputs": [],
   "source": [
    "# ## drop the instanceId\n",
    "# test_df = test_df.drop(\"InstanceId\",1, inplace=False)\n",
    "\n",
    "\n",
    "# ##set timestamp as the index\n",
    "# test_df = test_df.set_index('Timestamp')\n",
    "\n",
    "# ##normalize test_df \n",
    "# test_df[features] = scaler.fit_transform(test_df[features])\n",
    "\n",
    "\n",
    "# ##ensure the data is sorted!!\n",
    "# test_df = test_df.sort_index()"
   ]
  },
  {
   "cell_type": "markdown",
   "metadata": {},
   "source": [
    "----"
   ]
  },
  {
   "cell_type": "markdown",
   "metadata": {},
   "source": [
    "# Model Time"
   ]
  },
  {
   "cell_type": "markdown",
   "metadata": {},
   "source": [
    "----"
   ]
  },
  {
   "cell_type": "markdown",
   "metadata": {},
   "source": [
    "### First we train"
   ]
  },
  {
   "cell_type": "code",
   "execution_count": 83,
   "metadata": {},
   "outputs": [],
   "source": [
    "model = autoencoder_model_dish_5g(batch_size = batch_size, time_steps = time_steps, epochs = 250,nuerons=128)"
   ]
  },
  {
   "cell_type": "code",
   "execution_count": 84,
   "metadata": {},
   "outputs": [],
   "source": [
    "# model: i_model.IModel = autoencoder_model.AutoEncoderModel(batch_size = batch_size, time_steps = time_steps)"
   ]
  },
  {
   "cell_type": "code",
   "execution_count": 85,
   "metadata": {},
   "outputs": [
    {
     "name": "stderr",
     "output_type": "stream",
     "text": [
      "WARNING:absl:`lr` is deprecated, please use `learning_rate` instead, or use the legacy optimizer, e.g.,tf.keras.optimizers.legacy.Adam.\n"
     ]
    },
    {
     "name": "stdout",
     "output_type": "stream",
     "text": [
      "Model: \"sequential\"\n",
      "_________________________________________________________________\n",
      " Layer (type)                Output Shape              Param #   \n",
      "=================================================================\n",
      " lstm (LSTM)                 (None, 128)               67584     \n",
      "                                                                 \n",
      " dropout (Dropout)           (None, 128)               0         \n",
      "                                                                 \n",
      " repeat_vector (RepeatVector  (None, 40, 128)          0         \n",
      " )                                                               \n",
      "                                                                 \n",
      " lstm_1 (LSTM)               (None, 40, 128)           131584    \n",
      "                                                                 \n",
      " dropout_1 (Dropout)         (None, 40, 128)           0         \n",
      "                                                                 \n",
      " time_distributed (TimeDistr  (None, 40, 3)            387       \n",
      " ibuted)                                                         \n",
      "                                                                 \n",
      "=================================================================\n",
      "Total params: 199,555\n",
      "Trainable params: 199,555\n",
      "Non-trainable params: 0\n",
      "_________________________________________________________________\n",
      "Epoch 1/250\n",
      "900/900 [==============================] - 42s 44ms/step - loss: 0.5075 - val_loss: 0.4898\n",
      "Epoch 2/250\n",
      "900/900 [==============================] - 39s 43ms/step - loss: 0.4901 - val_loss: 0.4801\n",
      "Epoch 3/250\n",
      "900/900 [==============================] - 39s 44ms/step - loss: 0.4824 - val_loss: 0.4727\n",
      "Epoch 4/250\n",
      "900/900 [==============================] - 39s 44ms/step - loss: 0.4775 - val_loss: 0.4689\n",
      "Epoch 5/250\n",
      "900/900 [==============================] - 40s 44ms/step - loss: 0.4734 - val_loss: 0.4654\n",
      "Epoch 6/250\n",
      "900/900 [==============================] - 40s 44ms/step - loss: 0.4702 - val_loss: 0.4620\n",
      "Epoch 7/250\n",
      "900/900 [==============================] - 40s 44ms/step - loss: 0.4678 - val_loss: 0.4596\n",
      "Epoch 8/250\n",
      "900/900 [==============================] - 40s 44ms/step - loss: 0.4651 - val_loss: 0.4573\n",
      "Epoch 9/250\n",
      "900/900 [==============================] - 40s 44ms/step - loss: 0.4630 - val_loss: 0.4557\n",
      "Epoch 10/250\n",
      "900/900 [==============================] - 40s 44ms/step - loss: 0.4611 - val_loss: 0.4530\n",
      "Epoch 11/250\n",
      "900/900 [==============================] - 40s 44ms/step - loss: 0.4589 - val_loss: 0.4505\n",
      "Epoch 12/250\n",
      "900/900 [==============================] - 40s 44ms/step - loss: 0.4567 - val_loss: 0.4483\n",
      "Epoch 13/250\n",
      "900/900 [==============================] - 40s 44ms/step - loss: 0.4550 - val_loss: 0.4488\n",
      "Epoch 14/250\n",
      "900/900 [==============================] - 40s 45ms/step - loss: 0.4527 - val_loss: 0.4439\n",
      "Epoch 15/250\n",
      "900/900 [==============================] - 40s 45ms/step - loss: 0.4487 - val_loss: 0.4388\n",
      "Epoch 16/250\n",
      "900/900 [==============================] - 40s 45ms/step - loss: 0.4449 - val_loss: 0.4359\n",
      "Epoch 17/250\n",
      "900/900 [==============================] - 40s 45ms/step - loss: 0.4421 - val_loss: 0.4350\n",
      "Epoch 18/250\n",
      "900/900 [==============================] - 40s 45ms/step - loss: 0.4399 - val_loss: 0.4287\n",
      "Epoch 19/250\n",
      "900/900 [==============================] - 40s 45ms/step - loss: 0.4358 - val_loss: 0.4284\n",
      "Epoch 20/250\n",
      "900/900 [==============================] - 40s 45ms/step - loss: 0.4338 - val_loss: 0.4250\n",
      "Epoch 21/250\n",
      "900/900 [==============================] - 40s 45ms/step - loss: 0.4341 - val_loss: 0.4244\n",
      "Epoch 22/250\n",
      "900/900 [==============================] - 40s 45ms/step - loss: 0.4306 - val_loss: 0.4215\n",
      "Epoch 23/250\n",
      "900/900 [==============================] - 40s 45ms/step - loss: 0.4293 - val_loss: 0.4188\n",
      "Epoch 24/250\n",
      "900/900 [==============================] - 40s 45ms/step - loss: 0.4271 - val_loss: 0.4194\n",
      "Epoch 25/250\n",
      "900/900 [==============================] - 40s 45ms/step - loss: 0.4249 - val_loss: 0.4170\n",
      "Epoch 26/250\n",
      "900/900 [==============================] - 40s 45ms/step - loss: 0.4233 - val_loss: 0.4156\n",
      "Epoch 27/250\n",
      "900/900 [==============================] - 41s 45ms/step - loss: 0.4239 - val_loss: 0.4089\n",
      "Epoch 28/250\n",
      "900/900 [==============================] - 40s 45ms/step - loss: 0.4189 - val_loss: 0.4073\n",
      "Epoch 29/250\n",
      "900/900 [==============================] - 41s 45ms/step - loss: 0.4169 - val_loss: 0.4087\n",
      "Epoch 30/250\n",
      "900/900 [==============================] - 40s 45ms/step - loss: 0.4161 - val_loss: 0.4025\n",
      "Epoch 31/250\n",
      "900/900 [==============================] - 41s 45ms/step - loss: 0.4145 - val_loss: 0.3997\n",
      "Epoch 32/250\n",
      "900/900 [==============================] - 41s 45ms/step - loss: 0.4120 - val_loss: 0.4019\n",
      "Epoch 33/250\n",
      "900/900 [==============================] - 41s 45ms/step - loss: 0.4105 - val_loss: 0.3943\n",
      "Epoch 34/250\n",
      "900/900 [==============================] - 41s 45ms/step - loss: 0.4073 - val_loss: 0.3931\n",
      "Epoch 35/250\n",
      "900/900 [==============================] - 41s 45ms/step - loss: 0.4072 - val_loss: 0.3903\n",
      "Epoch 36/250\n",
      "900/900 [==============================] - 41s 45ms/step - loss: 0.4043 - val_loss: 0.3893\n",
      "Epoch 37/250\n",
      "900/900 [==============================] - 41s 45ms/step - loss: 0.4023 - val_loss: 0.3857\n",
      "Epoch 38/250\n",
      "900/900 [==============================] - 41s 45ms/step - loss: 0.3974 - val_loss: 0.3793\n",
      "Epoch 39/250\n",
      "900/900 [==============================] - 41s 45ms/step - loss: 0.3967 - val_loss: 0.3758\n",
      "Epoch 40/250\n",
      "900/900 [==============================] - 41s 45ms/step - loss: 0.3915 - val_loss: 0.3732\n",
      "Epoch 41/250\n",
      "900/900 [==============================] - 41s 45ms/step - loss: 0.3871 - val_loss: 0.3692\n",
      "Epoch 42/250\n",
      "900/900 [==============================] - 41s 45ms/step - loss: 0.3839 - val_loss: 0.3653\n",
      "Epoch 43/250\n",
      "900/900 [==============================] - 41s 45ms/step - loss: 0.3816 - val_loss: 0.3682\n",
      "Epoch 44/250\n",
      "900/900 [==============================] - 41s 45ms/step - loss: 0.3792 - val_loss: 0.3588\n",
      "Epoch 45/250\n",
      "900/900 [==============================] - 41s 45ms/step - loss: 0.3757 - val_loss: 0.3761\n",
      "Epoch 46/250\n",
      "900/900 [==============================] - 41s 46ms/step - loss: 0.3730 - val_loss: 0.3519\n",
      "Epoch 47/250\n",
      "900/900 [==============================] - 41s 45ms/step - loss: 0.3721 - val_loss: 0.3514\n",
      "Epoch 48/250\n",
      "900/900 [==============================] - 41s 45ms/step - loss: 0.3694 - val_loss: 0.3481\n",
      "Epoch 49/250\n",
      "900/900 [==============================] - 41s 45ms/step - loss: 0.3667 - val_loss: 0.3438\n",
      "Epoch 50/250\n",
      "900/900 [==============================] - 41s 45ms/step - loss: 0.3634 - val_loss: 0.3453\n",
      "Epoch 51/250\n",
      "900/900 [==============================] - 41s 46ms/step - loss: 0.3673 - val_loss: 0.3482\n",
      "Epoch 52/250\n",
      "900/900 [==============================] - 41s 45ms/step - loss: 0.3681 - val_loss: 0.3426\n",
      "Epoch 53/250\n",
      "900/900 [==============================] - 41s 45ms/step - loss: 0.3590 - val_loss: 0.3388\n",
      "Epoch 54/250\n",
      "900/900 [==============================] - 41s 46ms/step - loss: 0.3576 - val_loss: 0.3348\n",
      "Epoch 55/250\n",
      "900/900 [==============================] - 41s 46ms/step - loss: 0.3558 - val_loss: 0.3358\n",
      "Epoch 56/250\n",
      "900/900 [==============================] - 41s 46ms/step - loss: 0.3542 - val_loss: 0.3301\n",
      "Epoch 57/250\n",
      "900/900 [==============================] - 41s 46ms/step - loss: 0.3513 - val_loss: 0.3254\n",
      "Epoch 58/250\n",
      "900/900 [==============================] - 41s 46ms/step - loss: 0.3491 - val_loss: 0.3244\n",
      "Epoch 59/250\n",
      "900/900 [==============================] - 41s 46ms/step - loss: 0.3494 - val_loss: 0.3239\n",
      "Epoch 60/250\n",
      "900/900 [==============================] - 41s 46ms/step - loss: 0.3473 - val_loss: 0.3205\n",
      "Epoch 61/250\n",
      "900/900 [==============================] - 41s 46ms/step - loss: 0.3455 - val_loss: 0.3205\n",
      "Epoch 62/250\n",
      "900/900 [==============================] - 41s 46ms/step - loss: 0.3436 - val_loss: 0.3182\n",
      "Epoch 63/250\n",
      "900/900 [==============================] - 41s 46ms/step - loss: 0.3465 - val_loss: 0.3193\n",
      "Epoch 64/250\n",
      "900/900 [==============================] - 41s 46ms/step - loss: 0.3408 - val_loss: 0.3166\n",
      "Epoch 65/250\n",
      "900/900 [==============================] - 41s 46ms/step - loss: 0.3418 - val_loss: 0.3111\n",
      "Epoch 66/250\n",
      "900/900 [==============================] - 41s 46ms/step - loss: 0.3375 - val_loss: 0.3127\n",
      "Epoch 67/250\n",
      "900/900 [==============================] - 41s 46ms/step - loss: 0.3394 - val_loss: 0.3094\n",
      "Epoch 68/250\n",
      "900/900 [==============================] - 41s 46ms/step - loss: 0.3357 - val_loss: 0.3107\n",
      "Epoch 69/250\n",
      "900/900 [==============================] - 41s 46ms/step - loss: 0.3401 - val_loss: 0.3119\n",
      "Epoch 70/250\n",
      "900/900 [==============================] - 41s 46ms/step - loss: 0.3349 - val_loss: 0.3069\n",
      "Epoch 71/250\n",
      "900/900 [==============================] - 41s 46ms/step - loss: 0.3334 - val_loss: 0.3081\n",
      "Epoch 72/250\n",
      "900/900 [==============================] - 41s 46ms/step - loss: 0.3336 - val_loss: 0.3046\n",
      "Epoch 73/250\n",
      "900/900 [==============================] - 41s 46ms/step - loss: 0.3308 - val_loss: 0.3083\n",
      "Epoch 74/250\n",
      "900/900 [==============================] - 41s 46ms/step - loss: 0.3359 - val_loss: 0.3053\n",
      "Epoch 75/250\n",
      "900/900 [==============================] - 41s 46ms/step - loss: 0.3293 - val_loss: 0.3043\n",
      "Epoch 76/250\n",
      "900/900 [==============================] - 41s 46ms/step - loss: 0.3423 - val_loss: 0.3052\n",
      "Epoch 77/250\n",
      "900/900 [==============================] - 41s 46ms/step - loss: 0.3285 - val_loss: 0.3021\n",
      "Epoch 78/250\n",
      "900/900 [==============================] - 41s 46ms/step - loss: 0.3270 - val_loss: 0.3163\n",
      "Epoch 79/250\n",
      "900/900 [==============================] - 41s 46ms/step - loss: 0.3323 - val_loss: 0.2971\n",
      "Epoch 80/250\n",
      "900/900 [==============================] - 41s 46ms/step - loss: 0.3275 - val_loss: 0.3145\n",
      "Epoch 81/250\n",
      "900/900 [==============================] - 41s 46ms/step - loss: 0.3348 - val_loss: 0.3214\n",
      "Epoch 82/250\n",
      "900/900 [==============================] - 41s 46ms/step - loss: 0.3273 - val_loss: 0.2982\n",
      "Epoch 83/250\n",
      "900/900 [==============================] - 41s 46ms/step - loss: 0.3270 - val_loss: 0.2986\n",
      "Epoch 84/250\n",
      "900/900 [==============================] - 41s 46ms/step - loss: 0.3346 - val_loss: 0.2937\n",
      "Epoch 85/250\n",
      "900/900 [==============================] - 41s 46ms/step - loss: 0.3217 - val_loss: 0.2905\n",
      "Epoch 86/250\n",
      "900/900 [==============================] - 42s 46ms/step - loss: 0.3246 - val_loss: 0.2919\n",
      "Epoch 87/250\n",
      "900/900 [==============================] - 42s 46ms/step - loss: 0.3237 - val_loss: 0.2965\n",
      "Epoch 88/250\n",
      "900/900 [==============================] - 42s 46ms/step - loss: 0.3204 - val_loss: 0.2894\n",
      "Epoch 89/250\n",
      "900/900 [==============================] - 42s 46ms/step - loss: 0.3432 - val_loss: 0.3201\n",
      "Epoch 90/250\n",
      "900/900 [==============================] - 42s 47ms/step - loss: 0.3310 - val_loss: 0.2931\n",
      "Epoch 91/250\n",
      "900/900 [==============================] - 42s 47ms/step - loss: 0.3226 - val_loss: 0.2905\n",
      "Epoch 92/250\n",
      "900/900 [==============================] - 42s 47ms/step - loss: 0.3183 - val_loss: 0.2883\n",
      "Epoch 93/250\n",
      "900/900 [==============================] - 42s 46ms/step - loss: 0.3160 - val_loss: 0.2838\n",
      "Epoch 94/250\n",
      "900/900 [==============================] - 42s 47ms/step - loss: 0.3279 - val_loss: 0.2948\n",
      "Epoch 95/250\n",
      "900/900 [==============================] - 42s 47ms/step - loss: 0.3209 - val_loss: 0.2842\n",
      "Epoch 96/250\n",
      "900/900 [==============================] - 42s 47ms/step - loss: 0.3150 - val_loss: 0.2808\n",
      "Epoch 97/250\n",
      "900/900 [==============================] - 42s 47ms/step - loss: 0.3126 - val_loss: 0.2899\n",
      "Epoch 98/250\n",
      "900/900 [==============================] - 42s 47ms/step - loss: 0.3137 - val_loss: 0.2806\n",
      "Epoch 99/250\n",
      "900/900 [==============================] - 42s 47ms/step - loss: 0.3185 - val_loss: 0.2804\n",
      "Epoch 100/250\n",
      "900/900 [==============================] - 42s 47ms/step - loss: 0.3129 - val_loss: 0.2779\n",
      "Epoch 101/250\n",
      "900/900 [==============================] - 42s 47ms/step - loss: 0.3144 - val_loss: 0.2746\n",
      "Epoch 102/250\n",
      "900/900 [==============================] - 43s 47ms/step - loss: 0.3096 - val_loss: 0.2870\n",
      "Epoch 103/250\n",
      "900/900 [==============================] - 43s 47ms/step - loss: 0.3259 - val_loss: 0.3070\n",
      "Epoch 104/250\n",
      "900/900 [==============================] - 42s 47ms/step - loss: 0.3157 - val_loss: 0.2856\n",
      "Epoch 105/250\n",
      "900/900 [==============================] - 42s 47ms/step - loss: 0.3166 - val_loss: 0.2792\n",
      "Epoch 106/250\n",
      "900/900 [==============================] - 42s 47ms/step - loss: 0.3102 - val_loss: 0.2786\n"
     ]
    },
    {
     "data": {
      "image/png": "[encoded data removed]",
      "text/plain": [
       "<Figure size 640x480 with 1 Axes>"
      ]
     },
     "metadata": {},
     "output_type": "display_data"
    },
    {
     "name": "stdout",
     "output_type": "stream",
     "text": [
      "1125/1125 [==============================] - 23s 19ms/step\n",
      "error_threshold 2.9894264728600417\n"
     ]
    }
   ],
   "source": [
    "val_err = model.train(x_train)\n"
   ]
  },
  {
   "cell_type": "markdown",
   "metadata": {},
   "source": [
    "### 1 LSTM 128 Units {per encoder and decoder}\n",
    "### 1 day of data, tensor size: [36k,20ts,3f]"
   ]
  },
  {
   "cell_type": "code",
   "execution_count": null,
   "metadata": {},
   "outputs": [],
   "source": []
  }
 ],
 "metadata": {
  "kernelspec": {
   "display_name": "Python 3 (Data Science)",
   "language": "python",
   "name": "python3__SAGEMAKER_INTERNAL__arn:aws:sagemaker:us-west-2:236514542706:image/datascience-1.0"
  },
  "language_info": {
   "codemirror_mode": {
    "name": "ipython",
    "version": 3
   },
   "file_extension": ".py",
   "mimetype": "text/x-python",
   "name": "python",
   "nbconvert_exporter": "python",
   "pygments_lexer": "ipython3",
   "version": "3.7.10"
  }
 },
 "nbformat": 4,
 "nbformat_minor": 4
}
