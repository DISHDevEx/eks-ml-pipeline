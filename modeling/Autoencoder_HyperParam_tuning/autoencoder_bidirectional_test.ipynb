{
 "cells": [
  {
   "cell_type": "markdown",
   "metadata": {},
   "source": [
    "# Autoencoder Multivariate Training (Expiriment 3)\n",
    "\n",
    " Vinayak Sharma\n",
    "  \n",
    " This notebook aims to train an autoencoder on univariate timeseries data from EKS Performance metrics for MANY NODES. The training data is 'non-anomalous'. \n",
    "\n",
    " The model and implementation techniques can be found in the following github: https://github.com/emerelte/kad\n",
    " \n",
    " The research paper that this work is based on can be found here: https://ieeexplore.ieee.org/stamp/stamp.jsp?tp=&arnumber=9925210"
   ]
  },
  {
   "cell_type": "markdown",
   "metadata": {},
   "source": [
    "------"
   ]
  },
  {
   "cell_type": "code",
   "execution_count": 34,
   "metadata": {},
   "outputs": [],
   "source": [
    "##global variable\n",
    "timesteps = 20\n",
    "time_steps = 20\n",
    "batch_size = 36\n",
    "n_samples = batch_size*10\n",
    "features = ['node_cpu_utilization','node_memory_utilization','node_network_total_bytes']"
   ]
  },
  {
   "cell_type": "markdown",
   "metadata": {},
   "source": [
    "## Imports"
   ]
  },
  {
   "cell_type": "code",
   "execution_count": 35,
   "metadata": {},
   "outputs": [],
   "source": [
    "# # !pip install -r /root/eks-ml-pipeline/modeling/kad/kad/requirements.txt\n",
    "# !pip install keras\n",
    "# !pip install tensorflow"
   ]
  },
  {
   "cell_type": "code",
   "execution_count": 36,
   "metadata": {},
   "outputs": [],
   "source": [
    "# !pip install tensorflow\n",
    "# !pip install keras"
   ]
  },
  {
   "cell_type": "code",
   "execution_count": 37,
   "metadata": {},
   "outputs": [],
   "source": [
    "import logging\n",
    "import warnings\n",
    "import numpy as np\n",
    "import pandas as pd\n",
    "from sklearn.model_selection import train_test_split\n",
    "from sklearn.preprocessing import MinMaxScaler\n",
    "from tensorflow import keras\n",
    "import tensorflow as tf\n",
    "from tensorflow.keras import layers\n",
    "from matplotlib import pyplot as plt"
   ]
  },
  {
   "cell_type": "code",
   "execution_count": 38,
   "metadata": {},
   "outputs": [],
   "source": [
    "import importlib\n",
    "import numpy as np\n",
    "import pandas as pd\n",
    "from matplotlib import pyplot as plt\n",
    "from sklearn.preprocessing import MinMaxScaler, StandardScaler\n",
    "import json\n",
    "import sys\n",
    "import statsmodels.api as sm\n",
    "import os\n",
    "import keras\n",
    "from keras import layers, Sequential\n",
    "import tensorflow as tf\n",
    "from sklearn.preprocessing import StandardScaler\n",
    "from autoencoder_model_dish_5g import autoencoder_model_dish_5g\n",
    "\n",
    "from sklearn.model_selection import train_test_split\n",
    "\n",
    "import _pickle as cPickle\n"
   ]
  },
  {
   "cell_type": "code",
   "execution_count": 39,
   "metadata": {},
   "outputs": [],
   "source": [
    "import logging\n",
    "import warnings\n",
    "import numpy as np\n",
    "import pandas as pd\n",
    "from sklearn.model_selection import train_test_split\n",
    "from sklearn.preprocessing import MinMaxScaler\n",
    "from tensorflow import keras\n",
    "import tensorflow as tf\n",
    "from tensorflow.keras import layers\n",
    "from matplotlib import pyplot as plt"
   ]
  },
  {
   "cell_type": "code",
   "execution_count": 40,
   "metadata": {},
   "outputs": [],
   "source": [
    "pd.set_option('display.max_rows', None)"
   ]
  },
  {
   "cell_type": "markdown",
   "metadata": {},
   "source": [
    "First lets read in our training sample set "
   ]
  },
  {
   "cell_type": "code",
   "execution_count": 41,
   "metadata": {},
   "outputs": [],
   "source": [
    "##isolate the first days worth of data\n",
    "training_df_full = pd.read_parquet('/root/healthy_clusters_node_month.parquet')\n"
   ]
  },
  {
   "cell_type": "code",
   "execution_count": 42,
   "metadata": {},
   "outputs": [
    {
     "data": {
      "text/plain": [
       "(2636965, 19)"
      ]
     },
     "execution_count": 42,
     "metadata": {},
     "output_type": "execute_result"
    }
   ],
   "source": [
    "training_df_full.shape"
   ]
  },
  {
   "cell_type": "code",
   "execution_count": 43,
   "metadata": {},
   "outputs": [],
   "source": [
    "columns_to_keep = ['Timestamp','InstanceId','node_cpu_utilization','node_memory_utilization','node_network_total_bytes']"
   ]
  },
  {
   "cell_type": "code",
   "execution_count": 44,
   "metadata": {},
   "outputs": [
    {
     "name": "stderr",
     "output_type": "stream",
     "text": [
      "/opt/conda/lib/python3.7/site-packages/ipykernel_launcher.py:1: FutureWarning: In a future version of pandas all arguments of DataFrame.drop except for the argument 'labels' will be keyword-only\n",
      "  \"\"\"Entry point for launching an IPython kernel.\n"
     ]
    }
   ],
   "source": [
    "training_df = training_df_full.drop(training_df_full.columns.difference(columns_to_keep),1, inplace=False)\n",
    "training_df['Timestamp'] = pd.to_datetime(training_df['Timestamp'], unit='ms')"
   ]
  },
  {
   "cell_type": "code",
   "execution_count": 45,
   "metadata": {},
   "outputs": [
    {
     "data": {
      "text/plain": [
       "2636965"
      ]
     },
     "execution_count": 45,
     "metadata": {},
     "output_type": "execute_result"
    }
   ],
   "source": [
    "len(training_df)"
   ]
  },
  {
   "cell_type": "code",
   "execution_count": 46,
   "metadata": {},
   "outputs": [],
   "source": [
    "training_df = training_df.dropna()"
   ]
  },
  {
   "cell_type": "code",
   "execution_count": 47,
   "metadata": {},
   "outputs": [],
   "source": [
    "test_df = training_df.copy()\n",
    "training_df = training_df[training_df.InstanceId != 'i-0b36e8825c482f762']"
   ]
  },
  {
   "cell_type": "markdown",
   "metadata": {},
   "source": [
    "-----"
   ]
  },
  {
   "cell_type": "markdown",
   "metadata": {},
   "source": [
    "# TRAIN DATASET: Build out Dataset for training on many nodes\n",
    "\n",
    "now we are starting to build out a training dataset for two nodes. This will prove our understanding of how to model can generalize across many EC2 instances. "
   ]
  },
  {
   "cell_type": "code",
   "execution_count": 48,
   "metadata": {},
   "outputs": [],
   "source": [
    "## for normalization\n",
    "# scaler = StandardScaler()\n",
    "\n",
    "scaler = StandardScaler()"
   ]
  },
  {
   "cell_type": "code",
   "execution_count": 49,
   "metadata": {},
   "outputs": [],
   "source": [
    "instance_dfs =[]\n",
    "for instance in training_df['InstanceId'].unique():\n",
    "    if(len(training_df[training_df.InstanceId == instance]) >60):\n",
    "        instance_dfs.append(training_df[training_df.InstanceId == instance].sort_values(by='Timestamp')\\\n",
    "                            .reset_index(drop=True))"
   ]
  },
  {
   "cell_type": "code",
   "execution_count": 50,
   "metadata": {},
   "outputs": [
    {
     "data": {
      "text/plain": [
       "(360, 20, 3)"
      ]
     },
     "execution_count": 50,
     "metadata": {},
     "output_type": "execute_result"
    }
   ],
   "source": [
    "\n",
    "import random \n",
    "\n",
    "x_train = np.zeros((n_samples,time_steps,len(features)))\n",
    "for b in range(n_samples):\n",
    "    \n",
    "    ##pick random df, and normalize\n",
    "    df = random.choice(instance_dfs)\n",
    "    df = df.drop(columns = ['InstanceId'])\n",
    "    df = df.set_index('Timestamp')\n",
    "    df = df.sort_index()\n",
    "    df[features] = scaler.fit_transform(df[features])\n",
    "    \n",
    "    \n",
    "    \n",
    "    sample = np.zeros((n_samples,len(features)))\n",
    "    ##make sure length of df is atleast 40\n",
    "    first_time = random.choice(range(len(df)-time_steps))\n",
    "    df.head()\n",
    "    sample = df[features].iloc[first_time:first_time+time_steps]\n",
    "    x_train[b] = sample\n",
    "\n",
    "x_train.shape"
   ]
  },
  {
   "cell_type": "markdown",
   "metadata": {},
   "source": [
    "our xtrain shape has the following properties: (sample size, time steps, numFeatures)"
   ]
  },
  {
   "cell_type": "markdown",
   "metadata": {},
   "source": [
    "-------"
   ]
  },
  {
   "cell_type": "markdown",
   "metadata": {},
   "source": [
    "----"
   ]
  },
  {
   "cell_type": "markdown",
   "metadata": {},
   "source": [
    "# Model Time"
   ]
  },
  {
   "cell_type": "markdown",
   "metadata": {},
   "source": [
    "----"
   ]
  },
  {
   "cell_type": "markdown",
   "metadata": {},
   "source": [
    "### First we train"
   ]
  },
  {
   "cell_type": "code",
   "execution_count": 51,
   "metadata": {},
   "outputs": [
    {
     "name": "stderr",
     "output_type": "stream",
     "text": [
      "WARNING:absl:`lr` is deprecated, please use `learning_rate` instead, or use the legacy optimizer, e.g.,tf.keras.optimizers.legacy.Adam.\n"
     ]
    },
    {
     "name": "stdout",
     "output_type": "stream",
     "text": [
      "Model: \"sequential_1\"\n",
      "_________________________________________________________________\n",
      " Layer (type)                Output Shape              Param #   \n",
      "=================================================================\n",
      " bidirectional_2 (Bidirectio  (None, 256)              135168    \n",
      " nal)                                                            \n",
      "                                                                 \n",
      " dropout_2 (Dropout)         (None, 256)               0         \n",
      "                                                                 \n",
      " repeat_vector_1 (RepeatVect  (None, 20, 256)          0         \n",
      " or)                                                             \n",
      "                                                                 \n",
      " bidirectional_3 (Bidirectio  (None, 20, 256)          394240    \n",
      " nal)                                                            \n",
      "                                                                 \n",
      " dropout_3 (Dropout)         (None, 20, 256)           0         \n",
      "                                                                 \n",
      " time_distributed_1 (TimeDis  (None, 20, 3)            771       \n",
      " tributed)                                                       \n",
      "                                                                 \n",
      "=================================================================\n",
      "Total params: 530,179\n",
      "Trainable params: 530,179\n",
      "Non-trainable params: 0\n",
      "_________________________________________________________________\n"
     ]
    }
   ],
   "source": [
    "\n",
    "##actually define the nueral network here. \n",
    "##Its a Keras sequential with an LSTM, a dropout, a repeat vector, then another LSTM, another dropout, and a timedistributed output. \n",
    "##The output is mapped back the number of features. \n",
    "##RepeatVector \"Repeats the input n times.\"https://keras.io/api/layers/reshaping_layers/repeat_vector/\n",
    "\n",
    "##none of the nueral network is hard coded (except for the number of nuerons b)\n",
    "model = Sequential(\n",
    "    [\n",
    "        layers.Bidirectional(layers.LSTM(128),input_shape=(x_train.shape[1], x_train.shape[2])),\n",
    "        layers.Dropout(rate = .1),\n",
    "        layers.RepeatVector(x_train.shape[1]),\n",
    "        layers.Bidirectional(layers.LSTM(128,return_sequences=True)),\n",
    "        layers.Dropout(rate = .1),\n",
    "        layers.TimeDistributed(layers.Dense(x_train.shape[2])),\n",
    "    ]\n",
    ")\n",
    "\n",
    "##nn compile groups layers into a model; the loss here is MAE, optimizer is Adam, learning rate is predefined\n",
    "model.compile(optimizer=tf.keras.optimizers.Adam(lr=.001), loss=\"mae\")\n",
    "model.summary()"
   ]
  },
  {
   "cell_type": "code",
   "execution_count": 27,
   "metadata": {},
   "outputs": [],
   "source": [
    "# model: i_model.IModel = autoencoder_model.AutoEncoderModel(batch_size = batch_size, time_steps = time_steps)"
   ]
  },
  {
   "cell_type": "code",
   "execution_count": 28,
   "metadata": {},
   "outputs": [],
   "source": [
    "# x_train"
   ]
  },
  {
   "cell_type": "code",
   "execution_count": 29,
   "metadata": {},
   "outputs": [
    {
     "name": "stdout",
     "output_type": "stream",
     "text": [
      "Epoch 1/250\n",
      "9/9 [==============================] - 7s 238ms/step - loss: 0.3310 - val_loss: 0.2296\n",
      "Epoch 2/250\n",
      "9/9 [==============================] - 1s 85ms/step - loss: 0.2515 - val_loss: 0.2147\n",
      "Epoch 3/250\n",
      "9/9 [==============================] - 1s 84ms/step - loss: 0.2286 - val_loss: 0.2030\n",
      "Epoch 4/250\n",
      "9/9 [==============================] - 1s 83ms/step - loss: 0.2219 - val_loss: 0.1959\n",
      "Epoch 5/250\n",
      "9/9 [==============================] - 1s 82ms/step - loss: 0.2175 - val_loss: 0.1930\n",
      "Epoch 6/250\n",
      "9/9 [==============================] - 1s 82ms/step - loss: 0.2144 - val_loss: 0.1913\n",
      "Epoch 7/250\n",
      "9/9 [==============================] - 1s 83ms/step - loss: 0.2117 - val_loss: 0.1887\n",
      "Epoch 8/250\n",
      "9/9 [==============================] - 1s 85ms/step - loss: 0.2106 - val_loss: 0.1870\n",
      "Epoch 9/250\n",
      "9/9 [==============================] - 1s 83ms/step - loss: 0.2104 - val_loss: 0.1850\n",
      "Epoch 10/250\n",
      "9/9 [==============================] - 1s 83ms/step - loss: 0.2095 - val_loss: 0.1857\n",
      "Epoch 11/250\n",
      "9/9 [==============================] - 1s 84ms/step - loss: 0.2099 - val_loss: 0.1884\n",
      "Epoch 12/250\n",
      "9/9 [==============================] - 1s 82ms/step - loss: 0.2087 - val_loss: 0.1829\n",
      "Epoch 13/250\n",
      "9/9 [==============================] - 1s 82ms/step - loss: 0.2070 - val_loss: 0.1844\n",
      "Epoch 14/250\n",
      "9/9 [==============================] - 1s 83ms/step - loss: 0.2058 - val_loss: 0.1830\n",
      "Epoch 15/250\n",
      "9/9 [==============================] - 1s 82ms/step - loss: 0.2057 - val_loss: 0.1823\n",
      "Epoch 16/250\n",
      "9/9 [==============================] - 1s 82ms/step - loss: 0.2061 - val_loss: 0.1874\n",
      "Epoch 17/250\n",
      "9/9 [==============================] - 1s 84ms/step - loss: 0.2076 - val_loss: 0.1840\n",
      "Epoch 18/250\n",
      "9/9 [==============================] - 1s 83ms/step - loss: 0.2069 - val_loss: 0.1832\n",
      "Epoch 19/250\n",
      "9/9 [==============================] - 1s 82ms/step - loss: 0.2053 - val_loss: 0.1871\n",
      "Epoch 20/250\n",
      "9/9 [==============================] - 1s 84ms/step - loss: 0.2045 - val_loss: 0.1814\n",
      "Epoch 21/250\n",
      "9/9 [==============================] - 1s 83ms/step - loss: 0.2043 - val_loss: 0.1853\n",
      "Epoch 22/250\n",
      "9/9 [==============================] - 1s 82ms/step - loss: 0.2047 - val_loss: 0.1819\n",
      "Epoch 23/250\n",
      "9/9 [==============================] - 1s 84ms/step - loss: 0.2048 - val_loss: 0.1909\n",
      "Epoch 24/250\n",
      "9/9 [==============================] - 1s 84ms/step - loss: 0.2026 - val_loss: 0.1822\n",
      "Epoch 25/250\n",
      "9/9 [==============================] - 1s 84ms/step - loss: 0.2031 - val_loss: 0.1818\n"
     ]
    }
   ],
   "source": [
    "history = model.fit(\n",
    "    x_train,\n",
    "    x_train,\n",
    "    epochs=250,\n",
    "    batch_size=36,\n",
    "    validation_split=.1,\n",
    "    callbacks=[\n",
    "        keras.callbacks.EarlyStopping(monitor=\"val_loss\", patience=5, mode=\"min\")\n",
    "    ],\n",
    ")\n",
    "            \n",
    "\n",
    "\n",
    "# history = model.fit(x_train,\n",
    "#                     x_train,\n",
    "#                     epochs=250,\n",
    "#                     validation_split=.1,)\n"
   ]
  },
  {
   "cell_type": "code",
   "execution_count": null,
   "metadata": {},
   "outputs": [
    {
     "data": {
      "image/png": "[encoded data removed]",
      "text/plain": [
       "<Figure size 640x480 with 1 Axes>"
      ]
     },
     "metadata": {},
     "output_type": "display_data"
    }
   ],
   "source": [
    "plt.figure()\n",
    "plt.plot(history.history[\"loss\"], label=\"Training Loss\")\n",
    "plt.plot(history.history[\"val_loss\"], label=\"Validation Loss\")\n",
    "plt.legend()\n",
    "plt.show()"
   ]
  },
  {
   "cell_type": "markdown",
   "metadata": {},
   "source": [
    "###  Bidirectional LSTM 128 Units {per encoder and decoder}\n",
    "### 1 month of data, tensor size: [36k,40ts,3f]"
   ]
  },
  {
   "cell_type": "markdown",
   "metadata": {},
   "source": [
    "Now dewa wants all of the residuals"
   ]
  },
  {
   "cell_type": "code",
   "execution_count": 108,
   "metadata": {},
   "outputs": [
    {
     "name": "stdout",
     "output_type": "stream",
     "text": [
      "1125/1125 [==============================] - 28s 24ms/step\n"
     ]
    }
   ],
   "source": [
    "resids = model.predict(x_train)"
   ]
  },
  {
   "cell_type": "code",
   "execution_count": 112,
   "metadata": {},
   "outputs": [],
   "source": [
    "np.save('resids', resids)"
   ]
  },
  {
   "cell_type": "code",
   "execution_count": null,
   "metadata": {},
   "outputs": [],
   "source": []
  }
 ],
 "metadata": {
  "instance_type": "ml.t3.2xlarge",
  "kernelspec": {
   "display_name": "Python 3 (Data Science)",
   "language": "python",
   "name": "python3__SAGEMAKER_INTERNAL__arn:aws:sagemaker:us-west-2:236514542706:image/datascience-1.0"
  },
  "language_info": {
   "codemirror_mode": {
    "name": "ipython",
    "version": 3
   },
   "file_extension": ".py",
   "mimetype": "text/x-python",
   "name": "python",
   "nbconvert_exporter": "python",
   "pygments_lexer": "ipython3",
   "version": "3.7.10"
  }
 },
 "nbformat": 4,
 "nbformat_minor": 4
}
