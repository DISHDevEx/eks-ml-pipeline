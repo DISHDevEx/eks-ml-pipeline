{
 "cells": [
  {
   "cell_type": "markdown",
   "metadata": {},
   "source": [
    "# Autoencoder Multivariate Training (Expiriment 3)\n",
    "\n",
    " Vinayak Sharma\n",
    "  \n",
    " This notebook aims to train an autoencoder on univariate timeseries data from EKS Performance metrics for MANY NODES. The training data is 'non-anomalous'. \n",
    "\n",
    " The model and implementation techniques can be found in the following github: https://github.com/emerelte/kad\n",
    " \n",
    " The research paper that this work is based on can be found here: https://ieeexplore.ieee.org/stamp/stamp.jsp?tp=&arnumber=9925210"
   ]
  },
  {
   "cell_type": "markdown",
   "metadata": {},
   "source": [
    "------"
   ]
  },
  {
   "cell_type": "code",
   "execution_count": 20,
   "metadata": {},
   "outputs": [],
   "source": [
    "##global variable\n",
    "timesteps = 20\n",
    "time_steps = 20\n",
    "batch_size = 36\n",
    "n_samples = batch_size*5000\n",
    "features = ['node_cpu_utilization','node_memory_utilization','node_network_total_bytes']"
   ]
  },
  {
   "cell_type": "markdown",
   "metadata": {},
   "source": [
    "## Imports"
   ]
  },
  {
   "cell_type": "code",
   "execution_count": 21,
   "metadata": {},
   "outputs": [],
   "source": [
    "# # !pip install -r /root/eks-ml-pipeline/modeling/kad/kad/requirements.txt\n",
    "# !pip install keras\n",
    "# !pip install tensorflow"
   ]
  },
  {
   "cell_type": "code",
   "execution_count": 22,
   "metadata": {},
   "outputs": [],
   "source": [
    "# !pip install tensorflow\n",
    "# !pip install keras"
   ]
  },
  {
   "cell_type": "code",
   "execution_count": null,
   "metadata": {},
   "outputs": [],
   "source": []
  },
  {
   "cell_type": "code",
   "execution_count": 23,
   "metadata": {},
   "outputs": [],
   "source": [
    "import importlib\n",
    "import numpy as np\n",
    "import pandas as pd\n",
    "from matplotlib import pyplot as plt\n",
    "from sklearn.preprocessing import MinMaxScaler, StandardScaler\n",
    "import json\n",
    "import sys\n",
    "import statsmodels.api as sm\n",
    "import os\n",
    "import keras\n",
    "from keras import layers\n",
    "import tensorflow as tf\n",
    "from sklearn.preprocessing import StandardScaler\n",
    "from autoencoder_model_dish_5g import autoencoder_model_dish_5g\n",
    "\n",
    "from sklearn.model_selection import train_test_split\n",
    "\n",
    "import _pickle as cPickle\n"
   ]
  },
  {
   "cell_type": "code",
   "execution_count": 24,
   "metadata": {},
   "outputs": [],
   "source": [
    "import logging\n",
    "import warnings\n",
    "import numpy as np\n",
    "import pandas as pd\n",
    "from sklearn.model_selection import train_test_split\n",
    "from sklearn.preprocessing import MinMaxScaler\n",
    "from tensorflow import keras\n",
    "import tensorflow as tf\n",
    "from tensorflow.keras import layers\n",
    "from matplotlib import pyplot as plt"
   ]
  },
  {
   "cell_type": "code",
   "execution_count": 25,
   "metadata": {},
   "outputs": [],
   "source": [
    "pd.set_option('display.max_rows', None)"
   ]
  },
  {
   "cell_type": "markdown",
   "metadata": {},
   "source": [
    "First lets read in our training sample set "
   ]
  },
  {
   "cell_type": "code",
   "execution_count": 26,
   "metadata": {},
   "outputs": [],
   "source": [
    "training_df_full = pd.read_parquet('/root/healthy_clusters_node_month.parquet')"
   ]
  },
  {
   "cell_type": "code",
   "execution_count": 27,
   "metadata": {},
   "outputs": [
    {
     "data": {
      "text/plain": [
       "(2636965, 19)"
      ]
     },
     "execution_count": 27,
     "metadata": {},
     "output_type": "execute_result"
    }
   ],
   "source": [
    "training_df_full.shape"
   ]
  },
  {
   "cell_type": "code",
   "execution_count": 28,
   "metadata": {},
   "outputs": [],
   "source": [
    "columns_to_keep = ['Timestamp','InstanceId','node_cpu_utilization','node_memory_utilization','node_network_total_bytes']"
   ]
  },
  {
   "cell_type": "code",
   "execution_count": 29,
   "metadata": {},
   "outputs": [
    {
     "name": "stderr",
     "output_type": "stream",
     "text": [
      "/opt/conda/lib/python3.7/site-packages/ipykernel_launcher.py:1: FutureWarning: In a future version of pandas all arguments of DataFrame.drop except for the argument 'labels' will be keyword-only\n",
      "  \"\"\"Entry point for launching an IPython kernel.\n"
     ]
    }
   ],
   "source": [
    "training_df = training_df_full.drop(training_df_full.columns.difference(columns_to_keep),1, inplace=False)\n",
    "training_df['Timestamp'] = pd.to_datetime(training_df['Timestamp'], unit='ms')"
   ]
  },
  {
   "cell_type": "code",
   "execution_count": 30,
   "metadata": {},
   "outputs": [
    {
     "data": {
      "text/plain": [
       "2636965"
      ]
     },
     "execution_count": 30,
     "metadata": {},
     "output_type": "execute_result"
    }
   ],
   "source": [
    "len(training_df)"
   ]
  },
  {
   "cell_type": "code",
   "execution_count": 31,
   "metadata": {},
   "outputs": [],
   "source": [
    "training_df = training_df.dropna()"
   ]
  },
  {
   "cell_type": "code",
   "execution_count": 32,
   "metadata": {},
   "outputs": [],
   "source": [
    "test_df = training_df.copy()\n",
    "training_df = training_df[training_df.InstanceId != 'i-0b36e8825c482f762']"
   ]
  },
  {
   "cell_type": "markdown",
   "metadata": {},
   "source": [
    "-----"
   ]
  },
  {
   "cell_type": "markdown",
   "metadata": {},
   "source": [
    "# TRAIN DATASET: Build out Dataset for training on many nodes\n",
    "\n",
    "now we are starting to build out a training dataset for two nodes. This will prove our understanding of how to model can generalize across many EC2 instances. "
   ]
  },
  {
   "cell_type": "code",
   "execution_count": 33,
   "metadata": {},
   "outputs": [],
   "source": [
    "## for normalization\n",
    "# scaler = StandardScaler()\n",
    "\n",
    "scaler = StandardScaler()"
   ]
  },
  {
   "cell_type": "code",
   "execution_count": 34,
   "metadata": {},
   "outputs": [],
   "source": [
    "instance_dfs =[]\n",
    "for instance in training_df['InstanceId'].unique():\n",
    "    if(len(training_df[training_df.InstanceId == instance]) >60):\n",
    "        instance_dfs.append(training_df[training_df.InstanceId == instance].sort_values(by='Timestamp')\\\n",
    "                            .reset_index(drop=True))"
   ]
  },
  {
   "cell_type": "code",
   "execution_count": 35,
   "metadata": {},
   "outputs": [
    {
     "data": {
      "text/plain": [
       "(180000, 20, 3)"
      ]
     },
     "execution_count": 35,
     "metadata": {},
     "output_type": "execute_result"
    }
   ],
   "source": [
    "\n",
    "import random \n",
    "\n",
    "x_train = np.zeros((n_samples,time_steps,len(features)))\n",
    "for b in range(n_samples):\n",
    "    \n",
    "    ##pick random df, and normalize\n",
    "    df = random.choice(instance_dfs)\n",
    "    df = df.drop(columns = ['InstanceId'])\n",
    "    df = df.set_index('Timestamp')\n",
    "    df = df.sort_index()\n",
    "    df[features] = scaler.fit_transform(df[features])\n",
    "    \n",
    "    \n",
    "    \n",
    "    sample = np.zeros((n_samples,len(features)))\n",
    "    ##make sure length of df is atleast 40\n",
    "    first_time = random.choice(range(len(df)-time_steps))\n",
    "    df.head()\n",
    "    sample = df[features].iloc[first_time:first_time+time_steps]\n",
    "    x_train[b] = sample\n",
    "\n",
    "x_train.shape"
   ]
  },
  {
   "cell_type": "markdown",
   "metadata": {},
   "source": [
    "our xtrain shape has the following properties: (sample size, time steps, numFeatures)"
   ]
  },
  {
   "cell_type": "markdown",
   "metadata": {},
   "source": [
    "-------"
   ]
  },
  {
   "cell_type": "markdown",
   "metadata": {},
   "source": [
    "----"
   ]
  },
  {
   "cell_type": "markdown",
   "metadata": {},
   "source": [
    "# Model Time"
   ]
  },
  {
   "cell_type": "markdown",
   "metadata": {},
   "source": [
    "----"
   ]
  },
  {
   "cell_type": "markdown",
   "metadata": {},
   "source": [
    "### First we train"
   ]
  },
  {
   "cell_type": "code",
   "execution_count": 36,
   "metadata": {},
   "outputs": [],
   "source": [
    "model = autoencoder_model_dish_5g(batch_size = batch_size, time_steps = time_steps, epochs = 250,nuerons=128)"
   ]
  },
  {
   "cell_type": "code",
   "execution_count": 37,
   "metadata": {},
   "outputs": [],
   "source": [
    "# model: i_model.IModel = autoencoder_model.AutoEncoderModel(batch_size = batch_size, time_steps = time_steps)"
   ]
  },
  {
   "cell_type": "code",
   "execution_count": null,
   "metadata": {},
   "outputs": [
    {
     "name": "stderr",
     "output_type": "stream",
     "text": [
      "WARNING:absl:`lr` is deprecated, please use `learning_rate` instead, or use the legacy optimizer, e.g.,tf.keras.optimizers.legacy.Adam.\n"
     ]
    },
    {
     "name": "stdout",
     "output_type": "stream",
     "text": [
      "Model: \"sequential\"\n",
      "_________________________________________________________________\n",
      " Layer (type)                Output Shape              Param #   \n",
      "=================================================================\n",
      " lstm (LSTM)                 (None, 128)               67584     \n",
      "                                                                 \n",
      " dropout (Dropout)           (None, 128)               0         \n",
      "                                                                 \n",
      " repeat_vector (RepeatVector  (None, 20, 128)          0         \n",
      " )                                                               \n",
      "                                                                 \n",
      " lstm_1 (LSTM)               (None, 20, 128)           131584    \n",
      "                                                                 \n",
      " dropout_1 (Dropout)         (None, 20, 128)           0         \n",
      "                                                                 \n",
      " time_distributed (TimeDistr  (None, 20, 3)            387       \n",
      " ibuted)                                                         \n",
      "                                                                 \n",
      "=================================================================\n",
      "Total params: 199,555\n",
      "Trainable params: 199,555\n",
      "Non-trainable params: 0\n",
      "_________________________________________________________________\n",
      "Epoch 1/250\n",
      "4500/4500 [==============================] - 113s 25ms/step - loss: 0.2055 - val_loss: 0.1901\n",
      "Epoch 2/250\n",
      "4500/4500 [==============================] - 111s 25ms/step - loss: 0.1949 - val_loss: 0.1826\n",
      "Epoch 3/250\n",
      "4500/4500 [==============================] - 112s 25ms/step - loss: 0.1864 - val_loss: 0.1744\n",
      "Epoch 4/250\n",
      "4500/4500 [==============================] - 113s 25ms/step - loss: 0.1802 - val_loss: 0.1695\n",
      "Epoch 5/250\n",
      "4500/4500 [==============================] - 114s 25ms/step - loss: 0.1738 - val_loss: 0.1595\n",
      "Epoch 6/250\n",
      "4500/4500 [==============================] - 113s 25ms/step - loss: 0.1668 - val_loss: 0.1505\n",
      "Epoch 7/250\n",
      "4500/4500 [==============================] - 115s 26ms/step - loss: 0.1594 - val_loss: 0.1434\n",
      "Epoch 8/250\n",
      "4500/4500 [==============================] - 115s 25ms/step - loss: 0.1530 - val_loss: 0.1330\n",
      "Epoch 9/250\n",
      "4500/4500 [==============================] - 116s 26ms/step - loss: 0.1468 - val_loss: 0.1291\n",
      "Epoch 10/250\n",
      "4500/4500 [==============================] - 116s 26ms/step - loss: 0.1405 - val_loss: 0.1195\n",
      "Epoch 11/250\n",
      "4500/4500 [==============================] - 116s 26ms/step - loss: 0.1342 - val_loss: 0.1133\n",
      "Epoch 12/250\n",
      "4500/4500 [==============================] - 115s 26ms/step - loss: 0.1282 - val_loss: 0.1036\n",
      "Epoch 13/250\n",
      "4500/4500 [==============================] - 114s 25ms/step - loss: 0.1207 - val_loss: 0.0950\n",
      "Epoch 14/250\n",
      "4500/4500 [==============================] - 115s 25ms/step - loss: 0.1137 - val_loss: 0.0911\n",
      "Epoch 15/250\n",
      "4500/4500 [==============================] - 117s 26ms/step - loss: 0.1095 - val_loss: 0.0843\n",
      "Epoch 16/250\n",
      "4500/4500 [==============================] - 116s 26ms/step - loss: 0.1061 - val_loss: 0.0819\n",
      "Epoch 17/250\n",
      "4500/4500 [==============================] - 117s 26ms/step - loss: 0.1036 - val_loss: 0.0809\n",
      "Epoch 18/250\n",
      "4500/4500 [==============================] - 119s 26ms/step - loss: 0.1018 - val_loss: 0.0779\n",
      "Epoch 19/250\n",
      "4500/4500 [==============================] - 119s 26ms/step - loss: 0.0998 - val_loss: 0.0756\n",
      "Epoch 20/250\n",
      "4500/4500 [==============================] - 118s 26ms/step - loss: 0.0983 - val_loss: 0.0730\n",
      "Epoch 21/250\n",
      "4500/4500 [==============================] - 117s 26ms/step - loss: 0.0967 - val_loss: 0.0702\n",
      "Epoch 22/250\n",
      "4500/4500 [==============================] - 116s 26ms/step - loss: 0.0948 - val_loss: 0.0694\n",
      "Epoch 23/250\n",
      "4500/4500 [==============================] - 117s 26ms/step - loss: 0.0931 - val_loss: 0.0698\n",
      "Epoch 24/250\n",
      "4500/4500 [==============================] - 118s 26ms/step - loss: 0.0915 - val_loss: 0.0683\n",
      "Epoch 25/250\n",
      "4500/4500 [==============================] - 115s 26ms/step - loss: 0.0899 - val_loss: 0.0654\n",
      "Epoch 26/250\n",
      "4500/4500 [==============================] - 116s 26ms/step - loss: 0.0882 - val_loss: 0.0659\n",
      "Epoch 27/250\n",
      "4500/4500 [==============================] - 116s 26ms/step - loss: 0.0869 - val_loss: 0.0639\n",
      "Epoch 28/250\n",
      "4500/4500 [==============================] - 118s 26ms/step - loss: 0.0854 - val_loss: 0.0624\n",
      "Epoch 29/250\n",
      "4500/4500 [==============================] - 119s 26ms/step - loss: 0.0836 - val_loss: 0.0614\n",
      "Epoch 30/250\n",
      "4500/4500 [==============================] - 117s 26ms/step - loss: 0.0814 - val_loss: 0.0604\n",
      "Epoch 31/250\n",
      "4500/4500 [==============================] - 116s 26ms/step - loss: 0.0795 - val_loss: 0.0598\n",
      "Epoch 32/250\n",
      "4500/4500 [==============================] - 117s 26ms/step - loss: 0.0775 - val_loss: 0.0605\n",
      "Epoch 33/250\n",
      "4500/4500 [==============================] - 119s 26ms/step - loss: 0.0759 - val_loss: 0.0593\n",
      "Epoch 34/250\n",
      "4500/4500 [==============================] - 117s 26ms/step - loss: 0.0738 - val_loss: 0.0565\n",
      "Epoch 35/250\n",
      "4500/4500 [==============================] - 118s 26ms/step - loss: 0.0718 - val_loss: 0.0559\n",
      "Epoch 36/250\n",
      "4500/4500 [==============================] - 119s 26ms/step - loss: 0.0707 - val_loss: 0.0548\n",
      "Epoch 37/250\n",
      "4500/4500 [==============================] - 119s 27ms/step - loss: 0.0700 - val_loss: 0.0582\n",
      "Epoch 38/250\n",
      "4500/4500 [==============================] - 120s 27ms/step - loss: 0.0693 - val_loss: 0.0568\n",
      "Epoch 39/250\n",
      "4500/4500 [==============================] - 120s 27ms/step - loss: 0.0686 - val_loss: 0.0561\n",
      "Epoch 40/250\n",
      "4500/4500 [==============================] - 121s 27ms/step - loss: 0.0679 - val_loss: 0.0578\n",
      "Epoch 41/250\n",
      "4500/4500 [==============================] - 121s 27ms/step - loss: 0.0675 - val_loss: 0.0597\n"
     ]
    },
    {
     "data": {
      "image/png": "[encoded data removed]",
      "text/plain": [
       "<Figure size 640x480 with 1 Axes>"
      ]
     },
     "metadata": {},
     "output_type": "display_data"
    },
    {
     "name": "stdout",
     "output_type": "stream",
     "text": [
      "5625/5625 [==============================] - 75s 13ms/step\n",
      "error_threshold 37.03659336007859\n"
     ]
    }
   ],
   "source": [
    "val_err = model.train(x_train)\n"
   ]
  },
  {
   "cell_type": "markdown",
   "metadata": {},
   "source": [
    "### 1 LSTM 128 Units {per encoder and decoder}\n",
    "### 1 month of data, tensor size: [36k,20ts,3f]"
   ]
  },
  {
   "cell_type": "code",
   "execution_count": null,
   "metadata": {},
   "outputs": [],
   "source": []
  }
 ],
 "metadata": {
  "kernelspec": {
   "display_name": "Python 3 (Data Science)",
   "language": "python",
   "name": "python3__SAGEMAKER_INTERNAL__arn:aws:sagemaker:us-west-2:236514542706:image/datascience-1.0"
  },
  "language_info": {
   "codemirror_mode": {
    "name": "ipython",
    "version": 3
   },
   "file_extension": ".py",
   "mimetype": "text/x-python",
   "name": "python",
   "nbconvert_exporter": "python",
   "pygments_lexer": "ipython3",
   "version": "3.7.10"
  }
 },
 "nbformat": 4,
 "nbformat_minor": 4
}
