{
 "cells": [
  {
   "cell_type": "markdown",
   "metadata": {},
   "source": [
    "# Autoencoder Multivariate Training (Expiriment 3)\n",
    "\n",
    " Vinayak Sharma\n",
    "  \n",
    " This notebook aims to train an autoencoder on univariate timeseries data from EKS Performance metrics for MANY NODES. The training data is 'non-anomalous'. \n",
    "\n",
    " The model and implementation techniques can be found in the following github: https://github.com/emerelte/kad\n",
    " \n",
    " The research paper that this work is based on can be found here: https://ieeexplore.ieee.org/stamp/stamp.jsp?tp=&arnumber=9925210"
   ]
  },
  {
   "cell_type": "markdown",
   "metadata": {},
   "source": [
    "------"
   ]
  },
  {
   "cell_type": "code",
   "execution_count": 30,
   "metadata": {},
   "outputs": [],
   "source": [
    "##global variable\n",
    "timesteps = 40\n",
    "time_steps = 40\n",
    "batch_size = 36\n",
    "n_samples = batch_size*10000\n",
    "features = ['node_cpu_utilization','node_memory_utilization','node_network_total_bytes']"
   ]
  },
  {
   "cell_type": "markdown",
   "metadata": {},
   "source": [
    "## Imports"
   ]
  },
  {
   "cell_type": "code",
   "execution_count": 3,
   "metadata": {},
   "outputs": [],
   "source": [
    "# !pip install -r /root/eks-ml-pipeline/modeling/kad/kad/requirements.txt\n",
    "# # # !pip install keras\n",
    "# # # !pip install tensorflow"
   ]
  },
  {
   "cell_type": "code",
   "execution_count": 9,
   "metadata": {},
   "outputs": [],
   "source": [
    "# !pip install tensorflow\n",
    "# !pip install keras"
   ]
  },
  {
   "cell_type": "code",
   "execution_count": null,
   "metadata": {},
   "outputs": [],
   "source": []
  },
  {
   "cell_type": "code",
   "execution_count": 10,
   "metadata": {},
   "outputs": [],
   "source": [
    "import importlib\n",
    "import numpy as np\n",
    "import pandas as pd\n",
    "from matplotlib import pyplot as plt\n",
    "from sklearn.preprocessing import MinMaxScaler, StandardScaler\n",
    "import json\n",
    "import sys\n",
    "import statsmodels.api as sm\n",
    "import os\n",
    "import keras\n",
    "from keras import layers\n",
    "import tensorflow as tf\n",
    "from sklearn.preprocessing import StandardScaler\n",
    "from autoencoder_model_dish_5g import autoencoder_model_dish_5g\n",
    "\n",
    "from sklearn.model_selection import train_test_split\n",
    "\n",
    "import _pickle as cPickle\n"
   ]
  },
  {
   "cell_type": "code",
   "execution_count": 11,
   "metadata": {},
   "outputs": [],
   "source": [
    "import logging\n",
    "import warnings\n",
    "import numpy as np\n",
    "import pandas as pd\n",
    "from sklearn.model_selection import train_test_split\n",
    "from sklearn.preprocessing import MinMaxScaler\n",
    "from tensorflow import keras\n",
    "import tensorflow as tf\n",
    "from tensorflow.keras import layers\n",
    "from matplotlib import pyplot as plt"
   ]
  },
  {
   "cell_type": "code",
   "execution_count": 12,
   "metadata": {},
   "outputs": [],
   "source": [
    "pd.set_option('display.max_rows', None)"
   ]
  },
  {
   "cell_type": "markdown",
   "metadata": {},
   "source": [
    "First lets read in our training sample set "
   ]
  },
  {
   "cell_type": "code",
   "execution_count": 13,
   "metadata": {},
   "outputs": [],
   "source": [
    "training_df_full = pd.read_parquet('/root/healthy_clusters_node_month.parquet')"
   ]
  },
  {
   "cell_type": "code",
   "execution_count": 16,
   "metadata": {},
   "outputs": [
    {
     "data": {
      "text/plain": [
       "(2636965, 19)"
      ]
     },
     "execution_count": 16,
     "metadata": {},
     "output_type": "execute_result"
    }
   ],
   "source": [
    "training_df_full.shape"
   ]
  },
  {
   "cell_type": "code",
   "execution_count": 17,
   "metadata": {},
   "outputs": [],
   "source": [
    "columns_to_keep = ['Timestamp','InstanceId','node_cpu_utilization','node_memory_utilization','node_network_total_bytes']"
   ]
  },
  {
   "cell_type": "code",
   "execution_count": 18,
   "metadata": {},
   "outputs": [
    {
     "name": "stderr",
     "output_type": "stream",
     "text": [
      "/opt/conda/lib/python3.7/site-packages/ipykernel_launcher.py:1: FutureWarning: In a future version of pandas all arguments of DataFrame.drop except for the argument 'labels' will be keyword-only\n",
      "  \"\"\"Entry point for launching an IPython kernel.\n"
     ]
    }
   ],
   "source": [
    "training_df = training_df_full.drop(training_df_full.columns.difference(columns_to_keep),1, inplace=False)\n",
    "training_df['Timestamp'] = pd.to_datetime(training_df['Timestamp'], unit='ms')"
   ]
  },
  {
   "cell_type": "code",
   "execution_count": 19,
   "metadata": {},
   "outputs": [
    {
     "data": {
      "text/plain": [
       "2636965"
      ]
     },
     "execution_count": 19,
     "metadata": {},
     "output_type": "execute_result"
    }
   ],
   "source": [
    "len(training_df)"
   ]
  },
  {
   "cell_type": "code",
   "execution_count": 20,
   "metadata": {},
   "outputs": [],
   "source": [
    "training_df = training_df.dropna()"
   ]
  },
  {
   "cell_type": "code",
   "execution_count": 21,
   "metadata": {},
   "outputs": [],
   "source": [
    "test_df = training_df.copy()\n",
    "training_df = training_df[training_df.InstanceId != 'i-0b36e8825c482f762']"
   ]
  },
  {
   "cell_type": "markdown",
   "metadata": {},
   "source": [
    "-----"
   ]
  },
  {
   "cell_type": "markdown",
   "metadata": {},
   "source": [
    "# TRAIN DATASET: Build out Dataset for training on many nodes\n",
    "\n",
    "now we are starting to build out a training dataset for two nodes. This will prove our understanding of how to model can generalize across many EC2 instances. "
   ]
  },
  {
   "cell_type": "code",
   "execution_count": 22,
   "metadata": {},
   "outputs": [],
   "source": [
    "## for normalization\n",
    "# scaler = StandardScaler()\n",
    "\n",
    "scaler = StandardScaler()"
   ]
  },
  {
   "cell_type": "code",
   "execution_count": 25,
   "metadata": {},
   "outputs": [],
   "source": [
    "instance_dfs =[]\n",
    "for instance in training_df['InstanceId'].unique():\n",
    "    if(len(training_df[training_df.InstanceId == instance]) >60):\n",
    "        instance_dfs.append(training_df[training_df.InstanceId == instance].sort_values(by='Timestamp')\\\n",
    "                            .reset_index(drop=True))"
   ]
  },
  {
   "cell_type": "code",
   "execution_count": 31,
   "metadata": {},
   "outputs": [
    {
     "data": {
      "text/plain": [
       "(360000, 40, 3)"
      ]
     },
     "execution_count": 31,
     "metadata": {},
     "output_type": "execute_result"
    }
   ],
   "source": [
    "\n",
    "import random \n",
    "\n",
    "x_train = np.zeros((n_samples,time_steps,len(features)))\n",
    "for b in range(n_samples):\n",
    "    \n",
    "    ##pick random df, and normalize\n",
    "    df = random.choice(instance_dfs)\n",
    "    df = df.drop(columns = ['InstanceId'])\n",
    "    df = df.set_index('Timestamp')\n",
    "    df = df.sort_index()\n",
    "    df[features] = scaler.fit_transform(df[features])\n",
    "    \n",
    "    \n",
    "    \n",
    "    sample = np.zeros((n_samples,len(features)))\n",
    "    ##make sure length of df is atleast 40\n",
    "    first_time = random.choice(range(len(df)-time_steps))\n",
    "    df.head()\n",
    "    sample = df[features].iloc[first_time:first_time+time_steps]\n",
    "    x_train[b] = sample\n",
    "\n",
    "x_train.shape"
   ]
  },
  {
   "cell_type": "markdown",
   "metadata": {},
   "source": [
    "our xtrain shape has the following properties: (sample size, time steps, numFeatures)"
   ]
  },
  {
   "cell_type": "markdown",
   "metadata": {},
   "source": [
    "-------"
   ]
  },
  {
   "cell_type": "markdown",
   "metadata": {},
   "source": [
    "----"
   ]
  },
  {
   "cell_type": "markdown",
   "metadata": {},
   "source": [
    "# Model Time"
   ]
  },
  {
   "cell_type": "markdown",
   "metadata": {},
   "source": [
    "----"
   ]
  },
  {
   "cell_type": "markdown",
   "metadata": {},
   "source": [
    "### First we train"
   ]
  },
  {
   "cell_type": "code",
   "execution_count": 32,
   "metadata": {},
   "outputs": [],
   "source": [
    "model = autoencoder_model_dish_5g(batch_size = batch_size, time_steps = time_steps, epochs = 250,nuerons=128)"
   ]
  },
  {
   "cell_type": "code",
   "execution_count": 33,
   "metadata": {},
   "outputs": [],
   "source": [
    "# model: i_model.IModel = autoencoder_model.AutoEncoderModel(batch_size = batch_size, time_steps = time_steps)"
   ]
  },
  {
   "cell_type": "code",
   "execution_count": null,
   "metadata": {},
   "outputs": [
    {
     "name": "stderr",
     "output_type": "stream",
     "text": [
      "WARNING:absl:`lr` is deprecated, please use `learning_rate` instead, or use the legacy optimizer, e.g.,tf.keras.optimizers.legacy.Adam.\n"
     ]
    },
    {
     "name": "stdout",
     "output_type": "stream",
     "text": [
      "Model: \"sequential_1\"\n",
      "_________________________________________________________________\n",
      " Layer (type)                Output Shape              Param #   \n",
      "=================================================================\n",
      " lstm_2 (LSTM)               (None, 128)               67584     \n",
      "                                                                 \n",
      " dropout_2 (Dropout)         (None, 128)               0         \n",
      "                                                                 \n",
      " repeat_vector_1 (RepeatVect  (None, 40, 128)          0         \n",
      " or)                                                             \n",
      "                                                                 \n",
      " lstm_3 (LSTM)               (None, 40, 128)           131584    \n",
      "                                                                 \n",
      " dropout_3 (Dropout)         (None, 40, 128)           0         \n",
      "                                                                 \n",
      " time_distributed_1 (TimeDis  (None, 40, 3)            387       \n",
      " tributed)                                                       \n",
      "                                                                 \n",
      "=================================================================\n",
      "Total params: 199,555\n",
      "Trainable params: 199,555\n",
      "Non-trainable params: 0\n",
      "_________________________________________________________________\n",
      "Epoch 1/250\n",
      "9000/9000 [==============================] - 378s 42ms/step - loss: 0.2100 - val_loss: 0.1950\n",
      "Epoch 2/250\n",
      "9000/9000 [==============================] - 374s 42ms/step - loss: 0.2004 - val_loss: 0.1887\n",
      "Epoch 3/250\n",
      "9000/9000 [==============================] - 359s 40ms/step - loss: 0.1952 - val_loss: 0.1826\n",
      "Epoch 4/250\n",
      "9000/9000 [==============================] - 374s 42ms/step - loss: 0.1884 - val_loss: 0.1776\n",
      "Epoch 5/250\n",
      "9000/9000 [==============================] - 370s 41ms/step - loss: 0.1854 - val_loss: 0.1744\n",
      "Epoch 6/250\n",
      "9000/9000 [==============================] - 377s 42ms/step - loss: 0.1836 - val_loss: 0.1823\n",
      "Epoch 7/250\n",
      "9000/9000 [==============================] - 358s 40ms/step - loss: 0.1831 - val_loss: 0.1736\n",
      "Epoch 8/250\n",
      "9000/9000 [==============================] - 353s 39ms/step - loss: 0.1804 - val_loss: 0.1705\n",
      "Epoch 9/250\n",
      "9000/9000 [==============================] - 352s 39ms/step - loss: 0.1786 - val_loss: 0.1680\n",
      "Epoch 10/250\n",
      "9000/9000 [==============================] - 360s 40ms/step - loss: 0.1781 - val_loss: 0.1688\n",
      "Epoch 11/250\n",
      "9000/9000 [==============================] - 380s 42ms/step - loss: 0.1774 - val_loss: 0.1643\n",
      "Epoch 12/250\n",
      "9000/9000 [==============================] - 384s 43ms/step - loss: 0.1734 - val_loss: 0.1611\n",
      "Epoch 13/250\n",
      "9000/9000 [==============================] - 390s 43ms/step - loss: 0.1707 - val_loss: 0.1599\n",
      "Epoch 14/250\n",
      "9000/9000 [==============================] - 386s 43ms/step - loss: 0.1709 - val_loss: 0.1609\n",
      "Epoch 15/250\n",
      "9000/9000 [==============================] - 384s 43ms/step - loss: 0.1672 - val_loss: 0.1540\n",
      "Epoch 16/250\n",
      "9000/9000 [==============================] - 384s 43ms/step - loss: 0.1633 - val_loss: 0.1514\n",
      "Epoch 17/250\n",
      "9000/9000 [==============================] - 382s 42ms/step - loss: 0.1604 - val_loss: 0.1471\n",
      "Epoch 18/250\n",
      "9000/9000 [==============================] - 384s 43ms/step - loss: 0.1568 - val_loss: 0.1525\n",
      "Epoch 19/250\n",
      "9000/9000 [==============================] - 388s 43ms/step - loss: 0.1538 - val_loss: 0.1421\n",
      "Epoch 20/250\n",
      "9000/9000 [==============================] - 382s 42ms/step - loss: 0.1497 - val_loss: 0.1391\n",
      "Epoch 21/250\n",
      "9000/9000 [==============================] - 384s 43ms/step - loss: 0.1466 - val_loss: 0.1348\n",
      "Epoch 22/250\n",
      "9000/9000 [==============================] - 381s 42ms/step - loss: 0.1433 - val_loss: 0.1313\n",
      "Epoch 23/250\n",
      "9000/9000 [==============================] - 389s 43ms/step - loss: 0.1389 - val_loss: 0.1262\n",
      "Epoch 24/250\n",
      "9000/9000 [==============================] - 384s 43ms/step - loss: 0.1347 - val_loss: 0.1236\n",
      "Epoch 25/250\n",
      "9000/9000 [==============================] - 386s 43ms/step - loss: 0.1317 - val_loss: 0.1227\n",
      "Epoch 26/250\n",
      "9000/9000 [==============================] - 384s 43ms/step - loss: 0.1289 - val_loss: 0.1183\n",
      "Epoch 27/250\n",
      "9000/9000 [==============================] - 387s 43ms/step - loss: 0.1260 - val_loss: 0.1138\n",
      "Epoch 28/250\n",
      "9000/9000 [==============================] - 393s 44ms/step - loss: 0.1225 - val_loss: 0.1115\n",
      "Epoch 29/250\n",
      "9000/9000 [==============================] - 390s 43ms/step - loss: 0.1193 - val_loss: 0.1102\n",
      "Epoch 30/250\n",
      "9000/9000 [==============================] - 390s 43ms/step - loss: 0.1165 - val_loss: 0.1043\n",
      "Epoch 31/250\n",
      "9000/9000 [==============================] - 391s 43ms/step - loss: 0.1127 - val_loss: 0.1027\n",
      "Epoch 32/250\n",
      "9000/9000 [==============================] - 393s 44ms/step - loss: 0.1103 - val_loss: 0.1001\n",
      "Epoch 33/250\n",
      "9000/9000 [==============================] - 391s 43ms/step - loss: 0.1076 - val_loss: 0.0963\n",
      "Epoch 34/250\n",
      "9000/9000 [==============================] - 392s 44ms/step - loss: 0.1052 - val_loss: 0.0932\n",
      "Epoch 35/250\n",
      "9000/9000 [==============================] - 397s 44ms/step - loss: 0.1023 - val_loss: 0.0930\n",
      "Epoch 36/250\n",
      "9000/9000 [==============================] - 388s 43ms/step - loss: 0.1003 - val_loss: 0.0922\n",
      "Epoch 37/250\n",
      "9000/9000 [==============================] - 372s 41ms/step - loss: 0.0990 - val_loss: 0.0880\n",
      "Epoch 38/250\n",
      "9000/9000 [==============================] - 366s 41ms/step - loss: 0.0981 - val_loss: 0.0890\n",
      "Epoch 39/250\n",
      "9000/9000 [==============================] - 368s 41ms/step - loss: 0.0968 - val_loss: 0.0896\n",
      "Epoch 40/250\n",
      "9000/9000 [==============================] - 369s 41ms/step - loss: 0.0957 - val_loss: 0.0886\n",
      "Epoch 41/250\n",
      "9000/9000 [==============================] - 371s 41ms/step - loss: 0.0948 - val_loss: 0.0883\n",
      "Epoch 42/250\n",
      "9000/9000 [==============================] - 391s 43ms/step - loss: 0.0938 - val_loss: 0.0863\n",
      "Epoch 43/250\n",
      "9000/9000 [==============================] - 381s 42ms/step - loss: 0.0931 - val_loss: 0.0876\n",
      "Epoch 44/250\n",
      "9000/9000 [==============================] - 373s 41ms/step - loss: 0.0922 - val_loss: 0.0873\n",
      "Epoch 45/250\n",
      "9000/9000 [==============================] - 372s 41ms/step - loss: 0.0914 - val_loss: 0.0876\n",
      "Epoch 46/250\n",
      "9000/9000 [==============================] - 368s 41ms/step - loss: 0.0906 - val_loss: 0.0873\n",
      "Epoch 47/250\n",
      "9000/9000 [==============================] - 390s 43ms/step - loss: 0.0899 - val_loss: 0.0874\n"
     ]
    },
    {
     "data": {
      "image/png": "[encoded data removed]",
      "text/plain": [
       "<Figure size 640x480 with 1 Axes>"
      ]
     },
     "metadata": {},
     "output_type": "display_data"
    },
    {
     "name": "stdout",
     "output_type": "stream",
     "text": [
      " 7382/11250 [==================>...........] - ETA: 1:08"
     ]
    }
   ],
   "source": [
    "val_err = model.train(x_train)\n"
   ]
  },
  {
   "cell_type": "markdown",
   "metadata": {},
   "source": [
    "###  LSTM 128 Units {per encoder and decoder}\n",
    "### 1 month of data, tensor size: [360k,40ts,3f]"
   ]
  },
  {
   "cell_type": "code",
   "execution_count": null,
   "metadata": {},
   "outputs": [],
   "source": []
  }
 ],
 "metadata": {
  "kernelspec": {
   "display_name": "Python 3 (Data Science)",
   "language": "python",
   "name": "python3__SAGEMAKER_INTERNAL__arn:aws:sagemaker:us-west-2:236514542706:image/datascience-1.0"
  },
  "language_info": {
   "codemirror_mode": {
    "name": "ipython",
    "version": 3
   },
   "file_extension": ".py",
   "mimetype": "text/x-python",
   "name": "python",
   "nbconvert_exporter": "python",
   "pygments_lexer": "ipython3",
   "version": "3.7.10"
  }
 },
 "nbformat": 4,
 "nbformat_minor": 4
}
