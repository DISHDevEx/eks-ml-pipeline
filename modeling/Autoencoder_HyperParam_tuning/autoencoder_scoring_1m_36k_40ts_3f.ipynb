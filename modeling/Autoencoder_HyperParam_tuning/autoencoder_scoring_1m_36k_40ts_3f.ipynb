{
 "cells": [
  {
   "cell_type": "markdown",
   "metadata": {},
   "source": [
    "# Autoencoder Multivariate Training (Expiriment 3)\n",
    "\n",
    " Vinayak Sharma\n",
    "  \n",
    " This notebook aims to train an autoencoder on univariate timeseries data from EKS Performance metrics for MANY NODES. The training data is 'non-anomalous'. \n",
    "\n",
    " The model and implementation techniques can be found in the following github: https://github.com/emerelte/kad\n",
    " \n",
    " The research paper that this work is based on can be found here: https://ieeexplore.ieee.org/stamp/stamp.jsp?tp=&arnumber=9925210"
   ]
  },
  {
   "cell_type": "markdown",
   "metadata": {},
   "source": [
    "------"
   ]
  },
  {
   "cell_type": "code",
   "execution_count": 2,
   "metadata": {},
   "outputs": [],
   "source": [
    "##global variable\n",
    "timesteps = 40\n",
    "time_steps = 40\n",
    "batch_size = 36\n",
    "n_samples = batch_size*1000\n",
    "features = ['node_cpu_utilization','node_memory_utilization','node_network_total_bytes']"
   ]
  },
  {
   "cell_type": "markdown",
   "metadata": {},
   "source": [
    "## Imports"
   ]
  },
  {
   "cell_type": "code",
   "execution_count": 3,
   "metadata": {},
   "outputs": [],
   "source": [
    "# !pip install -r /root/eks-ml-pipeline/modeling/kad/kad/requirements.txt\n",
    "# # # !pip install keras\n",
    "# # # !pip install tensorflow"
   ]
  },
  {
   "cell_type": "code",
   "execution_count": 4,
   "metadata": {},
   "outputs": [],
   "source": [
    "# !pip install tensorflow"
   ]
  },
  {
   "cell_type": "code",
   "execution_count": 5,
   "metadata": {},
   "outputs": [],
   "source": [
    "# import matplotlib as mpl\n",
    "# mpl.rcParams.keys()"
   ]
  },
  {
   "cell_type": "code",
   "execution_count": 6,
   "metadata": {},
   "outputs": [],
   "source": [
    "import importlib\n",
    "import numpy as np\n",
    "import pandas as pd\n",
    "from matplotlib import pyplot as plt\n",
    "from sklearn.preprocessing import MinMaxScaler, StandardScaler\n",
    "import json\n",
    "import sys\n",
    "import statsmodels.api as sm\n",
    "import os\n",
    "import keras\n",
    "from keras import layers\n",
    "import tensorflow as tf\n",
    "from sklearn.preprocessing import StandardScaler\n",
    "from autoencoder_model_dish_5g import autoencoder_model_dish_5g\n",
    "\n",
    "from sklearn.model_selection import train_test_split\n",
    "\n",
    "import _pickle as cPickle\n"
   ]
  },
  {
   "cell_type": "code",
   "execution_count": 7,
   "metadata": {},
   "outputs": [],
   "source": [
    "import logging\n",
    "import warnings\n",
    "import numpy as np\n",
    "import pandas as pd\n",
    "from sklearn.model_selection import train_test_split\n",
    "from sklearn.preprocessing import MinMaxScaler\n",
    "from tensorflow import keras\n",
    "import tensorflow as tf\n",
    "from tensorflow.keras import layers\n",
    "from matplotlib import pyplot as plt\n",
    "\n",
    "\n",
    "import random \n"
   ]
  },
  {
   "cell_type": "code",
   "execution_count": 8,
   "metadata": {},
   "outputs": [],
   "source": [
    "pd.set_option('display.max_rows', None)"
   ]
  },
  {
   "cell_type": "markdown",
   "metadata": {},
   "source": [
    "First lets read in our training sample set "
   ]
  },
  {
   "cell_type": "code",
   "execution_count": 9,
   "metadata": {},
   "outputs": [],
   "source": [
    "##isolate the first days worth of data\n",
    "training_df_full = pd.read_parquet('/root/healthy_clusters_node_month.parquet')"
   ]
  },
  {
   "cell_type": "code",
   "execution_count": 10,
   "metadata": {},
   "outputs": [
    {
     "data": {
      "text/plain": [
       "(2636965, 19)"
      ]
     },
     "execution_count": 10,
     "metadata": {},
     "output_type": "execute_result"
    }
   ],
   "source": [
    "training_df_full.shape"
   ]
  },
  {
   "cell_type": "code",
   "execution_count": 11,
   "metadata": {},
   "outputs": [],
   "source": [
    "columns_to_keep = ['Timestamp','InstanceId','node_cpu_utilization','node_memory_utilization','node_network_total_bytes']"
   ]
  },
  {
   "cell_type": "code",
   "execution_count": 12,
   "metadata": {},
   "outputs": [
    {
     "name": "stderr",
     "output_type": "stream",
     "text": [
      "/opt/conda/lib/python3.7/site-packages/ipykernel_launcher.py:1: FutureWarning: In a future version of pandas all arguments of DataFrame.drop except for the argument 'labels' will be keyword-only\n",
      "  \"\"\"Entry point for launching an IPython kernel.\n"
     ]
    }
   ],
   "source": [
    "training_df = training_df_full.drop(training_df_full.columns.difference(columns_to_keep),1, inplace=False)\n",
    "training_df['Timestamp'] = pd.to_datetime(training_df['Timestamp'], unit='ms')"
   ]
  },
  {
   "cell_type": "code",
   "execution_count": 13,
   "metadata": {},
   "outputs": [
    {
     "data": {
      "text/plain": [
       "(2636965, 5)"
      ]
     },
     "execution_count": 13,
     "metadata": {},
     "output_type": "execute_result"
    }
   ],
   "source": [
    "training_df.shape"
   ]
  },
  {
   "cell_type": "code",
   "execution_count": 14,
   "metadata": {},
   "outputs": [
    {
     "data": {
      "text/plain": [
       "2636965"
      ]
     },
     "execution_count": 14,
     "metadata": {},
     "output_type": "execute_result"
    }
   ],
   "source": [
    "len(training_df)"
   ]
  },
  {
   "cell_type": "code",
   "execution_count": 15,
   "metadata": {},
   "outputs": [],
   "source": [
    "training_df = training_df.dropna()"
   ]
  },
  {
   "cell_type": "code",
   "execution_count": 16,
   "metadata": {},
   "outputs": [],
   "source": [
    "test_df = training_df.copy()\n",
    "training_df = training_df[training_df.InstanceId != 'i-0b36e8825c482f762']"
   ]
  },
  {
   "cell_type": "markdown",
   "metadata": {},
   "source": [
    "-----"
   ]
  },
  {
   "cell_type": "markdown",
   "metadata": {},
   "source": [
    "# TRAIN DATASET: Build out Dataset for training on many nodes\n",
    "\n",
    "now we are starting to build out a training dataset for two nodes. This will prove our understanding of how to model can generalize across many EC2 instances. "
   ]
  },
  {
   "cell_type": "code",
   "execution_count": 17,
   "metadata": {},
   "outputs": [],
   "source": [
    "## for normalization\n",
    "# scaler = StandardScaler()\n",
    "\n",
    "scaler = StandardScaler()"
   ]
  },
  {
   "cell_type": "code",
   "execution_count": 18,
   "metadata": {},
   "outputs": [],
   "source": [
    "instance_dfs =[]\n",
    "for instance in training_df['InstanceId'].unique():\n",
    "    if(len(training_df[training_df.InstanceId == instance]) >60):\n",
    "        instance_dfs.append(training_df[training_df.InstanceId == instance].sort_values(by='Timestamp')\\\n",
    "                            .reset_index(drop=True))"
   ]
  },
  {
   "cell_type": "code",
   "execution_count": 19,
   "metadata": {},
   "outputs": [
    {
     "data": {
      "text/plain": [
       "(36000, 40, 3)"
      ]
     },
     "execution_count": 19,
     "metadata": {},
     "output_type": "execute_result"
    }
   ],
   "source": [
    "\n",
    "x_train = np.zeros((n_samples,time_steps,len(features)))\n",
    "for b in range(n_samples):\n",
    "    \n",
    "    ##pick random df, and normalize\n",
    "    df = random.choice(instance_dfs)\n",
    "    df = df.drop(columns = ['InstanceId'])\n",
    "    df = df.set_index('Timestamp')\n",
    "    df = df.sort_index()\n",
    "    df[features] = scaler.fit_transform(df[features])\n",
    "    \n",
    "    \n",
    "    \n",
    "    sample = np.zeros((n_samples,len(features)))\n",
    "    ##make sure length of df is atleast 40\n",
    "    first_time = random.choice(range(len(df)-time_steps))\n",
    "    df.head()\n",
    "    sample = df[features].iloc[first_time:first_time+time_steps]\n",
    "    x_train[b] = sample\n",
    "\n",
    "x_train.shape"
   ]
  },
  {
   "cell_type": "markdown",
   "metadata": {},
   "source": [
    "our xtrain shape has the following properties: (sample size, time steps, numFeatures)"
   ]
  },
  {
   "cell_type": "markdown",
   "metadata": {},
   "source": [
    "-------"
   ]
  },
  {
   "cell_type": "markdown",
   "metadata": {},
   "source": [
    "# TEST DATASET: Build out Dataset for testing on one node"
   ]
  },
  {
   "cell_type": "code",
   "execution_count": 20,
   "metadata": {},
   "outputs": [],
   "source": [
    "# test_df = test_df[test_df.InstanceId == 'i-0b36e8825c482f762']"
   ]
  },
  {
   "cell_type": "code",
   "execution_count": 21,
   "metadata": {},
   "outputs": [],
   "source": [
    "# test_df.head()"
   ]
  },
  {
   "cell_type": "code",
   "execution_count": 22,
   "metadata": {},
   "outputs": [],
   "source": [
    "# ## drop the instanceId\n",
    "# test_df = test_df.drop(\"InstanceId\",1, inplace=False)\n",
    "\n",
    "\n",
    "# ##set timestamp as the index\n",
    "# test_df = test_df.set_index('Timestamp')\n",
    "\n",
    "# ##normalize test_df \n",
    "# test_df[features] = scaler.fit_transform(test_df[features])\n",
    "\n",
    "\n",
    "# ##ensure the data is sorted!!\n",
    "# test_df = test_df.sort_index()"
   ]
  },
  {
   "cell_type": "markdown",
   "metadata": {},
   "source": [
    "----"
   ]
  },
  {
   "cell_type": "markdown",
   "metadata": {},
   "source": [
    "# Model Time"
   ]
  },
  {
   "cell_type": "markdown",
   "metadata": {},
   "source": [
    "----"
   ]
  },
  {
   "cell_type": "markdown",
   "metadata": {},
   "source": [
    "### First we train"
   ]
  },
  {
   "cell_type": "code",
   "execution_count": 23,
   "metadata": {},
   "outputs": [],
   "source": [
    "model = autoencoder_model_dish_5g(batch_size = batch_size, time_steps = time_steps, epochs = 250,nuerons=128)"
   ]
  },
  {
   "cell_type": "code",
   "execution_count": 24,
   "metadata": {},
   "outputs": [],
   "source": [
    "# model: i_model.IModel = autoencoder_model.AutoEncoderModel(batch_size = batch_size, time_steps = time_steps)"
   ]
  },
  {
   "cell_type": "code",
   "execution_count": 25,
   "metadata": {},
   "outputs": [
    {
     "name": "stderr",
     "output_type": "stream",
     "text": [
      "WARNING:absl:`lr` is deprecated, please use `learning_rate` instead, or use the legacy optimizer, e.g.,tf.keras.optimizers.legacy.Adam.\n"
     ]
    },
    {
     "name": "stdout",
     "output_type": "stream",
     "text": [
      "Model: \"sequential\"\n",
      "_________________________________________________________________\n",
      " Layer (type)                Output Shape              Param #   \n",
      "=================================================================\n",
      " lstm (LSTM)                 (None, 128)               67584     \n",
      "                                                                 \n",
      " dropout (Dropout)           (None, 128)               0         \n",
      "                                                                 \n",
      " repeat_vector (RepeatVector  (None, 40, 128)          0         \n",
      " )                                                               \n",
      "                                                                 \n",
      " lstm_1 (LSTM)               (None, 40, 128)           131584    \n",
      "                                                                 \n",
      " dropout_1 (Dropout)         (None, 40, 128)           0         \n",
      "                                                                 \n",
      " time_distributed (TimeDistr  (None, 40, 3)            387       \n",
      " ibuted)                                                         \n",
      "                                                                 \n",
      "=================================================================\n",
      "Total params: 199,555\n",
      "Trainable params: 199,555\n",
      "Non-trainable params: 0\n",
      "_________________________________________________________________\n",
      "Epoch 1/250\n",
      "900/900 [==============================] - 42s 44ms/step - loss: 0.2259 - val_loss: 0.2148\n",
      "Epoch 2/250\n",
      "900/900 [==============================] - 39s 43ms/step - loss: 0.2163 - val_loss: 0.2110\n",
      "Epoch 3/250\n",
      "900/900 [==============================] - 39s 44ms/step - loss: 0.2146 - val_loss: 0.2108\n",
      "Epoch 4/250\n",
      "900/900 [==============================] - 39s 44ms/step - loss: 0.2136 - val_loss: 0.2110\n",
      "Epoch 5/250\n",
      "900/900 [==============================] - 40s 44ms/step - loss: 0.2124 - val_loss: 0.2101\n",
      "Epoch 6/250\n",
      "900/900 [==============================] - 40s 44ms/step - loss: 0.2108 - val_loss: 0.2090\n",
      "Epoch 7/250\n",
      "900/900 [==============================] - 40s 44ms/step - loss: 0.2087 - val_loss: 0.2049\n",
      "Epoch 8/250\n",
      "900/900 [==============================] - 40s 44ms/step - loss: 0.2080 - val_loss: 0.2032\n",
      "Epoch 9/250\n",
      "900/900 [==============================] - 40s 44ms/step - loss: 0.2067 - val_loss: 0.2037\n",
      "Epoch 10/250\n",
      "900/900 [==============================] - 40s 44ms/step - loss: 0.2061 - val_loss: 0.2015\n",
      "Epoch 11/250\n",
      "900/900 [==============================] - 40s 44ms/step - loss: 0.2052 - val_loss: 0.2014\n",
      "Epoch 12/250\n",
      "900/900 [==============================] - 40s 44ms/step - loss: 0.2042 - val_loss: 0.2009\n",
      "Epoch 13/250\n",
      "900/900 [==============================] - 40s 44ms/step - loss: 0.2037 - val_loss: 0.2004\n",
      "Epoch 14/250\n",
      "900/900 [==============================] - 40s 44ms/step - loss: 0.2031 - val_loss: 0.1999\n",
      "Epoch 15/250\n",
      "900/900 [==============================] - 40s 44ms/step - loss: 0.2026 - val_loss: 0.1995\n",
      "Epoch 16/250\n",
      "900/900 [==============================] - 40s 45ms/step - loss: 0.2019 - val_loss: 0.1977\n",
      "Epoch 17/250\n",
      "900/900 [==============================] - 40s 45ms/step - loss: 0.2014 - val_loss: 0.1994\n",
      "Epoch 18/250\n",
      "900/900 [==============================] - 40s 45ms/step - loss: 0.2009 - val_loss: 0.1984\n",
      "Epoch 19/250\n",
      "900/900 [==============================] - 40s 45ms/step - loss: 0.2001 - val_loss: 0.1969\n",
      "Epoch 20/250\n",
      "900/900 [==============================] - 40s 45ms/step - loss: 0.1995 - val_loss: 0.1957\n",
      "Epoch 21/250\n",
      "900/900 [==============================] - 40s 45ms/step - loss: 0.1993 - val_loss: 0.1958\n",
      "Epoch 22/250\n",
      "900/900 [==============================] - 40s 45ms/step - loss: 0.1987 - val_loss: 0.1949\n",
      "Epoch 23/250\n",
      "900/900 [==============================] - 40s 45ms/step - loss: 0.1982 - val_loss: 0.1961\n",
      "Epoch 24/250\n",
      "900/900 [==============================] - 40s 45ms/step - loss: 0.1980 - val_loss: 0.1953\n",
      "Epoch 25/250\n",
      "900/900 [==============================] - 40s 45ms/step - loss: 0.1974 - val_loss: 0.1935\n",
      "Epoch 26/250\n",
      "900/900 [==============================] - 40s 45ms/step - loss: 0.1971 - val_loss: 0.1960\n",
      "Epoch 27/250\n",
      "900/900 [==============================] - 40s 45ms/step - loss: 0.1967 - val_loss: 0.1933\n",
      "Epoch 28/250\n",
      "900/900 [==============================] - 40s 45ms/step - loss: 0.1963 - val_loss: 0.1942\n",
      "Epoch 29/250\n",
      "900/900 [==============================] - 40s 45ms/step - loss: 0.1960 - val_loss: 0.1925\n",
      "Epoch 30/250\n",
      "900/900 [==============================] - 40s 45ms/step - loss: 0.1957 - val_loss: 0.1919\n",
      "Epoch 31/250\n",
      "900/900 [==============================] - 40s 45ms/step - loss: 0.1954 - val_loss: 0.1920\n",
      "Epoch 32/250\n",
      "900/900 [==============================] - 40s 45ms/step - loss: 0.1953 - val_loss: 0.1930\n",
      "Epoch 33/250\n",
      "900/900 [==============================] - 40s 45ms/step - loss: 0.1948 - val_loss: 0.1903\n",
      "Epoch 34/250\n",
      "900/900 [==============================] - 40s 45ms/step - loss: 0.1941 - val_loss: 0.1888\n",
      "Epoch 35/250\n",
      "900/900 [==============================] - 41s 45ms/step - loss: 0.1916 - val_loss: 0.1862\n",
      "Epoch 36/250\n",
      "900/900 [==============================] - 41s 45ms/step - loss: 0.1900 - val_loss: 0.1845\n",
      "Epoch 37/250\n",
      "900/900 [==============================] - 41s 45ms/step - loss: 0.1885 - val_loss: 0.1861\n",
      "Epoch 38/250\n",
      "900/900 [==============================] - 41s 45ms/step - loss: 0.1908 - val_loss: 0.1916\n",
      "Epoch 39/250\n",
      "900/900 [==============================] - 41s 45ms/step - loss: 0.1937 - val_loss: 0.1923\n",
      "Epoch 40/250\n",
      "900/900 [==============================] - 41s 45ms/step - loss: 0.1926 - val_loss: 0.1838\n",
      "Epoch 41/250\n",
      "900/900 [==============================] - 41s 45ms/step - loss: 0.1882 - val_loss: 0.1846\n",
      "Epoch 42/250\n",
      "900/900 [==============================] - 41s 45ms/step - loss: 0.1877 - val_loss: 0.1917\n",
      "Epoch 43/250\n",
      "900/900 [==============================] - 41s 46ms/step - loss: 0.1892 - val_loss: 0.1832\n",
      "Epoch 44/250\n",
      "900/900 [==============================] - 41s 45ms/step - loss: 0.1867 - val_loss: 0.1833\n",
      "Epoch 45/250\n",
      "900/900 [==============================] - 41s 46ms/step - loss: 0.1982 - val_loss: 0.1897\n",
      "Epoch 46/250\n",
      "900/900 [==============================] - 41s 46ms/step - loss: 0.1936 - val_loss: 0.1891\n",
      "Epoch 47/250\n",
      "900/900 [==============================] - 41s 46ms/step - loss: 0.1920 - val_loss: 0.1871\n",
      "Epoch 48/250\n",
      "900/900 [==============================] - 41s 46ms/step - loss: 0.1911 - val_loss: 0.1952\n"
     ]
    },
    {
     "data": {
      "image/png": "[encoded data removed]",
      "text/plain": [
       "<Figure size 640x480 with 1 Axes>"
      ]
     },
     "metadata": {},
     "output_type": "display_data"
    },
    {
     "name": "stdout",
     "output_type": "stream",
     "text": [
      "1125/1125 [==============================] - 21s 18ms/step\n"
     ]
    }
   ],
   "source": [
    "val_err = model.train(x_train)\n"
   ]
  },
  {
   "cell_type": "markdown",
   "metadata": {},
   "source": [
    "###  LSTM 128 Units {per encoder and decoder}\n",
    "### 1 month of data, tensor size: [36k,40ts,3f]"
   ]
  },
  {
   "cell_type": "code",
   "execution_count": null,
   "metadata": {},
   "outputs": [],
   "source": []
  }
 ],
 "metadata": {
  "kernelspec": {
   "display_name": "Python 3 (Data Science)",
   "language": "python",
   "name": "python3__SAGEMAKER_INTERNAL__arn:aws:sagemaker:us-west-2:236514542706:image/datascience-1.0"
  },
  "language_info": {
   "codemirror_mode": {
    "name": "ipython",
    "version": 3
   },
   "file_extension": ".py",
   "mimetype": "text/x-python",
   "name": "python",
   "nbconvert_exporter": "python",
   "pygments_lexer": "ipython3",
   "version": "3.7.10"
  }
 },
 "nbformat": 4,
 "nbformat_minor": 4
}
