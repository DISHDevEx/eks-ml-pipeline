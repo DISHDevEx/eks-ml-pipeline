{
 "cells": [
  {
   "cell_type": "markdown",
   "metadata": {},
   "source": [
    "# Building out CAE-M\n",
    "Research paper link\n"
   ]
  },
  {
   "cell_type": "code",
   "execution_count": 10,
   "metadata": {},
   "outputs": [],
   "source": [
    "# pip install tensorflow"
   ]
  },
  {
   "cell_type": "code",
   "execution_count": 11,
   "metadata": {},
   "outputs": [],
   "source": [
    "# pip install keras_self_attention"
   ]
  },
  {
   "cell_type": "code",
   "execution_count": 12,
   "metadata": {},
   "outputs": [],
   "source": [
    "import importlib\n",
    "import numpy as np\n",
    "import pandas as pd\n",
    "from matplotlib import pyplot as plt\n",
    "from sklearn.preprocessing import MinMaxScaler, StandardScaler\n",
    "import json\n",
    "import sys\n",
    "import statsmodels.api as sm\n",
    "import os\n",
    "import keras\n",
    "from keras import layers\n",
    "import tensorflow as tf\n",
    "from sklearn.preprocessing import StandardScaler\n",
    "# from autoencoder_model_dish_5g import Autoencoder_Model_Dish_5g\n",
    "from keras_self_attention import SeqSelfAttention, SeqWeightedAttention\n",
    "from keras.losses import mse\n",
    "from sklearn.model_selection import train_test_split\n",
    "\n",
    "import _pickle as cPickle\n"
   ]
  },
  {
   "cell_type": "markdown",
   "metadata": {},
   "source": [
    "------"
   ]
  },
  {
   "cell_type": "code",
   "execution_count": 13,
   "metadata": {},
   "outputs": [],
   "source": [
    "##global variable\n",
    "# H = 6\n",
    "# t = 10\n",
    "# T = 60\n",
    "# M = 6\n",
    "\n",
    "\n",
    "\n",
    "h = 4\n",
    "timePerTemporalSlice = 12\n",
    "\n",
    "\n",
    "timesteps = h * timePerTemporalSlice\n",
    "time_steps = h * timePerTemporalSlice\n",
    "batch_size = 6\n",
    "n_samples = batch_size*100\n",
    "features = ['node_cpu_utilization','node_memory_utilization','node_network_total_bytes']"
   ]
  },
  {
   "cell_type": "markdown",
   "metadata": {},
   "source": [
    "## Imports"
   ]
  },
  {
   "cell_type": "code",
   "execution_count": 14,
   "metadata": {},
   "outputs": [],
   "source": [
    "pd.set_option('display.max_rows', None)"
   ]
  },
  {
   "cell_type": "markdown",
   "metadata": {},
   "source": [
    "First lets read in our training sample set "
   ]
  },
  {
   "cell_type": "code",
   "execution_count": 15,
   "metadata": {},
   "outputs": [],
   "source": [
    "training_df_full = pd.read_parquet('/root/healthy_clusters_node_month.parquet')"
   ]
  },
  {
   "cell_type": "code",
   "execution_count": 16,
   "metadata": {},
   "outputs": [
    {
     "data": {
      "text/html": [
       "<div>\n",
       "<style scoped>\n",
       "    .dataframe tbody tr th:only-of-type {\n",
       "        vertical-align: middle;\n",
       "    }\n",
       "\n",
       "    .dataframe tbody tr th {\n",
       "        vertical-align: top;\n",
       "    }\n",
       "\n",
       "    .dataframe thead th {\n",
       "        text-align: right;\n",
       "    }\n",
       "</style>\n",
       "<table border=\"1\" class=\"dataframe\">\n",
       "  <thead>\n",
       "    <tr style=\"text-align: right;\">\n",
       "      <th></th>\n",
       "      <th>Timestamp</th>\n",
       "      <th>InstanceId</th>\n",
       "      <th>ClusterName</th>\n",
       "      <th>node_cpu_utilization</th>\n",
       "      <th>node_cpu_limit</th>\n",
       "      <th>node_cpu_request</th>\n",
       "      <th>node_cpu_usage_total</th>\n",
       "      <th>node_memory_utilization</th>\n",
       "      <th>node_memory_request</th>\n",
       "      <th>node_memory_limit</th>\n",
       "      <th>node_network_rx_bytes</th>\n",
       "      <th>node_network_rx_dropped</th>\n",
       "      <th>node_network_rx_errors</th>\n",
       "      <th>node_network_rx_packets</th>\n",
       "      <th>node_network_total_bytes</th>\n",
       "      <th>node_network_tx_bytes</th>\n",
       "      <th>node_network_tx_dropped</th>\n",
       "      <th>node_network_tx_errors</th>\n",
       "      <th>node_network_tx_packets</th>\n",
       "    </tr>\n",
       "  </thead>\n",
       "  <tbody>\n",
       "    <tr>\n",
       "      <th>0</th>\n",
       "      <td>1654235914008</td>\n",
       "      <td>i-01470d8d8e7b4fd2f</td>\n",
       "      <td>nk-ndc-eks-cluster-dev-usw2-az1-dev-ncm01</td>\n",
       "      <td>2.905276</td>\n",
       "      <td>4000.0</td>\n",
       "      <td>1266.0</td>\n",
       "      <td>116.211031</td>\n",
       "      <td>9.394841</td>\n",
       "      <td>998244352</td>\n",
       "      <td>16476487680</td>\n",
       "      <td>26133.384568</td>\n",
       "      <td>0.0</td>\n",
       "      <td>0.0</td>\n",
       "      <td>87.334264</td>\n",
       "      <td>56498.252063</td>\n",
       "      <td>30364.867495</td>\n",
       "      <td>0.0</td>\n",
       "      <td>0.0</td>\n",
       "      <td>86.300537</td>\n",
       "    </tr>\n",
       "    <tr>\n",
       "      <th>1</th>\n",
       "      <td>1654235917104</td>\n",
       "      <td>i-0b36e8825c482f762</td>\n",
       "      <td>nk-ndc-eks-cluster-dev-usw2-az1-dev-ncm01</td>\n",
       "      <td>1.836838</td>\n",
       "      <td>4000.0</td>\n",
       "      <td>1066.0</td>\n",
       "      <td>73.473529</td>\n",
       "      <td>7.296163</td>\n",
       "      <td>851443712</td>\n",
       "      <td>16476487680</td>\n",
       "      <td>5812.096097</td>\n",
       "      <td>0.0</td>\n",
       "      <td>0.0</td>\n",
       "      <td>22.781011</td>\n",
       "      <td>13940.610609</td>\n",
       "      <td>8128.514512</td>\n",
       "      <td>0.0</td>\n",
       "      <td>0.0</td>\n",
       "      <td>22.814785</td>\n",
       "    </tr>\n",
       "    <tr>\n",
       "      <th>2</th>\n",
       "      <td>1654232669947</td>\n",
       "      <td>i-01470d8d8e7b4fd2f</td>\n",
       "      <td>nk-ndc-eks-cluster-dev-usw2-az1-dev-ncm01</td>\n",
       "      <td>2.950336</td>\n",
       "      <td>4000.0</td>\n",
       "      <td>1266.0</td>\n",
       "      <td>118.013421</td>\n",
       "      <td>9.399117</td>\n",
       "      <td>998244352</td>\n",
       "      <td>16476487680</td>\n",
       "      <td>24538.169434</td>\n",
       "      <td>0.0</td>\n",
       "      <td>0.0</td>\n",
       "      <td>86.939803</td>\n",
       "      <td>54629.097665</td>\n",
       "      <td>30090.928231</td>\n",
       "      <td>0.0</td>\n",
       "      <td>0.0</td>\n",
       "      <td>86.904324</td>\n",
       "    </tr>\n",
       "    <tr>\n",
       "      <th>3</th>\n",
       "      <td>1654232681444</td>\n",
       "      <td>i-0b36e8825c482f762</td>\n",
       "      <td>nk-ndc-eks-cluster-dev-usw2-az1-dev-ncm01</td>\n",
       "      <td>1.858162</td>\n",
       "      <td>4000.0</td>\n",
       "      <td>1066.0</td>\n",
       "      <td>74.326468</td>\n",
       "      <td>7.295069</td>\n",
       "      <td>851443712</td>\n",
       "      <td>16476487680</td>\n",
       "      <td>5451.981961</td>\n",
       "      <td>0.0</td>\n",
       "      <td>0.0</td>\n",
       "      <td>21.206624</td>\n",
       "      <td>13392.905270</td>\n",
       "      <td>7940.923309</td>\n",
       "      <td>0.0</td>\n",
       "      <td>0.0</td>\n",
       "      <td>21.632175</td>\n",
       "    </tr>\n",
       "    <tr>\n",
       "      <th>4</th>\n",
       "      <td>1654235970093</td>\n",
       "      <td>i-093473861e74eaf2d</td>\n",
       "      <td>mt-ndc-eks-cluster-dev-mt-use1</td>\n",
       "      <td>0.942944</td>\n",
       "      <td>16000.0</td>\n",
       "      <td>1266.0</td>\n",
       "      <td>150.871041</td>\n",
       "      <td>4.956222</td>\n",
       "      <td>998244352</td>\n",
       "      <td>65902239744</td>\n",
       "      <td>42229.503040</td>\n",
       "      <td>0.0</td>\n",
       "      <td>0.0</td>\n",
       "      <td>251.934982</td>\n",
       "      <td>90291.404482</td>\n",
       "      <td>48061.901442</td>\n",
       "      <td>0.0</td>\n",
       "      <td>0.0</td>\n",
       "      <td>251.558398</td>\n",
       "    </tr>\n",
       "  </tbody>\n",
       "</table>\n",
       "</div>"
      ],
      "text/plain": [
       "       Timestamp           InstanceId  \\\n",
       "0  1654235914008  i-01470d8d8e7b4fd2f   \n",
       "1  1654235917104  i-0b36e8825c482f762   \n",
       "2  1654232669947  i-01470d8d8e7b4fd2f   \n",
       "3  1654232681444  i-0b36e8825c482f762   \n",
       "4  1654235970093  i-093473861e74eaf2d   \n",
       "\n",
       "                                 ClusterName  node_cpu_utilization  \\\n",
       "0  nk-ndc-eks-cluster-dev-usw2-az1-dev-ncm01              2.905276   \n",
       "1  nk-ndc-eks-cluster-dev-usw2-az1-dev-ncm01              1.836838   \n",
       "2  nk-ndc-eks-cluster-dev-usw2-az1-dev-ncm01              2.950336   \n",
       "3  nk-ndc-eks-cluster-dev-usw2-az1-dev-ncm01              1.858162   \n",
       "4             mt-ndc-eks-cluster-dev-mt-use1              0.942944   \n",
       "\n",
       "   node_cpu_limit  node_cpu_request  node_cpu_usage_total  \\\n",
       "0          4000.0            1266.0            116.211031   \n",
       "1          4000.0            1066.0             73.473529   \n",
       "2          4000.0            1266.0            118.013421   \n",
       "3          4000.0            1066.0             74.326468   \n",
       "4         16000.0            1266.0            150.871041   \n",
       "\n",
       "   node_memory_utilization  node_memory_request  node_memory_limit  \\\n",
       "0                 9.394841            998244352        16476487680   \n",
       "1                 7.296163            851443712        16476487680   \n",
       "2                 9.399117            998244352        16476487680   \n",
       "3                 7.295069            851443712        16476487680   \n",
       "4                 4.956222            998244352        65902239744   \n",
       "\n",
       "   node_network_rx_bytes  node_network_rx_dropped  node_network_rx_errors  \\\n",
       "0           26133.384568                      0.0                     0.0   \n",
       "1            5812.096097                      0.0                     0.0   \n",
       "2           24538.169434                      0.0                     0.0   \n",
       "3            5451.981961                      0.0                     0.0   \n",
       "4           42229.503040                      0.0                     0.0   \n",
       "\n",
       "   node_network_rx_packets  node_network_total_bytes  node_network_tx_bytes  \\\n",
       "0                87.334264              56498.252063           30364.867495   \n",
       "1                22.781011              13940.610609            8128.514512   \n",
       "2                86.939803              54629.097665           30090.928231   \n",
       "3                21.206624              13392.905270            7940.923309   \n",
       "4               251.934982              90291.404482           48061.901442   \n",
       "\n",
       "   node_network_tx_dropped  node_network_tx_errors  node_network_tx_packets  \n",
       "0                      0.0                     0.0                86.300537  \n",
       "1                      0.0                     0.0                22.814785  \n",
       "2                      0.0                     0.0                86.904324  \n",
       "3                      0.0                     0.0                21.632175  \n",
       "4                      0.0                     0.0               251.558398  "
      ]
     },
     "execution_count": 16,
     "metadata": {},
     "output_type": "execute_result"
    }
   ],
   "source": [
    "training_df_full.head()"
   ]
  },
  {
   "cell_type": "code",
   "execution_count": 17,
   "metadata": {},
   "outputs": [],
   "source": [
    "columns_to_keep = ['Timestamp','InstanceId','node_cpu_utilization','node_memory_utilization','node_network_total_bytes']"
   ]
  },
  {
   "cell_type": "code",
   "execution_count": 18,
   "metadata": {},
   "outputs": [
    {
     "name": "stderr",
     "output_type": "stream",
     "text": [
      "/opt/conda/lib/python3.7/site-packages/ipykernel_launcher.py:1: FutureWarning: In a future version of pandas all arguments of DataFrame.drop except for the argument 'labels' will be keyword-only\n",
      "  \"\"\"Entry point for launching an IPython kernel.\n"
     ]
    }
   ],
   "source": [
    "training_df = training_df_full.drop(training_df_full.columns.difference(columns_to_keep),1, inplace=False)\n",
    "training_df['Timestamp'] = pd.to_datetime(training_df['Timestamp'], unit='ms')"
   ]
  },
  {
   "cell_type": "code",
   "execution_count": 19,
   "metadata": {},
   "outputs": [
    {
     "data": {
      "text/plain": [
       "2636965"
      ]
     },
     "execution_count": 19,
     "metadata": {},
     "output_type": "execute_result"
    }
   ],
   "source": [
    "len(training_df)"
   ]
  },
  {
   "cell_type": "code",
   "execution_count": 20,
   "metadata": {},
   "outputs": [],
   "source": [
    "training_df = training_df.dropna()"
   ]
  },
  {
   "cell_type": "code",
   "execution_count": 21,
   "metadata": {},
   "outputs": [],
   "source": [
    "test_df = training_df.copy()\n",
    "training_df = training_df[training_df.InstanceId != 'i-0b36e8825c482f762']"
   ]
  },
  {
   "cell_type": "markdown",
   "metadata": {},
   "source": [
    "-----"
   ]
  },
  {
   "cell_type": "markdown",
   "metadata": {},
   "source": [
    "# TRAIN DATASET: Build out Dataset for training on many nodes\n",
    "\n",
    "now we are starting to build out a training dataset for two nodes. This will prove our understanding of how to model can generalize across many EC2 instances. "
   ]
  },
  {
   "cell_type": "code",
   "execution_count": 22,
   "metadata": {},
   "outputs": [],
   "source": [
    "## for normalization\n",
    "# scaler = StandardScaler()\n",
    "\n",
    "scaler = MinMaxScaler(feature_range=(0, 1))"
   ]
  },
  {
   "cell_type": "code",
   "execution_count": 23,
   "metadata": {},
   "outputs": [],
   "source": [
    "instance_dfs =[]\n",
    "for instance in training_df['InstanceId'].unique():\n",
    "    if(len(training_df[training_df.InstanceId == instance]) >60):\n",
    "        instance_dfs.append(training_df[training_df.InstanceId == instance].sort_values(by='Timestamp')\\\n",
    "                            .reset_index(drop=True))"
   ]
  },
  {
   "cell_type": "code",
   "execution_count": 24,
   "metadata": {},
   "outputs": [
    {
     "data": {
      "text/plain": [
       "(600, 48, 3)"
      ]
     },
     "execution_count": 24,
     "metadata": {},
     "output_type": "execute_result"
    }
   ],
   "source": [
    "\n",
    "\n",
    "import random \n",
    "\n",
    "x_train = np.zeros((n_samples,time_steps,len(features)))\n",
    "for b in range(n_samples):\n",
    "    \n",
    "    ##pick random df, and normalize\n",
    "    df = random.choice(instance_dfs)\n",
    "    df = df.drop(columns = ['InstanceId'])\n",
    "    df = df.set_index('Timestamp')\n",
    "    df = df.sort_index()\n",
    "    df[features] = scaler.fit_transform(df[features])\n",
    "    \n",
    "    \n",
    "    \n",
    "    sample = np.zeros((n_samples,len(features)))\n",
    "    ##make sure length of df is atleast 40\n",
    "#     print(len(df))\n",
    "    first_time = random.choice(range(len(df)-time_steps))\n",
    "    df.head()\n",
    "    sample = df[features].iloc[first_time:first_time+time_steps]\n",
    "    x_train[b] = sample\n",
    "\n",
    "x_train.shape"
   ]
  },
  {
   "cell_type": "markdown",
   "metadata": {},
   "source": [
    "our xtrain shape has the following properties: (sample size, time steps, numFeatures)"
   ]
  },
  {
   "cell_type": "markdown",
   "metadata": {},
   "source": [
    "-------"
   ]
  },
  {
   "cell_type": "markdown",
   "metadata": {},
   "source": [
    "# TEST DATASET: Build out Dataset for testing on one node"
   ]
  },
  {
   "cell_type": "code",
   "execution_count": 25,
   "metadata": {},
   "outputs": [],
   "source": [
    "test_df = test_df[test_df.InstanceId == 'i-0b36e8825c482f762']"
   ]
  },
  {
   "cell_type": "code",
   "execution_count": 26,
   "metadata": {},
   "outputs": [
    {
     "data": {
      "text/html": [
       "<div>\n",
       "<style scoped>\n",
       "    .dataframe tbody tr th:only-of-type {\n",
       "        vertical-align: middle;\n",
       "    }\n",
       "\n",
       "    .dataframe tbody tr th {\n",
       "        vertical-align: top;\n",
       "    }\n",
       "\n",
       "    .dataframe thead th {\n",
       "        text-align: right;\n",
       "    }\n",
       "</style>\n",
       "<table border=\"1\" class=\"dataframe\">\n",
       "  <thead>\n",
       "    <tr style=\"text-align: right;\">\n",
       "      <th></th>\n",
       "      <th>Timestamp</th>\n",
       "      <th>InstanceId</th>\n",
       "      <th>node_cpu_utilization</th>\n",
       "      <th>node_memory_utilization</th>\n",
       "      <th>node_network_total_bytes</th>\n",
       "    </tr>\n",
       "  </thead>\n",
       "  <tbody>\n",
       "    <tr>\n",
       "      <th>1</th>\n",
       "      <td>2022-06-03 05:58:37.104</td>\n",
       "      <td>i-0b36e8825c482f762</td>\n",
       "      <td>1.836838</td>\n",
       "      <td>7.296163</td>\n",
       "      <td>13940.610609</td>\n",
       "    </tr>\n",
       "    <tr>\n",
       "      <th>3</th>\n",
       "      <td>2022-06-03 05:04:41.444</td>\n",
       "      <td>i-0b36e8825c482f762</td>\n",
       "      <td>1.858162</td>\n",
       "      <td>7.295069</td>\n",
       "      <td>13392.905270</td>\n",
       "    </tr>\n",
       "    <tr>\n",
       "      <th>9</th>\n",
       "      <td>2022-06-03 05:59:35.385</td>\n",
       "      <td>i-0b36e8825c482f762</td>\n",
       "      <td>1.824157</td>\n",
       "      <td>7.296387</td>\n",
       "      <td>14073.509120</td>\n",
       "    </tr>\n",
       "    <tr>\n",
       "      <th>11</th>\n",
       "      <td>2022-06-03 05:05:34.448</td>\n",
       "      <td>i-0b36e8825c482f762</td>\n",
       "      <td>1.821361</td>\n",
       "      <td>7.297928</td>\n",
       "      <td>14987.560707</td>\n",
       "    </tr>\n",
       "    <tr>\n",
       "      <th>17</th>\n",
       "      <td>2022-06-03 06:00:39.866</td>\n",
       "      <td>i-0b36e8825c482f762</td>\n",
       "      <td>1.811754</td>\n",
       "      <td>7.299718</td>\n",
       "      <td>13253.130119</td>\n",
       "    </tr>\n",
       "  </tbody>\n",
       "</table>\n",
       "</div>"
      ],
      "text/plain": [
       "                 Timestamp           InstanceId  node_cpu_utilization  \\\n",
       "1  2022-06-03 05:58:37.104  i-0b36e8825c482f762              1.836838   \n",
       "3  2022-06-03 05:04:41.444  i-0b36e8825c482f762              1.858162   \n",
       "9  2022-06-03 05:59:35.385  i-0b36e8825c482f762              1.824157   \n",
       "11 2022-06-03 05:05:34.448  i-0b36e8825c482f762              1.821361   \n",
       "17 2022-06-03 06:00:39.866  i-0b36e8825c482f762              1.811754   \n",
       "\n",
       "    node_memory_utilization  node_network_total_bytes  \n",
       "1                  7.296163              13940.610609  \n",
       "3                  7.295069              13392.905270  \n",
       "9                  7.296387              14073.509120  \n",
       "11                 7.297928              14987.560707  \n",
       "17                 7.299718              13253.130119  "
      ]
     },
     "execution_count": 26,
     "metadata": {},
     "output_type": "execute_result"
    }
   ],
   "source": [
    "test_df.head()"
   ]
  },
  {
   "cell_type": "code",
   "execution_count": 27,
   "metadata": {},
   "outputs": [
    {
     "name": "stderr",
     "output_type": "stream",
     "text": [
      "/opt/conda/lib/python3.7/site-packages/ipykernel_launcher.py:2: FutureWarning: In a future version of pandas all arguments of DataFrame.drop except for the argument 'labels' will be keyword-only\n",
      "  \n"
     ]
    }
   ],
   "source": [
    "## drop the instanceId\n",
    "test_df = test_df.drop(\"InstanceId\",1, inplace=False)\n",
    "\n",
    "\n",
    "##set timestamp as the index\n",
    "test_df = test_df.set_index('Timestamp')\n",
    "\n",
    "##normalize test_df \n",
    "test_df[features] = scaler.fit_transform(test_df[features])\n",
    "\n",
    "\n",
    "##ensure the data is sorted!!\n",
    "test_df = test_df.sort_index()"
   ]
  },
  {
   "cell_type": "markdown",
   "metadata": {},
   "source": [
    "----"
   ]
  },
  {
   "cell_type": "markdown",
   "metadata": {},
   "source": [
    "# CAE-M Time"
   ]
  },
  {
   "cell_type": "code",
   "execution_count": 28,
   "metadata": {},
   "outputs": [],
   "source": [
    "H = 4\n",
    "t = 12\n",
    "T = H * t\n",
    "M = 6\n",
    "F = 3"
   ]
  },
  {
   "cell_type": "markdown",
   "metadata": {},
   "source": [
    "----"
   ]
  },
  {
   "cell_type": "markdown",
   "metadata": {},
   "source": [
    "##global variable\n",
    "\n",
    "h = 2\n",
    "\n",
    "timePerTemporalSlice = 6\n",
    "\n",
    "\n",
    "timesteps = h * timePerTemporalSlice \n",
    "\n",
    "time_steps = h * timePerTemporalSlice\n",
    "\n",
    "batch_size = 6\n",
    "\n",
    "n_samples = batch_size*100\n",
    "\n",
    "features = ['node_cpu_utilization','node_memory_utilization','node_network_total_bytes']"
   ]
  },
  {
   "cell_type": "code",
   "execution_count": 29,
   "metadata": {},
   "outputs": [
    {
     "data": {
      "text/plain": [
       "(600, 3, 48)"
      ]
     },
     "execution_count": 29,
     "metadata": {},
     "output_type": "execute_result"
    }
   ],
   "source": [
    "xtrain = x_train.reshape(n_samples,F,T)\n",
    "xtrain.shape"
   ]
  },
  {
   "cell_type": "markdown",
   "metadata": {},
   "source": [
    "### First we build input_reshaper"
   ]
  },
  {
   "cell_type": "code",
   "execution_count": 30,
   "metadata": {},
   "outputs": [
    {
     "name": "stdout",
     "output_type": "stream",
     "text": [
      "Model: \"input_reshaper\"\n",
      "_________________________________________________________________\n",
      " Layer (type)                Output Shape              Param #   \n",
      "=================================================================\n",
      " sample_F_N (InputLayer)     [(None, 3, 48)]           0         \n",
      "                                                                 \n",
      " reshape (Reshape)           (None, 4, 3, 12)          0         \n",
      "                                                                 \n",
      "=================================================================\n",
      "Total params: 0\n",
      "Trainable params: 0\n",
      "Non-trainable params: 0\n",
      "_________________________________________________________________\n"
     ]
    }
   ],
   "source": [
    "sample_F_N = keras.Input(shape=(F,T), name=\"sample_F_N\")\n",
    "\n",
    "sample_H_F_T = layers.Reshape((H,F,t), input_shape=(F,T)) (sample_F_N)\n",
    "\n",
    "input_reshaper = keras.Model(sample_F_N, sample_H_F_T, name=\"input_reshaper\")\n",
    "input_reshaper.summary()"
   ]
  },
  {
   "cell_type": "markdown",
   "metadata": {},
   "source": [
    "### Next we build encoder"
   ]
  },
  {
   "cell_type": "code",
   "execution_count": 31,
   "metadata": {},
   "outputs": [
    {
     "name": "stdout",
     "output_type": "stream",
     "text": [
      "Model: \"encoder\"\n",
      "_________________________________________________________________\n",
      " Layer (type)                Output Shape              Param #   \n",
      "=================================================================\n",
      " encoder_input_F_T_Channels_  [(None, 3, 12, 1)]       0         \n",
      " h1 (InputLayer)                                                 \n",
      "                                                                 \n",
      " conv2d (Conv2D)             (None, 3, 12, 32)         160       \n",
      "                                                                 \n",
      " max_pooling2d (MaxPooling2D  (None, 3, 12, 32)        0         \n",
      " )                                                               \n",
      "                                                                 \n",
      " conv2d_1 (Conv2D)           (None, 3, 12, 64)         8256      \n",
      "                                                                 \n",
      " max_pooling2d_1 (MaxPooling  (None, 3, 12, 64)        0         \n",
      " 2D)                                                             \n",
      "                                                                 \n",
      "=================================================================\n",
      "Total params: 8,416\n",
      "Trainable params: 8,416\n",
      "Non-trainable params: 0\n",
      "_________________________________________________________________\n"
     ]
    }
   ],
   "source": [
    "encoder_input = keras.Input(shape=(F,t,1), name=\"encoder_input_F_T_Channels_h1\")\n",
    "x = layers.Conv2D(32, 2, activation=\"relu\", padding = 'same')(encoder_input)\n",
    "x = layers.MaxPooling2D((2,2), strides = 1, padding = 'same')(x)\n",
    "x = layers.Conv2D(64, 2, activation=\"relu\", padding = 'same')(x)\n",
    "encoder_output = layers.MaxPooling2D((2,2), strides = 1, padding = 'same')(x)\n",
    "encoder = keras.Model(encoder_input, encoder_output , name=\"encoder\")\n",
    "encoder.summary()"
   ]
  },
  {
   "cell_type": "markdown",
   "metadata": {},
   "source": [
    "### Next we build decoder"
   ]
  },
  {
   "cell_type": "code",
   "execution_count": 32,
   "metadata": {},
   "outputs": [
    {
     "name": "stdout",
     "output_type": "stream",
     "text": [
      "Model: \"decoder\"\n",
      "_________________________________________________________________\n",
      " Layer (type)                Output Shape              Param #   \n",
      "=================================================================\n",
      " ecoded (InputLayer)         [(None, 3, 12, 64)]       0         \n",
      "                                                                 \n",
      " conv2d_transpose (Conv2DTra  (None, 3, 12, 64)        16448     \n",
      " nspose)                                                         \n",
      "                                                                 \n",
      " conv2d_transpose_1 (Conv2DT  (None, 3, 12, 32)        8224      \n",
      " ranspose)                                                       \n",
      "                                                                 \n",
      " conv2d_transpose_2 (Conv2DT  (None, 3, 12, 1)         129       \n",
      " ranspose)                                                       \n",
      "                                                                 \n",
      " reshape_1 (Reshape)         (None, 3, 12)             0         \n",
      "                                                                 \n",
      "=================================================================\n",
      "Total params: 24,801\n",
      "Trainable params: 24,801\n",
      "Non-trainable params: 0\n",
      "_________________________________________________________________\n"
     ]
    }
   ],
   "source": [
    "decoder_input = keras.Input(shape=(F, t, 64), name=\"ecoded\")\n",
    "x = layers.Conv2DTranspose(64, 2, activation=\"relu\",padding = 'same')(decoder_input)\n",
    "x = layers.Conv2DTranspose(32, 2, activation=\"relu\",padding = 'same')(x)\n",
    "decoded_slice = layers.Conv2DTranspose(1, 2, activation=\"relu\",padding = 'same')(x)\n",
    "decoded_slice = layers.Reshape((F,t), input_shape=(F,t,1)) (decoded_slice)\n",
    "decoder = keras.Model(decoder_input, decoded_slice, name=\"decoder\")\n",
    "decoder.summary()"
   ]
  },
  {
   "cell_type": "markdown",
   "metadata": {},
   "source": [
    "### Next we build BILSTM"
   ]
  },
  {
   "cell_type": "code",
   "execution_count": 33,
   "metadata": {},
   "outputs": [
    {
     "name": "stdout",
     "output_type": "stream",
     "text": [
      "Model: \"BiLSTM\"\n",
      "_________________________________________________________________\n",
      " Layer (type)                Output Shape              Param #   \n",
      "=================================================================\n",
      " BiLSTM_input (InputLayer)   [(None, 3, 2340)]         0         \n",
      "                                                                 \n",
      " bidirectional (Bidirectiona  (None, 3, 1024)          11685888  \n",
      " l)                                                              \n",
      "                                                                 \n",
      " seq_weighted_attention (Seq  (None, 1024)             1025      \n",
      " WeightedAttention)                                              \n",
      "                                                                 \n",
      " dense (Dense)               (None, 2340)              2398500   \n",
      "                                                                 \n",
      "=================================================================\n",
      "Total params: 14,085,413\n",
      "Trainable params: 14,085,413\n",
      "Non-trainable params: 0\n",
      "_________________________________________________________________\n"
     ]
    }
   ],
   "source": [
    "BiLSTM_input = keras.Input(shape=(H-1,F*t*65), name=\"BiLSTM_input\")\n",
    "\n",
    "x = layers.Bidirectional(layers.LSTM(512,return_sequences=True))(BiLSTM_input)\n",
    "x = SeqWeightedAttention(H-1)(x)\n",
    "BiLSTM_output = layers.Dense(F*t*65)(x)\n",
    "\n",
    "BiLSTM = keras.Model(BiLSTM_input, BiLSTM_output, name=\"BiLSTM\")\n",
    "BiLSTM.summary()"
   ]
  },
  {
   "cell_type": "markdown",
   "metadata": {},
   "source": [
    "### Next we build Linear Predictor"
   ]
  },
  {
   "cell_type": "code",
   "execution_count": 34,
   "metadata": {},
   "outputs": [
    {
     "name": "stdout",
     "output_type": "stream",
     "text": [
      "Model: \"linear_predictor\"\n",
      "_________________________________________________________________\n",
      " Layer (type)                Output Shape              Param #   \n",
      "=================================================================\n",
      " linear_input (InputLayer)   [(None, 7020)]            0         \n",
      "                                                                 \n",
      " dense_1 (Dense)             (None, 2340)              16429140  \n",
      "                                                                 \n",
      "=================================================================\n",
      "Total params: 16,429,140\n",
      "Trainable params: 16,429,140\n",
      "Non-trainable params: 0\n",
      "_________________________________________________________________\n"
     ]
    }
   ],
   "source": [
    "linear_input = keras.Input(shape=((H-1)*F*t*65), name=\"linear_input\")\n",
    "linear_output = layers.Dense(F*t*65)(linear_input)\n",
    "linear_predictor = keras.Model(linear_input, linear_output, name=\"linear_predictor\")\n",
    "linear_predictor.summary()"
   ]
  },
  {
   "cell_type": "markdown",
   "metadata": {},
   "source": [
    "### Now we assemble CAE-M"
   ]
  },
  {
   "cell_type": "code",
   "execution_count": 35,
   "metadata": {},
   "outputs": [],
   "source": [
    "# H = 4\n",
    "# t = 12\n",
    "# T = H * t\n",
    "# M = 6\n",
    "# F = 3\n",
    "\"\"\" INPUT TIME \"\"\"\n",
    "##input for CAE-M, with shape (F,T). This input gets reshaped into (H,F,t)\n",
    "wrongshape_input = keras.Input(shape=(F,T), name=\"sample\")\n",
    "reshaped_input = input_reshaper(wrongshape_input)\n",
    "\n",
    "\"\"\" AUTOENCODER TIME \"\"\"\n",
    "##LATENT SPACE Zf\n",
    "encoded_temporal_slices = [encoder(reshaped_input[:,temporal_slice,:,:]) for temporal_slice in range(H)]\n",
    "##OUTPUT OF AUTOENCODER\n",
    "decoded_temporal_slices = [decoder(encoded_temporal_slices[temporal_slice]) for temporal_slice in range(H)]\n",
    "decoded_for_output = layers.Concatenate(name = 'decoded_for_output')(decoded_temporal_slices)\n",
    "\n",
    "\n",
    "##CREATE Z = Zf + Zr\n",
    "## Zr is residual of the autoencoder\n",
    "residuals  = [reshaped_input[:,temporal_slices,:,:] - decoded_temporal_slices[temporal_slices] for temporal_slices in range(H) ]\n",
    "# residuals = tf.convert_to_tensor(residuals)\n",
    "residuals = [layers.Reshape((3,12,1))(residuals[temporal_slices])  for temporal_slices in range(H)]\n",
    "Z = [layers.Concatenate()([encoded_temporal_slices[temporal_slices],residuals[temporal_slices]]) for temporal_slices in range(H) ] \n",
    "Z_flattened = [ layers.Flatten()(Z[temporal_slices]) for temporal_slices in range(H)]\n",
    "\n",
    "\n",
    "##CREATE THE LABEL for CAE-M forecasters\n",
    "Y = Z_flattened[-1]\n",
    "\n",
    "\n",
    "\n",
    "\"\"\" BILSTM TIME \"\"\"\n",
    "##RESHAPE FOR INPUT FOR LSTM -->> NEED shape [BATCHSIZE, H-1, F*t*65] and then predict to the BiLSTM\n",
    "Z_flattened = Z_flattened[:-1]\n",
    "Z_flattened = [ layers.Reshape((1,2340))(Z_flattened[temporal_slices]) for temporal_slices in range(H-1)]\n",
    "\n",
    "Z_flattened = layers.Concatenate(name = 'z_flatten_concat', axis =1)(Z_flattened)\n",
    "## Feed BILSTM\n",
    "Y_hat = BiLSTM(Z_flattened)\n",
    "\n",
    "\n",
    "\"\"\" LINEAR TIME \"\"\"\n",
    "##RESHAPE input again for the linear predictor --> NEED shape [Batchsize, (H-1)*F*t*65] and then feed to linear predictor\n",
    "Z_flattened_stack = layers.Flatten(name = 'Z_flattened_for_linear')(Z_flattened)\n",
    "Z_hat = linear_predictor(Z_flattened_stack)\n",
    "\n",
    "\"\"\" CAE-M TIME \"\"\"\n",
    "CAEM = keras.Model(inputs = wrongshape_input,  outputs = [wrongshape_input,decoded_for_output,Y,Y_hat,Z_hat],\n",
    "                          name=\"CAE-M\")\n",
    "\n",
    "\"\"\" Loss TIME \"\"\"\n",
    "\n",
    "loss = mse(wrongshape_input, decoded_for_output) + (.5 *mse(Y_hat, Y)) + (.5 *mse(Z_hat, Y))\n",
    "CAEM.add_loss(loss)\n",
    "\n",
    "\n",
    "\n"
   ]
  },
  {
   "cell_type": "code",
   "execution_count": 36,
   "metadata": {},
   "outputs": [
    {
     "name": "stdout",
     "output_type": "stream",
     "text": [
      "Model: \"CAE-M\"\n",
      "__________________________________________________________________________________________________\n",
      " Layer (type)                   Output Shape         Param #     Connected to                     \n",
      "==================================================================================================\n",
      " sample (InputLayer)            [(None, 3, 48)]      0           []                               \n",
      "                                                                                                  \n",
      " input_reshaper (Functional)    (None, 4, 3, 12)     0           ['sample[0][0]']                 \n",
      "                                                                                                  \n",
      " tf.__operators__.getitem (Slic  (None, 3, 12)       0           ['input_reshaper[0][0]']         \n",
      " ingOpLambda)                                                                                     \n",
      "                                                                                                  \n",
      " tf.__operators__.getitem_1 (Sl  (None, 3, 12)       0           ['input_reshaper[0][0]']         \n",
      " icingOpLambda)                                                                                   \n",
      "                                                                                                  \n",
      " tf.__operators__.getitem_2 (Sl  (None, 3, 12)       0           ['input_reshaper[0][0]']         \n",
      " icingOpLambda)                                                                                   \n",
      "                                                                                                  \n",
      " encoder (Functional)           (None, 3, 12, 64)    8416        ['tf.__operators__.getitem[0][0]'\n",
      "                                                                 , 'tf.__operators__.getitem_1[0][\n",
      "                                                                 0]',                             \n",
      "                                                                  'tf.__operators__.getitem_2[0][0\n",
      "                                                                 ]',                              \n",
      "                                                                  'tf.__operators__.getitem_3[0][0\n",
      "                                                                 ]']                              \n",
      "                                                                                                  \n",
      " decoder (Functional)           (None, 3, 12)        24801       ['encoder[0][0]',                \n",
      "                                                                  'encoder[1][0]',                \n",
      "                                                                  'encoder[2][0]',                \n",
      "                                                                  'encoder[3][0]']                \n",
      "                                                                                                  \n",
      " tf.__operators__.getitem_4 (Sl  (None, 3, 12)       0           ['input_reshaper[0][0]']         \n",
      " icingOpLambda)                                                                                   \n",
      "                                                                                                  \n",
      " tf.__operators__.getitem_5 (Sl  (None, 3, 12)       0           ['input_reshaper[0][0]']         \n",
      " icingOpLambda)                                                                                   \n",
      "                                                                                                  \n",
      " tf.__operators__.getitem_6 (Sl  (None, 3, 12)       0           ['input_reshaper[0][0]']         \n",
      " icingOpLambda)                                                                                   \n",
      "                                                                                                  \n",
      " tf.math.subtract (TFOpLambda)  (None, 3, 12)        0           ['tf.__operators__.getitem_4[0][0\n",
      "                                                                 ]',                              \n",
      "                                                                  'decoder[0][0]']                \n",
      "                                                                                                  \n",
      " tf.math.subtract_1 (TFOpLambda  (None, 3, 12)       0           ['tf.__operators__.getitem_5[0][0\n",
      " )                                                               ]',                              \n",
      "                                                                  'decoder[1][0]']                \n",
      "                                                                                                  \n",
      " tf.math.subtract_2 (TFOpLambda  (None, 3, 12)       0           ['tf.__operators__.getitem_6[0][0\n",
      " )                                                               ]',                              \n",
      "                                                                  'decoder[2][0]']                \n",
      "                                                                                                  \n",
      " tf.__operators__.getitem_3 (Sl  (None, 3, 12)       0           ['input_reshaper[0][0]']         \n",
      " icingOpLambda)                                                                                   \n",
      "                                                                                                  \n",
      " reshape_2 (Reshape)            (None, 3, 12, 1)     0           ['tf.math.subtract[0][0]']       \n",
      "                                                                                                  \n",
      " reshape_3 (Reshape)            (None, 3, 12, 1)     0           ['tf.math.subtract_1[0][0]']     \n",
      "                                                                                                  \n",
      " reshape_4 (Reshape)            (None, 3, 12, 1)     0           ['tf.math.subtract_2[0][0]']     \n",
      "                                                                                                  \n",
      " concatenate (Concatenate)      (None, 3, 12, 65)    0           ['encoder[0][0]',                \n",
      "                                                                  'reshape_2[0][0]']              \n",
      "                                                                                                  \n",
      " concatenate_1 (Concatenate)    (None, 3, 12, 65)    0           ['encoder[1][0]',                \n",
      "                                                                  'reshape_3[0][0]']              \n",
      "                                                                                                  \n",
      " concatenate_2 (Concatenate)    (None, 3, 12, 65)    0           ['encoder[2][0]',                \n",
      "                                                                  'reshape_4[0][0]']              \n",
      "                                                                                                  \n",
      " tf.__operators__.getitem_7 (Sl  (None, 3, 12)       0           ['input_reshaper[0][0]']         \n",
      " icingOpLambda)                                                                                   \n",
      "                                                                                                  \n",
      " flatten (Flatten)              (None, 2340)         0           ['concatenate[0][0]']            \n",
      "                                                                                                  \n",
      " flatten_1 (Flatten)            (None, 2340)         0           ['concatenate_1[0][0]']          \n",
      "                                                                                                  \n",
      " flatten_2 (Flatten)            (None, 2340)         0           ['concatenate_2[0][0]']          \n",
      "                                                                                                  \n",
      " tf.math.subtract_3 (TFOpLambda  (None, 3, 12)       0           ['tf.__operators__.getitem_7[0][0\n",
      " )                                                               ]',                              \n",
      "                                                                  'decoder[3][0]']                \n",
      "                                                                                                  \n",
      " reshape_6 (Reshape)            (None, 1, 2340)      0           ['flatten[0][0]']                \n",
      "                                                                                                  \n",
      " reshape_7 (Reshape)            (None, 1, 2340)      0           ['flatten_1[0][0]']              \n",
      "                                                                                                  \n",
      " reshape_8 (Reshape)            (None, 1, 2340)      0           ['flatten_2[0][0]']              \n",
      "                                                                                                  \n",
      " reshape_5 (Reshape)            (None, 3, 12, 1)     0           ['tf.math.subtract_3[0][0]']     \n",
      "                                                                                                  \n",
      " z_flatten_concat (Concatenate)  (None, 3, 2340)     0           ['reshape_6[0][0]',              \n",
      "                                                                  'reshape_7[0][0]',              \n",
      "                                                                  'reshape_8[0][0]']              \n",
      "                                                                                                  \n",
      " concatenate_3 (Concatenate)    (None, 3, 12, 65)    0           ['encoder[3][0]',                \n",
      "                                                                  'reshape_5[0][0]']              \n",
      "                                                                                                  \n",
      " Z_flattened_for_linear (Flatte  (None, 7020)        0           ['z_flatten_concat[0][0]']       \n",
      " n)                                                                                               \n",
      "                                                                                                  \n",
      " decoded_for_output (Concatenat  (None, 3, 48)       0           ['decoder[0][0]',                \n",
      " e)                                                               'decoder[1][0]',                \n",
      "                                                                  'decoder[2][0]',                \n",
      "                                                                  'decoder[3][0]']                \n",
      "                                                                                                  \n",
      " flatten_3 (Flatten)            (None, 2340)         0           ['concatenate_3[0][0]']          \n",
      "                                                                                                  \n",
      " BiLSTM (Functional)            (None, 2340)         14085413    ['z_flatten_concat[0][0]']       \n",
      "                                                                                                  \n",
      " linear_predictor (Functional)  (None, 2340)         16429140    ['Z_flattened_for_linear[0][0]'] \n",
      "                                                                                                  \n",
      " tf.convert_to_tensor_1 (TFOpLa  (None, 2340)        0           ['flatten_3[0][0]']              \n",
      " mbda)                                                                                            \n",
      "                                                                                                  \n",
      " tf.cast_1 (TFOpLambda)         (None, 2340)         0           ['BiLSTM[0][0]']                 \n",
      "                                                                                                  \n",
      " tf.convert_to_tensor (TFOpLamb  (None, 3, 48)       0           ['decoded_for_output[0][0]']     \n",
      " da)                                                                                              \n",
      "                                                                                                  \n",
      " tf.cast (TFOpLambda)           (None, 3, 48)        0           ['sample[0][0]']                 \n",
      "                                                                                                  \n",
      " tf.math.squared_difference_1 (  (None, 2340)        0           ['tf.convert_to_tensor_1[0][0]', \n",
      " TFOpLambda)                                                      'tf.cast_1[0][0]']              \n",
      "                                                                                                  \n",
      " tf.convert_to_tensor_2 (TFOpLa  (None, 2340)        0           ['flatten_3[0][0]']              \n",
      " mbda)                                                                                            \n",
      "                                                                                                  \n",
      " tf.cast_2 (TFOpLambda)         (None, 2340)         0           ['linear_predictor[0][0]']       \n",
      "                                                                                                  \n",
      " tf.math.squared_difference (TF  (None, 3, 48)       0           ['tf.convert_to_tensor[0][0]',   \n",
      " OpLambda)                                                        'tf.cast[0][0]']                \n",
      "                                                                                                  \n",
      " tf.math.reduce_mean_1 (TFOpLam  (None,)             0           ['tf.math.squared_difference_1[0]\n",
      " bda)                                                            [0]']                            \n",
      "                                                                                                  \n",
      " tf.math.squared_difference_2 (  (None, 2340)        0           ['tf.convert_to_tensor_2[0][0]', \n",
      " TFOpLambda)                                                      'tf.cast_2[0][0]']              \n",
      "                                                                                                  \n",
      " tf.math.reduce_mean (TFOpLambd  (None, 3)           0           ['tf.math.squared_difference[0][0\n",
      " a)                                                              ]']                              \n",
      "                                                                                                  \n",
      " tf.math.multiply (TFOpLambda)  (None,)              0           ['tf.math.reduce_mean_1[0][0]']  \n",
      "                                                                                                  \n",
      " tf.math.reduce_mean_2 (TFOpLam  (None,)             0           ['tf.math.squared_difference_2[0]\n",
      " bda)                                                            [0]']                            \n",
      "                                                                                                  \n",
      " tf.__operators__.add (TFOpLamb  (None, 3)           0           ['tf.math.reduce_mean[0][0]',    \n",
      " da)                                                              'tf.math.multiply[0][0]']       \n",
      "                                                                                                  \n",
      " tf.math.multiply_1 (TFOpLambda  (None,)             0           ['tf.math.reduce_mean_2[0][0]']  \n",
      " )                                                                                                \n",
      "                                                                                                  \n",
      " tf.__operators__.add_1 (TFOpLa  (None, 3)           0           ['tf.__operators__.add[0][0]',   \n",
      " mbda)                                                            'tf.math.multiply_1[0][0]']     \n",
      "                                                                                                  \n",
      " add_loss (AddLoss)             (None, 3)            0           ['tf.__operators__.add_1[0][0]'] \n",
      "                                                                                                  \n",
      "==================================================================================================\n",
      "Total params: 30,547,770\n",
      "Trainable params: 30,547,770\n",
      "Non-trainable params: 0\n",
      "__________________________________________________________________________________________________\n"
     ]
    }
   ],
   "source": [
    "CAEM.summary()"
   ]
  },
  {
   "cell_type": "code",
   "execution_count": 37,
   "metadata": {},
   "outputs": [],
   "source": [
    "CAEM.compile(optimizer='sgd')"
   ]
  },
  {
   "cell_type": "code",
   "execution_count": 38,
   "metadata": {},
   "outputs": [
    {
     "name": "stdout",
     "output_type": "stream",
     "text": [
      "Epoch 1/100\n",
      "180/180 [==============================] - 14s 58ms/step - loss: 0.0502 - val_loss: 0.0172\n",
      "Epoch 2/100\n",
      "180/180 [==============================] - 10s 55ms/step - loss: 0.0138 - val_loss: 0.0096\n",
      "Epoch 3/100\n",
      "180/180 [==============================] - 10s 55ms/step - loss: 0.0096 - val_loss: 0.0084\n",
      "Epoch 4/100\n",
      "180/180 [==============================] - 10s 56ms/step - loss: 0.0080 - val_loss: 0.0065\n",
      "Epoch 5/100\n",
      "180/180 [==============================] - 10s 56ms/step - loss: 0.0071 - val_loss: 0.0057\n",
      "Epoch 6/100\n",
      "180/180 [==============================] - 10s 57ms/step - loss: 0.0064 - val_loss: 0.0053\n",
      "Epoch 7/100\n",
      "180/180 [==============================] - 10s 56ms/step - loss: 0.0060 - val_loss: 0.0047\n",
      "Epoch 8/100\n",
      "180/180 [==============================] - 10s 55ms/step - loss: 0.0055 - val_loss: 0.0043\n",
      "Epoch 9/100\n",
      "180/180 [==============================] - 10s 53ms/step - loss: 0.0052 - val_loss: 0.0043\n",
      "Epoch 10/100\n",
      "180/180 [==============================] - 10s 53ms/step - loss: 0.0049 - val_loss: 0.0038\n",
      "Epoch 11/100\n",
      "180/180 [==============================] - 10s 53ms/step - loss: 0.0047 - val_loss: 0.0035\n",
      "Epoch 12/100\n",
      "180/180 [==============================] - 10s 54ms/step - loss: 0.0045 - val_loss: 0.0033\n",
      "Epoch 13/100\n",
      "180/180 [==============================] - 10s 55ms/step - loss: 0.0043 - val_loss: 0.0032\n",
      "Epoch 14/100\n",
      "180/180 [==============================] - 10s 54ms/step - loss: 0.0042 - val_loss: 0.0030\n",
      "Epoch 15/100\n",
      "180/180 [==============================] - 10s 55ms/step - loss: 0.0041 - val_loss: 0.0030\n",
      "Epoch 16/100\n",
      "180/180 [==============================] - 10s 55ms/step - loss: 0.0040 - val_loss: 0.0029\n",
      "Epoch 17/100\n",
      "180/180 [==============================] - 10s 54ms/step - loss: 0.0038 - val_loss: 0.0028\n",
      "Epoch 18/100\n",
      "180/180 [==============================] - 10s 55ms/step - loss: 0.0038 - val_loss: 0.0028\n",
      "Epoch 19/100\n",
      "180/180 [==============================] - 10s 54ms/step - loss: 0.0036 - val_loss: 0.0027\n",
      "Epoch 20/100\n",
      "180/180 [==============================] - 10s 55ms/step - loss: 0.0037 - val_loss: 0.0026\n",
      "Epoch 21/100\n",
      "180/180 [==============================] - 10s 54ms/step - loss: 0.0036 - val_loss: 0.0025\n",
      "Epoch 22/100\n",
      "180/180 [==============================] - 10s 55ms/step - loss: 0.0035 - val_loss: 0.0025\n",
      "Epoch 23/100\n",
      "180/180 [==============================] - 10s 54ms/step - loss: 0.0034 - val_loss: 0.0024\n",
      "Epoch 24/100\n",
      "180/180 [==============================] - 10s 55ms/step - loss: 0.0034 - val_loss: 0.0025\n",
      "Epoch 25/100\n",
      "180/180 [==============================] - 10s 54ms/step - loss: 0.0033 - val_loss: 0.0023\n",
      "Epoch 26/100\n",
      "180/180 [==============================] - 10s 54ms/step - loss: 0.0032 - val_loss: 0.0023\n",
      "Epoch 27/100\n",
      "180/180 [==============================] - 10s 54ms/step - loss: 0.0032 - val_loss: 0.0022\n",
      "Epoch 28/100\n",
      "180/180 [==============================] - 10s 53ms/step - loss: 0.0031 - val_loss: 0.0022\n",
      "Epoch 29/100\n",
      "180/180 [==============================] - 10s 54ms/step - loss: 0.0031 - val_loss: 0.0022\n",
      "Epoch 30/100\n",
      "180/180 [==============================] - 10s 54ms/step - loss: 0.0030 - val_loss: 0.0023\n",
      "Epoch 31/100\n",
      "180/180 [==============================] - 10s 54ms/step - loss: 0.0030 - val_loss: 0.0021\n",
      "Epoch 32/100\n",
      "180/180 [==============================] - 10s 53ms/step - loss: 0.0030 - val_loss: 0.0021\n",
      "Epoch 33/100\n",
      "180/180 [==============================] - 10s 55ms/step - loss: 0.0029 - val_loss: 0.0021\n",
      "Epoch 34/100\n",
      "180/180 [==============================] - 10s 54ms/step - loss: 0.0029 - val_loss: 0.0020\n",
      "Epoch 35/100\n",
      "180/180 [==============================] - 10s 54ms/step - loss: 0.0029 - val_loss: 0.0022\n",
      "Epoch 36/100\n",
      "180/180 [==============================] - 10s 54ms/step - loss: 0.0028 - val_loss: 0.0021\n",
      "Epoch 37/100\n",
      "180/180 [==============================] - 10s 53ms/step - loss: 0.0028 - val_loss: 0.0019\n",
      "Epoch 38/100\n",
      "180/180 [==============================] - 10s 55ms/step - loss: 0.0027 - val_loss: 0.0019\n",
      "Epoch 39/100\n",
      "180/180 [==============================] - 10s 55ms/step - loss: 0.0027 - val_loss: 0.0019\n",
      "Epoch 40/100\n",
      "180/180 [==============================] - 10s 53ms/step - loss: 0.0027 - val_loss: 0.0018\n",
      "Epoch 41/100\n",
      "180/180 [==============================] - 10s 53ms/step - loss: 0.0027 - val_loss: 0.0018\n",
      "Epoch 42/100\n",
      "180/180 [==============================] - 10s 54ms/step - loss: 0.0026 - val_loss: 0.0018\n",
      "Epoch 43/100\n",
      "180/180 [==============================] - 10s 54ms/step - loss: 0.0027 - val_loss: 0.0023\n",
      "Epoch 44/100\n",
      "180/180 [==============================] - 10s 54ms/step - loss: 0.0026 - val_loss: 0.0018\n",
      "Epoch 45/100\n",
      "180/180 [==============================] - 10s 54ms/step - loss: 0.0026 - val_loss: 0.0018\n",
      "Epoch 46/100\n",
      "180/180 [==============================] - 10s 54ms/step - loss: 0.0026 - val_loss: 0.0017\n",
      "Epoch 47/100\n",
      "180/180 [==============================] - 10s 54ms/step - loss: 0.0026 - val_loss: 0.0017\n",
      "Epoch 48/100\n",
      "180/180 [==============================] - 10s 54ms/step - loss: 0.0026 - val_loss: 0.0017\n",
      "Epoch 49/100\n",
      "180/180 [==============================] - 10s 55ms/step - loss: 0.0025 - val_loss: 0.0017\n",
      "Epoch 50/100\n",
      "180/180 [==============================] - 10s 54ms/step - loss: 0.0025 - val_loss: 0.0020\n",
      "Epoch 51/100\n",
      "180/180 [==============================] - 10s 54ms/step - loss: 0.0025 - val_loss: 0.0017\n",
      "Epoch 52/100\n",
      "180/180 [==============================] - 10s 54ms/step - loss: 0.0025 - val_loss: 0.0016\n",
      "Epoch 53/100\n",
      "180/180 [==============================] - 10s 54ms/step - loss: 0.0025 - val_loss: 0.0018\n",
      "Epoch 54/100\n",
      "180/180 [==============================] - 10s 54ms/step - loss: 0.0024 - val_loss: 0.0016\n",
      "Epoch 55/100\n",
      "180/180 [==============================] - 10s 54ms/step - loss: 0.0024 - val_loss: 0.0016\n",
      "Epoch 56/100\n",
      "180/180 [==============================] - 10s 53ms/step - loss: 0.0024 - val_loss: 0.0016\n",
      "Epoch 57/100\n",
      "180/180 [==============================] - 10s 54ms/step - loss: 0.0024 - val_loss: 0.0016\n",
      "Epoch 58/100\n",
      "180/180 [==============================] - 10s 55ms/step - loss: 0.0024 - val_loss: 0.0015\n",
      "Epoch 59/100\n",
      "180/180 [==============================] - 10s 55ms/step - loss: 0.0024 - val_loss: 0.0015\n",
      "Epoch 60/100\n",
      "180/180 [==============================] - 10s 55ms/step - loss: 0.0024 - val_loss: 0.0015\n",
      "Epoch 61/100\n",
      "180/180 [==============================] - 10s 54ms/step - loss: 0.0024 - val_loss: 0.0015\n",
      "Epoch 62/100\n",
      "180/180 [==============================] - 10s 53ms/step - loss: 0.0024 - val_loss: 0.0016\n",
      "Epoch 63/100\n",
      "180/180 [==============================] - 10s 54ms/step - loss: 0.0024 - val_loss: 0.0015\n",
      "Epoch 64/100\n",
      "180/180 [==============================] - 10s 54ms/step - loss: 0.0023 - val_loss: 0.0015\n",
      "Epoch 65/100\n",
      "180/180 [==============================] - 10s 53ms/step - loss: 0.0023 - val_loss: 0.0016\n",
      "Epoch 66/100\n",
      "180/180 [==============================] - 10s 53ms/step - loss: 0.0023 - val_loss: 0.0020\n",
      "Epoch 67/100\n",
      "180/180 [==============================] - 10s 53ms/step - loss: 0.0023 - val_loss: 0.0015\n",
      "Epoch 68/100\n",
      "180/180 [==============================] - 10s 54ms/step - loss: 0.0023 - val_loss: 0.0015\n",
      "Epoch 69/100\n",
      "180/180 [==============================] - 10s 54ms/step - loss: 0.0023 - val_loss: 0.0019\n",
      "Epoch 70/100\n",
      "180/180 [==============================] - 10s 54ms/step - loss: 0.0023 - val_loss: 0.0018\n",
      "Epoch 71/100\n",
      "180/180 [==============================] - 10s 55ms/step - loss: 0.0023 - val_loss: 0.0015\n",
      "Epoch 72/100\n",
      "180/180 [==============================] - 10s 54ms/step - loss: 0.0023 - val_loss: 0.0014\n",
      "Epoch 73/100\n",
      "180/180 [==============================] - 10s 55ms/step - loss: 0.0023 - val_loss: 0.0014\n",
      "Epoch 74/100\n",
      "180/180 [==============================] - 10s 54ms/step - loss: 0.0023 - val_loss: 0.0015\n",
      "Epoch 75/100\n",
      "180/180 [==============================] - 10s 54ms/step - loss: 0.0023 - val_loss: 0.0014\n",
      "Epoch 76/100\n",
      "180/180 [==============================] - 10s 55ms/step - loss: 0.0022 - val_loss: 0.0014\n",
      "Epoch 77/100\n",
      "180/180 [==============================] - 10s 55ms/step - loss: 0.0022 - val_loss: 0.0014\n",
      "Epoch 78/100\n",
      "180/180 [==============================] - 10s 54ms/step - loss: 0.0022 - val_loss: 0.0061\n",
      "Epoch 79/100\n",
      "180/180 [==============================] - 10s 55ms/step - loss: 0.0023 - val_loss: 0.0014\n",
      "Epoch 80/100\n",
      "180/180 [==============================] - 10s 55ms/step - loss: 0.0023 - val_loss: 0.0015\n",
      "Epoch 81/100\n",
      "180/180 [==============================] - 10s 55ms/step - loss: 0.0022 - val_loss: 0.0014\n",
      "Epoch 82/100\n",
      "180/180 [==============================] - 10s 54ms/step - loss: 0.0022 - val_loss: 0.0014\n",
      "Epoch 83/100\n",
      "180/180 [==============================] - 10s 54ms/step - loss: 0.0022 - val_loss: 0.0014\n",
      "Epoch 84/100\n",
      "180/180 [==============================] - 10s 56ms/step - loss: 0.0022 - val_loss: 0.0014\n",
      "Epoch 85/100\n",
      "180/180 [==============================] - 10s 55ms/step - loss: 0.0022 - val_loss: 0.0014\n",
      "Epoch 86/100\n",
      "180/180 [==============================] - 10s 55ms/step - loss: 0.0022 - val_loss: 0.0014\n",
      "Epoch 87/100\n",
      "180/180 [==============================] - 10s 54ms/step - loss: 0.0022 - val_loss: 0.0013\n",
      "Epoch 88/100\n",
      "180/180 [==============================] - 10s 54ms/step - loss: 0.0022 - val_loss: 0.0013\n",
      "Epoch 89/100\n",
      "180/180 [==============================] - 10s 54ms/step - loss: 0.0023 - val_loss: 0.0014\n",
      "Epoch 90/100\n",
      "180/180 [==============================] - 10s 54ms/step - loss: 0.0022 - val_loss: 0.0014\n",
      "Epoch 91/100\n",
      "180/180 [==============================] - 10s 54ms/step - loss: 0.0022 - val_loss: 0.0013\n",
      "Epoch 92/100\n",
      "180/180 [==============================] - 10s 55ms/step - loss: 0.0022 - val_loss: 0.0020\n",
      "Epoch 93/100\n",
      "180/180 [==============================] - 10s 54ms/step - loss: 0.0022 - val_loss: 0.0016\n",
      "Epoch 94/100\n",
      "180/180 [==============================] - 10s 54ms/step - loss: 0.0021 - val_loss: 0.0014\n",
      "Epoch 95/100\n",
      "180/180 [==============================] - 10s 56ms/step - loss: 0.0021 - val_loss: 0.0013\n",
      "Epoch 96/100\n",
      "180/180 [==============================] - 10s 55ms/step - loss: 0.0022 - val_loss: 0.0015\n",
      "Epoch 97/100\n",
      "180/180 [==============================] - 10s 55ms/step - loss: 0.0021 - val_loss: 0.0013\n",
      "Epoch 98/100\n",
      "180/180 [==============================] - 10s 54ms/step - loss: 0.0021 - val_loss: 0.0016\n",
      "Epoch 99/100\n",
      "180/180 [==============================] - 10s 54ms/step - loss: 0.0021 - val_loss: 0.0018\n",
      "Epoch 100/100\n",
      "180/180 [==============================] - 10s 54ms/step - loss: 0.0021 - val_loss: 0.0013\n"
     ]
    }
   ],
   "source": [
    "history = CAEM.fit(\n",
    "                xtrain,\n",
    "                epochs=100,\n",
    "                validation_split=.1,\n",
    "                batch_size=3)\n",
    "            \n"
   ]
  },
  {
   "cell_type": "code",
   "execution_count": 40,
   "metadata": {},
   "outputs": [
    {
     "data": {
      "image/png": "[encoded data removed]",
      "text/plain": [
       "<Figure size 640x480 with 1 Axes>"
      ]
     },
     "metadata": {},
     "output_type": "display_data"
    }
   ],
   "source": [
    "plt.figure()\n",
    "plt.plot(history.history[\"loss\"], label=\"Training Loss\")\n",
    "plt.plot(history.history[\"val_loss\"], label=\"Validation Loss\")\n",
    "plt.legend()\n",
    "plt.show()\n"
   ]
  },
  {
   "cell_type": "code",
   "execution_count": null,
   "metadata": {},
   "outputs": [],
   "source": []
  },
  {
   "cell_type": "code",
   "execution_count": null,
   "metadata": {},
   "outputs": [],
   "source": []
  },
  {
   "cell_type": "code",
   "execution_count": null,
   "metadata": {},
   "outputs": [],
   "source": []
  },
  {
   "cell_type": "code",
   "execution_count": null,
   "metadata": {},
   "outputs": [],
   "source": []
  },
  {
   "cell_type": "code",
   "execution_count": null,
   "metadata": {},
   "outputs": [],
   "source": []
  },
  {
   "cell_type": "code",
   "execution_count": null,
   "metadata": {},
   "outputs": [],
   "source": []
  }
 ],
 "metadata": {
  "instance_type": "ml.m5.4xlarge",
  "kernelspec": {
   "display_name": "Python 3 (Data Science)",
   "language": "python",
   "name": "python3__SAGEMAKER_INTERNAL__arn:aws:sagemaker:us-west-2:236514542706:image/datascience-1.0"
  },
  "language_info": {
   "codemirror_mode": {
    "name": "ipython",
    "version": 3
   },
   "file_extension": ".py",
   "mimetype": "text/x-python",
   "name": "python",
   "nbconvert_exporter": "python",
   "pygments_lexer": "ipython3",
   "version": "3.7.10"
  }
 },
 "nbformat": 4,
 "nbformat_minor": 4
}
