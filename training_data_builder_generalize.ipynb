{
 "cells": [
  {
   "cell_type": "code",
   "execution_count": 21,
   "id": "1d855f92-4840-46e1-abf9-4cdb1c87373c",
   "metadata": {},
   "outputs": [],
   "source": [
    "# pip install /root/CodeCommit/msspackages/dist/msspackages-0.0.7-py3-none-any.whl"
   ]
  },
  {
   "cell_type": "code",
   "execution_count": null,
   "id": "9056376e-0314-4f91-8305-4dd37827567f",
   "metadata": {},
   "outputs": [],
   "source": [
    "# from msspackages import setup_runner\n",
    "# setup_runner()"
   ]
  },
  {
   "cell_type": "code",
   "execution_count": 22,
   "id": "2ac7723a-1d9e-47b3-96e6-cb1eeb4dd1db",
   "metadata": {},
   "outputs": [],
   "source": [
    "from feature_engineering import node_autoencoder_ad_preprocessing, node_autoencoder_ad_feature_engineering, node_autoencoder_train_test_split\n",
    "from feature_engineering import container_autoencoder_ad_preprocessing, container_autoencoder_ad_feature_engineering, container_autoencoder_train_test_split\n",
    "from feature_engineering import pod_autoencoder_ad_preprocessing, pod_autoencoder_ad_feature_engineering, pod_autoencoder_train_test_split\n",
    "\n",
    "from utilities import s3_operations\n",
    "import pandas as pd"
   ]
  },
  {
   "cell_type": "code",
   "execution_count": 23,
   "id": "de0f602d-c763-4354-b13a-9884fa8d24d9",
   "metadata": {},
   "outputs": [],
   "source": [
    "def training_data_builder(preprocessing_args,\n",
    "                          preprocessing_fnc, \n",
    "                          preprocessing_train_test_split_fnc,\n",
    "                          feature_engineering_fnc):\n",
    "    \n",
    "    #pre processing\n",
    "    features_data, processed_data = preprocessing_fnc(*preprocessing_args)\n",
    "    #pd.set_option('display.max_columns', None)  \n",
    "    print(features_data.head())\n",
    "    print(processed_data.show(truncate=False))\n",
    "    \n",
    "    #test, train split\n",
    "    train_data, test_data = preprocessing_train_test_split_fnc(processed_data)\n",
    "\n",
    "    #Train data feature engineering\n",
    "    training_data = feature_engineering_fnc(features_data, train_data)\n",
    "    #s3_operations.write_to_s3(node_training_data, s3_path)\n",
    "    print(training_data.show(truncate=False))\n",
    " \n",
    "    #Test data feature engineering\n",
    "    testing_data = feature_engineering_fnc(features_data, test_data)\n",
    "    #s3_operations.write_to_s3(node_testing_data, s3_path)\n",
    "    print(testing_data.show(truncate=False))\n",
    "    \n",
    "    return training_data, testing_data\n",
    "\n",
    "def pod_training_data_builder():\n",
    "    \n",
    "    #pre processing\n",
    "    pod_features_data, pod_processed_data = pod_autoencoder_ad_preprocessing(\"pod_autoencoder_ad\",\"11-30-2022\",\"2022\",\"10\",\"10\",\"10\")\n",
    "    #pd.set_option('display.max_columns', None)  \n",
    "    print(pod_features_data.head())\n",
    "    print(pod_processed_data.show(truncate=False))\n",
    "    \n",
    "    #test, train split\n",
    "    pod_train_data, pod_test_data = pod_autoencoder_train_test_split(pod_processed_data)\n",
    "\n",
    "    #Train data feature engineering\n",
    "    pod_training_data = pod_autoencoder_ad_feature_engineering(pod_features_data, pod_train_data)\n",
    "    #s3_operations.write_to_s3(node_training_data, s3_path)\n",
    "    print(pod_training_data.show(truncate=False))\n",
    " \n",
    "    #Test data feature engineering\n",
    "    pod_testing_data = pod_autoencoder_ad_feature_engineering(pod_features_data, pod_test_data)\n",
    "    #s3_operations.write_to_s3(node_testing_data, s3_path)\n",
    "    print(pod_testing_data.show(truncate=False))\n",
    "    \n",
    "    return pod_training_data, pod_testing_data"
   ]
  },
  {
   "cell_type": "code",
   "execution_count": null,
   "id": "fc0ea47a-11d0-4232-8b5e-b64d61cc7bd3",
   "metadata": {},
   "outputs": [],
   "source": [
    "#build training data for pod\n",
    "pod_training_data, pod_testing_data =training_data_builder(preprocessing_args = [\"pod_autoencoder_ad\",\"11-30-2022\",\"2022\",\"10\",\"10\",\"10\"],\n",
    "                                                           preprocessing_fnc = autoencoder_ad_preprocessing, \n",
    "                                                           preprocessing_train_test_split_fnc = pod_autoencoder_train_test_split,\n",
    "                                                           feature_engineering_fnc = pod_autoencoder_ad_feature_engineering)"
   ]
  },
  {
   "cell_type": "code",
   "execution_count": null,
   "id": "aec48e51-5158-41e6-84a0-c86fa9195e5b",
   "metadata": {},
   "outputs": [],
   "source": []
  }
 ],
 "metadata": {
  "instance_type": "ml.t3.medium",
  "kernelspec": {
   "display_name": "Python 3 (Data Science)",
   "language": "python",
   "name": "python3__SAGEMAKER_INTERNAL__arn:aws:sagemaker:us-west-2:236514542706:image/datascience-1.0"
  },
  "language_info": {
   "codemirror_mode": {
    "name": "ipython",
    "version": 3
   },
   "file_extension": ".py",
   "mimetype": "text/x-python",
   "name": "python",
   "nbconvert_exporter": "python",
   "pygments_lexer": "ipython3",
   "version": "3.7.10"
  }
 },
 "nbformat": 4,
 "nbformat_minor": 5
}
