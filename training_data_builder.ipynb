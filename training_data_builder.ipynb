{
 "cells": [
  {
   "cell_type": "code",
   "execution_count": null,
   "id": "bdf174fc-63c4-4810-910f-07ca16ae679d",
   "metadata": {
    "tags": []
   },
   "outputs": [],
   "source": [
    "pwd"
   ]
  },
  {
   "cell_type": "code",
   "execution_count": null,
   "id": "c0503d87-e2f2-4658-bf04-bd67c76f316d",
   "metadata": {
    "tags": []
   },
   "outputs": [],
   "source": [
    "!pip uninstall -y msspackages"
   ]
  },
  {
   "cell_type": "code",
   "execution_count": null,
   "id": "66a948ac-c7a0-48fc-b7a6-4e2e0b2639fb",
   "metadata": {
    "tags": []
   },
   "outputs": [],
   "source": [
    "!pip install /root/msspackages/dist/msspackages-0.0.7-py3-none-any.whl"
   ]
  },
  {
   "cell_type": "code",
   "execution_count": null,
   "id": "21d3f4c9-24d7-4653-bce6-7769262493f2",
   "metadata": {
    "tags": []
   },
   "outputs": [],
   "source": [
    "from msspackages import setup_runner\n",
    "setup_runner()"
   ]
  },
  {
   "cell_type": "code",
   "execution_count": null,
   "id": "dea9cfae-3924-4513-b1ae-1395851d4652",
   "metadata": {
    "tags": []
   },
   "outputs": [],
   "source": [
    "!python3 --version"
   ]
  },
  {
   "cell_type": "code",
   "execution_count": null,
   "id": "c4c4a004-baa6-465b-a828-9c622c842473",
   "metadata": {
    "tags": []
   },
   "outputs": [],
   "source": [
    "!python3 -m pip install -r requirements.txt"
   ]
  },
  {
   "cell_type": "markdown",
   "id": "e9674d58-08be-4025-b491-c05afb854706",
   "metadata": {},
   "source": [
    "<h1>Node, Pod & Container Training & Testing Data - Autoencoder<h1>"
   ]
  },
  {
   "cell_type": "code",
   "execution_count": null,
   "id": "1ad142d2-0aa1-467b-82b1-2de81106539b",
   "metadata": {
    "tags": []
   },
   "outputs": [],
   "source": [
    "%%time\n",
    "from eks_ml_pipeline import node_autoencoder_ad_preprocessing, node_autoencoder_ad_feature_engineering, node_autoencoder_train_test_split\n",
    "\n",
    "#pre processing\n",
    "node_features_data, node_processed_data = node_autoencoder_ad_preprocessing(\"node_autoencoder_ad\",\"v0.0.1\",\"2022\",\"10\",\"10\",\"10\",\"128gb\")\n",
    "\n",
    "#test, train split\n",
    "node_train_split = node_features_data[\"model_parameters\"].iloc[0][\"split_ratio\"]\n",
    "node_test_split =  round(1 - node_train_split,2)\n",
    "node_train_data, node_test_data = node_autoencoder_train_test_split(node_processed_data, [node_train_split,node_test_split])\n",
    "\n",
    "#Train data feature engineering\n",
    "node_training_data, node_training_tensor = node_autoencoder_ad_feature_engineering('train', [node_train_split,node_test_split], node_features_data, node_train_data)\n",
    "print(node_training_tensor)\n",
    "print(node_training_data.to_string())\n",
    "#Test data feature engineering\n",
    "#node_testing_data, node_testing_tensor = node_autoencoder_ad_feature_engineering('test', [node_train_split,node_test_split], node_features_data, node_test_data)\n"
   ]
  },
  {
   "cell_type": "code",
   "execution_count": null,
   "id": "a5d19133-931f-48b3-927c-cb891f87d997",
   "metadata": {
    "tags": []
   },
   "outputs": [],
   "source": []
  },
  {
   "cell_type": "code",
   "execution_count": null,
   "id": "8d0aa63e-c005-4de4-bd1e-9085ade4a75c",
   "metadata": {
    "tags": []
   },
   "outputs": [],
   "source": [
    "%%time\n",
    "from eks_ml_pipeline import pod_autoencoder_ad_preprocessing, pod_autoencoder_ad_feature_engineering, pod_autoencoder_train_test_split\n",
    "\n",
    "#pre processing\n",
    "pod_features_data, pod_processed_data = pod_autoencoder_ad_preprocessing(\"pod_autoencoder_ad\",\"v0.0.1\",\"2022\",\"10\",\"10\",\"10\",\"128gb\")\n",
    "\n",
    "#test, train split\n",
    "pod_train_split = pod_features_data[\"model_parameters\"].iloc[0][\"split_ratio\"]\n",
    "pod_test_split =  round(1 - pod_train_split,2)\n",
    "pod_train_data, pod_test_data = pod_autoencoder_train_test_split(pod_processed_data, [pod_train_split,pod_test_split])\n",
    "\n",
    "#Train data feature engineering\n",
    "pod_training_data, pod_training_tensor = pod_autoencoder_ad_feature_engineering('train', [pod_train_split,pod_test_split], pod_features_data, pod_train_data)\n",
    "\n",
    "#Test data feature engineering\n",
    "pod_testing_data, pod_testing_tensor = pod_autoencoder_ad_feature_engineering('test', [pod_train_split,pod_test_split], pod_features_data, pod_test_data)\n"
   ]
  },
  {
   "cell_type": "code",
   "execution_count": null,
   "id": "40dc811e-1dc9-42f8-9932-c075f5484d03",
   "metadata": {
    "tags": []
   },
   "outputs": [],
   "source": [
    "%%time\n",
    "from eks_ml_pipeline import container_autoencoder_ad_preprocessing, container_autoencoder_ad_feature_engineering, container_autoencoder_train_test_split\n",
    "\n",
    "#pre processing\n",
    "container_features_data, container_processed_data = container_autoencoder_ad_preprocessing(\"container_autoencoder_ad\",\"v0.0.1\",\"2022\",\"10\",\"10\",\"10\",\"128gb\")\n",
    "\n",
    "#test, train split\n",
    "container_train_split = container_features_data[\"model_parameters\"].iloc[0][\"split_ratio\"]\n",
    "container_test_split =  round(1 - container_train_split,2)\n",
    "container_train_data, container_test_data = container_autoencoder_train_test_split(container_processed_data, [container_train_split,container_test_split])\n",
    "\n",
    "#Train data feature engineering\n",
    "container_training_data, container_training_tensor = container_autoencoder_ad_feature_engineering('train', [container_train_split,container_test_split], container_features_data, container_train_data)\n",
    "\n",
    "#Test data feature engineering\n",
    "container_testing_data, container_testing_tensor = container_autoencoder_ad_feature_engineering('test', [container_train_split,container_test_split], container_features_data, container_test_data)"
   ]
  },
  {
   "cell_type": "markdown",
   "id": "31b7fd5f-355c-4b51-946d-40b8d6cc00ee",
   "metadata": {
    "tags": []
   },
   "source": [
    "<h1>Node, Pod & Container Training & Testing Data - PCA<h1>"
   ]
  },
  {
   "cell_type": "code",
   "execution_count": null,
   "id": "ac2e5915-455d-45e3-8fe4-68561792712a",
   "metadata": {},
   "outputs": [],
   "source": [
    "%%time\n",
    "from eks_ml_pipeline import node_autoencoder_ad_preprocessing, node_autoencoder_ad_feature_engineering, node_autoencoder_train_test_split\n",
    "\n",
    "#pre processing\n",
    "node_features_data, node_processed_data = node_autoencoder_ad_preprocessing(\"node_pca_ad\",\"v0.0.1\",\"2022\",\"10\",\"10\",\"10\",\"128gb\")\n",
    "\n",
    "#test, train split\n",
    "node_train_split = node_features_data[\"model_parameters\"].iloc[0][\"split_ratio\"]\n",
    "node_test_split =  round(1 - node_train_split,2)\n",
    "node_train_data, node_test_data = node_autoencoder_train_test_split(node_processed_data, [node_train_split,node_test_split])\n",
    "\n",
    "#Train data feature engineering\n",
    "node_training_data, node_training_tensor = node_autoencoder_ad_feature_engineering('train', [node_train_split,node_test_split],  node_features_data, node_train_data)\n",
    "\n",
    "#Test data feature engineering\n",
    "node_testing_data, node_testing_tensor = node_autoencoder_ad_feature_engineering('test', [node_train_split,node_test_split], node_features_data, node_test_data)\n"
   ]
  },
  {
   "cell_type": "code",
   "execution_count": null,
   "id": "a0e04c92-8ecc-4567-8997-de3ab0d3cb10",
   "metadata": {},
   "outputs": [],
   "source": [
    "%%time\n",
    "from eks_ml_pipeline import pod_autoencoder_ad_preprocessing, pod_autoencoder_ad_feature_engineering, pod_autoencoder_train_test_split\n",
    "\n",
    "#pre processing\n",
    "pod_features_data, pod_processed_data = pod_autoencoder_ad_preprocessing(\"pod_pca_ad\",\"v0.0.1\",\"2022\",\"10\",\"10\",\"10\",\"128gb\")\n",
    "\n",
    "#test, train split\n",
    "pod_train_split = pod_features_data[\"model_parameters\"].iloc[0][\"split_ratio\"]\n",
    "pod_test_split =  round(1 - pod_train_split,2)\n",
    "pod_train_data, pod_test_data = pod_autoencoder_train_test_split(pod_processed_data, [pod_train_split,pod_test_split])\n",
    "\n",
    "#Train data feature engineering\n",
    "pod_training_data, pod_training_tensor = pod_autoencoder_ad_feature_engineering('train', [pod_train_split,pod_test_split], pod_features_data, pod_train_data)\n",
    "\n",
    "#Test data feature engineering\n",
    "pod_testing_data, pod_testing_tensor = pod_autoencoder_ad_feature_engineering('test', [pod_train_split,pod_test_split], pod_features_data, pod_test_data)\n"
   ]
  },
  {
   "cell_type": "code",
   "execution_count": null,
   "id": "11cc2547-1528-4f6f-a5d4-fb590f04effd",
   "metadata": {},
   "outputs": [],
   "source": [
    "%%time\n",
    "from eks_ml_pipeline import container_autoencoder_ad_preprocessing, container_autoencoder_ad_feature_engineering, container_autoencoder_train_test_split\n",
    "\n",
    "#pre processing\n",
    "container_features_data, container_processed_data = container_autoencoder_ad_preprocessing(\"container_pca_ad\",\"v0.0.1\",\"2022\",\"10\",\"10\",\"10\",\"128gb\")\n",
    "\n",
    "#test, train split\n",
    "container_train_split = container_features_data[\"model_parameters\"].iloc[0][\"split_ratio\"]\n",
    "container_test_split =  round(1 - container_train_split,2)\n",
    "container_train_data, container_test_data = container_autoencoder_train_test_split(container_processed_data, [container_train_split,container_test_split])\n",
    "\n",
    "#Train data feature engineering\n",
    "container_training_data, container_training_tensor = container_autoencoder_ad_feature_engineering('train', [container_train_split,container_test_split], container_features_data, container_train_data)\n",
    "\n",
    "#Test data feature engineering\n",
    "container_testing_data, container_testing_tensor = container_autoencoder_ad_feature_engineering('test', [container_train_split,container_test_split], container_features_data, container_test_data)"
   ]
  },
  {
   "cell_type": "code",
   "execution_count": null,
   "id": "e4e0807e-9e84-4ef6-b213-e74e48942c4e",
   "metadata": {},
   "outputs": [],
   "source": [
    "#save tensor pod data\n",
    "import numpy as np\n",
    "np.savetxt('pod_training_tensor.txt', pod_training_tensor.reshape(pod_training_tensor.shape[0], -1))\n"
   ]
  },
  {
   "cell_type": "code",
   "execution_count": null,
   "id": "3ce3d5f3-7b1f-41a1-a215-bf1ff95d3c18",
   "metadata": {},
   "outputs": [],
   "source": [
    "#read data from S3 bucket:\n",
    "data_ingestion = Pyspark_data_ingestion()\n",
    "spark = data_ingestion.get_spark()\n",
    "pod_test_df = spark.read.parquet('s3a://emr-serverless-output-pd/aa/test_data1/')"
   ]
  }
 ],
 "metadata": {
  "instance_type": "ml.m5.8xlarge",
  "kernelspec": {
   "display_name": "Python 3 (Data Science)",
   "language": "python",
   "name": "python3__SAGEMAKER_INTERNAL__arn:aws:sagemaker:us-east-1:081325390199:image/datascience-1.0"
  },
  "language_info": {
   "codemirror_mode": {
    "name": "ipython",
    "version": 3
   },
   "file_extension": ".py",
   "mimetype": "text/x-python",
   "name": "python",
   "nbconvert_exporter": "python",
   "pygments_lexer": "ipython3",
   "version": "3.7.10"
  }
 },
 "nbformat": 4,
 "nbformat_minor": 5
}
