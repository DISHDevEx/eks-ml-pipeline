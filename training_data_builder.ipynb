{
 "cells": [
  {
   "cell_type": "code",
   "execution_count": 2,
   "id": "bdf174fc-63c4-4810-910f-07ca16ae679d",
   "metadata": {
    "tags": []
   },
   "outputs": [
    {
     "data": {
      "text/plain": [
       "'/root/eks-ml-pipeline'"
      ]
     },
     "execution_count": 2,
     "metadata": {},
     "output_type": "execute_result"
    }
   ],
   "source": [
    "pwd"
   ]
  },
  {
   "cell_type": "code",
   "execution_count": 3,
   "id": "c0503d87-e2f2-4658-bf04-bd67c76f316d",
   "metadata": {
    "collapsed": true,
    "jupyter": {
     "outputs_hidden": true
    },
    "tags": []
   },
   "outputs": [
    {
     "name": "stdout",
     "output_type": "stream",
     "text": [
      "Keyring is skipped due to an exception: 'keyring.backends'\n",
      "Found existing installation: msspackages 0.0.7\n",
      "Uninstalling msspackages-0.0.7:\n",
      "  Successfully uninstalled msspackages-0.0.7\n",
      "\u001b[33mWARNING: Running pip as the 'root' user can result in broken permissions and conflicting behaviour with the system package manager. It is recommended to use a virtual environment instead: https://pip.pypa.io/warnings/venv\u001b[0m\u001b[33m\n",
      "\u001b[0m"
     ]
    }
   ],
   "source": [
    "!pip uninstall -y msspackages"
   ]
  },
  {
   "cell_type": "code",
   "execution_count": 4,
   "id": "66a948ac-c7a0-48fc-b7a6-4e2e0b2639fb",
   "metadata": {
    "collapsed": true,
    "jupyter": {
     "outputs_hidden": true
    },
    "tags": []
   },
   "outputs": [
    {
     "name": "stdout",
     "output_type": "stream",
     "text": [
      "Keyring is skipped due to an exception: 'keyring.backends'\n",
      "Processing /root/msspackages/dist/msspackages-0.0.7-py3-none-any.whl\n",
      "Requirement already satisfied: pyspark in /opt/conda/lib/python3.7/site-packages (from msspackages==0.0.7) (3.3.1)\n",
      "Requirement already satisfied: dask in /opt/conda/lib/python3.7/site-packages (from msspackages==0.0.7) (2022.2.0)\n",
      "Requirement already satisfied: numpy in /opt/conda/lib/python3.7/site-packages (from msspackages==0.0.7) (1.21.6)\n",
      "Requirement already satisfied: pandas in /opt/conda/lib/python3.7/site-packages (from msspackages==0.0.7) (1.3.5)\n",
      "Requirement already satisfied: tqdm in /opt/conda/lib/python3.7/site-packages (from msspackages==0.0.7) (4.42.1)\n",
      "Requirement already satisfied: configparser in /opt/conda/lib/python3.7/site-packages (from msspackages==0.0.7) (5.3.0)\n",
      "Requirement already satisfied: cloudpickle>=1.1.1 in /opt/conda/lib/python3.7/site-packages (from dask->msspackages==0.0.7) (2.2.0)\n",
      "Requirement already satisfied: packaging>=20.0 in /opt/conda/lib/python3.7/site-packages (from dask->msspackages==0.0.7) (20.1)\n",
      "Requirement already satisfied: fsspec>=0.6.0 in /opt/conda/lib/python3.7/site-packages (from dask->msspackages==0.0.7) (2022.11.0)\n",
      "Requirement already satisfied: toolz>=0.8.2 in /opt/conda/lib/python3.7/site-packages (from dask->msspackages==0.0.7) (0.10.0)\n",
      "Requirement already satisfied: pyyaml>=5.3.1 in /opt/conda/lib/python3.7/site-packages (from dask->msspackages==0.0.7) (6.0)\n",
      "Requirement already satisfied: partd>=0.3.10 in /opt/conda/lib/python3.7/site-packages (from dask->msspackages==0.0.7) (1.1.0)\n",
      "Requirement already satisfied: python-dateutil>=2.7.3 in /opt/conda/lib/python3.7/site-packages (from pandas->msspackages==0.0.7) (2.8.2)\n",
      "Requirement already satisfied: pytz>=2017.3 in /opt/conda/lib/python3.7/site-packages (from pandas->msspackages==0.0.7) (2022.6)\n",
      "Requirement already satisfied: py4j==0.10.9.5 in /opt/conda/lib/python3.7/site-packages (from pyspark->msspackages==0.0.7) (0.10.9.5)\n",
      "Requirement already satisfied: pyparsing>=2.0.2 in /opt/conda/lib/python3.7/site-packages (from packaging>=20.0->dask->msspackages==0.0.7) (2.4.6)\n",
      "Requirement already satisfied: six in /opt/conda/lib/python3.7/site-packages (from packaging>=20.0->dask->msspackages==0.0.7) (1.14.0)\n",
      "Requirement already satisfied: locket in /opt/conda/lib/python3.7/site-packages (from partd>=0.3.10->dask->msspackages==0.0.7) (0.2.0)\n",
      "Installing collected packages: msspackages\n",
      "Successfully installed msspackages-0.0.7\n",
      "\u001b[33mWARNING: Running pip as the 'root' user can result in broken permissions and conflicting behaviour with the system package manager. It is recommended to use a virtual environment instead: https://pip.pypa.io/warnings/venv\u001b[0m\u001b[33m\n",
      "\u001b[0m"
     ]
    }
   ],
   "source": [
    "!pip install /root/msspackages/dist/msspackages-0.0.7-py3-none-any.whl"
   ]
  },
  {
   "cell_type": "code",
   "execution_count": 5,
   "id": "21d3f4c9-24d7-4653-bce6-7769262493f2",
   "metadata": {
    "collapsed": true,
    "jupyter": {
     "outputs_hidden": true
    },
    "tags": []
   },
   "outputs": [
    {
     "name": "stdout",
     "output_type": "stream",
     "text": [
      "b\"Get:1 http://security.debian.org/debian-security buster/updates InRelease [34.8 kB]\\nHit:2 http://deb.debian.org/debian buster InRelease\\nHit:3 http://deb.debian.org/debian buster-updates InRelease\\nFetched 34.8 kB in 0s (105 kB/s)\\nReading package lists...\\nBuilding dependency tree...\\nReading state information...\\n52 packages can be upgraded. Run 'apt list --upgradable' to see them.\\nReading package lists...\\nBuilding dependency tree...\\nReading state information...\\nsudo is already the newest version (1.8.27-1+deb10u4).\\n0 upgraded, 0 newly installed, 0 to remove and 52 not upgraded.\\nReading package lists...\\nBuilding dependency tree...\\nReading state information...\\ndefault-jre is already the newest version (2:1.11-71).\\n0 upgraded, 0 newly installed, 0 to remove and 52 not upgraded.\\nReading package lists...\\nBuilding dependency tree...\\nReading state information...\\npython3 is already the newest version (3.7.3-1).\\n0 upgraded, 0 newly installed, 0 to remove and 52 not upgraded.\\nReading package lists...\\nBuilding dependency tree...\\nReading state information...\\npython3-pip is already the newest version (18.1-5).\\n0 upgraded, 0 newly installed, 0 to remove and 52 not upgraded.\\n\"\n",
      "\n"
     ]
    }
   ],
   "source": [
    "from msspackages import setup_runner\n",
    "setup_runner()"
   ]
  },
  {
   "cell_type": "code",
   "execution_count": 6,
   "id": "dea9cfae-3924-4513-b1ae-1395851d4652",
   "metadata": {
    "tags": []
   },
   "outputs": [
    {
     "name": "stdout",
     "output_type": "stream",
     "text": [
      "Python 3.7.10\n"
     ]
    }
   ],
   "source": [
    "!python3 --version"
   ]
  },
  {
   "cell_type": "code",
   "execution_count": 7,
   "id": "c4c4a004-baa6-465b-a828-9c622c842473",
   "metadata": {
    "collapsed": true,
    "jupyter": {
     "outputs_hidden": true
    },
    "tags": []
   },
   "outputs": [
    {
     "name": "stdout",
     "output_type": "stream",
     "text": [
      "Keyring is skipped due to an exception: 'keyring.backends'\n",
      "Requirement already satisfied: pyspark>=3.3.0 in /opt/conda/lib/python3.7/site-packages (from -r requirements.txt (line 1)) (3.3.1)\n",
      "Requirement already satisfied: pandas>=1.3.5 in /opt/conda/lib/python3.7/site-packages (from -r requirements.txt (line 2)) (1.3.5)\n",
      "Requirement already satisfied: keras>=2.11.0 in /opt/conda/lib/python3.7/site-packages (from -r requirements.txt (line 3)) (2.11.0)\n",
      "Requirement already satisfied: tensorflow>=2.11.0 in /opt/conda/lib/python3.7/site-packages (from -r requirements.txt (line 4)) (2.11.0)\n",
      "Requirement already satisfied: matplotlib>=3.5.3 in /opt/conda/lib/python3.7/site-packages (from -r requirements.txt (line 5)) (3.5.3)\n",
      "Requirement already satisfied: numpy>=1.21.6 in /opt/conda/lib/python3.7/site-packages (from -r requirements.txt (line 6)) (1.21.6)\n",
      "Requirement already satisfied: dill>=0.3.6 in /opt/conda/lib/python3.7/site-packages (from -r requirements.txt (line 7)) (0.3.6)\n",
      "Requirement already satisfied: scikit_learn>=1.0.2 in /opt/conda/lib/python3.7/site-packages (from -r requirements.txt (line 8)) (1.0.2)\n",
      "Requirement already satisfied: statsmodels>=0.11.0 in /opt/conda/lib/python3.7/site-packages (from -r requirements.txt (line 9)) (0.11.0)\n",
      "Requirement already satisfied: boto3>=1.26.29 in /opt/conda/lib/python3.7/site-packages (from -r requirements.txt (line 10)) (1.26.29)\n",
      "Requirement already satisfied: awswrangler>=2.18.0 in /opt/conda/lib/python3.7/site-packages (from -r requirements.txt (line 11)) (2.18.0)\n",
      "Requirement already satisfied: pyarrow>=10.0.0 in /opt/conda/lib/python3.7/site-packages (from -r requirements.txt (line 12)) (10.0.1)\n",
      "Requirement already satisfied: fast-arrow>=1.0.3 in /opt/conda/lib/python3.7/site-packages (from -r requirements.txt (line 13)) (1.0.3)\n",
      "Requirement already satisfied: py4j==0.10.9.5 in /opt/conda/lib/python3.7/site-packages (from pyspark>=3.3.0->-r requirements.txt (line 1)) (0.10.9.5)\n",
      "Requirement already satisfied: pytz>=2017.3 in /opt/conda/lib/python3.7/site-packages (from pandas>=1.3.5->-r requirements.txt (line 2)) (2022.6)\n",
      "Requirement already satisfied: python-dateutil>=2.7.3 in /opt/conda/lib/python3.7/site-packages (from pandas>=1.3.5->-r requirements.txt (line 2)) (2.8.2)\n",
      "Requirement already satisfied: google-pasta>=0.1.1 in /opt/conda/lib/python3.7/site-packages (from tensorflow>=2.11.0->-r requirements.txt (line 4)) (0.2.0)\n",
      "Requirement already satisfied: h5py>=2.9.0 in /opt/conda/lib/python3.7/site-packages (from tensorflow>=2.11.0->-r requirements.txt (line 4)) (2.10.0)\n",
      "Requirement already satisfied: gast<=0.4.0,>=0.2.1 in /opt/conda/lib/python3.7/site-packages (from tensorflow>=2.11.0->-r requirements.txt (line 4)) (0.4.0)\n",
      "Requirement already satisfied: astunparse>=1.6.0 in /opt/conda/lib/python3.7/site-packages (from tensorflow>=2.11.0->-r requirements.txt (line 4)) (1.6.3)\n",
      "Requirement already satisfied: libclang>=13.0.0 in /opt/conda/lib/python3.7/site-packages (from tensorflow>=2.11.0->-r requirements.txt (line 4)) (14.0.6)\n",
      "Requirement already satisfied: tensorflow-io-gcs-filesystem>=0.23.1 in /opt/conda/lib/python3.7/site-packages (from tensorflow>=2.11.0->-r requirements.txt (line 4)) (0.28.0)\n",
      "Requirement already satisfied: absl-py>=1.0.0 in /opt/conda/lib/python3.7/site-packages (from tensorflow>=2.11.0->-r requirements.txt (line 4)) (1.3.0)\n",
      "Requirement already satisfied: protobuf<3.20,>=3.9.2 in /opt/conda/lib/python3.7/site-packages (from tensorflow>=2.11.0->-r requirements.txt (line 4)) (3.19.6)\n",
      "Requirement already satisfied: tensorboard<2.12,>=2.11 in /opt/conda/lib/python3.7/site-packages (from tensorflow>=2.11.0->-r requirements.txt (line 4)) (2.11.0)\n",
      "Requirement already satisfied: termcolor>=1.1.0 in /opt/conda/lib/python3.7/site-packages (from tensorflow>=2.11.0->-r requirements.txt (line 4)) (2.1.1)\n",
      "Requirement already satisfied: typing-extensions>=3.6.6 in /opt/conda/lib/python3.7/site-packages (from tensorflow>=2.11.0->-r requirements.txt (line 4)) (4.4.0)\n",
      "Requirement already satisfied: grpcio<2.0,>=1.24.3 in /opt/conda/lib/python3.7/site-packages (from tensorflow>=2.11.0->-r requirements.txt (line 4)) (1.51.1)\n",
      "Requirement already satisfied: six>=1.12.0 in /opt/conda/lib/python3.7/site-packages (from tensorflow>=2.11.0->-r requirements.txt (line 4)) (1.14.0)\n",
      "Requirement already satisfied: tensorflow-estimator<2.12,>=2.11.0 in /opt/conda/lib/python3.7/site-packages (from tensorflow>=2.11.0->-r requirements.txt (line 4)) (2.11.0)\n",
      "Requirement already satisfied: packaging in /opt/conda/lib/python3.7/site-packages (from tensorflow>=2.11.0->-r requirements.txt (line 4)) (20.1)\n",
      "Requirement already satisfied: flatbuffers>=2.0 in /opt/conda/lib/python3.7/site-packages (from tensorflow>=2.11.0->-r requirements.txt (line 4)) (22.12.6)\n",
      "Requirement already satisfied: setuptools in /opt/conda/lib/python3.7/site-packages (from tensorflow>=2.11.0->-r requirements.txt (line 4)) (59.3.0)\n",
      "Requirement already satisfied: opt-einsum>=2.3.2 in /opt/conda/lib/python3.7/site-packages (from tensorflow>=2.11.0->-r requirements.txt (line 4)) (3.3.0)\n",
      "Requirement already satisfied: wrapt>=1.11.0 in /opt/conda/lib/python3.7/site-packages (from tensorflow>=2.11.0->-r requirements.txt (line 4)) (1.11.2)\n",
      "Requirement already satisfied: fonttools>=4.22.0 in /opt/conda/lib/python3.7/site-packages (from matplotlib>=3.5.3->-r requirements.txt (line 5)) (4.38.0)\n",
      "Requirement already satisfied: pyparsing>=2.2.1 in /opt/conda/lib/python3.7/site-packages (from matplotlib>=3.5.3->-r requirements.txt (line 5)) (2.4.6)\n",
      "Requirement already satisfied: kiwisolver>=1.0.1 in /opt/conda/lib/python3.7/site-packages (from matplotlib>=3.5.3->-r requirements.txt (line 5)) (1.1.0)\n",
      "Requirement already satisfied: cycler>=0.10 in /opt/conda/lib/python3.7/site-packages (from matplotlib>=3.5.3->-r requirements.txt (line 5)) (0.10.0)\n",
      "Requirement already satisfied: pillow>=6.2.0 in /opt/conda/lib/python3.7/site-packages (from matplotlib>=3.5.3->-r requirements.txt (line 5)) (9.3.0)\n",
      "Requirement already satisfied: scipy>=1.1.0 in /opt/conda/lib/python3.7/site-packages (from scikit_learn>=1.0.2->-r requirements.txt (line 8)) (1.4.1)\n",
      "Requirement already satisfied: threadpoolctl>=2.0.0 in /opt/conda/lib/python3.7/site-packages (from scikit_learn>=1.0.2->-r requirements.txt (line 8)) (3.1.0)\n",
      "Requirement already satisfied: joblib>=0.11 in /opt/conda/lib/python3.7/site-packages (from scikit_learn>=1.0.2->-r requirements.txt (line 8)) (0.14.1)\n",
      "Requirement already satisfied: patsy>=0.5 in /opt/conda/lib/python3.7/site-packages (from statsmodels>=0.11.0->-r requirements.txt (line 9)) (0.5.1)\n",
      "Requirement already satisfied: jmespath<2.0.0,>=0.7.1 in /opt/conda/lib/python3.7/site-packages (from boto3>=1.26.29->-r requirements.txt (line 10)) (1.0.1)\n",
      "Requirement already satisfied: botocore<1.30.0,>=1.29.29 in /opt/conda/lib/python3.7/site-packages (from boto3>=1.26.29->-r requirements.txt (line 10)) (1.29.29)\n",
      "Requirement already satisfied: s3transfer<0.7.0,>=0.6.0 in /opt/conda/lib/python3.7/site-packages (from boto3>=1.26.29->-r requirements.txt (line 10)) (0.6.0)\n",
      "Requirement already satisfied: requests-aws4auth<2.0.0,>=1.1.1 in /opt/conda/lib/python3.7/site-packages (from awswrangler>=2.18.0->-r requirements.txt (line 11)) (1.1.2)\n",
      "Requirement already satisfied: backoff<3.0.0,>=1.11.1 in /opt/conda/lib/python3.7/site-packages (from awswrangler>=2.18.0->-r requirements.txt (line 11)) (2.2.1)\n",
      "Requirement already satisfied: pg8000<2.0.0,>=1.20.0 in /opt/conda/lib/python3.7/site-packages (from awswrangler>=2.18.0->-r requirements.txt (line 11)) (1.29.3)\n",
      "Requirement already satisfied: pymysql<2.0.0,>=1.0.0 in /opt/conda/lib/python3.7/site-packages (from awswrangler>=2.18.0->-r requirements.txt (line 11)) (1.0.2)\n",
      "Requirement already satisfied: opensearch-py<3,>=1 in /opt/conda/lib/python3.7/site-packages (from awswrangler>=2.18.0->-r requirements.txt (line 11)) (2.0.1)\n",
      "Requirement already satisfied: redshift-connector<2.1.0,>=2.0.889 in /opt/conda/lib/python3.7/site-packages (from awswrangler>=2.18.0->-r requirements.txt (line 11)) (2.0.909)\n",
      "Requirement already satisfied: jsonpath-ng<2.0.0,>=1.5.3 in /opt/conda/lib/python3.7/site-packages (from awswrangler>=2.18.0->-r requirements.txt (line 11)) (1.5.3)\n",
      "Requirement already satisfied: progressbar2<5.0.0,>=4.0.0 in /opt/conda/lib/python3.7/site-packages (from awswrangler>=2.18.0->-r requirements.txt (line 11)) (4.2.0)\n",
      "Requirement already satisfied: openpyxl<3.1.0,>=3.0.0 in /opt/conda/lib/python3.7/site-packages (from awswrangler>=2.18.0->-r requirements.txt (line 11)) (3.0.3)\n",
      "Requirement already satisfied: gremlinpython<4.0.0,>=3.5.2 in /opt/conda/lib/python3.7/site-packages (from awswrangler>=2.18.0->-r requirements.txt (line 11)) (3.6.1)\n",
      "Requirement already satisfied: deprecation in /opt/conda/lib/python3.7/site-packages (from fast-arrow>=1.0.3->-r requirements.txt (line 13)) (2.1.0)\n",
      "Requirement already satisfied: pathlib2 in /opt/conda/lib/python3.7/site-packages (from fast-arrow>=1.0.3->-r requirements.txt (line 13)) (2.3.5)\n",
      "Requirement already satisfied: datetime in /opt/conda/lib/python3.7/site-packages (from fast-arrow>=1.0.3->-r requirements.txt (line 13)) (4.7)\n",
      "Requirement already satisfied: yarl in /opt/conda/lib/python3.7/site-packages (from fast-arrow>=1.0.3->-r requirements.txt (line 13)) (1.8.2)\n",
      "Requirement already satisfied: urllib3>=1.24.2 in /opt/conda/lib/python3.7/site-packages (from fast-arrow>=1.0.3->-r requirements.txt (line 13)) (1.26.13)\n",
      "Requirement already satisfied: requests>=2.20.0 in /opt/conda/lib/python3.7/site-packages (from fast-arrow>=1.0.3->-r requirements.txt (line 13)) (2.28.1)\n",
      "Requirement already satisfied: wheel<1.0,>=0.23.0 in /opt/conda/lib/python3.7/site-packages (from astunparse>=1.6.0->tensorflow>=2.11.0->-r requirements.txt (line 4)) (0.34.2)\n",
      "Requirement already satisfied: isodate<1.0.0,>=0.6.0 in /opt/conda/lib/python3.7/site-packages (from gremlinpython<4.0.0,>=3.5.2->awswrangler>=2.18.0->-r requirements.txt (line 11)) (0.6.1)\n",
      "Requirement already satisfied: aiohttp<=3.8.1,>=3.8.0 in /opt/conda/lib/python3.7/site-packages (from gremlinpython<4.0.0,>=3.5.2->awswrangler>=2.18.0->-r requirements.txt (line 11)) (3.8.1)\n",
      "Requirement already satisfied: nest-asyncio in /opt/conda/lib/python3.7/site-packages (from gremlinpython<4.0.0,>=3.5.2->awswrangler>=2.18.0->-r requirements.txt (line 11)) (1.5.6)\n",
      "Requirement already satisfied: aenum<4.0.0,>=1.4.5 in /opt/conda/lib/python3.7/site-packages (from gremlinpython<4.0.0,>=3.5.2->awswrangler>=2.18.0->-r requirements.txt (line 11)) (3.1.11)\n",
      "Requirement already satisfied: ply in /opt/conda/lib/python3.7/site-packages (from jsonpath-ng<2.0.0,>=1.5.3->awswrangler>=2.18.0->-r requirements.txt (line 11)) (3.11)\n",
      "Requirement already satisfied: decorator in /opt/conda/lib/python3.7/site-packages (from jsonpath-ng<2.0.0,>=1.5.3->awswrangler>=2.18.0->-r requirements.txt (line 11)) (4.4.1)\n",
      "Requirement already satisfied: et-xmlfile in /opt/conda/lib/python3.7/site-packages (from openpyxl<3.1.0,>=3.0.0->awswrangler>=2.18.0->-r requirements.txt (line 11)) (1.0.1)\n",
      "Requirement already satisfied: jdcal in /opt/conda/lib/python3.7/site-packages (from openpyxl<3.1.0,>=3.0.0->awswrangler>=2.18.0->-r requirements.txt (line 11)) (1.4.1)\n",
      "Requirement already satisfied: certifi in /opt/conda/lib/python3.7/site-packages (from opensearch-py<3,>=1->awswrangler>=2.18.0->-r requirements.txt (line 11)) (2022.9.24)\n",
      "Requirement already satisfied: scramp>=1.4.3 in /opt/conda/lib/python3.7/site-packages (from pg8000<2.0.0,>=1.20.0->awswrangler>=2.18.0->-r requirements.txt (line 11)) (1.4.4)\n",
      "Requirement already satisfied: importlib-metadata>=1.0 in /opt/conda/lib/python3.7/site-packages (from pg8000<2.0.0,>=1.20.0->awswrangler>=2.18.0->-r requirements.txt (line 11)) (5.1.0)\n",
      "Requirement already satisfied: python-utils>=3.0.0 in /opt/conda/lib/python3.7/site-packages (from progressbar2<5.0.0,>=4.0.0->awswrangler>=2.18.0->-r requirements.txt (line 11)) (3.4.5)\n",
      "Requirement already satisfied: beautifulsoup4<5.0.0,>=4.7.0 in /opt/conda/lib/python3.7/site-packages (from redshift-connector<2.1.0,>=2.0.889->awswrangler>=2.18.0->-r requirements.txt (line 11)) (4.8.2)\n",
      "Requirement already satisfied: lxml>=4.6.5 in /opt/conda/lib/python3.7/site-packages (from redshift-connector<2.1.0,>=2.0.889->awswrangler>=2.18.0->-r requirements.txt (line 11)) (4.9.1)\n",
      "Requirement already satisfied: idna<4,>=2.5 in /opt/conda/lib/python3.7/site-packages (from requests>=2.20.0->fast-arrow>=1.0.3->-r requirements.txt (line 13)) (2.8)\n",
      "Requirement already satisfied: charset-normalizer<3,>=2 in /opt/conda/lib/python3.7/site-packages (from requests>=2.20.0->fast-arrow>=1.0.3->-r requirements.txt (line 13)) (2.0.4)\n",
      "Requirement already satisfied: tensorboard-plugin-wit>=1.6.0 in /opt/conda/lib/python3.7/site-packages (from tensorboard<2.12,>=2.11->tensorflow>=2.11.0->-r requirements.txt (line 4)) (1.8.1)\n",
      "Requirement already satisfied: google-auth<3,>=1.6.3 in /opt/conda/lib/python3.7/site-packages (from tensorboard<2.12,>=2.11->tensorflow>=2.11.0->-r requirements.txt (line 4)) (2.15.0)\n",
      "Requirement already satisfied: tensorboard-data-server<0.7.0,>=0.6.0 in /opt/conda/lib/python3.7/site-packages (from tensorboard<2.12,>=2.11->tensorflow>=2.11.0->-r requirements.txt (line 4)) (0.6.1)\n",
      "Requirement already satisfied: google-auth-oauthlib<0.5,>=0.4.1 in /opt/conda/lib/python3.7/site-packages (from tensorboard<2.12,>=2.11->tensorflow>=2.11.0->-r requirements.txt (line 4)) (0.4.6)\n",
      "Requirement already satisfied: markdown>=2.6.8 in /opt/conda/lib/python3.7/site-packages (from tensorboard<2.12,>=2.11->tensorflow>=2.11.0->-r requirements.txt (line 4)) (3.4.1)\n",
      "Requirement already satisfied: werkzeug>=1.0.1 in /opt/conda/lib/python3.7/site-packages (from tensorboard<2.12,>=2.11->tensorflow>=2.11.0->-r requirements.txt (line 4)) (2.2.2)\n",
      "Requirement already satisfied: zope.interface in /opt/conda/lib/python3.7/site-packages (from datetime->fast-arrow>=1.0.3->-r requirements.txt (line 13)) (5.5.2)\n",
      "Requirement already satisfied: multidict>=4.0 in /opt/conda/lib/python3.7/site-packages (from yarl->fast-arrow>=1.0.3->-r requirements.txt (line 13)) (6.0.3)\n",
      "Requirement already satisfied: aiosignal>=1.1.2 in /opt/conda/lib/python3.7/site-packages (from aiohttp<=3.8.1,>=3.8.0->gremlinpython<4.0.0,>=3.5.2->awswrangler>=2.18.0->-r requirements.txt (line 11)) (1.3.1)\n",
      "Requirement already satisfied: attrs>=17.3.0 in /opt/conda/lib/python3.7/site-packages (from aiohttp<=3.8.1,>=3.8.0->gremlinpython<4.0.0,>=3.5.2->awswrangler>=2.18.0->-r requirements.txt (line 11)) (22.1.0)\n",
      "Requirement already satisfied: asynctest==0.13.0 in /opt/conda/lib/python3.7/site-packages (from aiohttp<=3.8.1,>=3.8.0->gremlinpython<4.0.0,>=3.5.2->awswrangler>=2.18.0->-r requirements.txt (line 11)) (0.13.0)\n",
      "Requirement already satisfied: async-timeout<5.0,>=4.0.0a3 in /opt/conda/lib/python3.7/site-packages (from aiohttp<=3.8.1,>=3.8.0->gremlinpython<4.0.0,>=3.5.2->awswrangler>=2.18.0->-r requirements.txt (line 11)) (4.0.2)\n",
      "Requirement already satisfied: frozenlist>=1.1.1 in /opt/conda/lib/python3.7/site-packages (from aiohttp<=3.8.1,>=3.8.0->gremlinpython<4.0.0,>=3.5.2->awswrangler>=2.18.0->-r requirements.txt (line 11)) (1.3.3)\n",
      "Requirement already satisfied: soupsieve>=1.2 in /opt/conda/lib/python3.7/site-packages (from beautifulsoup4<5.0.0,>=4.7.0->redshift-connector<2.1.0,>=2.0.889->awswrangler>=2.18.0->-r requirements.txt (line 11)) (1.9.5)\n",
      "Requirement already satisfied: pyasn1-modules>=0.2.1 in /opt/conda/lib/python3.7/site-packages (from google-auth<3,>=1.6.3->tensorboard<2.12,>=2.11->tensorflow>=2.11.0->-r requirements.txt (line 4)) (0.2.8)\n",
      "Requirement already satisfied: cachetools<6.0,>=2.0.0 in /opt/conda/lib/python3.7/site-packages (from google-auth<3,>=1.6.3->tensorboard<2.12,>=2.11->tensorflow>=2.11.0->-r requirements.txt (line 4)) (5.2.0)\n",
      "Requirement already satisfied: rsa<5,>=3.1.4 in /opt/conda/lib/python3.7/site-packages (from google-auth<3,>=1.6.3->tensorboard<2.12,>=2.11->tensorflow>=2.11.0->-r requirements.txt (line 4)) (4.9)\n",
      "Requirement already satisfied: requests-oauthlib>=0.7.0 in /opt/conda/lib/python3.7/site-packages (from google-auth-oauthlib<0.5,>=0.4.1->tensorboard<2.12,>=2.11->tensorflow>=2.11.0->-r requirements.txt (line 4)) (1.3.1)\n",
      "Requirement already satisfied: zipp>=0.5 in /opt/conda/lib/python3.7/site-packages (from importlib-metadata>=1.0->pg8000<2.0.0,>=1.20.0->awswrangler>=2.18.0->-r requirements.txt (line 11)) (3.11.0)\n",
      "Requirement already satisfied: asn1crypto>=1.5.1 in /opt/conda/lib/python3.7/site-packages (from scramp>=1.4.3->pg8000<2.0.0,>=1.20.0->awswrangler>=2.18.0->-r requirements.txt (line 11)) (1.5.1)\n",
      "Requirement already satisfied: MarkupSafe>=2.1.1 in /opt/conda/lib/python3.7/site-packages (from werkzeug>=1.0.1->tensorboard<2.12,>=2.11->tensorflow>=2.11.0->-r requirements.txt (line 4)) (2.1.1)\n",
      "Requirement already satisfied: pyasn1<0.5.0,>=0.4.6 in /opt/conda/lib/python3.7/site-packages (from pyasn1-modules>=0.2.1->google-auth<3,>=1.6.3->tensorboard<2.12,>=2.11->tensorflow>=2.11.0->-r requirements.txt (line 4)) (0.4.8)\n",
      "Requirement already satisfied: oauthlib>=3.0.0 in /opt/conda/lib/python3.7/site-packages (from requests-oauthlib>=0.7.0->google-auth-oauthlib<0.5,>=0.4.1->tensorboard<2.12,>=2.11->tensorflow>=2.11.0->-r requirements.txt (line 4)) (3.2.2)\n",
      "\u001b[33mWARNING: Running pip as the 'root' user can result in broken permissions and conflicting behaviour with the system package manager. It is recommended to use a virtual environment instead: https://pip.pypa.io/warnings/venv\u001b[0m\u001b[33m\n",
      "\u001b[0m"
     ]
    }
   ],
   "source": [
    "!python3 -m pip install -r requirements.txt"
   ]
  },
  {
   "cell_type": "markdown",
   "id": "e9674d58-08be-4025-b491-c05afb854706",
   "metadata": {},
   "source": [
    "<h1>Node, Pod & Container Training & Testing Data - Autoencoder<h1>"
   ]
  },
  {
   "cell_type": "code",
   "execution_count": null,
   "id": "1ad142d2-0aa1-467b-82b1-2de81106539b",
   "metadata": {
    "tags": []
   },
   "outputs": [],
   "source": []
  },
  {
   "cell_type": "markdown",
   "id": "d96cb81f-51d2-4d56-a756-2554ffc891b5",
   "metadata": {},
   "source": [
    "<h1>Inference Data Builder<h1>"
   ]
  },
  {
   "cell_type": "code",
   "execution_count": null,
   "id": "3ce3d5f3-7b1f-41a1-a215-bf1ff95d3c18",
   "metadata": {},
   "outputs": [],
   "source": [
    "from eks_ml_pipeline import inference_data_builder"
   ]
  },
  {
   "cell_type": "code",
   "execution_count": null,
   "id": "495f958b-ed62-44b7-b9ac-84bf70714afd",
   "metadata": {
    "tags": []
   },
   "outputs": [],
   "source": [
    "inference_data_builder(\"2022\",\"9\",\"11\",\"12\",\"Node\",\"128gb\")"
   ]
  },
  {
   "cell_type": "code",
   "execution_count": null,
   "id": "a662a84d-7736-4870-ad60-8207c70e9472",
   "metadata": {},
   "outputs": [],
   "source": [
    "inference_data_builder(\"2022\",\"7\",\"10\",\"20\",\"Pod\",\"128gb\")"
   ]
  },
  {
   "cell_type": "code",
   "execution_count": null,
   "id": "eb877e9b-9413-4aff-a3af-7bc412acd3c8",
   "metadata": {},
   "outputs": [],
   "source": [
    "inference_data_builder(\"2022\",\"8\",\"20\",\"9\",\"Container\",\"128gb\")"
   ]
  },
  {
   "cell_type": "code",
   "execution_count": null,
   "id": "685dc4dc-f738-4663-a154-edc2a2b7d751",
   "metadata": {},
   "outputs": [],
   "source": []
  },
  {
   "cell_type": "markdown",
   "id": "f218fa3b-e293-45de-9467-7893e4083f01",
   "metadata": {},
   "source": [
    "<h1> sample df and tensor write functions<h1>"
   ]
  },
  {
   "cell_type": "code",
   "execution_count": null,
   "id": "c161b76c-b41d-4491-9cd2-cbd73667315d",
   "metadata": {
    "tags": []
   },
   "outputs": [],
   "source": [
    "from eks_ml_pipeline import write_tensor, awswrangler_pandas_dataframe_to_s3"
   ]
  },
  {
   "cell_type": "code",
   "execution_count": null,
   "id": "e27b6b12-bc54-40ee-b62a-dc4afbdb79fa",
   "metadata": {},
   "outputs": [],
   "source": [
    "awswrangler_pandas_dataframe_to_s3(pod_training_data,  \"dish-5g.core.pd.g.dp.eks.logs.e\", \"pod_autoencoder_ad\", \"v0.0.2\", \"training_2022_9_9\")"
   ]
  },
  {
   "cell_type": "code",
   "execution_count": null,
   "id": "81db9a33-f1b9-478c-a332-ff7f2a37c150",
   "metadata": {},
   "outputs": [],
   "source": [
    "write_tensor(pod_training_tensor, \"dish-5g.core.pd.g.dp.eks.logs.e\", \"pod_autoencoder_ad\", \"v0.0.2\", \"training_2022_9_9\")"
   ]
  },
  {
   "cell_type": "code",
   "execution_count": null,
   "id": "a14bb560-1897-4e9f-9882-72f26767ddaf",
   "metadata": {},
   "outputs": [],
   "source": []
  },
  {
   "cell_type": "code",
   "execution_count": null,
   "id": "14c92dc8-f438-4348-9cb9-4403dfcf85cf",
   "metadata": {
    "tags": []
   },
   "outputs": [],
   "source": [
    "!pip install fastparquet"
   ]
  },
  {
   "cell_type": "code",
   "execution_count": null,
   "id": "b3be4d03-087e-43ef-9712-75d27309ea9c",
   "metadata": {
    "tags": []
   },
   "outputs": [],
   "source": [
    "time_steps = 20\n",
    "batch_size = 32\n",
    "train_n_samples = batch_size * 1000\n",
    "test_n_samples = round((batch_size*1000*0.2) / 0.8)"
   ]
  },
  {
   "cell_type": "code",
   "execution_count": null,
   "id": "a2dc4bfb-1379-40e5-97f5-a83d48bad48e",
   "metadata": {
    "tags": []
   },
   "outputs": [],
   "source": [
    "features = ['pod_cpu_utilization','pod_memory_utilization','pod_network_total_bytes']\n",
    "scaled_features = ['scaled_pod_cpu_utilization','scaled_pod_memory_utilization','scaled_pod_network_total_bytes']"
   ]
  },
  {
   "cell_type": "code",
   "execution_count": null,
   "id": "66a848ad-9213-40cf-9151-a7b1118f16bf",
   "metadata": {
    "tags": []
   },
   "outputs": [],
   "source": [
    "!pip install fastparquet\n",
    "import pandas as pd\n",
    "pod_training_df = pd.read_parquet('training_pod_2022_9_9.parquet', engine='fastparquet')\n",
    "pod_testing_df = pd.read_parquet('testing_pod_2022_9_9.parquet', engine='fastparquet')\n"
   ]
  },
  {
   "cell_type": "code",
   "execution_count": null,
   "id": "a376a238-7f09-4232-9c9b-5d8f1e47992e",
   "metadata": {
    "tags": []
   },
   "outputs": [],
   "source": [
    "pod_training_df.shape"
   ]
  },
  {
   "cell_type": "code",
   "execution_count": null,
   "id": "5e64c1de-0cf2-4eb9-9a55-655638a421b2",
   "metadata": {
    "tags": []
   },
   "outputs": [],
   "source": [
    "pod_testing_df.shape"
   ]
  },
  {
   "cell_type": "code",
   "execution_count": null,
   "id": "629453c8-94a7-4289-bf99-d9a5cce92774",
   "metadata": {
    "tags": []
   },
   "outputs": [],
   "source": [
    "pod_training_df['freq'] = pod_training_df.groupby('pod_id')['pod_id'].transform('count')"
   ]
  },
  {
   "cell_type": "code",
   "execution_count": null,
   "id": "a006b65d-bcd2-4499-9343-a774370c3655",
   "metadata": {
    "tags": []
   },
   "outputs": [],
   "source": [
    "filtered_pod_df = pod_training_df[pod_training_df[\"freq\"] > 20]"
   ]
  },
  {
   "cell_type": "code",
   "execution_count": null,
   "id": "893e2dac-210e-4e8b-b9e5-475e8530014d",
   "metadata": {
    "tags": []
   },
   "outputs": [],
   "source": [
    "selected_pod_list = filtered_pod_df['pod_id'].sample(train_n_samples).to_list()"
   ]
  },
  {
   "cell_type": "code",
   "execution_count": null,
   "id": "8c5e9e0f-fe4e-4811-ad02-c885bf72c23a",
   "metadata": {
    "tags": []
   },
   "outputs": [],
   "source": [
    "len(selected_pod_list)"
   ]
  },
  {
   "cell_type": "code",
   "execution_count": null,
   "id": "f28f4645-b1a2-4d76-848f-df21c364f93b",
   "metadata": {
    "tags": []
   },
   "outputs": [],
   "source": [
    "from sklearn.preprocessing import StandardScaler\n",
    "import random\n",
    "\n",
    "def pod_tensor_builder(pod_id):\n",
    "    \n",
    "    features = ['pod_cpu_utilization','pod_memory_utilization','pod_network_total_bytes']\n",
    "    scaled_features = ['scaled_pod_cpu_utilization','scaled_pod_memory_utilization','scaled_pod_network_total_bytes']\n",
    "\n",
    "    ##pick random df, and normalize\n",
    "    pod_fe_df = filtered_pod_df.loc[(filtered_pod_df[\"pod_id\"] == pod_id)]\n",
    "    pod_fe_df = pod_fe_df.sort_values(by='Timestamp').reset_index(drop=True)\n",
    "    pod_fe_df_len = len(pod_fe_df)\n",
    "\n",
    "\n",
    "    #tensor builder\n",
    "    start = random.choice(range(pod_fe_df_len-20))\n",
    "    pod_fe_df = pod_fe_df[start:start+20]\n",
    "\n",
    "    #scaler transformations\n",
    "    scaler = StandardScaler()\n",
    "    pod_fe_df[scaled_features] = scaler.fit_transform(pod_fe_df[features])\n",
    "\n",
    "    return pod_fe_df"
   ]
  },
  {
   "cell_type": "code",
   "execution_count": null,
   "id": "018233ce-d171-42f0-b8f1-e5e05aadb4d1",
   "metadata": {
    "tags": []
   },
   "outputs": [],
   "source": [
    "%%time\n",
    "import multiprocessing\n",
    "\n",
    "num_cores = multiprocessing.cpu_count()\n",
    "print(num_cores)\n",
    "results = multiprocessing.Pool(num_cores).map(pod_tensor_builder, selected_pod_list)"
   ]
  },
  {
   "cell_type": "code",
   "execution_count": null,
   "id": "1080fae4-8208-42c7-90fa-f6f1da082f97",
   "metadata": {
    "tags": []
   },
   "outputs": [],
   "source": [
    "1+1"
   ]
  },
  {
   "cell_type": "code",
   "execution_count": null,
   "id": "0ada0f25-e29a-4ecf-b79f-6f6a15c1e3ef",
   "metadata": {},
   "outputs": [],
   "source": [
    "len(results)"
   ]
  },
  {
   "cell_type": "code",
   "execution_count": null,
   "id": "1feae43b-17e7-410a-b4c2-0d86c33d03ad",
   "metadata": {
    "tags": []
   },
   "outputs": [],
   "source": [
    "pod_training_df = pd.concat(results)"
   ]
  },
  {
   "cell_type": "code",
   "execution_count": null,
   "id": "3d746f79-ae4e-4199-bff3-81a2023aced9",
   "metadata": {
    "tags": []
   },
   "outputs": [],
   "source": [
    "pod_training_df.shape"
   ]
  },
  {
   "cell_type": "code",
   "execution_count": null,
   "id": "506e1078-66b4-4387-8b55-d4283fbee51e",
   "metadata": {
    "tags": []
   },
   "outputs": [],
   "source": [
    "import numpy as np\n",
    "pod_training_tensor = np.array(list(map(lambda x: x.to_numpy(), results)))"
   ]
  },
  {
   "cell_type": "code",
   "execution_count": null,
   "id": "626e745c-8e07-4a8a-9d9a-3b09bd0068d9",
   "metadata": {
    "tags": []
   },
   "outputs": [],
   "source": [
    "pod_training_tensor.shape"
   ]
  },
  {
   "cell_type": "code",
   "execution_count": 8,
   "id": "7985740c-2af1-4d91-8f5e-a8648a13b891",
   "metadata": {
    "tags": []
   },
   "outputs": [],
   "source": [
    "from eks_ml_pipeline import write_tensor, awswrangler_pandas_dataframe_to_s3,read_tensor"
   ]
  },
  {
   "cell_type": "code",
   "execution_count": null,
   "id": "c3d37a43-6ac5-472a-b845-a0507ac79620",
   "metadata": {
    "tags": []
   },
   "outputs": [],
   "source": [
    "write_tensor(pod_training_tensor, \"dish-5g.core.pd.g.dp.eks.logs.e\", \"pod_autoencoder_ad\", \"v0.0.2\", \"training_2022_9_9\")"
   ]
  },
  {
   "cell_type": "code",
   "execution_count": null,
   "id": "9c1ae195-dd9a-46f1-81f6-30bdb13a344c",
   "metadata": {
    "tags": []
   },
   "outputs": [],
   "source": [
    "awswrangler_pandas_dataframe_to_s3(pod_training_df,  \"dish-5g.core.pd.g.dp.eks.logs.e\", \"pod_autoencoder_ad\", \"v0.0.2\", \"training_2022_9_9\")"
   ]
  },
  {
   "cell_type": "code",
   "execution_count": null,
   "id": "01108ca5-f122-4e66-8c4f-dfb4ffdacc5d",
   "metadata": {},
   "outputs": [],
   "source": []
  },
  {
   "cell_type": "code",
   "execution_count": 9,
   "id": "dd2f9b67-9147-4a61-919b-a328f4614de4",
   "metadata": {
    "tags": []
   },
   "outputs": [
    {
     "name": "stdout",
     "output_type": "stream",
     "text": [
      "reading tensor from: dish-5g.core.pd.g.dp.eks.logs.e/pod_autoencoder_ad/v0.0.2/data/tensors/training_2022_9_9_scaled_features.npy\n"
     ]
    }
   ],
   "source": [
    "data_train = read_tensor('dish-5g.core.pd.g.dp.eks.logs.e','pod_autoencoder_ad','v0.0.2','training_2022_9_9_scaled_features')"
   ]
  },
  {
   "cell_type": "code",
   "execution_count": 10,
   "id": "cea4a8aa-4c0f-4083-87c8-6df768543b4a",
   "metadata": {
    "tags": []
   },
   "outputs": [
    {
     "data": {
      "text/plain": [
       "array([[[-0.8654696713508648, -0.5377736036854034, -0.10870967870564109],\n",
       "        [1.13370640875588, -0.4540767893131924, 1.2645071314684502],\n",
       "        [-0.8182498826202578, -0.37641995123588184, -0.7394691467412315],\n",
       "        ...,\n",
       "        [1.2266475317231291, -0.2633861091455646, 0.6654711894530544],\n",
       "        [1.6554316185532278, -0.27115179295325814, 1.6100782415863173],\n",
       "        [-0.9184546057192291, -0.34104294722287515, -1.1168237485891575]],\n",
       "\n",
       "       [[0.6823707867301055, -0.4365022328229814, -0.6166181582167075],\n",
       "        [-1.6695822452982017, -0.5798788786407524, -0.2232797080982047],\n",
       "        [1.1099615822071, -0.13381820276328177, 2.08332773586054],\n",
       "        ...,\n",
       "        [0.6544045348009389, 0.20072730414486853, -0.6725074488083416],\n",
       "        [-0.9290573256426782, 0.22462341178114567, -0.5448082166832063],\n",
       "        [0.3831074455704446, -1.6153768762135188, -0.37357055982952975]],\n",
       "\n",
       "       [[0.0, 0.0, -1.869060920713966],\n",
       "        [0.0, 0.0, -1.3722687235939566],\n",
       "        [0.0, 0.0, -1.5219772157542433],\n",
       "        ...,\n",
       "        [0.0, 0.0, 0.3639308204888252],\n",
       "        [0.0, 0.0, 0.5326394352254405],\n",
       "        [0.0, 0.0, 0.20393902178435921]],\n",
       "\n",
       "       ...,\n",
       "\n",
       "       [[-0.06147159516123842, 0.8140073015722505, 0.8003551671030016],\n",
       "        [-0.6355827840184392, 0.7708810869193985, -0.5015146630178534],\n",
       "        [-0.8348867884689917, 3.0565704635195434, 1.1388376090728507],\n",
       "        ...,\n",
       "        [0.5267670672781511, 1.331521877406282, -0.5416972186924365],\n",
       "        [-0.8822384872885581, 0.1671140817798078, 0.3905202070210932],\n",
       "        [0.8822938884157996, -0.4582160306862814, 0.9194177461945222]],\n",
       "\n",
       "       [[1.6916925834889653, -1.187134444361417, 0.7617481815518865],\n",
       "        [-0.6971781407203816, 1.2668028527832382, 0.2393550144984547],\n",
       "        [0.7521621269580804, 0.6354682954780487, -0.6811530643935348],\n",
       "        ...,\n",
       "        [-0.6187589981476704, 1.315656122098456, 1.3313355684754657],\n",
       "        [-0.798225403733416, 1.2555290214026946, -1.6560514292623676],\n",
       "        [1.362049476743091, -0.8038241774260994, 0.6901122718758156]],\n",
       "\n",
       "       [[-0.5980568126860857, 1.255877158015201, -0.5824688157044087],\n",
       "        [0.10975084196535934, -1.6918329963847543, -0.5060015884924537],\n",
       "        [-0.3567278715187665, -0.3086033122812484, -0.03363392286548518],\n",
       "        ...,\n",
       "        [0.3886166537306102, 0.6930457693110886, 0.4614444307358287],\n",
       "        [2.1919996334891887, 1.7710109714054174, 3.8003066452823453],\n",
       "        [3.2983281425085265, 0.3210046818625606, 0.6522529480783884]]],\n",
       "      dtype=object)"
      ]
     },
     "execution_count": 10,
     "metadata": {},
     "output_type": "execute_result"
    }
   ],
   "source": [
    "data_train"
   ]
  },
  {
   "cell_type": "code",
   "execution_count": null,
   "id": "335d47b6-6668-40ca-8976-21532cf3adc9",
   "metadata": {},
   "outputs": [],
   "source": []
  }
 ],
 "metadata": {
  "instance_type": "ml.m5.24xlarge",
  "kernelspec": {
   "display_name": "Python 3 (Data Science)",
   "language": "python",
   "name": "python3__SAGEMAKER_INTERNAL__arn:aws:sagemaker:us-east-1:081325390199:image/datascience-1.0"
  },
  "language_info": {
   "codemirror_mode": {
    "name": "ipython",
    "version": 3
   },
   "file_extension": ".py",
   "mimetype": "text/x-python",
   "name": "python",
   "nbconvert_exporter": "python",
   "pygments_lexer": "ipython3",
   "version": "3.7.10"
  }
 },
 "nbformat": 4,
 "nbformat_minor": 5
}
