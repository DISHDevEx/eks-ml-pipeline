{
 "cells": [
  {
   "cell_type": "code",
   "execution_count": null,
   "id": "bdf174fc-63c4-4810-910f-07ca16ae679d",
   "metadata": {},
   "outputs": [],
   "source": [
    "pwd"
   ]
  },
  {
   "cell_type": "code",
   "execution_count": null,
   "id": "c0503d87-e2f2-4658-bf04-bd67c76f316d",
   "metadata": {},
   "outputs": [],
   "source": [
    "!pip uninstall -y msspackages"
   ]
  },
  {
   "cell_type": "code",
   "execution_count": null,
   "id": "66a948ac-c7a0-48fc-b7a6-4e2e0b2639fb",
   "metadata": {},
   "outputs": [],
   "source": [
    "!pip install /root/msspackages/dist/msspackages-0.0.7-py3-none-any.whl"
   ]
  },
  {
   "cell_type": "code",
   "execution_count": null,
   "id": "21d3f4c9-24d7-4653-bce6-7769262493f2",
   "metadata": {},
   "outputs": [],
   "source": [
    "from msspackages import setup_runner\n",
    "setup_runner()"
   ]
  },
  {
   "cell_type": "code",
   "execution_count": null,
   "id": "3ce3d5f3-7b1f-41a1-a215-bf1ff95d3c18",
   "metadata": {},
   "outputs": [],
   "source": [
    "from feature_engineering import node_autoencoder_ad_preprocessing, node_autoencoder_ad_feature_engineering, node_autoencoder_train_test_split\n",
    "import pandas as pd\n",
    "\n",
    "#pre processing\n",
    "node_features_data, node_processed_data = node_autoencoder_ad_preprocessing(\"node_autoencoder_ad\",\"11-21-2022\",\"2022\",\"10\",\"10\",\"10\",\"384gb\")\n",
    "\n",
    "#test, train split\n",
    "node_train_data, node_test_data = node_autoencoder_train_test_split(node_processed_data)\n",
    "\n",
    "#Train data feature engineering\n",
    "node_training_data, node_training_tensor = node_autoencoder_ad_feature_engineering(node_features_data, node_train_data)\n",
    "print(node_training_data.show(truncate=False))\n",
    "print(node_training_tensor.shape)\n",
    "\n",
    "#Test data feature engineering\n",
    "# node_testing_data, node_testing_tensor = node_autoencoder_ad_feature_engineering(node_features_data, node_test_data)\n",
    "# print(node_testing_data.show(truncate=False))\n",
    "# print(node_testing_tensor.shape)"
   ]
  },
  {
   "cell_type": "code",
   "execution_count": null,
   "id": "8f57ae54-8434-4516-9663-71c0688bcb01",
   "metadata": {},
   "outputs": [],
   "source": [
    "from feature_engineering import container_autoencoder_ad_preprocessing, container_autoencoder_ad_feature_engineering, container_autoencoder_train_test_split\n",
    "import pandas as pd\n",
    "\n",
    "#pre processing\n",
    "container_features_data, container_processed_data = container_autoencoder_ad_preprocessing(\"container_autoencoder_ad\",\"11-21-2022\",\"2022\",\"10\",\"10\",\"10\",\"384gb\")\n",
    "\n",
    "#test, train split\n",
    "container_train_data, container_test_data = container_autoencoder_train_test_split(container_processed_data)\n",
    "\n",
    "#Train data feature engineering\n",
    "container_training_data, container_training_tensor = container_autoencoder_ad_feature_engineering(container_features_data, container_train_data)\n",
    "print(container_training_data.show(truncate=False))\n",
    "print(container_training_tensor.shape)\n",
    "\n",
    "#Test data feature engineering\n",
    "# container_testing_data, container_testing_tensor = container_autoencoder_ad_feature_engineering(container_features_data, container_test_data)\n",
    "# print(node_testing_data.show(truncate=False))\n",
    "# print(container_testing_tensor.shape)"
   ]
  },
  {
   "cell_type": "code",
   "execution_count": null,
   "id": "bfd6960e-f0a3-48f7-8086-ed680dffb33f",
   "metadata": {},
   "outputs": [],
   "source": []
  },
  {
   "cell_type": "code",
   "execution_count": null,
   "id": "4fd1fe97-3758-4630-8eb9-7f496bd8c3c0",
   "metadata": {},
   "outputs": [],
   "source": []
  },
  {
   "cell_type": "code",
   "execution_count": null,
   "id": "f9353381-c685-4277-a7ac-25b04be8f5dc",
   "metadata": {},
   "outputs": [],
   "source": []
  }
 ],
 "metadata": {
  "instance_type": "ml.m5.8xlarge",
  "kernelspec": {
   "display_name": "Python 3 (Data Science)",
   "language": "python",
   "name": "python3__SAGEMAKER_INTERNAL__arn:aws:sagemaker:us-east-1:081325390199:image/datascience-1.0"
  },
  "language_info": {
   "codemirror_mode": {
    "name": "ipython",
    "version": 3
   },
   "file_extension": ".py",
   "mimetype": "text/x-python",
   "name": "python",
   "nbconvert_exporter": "python",
   "pygments_lexer": "ipython3",
   "version": "3.7.10"
  }
 },
 "nbformat": 4,
 "nbformat_minor": 5
}
