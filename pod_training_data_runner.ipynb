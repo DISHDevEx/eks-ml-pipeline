{
 "cells": [
  {
   "cell_type": "code",
   "execution_count": null,
   "id": "30924c55-42a0-45a6-9828-30b088de9155",
   "metadata": {},
   "outputs": [],
   "source": [
    "!pip uninstall -y msspackages"
   ]
  },
  {
   "cell_type": "code",
   "execution_count": null,
   "id": "4ef410a0-1399-4902-b230-4543f4fbd03d",
   "metadata": {},
   "outputs": [],
   "source": [
    "!pip install /root/msspackages/dist/msspackages-0.0.7-py3-none-any.whl"
   ]
  },
  {
   "cell_type": "code",
   "execution_count": null,
   "id": "ab0c688c-9d45-4f52-a9e3-f946ea7e0622",
   "metadata": {},
   "outputs": [],
   "source": [
    "from msspackages import setup_runner\n",
    "setup_runner()"
   ]
  },
  {
   "cell_type": "code",
   "execution_count": null,
   "id": "44cb7517-f017-402e-a6f1-87ecf1dcb71c",
   "metadata": {},
   "outputs": [],
   "source": [
    "!python3 -m pip install -r requirements.txt"
   ]
  },
  {
   "cell_type": "code",
   "execution_count": null,
   "id": "45fecf41-cee0-43a9-b06e-fab7b1a2a5ff",
   "metadata": {},
   "outputs": [],
   "source": [
    "%%time\n",
    "from eks_ml_pipeline import pod_autoencoder_ad_preprocessing, pod_autoencoder_ad_feature_engineering, pod_autoencoder_train_test_split\n",
    "\n",
    "#pre processing\n",
    "pod_features_data, pod_processed_data = pod_autoencoder_ad_preprocessing(\"pod_autoencoder_ad\",\"v0.0.2\",\"2022\",\"10\",\"10\",-1,\"384gb\")\n",
    "\n",
    "#test, train split\n",
    "pod_train_split = pod_features_data[\"model_parameters\"].iloc[0][\"split_ratio\"]\n",
    "pod_test_split =  round(1 - pod_train_split,2)\n",
    "pod_train_data, pod_test_data = pod_autoencoder_train_test_split(pod_processed_data, [pod_train_split,pod_test_split])\n",
    "\n",
    "#Train data feature engineering\n",
    "pod_training_data, pod_training_tensor = pod_autoencoder_ad_feature_engineering('train', [pod_train_split,pod_test_split], pod_features_data, pod_train_data)\n",
    "\n",
    "#Test data feature engineering\n",
    "#pod_testing_data, pod_testing_tensor = pod_autoencoder_ad_feature_engineering('test', [pod_train_split,pod_test_split], pod_features_data, pod_test_data)\n"
   ]
  },
  {
   "cell_type": "code",
   "execution_count": null,
   "id": "8dce0f1a-b3ad-419b-8f23-1c55268eb12b",
   "metadata": {},
   "outputs": [],
   "source": [
    "from eks_ml_pipeline import "
   ]
  }
 ],
 "metadata": {
  "instance_type": "ml.m5.8xlarge",
  "kernelspec": {
   "display_name": "Python 3 (Data Science)",
   "language": "python",
   "name": "python3__SAGEMAKER_INTERNAL__arn:aws:sagemaker:us-east-1:081325390199:image/datascience-1.0"
  },
  "language_info": {
   "codemirror_mode": {
    "name": "ipython",
    "version": 3
   },
   "file_extension": ".py",
   "mimetype": "text/x-python",
   "name": "python",
   "nbconvert_exporter": "python",
   "pygments_lexer": "ipython3",
   "version": "3.7.10"
  }
 },
 "nbformat": 4,
 "nbformat_minor": 5
}
