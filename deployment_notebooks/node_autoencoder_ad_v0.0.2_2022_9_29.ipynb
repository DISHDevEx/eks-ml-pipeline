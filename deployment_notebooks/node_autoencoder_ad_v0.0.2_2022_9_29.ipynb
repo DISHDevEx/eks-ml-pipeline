{
 "cells": [
  {
   "cell_type": "code",
   "execution_count": null,
   "id": "16904a24-ec04-4368-bf80-bc43dc611f4f",
   "metadata": {},
   "outputs": [],
   "source": [
    "import wallaroo"
   ]
  },
  {
   "cell_type": "code",
   "execution_count": 2,
   "id": "495c5c05-6de8-441e-bd3b-41c56645f0b7",
   "metadata": {},
   "outputs": [
    {
     "name": "stdout",
     "output_type": "stream",
     "text": [
      "Please log into the following URL in a web browser:\n",
      "\n",
      "\thttps://dish.keycloak.wallaroo.community/auth/realms/master/device?user_code=PNDV-BYOU\n",
      "\n",
      "Login successful!\n"
     ]
    }
   ],
   "source": [
    "wl = wallaroo.Client()"
   ]
  },
  {
   "cell_type": "code",
   "execution_count": 3,
   "id": "9a11f948-2d07-474b-aadf-2a1f9f1b4c24",
   "metadata": {},
   "outputs": [
    {
     "data": {
      "text/html": [
       "\n",
       "        <table>\n",
       "            <tr>\n",
       "                <th>Name</th>\n",
       "                <th>Created At</th>\n",
       "                <th>Users</th>\n",
       "                <th>Models</th>\n",
       "                <th>Pipelines</th>\n",
       "            </tr>\n",
       "            \n",
       "        <tr >\n",
       "            <td>praveen.mada@dish.com - Default Workspace</td>\n",
       "            <td>2022-11-30 18:42:29</td>\n",
       "            <td>['praveen.mada@dish.com']</td>\n",
       "            <td>0</td>\n",
       "            <td>0</td>\n",
       "        </tr>\n",
       "        \n",
       "\n",
       "        <tr >\n",
       "            <td>vinayak.sharma@dish.com - Default Workspace</td>\n",
       "            <td>2022-11-30 18:44:37</td>\n",
       "            <td>['vinayak.sharma@dish.com', 'ruyi.yang@dish.com', 'madhu.bandi@dish.com', 'evgeniya.dontsova@dish.com', 'hamza.khokhar@dish.com', 'david.cherney@dish.com', 'aakash.agrawal@dish.com', 'praveen.mada@dish.com']</td>\n",
       "            <td>1</td>\n",
       "            <td>0</td>\n",
       "        </tr>\n",
       "        \n",
       "\n",
       "        <tr >\n",
       "            <td>dish-pov-test</td>\n",
       "            <td>2022-11-30 18:51:08</td>\n",
       "            <td>['praveen.mada@dish.com']</td>\n",
       "            <td>1</td>\n",
       "            <td>1</td>\n",
       "        </tr>\n",
       "        \n",
       "\n",
       "        <tr >\n",
       "            <td>dish-pd-eks-ad</td>\n",
       "            <td>2022-12-02 16:49:45</td>\n",
       "            <td>['praveen.mada@dish.com', 'evgeniya.dontsova@dish.com', 'david.cherney@dish.com', 'aakash.agrawal@dish.com', 'madhu.bandi@dish.com', 'hamza.khokhar@dish.com', 'ruyi.yang@dish.com', 'vinayak.sharma@dish.com', 'bob@wallaroo.ai']</td>\n",
       "            <td>1</td>\n",
       "            <td>1</td>\n",
       "        </tr>\n",
       "        \n",
       "        </table>\n",
       "        "
      ],
      "text/plain": [
       "[{'name': 'praveen.mada@dish.com - Default Workspace', 'id': 13, 'archived': False, 'created_by': '7d1b6e97-94fd-4c2f-b27d-86b049936c4f', 'created_at': '2022-11-30T18:42:29.78409+00:00', 'models': [], 'pipelines': []},\n",
       " {'name': 'vinayak.sharma@dish.com - Default Workspace', 'id': 44, 'archived': False, 'created_by': '2ba5d72f-ef5a-4443-a4c3-bfc5b79caef1', 'created_at': '2022-11-30T18:44:37.25421+00:00', 'models': [{'name': 'dish-model', 'version': '35816128-d415-4595-b167-1f88302d7ac4', 'file_name': 'dish.onnx', 'image_path': None, 'last_update_time': datetime.datetime(2022, 11, 30, 19, 0, 25, 50600, tzinfo=tzutc())}], 'pipelines': []},\n",
       " {'name': 'dish-pov-test', 'id': 51, 'archived': False, 'created_by': '7d1b6e97-94fd-4c2f-b27d-86b049936c4f', 'created_at': '2022-11-30T18:51:08.416706+00:00', 'models': [{'name': 'dish-model', 'version': '919b720f-3bae-42c0-ae43-52c91ddea4a7', 'file_name': 'dish.onnx', 'image_path': None, 'last_update_time': datetime.datetime(2022, 11, 30, 18, 54, 5, 800661, tzinfo=tzutc())}], 'pipelines': [{'name': 'dish-pov', 'create_time': datetime.datetime(2022, 11, 30, 18, 54, 47, 226421, tzinfo=tzutc()), 'definition': '[]'}]},\n",
       " {'name': 'dish-pd-eks-ad', 'id': 65, 'archived': False, 'created_by': '7d1b6e97-94fd-4c2f-b27d-86b049936c4f', 'created_at': '2022-12-02T16:49:45.408768+00:00', 'models': [{'name': 'autoencoder-ad', 'version': '8fb8894c-9628-4a69-8e15-e7a481b89e6b', 'file_name': 'autoencoder-ad.onnx', 'image_path': None, 'last_update_time': datetime.datetime(2022, 12, 15, 18, 10, 1, 921546, tzinfo=tzutc())}], 'pipelines': [{'name': 'autoencoder-ad', 'create_time': datetime.datetime(2022, 12, 15, 18, 10, 3, 772340, tzinfo=tzutc()), 'definition': '[]'}]}]"
      ]
     },
     "execution_count": 3,
     "metadata": {},
     "output_type": "execute_result"
    }
   ],
   "source": [
    "ws = wl.list_workspaces()\n",
    "wl.list_workspaces()"
   ]
  },
  {
   "cell_type": "markdown",
   "id": "0066e61d-12e2-440b-a0cc-7cdce0b360ea",
   "metadata": {},
   "source": [
    "# only run first time"
   ]
  },
  {
   "cell_type": "code",
   "execution_count": 9,
   "id": "bf4dcbce-f057-4d15-bce6-4ac6ed9a7117",
   "metadata": {},
   "outputs": [],
   "source": [
    "#wrk = wl.create_workspace('test')"
   ]
  },
  {
   "cell_type": "code",
   "execution_count": 4,
   "id": "e6a378ea-20e2-48c6-b52d-fb1832724327",
   "metadata": {},
   "outputs": [
    {
     "name": "stdout",
     "output_type": "stream",
     "text": [
      "praveen.mada@dish.com - Default Workspace\n",
      "vinayak.sharma@dish.com - Default Workspace\n",
      "dish-pov-test\n",
      "dish-pd-eks-ad\n"
     ]
    }
   ],
   "source": [
    "ws = wl.list_workspaces()\n",
    "for w in ws:\n",
    "    print(w.name())\n",
    "    if w.name() == 'dish-pd-eks-ad':\n",
    "        wl.set_current_workspace(w)"
   ]
  },
  {
   "cell_type": "code",
   "execution_count": 6,
   "id": "711805dd-fb31-406d-bf11-2e11437a318b",
   "metadata": {},
   "outputs": [
    {
     "data": {
      "text/plain": [
       "{'name': 'dish-pd-eks-ad', 'id': 65, 'archived': False, 'created_by': '7d1b6e97-94fd-4c2f-b27d-86b049936c4f', 'created_at': '2022-12-02T16:49:45.408768+00:00', 'models': [{'name': 'autoencoder-ad', 'version': '8fb8894c-9628-4a69-8e15-e7a481b89e6b', 'file_name': 'autoencoder-ad.onnx', 'image_path': None, 'last_update_time': datetime.datetime(2022, 12, 15, 18, 10, 1, 921546, tzinfo=tzutc())}], 'pipelines': [{'name': 'autoencoder-ad', 'create_time': datetime.datetime(2022, 12, 15, 18, 10, 3, 772340, tzinfo=tzutc()), 'definition': '[]'}]}"
      ]
     },
     "execution_count": 6,
     "metadata": {},
     "output_type": "execute_result"
    }
   ],
   "source": [
    "wl.get_current_workspace()"
   ]
  },
  {
   "cell_type": "markdown",
   "id": "1b031de7-4257-4ee8-8998-6734fc04572f",
   "metadata": {},
   "source": [
    "# Upload and run our model\n",
    "\n",
    "For this example we will be using an open source model that uses an Aloha CNN LSTM model for classifiying Domain names.\n",
    "\n",
    "## Config \n",
    "before deploying an inference engine we will set the configuration of the engine.\n",
    "To do this we will use the wallaroo DeploymentConfigBuilder() and fill in the options listed below to determine what the properties of our inference engine will be\n",
    "\n",
    "note: this will not start the process of building anything in the kubernetes cluster yet. we are just setting the deployment configuration we will want to use later.\n",
    "- replica_count - 1 => when deployed this will have a single inference engine\n",
    "- cpus - 14 => each inference engine will have 14 cpus\n",
    "- memory - 50Gi => each inference engine will have 50 Gb of memory\n",
    "\n",
    "# Recommedations\n",
    "for this we are going to create following deployment_configration: \n",
    " - deployment_config\n",
    " -- this config will use a single replica with 4 cpus and 8 Gb of memory and will be used for our deployment later\n",
    "\n"
   ]
  },
  {
   "cell_type": "code",
   "execution_count": 7,
   "id": "b114dfc6-21e0-4f9b-ab25-2895be4b89cb",
   "metadata": {},
   "outputs": [],
   "source": [
    "deployment_config = wallaroo.DeploymentConfigBuilder().replica_count(1).cpus(4).memory(\"4Gi\").build()"
   ]
  },
  {
   "cell_type": "markdown",
   "id": "c6bca96a-23ba-494a-99c0-e2408f71f0ca",
   "metadata": {},
   "source": [
    "# Upload model"
   ]
  },
  {
   "cell_type": "code",
   "execution_count": 8,
   "id": "609bc45e-a86e-4f27-ad33-ea1b73328e48",
   "metadata": {},
   "outputs": [],
   "source": [
    "model = wl.upload_model('node-autoencoder-ad', \"./node_autoencoder_ad_v0.0.2_training_2022_9_29.onnx\")"
   ]
  },
  {
   "cell_type": "markdown",
   "id": "6ca5a05d-22ae-48da-9646-e50b9ca41d29",
   "metadata": {},
   "source": [
    "# Deploy a model\n",
    "Now that we have a model that we want to use we will create a deployment for it. \n",
    "\n",
    "We will tell the deployment we are using a tensorflow model and give the deployment name and the configuration we want for the deployment"
   ]
  },
  {
   "cell_type": "markdown",
   "id": "f48887f0-2811-444a-9609-f0e293be73d3",
   "metadata": {},
   "source": [
    "# Example"
   ]
  },
  {
   "cell_type": "code",
   "execution_count": 10,
   "id": "a4a508fa-1054-40a2-aee5-60bd67d45673",
   "metadata": {},
   "outputs": [
    {
     "name": "stdout",
     "output_type": "stream",
     "text": [
      " ok\n"
     ]
    }
   ],
   "source": [
    "p = wl.build_pipeline('node-autoencoder-ad')\n",
    "p = p.add_model_step(model)\n",
    "pipeline = p.deploy(deployment_config = deployment_config)"
   ]
  },
  {
   "cell_type": "markdown",
   "id": "ef3dd21a-d46c-4046-b983-bf9d76c6779e",
   "metadata": {},
   "source": [
    "# Successful deployment\n",
    "now that we have a deployment running we start inferencing\n",
    "(if you are still running out of resources check to make sure all other deployments have been taken down)\n",
    "\n",
    "## infer 1 row\n",
    "to test we will infer a single row of data and see the results using the infer_from_file tool\n",
    "we will pass a single encoded url into the inference engine and print the results back out"
   ]
  },
  {
   "cell_type": "code",
   "execution_count": 19,
   "id": "218d723d-a841-449f-b470-6f8909deaf36",
   "metadata": {},
   "outputs": [
    {
     "data": {
      "text/plain": [
       "[InferenceResult({'check_failures': [],\n",
       "  'elapsed': 832764,\n",
       "  'model_name': 'node-autoencoder-ad',\n",
       "  'model_version': '3c780487-07dd-4d1a-85e9-e3ff251b963a',\n",
       "  'original_data': {'tensor': [[[0.03330152, 0.01778775, 0.00088327],\n",
       "                                [0.02281776, 0.01573625, 0.00212125],\n",
       "                                [0.03194405, 0.01805324, 0.0013521],\n",
       "                                [0.03096518, 0.01414332, 0.0016135],\n",
       "                                [0.0232703, 0.01247798, 0.00180119],\n",
       "                                [0.02491174, 0.01226076, 0.0016748],\n",
       "                                [0.02710739, 0.01356407, 0.00175932],\n",
       "                                [0.02363743, 0.01711196, 0.00155607],\n",
       "                                [0.03305495, 0.01221249, 0.00190871],\n",
       "                                [0.01561677, 0.01626723, 0.00138421],\n",
       "                                [0.02632048, 0.01479497, 0.00168263],\n",
       "                                [0.02081036, 0.01414332, 0.00155844],\n",
       "                                [0.0232703, 0.01247798, 0.00180119],\n",
       "                                [0.02491174, 0.01226076, 0.0016748],\n",
       "                                [0.02710739, 0.01356407, 0.00175932],\n",
       "                                [0.02363743, 0.01711196, 0.00155607],\n",
       "                                [0.03305495, 0.01221249, 0.00190871],\n",
       "                                [0.01561677, 0.01626723, 0.00138421],\n",
       "                                [0.02632048, 0.01479497, 0.00168263],\n",
       "                                [0.02081036, 0.01414332, 0.00155844]]]},\n",
       "  'outputs': [{'Float': {'data': [-0.004507028963416815,\n",
       "                                  0.0156909991055727,\n",
       "                                  -0.01180257648229599,\n",
       "                                  0.002534660045057535,\n",
       "                                  0.06020013242959976,\n",
       "                                  0.0030060410499572754,\n",
       "                                  0.0323638953268528,\n",
       "                                  0.02965717948973179,\n",
       "                                  0.01612233743071556,\n",
       "                                  0.025149287655949593,\n",
       "                                  -0.007857211865484715,\n",
       "                                  -0.012087196111679077,\n",
       "                                  0.027966802939772606,\n",
       "                                  0.01996506191790104,\n",
       "                                  -0.07719995081424713,\n",
       "                                  0.014456558972597122,\n",
       "                                  0.03716509789228439,\n",
       "                                  -0.03220734745264053,\n",
       "                                  -0.023645058274269104,\n",
       "                                  -0.004710325039923191,\n",
       "                                  -0.004932887852191925,\n",
       "                                  -0.04084235057234764,\n",
       "                                  -0.03817716985940933,\n",
       "                                  -0.1021224707365036,\n",
       "                                  -0.0034770674537867308,\n",
       "                                  -0.028827961534261703,\n",
       "                                  -0.06511884182691574,\n",
       "                                  0.01853729411959648,\n",
       "                                  0.060430921614170074,\n",
       "                                  0.07982543110847473,\n",
       "                                  0.01677810214459896,\n",
       "                                  -0.03494442626833916,\n",
       "                                  0.03484382480382919,\n",
       "                                  0.0156785286962986,\n",
       "                                  -0.030608393251895905,\n",
       "                                  0.001139078289270401,\n",
       "                                  0.007801573257893324,\n",
       "                                  0.0036353636533021927,\n",
       "                                  0.04859133064746857,\n",
       "                                  0.05579107627272606,\n",
       "                                  0.044321730732917786,\n",
       "                                  0.004554960876703262,\n",
       "                                  0.06235787272453308,\n",
       "                                  0.04836771637201309,\n",
       "                                  -0.0022652186453342438,\n",
       "                                  0.025996355339884758,\n",
       "                                  0.011678924784064293,\n",
       "                                  -0.01463942602276802,\n",
       "                                  0.03514273464679718,\n",
       "                                  0.034612543880939484,\n",
       "                                  0.04038136079907417,\n",
       "                                  0.0032715206034481525,\n",
       "                                  -0.017793038859963417,\n",
       "                                  0.004721928387880325,\n",
       "                                  -0.04407129064202309,\n",
       "                                  0.026909014210104942,\n",
       "                                  0.00012827664613723755,\n",
       "                                  0.019686691462993622,\n",
       "                                  0.011012015864253044,\n",
       "                                  -0.012932155281305313],\n",
       "                         'dim': [1, 20, 3],\n",
       "                         'v': 1}}],\n",
       "  'pipeline_name': 'node-autoencoder-ad',\n",
       "  'shadow_data': {},\n",
       "  'time': 1671151287508})]"
      ]
     },
     "execution_count": 19,
     "metadata": {},
     "output_type": "execute_result"
    }
   ],
   "source": [
    "pipeline.infer_from_file(\"data.txt\")"
   ]
  },
  {
   "cell_type": "markdown",
   "id": "415f76eb-62e3-43e6-a1fa-5ffce203984b",
   "metadata": {},
   "source": [
    "## Run larger batch\n",
    "Now we will run a larger batch. We have prepared a 1,000 inference file and a 25,000 inference file\n",
    "once the results are finished they will be placed in a file titled curl_response.txt \n"
   ]
  },
  {
   "cell_type": "code",
   "execution_count": null,
   "id": "8dc129b7-0827-48c3-80d6-03f4bc3bd5ee",
   "metadata": {},
   "outputs": [],
   "source": [
    "pipeline._deployment._url()"
   ]
  },
  {
   "cell_type": "code",
   "execution_count": null,
   "id": "3a57f60e-894e-4e18-ae50-f37876521cc3",
   "metadata": {},
   "outputs": [],
   "source": [
    "!curl -X POST {pipeline._deployment._url()} -H \"Content-Type:application/json\" --data @test_data10.json"
   ]
  },
  {
   "cell_type": "code",
   "execution_count": null,
   "id": "e74ff6e2-8b5a-4ade-b3c7-00d310e17d8f",
   "metadata": {
    "jupyter": {
     "source_hidden": true
    },
    "tags": []
   },
   "outputs": [],
   "source": [
    "model2 = wl.upload_model('ccfraud-xgb', './models/xgboost_ccfraud.onnx')\n",
    "pipeline.replace_with_model_step(index=0, model=model2).deploy()"
   ]
  },
  {
   "cell_type": "markdown",
   "id": "55d1634d-1198-4cee-ad2c-262135f60088",
   "metadata": {},
   "source": [
    "## Undeploy model\n",
    "This will take down our inference engine. and free up the resources in kubernetes\n",
    "- Note that if the pipeline variable is unchanged deployment.deploy() will restart the inference engine in the same configuration"
   ]
  },
  {
   "cell_type": "code",
   "execution_count": null,
   "id": "2c552344-7808-4ea2-a439-224286af93a5",
   "metadata": {},
   "outputs": [],
   "source": [
    "pipeline.undeploy()"
   ]
  }
 ],
 "metadata": {
  "instance_type": "ml.t3.medium",
  "kernelspec": {
   "display_name": "Python 3 (Data Science)",
   "language": "python",
   "name": "python3__SAGEMAKER_INTERNAL__arn:aws:sagemaker:us-east-1:081325390199:image/datascience-1.0"
  },
  "language_info": {
   "codemirror_mode": {
    "name": "ipython",
    "version": 3
   },
   "file_extension": ".py",
   "mimetype": "text/x-python",
   "name": "python",
   "nbconvert_exporter": "python",
   "pygments_lexer": "ipython3",
   "version": "3.7.10"
  }
 },
 "nbformat": 4,
 "nbformat_minor": 5
}
