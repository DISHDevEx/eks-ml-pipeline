{
 "cells": [
  {
   "cell_type": "markdown",
   "id": "331630f6-ef3b-4a4c-8c5b-c2adc57f9fef",
   "metadata": {},
   "source": [
    "#### Notebook example to run EMR serverless job from Sagemaker"
   ]
  },
  {
   "cell_type": "markdown",
   "id": "d5cdfcf4-9e90-43a0-adce-0450e4752062",
   "metadata": {
    "tags": []
   },
   "source": [
    "us-east-1 applications: <br>\n",
    "* pd-autoencoder-ad-v1 : **00f64bef5869kl09**\n",
    "* pd-autoencoder-ad-v2 : **00f66ohicnjchu09**\n",
    "* pd-test-s3-writes : **00f66mmuts7enm09**\n",
    "<br>\n",
    "\n",
    "us-west-2 applications: <br>\n",
    "* pd-autoencoder-ad-container-v1  : **00f672mqiak1fp0l**\n"
   ]
  },
  {
   "cell_type": "markdown",
   "id": "fd9d6865-7d75-4652-886e-094c61820419",
   "metadata": {},
   "source": [
    "Note: while launching your job, please make note of the region from where you are running it.\n",
    "jobs for us-east-region can only be launched from us-east-1 "
   ]
  },
  {
   "cell_type": "markdown",
   "id": "343de372-bc32-44aa-b231-cf88dca7ee7e",
   "metadata": {},
   "source": [
    "#### **Usage Scenario 1: From CLI**"
   ]
  },
  {
   "cell_type": "markdown",
   "id": "3c15e9bb-21cf-4cb9-a87c-de7acc46898b",
   "metadata": {
    "tags": []
   },
   "source": [
    "Run the following command <br>\n",
    "\n",
    "**python emr_serverless.py --job-role-arn <<job_role_arn>> --applicationId <<applicationID>> --s3-bucket <<s3_bucket_name>> --entry-point <<emr_entry_point>> --zipped-env <<zipped_env_path>> --custom-spark-config <<custom_spark_config>>**\n"
   ]
  },
  {
   "cell_type": "markdown",
   "id": "f49ccb97-7c2e-4ea9-ac8f-b691735d3e83",
   "metadata": {},
   "source": [
    "optional arguments\n",
    "- **--job-role-arn**    : default value = 'arn:aws:iam::064047601590:role/hamza-emr-serverless-role'\n",
    "- **--custom-spark-config**   : default value = default"
   ]
  },
  {
   "cell_type": "markdown",
   "id": "8137cf07-1459-4ddc-b8bc-4aca9dcce1d3",
   "metadata": {},
   "source": [
    "Without optional arguments : <br>\n",
    "**python emr_serverless.py --applicationId <<applicationID>> --s3-bucket <<s3_bucket_name>> --entry-point <<emr_entry_point>> --zipped-env <<zipped_env_path>>**"
   ]
  },
  {
   "cell_type": "markdown",
   "id": "d5c19650-d605-43c2-ae05-be99421ca236",
   "metadata": {},
   "source": [
    "##### **Run examples** <br>\n",
    "\n",
    "**1. With only required arguments** <br>\n",
    "\n",
    "python emr_serverless.py --applicationId 00f66mmuts7enm09 --s3-bucket emr-serverless-output-pd --entry-point s3://emr-serverless-output-pd/code/pyspark/pd-autoencoder-ad/s3_test_emr.py --zipped-env s3://emr-serverless-output-pd/code/pyspark/pd-autoencoder-ad/pyspark_deps_all_rec_types_v2.tar.gz\n",
    "<br>\n",
    "\n",
    "**2. With required argumemts and job_role_arn** <br>\n",
    "python emr_serverless.py --job-role-arn arn:aws:iam::064047601590:role/hamza-emr-serverless-role --applicationId 00f66mmuts7enm09 --s3-bucket emr-serverless-output-pd --entry-point s3://emr-serverless-output-pd/code/pyspark/pd-autoencoder-ad/s3_test_emr.py --zipped-env s3://emr-serverless-output-pd/code/pyspark/pd-autoencoder-ad/pyspark_deps_all_rec_types_v2.tar.gz\n",
    "<br>\n",
    "\n",
    "**3. With required arguments and custom_spark_config** <br>\n",
    "python emr_serverless.py --applicationId 00f66mmuts7enm09 --s3-bucket emr-serverless-output-pd --entry-point s3://emr-serverless-output-pd/code/pyspark/pd-autoencoder-ad/s3_test_emr.py --zipped-env s3://emr-serverless-output-pd/code/pyspark/pd-autoencoder-ad/pyspark_deps_all_rec_types_v2.tar.gz --custom-spark-config \"--conf spark.driver.maxResultSize=2g --conf spark.driver.memory=10g --conf spark.executor.cores=4 --conf spark.executor.memory=15g --conf spark.memory.offHeap.size=2g\"\n",
    "<br>\n",
    "\n",
    "**4. With all arguments** <br>\n",
    "python emr_serverless.py --job-role-arn arn:aws:iam::064047601590:role/hamza-emr-serverless-role --applicationId 00f66mmuts7enm09 --s3-bucket emr-serverless-output-pd --entry-point s3://emr-serverless-output-pd/code/pyspark/pd-autoencoder-ad/s3_test_emr.py --zipped-env s3://emr-serverless-output-pd/code/pyspark/pd-autoencoder-ad/pyspark_deps_all_rec_types_v2.tar.gz --custom-spark-config \"--conf spark.driver.maxResultSize=2g --conf spark.driver.memory=10g --conf spark.executor.cores=4 --conf spark.executor.memory=15g --conf spark.memory.offHeap.size=2g\"\n"
   ]
  },
  {
   "cell_type": "code",
   "execution_count": null,
   "id": "8d48b292-bda9-492a-9115-6a244e71a213",
   "metadata": {},
   "outputs": [],
   "source": []
  },
  {
   "cell_type": "markdown",
   "id": "b426d170-6650-428d-aecf-63d42edbc5f5",
   "metadata": {
    "tags": []
   },
   "source": [
    "#### **Usage Scenario 2: From Sagemaker Notebook**"
   ]
  },
  {
   "cell_type": "code",
   "execution_count": null,
   "id": "2570282b-f9ae-48a5-9f94-0d60e487a47d",
   "metadata": {
    "tags": []
   },
   "outputs": [],
   "source": [
    "pwd"
   ]
  },
  {
   "cell_type": "code",
   "execution_count": null,
   "id": "9efaba90-f5d4-492d-8297-523626442cf2",
   "metadata": {
    "tags": []
   },
   "outputs": [],
   "source": [
    "!pip install /root/msspackages/dist/msspackages-0.0.7-py3-none-any.whl"
   ]
  },
  {
   "cell_type": "code",
   "execution_count": null,
   "id": "9e091275-b18d-4a2b-af4b-09ad9dcb0958",
   "metadata": {
    "tags": []
   },
   "outputs": [],
   "source": [
    "pip install -r requirements.txt"
   ]
  },
  {
   "cell_type": "code",
   "execution_count": null,
   "id": "366b7df8-9c0f-4f2a-8759-b7646c7c0b53",
   "metadata": {
    "tags": []
   },
   "outputs": [],
   "source": [
    "#pip install tensorflow\n",
    "#import tensorflow"
   ]
  },
  {
   "cell_type": "code",
   "execution_count": 2,
   "id": "5ce93b67-f1d2-46ea-8e28-b233cf5d689b",
   "metadata": {
    "tags": []
   },
   "outputs": [],
   "source": [
    "from eks_ml_pipeline import EMRServerless"
   ]
  },
  {
   "cell_type": "markdown",
   "id": "c9965984-5df4-4a74-a59b-9ef22326b69f",
   "metadata": {},
   "source": [
    "#### 2. a. When submitting a new job to EMR serverless application"
   ]
  },
  {
   "cell_type": "code",
   "execution_count": 3,
   "id": "99351a9c-c5a2-4206-93f8-73b6267d48c6",
   "metadata": {
    "tags": []
   },
   "outputs": [],
   "source": [
    "# id of the existing application to submit jobs to\n",
    "application_id = '00f66mmuts7enm09' \n",
    "\n",
    "# serverless_job_role_arn - only pass it if you want to use a custom one, else comment it out\n",
    "#serverless_job_role_arn = \"<<include_custom_role_arn>>\"\n",
    "\n",
    "# s3 bukcet name where the dependencies, logs and code sits\n",
    "s3_bucket_name = 'emr-serverless-output-pd'\n",
    "\n",
    "# Entry point to EMR serverless\n",
    "emr_entry_point = 's3://emr-serverless-output-pd/code/pyspark/pd-autoencoder-ad/s3_test_emr.py'\n",
    "\n",
    "# Path to the custom spark and python environemnt to use with all the dependencies installed\n",
    "zipped_env_path = 's3://emr-serverless-output-pd/code/pyspark/pd-autoencoder-ad/pyspark_deps_all_rec_types_v2.tar.gz'"
   ]
  },
  {
   "cell_type": "code",
   "execution_count": 4,
   "id": "c20049dd-9d42-482f-92c3-c62644141938",
   "metadata": {
    "tags": []
   },
   "outputs": [],
   "source": [
    "# Instantiate class\n",
    "emr_serverless = EMRServerless()"
   ]
  },
  {
   "cell_type": "code",
   "execution_count": 5,
   "id": "7c9b1929-dfc3-4b08-85bd-7c377d07df1b",
   "metadata": {
    "tags": []
   },
   "outputs": [
    {
     "name": "stdout",
     "output_type": "stream",
     "text": [
      "Starting EMR Serverless Spark App\n"
     ]
    }
   ],
   "source": [
    "## use this only if you want to create a new application\n",
    "#application_id = emr_serverless.create_application(\"pd-autoencoder-test-3\", \"emr-6.9.0\")"
   ]
  },
  {
   "cell_type": "code",
   "execution_count": 6,
   "id": "0615eceb-8737-4fe8-99ea-72933e06573b",
   "metadata": {
    "tags": []
   },
   "outputs": [
    {
     "name": "stdout",
     "output_type": "stream",
     "text": [
      "EMR Serverless SPARK Application: 00f6gd0ibnjj2c09\n"
     ]
    }
   ],
   "source": [
    "print(\"Starting EMR Serverless Spark App\")\n",
    "# Start the application; skips this step automatically if the application is already in 'Started' state\n",
    "emr_serverless.start_application(application_id)\n",
    "print(emr_serverless)"
   ]
  },
  {
   "cell_type": "markdown",
   "id": "2096c14a-42c7-4f96-bb26-c12d485ef71e",
   "metadata": {},
   "source": [
    "Below cell shows an example to submit and run a new job"
   ]
  },
  {
   "cell_type": "code",
   "execution_count": 13,
   "id": "656f6be5-4157-4451-97aa-a33f20f4bd6a",
   "metadata": {
    "tags": []
   },
   "outputs": [
    {
     "name": "stdout",
     "output_type": "stream",
     "text": [
      "Submitting new Spark job\n",
      "job id : 00f6gd11735l1b09\n"
     ]
    }
   ],
   "source": [
    "# Run (and wait for) a Spark job\n",
    "print(\"Submitting new Spark job\")\n",
    "job_run_id = emr_serverless.run_spark_job(\n",
    "    script_location=emr_entry_point,\n",
    "    #job_role_arn=serverless_job_role_arn,\n",
    "    application_id = application_id,\n",
    "    arguments=[f\"s3://{s3_bucket_name}/emr-serverless/output\"],\n",
    "    s3_bucket_name=s3_bucket_name,\n",
    "    zipped_env_path = zipped_env_path\n",
    ")"
   ]
  },
  {
   "cell_type": "code",
   "execution_count": 8,
   "id": "4ba589eb-47dc-48ca-8c33-66cf11f6d1fa",
   "metadata": {
    "tags": []
   },
   "outputs": [
    {
     "data": {
      "text/plain": [
       "{'applicationId': '00f6gd0ibnjj2c09',\n",
       " 'jobRunId': '00f6gd0kgg2mdj09',\n",
       " 'arn': 'arn:aws:emr-serverless:us-east-1:064047601590:/applications/00f6gd0ibnjj2c09/jobruns/00f6gd0kgg2mdj09',\n",
       " 'createdBy': 'arn:aws:sts::064047601590:assumed-role/AmazonSageMakerServiceCatalogProductsUseRole/SageMaker',\n",
       " 'createdAt': datetime.datetime(2022, 12, 21, 17, 49, 19, 590000, tzinfo=tzlocal()),\n",
       " 'updatedAt': datetime.datetime(2022, 12, 21, 17, 49, 20, 293000, tzinfo=tzlocal()),\n",
       " 'executionRole': 'arn:aws:iam::064047601590:role/hamza-emr-serverless-role',\n",
       " 'state': 'SCHEDULED',\n",
       " 'stateDetails': 'The job has been scheduled and is acquiring resources to run.',\n",
       " 'releaseLabel': 'emr-6.9.0',\n",
       " 'configurationOverrides': {'monitoringConfiguration': {'s3MonitoringConfiguration': {'logUri': 's3://emr-serverless-output-pd/logs/'}}},\n",
       " 'jobDriver': {'sparkSubmit': {'entryPoint': 's3://emr-serverless-output-pd/code/pyspark/pd-autoencoder-ad/s3_test_emr.py',\n",
       "   'sparkSubmitParameters': '--conf spark.archives=s3://emr-serverless-output-pd/code/pyspark/pd-autoencoder-ad/pyspark_deps_all_rec_types_v2.tar.gz#environment --conf spark.emr-serverless.driverEnv.PYSPARK_DRIVER_PYTHON=./environment/bin/python --conf spark.emr-serverless.driverEnv.PYSPARK_PYTHON=./environment/bin/python --conf spark.executorEnv.PYSPARK_PYTHON=./environment/bin/python '}},\n",
       " 'tags': {}}"
      ]
     },
     "execution_count": 8,
     "metadata": {},
     "output_type": "execute_result"
    }
   ],
   "source": [
    "# Get the configuration and status of the job which we just submitted \n",
    "emr_serverless.get_job_run()"
   ]
  },
  {
   "cell_type": "code",
   "execution_count": 14,
   "id": "c80f9a93-ab57-4d3a-8156-15446888fa58",
   "metadata": {
    "tags": []
   },
   "outputs": [
    {
     "data": {
      "text/plain": [
       "'SCHEDULED'"
      ]
     },
     "execution_count": 14,
     "metadata": {},
     "output_type": "execute_result"
    }
   ],
   "source": [
    "# Get final status of the job\n",
    "emr_serverless.get_job_run().get('state')"
   ]
  },
  {
   "cell_type": "code",
   "execution_count": 15,
   "id": "576ef9fa-f785-4b14-ac5e-7426ca19c9d3",
   "metadata": {
    "tags": []
   },
   "outputs": [],
   "source": [
    "# Cancel job if needed ; Uncomment as per need\n",
    "#emr_serverless.cancel_job_run()\n",
    "#emr_serverless.cancel_job_run(job_run_id) # pass in specific job_run_id which you want to cancel"
   ]
  },
  {
   "cell_type": "code",
   "execution_count": 11,
   "id": "f3c3a9cb-cef7-481e-8942-29439747ffc1",
   "metadata": {
    "tags": []
   },
   "outputs": [
    {
     "data": {
      "text/plain": [
       "'CANCELLED'"
      ]
     },
     "execution_count": 11,
     "metadata": {},
     "output_type": "execute_result"
    }
   ],
   "source": [
    "# Verify the state post cancellation\n",
    "#emr_serverless.get_job_run().get('state')"
   ]
  },
  {
   "cell_type": "code",
   "execution_count": 12,
   "id": "2a2986e1-58d5-4731-b126-3016062fe490",
   "metadata": {
    "tags": []
   },
   "outputs": [
    {
     "name": "stdout",
     "output_type": "stream",
     "text": [
      "File output from stdout.gz:\n",
      "----\n",
      "  \n",
      "----\n"
     ]
    }
   ],
   "source": [
    "# Fetch and print the logs\n",
    "emr_serverless.fetch_driver_log(s3_bucket_name)"
   ]
  },
  {
   "cell_type": "code",
   "execution_count": 16,
   "id": "40b40411-b57c-4994-b2c8-598f68d2b34c",
   "metadata": {},
   "outputs": [
    {
     "name": "stdout",
     "output_type": "stream",
     "text": [
      "Successfully stopped app\n"
     ]
    }
   ],
   "source": [
    "## use below code only when the application needs to be stopped\n",
    "\n",
    "#emr_serverless.stop_application(application_id)  # pass in specific application_id which you want to stop\n",
    "#emr_serverless.stop_application() # if no application id is given, it automatically takes the current application which we started "
   ]
  },
  {
   "cell_type": "code",
   "execution_count": 17,
   "id": "8a76a6a3-4cb3-4757-bc72-b2eb03634bd1",
   "metadata": {
    "tags": []
   },
   "outputs": [
    {
     "name": "stdout",
     "output_type": "stream",
     "text": [
      "Successfully deleted app\n"
     ]
    }
   ],
   "source": [
    "## use below code only to delete your custom applications\n",
    "## DO NOT use this to delete an existing application created by the admins \n",
    "\n",
    "#emr_serverless.delete_application(application_id)   # pass in specific application_id which you want to delete\n",
    "#emr_serverless.delete_application() # if no application id is given, it automatically takes the current application which we started "
   ]
  },
  {
   "cell_type": "markdown",
   "id": "629cccd8-71c2-4795-b619-1ceb66160359",
   "metadata": {
    "tags": []
   },
   "source": [
    "#### 2. b. retrievig info on existing jobs in an application"
   ]
  },
  {
   "cell_type": "code",
   "execution_count": null,
   "id": "5b19ef4f-5b91-42af-b4c1-90235dc760a3",
   "metadata": {
    "tags": []
   },
   "outputs": [],
   "source": [
    "application_id = '00f66mmuts7enm09'\n",
    "job_run_id = '00f6fkpig0rlip09'\n",
    "s3_bucket_name = 'emr-serverless-output-pd'"
   ]
  },
  {
   "cell_type": "code",
   "execution_count": null,
   "id": "da33051a-3b71-4bcb-8fab-4b394477355f",
   "metadata": {
    "tags": []
   },
   "outputs": [],
   "source": [
    "# Instantiate class\n",
    "emr_with_existing_job = EMRServerless(application_id, job_run_id)"
   ]
  },
  {
   "cell_type": "code",
   "execution_count": null,
   "id": "37d124b3-6a0d-4ef4-ba4d-e368302d1b2a",
   "metadata": {
    "tags": []
   },
   "outputs": [],
   "source": [
    "# Get job status\n",
    "emr_with_existing_job.get_job_run()"
   ]
  },
  {
   "cell_type": "code",
   "execution_count": null,
   "id": "2475ef81-d261-4deb-a43d-f51c860442ff",
   "metadata": {
    "tags": []
   },
   "outputs": [],
   "source": [
    "# Get logs\n",
    "emr_with_existing_job.fetch_driver_log(s3_bucket_name)"
   ]
  }
 ],
 "metadata": {
  "instance_type": "ml.t3.medium",
  "kernelspec": {
   "display_name": "Python 3 (Data Science)",
   "language": "python",
   "name": "python3__SAGEMAKER_INTERNAL__arn:aws:sagemaker:us-east-1:081325390199:image/datascience-1.0"
  },
  "language_info": {
   "codemirror_mode": {
    "name": "ipython",
    "version": 3
   },
   "file_extension": ".py",
   "mimetype": "text/x-python",
   "name": "python",
   "nbconvert_exporter": "python",
   "pygments_lexer": "ipython3",
   "version": "3.7.10"
  }
 },
 "nbformat": 4,
 "nbformat_minor": 5
}
