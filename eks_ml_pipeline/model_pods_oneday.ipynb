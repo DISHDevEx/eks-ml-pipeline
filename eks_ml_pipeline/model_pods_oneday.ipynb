{
 "cells": [
  {
   "cell_type": "markdown",
   "metadata": {},
   "source": [
    "# Autoencoder Multiivariate Training Autoencoders and PCA for One Day of POD data\n",
    "\n",
    "\n"
   ]
  },
  {
   "cell_type": "markdown",
   "metadata": {},
   "source": [
    "------"
   ]
  },
  {
   "cell_type": "code",
   "execution_count": 3,
   "metadata": {
    "tags": []
   },
   "outputs": [
    {
     "data": {
      "text/plain": [
       "'/root/eks-ml-pipeline/eks_ml_pipeline'"
      ]
     },
     "execution_count": 3,
     "metadata": {},
     "output_type": "execute_result"
    }
   ],
   "source": [
    "pwd"
   ]
  },
  {
   "cell_type": "markdown",
   "metadata": {},
   "source": [
    "## Imports"
   ]
  },
  {
   "cell_type": "code",
   "execution_count": 4,
   "metadata": {
    "tags": []
   },
   "outputs": [],
   "source": [
    "# !pip install -r /root/eks-ml-pipeline/modeling/kad/kad/requirements.txt\n",
    "# # # !pip install keras\n",
    "# # # !pip install tensorflow"
   ]
  },
  {
   "cell_type": "code",
   "execution_count": 5,
   "metadata": {
    "tags": []
   },
   "outputs": [],
   "source": [
    "# !pip install tensorflow"
   ]
  },
  {
   "cell_type": "code",
   "execution_count": 6,
   "metadata": {
    "tags": []
   },
   "outputs": [],
   "source": [
    "# import matplotlib as mpl\n",
    "# mpl.rcParams.keys()"
   ]
  },
  {
   "cell_type": "code",
   "execution_count": 7,
   "metadata": {
    "tags": []
   },
   "outputs": [],
   "source": [
    "# !pip install --upgrade matplotlib"
   ]
  },
  {
   "cell_type": "code",
   "execution_count": 8,
   "metadata": {
    "tags": []
   },
   "outputs": [
    {
     "name": "stdout",
     "output_type": "stream",
     "text": [
      "Keyring is skipped due to an exception: 'keyring.backends'\n",
      "\u001b[33mWARNING: Skipping msspackages as it is not installed.\u001b[0m\u001b[33m\n",
      "\u001b[0m\u001b[33mWARNING: Running pip as the 'root' user can result in broken permissions and conflicting behaviour with the system package manager. It is recommended to use a virtual environment instead: https://pip.pypa.io/warnings/venv\u001b[0m\u001b[33m\n",
      "\u001b[0m"
     ]
    }
   ],
   "source": [
    "!pip uninstall -y msspackages"
   ]
  },
  {
   "cell_type": "code",
   "execution_count": 9,
   "metadata": {
    "tags": []
   },
   "outputs": [
    {
     "name": "stdout",
     "output_type": "stream",
     "text": [
      "Keyring is skipped due to an exception: 'keyring.backends'\n",
      "Processing /root/msspackages/dist/msspackages-0.0.7-py3-none-any.whl\n",
      "Collecting configparser\n",
      "  Using cached configparser-5.3.0-py3-none-any.whl (19 kB)\n",
      "Collecting pyspark\n",
      "  Using cached pyspark-3.3.1-py2.py3-none-any.whl\n",
      "Requirement already satisfied: tqdm in /opt/conda/lib/python3.7/site-packages (from msspackages==0.0.7) (4.42.1)\n",
      "Requirement already satisfied: numpy in /opt/conda/lib/python3.7/site-packages (from msspackages==0.0.7) (1.21.6)\n",
      "Requirement already satisfied: pandas in /opt/conda/lib/python3.7/site-packages (from msspackages==0.0.7) (1.3.5)\n",
      "Requirement already satisfied: dask in /opt/conda/lib/python3.7/site-packages (from msspackages==0.0.7) (2022.2.0)\n",
      "Requirement already satisfied: fsspec>=0.6.0 in /opt/conda/lib/python3.7/site-packages (from dask->msspackages==0.0.7) (2022.11.0)\n",
      "Requirement already satisfied: pyyaml>=5.3.1 in /opt/conda/lib/python3.7/site-packages (from dask->msspackages==0.0.7) (6.0)\n",
      "Requirement already satisfied: packaging>=20.0 in /opt/conda/lib/python3.7/site-packages (from dask->msspackages==0.0.7) (20.1)\n",
      "Requirement already satisfied: partd>=0.3.10 in /opt/conda/lib/python3.7/site-packages (from dask->msspackages==0.0.7) (1.1.0)\n",
      "Requirement already satisfied: toolz>=0.8.2 in /opt/conda/lib/python3.7/site-packages (from dask->msspackages==0.0.7) (0.10.0)\n",
      "Requirement already satisfied: cloudpickle>=1.1.1 in /opt/conda/lib/python3.7/site-packages (from dask->msspackages==0.0.7) (2.2.0)\n",
      "Requirement already satisfied: pytz>=2017.3 in /opt/conda/lib/python3.7/site-packages (from pandas->msspackages==0.0.7) (2019.3)\n",
      "Requirement already satisfied: python-dateutil>=2.7.3 in /opt/conda/lib/python3.7/site-packages (from pandas->msspackages==0.0.7) (2.8.2)\n",
      "Collecting py4j==0.10.9.5\n",
      "  Using cached py4j-0.10.9.5-py2.py3-none-any.whl (199 kB)\n",
      "Requirement already satisfied: pyparsing>=2.0.2 in /opt/conda/lib/python3.7/site-packages (from packaging>=20.0->dask->msspackages==0.0.7) (2.4.6)\n",
      "Requirement already satisfied: six in /opt/conda/lib/python3.7/site-packages (from packaging>=20.0->dask->msspackages==0.0.7) (1.14.0)\n",
      "Requirement already satisfied: locket in /opt/conda/lib/python3.7/site-packages (from partd>=0.3.10->dask->msspackages==0.0.7) (0.2.0)\n",
      "Installing collected packages: py4j, pyspark, configparser, msspackages\n",
      "Successfully installed configparser-5.3.0 msspackages-0.0.7 py4j-0.10.9.5 pyspark-3.3.1\n",
      "\u001b[33mWARNING: Running pip as the 'root' user can result in broken permissions and conflicting behaviour with the system package manager. It is recommended to use a virtual environment instead: https://pip.pypa.io/warnings/venv\u001b[0m\u001b[33m\n",
      "\u001b[0m"
     ]
    }
   ],
   "source": [
    "!pip install /root/msspackages/dist/msspackages-0.0.7-py3-none-any.whl"
   ]
  },
  {
   "cell_type": "code",
   "execution_count": 10,
   "metadata": {
    "tags": []
   },
   "outputs": [
    {
     "name": "stdout",
     "output_type": "stream",
     "text": [
      "b\"Get:1 http://security.debian.org/debian-security buster/updates InRelease [34.8 kB]\\nGet:2 http://deb.debian.org/debian buster InRelease [122 kB]\\nGet:3 http://deb.debian.org/debian buster-updates InRelease [56.6 kB]\\nGet:4 http://security.debian.org/debian-security buster/updates/main amd64 Packages [412 kB]\\nGet:5 http://deb.debian.org/debian buster/main amd64 Packages [7909 kB]\\nGet:6 http://deb.debian.org/debian buster-updates/main amd64 Packages [8788 B]\\nFetched 8543 kB in 1s (6496 kB/s)\\nReading package lists...\\nBuilding dependency tree...\\nReading state information...\\n55 packages can be upgraded. Run 'apt list --upgradable' to see them.\\nReading package lists...\\nBuilding dependency tree...\\nReading state information...\\nThe following NEW packages will be installed:\\n  sudo\\n0 upgraded, 1 newly installed, 0 to remove and 55 not upgraded.\\nNeed to get 1244 kB of archives.\\nAfter this operation, 3883 kB of additional disk space will be used.\\nGet:1 http://security.debian.org/debian-security buster/updates/main amd64 sudo amd64 1.8.27-1+deb10u4 [1244 kB]\\nFetched 1244 kB in 0s (17.8 MB/s)\\nSelecting previously unselected package sudo.\\r\\n(Reading database ... \\r(Reading database ... 5%\\r(Reading database ... 10%\\r(Reading database ... 15%\\r(Reading database ... 20%\\r(Reading database ... 25%\\r(Reading database ... 30%\\r(Reading database ... 35%\\r(Reading database ... 40%\\r(Reading database ... 45%\\r(Reading database ... 50%\\r(Reading database ... 55%\\r(Reading database ... 60%\\r(Reading database ... 65%\\r(Reading database ... 70%\\r(Reading database ... 75%\\r(Reading database ... 80%\\r(Reading database ... 85%\\r(Reading database ... 90%\\r(Reading database ... 95%\\r(Reading database ... 100%\\r(Reading database ... 20588 files and directories currently installed.)\\r\\nPreparing to unpack .../sudo_1.8.27-1+deb10u4_amd64.deb ...\\r\\nUnpacking sudo (1.8.27-1+deb10u4) ...\\r\\nSetting up sudo (1.8.27-1+deb10u4) ...\\r\\ninvoke-rc.d: could not determine current runlevel\\r\\ninvoke-rc.d: policy-rc.d denied execution of start.\\r\\nReading package lists...\\nBuilding dependency tree...\\nReading state information...\\nThe following additional packages will be installed:\\n  adwaita-icon-theme at-spi2-core ca-certificates-java dbus-user-session\\n  dconf-gsettings-backend dconf-service default-jre-headless dmsetup\\n  fonts-dejavu-extra glib-networking glib-networking-common\\n  glib-networking-services gsettings-desktop-schemas gtk-update-icon-cache\\n  java-common libargon2-1 libasound2 libasound2-data libatk-bridge2.0-0\\n  libatk-wrapper-java libatk-wrapper-java-jni libatk1.0-0 libatk1.0-data\\n  libatspi2.0-0 libcairo-gobject2 libcolord2 libcroco3 libcryptsetup12\\n  libdconf1 libdevmapper1.02.1 libdrm-amdgpu1 libdrm-common libdrm-intel1\\n  libdrm-nouveau2 libdrm-radeon1 libdrm2 libelf1 libepoxy0 libfontenc1\\n  libgail-common libgail18 libgdk-pixbuf2.0-0 libgdk-pixbuf2.0-bin\\n  libgdk-pixbuf2.0-common libgif7 libgl1 libgl1-mesa-dri libglapi-mesa\\n  libglvnd0 libglx-mesa0 libglx0 libgtk-3-0 libgtk-3-bin libgtk-3-common\\n  libgtk2.0-0 libgtk2.0-bin libgtk2.0-common libip4tc0 libjson-glib-1.0-0\\n  libjson-glib-1.0-common libkmod2 libllvm7 libnspr4 libnss-systemd libnss3\\n  libpam-systemd libpciaccess0 libpcsclite1 libproxy1v5 librest-0.7-0\\n  librsvg2-2 librsvg2-common libsensors-config libsensors5 libsoup-gnome2.4-1\\n  libsoup2.4-1 libsystemd0 libwayland-client0 libwayland-cursor0\\n  libwayland-egl1 libx11-xcb1 libxcb-dri2-0 libxcb-dri3-0 libxcb-glx0\\n  libxcb-present0 libxcb-shape0 libxcb-sync1 libxcomposite1 libxcursor1\\n  libxdamage1 libxfixes3 libxft2 libxi6 libxinerama1 libxkbcommon0 libxrandr2\\n  libxshmfence1 libxtst6 libxv1 libxxf86dga1 libxxf86vm1 openjdk-11-jre\\n  openjdk-11-jre-headless systemd systemd-sysv x11-utils xkb-data\\nSuggested packages:\\n  libasound2-plugins alsa-utils colord gvfs pciutils pcscd librsvg2-bin\\n  lm-sensors libnss-mdns fonts-ipafont-gothic fonts-ipafont-mincho\\n  fonts-wqy-microhei | fonts-wqy-zenhei fonts-indic systemd-container\\n  policykit-1 mesa-utils\\nThe following NEW packages will be installed:\\n  adwaita-icon-theme at-spi2-core ca-certificates-java dbus-user-session\\n  dconf-gsettings-backend dconf-service default-jre default-jre-headless\\n  dmsetup fonts-dejavu-extra glib-networking glib-networking-common\\n  glib-networking-services gsettings-desktop-schemas gtk-update-icon-cache\\n  java-common libargon2-1 libasound2 libasound2-data libatk-bridge2.0-0\\n  libatk-wrapper-java libatk-wrapper-java-jni libatk1.0-0 libatk1.0-data\\n  libatspi2.0-0 libcairo-gobject2 libcolord2 libcroco3 libcryptsetup12\\n  libdconf1 libdevmapper1.02.1 libdrm-amdgpu1 libdrm-common libdrm-intel1\\n  libdrm-nouveau2 libdrm-radeon1 libdrm2 libelf1 libepoxy0 libfontenc1\\n  libgail-common libgail18 libgdk-pixbuf2.0-0 libgdk-pixbuf2.0-bin\\n  libgdk-pixbuf2.0-common libgif7 libgl1 libgl1-mesa-dri libglapi-mesa\\n  libglvnd0 libglx-mesa0 libglx0 libgtk-3-0 libgtk-3-bin libgtk-3-common\\n  libgtk2.0-0 libgtk2.0-bin libgtk2.0-common libip4tc0 libjson-glib-1.0-0\\n  libjson-glib-1.0-common libkmod2 libllvm7 libnspr4 libnss-systemd libnss3\\n  libpam-systemd libpciaccess0 libpcsclite1 libproxy1v5 librest-0.7-0\\n  librsvg2-2 librsvg2-common libsensors-config libsensors5 libsoup-gnome2.4-1\\n  libsoup2.4-1 libwayland-client0 libwayland-cursor0 libwayland-egl1\\n  libx11-xcb1 libxcb-dri2-0 libxcb-dri3-0 libxcb-glx0 libxcb-present0\\n  libxcb-shape0 libxcb-sync1 libxcomposite1 libxcursor1 libxdamage1 libxfixes3\\n  libxft2 libxi6 libxinerama1 libxkbcommon0 libxrandr2 libxshmfence1 libxtst6\\n  libxv1 libxxf86dga1 libxxf86vm1 openjdk-11-jre openjdk-11-jre-headless\\n  systemd systemd-sysv x11-utils xkb-data\\nThe following packages will be upgraded:\\n  libsystemd0\\n1 upgraded, 107 newly installed, 0 to remove and 54 not upgraded.\\nNeed to get 96.3 MB of archives.\\nAfter this operation, 535 MB of additional disk space will be used.\\nGet:1 http://security.debian.org/debian-security buster/updates/main amd64 dbus-user-session amd64 1.12.24-0+deb10u1 [97.9 kB]\\nGet:2 http://deb.debian.org/debian buster/main amd64 libsystemd0 amd64 241-7~deb10u8 [331 kB]\\nGet:3 http://security.debian.org/debian-security buster/updates/main amd64 libgif7 amd64 5.1.4-3+deb10u1 [43.4 kB]\\nGet:4 http://deb.debian.org/debian buster/main amd64 libargon2-1 amd64 0~20171227-0.2 [19.6 kB]\\nGet:5 http://deb.debian.org/debian buster/main amd64 dmsetup amd64 2:1.02.155-3 [90.8 kB]\\nGet:6 http://deb.debian.org/debian buster/main amd64 libdevmapper1.02.1 amd64 2:1.02.155-3 [141 kB]\\nGet:7 http://deb.debian.org/debian buster/main amd64 libcryptsetup12 amd64 2:2.1.0-5+deb10u2 [193 kB]\\nGet:8 http://deb.debian.org/debian buster/main amd64 libip4tc0 amd64 1.8.2-4 [70.2 kB]\\nGet:9 http://deb.debian.org/debian buster/main amd64 libkmod2 amd64 26-1 [52.7 kB]\\nGet:10 http://deb.debian.org/debian buster/main amd64 systemd amd64 241-7~deb10u8 [3496 kB]\\nGet:11 http://deb.debian.org/debian buster/main amd64 systemd-sysv amd64 241-7~deb10u8 [100 kB]\\nGet:12 http://deb.debian.org/debian buster/main amd64 libnss-systemd amd64 241-7~deb10u8 [205 kB]\\nGet:13 http://deb.debian.org/debian buster/main amd64 libpam-systemd amd64 241-7~deb10u8 [209 kB]\\nGet:14 http://deb.debian.org/debian buster/main amd64 libgdk-pixbuf2.0-common all 2.38.1+dfsg-1 [316 kB]\\nGet:15 http://deb.debian.org/debian buster/main amd64 libgdk-pixbuf2.0-0 amd64 2.38.1+dfsg-1 [177 kB]\\nGet:16 http://deb.debian.org/debian buster/main amd64 gtk-update-icon-cache amd64 3.24.5-1 [81.7 kB]\\nGet:17 http://deb.debian.org/debian buster/main amd64 libcroco3 amd64 0.6.12-3 [145 kB]\\nGet:18 http://deb.debian.org/debian buster/main amd64 librsvg2-2 amd64 2.44.10-2.1+deb10u3 [1258 kB]\\nGet:19 http://deb.debian.org/debian buster/main amd64 librsvg2-common amd64 2.44.10-2.1+deb10u3 [23.6 kB]\\nGet:20 http://deb.debian.org/debian buster/main amd64 adwaita-icon-theme all 3.30.1-1 [11.7 MB]\\nGet:21 http://deb.debian.org/debian buster/main amd64 libatspi2.0-0 amd64 2.30.0-7 [65.0 kB]\\nGet:22 http://deb.debian.org/debian buster/main amd64 libxi6 amd64 2:1.7.9-1 [82.6 kB]\\nGet:23 http://deb.debian.org/debian buster/main amd64 libxtst6 amd64 2:1.2.3-1 [27.8 kB]\\nGet:24 http://deb.debian.org/debian buster/main amd64 at-spi2-core amd64 2.30.0-7 [70.7 kB]\\nGet:25 http://deb.debian.org/debian buster/main amd64 java-common all 0.71 [14.4 kB]\\nGet:26 http://deb.debian.org/debian buster/main amd64 libnspr4 amd64 2:4.20-1 [112 kB]\\nGet:27 http://deb.debian.org/debian buster/main amd64 libnss3 amd64 2:3.42.1-1+deb10u5 [1160 kB]\\nGet:28 http://deb.debian.org/debian buster/main amd64 libasound2-data all 1.1.8-1 [59.6 kB]\\nGet:29 http://deb.debian.org/debian buster/main amd64 libasound2 amd64 1.1.8-1 [361 kB]\\nGet:30 http://deb.debian.org/debian buster/main amd64 libpcsclite1 amd64 1.8.24-1 [58.5 kB]\\nGet:31 http://deb.debian.org/debian buster/main amd64 openjdk-11-jre-headless amd64 11.0.16+8-1~deb10u1 [37.3 MB]\\nGet:32 http://deb.debian.org/debian buster/main amd64 default-jre-headless amd64 2:1.11-71 [10.9 kB]\\nGet:33 http://deb.debian.org/debian buster/main amd64 ca-certificates-java all 20190405 [15.7 kB]\\nGet:34 http://deb.debian.org/debian buster/main amd64 libdconf1 amd64 0.30.1-2 [40.7 kB]\\nGet:35 http://deb.debian.org/debian buster/main amd64 dconf-service amd64 0.30.1-2 [36.4 kB]\\nGet:36 http://deb.debian.org/debian buster/main amd64 dconf-gsettings-backend amd64 0.30.1-2 [28.9 kB]\\nGet:37 http://deb.debian.org/debian buster/main amd64 libglvnd0 amd64 1.1.0-1 [48.6 kB]\\nGet:38 http://deb.debian.org/debian buster/main amd64 libdrm-common all 2.4.97-1 [13.8 kB]\\nGet:39 http://deb.debian.org/debian buster/main amd64 libdrm2 amd64 2.4.97-1 [39.7 kB]\\nGet:40 http://deb.debian.org/debian buster/main amd64 libglapi-mesa amd64 18.3.6-2+deb10u1 [66.3 kB]\\nGet:41 http://deb.debian.org/debian buster/main amd64 libx11-xcb1 amd64 2:1.6.7-1+deb10u2 [191 kB]\\nGet:42 http://deb.debian.org/debian buster/main amd64 libxcb-dri2-0 amd64 1.13.1-2 [101 kB]\\nGet:43 http://deb.debian.org/debian buster/main amd64 libxcb-dri3-0 amd64 1.13.1-2 [100 kB]\\nGet:44 http://deb.debian.org/debian buster/main amd64 libxcb-glx0 amd64 1.13.1-2 [116 kB]\\nGet:45 http://deb.debian.org/debian buster/main amd64 libxcb-present0 amd64 1.13.1-2 [99.1 kB]\\nGet:46 http://deb.debian.org/debian buster/main amd64 libxcb-sync1 amd64 1.13.1-2 [103 kB]\\nGet:47 http://deb.debian.org/debian buster/main amd64 libxfixes3 amd64 1:5.0.3-1 [21.9 kB]\\nGet:48 http://deb.debian.org/debian buster/main amd64 libxdamage1 amd64 1:1.1.4-3+b3 [14.9 kB]\\nGet:49 http://deb.debian.org/debian buster/main amd64 libxshmfence1 amd64 1.3-1 [8820 B]\\nGet:50 http://deb.debian.org/debian buster/main amd64 libxxf86vm1 amd64 1:1.1.4-1+b2 [20.8 kB]\\nGet:51 http://deb.debian.org/debian buster/main amd64 libdrm-amdgpu1 amd64 2.4.97-1 [27.3 kB]\\nGet:52 http://deb.debian.org/debian buster/main amd64 libpciaccess0 amd64 0.14-1 [53.5 kB]\\nGet:53 http://deb.debian.org/debian buster/main amd64 libdrm-intel1 amd64 2.4.97-1 [69.8 kB]\\nGet:54 http://deb.debian.org/debian buster/main amd64 libdrm-nouveau2 amd64 2.4.97-1 [26.3 kB]\\nGet:55 http://deb.debian.org/debian buster/main amd64 libdrm-radeon1 amd64 2.4.97-1 [31.1 kB]\\nGet:56 http://deb.debian.org/debian buster/main amd64 libelf1 amd64 0.176-1.1 [161 kB]\\nGet:57 http://deb.debian.org/debian buster/main amd64 libllvm7 amd64 1:7.0.1-8+deb10u2 [13.1 MB]\\nGet:58 http://deb.debian.org/debian buster/main amd64 libsensors-config all 1:3.5.0-3 [31.6 kB]\\nGet:59 http://deb.debian.org/debian buster/main amd64 libsensors5 amd64 1:3.5.0-3 [52.6 kB]\\nGet:60 http://deb.debian.org/debian buster/main amd64 libgl1-mesa-dri amd64 18.3.6-2+deb10u1 [6685 kB]\\nGet:61 http://deb.debian.org/debian buster/main amd64 libglx-mesa0 amd64 18.3.6-2+deb10u1 [180 kB]\\nGet:62 http://deb.debian.org/debian buster/main amd64 libglx0 amd64 1.1.0-1 [30.0 kB]\\nGet:63 http://deb.debian.org/debian buster/main amd64 libgl1 amd64 1.1.0-1 [91.1 kB]\\nGet:64 http://deb.debian.org/debian buster/main amd64 openjdk-11-jre amd64 11.0.16+8-1~deb10u1 [174 kB]\\nGet:65 http://deb.debian.org/debian buster/main amd64 default-jre amd64 2:1.11-71 [1044 B]\\nGet:66 http://deb.debian.org/debian buster/main amd64 fonts-dejavu-extra all 2.37-1 [1982 kB]\\nGet:67 http://deb.debian.org/debian buster/main amd64 libproxy1v5 amd64 0.4.15-5+deb10u1 [56.1 kB]\\nGet:68 http://deb.debian.org/debian buster/main amd64 glib-networking-common all 2.58.0-2+deb10u2 [59.5 kB]\\nGet:69 http://deb.debian.org/debian buster/main amd64 glib-networking-services amd64 2.58.0-2+deb10u2 [13.7 kB]\\nGet:70 http://deb.debian.org/debian buster/main amd64 gsettings-desktop-schemas all 3.28.1-1 [529 kB]\\nGet:71 http://deb.debian.org/debian buster/main amd64 glib-networking amd64 2.58.0-2+deb10u2 [54.6 kB]\\nGet:72 http://deb.debian.org/debian buster/main amd64 libatk1.0-data all 2.30.0-2 [145 kB]\\nGet:73 http://deb.debian.org/debian buster/main amd64 libatk1.0-0 amd64 2.30.0-2 [50.6 kB]\\nGet:74 http://deb.debian.org/debian buster/main amd64 libatk-bridge2.0-0 amd64 2.30.0-5 [61.6 kB]\\nGet:75 http://deb.debian.org/debian buster/main amd64 libfontenc1 amd64 1:1.1.3-1+b2 [24.4 kB]\\nGet:76 http://deb.debian.org/debian buster/main amd64 libxcb-shape0 amd64 1.13.1-2 [99.5 kB]\\nGet:77 http://deb.debian.org/debian buster/main amd64 libxcomposite1 amd64 1:0.4.4-2 [16.5 kB]\\nGet:78 http://deb.debian.org/debian buster/main amd64 libxft2 amd64 2.3.2-2 [57.2 kB]\\nGet:79 http://deb.debian.org/debian buster/main amd64 libxinerama1 amd64 2:1.1.4-2 [17.7 kB]\\nGet:80 http://deb.debian.org/debian buster/main amd64 libxrandr2 amd64 2:1.5.1-1 [37.5 kB]\\nGet:81 http://deb.debian.org/debian buster/main amd64 libxv1 amd64 2:1.0.11-1 [24.6 kB]\\nGet:82 http://deb.debian.org/debian buster/main amd64 libxxf86dga1 amd64 2:1.1.4-1+b3 [22.1 kB]\\nGet:83 http://deb.debian.org/debian buster/main amd64 x11-utils amd64 7.7+4 [202 kB]\\nGet:84 http://deb.debian.org/debian buster/main amd64 libatk-wrapper-java all 0.33.3-22+deb10u1 [45.5 kB]\\nGet:85 http://deb.debian.org/debian buster/main amd64 libcairo-gobject2 amd64 1.16.0-4+deb10u1 [125 kB]\\nGet:86 http://deb.debian.org/debian buster/main amd64 libcolord2 amd64 1.4.3-4 [141 kB]\\nGet:87 http://deb.debian.org/debian buster/main amd64 libepoxy0 amd64 1.5.3-0.1 [190 kB]\\nGet:88 http://deb.debian.org/debian buster/main amd64 libjson-glib-1.0-common all 1.4.4-2 [52.3 kB]\\nGet:89 http://deb.debian.org/debian buster/main amd64 libjson-glib-1.0-0 amd64 1.4.4-2 [61.2 kB]\\nGet:90 http://deb.debian.org/debian buster/main amd64 libsoup2.4-1 amd64 2.64.2-2 [253 kB]\\nGet:91 http://deb.debian.org/debian buster/main amd64 libsoup-gnome2.4-1 amd64 2.64.2-2 [18.0 kB]\\nGet:92 http://deb.debian.org/debian buster/main amd64 librest-0.7-0 amd64 0.8.1-1 [33.7 kB]\\nGet:93 http://deb.debian.org/debian buster/main amd64 libwayland-client0 amd64 1.16.0-1 [26.4 kB]\\nGet:94 http://deb.debian.org/debian buster/main amd64 libwayland-cursor0 amd64 1.16.0-1 [14.1 kB]\\nGet:95 http://deb.debian.org/debian buster/main amd64 libwayland-egl1 amd64 1.16.0-1 [8204 B]\\nGet:96 http://deb.debian.org/debian buster/main amd64 libxcursor1 amd64 1:1.1.15-2 [36.6 kB]\\nGet:97 http://deb.debian.org/debian buster/main amd64 xkb-data all 2.26-2 [681 kB]\\nGet:98 http://deb.debian.org/debian buster/main amd64 libxkbcommon0 amd64 0.8.2-1 [123 kB]\\nGet:99 http://deb.debian.org/debian buster/main amd64 libgtk-3-common all 3.24.5-1 [3678 kB]\\nGet:100 http://deb.debian.org/debian buster/main amd64 libgtk-3-0 amd64 3.24.5-1 [2580 kB]\\nGet:101 http://deb.debian.org/debian buster/main amd64 libgtk2.0-common all 2.24.32-3 [2698 kB]\\nGet:102 http://deb.debian.org/debian buster/main amd64 libgtk2.0-0 amd64 2.24.32-3 [1809 kB]\\nGet:103 http://deb.debian.org/debian buster/main amd64 libatk-wrapper-java-jni amd64 0.33.3-22+deb10u1 [39.5 kB]\\nGet:104 http://deb.debian.org/debian buster/main amd64 libgail18 amd64 2.24.32-3 [55.5 kB]\\nGet:105 http://deb.debian.org/debian buster/main amd64 libgail-common amd64 2.24.32-3 [156 kB]\\nGet:106 http://deb.debian.org/debian buster/main amd64 libgdk-pixbuf2.0-bin amd64 2.38.1+dfsg-1 [24.1 kB]\\nGet:107 http://deb.debian.org/debian buster/main amd64 libgtk-3-bin amd64 3.24.5-1 [114 kB]\\nGet:108 http://deb.debian.org/debian buster/main amd64 libgtk2.0-bin amd64 2.24.32-3 [48.5 kB]\\nFetched 96.3 MB in 1s (97.6 MB/s)\\n(Reading database ... \\r(Reading database ... 5%\\r(Reading database ... 10%\\r(Reading database ... 15%\\r(Reading database ... 20%\\r(Reading database ... 25%\\r(Reading database ... 30%\\r(Reading database ... 35%\\r(Reading database ... 40%\\r(Reading database ... 45%\\r(Reading database ... 50%\\r(Reading database ... 55%\\r(Reading database ... 60%\\r(Reading database ... 65%\\r(Reading database ... 70%\\r(Reading database ... 75%\\r(Reading database ... 80%\\r(Reading database ... 85%\\r(Reading database ... 90%\\r(Reading database ... 95%\\r(Reading database ... 100%\\r(Reading database ... 20709 files and directories currently installed.)\\r\\nPreparing to unpack .../libsystemd0_241-7~deb10u8_amd64.deb ...\\r\\nUnpacking libsystemd0:amd64 (241-7~deb10u8) over (241-7~deb10u4) ...\\r\\nSetting up libsystemd0:amd64 (241-7~deb10u8) ...\\r\\nSelecting previously unselected package libargon2-1:amd64.\\r\\n(Reading database ... \\r(Reading database ... 5%\\r(Reading database ... 10%\\r(Reading database ... 15%\\r(Reading database ... 20%\\r(Reading database ... 25%\\r(Reading database ... 30%\\r(Reading database ... 35%\\r(Reading database ... 40%\\r(Reading database ... 45%\\r(Reading database ... 50%\\r(Reading database ... 55%\\r(Reading database ... 60%\\r(Reading database ... 65%\\r(Reading database ... 70%\\r(Reading database ... 75%\\r(Reading database ... 80%\\r(Reading database ... 85%\\r(Reading database ... 90%\\r(Reading database ... 95%\\r(Reading database ... 100%\\r(Reading database ... 20709 files and directories currently installed.)\\r\\nPreparing to unpack .../0-libargon2-1_0~20171227-0.2_amd64.deb ...\\r\\nUnpacking libargon2-1:amd64 (0~20171227-0.2) ...\\r\\nSelecting previously unselected package dmsetup.\\r\\nPreparing to unpack .../1-dmsetup_2%3a1.02.155-3_amd64.deb ...\\r\\nUnpacking dmsetup (2:1.02.155-3) ...\\r\\nSelecting previously unselected package libdevmapper1.02.1:amd64.\\r\\nPreparing to unpack .../2-libdevmapper1.02.1_2%3a1.02.155-3_amd64.deb ...\\r\\nUnpacking libdevmapper1.02.1:amd64 (2:1.02.155-3) ...\\r\\nSelecting previously unselected package libcryptsetup12:amd64.\\r\\nPreparing to unpack .../3-libcryptsetup12_2%3a2.1.0-5+deb10u2_amd64.deb ...\\r\\nUnpacking libcryptsetup12:amd64 (2:2.1.0-5+deb10u2) ...\\r\\nSelecting previously unselected package libip4tc0:amd64.\\r\\nPreparing to unpack .../4-libip4tc0_1.8.2-4_amd64.deb ...\\r\\nUnpacking libip4tc0:amd64 (1.8.2-4) ...\\r\\nSelecting previously unselected package libkmod2:amd64.\\r\\nPreparing to unpack .../5-libkmod2_26-1_amd64.deb ...\\r\\nUnpacking libkmod2:amd64 (26-1) ...\\r\\nSelecting previously unselected package systemd.\\r\\nPreparing to unpack .../6-systemd_241-7~deb10u8_amd64.deb ...\\r\\nUnpacking systemd (241-7~deb10u8) ...\\r\\nSetting up libargon2-1:amd64 (0~20171227-0.2) ...\\r\\nSetting up libip4tc0:amd64 (1.8.2-4) ...\\r\\nSetting up libkmod2:amd64 (26-1) ...\\r\\nSetting up libdevmapper1.02.1:amd64 (2:1.02.155-3) ...\\r\\nSetting up libcryptsetup12:amd64 (2:2.1.0-5+deb10u2) ...\\r\\nSetting up systemd (241-7~deb10u8) ...\\r\\nCreated symlink /etc/systemd/system/getty.target.wants/getty@tty1.service \\xe2\\x86\\x92 /lib/systemd/system/getty@.service.\\r\\nCreated symlink /etc/systemd/system/multi-user.target.wants/remote-fs.target \\xe2\\x86\\x92 /lib/systemd/system/remote-fs.target.\\r\\nCreated symlink /etc/systemd/system/dbus-org.freedesktop.timesync1.service \\xe2\\x86\\x92 /lib/systemd/system/systemd-timesyncd.service.\\r\\nCreated symlink /etc/systemd/system/sysinit.target.wants/systemd-timesyncd.service \\xe2\\x86\\x92 /lib/systemd/system/systemd-timesyncd.service.\\r\\nSetting up dmsetup (2:1.02.155-3) ...\\r\\nSelecting previously unselected package systemd-sysv.\\r\\n(Reading database ... \\r(Reading database ... 5%\\r(Reading database ... 10%\\r(Reading database ... 15%\\r(Reading database ... 20%\\r(Reading database ... 25%\\r(Reading database ... 30%\\r(Reading database ... 35%\\r(Reading database ... 40%\\r(Reading database ... 45%\\r(Reading database ... 50%\\r(Reading database ... 55%\\r(Reading database ... 60%\\r(Reading database ... 65%\\r(Reading database ... 70%\\r(Reading database ... 75%\\r(Reading database ... 80%\\r(Reading database ... 85%\\r(Reading database ... 90%\\r(Reading database ... 95%\\r(Reading database ... 100%\\r(Reading database ... 21514 files and directories currently installed.)\\r\\nPreparing to unpack .../00-systemd-sysv_241-7~deb10u8_amd64.deb ...\\r\\nUnpacking systemd-sysv (241-7~deb10u8) ...\\r\\nSelecting previously unselected package libnss-systemd:amd64.\\r\\nPreparing to unpack .../01-libnss-systemd_241-7~deb10u8_amd64.deb ...\\r\\nUnpacking libnss-systemd:amd64 (241-7~deb10u8) ...\\r\\nSelecting previously unselected package libpam-systemd:amd64.\\r\\nPreparing to unpack .../02-libpam-systemd_241-7~deb10u8_amd64.deb ...\\r\\nUnpacking libpam-systemd:amd64 (241-7~deb10u8) ...\\r\\nSelecting previously unselected package libgdk-pixbuf2.0-common.\\r\\nPreparing to unpack .../03-libgdk-pixbuf2.0-common_2.38.1+dfsg-1_all.deb ...\\r\\nUnpacking libgdk-pixbuf2.0-common (2.38.1+dfsg-1) ...\\r\\nSelecting previously unselected package libgdk-pixbuf2.0-0:amd64.\\r\\nPreparing to unpack .../04-libgdk-pixbuf2.0-0_2.38.1+dfsg-1_amd64.deb ...\\r\\nUnpacking libgdk-pixbuf2.0-0:amd64 (2.38.1+dfsg-1) ...\\r\\nSelecting previously unselected package gtk-update-icon-cache.\\r\\nPreparing to unpack .../05-gtk-update-icon-cache_3.24.5-1_amd64.deb ...\\r\\nNo diversion 'diversion of /usr/sbin/update-icon-caches to /usr/sbin/update-icon-caches.gtk2 by libgtk-3-bin', none removed.\\r\\nNo diversion 'diversion of /usr/share/man/man8/update-icon-caches.8.gz to /usr/share/man/man8/update-icon-caches.gtk2.8.gz by libgtk-3-bin', none removed.\\r\\nUnpacking gtk-update-icon-cache (3.24.5-1) ...\\r\\nSelecting previously unselected package libcroco3:amd64.\\r\\nPreparing to unpack .../06-libcroco3_0.6.12-3_amd64.deb ...\\r\\nUnpacking libcroco3:amd64 (0.6.12-3) ...\\r\\nSelecting previously unselected package librsvg2-2:amd64.\\r\\nPreparing to unpack .../07-librsvg2-2_2.44.10-2.1+deb10u3_amd64.deb ...\\r\\nUnpacking librsvg2-2:amd64 (2.44.10-2.1+deb10u3) ...\\r\\nSelecting previously unselected package librsvg2-common:amd64.\\r\\nPreparing to unpack .../08-librsvg2-common_2.44.10-2.1+deb10u3_amd64.deb ...\\r\\nUnpacking librsvg2-common:amd64 (2.44.10-2.1+deb10u3) ...\\r\\nSelecting previously unselected package adwaita-icon-theme.\\r\\nPreparing to unpack .../09-adwaita-icon-theme_3.30.1-1_all.deb ...\\r\\nUnpacking adwaita-icon-theme (3.30.1-1) ...\\r\\nSelecting previously unselected package libatspi2.0-0:amd64.\\r\\nPreparing to unpack .../10-libatspi2.0-0_2.30.0-7_amd64.deb ...\\r\\nUnpacking libatspi2.0-0:amd64 (2.30.0-7) ...\\r\\nSelecting previously unselected package libxi6:amd64.\\r\\nPreparing to unpack .../11-libxi6_2%3a1.7.9-1_amd64.deb ...\\r\\nUnpacking libxi6:amd64 (2:1.7.9-1) ...\\r\\nSelecting previously unselected package libxtst6:amd64.\\r\\nPreparing to unpack .../12-libxtst6_2%3a1.2.3-1_amd64.deb ...\\r\\nUnpacking libxtst6:amd64 (2:1.2.3-1) ...\\r\\nSelecting previously unselected package at-spi2-core.\\r\\nPreparing to unpack .../13-at-spi2-core_2.30.0-7_amd64.deb ...\\r\\nUnpacking at-spi2-core (2.30.0-7) ...\\r\\nSelecting previously unselected package java-common.\\r\\nPreparing to unpack .../14-java-common_0.71_all.deb ...\\r\\nUnpacking java-common (0.71) ...\\r\\nSelecting previously unselected package libnspr4:amd64.\\r\\nPreparing to unpack .../15-libnspr4_2%3a4.20-1_amd64.deb ...\\r\\nUnpacking libnspr4:amd64 (2:4.20-1) ...\\r\\nSelecting previously unselected package libnss3:amd64.\\r\\nPreparing to unpack .../16-libnss3_2%3a3.42.1-1+deb10u5_amd64.deb ...\\r\\nUnpacking libnss3:amd64 (2:3.42.1-1+deb10u5) ...\\r\\nSelecting previously unselected package libasound2-data.\\r\\nPreparing to unpack .../17-libasound2-data_1.1.8-1_all.deb ...\\r\\nUnpacking libasound2-data (1.1.8-1) ...\\r\\nSelecting previously unselected package libasound2:amd64.\\r\\nPreparing to unpack .../18-libasound2_1.1.8-1_amd64.deb ...\\r\\nUnpacking libasound2:amd64 (1.1.8-1) ...\\r\\nSelecting previously unselected package libpcsclite1:amd64.\\r\\nPreparing to unpack .../19-libpcsclite1_1.8.24-1_amd64.deb ...\\r\\nUnpacking libpcsclite1:amd64 (1.8.24-1) ...\\r\\nSelecting previously unselected package openjdk-11-jre-headless:amd64.\\r\\nPreparing to unpack .../20-openjdk-11-jre-headless_11.0.16+8-1~deb10u1_amd64.deb ...\\r\\nUnpacking openjdk-11-jre-headless:amd64 (11.0.16+8-1~deb10u1) ...\\r\\nSelecting previously unselected package default-jre-headless.\\r\\nPreparing to unpack .../21-default-jre-headless_2%3a1.11-71_amd64.deb ...\\r\\nUnpacking default-jre-headless (2:1.11-71) ...\\r\\nSelecting previously unselected package ca-certificates-java.\\r\\nPreparing to unpack .../22-ca-certificates-java_20190405_all.deb ...\\r\\nUnpacking ca-certificates-java (20190405) ...\\r\\nSelecting previously unselected package dbus-user-session.\\r\\nPreparing to unpack .../23-dbus-user-session_1.12.24-0+deb10u1_amd64.deb ...\\r\\nUnpacking dbus-user-session (1.12.24-0+deb10u1) ...\\r\\nSelecting previously unselected package libdconf1:amd64.\\r\\nPreparing to unpack .../24-libdconf1_0.30.1-2_amd64.deb ...\\r\\nUnpacking libdconf1:amd64 (0.30.1-2) ...\\r\\nSelecting previously unselected package dconf-service.\\r\\nPreparing to unpack .../25-dconf-service_0.30.1-2_amd64.deb ...\\r\\nUnpacking dconf-service (0.30.1-2) ...\\r\\nSelecting previously unselected package dconf-gsettings-backend:amd64.\\r\\nPreparing to unpack .../26-dconf-gsettings-backend_0.30.1-2_amd64.deb ...\\r\\nUnpacking dconf-gsettings-backend:amd64 (0.30.1-2) ...\\r\\nSelecting previously unselected package libglvnd0:amd64.\\r\\nPreparing to unpack .../27-libglvnd0_1.1.0-1_amd64.deb ...\\r\\nUnpacking libglvnd0:amd64 (1.1.0-1) ...\\r\\nSelecting previously unselected package libdrm-common.\\r\\nPreparing to unpack .../28-libdrm-common_2.4.97-1_all.deb ...\\r\\nUnpacking libdrm-common (2.4.97-1) ...\\r\\nSelecting previously unselected package libdrm2:amd64.\\r\\nPreparing to unpack .../29-libdrm2_2.4.97-1_amd64.deb ...\\r\\nUnpacking libdrm2:amd64 (2.4.97-1) ...\\r\\nSelecting previously unselected package libglapi-mesa:amd64.\\r\\nPreparing to unpack .../30-libglapi-mesa_18.3.6-2+deb10u1_amd64.deb ...\\r\\nUnpacking libglapi-mesa:amd64 (18.3.6-2+deb10u1) ...\\r\\nSelecting previously unselected package libx11-xcb1:amd64.\\r\\nPreparing to unpack .../31-libx11-xcb1_2%3a1.6.7-1+deb10u2_amd64.deb ...\\r\\nUnpacking libx11-xcb1:amd64 (2:1.6.7-1+deb10u2) ...\\r\\nSelecting previously unselected package libxcb-dri2-0:amd64.\\r\\nPreparing to unpack .../32-libxcb-dri2-0_1.13.1-2_amd64.deb ...\\r\\nUnpacking libxcb-dri2-0:amd64 (1.13.1-2) ...\\r\\nSelecting previously unselected package libxcb-dri3-0:amd64.\\r\\nPreparing to unpack .../33-libxcb-dri3-0_1.13.1-2_amd64.deb ...\\r\\nUnpacking libxcb-dri3-0:amd64 (1.13.1-2) ...\\r\\nSelecting previously unselected package libxcb-glx0:amd64.\\r\\nPreparing to unpack .../34-libxcb-glx0_1.13.1-2_amd64.deb ...\\r\\nUnpacking libxcb-glx0:amd64 (1.13.1-2) ...\\r\\nSelecting previously unselected package libxcb-present0:amd64.\\r\\nPreparing to unpack .../35-libxcb-present0_1.13.1-2_amd64.deb ...\\r\\nUnpacking libxcb-present0:amd64 (1.13.1-2) ...\\r\\nSelecting previously unselected package libxcb-sync1:amd64.\\r\\nPreparing to unpack .../36-libxcb-sync1_1.13.1-2_amd64.deb ...\\r\\nUnpacking libxcb-sync1:amd64 (1.13.1-2) ...\\r\\nSelecting previously unselected package libxfixes3:amd64.\\r\\nPreparing to unpack .../37-libxfixes3_1%3a5.0.3-1_amd64.deb ...\\r\\nUnpacking libxfixes3:amd64 (1:5.0.3-1) ...\\r\\nSelecting previously unselected package libxdamage1:amd64.\\r\\nPreparing to unpack .../38-libxdamage1_1%3a1.1.4-3+b3_amd64.deb ...\\r\\nUnpacking libxdamage1:amd64 (1:1.1.4-3+b3) ...\\r\\nSelecting previously unselected package libxshmfence1:amd64.\\r\\nPreparing to unpack .../39-libxshmfence1_1.3-1_amd64.deb ...\\r\\nUnpacking libxshmfence1:amd64 (1.3-1) ...\\r\\nSelecting previously unselected package libxxf86vm1:amd64.\\r\\nPreparing to unpack .../40-libxxf86vm1_1%3a1.1.4-1+b2_amd64.deb ...\\r\\nUnpacking libxxf86vm1:amd64 (1:1.1.4-1+b2) ...\\r\\nSelecting previously unselected package libdrm-amdgpu1:amd64.\\r\\nPreparing to unpack .../41-libdrm-amdgpu1_2.4.97-1_amd64.deb ...\\r\\nUnpacking libdrm-amdgpu1:amd64 (2.4.97-1) ...\\r\\nSelecting previously unselected package libpciaccess0:amd64.\\r\\nPreparing to unpack .../42-libpciaccess0_0.14-1_amd64.deb ...\\r\\nUnpacking libpciaccess0:amd64 (0.14-1) ...\\r\\nSelecting previously unselected package libdrm-intel1:amd64.\\r\\nPreparing to unpack .../43-libdrm-intel1_2.4.97-1_amd64.deb ...\\r\\nUnpacking libdrm-intel1:amd64 (2.4.97-1) ...\\r\\nSelecting previously unselected package libdrm-nouveau2:amd64.\\r\\nPreparing to unpack .../44-libdrm-nouveau2_2.4.97-1_amd64.deb ...\\r\\nUnpacking libdrm-nouveau2:amd64 (2.4.97-1) ...\\r\\nSelecting previously unselected package libdrm-radeon1:amd64.\\r\\nPreparing to unpack .../45-libdrm-radeon1_2.4.97-1_amd64.deb ...\\r\\nUnpacking libdrm-radeon1:amd64 (2.4.97-1) ...\\r\\nSelecting previously unselected package libelf1:amd64.\\r\\nPreparing to unpack .../46-libelf1_0.176-1.1_amd64.deb ...\\r\\nUnpacking libelf1:amd64 (0.176-1.1) ...\\r\\nSelecting previously unselected package libllvm7:amd64.\\r\\nPreparing to unpack .../47-libllvm7_1%3a7.0.1-8+deb10u2_amd64.deb ...\\r\\nUnpacking libllvm7:amd64 (1:7.0.1-8+deb10u2) ...\\r\\nSelecting previously unselected package libsensors-config.\\r\\nPreparing to unpack .../48-libsensors-config_1%3a3.5.0-3_all.deb ...\\r\\nUnpacking libsensors-config (1:3.5.0-3) ...\\r\\nSelecting previously unselected package libsensors5:amd64.\\r\\nPreparing to unpack .../49-libsensors5_1%3a3.5.0-3_amd64.deb ...\\r\\nUnpacking libsensors5:amd64 (1:3.5.0-3) ...\\r\\nSelecting previously unselected package libgl1-mesa-dri:amd64.\\r\\nPreparing to unpack .../50-libgl1-mesa-dri_18.3.6-2+deb10u1_amd64.deb ...\\r\\nUnpacking libgl1-mesa-dri:amd64 (18.3.6-2+deb10u1) ...\\r\\nSelecting previously unselected package libglx-mesa0:amd64.\\r\\nPreparing to unpack .../51-libglx-mesa0_18.3.6-2+deb10u1_amd64.deb ...\\r\\nUnpacking libglx-mesa0:amd64 (18.3.6-2+deb10u1) ...\\r\\nSelecting previously unselected package libglx0:amd64.\\r\\nPreparing to unpack .../52-libglx0_1.1.0-1_amd64.deb ...\\r\\nUnpacking libglx0:amd64 (1.1.0-1) ...\\r\\nSelecting previously unselected package libgl1:amd64.\\r\\nPreparing to unpack .../53-libgl1_1.1.0-1_amd64.deb ...\\r\\nUnpacking libgl1:amd64 (1.1.0-1) ...\\r\\nSelecting previously unselected package libgif7:amd64.\\r\\nPreparing to unpack .../54-libgif7_5.1.4-3+deb10u1_amd64.deb ...\\r\\nUnpacking libgif7:amd64 (5.1.4-3+deb10u1) ...\\r\\nSelecting previously unselected package openjdk-11-jre:amd64.\\r\\nPreparing to unpack .../55-openjdk-11-jre_11.0.16+8-1~deb10u1_amd64.deb ...\\r\\nUnpacking openjdk-11-jre:amd64 (11.0.16+8-1~deb10u1) ...\\r\\nSelecting previously unselected package default-jre.\\r\\nPreparing to unpack .../56-default-jre_2%3a1.11-71_amd64.deb ...\\r\\nUnpacking default-jre (2:1.11-71) ...\\r\\nSelecting previously unselected package fonts-dejavu-extra.\\r\\nPreparing to unpack .../57-fonts-dejavu-extra_2.37-1_all.deb ...\\r\\nUnpacking fonts-dejavu-extra (2.37-1) ...\\r\\nSelecting previously unselected package libproxy1v5:amd64.\\r\\nPreparing to unpack .../58-libproxy1v5_0.4.15-5+deb10u1_amd64.deb ...\\r\\nUnpacking libproxy1v5:amd64 (0.4.15-5+deb10u1) ...\\r\\nSelecting previously unselected package glib-networking-common.\\r\\nPreparing to unpack .../59-glib-networking-common_2.58.0-2+deb10u2_all.deb ...\\r\\nUnpacking glib-networking-common (2.58.0-2+deb10u2) ...\\r\\nSelecting previously unselected package glib-networking-services.\\r\\nPreparing to unpack .../60-glib-networking-services_2.58.0-2+deb10u2_amd64.deb ...\\r\\nUnpacking glib-networking-services (2.58.0-2+deb10u2) ...\\r\\nSelecting previously unselected package gsettings-desktop-schemas.\\r\\nPreparing to unpack .../61-gsettings-desktop-schemas_3.28.1-1_all.deb ...\\r\\nUnpacking gsettings-desktop-schemas (3.28.1-1) ...\\r\\nSelecting previously unselected package glib-networking:amd64.\\r\\nPreparing to unpack .../62-glib-networking_2.58.0-2+deb10u2_amd64.deb ...\\r\\nUnpacking glib-networking:amd64 (2.58.0-2+deb10u2) ...\\r\\nSelecting previously unselected package libatk1.0-data.\\r\\nPreparing to unpack .../63-libatk1.0-data_2.30.0-2_all.deb ...\\r\\nUnpacking libatk1.0-data (2.30.0-2) ...\\r\\nSelecting previously unselected package libatk1.0-0:amd64.\\r\\nPreparing to unpack .../64-libatk1.0-0_2.30.0-2_amd64.deb ...\\r\\nUnpacking libatk1.0-0:amd64 (2.30.0-2) ...\\r\\nSelecting previously unselected package libatk-bridge2.0-0:amd64.\\r\\nPreparing to unpack .../65-libatk-bridge2.0-0_2.30.0-5_amd64.deb ...\\r\\nUnpacking libatk-bridge2.0-0:amd64 (2.30.0-5) ...\\r\\nSelecting previously unselected package libfontenc1:amd64.\\r\\nPreparing to unpack .../66-libfontenc1_1%3a1.1.3-1+b2_amd64.deb ...\\r\\nUnpacking libfontenc1:amd64 (1:1.1.3-1+b2) ...\\r\\nSelecting previously unselected package libxcb-shape0:amd64.\\r\\nPreparing to unpack .../67-libxcb-shape0_1.13.1-2_amd64.deb ...\\r\\nUnpacking libxcb-shape0:amd64 (1.13.1-2) ...\\r\\nSelecting previously unselected package libxcomposite1:amd64.\\r\\nPreparing to unpack .../68-libxcomposite1_1%3a0.4.4-2_amd64.deb ...\\r\\nUnpacking libxcomposite1:amd64 (1:0.4.4-2) ...\\r\\nSelecting previously unselected package libxft2:amd64.\\r\\nPreparing to unpack .../69-libxft2_2.3.2-2_amd64.deb ...\\r\\nUnpacking libxft2:amd64 (2.3.2-2) ...\\r\\nSelecting previously unselected package libxinerama1:amd64.\\r\\nPreparing to unpack .../70-libxinerama1_2%3a1.1.4-2_amd64.deb ...\\r\\nUnpacking libxinerama1:amd64 (2:1.1.4-2) ...\\r\\nSelecting previously unselected package libxrandr2:amd64.\\r\\nPreparing to unpack .../71-libxrandr2_2%3a1.5.1-1_amd64.deb ...\\r\\nUnpacking libxrandr2:amd64 (2:1.5.1-1) ...\\r\\nSelecting previously unselected package libxv1:amd64.\\r\\nPreparing to unpack .../72-libxv1_2%3a1.0.11-1_amd64.deb ...\\r\\nUnpacking libxv1:amd64 (2:1.0.11-1) ...\\r\\nSelecting previously unselected package libxxf86dga1:amd64.\\r\\nPreparing to unpack .../73-libxxf86dga1_2%3a1.1.4-1+b3_amd64.deb ...\\r\\nUnpacking libxxf86dga1:amd64 (2:1.1.4-1+b3) ...\\r\\nSelecting previously unselected package x11-utils.\\r\\nPreparing to unpack .../74-x11-utils_7.7+4_amd64.deb ...\\r\\nUnpacking x11-utils (7.7+4) ...\\r\\nSelecting previously unselected package libatk-wrapper-java.\\r\\nPreparing to unpack .../75-libatk-wrapper-java_0.33.3-22+deb10u1_all.deb ...\\r\\nUnpacking libatk-wrapper-java (0.33.3-22+deb10u1) ...\\r\\nSelecting previously unselected package libcairo-gobject2:amd64.\\r\\nPreparing to unpack .../76-libcairo-gobject2_1.16.0-4+deb10u1_amd64.deb ...\\r\\nUnpacking libcairo-gobject2:amd64 (1.16.0-4+deb10u1) ...\\r\\nSelecting previously unselected package libcolord2:amd64.\\r\\nPreparing to unpack .../77-libcolord2_1.4.3-4_amd64.deb ...\\r\\nUnpacking libcolord2:amd64 (1.4.3-4) ...\\r\\nSelecting previously unselected package libepoxy0:amd64.\\r\\nPreparing to unpack .../78-libepoxy0_1.5.3-0.1_amd64.deb ...\\r\\nUnpacking libepoxy0:amd64 (1.5.3-0.1) ...\\r\\nSelecting previously unselected package libjson-glib-1.0-common.\\r\\nPreparing to unpack .../79-libjson-glib-1.0-common_1.4.4-2_all.deb ...\\r\\nUnpacking libjson-glib-1.0-common (1.4.4-2) ...\\r\\nSelecting previously unselected package libjson-glib-1.0-0:amd64.\\r\\nPreparing to unpack .../80-libjson-glib-1.0-0_1.4.4-2_amd64.deb ...\\r\\nUnpacking libjson-glib-1.0-0:amd64 (1.4.4-2) ...\\r\\nSelecting previously unselected package libsoup2.4-1:amd64.\\r\\nPreparing to unpack .../81-libsoup2.4-1_2.64.2-2_amd64.deb ...\\r\\nUnpacking libsoup2.4-1:amd64 (2.64.2-2) ...\\r\\nSelecting previously unselected package libsoup-gnome2.4-1:amd64.\\r\\nPreparing to unpack .../82-libsoup-gnome2.4-1_2.64.2-2_amd64.deb ...\\r\\nUnpacking libsoup-gnome2.4-1:amd64 (2.64.2-2) ...\\r\\nSelecting previously unselected package librest-0.7-0:amd64.\\r\\nPreparing to unpack .../83-librest-0.7-0_0.8.1-1_amd64.deb ...\\r\\nUnpacking librest-0.7-0:amd64 (0.8.1-1) ...\\r\\nSelecting previously unselected package libwayland-client0:amd64.\\r\\nPreparing to unpack .../84-libwayland-client0_1.16.0-1_amd64.deb ...\\r\\nUnpacking libwayland-client0:amd64 (1.16.0-1) ...\\r\\nSelecting previously unselected package libwayland-cursor0:amd64.\\r\\nPreparing to unpack .../85-libwayland-cursor0_1.16.0-1_amd64.deb ...\\r\\nUnpacking libwayland-cursor0:amd64 (1.16.0-1) ...\\r\\nSelecting previously unselected package libwayland-egl1:amd64.\\r\\nPreparing to unpack .../86-libwayland-egl1_1.16.0-1_amd64.deb ...\\r\\nUnpacking libwayland-egl1:amd64 (1.16.0-1) ...\\r\\nSelecting previously unselected package libxcursor1:amd64.\\r\\nPreparing to unpack .../87-libxcursor1_1%3a1.1.15-2_amd64.deb ...\\r\\nUnpacking libxcursor1:amd64 (1:1.1.15-2) ...\\r\\nSelecting previously unselected package xkb-data.\\r\\nPreparing to unpack .../88-xkb-data_2.26-2_all.deb ...\\r\\nUnpacking xkb-data (2.26-2) ...\\r\\nSelecting previously unselected package libxkbcommon0:amd64.\\r\\nPreparing to unpack .../89-libxkbcommon0_0.8.2-1_amd64.deb ...\\r\\nUnpacking libxkbcommon0:amd64 (0.8.2-1) ...\\r\\nSelecting previously unselected package libgtk-3-common.\\r\\nPreparing to unpack .../90-libgtk-3-common_3.24.5-1_all.deb ...\\r\\nUnpacking libgtk-3-common (3.24.5-1) ...\\r\\nSelecting previously unselected package libgtk-3-0:amd64.\\r\\nPreparing to unpack .../91-libgtk-3-0_3.24.5-1_amd64.deb ...\\r\\nUnpacking libgtk-3-0:amd64 (3.24.5-1) ...\\r\\nSelecting previously unselected package libgtk2.0-common.\\r\\nPreparing to unpack .../92-libgtk2.0-common_2.24.32-3_all.deb ...\\r\\nUnpacking libgtk2.0-common (2.24.32-3) ...\\r\\nSelecting previously unselected package libgtk2.0-0:amd64.\\r\\nPreparing to unpack .../93-libgtk2.0-0_2.24.32-3_amd64.deb ...\\r\\nUnpacking libgtk2.0-0:amd64 (2.24.32-3) ...\\r\\nSelecting previously unselected package libatk-wrapper-java-jni:amd64.\\r\\nPreparing to unpack .../94-libatk-wrapper-java-jni_0.33.3-22+deb10u1_amd64.deb ...\\r\\nUnpacking libatk-wrapper-java-jni:amd64 (0.33.3-22+deb10u1) ...\\r\\nSelecting previously unselected package libgail18:amd64.\\r\\nPreparing to unpack .../95-libgail18_2.24.32-3_amd64.deb ...\\r\\nUnpacking libgail18:amd64 (2.24.32-3) ...\\r\\nSelecting previously unselected package libgail-common:amd64.\\r\\nPreparing to unpack .../96-libgail-common_2.24.32-3_amd64.deb ...\\r\\nUnpacking libgail-common:amd64 (2.24.32-3) ...\\r\\nSelecting previously unselected package libgdk-pixbuf2.0-bin.\\r\\nPreparing to unpack .../97-libgdk-pixbuf2.0-bin_2.38.1+dfsg-1_amd64.deb ...\\r\\nUnpacking libgdk-pixbuf2.0-bin (2.38.1+dfsg-1) ...\\r\\nSelecting previously unselected package libgtk-3-bin.\\r\\nPreparing to unpack .../98-libgtk-3-bin_3.24.5-1_amd64.deb ...\\r\\nUnpacking libgtk-3-bin (3.24.5-1) ...\\r\\nSelecting previously unselected package libgtk2.0-bin.\\r\\nPreparing to unpack .../99-libgtk2.0-bin_2.24.32-3_amd64.deb ...\\r\\nUnpacking libgtk2.0-bin (2.24.32-3) ...\\r\\nSetting up libxcb-dri3-0:amd64 (1.13.1-2) ...\\r\\nSetting up libx11-xcb1:amd64 (2:1.6.7-1+deb10u2) ...\\r\\nSetting up libpciaccess0:amd64 (0.14-1) ...\\r\\nSetting up systemd-sysv (241-7~deb10u8) ...\\r\\nSetting up libxft2:amd64 (2.3.2-2) ...\\r\\nSetting up libproxy1v5:amd64 (0.4.15-5+deb10u1) ...\\r\\nSetting up libxi6:amd64 (2:1.7.9-1) ...\\r\\nSetting up java-common (0.71) ...\\r\\nSetting up libglvnd0:amd64 (1.1.0-1) ...\\r\\nSetting up libxtst6:amd64 (2:1.2.3-1) ...\\r\\nSetting up libxcb-glx0:amd64 (1.13.1-2) ...\\r\\nSetting up libgdk-pixbuf2.0-common (2.38.1+dfsg-1) ...\\r\\nSetting up libxcb-shape0:amd64 (1.13.1-2) ...\\r\\nSetting up libsensors-config (1:3.5.0-3) ...\\r\\nSetting up libxxf86dga1:amd64 (2:1.1.4-1+b3) ...\\r\\nSetting up libnss-systemd:amd64 (241-7~deb10u8) ...\\r\\nFirst installation detected...\\r\\nChecking NSS setup...\\r\\nSetting up xkb-data (2.26-2) ...\\r\\nSetting up libatspi2.0-0:amd64 (2.30.0-7) ...\\r\\nSetting up libcolord2:amd64 (1.4.3-4) ...\\r\\nSetting up libxxf86vm1:amd64 (1:1.1.4-1+b2) ...\\r\\nSetting up libxcb-present0:amd64 (1.13.1-2) ...\\r\\nSetting up libdconf1:amd64 (0.30.1-2) ...\\r\\nSetting up libasound2-data (1.1.8-1) ...\\r\\nSetting up libfontenc1:amd64 (1:1.1.3-1+b2) ...\\r\\nSetting up libepoxy0:amd64 (1.5.3-0.1) ...\\r\\nSetting up libnspr4:amd64 (2:4.20-1) ...\\r\\nSetting up libxfixes3:amd64 (1:5.0.3-1) ...\\r\\nSetting up libxcb-sync1:amd64 (1.13.1-2) ...\\r\\nSetting up libgdk-pixbuf2.0-0:amd64 (2.38.1+dfsg-1) ...\\r\\nSetting up libxinerama1:amd64 (2:1.1.4-2) ...\\r\\nSetting up libxv1:amd64 (2:1.0.11-1) ...\\r\\nSetting up libxrandr2:amd64 (2:1.5.1-1) ...\\r\\nSetting up libcroco3:amd64 (0.6.12-3) ...\\r\\nSetting up libpcsclite1:amd64 (1.8.24-1) ...\\r\\nSetting up libsensors5:amd64 (1:3.5.0-3) ...\\r\\nSetting up libglapi-mesa:amd64 (18.3.6-2+deb10u1) ...\\r\\nSetting up libxcb-dri2-0:amd64 (1.13.1-2) ...\\r\\nSetting up libgif7:amd64 (5.1.4-3+deb10u1) ...\\r\\nSetting up libatk1.0-data (2.30.0-2) ...\\r\\nSetting up fonts-dejavu-extra (2.37-1) ...\\r\\nSetting up at-spi2-core (2.30.0-7) ...\\r\\nSetting up libxshmfence1:amd64 (1.3-1) ...\\r\\nSetting up libgdk-pixbuf2.0-bin (2.38.1+dfsg-1) ...\\r\\nSetting up libasound2:amd64 (1.1.8-1) ...\\r\\nSetting up libpam-systemd:amd64 (241-7~deb10u8) ...\\r\\ndebconf: unable to initialize frontend: Dialog\\r\\ndebconf: (No usable dialog-like program is installed, so the dialog based frontend cannot be used. at /usr/share/perl5/Debconf/FrontEnd/Dialog.pm line 76.)\\r\\ndebconf: falling back to frontend: Readline\\r\\nSetting up libllvm7:amd64 (1:7.0.1-8+deb10u2) ...\\r\\nSetting up libjson-glib-1.0-common (1.4.4-2) ...\\r\\nSetting up libcairo-gobject2:amd64 (1.16.0-4+deb10u1) ...\\r\\nSetting up libgtk2.0-common (2.24.32-3) ...\\r\\nSetting up libatk1.0-0:amd64 (2.30.0-2) ...\\r\\nSetting up libwayland-egl1:amd64 (1.16.0-1) ...\\r\\nSetting up glib-networking-common (2.58.0-2+deb10u2) ...\\r\\nSetting up libdrm-common (2.4.97-1) ...\\r\\nSetting up libelf1:amd64 (0.176-1.1) ...\\r\\nSetting up libxcomposite1:amd64 (1:0.4.4-2) ...\\r\\nSetting up libxkbcommon0:amd64 (0.8.2-1) ...\\r\\nSetting up libwayland-client0:amd64 (1.16.0-1) ...\\r\\nSetting up glib-networking-services (2.58.0-2+deb10u2) ...\\r\\nSetting up gtk-update-icon-cache (3.24.5-1) ...\\r\\nSetting up libxdamage1:amd64 (1:1.1.4-3+b3) ...\\r\\nSetting up libxcursor1:amd64 (1:1.1.15-2) ...\\r\\nSetting up libnss3:amd64 (2:3.42.1-1+deb10u5) ...\\r\\nSetting up libjson-glib-1.0-0:amd64 (1.4.4-2) ...\\r\\nSetting up librsvg2-2:amd64 (2.44.10-2.1+deb10u3) ...\\r\\nSetting up libatk-bridge2.0-0:amd64 (2.30.0-5) ...\\r\\nSetting up dbus-user-session (1.12.24-0+deb10u1) ...\\r\\nSetting up librsvg2-common:amd64 (2.44.10-2.1+deb10u3) ...\\r\\nSetting up libdrm2:amd64 (2.4.97-1) ...\\r\\nSetting up libwayland-cursor0:amd64 (1.16.0-1) ...\\r\\nSetting up libdrm-amdgpu1:amd64 (2.4.97-1) ...\\r\\nSetting up libdrm-nouveau2:amd64 (2.4.97-1) ...\\r\\nSetting up libdrm-radeon1:amd64 (2.4.97-1) ...\\r\\nSetting up libdrm-intel1:amd64 (2.4.97-1) ...\\r\\nSetting up libgl1-mesa-dri:amd64 (18.3.6-2+deb10u1) ...\\r\\nSetting up dconf-service (0.30.1-2) ...\\r\\nSetting up adwaita-icon-theme (3.30.1-1) ...\\r\\nupdate-alternatives: using /usr/share/icons/Adwaita/cursor.theme to provide /usr/share/icons/default/index.theme (x-cursor-theme) in auto mode\\r\\nSetting up libglx-mesa0:amd64 (18.3.6-2+deb10u1) ...\\r\\nSetting up libglx0:amd64 (1.1.0-1) ...\\r\\nSetting up dconf-gsettings-backend:amd64 (0.30.1-2) ...\\r\\nSetting up libgtk2.0-0:amd64 (2.24.32-3) ...\\r\\nSetting up libgl1:amd64 (1.1.0-1) ...\\r\\nSetting up libgail18:amd64 (2.24.32-3) ...\\r\\nSetting up libgtk2.0-bin (2.24.32-3) ...\\r\\nSetting up x11-utils (7.7+4) ...\\r\\nSetting up libatk-wrapper-java (0.33.3-22+deb10u1) ...\\r\\nSetting up libgtk-3-common (3.24.5-1) ...\\r\\nSetting up gsettings-desktop-schemas (3.28.1-1) ...\\r\\nSetting up libgail-common:amd64 (2.24.32-3) ...\\r\\nSetting up default-jre-headless (2:1.11-71) ...\\r\\nSetting up openjdk-11-jre-headless:amd64 (11.0.16+8-1~deb10u1) ...\\r\\nupdate-alternatives: using /usr/lib/jvm/java-11-openjdk-amd64/bin/java to provide /usr/bin/java (java) in auto mode\\r\\nupdate-alternatives: using /usr/lib/jvm/java-11-openjdk-amd64/bin/jjs to provide /usr/bin/jjs (jjs) in auto mode\\r\\nupdate-alternatives: using /usr/lib/jvm/java-11-openjdk-amd64/bin/keytool to provide /usr/bin/keytool (keytool) in auto mode\\r\\nupdate-alternatives: using /usr/lib/jvm/java-11-openjdk-amd64/bin/rmid to provide /usr/bin/rmid (rmid) in auto mode\\r\\nupdate-alternatives: using /usr/lib/jvm/java-11-openjdk-amd64/bin/rmiregistry to provide /usr/bin/rmiregistry (rmiregistry) in auto mode\\r\\nupdate-alternatives: using /usr/lib/jvm/java-11-openjdk-amd64/bin/pack200 to provide /usr/bin/pack200 (pack200) in auto mode\\r\\nupdate-alternatives: using /usr/lib/jvm/java-11-openjdk-amd64/bin/unpack200 to provide /usr/bin/unpack200 (unpack200) in auto mode\\r\\nupdate-alternatives: using /usr/lib/jvm/java-11-openjdk-amd64/lib/jexec to provide /usr/bin/jexec (jexec) in auto mode\\r\\nSetting up openjdk-11-jre:amd64 (11.0.16+8-1~deb10u1) ...\\r\\nSetting up default-jre (2:1.11-71) ...\\r\\nSetting up ca-certificates-java (20190405) ...\\r\\nhead: cannot open '/etc/ssl/certs/java/cacerts' for reading: No such file or directory\\r\\nAdding debian:ACCVRAIZ1.pem\\r\\nAdding debian:AC_RAIZ_FNMT-RCM.pem\\r\\nAdding debian:Actalis_Authentication_Root_CA.pem\\r\\nAdding debian:AffirmTrust_Commercial.pem\\r\\nAdding debian:AffirmTrust_Networking.pem\\r\\nAdding debian:AffirmTrust_Premium.pem\\r\\nAdding debian:AffirmTrust_Premium_ECC.pem\\r\\nAdding debian:Amazon_Root_CA_1.pem\\r\\nAdding debian:Amazon_Root_CA_2.pem\\r\\nAdding debian:Amazon_Root_CA_3.pem\\r\\nAdding debian:Amazon_Root_CA_4.pem\\r\\nAdding debian:Atos_TrustedRoot_2011.pem\\r\\nAdding debian:Autoridad_de_Certificacion_Firmaprofesional_CIF_A62634068.pem\\r\\nAdding debian:Baltimore_CyberTrust_Root.pem\\r\\nAdding debian:Buypass_Class_2_Root_CA.pem\\r\\nAdding debian:Buypass_Class_3_Root_CA.pem\\r\\nAdding debian:CA_Disig_Root_R2.pem\\r\\nAdding debian:CFCA_EV_ROOT.pem\\r\\nAdding debian:COMODO_Certification_Authority.pem\\r\\nAdding debian:COMODO_ECC_Certification_Authority.pem\\r\\nAdding debian:COMODO_RSA_Certification_Authority.pem\\r\\nAdding debian:Certigna.pem\\r\\nAdding debian:Certigna_Root_CA.pem\\r\\nAdding debian:Certum_Trusted_Network_CA.pem\\r\\nAdding debian:Certum_Trusted_Network_CA_2.pem\\r\\nAdding debian:Chambers_of_Commerce_Root_-_2008.pem\\r\\nAdding debian:Comodo_AAA_Services_root.pem\\r\\nAdding debian:Cybertrust_Global_Root.pem\\r\\nAdding debian:D-TRUST_Root_Class_3_CA_2_2009.pem\\r\\nAdding debian:D-TRUST_Root_Class_3_CA_2_EV_2009.pem\\r\\nAdding debian:DST_Root_CA_X3.pem\\r\\nAdding debian:DigiCert_Assured_ID_Root_CA.pem\\r\\nAdding debian:DigiCert_Assured_ID_Root_G2.pem\\r\\nAdding debian:DigiCert_Assured_ID_Root_G3.pem\\r\\nAdding debian:DigiCert_Global_Root_CA.pem\\r\\nAdding debian:DigiCert_Global_Root_G2.pem\\r\\nAdding debian:DigiCert_Global_Root_G3.pem\\r\\nAdding debian:DigiCert_High_Assurance_EV_Root_CA.pem\\r\\nAdding debian:DigiCert_Trusted_Root_G4.pem\\r\\nAdding debian:E-Tugra_Certification_Authority.pem\\r\\nAdding debian:EC-ACC.pem\\r\\nAdding debian:EE_Certification_Centre_Root_CA.pem\\r\\nAdding debian:Entrust.net_Premium_2048_Secure_Server_CA.pem\\r\\nAdding debian:Entrust_Root_Certification_Authority.pem\\r\\nAdding debian:Entrust_Root_Certification_Authority_-_EC1.pem\\r\\nAdding debian:Entrust_Root_Certification_Authority_-_G2.pem\\r\\nAdding debian:GDCA_TrustAUTH_R5_ROOT.pem\\r\\nAdding debian:Entrust_Root_Certification_Authority_-_G4.pem\\r\\nAdding debian:GTS_Root_R1.pem\\r\\nAdding debian:GTS_Root_R2.pem\\r\\nAdding debian:GTS_Root_R3.pem\\r\\nAdding debian:GTS_Root_R4.pem\\r\\nAdding debian:GeoTrust_Universal_CA_2.pem\\r\\nAdding debian:GlobalSign_ECC_Root_CA_-_R4.pem\\r\\nAdding debian:GlobalSign_ECC_Root_CA_-_R5.pem\\r\\nAdding debian:GlobalSign_Root_CA.pem\\r\\nAdding debian:GlobalSign_Root_CA_-_R2.pem\\r\\nAdding debian:GlobalSign_Root_CA_-_R3.pem\\r\\nAdding debian:GlobalSign_Root_CA_-_R6.pem\\r\\nAdding debian:Global_Chambersign_Root_-_2008.pem\\r\\nAdding debian:Go_Daddy_Class_2_CA.pem\\r\\nAdding debian:Go_Daddy_Root_Certificate_Authority_-_G2.pem\\r\\nAdding debian:Hellenic_Academic_and_Research_Institutions_ECC_RootCA_2015.pem\\r\\nAdding debian:Hellenic_Academic_and_Research_Institutions_RootCA_2011.pem\\r\\nAdding debian:Hellenic_Academic_and_Research_Institutions_RootCA_2015.pem\\r\\nAdding debian:Hongkong_Post_Root_CA_1.pem\\r\\nAdding debian:Hongkong_Post_Root_CA_3.pem\\r\\nAdding debian:ISRG_Root_X1.pem\\r\\nAdding debian:IdenTrust_Commercial_Root_CA_1.pem\\r\\nAdding debian:IdenTrust_Public_Sector_Root_CA_1.pem\\r\\nAdding debian:Izenpe.com.pem\\r\\nAdding debian:LuxTrust_Global_Root_2.pem\\r\\nAdding debian:Microsec_e-Szigno_Root_CA_2009.pem\\r\\nAdding debian:NetLock_Arany_=Class_Gold=_F\\xc5\\x91tan\\xc3\\xbas\\xc3\\xadtv\\xc3\\xa1ny.pem\\r\\nAdding debian:Network_Solutions_Certificate_Authority.pem\\r\\nAdding debian:OISTE_WISeKey_Global_Root_GA_CA.pem\\r\\nAdding debian:OISTE_WISeKey_Global_Root_GB_CA.pem\\r\\nAdding debian:OISTE_WISeKey_Global_Root_GC_CA.pem\\r\\nAdding debian:QuoVadis_Root_CA.pem\\r\\nAdding debian:QuoVadis_Root_CA_1_G3.pem\\r\\nAdding debian:QuoVadis_Root_CA_2.pem\\r\\nAdding debian:QuoVadis_Root_CA_2_G3.pem\\r\\nAdding debian:QuoVadis_Root_CA_3.pem\\r\\nAdding debian:QuoVadis_Root_CA_3_G3.pem\\r\\nAdding debian:SSL.com_EV_Root_Certification_Authority_ECC.pem\\r\\nAdding debian:SSL.com_EV_Root_Certification_Authority_RSA_R2.pem\\r\\nAdding debian:SSL.com_Root_Certification_Authority_ECC.pem\\r\\nAdding debian:SSL.com_Root_Certification_Authority_RSA.pem\\r\\nAdding debian:SZAFIR_ROOT_CA2.pem\\r\\nAdding debian:SecureSign_RootCA11.pem\\r\\nAdding debian:SecureTrust_CA.pem\\r\\nAdding debian:Secure_Global_CA.pem\\r\\nAdding debian:Security_Communication_RootCA2.pem\\r\\nAdding debian:Security_Communication_Root_CA.pem\\r\\nAdding debian:Sonera_Class_2_Root_CA.pem\\r\\nAdding debian:Staat_der_Nederlanden_EV_Root_CA.pem\\r\\nAdding debian:Staat_der_Nederlanden_Root_CA_-_G2.pem\\r\\nAdding debian:Staat_der_Nederlanden_Root_CA_-_G3.pem\\r\\nAdding debian:Starfield_Class_2_CA.pem\\r\\nAdding debian:Starfield_Root_Certificate_Authority_-_G2.pem\\r\\nAdding debian:Starfield_Services_Root_Certificate_Authority_-_G2.pem\\r\\nAdding debian:SwissSign_Gold_CA_-_G2.pem\\r\\nAdding debian:SwissSign_Silver_CA_-_G2.pem\\r\\nAdding debian:T-TeleSec_GlobalRoot_Class_2.pem\\r\\nAdding debian:T-TeleSec_GlobalRoot_Class_3.pem\\r\\nAdding debian:TUBITAK_Kamu_SM_SSL_Kok_Sertifikasi_-_Surum_1.pem\\r\\nAdding debian:TWCA_Global_Root_CA.pem\\r\\nAdding debian:TWCA_Root_Certification_Authority.pem\\r\\nAdding debian:Taiwan_GRCA.pem\\r\\nAdding debian:TeliaSonera_Root_CA_v1.pem\\r\\nAdding debian:TrustCor_ECA-1.pem\\r\\nAdding debian:TrustCor_RootCert_CA-1.pem\\r\\nAdding debian:TrustCor_RootCert_CA-2.pem\\r\\nAdding debian:Trustis_FPS_Root_CA.pem\\r\\nAdding debian:UCA_Extended_Validation_Root.pem\\r\\nAdding debian:UCA_Global_G2_Root.pem\\r\\nAdding debian:USERTrust_ECC_Certification_Authority.pem\\r\\nAdding debian:USERTrust_RSA_Certification_Authority.pem\\r\\nAdding debian:Verisign_Class_3_Public_Primary_Certification_Authority_-_G3.pem\\r\\nAdding debian:XRamp_Global_CA_Root.pem\\r\\nAdding debian:certSIGN_ROOT_CA.pem\\r\\nAdding debian:ePKI_Root_Certification_Authority.pem\\r\\nAdding debian:emSign_ECC_Root_CA_-_C3.pem\\r\\nAdding debian:emSign_ECC_Root_CA_-_G3.pem\\r\\nAdding debian:emSign_Root_CA_-_C1.pem\\r\\nAdding debian:emSign_Root_CA_-_G1.pem\\r\\ndone.\\r\\nProcessing triggers for fontconfig (2.13.1-2) ...\\r\\nProcessing triggers for mime-support (3.62) ...\\r\\nProcessing triggers for hicolor-icon-theme (0.17-2) ...\\r\\nProcessing triggers for libglib2.0-0:amd64 (2.58.3-2+deb10u2) ...\\r\\nProcessing triggers for libc-bin (2.28-10) ...\\r\\nProcessing triggers for ca-certificates (20200601~deb10u1) ...\\r\\nUpdating certificates in /etc/ssl/certs...\\r\\n0 added, 0 removed; done.\\r\\nRunning hooks in /etc/ca-certificates/update.d...\\r\\n\\r\\ndone.\\r\\ndone.\\r\\nProcessing triggers for dbus (1.12.24-0+deb10u1) ...\\r\\nSetting up glib-networking:amd64 (2.58.0-2+deb10u2) ...\\r\\nSetting up libsoup2.4-1:amd64 (2.64.2-2) ...\\r\\nSetting up libsoup-gnome2.4-1:amd64 (2.64.2-2) ...\\r\\nSetting up librest-0.7-0:amd64 (0.8.1-1) ...\\r\\nSetting up libgtk-3-0:amd64 (3.24.5-1) ...\\r\\nSetting up libgtk-3-bin (3.24.5-1) ...\\r\\nSetting up libatk-wrapper-java-jni:amd64 (0.33.3-22+deb10u1) ...\\r\\nProcessing triggers for libgdk-pixbuf2.0-0:amd64 (2.38.1+dfsg-1) ...\\r\\nProcessing triggers for libc-bin (2.28-10) ...\\r\\nReading package lists...\\nBuilding dependency tree...\\nReading state information...\\nThe following additional packages will be installed:\\n  libmpdec2 libpython3-stdlib libpython3.7-minimal libpython3.7-stdlib\\n  python3-minimal python3.7 python3.7-minimal\\nSuggested packages:\\n  python3-doc python3-tk python3-venv python3.7-venv python3.7-doc binutils\\n  binfmt-support\\nThe following NEW packages will be installed:\\n  libmpdec2 libpython3-stdlib libpython3.7-minimal libpython3.7-stdlib python3\\n  python3-minimal python3.7 python3.7-minimal\\n0 upgraded, 8 newly installed, 0 to remove and 54 not upgraded.\\nNeed to get 4593 kB of archives.\\nAfter this operation, 23.2 MB of additional disk space will be used.\\nGet:1 http://deb.debian.org/debian buster/main amd64 python3-minimal amd64 3.7.3-1 [36.6 kB]\\nGet:2 http://security.debian.org/debian-security buster/updates/main amd64 libpython3.7-minimal amd64 3.7.3-2+deb10u4 [589 kB]\\nGet:3 http://deb.debian.org/debian buster/main amd64 libmpdec2 amd64 2.4.2-2 [87.2 kB]\\nGet:4 http://deb.debian.org/debian buster/main amd64 libpython3-stdlib amd64 3.7.3-1 [20.0 kB]\\nGet:5 http://deb.debian.org/debian buster/main amd64 python3 amd64 3.7.3-1 [61.5 kB]\\nGet:6 http://security.debian.org/debian-security buster/updates/main amd64 python3.7-minimal amd64 3.7.3-2+deb10u4 [1736 kB]\\nGet:7 http://security.debian.org/debian-security buster/updates/main amd64 libpython3.7-stdlib amd64 3.7.3-2+deb10u4 [1733 kB]\\nGet:8 http://security.debian.org/debian-security buster/updates/main amd64 python3.7 amd64 3.7.3-2+deb10u4 [330 kB]\\nFetched 4593 kB in 0s (49.9 MB/s)\\nSelecting previously unselected package libpython3.7-minimal:amd64.\\r\\n(Reading database ... \\r(Reading database ... 5%\\r(Reading database ... 10%\\r(Reading database ... 15%\\r(Reading database ... 20%\\r(Reading database ... 25%\\r(Reading database ... 30%\\r(Reading database ... 35%\\r(Reading database ... 40%\\r(Reading database ... 45%\\r(Reading database ... 50%\\r(Reading database ... 55%\\r(Reading database ... 60%\\r(Reading database ... 65%\\r(Reading database ... 70%\\r(Reading database ... 75%\\r(Reading database ... 80%\\r(Reading database ... 85%\\r(Reading database ... 90%\\r(Reading database ... 95%\\r(Reading database ... 100%\\r(Reading database ... 30137 files and directories currently installed.)\\r\\nPreparing to unpack .../libpython3.7-minimal_3.7.3-2+deb10u4_amd64.deb ...\\r\\nUnpacking libpython3.7-minimal:amd64 (3.7.3-2+deb10u4) ...\\r\\nSelecting previously unselected package python3.7-minimal.\\r\\nPreparing to unpack .../python3.7-minimal_3.7.3-2+deb10u4_amd64.deb ...\\r\\nUnpacking python3.7-minimal (3.7.3-2+deb10u4) ...\\r\\nSetting up libpython3.7-minimal:amd64 (3.7.3-2+deb10u4) ...\\r\\nSetting up python3.7-minimal (3.7.3-2+deb10u4) ...\\r\\nSelecting previously unselected package python3-minimal.\\r\\n(Reading database ... \\r(Reading database ... 5%\\r(Reading database ... 10%\\r(Reading database ... 15%\\r(Reading database ... 20%\\r(Reading database ... 25%\\r(Reading database ... 30%\\r(Reading database ... 35%\\r(Reading database ... 40%\\r(Reading database ... 45%\\r(Reading database ... 50%\\r(Reading database ... 55%\\r(Reading database ... 60%\\r(Reading database ... 65%\\r(Reading database ... 70%\\r(Reading database ... 75%\\r(Reading database ... 80%\\r(Reading database ... 85%\\r(Reading database ... 90%\\r(Reading database ... 95%\\r(Reading database ... 100%\\r(Reading database ... 30377 files and directories currently installed.)\\r\\nPreparing to unpack .../python3-minimal_3.7.3-1_amd64.deb ...\\r\\nUnpacking python3-minimal (3.7.3-1) ...\\r\\nSelecting previously unselected package libmpdec2:amd64.\\r\\nPreparing to unpack .../libmpdec2_2.4.2-2_amd64.deb ...\\r\\nUnpacking libmpdec2:amd64 (2.4.2-2) ...\\r\\nSelecting previously unselected package libpython3.7-stdlib:amd64.\\r\\nPreparing to unpack .../libpython3.7-stdlib_3.7.3-2+deb10u4_amd64.deb ...\\r\\nUnpacking libpython3.7-stdlib:amd64 (3.7.3-2+deb10u4) ...\\r\\nSelecting previously unselected package python3.7.\\r\\nPreparing to unpack .../python3.7_3.7.3-2+deb10u4_amd64.deb ...\\r\\nUnpacking python3.7 (3.7.3-2+deb10u4) ...\\r\\nSelecting previously unselected package libpython3-stdlib:amd64.\\r\\nPreparing to unpack .../libpython3-stdlib_3.7.3-1_amd64.deb ...\\r\\nUnpacking libpython3-stdlib:amd64 (3.7.3-1) ...\\r\\nSetting up python3-minimal (3.7.3-1) ...\\r\\nSelecting previously unselected package python3.\\r\\n(Reading database ... \\r(Reading database ... 5%\\r(Reading database ... 10%\\r(Reading database ... 15%\\r(Reading database ... 20%\\r(Reading database ... 25%\\r(Reading database ... 30%\\r(Reading database ... 35%\\r(Reading database ... 40%\\r(Reading database ... 45%\\r(Reading database ... 50%\\r(Reading database ... 55%\\r(Reading database ... 60%\\r(Reading database ... 65%\\r(Reading database ... 70%\\r(Reading database ... 75%\\r(Reading database ... 80%\\r(Reading database ... 85%\\r(Reading database ... 90%\\r(Reading database ... 95%\\r(Reading database ... 100%\\r(Reading database ... 30789 files and directories currently installed.)\\r\\nPreparing to unpack .../python3_3.7.3-1_amd64.deb ...\\r\\nUnpacking python3 (3.7.3-1) ...\\r\\nSetting up libmpdec2:amd64 (2.4.2-2) ...\\r\\nSetting up libpython3.7-stdlib:amd64 (3.7.3-2+deb10u4) ...\\r\\nSetting up libpython3-stdlib:amd64 (3.7.3-1) ...\\r\\nSetting up python3.7 (3.7.3-2+deb10u4) ...\\r\\nSetting up python3 (3.7.3-1) ...\\r\\nrunning python rtupdate hooks for python3.7...\\r\\nrunning python post-rtupdate hooks for python3.7...\\r\\nProcessing triggers for libc-bin (2.28-10) ...\\r\\nProcessing triggers for mime-support (3.62) ...\\r\\nReading package lists...\\nBuilding dependency tree...\\nReading state information...\\nThe following additional packages will be installed:\\n  binutils binutils-common binutils-x86-64-linux-gnu build-essential cpp cpp-8\\n  dh-python dirmngr dpkg-dev fakeroot g++ g++-8 gcc gcc-8 gir1.2-glib-2.0\\n  gnupg gnupg-l10n gnupg-utils gpg gpg-agent gpg-wks-client gpg-wks-server\\n  gpgconf gpgsm gpgv libalgorithm-diff-perl libalgorithm-diff-xs-perl\\n  libalgorithm-merge-perl libasan5 libassuan0 libatomic1 libbinutils libcc1-0\\n  libdpkg-perl libexpat1 libexpat1-dev libfakeroot libfile-fcntllock-perl\\n  libgcc-8-dev libgirepository-1.0-1 libisl19 libitm1 libksba8\\n  liblocale-gettext-perl liblsan0 libmpc3 libmpfr6 libmpx2 libnpth0\\n  libpython3-dev libpython3.7 libpython3.7-dev libquadmath0 libstdc++-8-dev\\n  libtsan0 libubsan1 make pinentry-curses python-pip-whl python3-asn1crypto\\n  python3-cffi-backend python3-crypto python3-cryptography python3-dbus\\n  python3-dev python3-distutils python3-entrypoints python3-gi python3-keyring\\n  python3-keyrings.alt python3-lib2to3 python3-pkg-resources\\n  python3-secretstorage python3-setuptools python3-six python3-wheel\\n  python3-xdg python3.7-dev\\nSuggested packages:\\n  binutils-doc cpp-doc gcc-8-locales pinentry-gnome3 tor debian-keyring\\n  g++-multilib g++-8-multilib gcc-8-doc libstdc++6-8-dbg gcc-multilib autoconf\\n  automake libtool flex bison gdb gcc-doc gcc-8-multilib libgcc1-dbg\\n  libgomp1-dbg libitm1-dbg libatomic1-dbg libasan5-dbg liblsan0-dbg\\n  libtsan0-dbg libubsan1-dbg libmpx2-dbg libquadmath0-dbg parcimonie\\n  xloadimage scdaemon bzr libstdc++-8-doc make-doc pinentry-doc\\n  python-crypto-doc python-cryptography-doc python3-cryptography-vectors\\n  python-dbus-doc python3-dbus-dbg gnome-keyring libkf5wallet-bin\\n  gir1.2-gnomekeyring-1.0 python-secretstorage-doc python-setuptools-doc\\nThe following NEW packages will be installed:\\n  binutils binutils-common binutils-x86-64-linux-gnu build-essential cpp cpp-8\\n  dh-python dirmngr dpkg-dev fakeroot g++ g++-8 gcc gcc-8 gir1.2-glib-2.0\\n  gnupg gnupg-l10n gnupg-utils gpg gpg-agent gpg-wks-client gpg-wks-server\\n  gpgconf gpgsm libalgorithm-diff-perl libalgorithm-diff-xs-perl\\n  libalgorithm-merge-perl libasan5 libassuan0 libatomic1 libbinutils libcc1-0\\n  libdpkg-perl libexpat1-dev libfakeroot libfile-fcntllock-perl libgcc-8-dev\\n  libgirepository-1.0-1 libisl19 libitm1 libksba8 liblocale-gettext-perl\\n  liblsan0 libmpc3 libmpfr6 libmpx2 libnpth0 libpython3-dev libpython3.7\\n  libpython3.7-dev libquadmath0 libstdc++-8-dev libtsan0 libubsan1 make\\n  pinentry-curses python-pip-whl python3-asn1crypto python3-cffi-backend\\n  python3-crypto python3-cryptography python3-dbus python3-dev\\n  python3-distutils python3-entrypoints python3-gi python3-keyring\\n  python3-keyrings.alt python3-lib2to3 python3-pip python3-pkg-resources\\n  python3-secretstorage python3-setuptools python3-six python3-wheel\\n  python3-xdg python3.7-dev\\nThe following packages will be upgraded:\\n  gpgv libexpat1\\n2 upgraded, 77 newly installed, 0 to remove and 52 not upgraded.\\nNeed to get 105 MB of archives.\\nAfter this operation, 275 MB of additional disk space will be used.\\nGet:1 http://security.debian.org/debian-security buster/updates/main amd64 libksba8 amd64 1.3.5-2+deb10u1 [102 kB]\\nGet:2 http://deb.debian.org/debian buster/main amd64 liblocale-gettext-perl amd64 1.07-3+b4 [18.9 kB]\\nGet:3 http://deb.debian.org/debian buster/main amd64 gpgv amd64 2.2.12-1+deb10u2 [584 kB]\\nGet:4 http://security.debian.org/debian-security buster/updates/main amd64 libexpat1 amd64 2.2.6-2+deb10u6 [108 kB]\\nGet:5 http://security.debian.org/debian-security buster/updates/main amd64 libexpat1-dev amd64 2.2.6-2+deb10u6 [155 kB]\\nGet:6 http://security.debian.org/debian-security buster/updates/main amd64 libpython3.7 amd64 3.7.3-2+deb10u4 [1498 kB]\\nGet:7 http://deb.debian.org/debian buster/main amd64 binutils-common amd64 2.31.1-16 [2073 kB]\\nGet:8 http://security.debian.org/debian-security buster/updates/main amd64 libpython3.7-dev amd64 3.7.3-2+deb10u4 [48.4 MB]\\nGet:9 http://deb.debian.org/debian buster/main amd64 libbinutils amd64 2.31.1-16 [478 kB]\\nGet:10 http://deb.debian.org/debian buster/main amd64 binutils-x86-64-linux-gnu amd64 2.31.1-16 [1823 kB]\\nGet:11 http://deb.debian.org/debian buster/main amd64 binutils amd64 2.31.1-16 [56.8 kB]\\nGet:12 http://deb.debian.org/debian buster/main amd64 libisl19 amd64 0.20-2 [587 kB]\\nGet:13 http://deb.debian.org/debian buster/main amd64 libmpfr6 amd64 4.0.2-1 [775 kB]\\nGet:14 http://deb.debian.org/debian buster/main amd64 libmpc3 amd64 1.1.0-1 [41.3 kB]\\nGet:15 http://deb.debian.org/debian buster/main amd64 cpp-8 amd64 8.3.0-6 [8914 kB]\\nGet:16 http://deb.debian.org/debian buster/main amd64 cpp amd64 4:8.3.0-1 [19.4 kB]\\nGet:17 http://deb.debian.org/debian buster/main amd64 libcc1-0 amd64 8.3.0-6 [46.6 kB]\\nGet:18 http://deb.debian.org/debian buster/main amd64 libitm1 amd64 8.3.0-6 [27.7 kB]\\nGet:19 http://deb.debian.org/debian buster/main amd64 libatomic1 amd64 8.3.0-6 [9032 B]\\nGet:20 http://deb.debian.org/debian buster/main amd64 libasan5 amd64 8.3.0-6 [362 kB]\\nGet:21 http://deb.debian.org/debian buster/main amd64 liblsan0 amd64 8.3.0-6 [131 kB]\\nGet:22 http://deb.debian.org/debian buster/main amd64 libtsan0 amd64 8.3.0-6 [283 kB]\\nGet:23 http://deb.debian.org/debian buster/main amd64 libubsan1 amd64 8.3.0-6 [120 kB]\\nGet:24 http://deb.debian.org/debian buster/main amd64 libmpx2 amd64 8.3.0-6 [11.4 kB]\\nGet:25 http://deb.debian.org/debian buster/main amd64 libquadmath0 amd64 8.3.0-6 [133 kB]\\nGet:26 http://deb.debian.org/debian buster/main amd64 libgcc-8-dev amd64 8.3.0-6 [2298 kB]\\nGet:27 http://deb.debian.org/debian buster/main amd64 gcc-8 amd64 8.3.0-6 [9452 kB]\\nGet:28 http://deb.debian.org/debian buster/main amd64 gcc amd64 4:8.3.0-1 [5196 B]\\nGet:29 http://deb.debian.org/debian buster/main amd64 libstdc++-8-dev amd64 8.3.0-6 [1532 kB]\\nGet:30 http://deb.debian.org/debian buster/main amd64 g++-8 amd64 8.3.0-6 [9752 kB]\\nGet:31 http://deb.debian.org/debian buster/main amd64 g++ amd64 4:8.3.0-1 [1644 B]\\nGet:32 http://deb.debian.org/debian buster/main amd64 make amd64 4.2.1-1.2 [341 kB]\\nGet:33 http://deb.debian.org/debian buster/main amd64 libdpkg-perl all 1.19.8 [1415 kB]\\nGet:34 http://deb.debian.org/debian buster/main amd64 dpkg-dev all 1.19.8 [1776 kB]\\nGet:35 http://deb.debian.org/debian buster/main amd64 build-essential amd64 12.6 [7576 B]\\nGet:36 http://deb.debian.org/debian buster/main amd64 python3-lib2to3 all 3.7.3-1 [76.7 kB]\\nGet:37 http://deb.debian.org/debian buster/main amd64 python3-distutils all 3.7.3-1 [142 kB]\\nGet:38 http://deb.debian.org/debian buster/main amd64 dh-python all 3.20190308 [99.3 kB]\\nGet:39 http://deb.debian.org/debian buster/main amd64 libassuan0 amd64 2.5.2-1 [49.4 kB]\\nGet:40 http://deb.debian.org/debian buster/main amd64 gpgconf amd64 2.2.12-1+deb10u2 [510 kB]\\nGet:41 http://deb.debian.org/debian buster/main amd64 libnpth0 amd64 1.6-1 [18.4 kB]\\nGet:42 http://deb.debian.org/debian buster/main amd64 dirmngr amd64 2.2.12-1+deb10u2 [712 kB]\\nGet:43 http://deb.debian.org/debian buster/main amd64 libfakeroot amd64 1.23-1 [45.9 kB]\\nGet:44 http://deb.debian.org/debian buster/main amd64 fakeroot amd64 1.23-1 [85.8 kB]\\nGet:45 http://deb.debian.org/debian buster/main amd64 libgirepository-1.0-1 amd64 1.58.3-2 [92.8 kB]\\nGet:46 http://deb.debian.org/debian buster/main amd64 gir1.2-glib-2.0 amd64 1.58.3-2 [143 kB]\\nGet:47 http://deb.debian.org/debian buster/main amd64 gnupg-l10n all 2.2.12-1+deb10u2 [1009 kB]\\nGet:48 http://security.debian.org/debian-security buster/updates/main amd64 python3.7-dev amd64 3.7.3-2+deb10u4 [513 kB]\\nGet:49 http://deb.debian.org/debian buster/main amd64 gnupg-utils amd64 2.2.12-1+deb10u2 [861 kB]\\nGet:50 http://deb.debian.org/debian buster/main amd64 gpg amd64 2.2.12-1+deb10u2 [865 kB]\\nGet:51 http://deb.debian.org/debian buster/main amd64 pinentry-curses amd64 1.1.0-2 [64.5 kB]\\nGet:52 http://deb.debian.org/debian buster/main amd64 gpg-agent amd64 2.2.12-1+deb10u2 [617 kB]\\nGet:53 http://deb.debian.org/debian buster/main amd64 gpg-wks-client amd64 2.2.12-1+deb10u2 [485 kB]\\nGet:54 http://deb.debian.org/debian buster/main amd64 gpg-wks-server amd64 2.2.12-1+deb10u2 [478 kB]\\nGet:55 http://deb.debian.org/debian buster/main amd64 gpgsm amd64 2.2.12-1+deb10u2 [604 kB]\\nGet:56 http://deb.debian.org/debian buster/main amd64 gnupg all 2.2.12-1+deb10u2 [715 kB]\\nGet:57 http://deb.debian.org/debian buster/main amd64 libalgorithm-diff-perl all 1.19.03-2 [47.9 kB]\\nGet:58 http://deb.debian.org/debian buster/main amd64 libalgorithm-diff-xs-perl amd64 0.04-5+b1 [11.8 kB]\\nGet:59 http://deb.debian.org/debian buster/main amd64 libalgorithm-merge-perl all 0.08-3 [12.7 kB]\\nGet:60 http://deb.debian.org/debian buster/main amd64 libfile-fcntllock-perl amd64 0.22-3+b5 [35.4 kB]\\nGet:61 http://deb.debian.org/debian buster/main amd64 libpython3-dev amd64 3.7.3-1 [20.1 kB]\\nGet:62 http://deb.debian.org/debian buster/main amd64 python-pip-whl all 18.1-5 [1591 kB]\\nGet:63 http://deb.debian.org/debian buster/main amd64 python3-asn1crypto all 0.24.0-1 [78.2 kB]\\nGet:64 http://deb.debian.org/debian buster/main amd64 python3-cffi-backend amd64 1.12.2-1 [79.7 kB]\\nGet:65 http://deb.debian.org/debian buster/main amd64 python3-crypto amd64 2.6.1-9+b1 [263 kB]\\nGet:66 http://deb.debian.org/debian buster/main amd64 python3-six all 1.12.0-1 [15.7 kB]\\nGet:67 http://deb.debian.org/debian buster/main amd64 python3-cryptography amd64 2.6.1-3+deb10u2 [219 kB]\\nGet:68 http://deb.debian.org/debian buster/main amd64 python3-dbus amd64 1.2.8-3 [103 kB]\\nGet:69 http://deb.debian.org/debian buster/main amd64 python3-dev amd64 3.7.3-1 [1264 B]\\nGet:70 http://deb.debian.org/debian buster/main amd64 python3-entrypoints all 0.3-1 [5508 B]\\nGet:71 http://deb.debian.org/debian buster/main amd64 python3-gi amd64 3.30.4-1 [180 kB]\\nGet:72 http://deb.debian.org/debian buster/main amd64 python3-secretstorage all 2.3.1-2 [14.2 kB]\\nGet:73 http://deb.debian.org/debian buster/main amd64 python3-keyring all 17.1.1-1 [43.1 kB]\\nGet:74 http://deb.debian.org/debian buster/main amd64 python3-keyrings.alt all 3.1.1-1 [18.2 kB]\\nGet:75 http://deb.debian.org/debian buster/main amd64 python3-pip all 18.1-5 [171 kB]\\nGet:76 http://deb.debian.org/debian buster/main amd64 python3-pkg-resources all 40.8.0-1 [153 kB]\\nGet:77 http://deb.debian.org/debian buster/main amd64 python3-setuptools all 40.8.0-1 [306 kB]\\nGet:78 http://deb.debian.org/debian buster/main amd64 python3-wheel all 0.32.3-2 [19.4 kB]\\nGet:79 http://deb.debian.org/debian buster/main amd64 python3-xdg all 0.25-5 [35.9 kB]\\nFetched 105 MB in 1s (179 MB/s)\\nSelecting previously unselected package liblocale-gettext-perl.\\r\\n(Reading database ... \\r(Reading database ... 5%\\r(Reading database ... 10%\\r(Reading database ... 15%\\r(Reading database ... 20%\\r(Reading database ... 25%\\r(Reading database ... 30%\\r(Reading database ... 35%\\r(Reading database ... 40%\\r(Reading database ... 45%\\r(Reading database ... 50%\\r(Reading database ... 55%\\r(Reading database ... 60%\\r(Reading database ... 65%\\r(Reading database ... 70%\\r(Reading database ... 75%\\r(Reading database ... 80%\\r(Reading database ... 85%\\r(Reading database ... 90%\\r(Reading database ... 95%\\r(Reading database ... 100%\\r(Reading database ... 30822 files and directories currently installed.)\\r\\nPreparing to unpack .../liblocale-gettext-perl_1.07-3+b4_amd64.deb ...\\r\\nUnpacking liblocale-gettext-perl (1.07-3+b4) ...\\r\\nPreparing to unpack .../gpgv_2.2.12-1+deb10u2_amd64.deb ...\\r\\nUnpacking gpgv (2.2.12-1+deb10u2) over (2.2.12-1+deb10u1) ...\\r\\nSetting up gpgv (2.2.12-1+deb10u2) ...\\r\\nSelecting previously unselected package binutils-common:amd64.\\r\\n(Reading database ... \\r(Reading database ... 5%\\r(Reading database ... 10%\\r(Reading database ... 15%\\r(Reading database ... 20%\\r(Reading database ... 25%\\r(Reading database ... 30%\\r(Reading database ... 35%\\r(Reading database ... 40%\\r(Reading database ... 45%\\r(Reading database ... 50%\\r(Reading database ... 55%\\r(Reading database ... 60%\\r(Reading database ... 65%\\r(Reading database ... 70%\\r(Reading database ... 75%\\r(Reading database ... 80%\\r(Reading database ... 85%\\r(Reading database ... 90%\\r(Reading database ... 95%\\r(Reading database ... 100%\\r(Reading database ... 30837 files and directories currently installed.)\\r\\nPreparing to unpack .../00-binutils-common_2.31.1-16_amd64.deb ...\\r\\nUnpacking binutils-common:amd64 (2.31.1-16) ...\\r\\nSelecting previously unselected package libbinutils:amd64.\\r\\nPreparing to unpack .../01-libbinutils_2.31.1-16_amd64.deb ...\\r\\nUnpacking libbinutils:amd64 (2.31.1-16) ...\\r\\nSelecting previously unselected package binutils-x86-64-linux-gnu.\\r\\nPreparing to unpack .../02-binutils-x86-64-linux-gnu_2.31.1-16_amd64.deb ...\\r\\nUnpacking binutils-x86-64-linux-gnu (2.31.1-16) ...\\r\\nSelecting previously unselected package binutils.\\r\\nPreparing to unpack .../03-binutils_2.31.1-16_amd64.deb ...\\r\\nUnpacking binutils (2.31.1-16) ...\\r\\nSelecting previously unselected package libisl19:amd64.\\r\\nPreparing to unpack .../04-libisl19_0.20-2_amd64.deb ...\\r\\nUnpacking libisl19:amd64 (0.20-2) ...\\r\\nSelecting previously unselected package libmpfr6:amd64.\\r\\nPreparing to unpack .../05-libmpfr6_4.0.2-1_amd64.deb ...\\r\\nUnpacking libmpfr6:amd64 (4.0.2-1) ...\\r\\nSelecting previously unselected package libmpc3:amd64.\\r\\nPreparing to unpack .../06-libmpc3_1.1.0-1_amd64.deb ...\\r\\nUnpacking libmpc3:amd64 (1.1.0-1) ...\\r\\nSelecting previously unselected package cpp-8.\\r\\nPreparing to unpack .../07-cpp-8_8.3.0-6_amd64.deb ...\\r\\nUnpacking cpp-8 (8.3.0-6) ...\\r\\nSelecting previously unselected package cpp.\\r\\nPreparing to unpack .../08-cpp_4%3a8.3.0-1_amd64.deb ...\\r\\nUnpacking cpp (4:8.3.0-1) ...\\r\\nSelecting previously unselected package libcc1-0:amd64.\\r\\nPreparing to unpack .../09-libcc1-0_8.3.0-6_amd64.deb ...\\r\\nUnpacking libcc1-0:amd64 (8.3.0-6) ...\\r\\nSelecting previously unselected package libitm1:amd64.\\r\\nPreparing to unpack .../10-libitm1_8.3.0-6_amd64.deb ...\\r\\nUnpacking libitm1:amd64 (8.3.0-6) ...\\r\\nSelecting previously unselected package libatomic1:amd64.\\r\\nPreparing to unpack .../11-libatomic1_8.3.0-6_amd64.deb ...\\r\\nUnpacking libatomic1:amd64 (8.3.0-6) ...\\r\\nSelecting previously unselected package libasan5:amd64.\\r\\nPreparing to unpack .../12-libasan5_8.3.0-6_amd64.deb ...\\r\\nUnpacking libasan5:amd64 (8.3.0-6) ...\\r\\nSelecting previously unselected package liblsan0:amd64.\\r\\nPreparing to unpack .../13-liblsan0_8.3.0-6_amd64.deb ...\\r\\nUnpacking liblsan0:amd64 (8.3.0-6) ...\\r\\nSelecting previously unselected package libtsan0:amd64.\\r\\nPreparing to unpack .../14-libtsan0_8.3.0-6_amd64.deb ...\\r\\nUnpacking libtsan0:amd64 (8.3.0-6) ...\\r\\nSelecting previously unselected package libubsan1:amd64.\\r\\nPreparing to unpack .../15-libubsan1_8.3.0-6_amd64.deb ...\\r\\nUnpacking libubsan1:amd64 (8.3.0-6) ...\\r\\nSelecting previously unselected package libmpx2:amd64.\\r\\nPreparing to unpack .../16-libmpx2_8.3.0-6_amd64.deb ...\\r\\nUnpacking libmpx2:amd64 (8.3.0-6) ...\\r\\nSelecting previously unselected package libquadmath0:amd64.\\r\\nPreparing to unpack .../17-libquadmath0_8.3.0-6_amd64.deb ...\\r\\nUnpacking libquadmath0:amd64 (8.3.0-6) ...\\r\\nSelecting previously unselected package libgcc-8-dev:amd64.\\r\\nPreparing to unpack .../18-libgcc-8-dev_8.3.0-6_amd64.deb ...\\r\\nUnpacking libgcc-8-dev:amd64 (8.3.0-6) ...\\r\\nSelecting previously unselected package gcc-8.\\r\\nPreparing to unpack .../19-gcc-8_8.3.0-6_amd64.deb ...\\r\\nUnpacking gcc-8 (8.3.0-6) ...\\r\\nSelecting previously unselected package gcc.\\r\\nPreparing to unpack .../20-gcc_4%3a8.3.0-1_amd64.deb ...\\r\\nUnpacking gcc (4:8.3.0-1) ...\\r\\nSelecting previously unselected package libstdc++-8-dev:amd64.\\r\\nPreparing to unpack .../21-libstdc++-8-dev_8.3.0-6_amd64.deb ...\\r\\nUnpacking libstdc++-8-dev:amd64 (8.3.0-6) ...\\r\\nSelecting previously unselected package g++-8.\\r\\nPreparing to unpack .../22-g++-8_8.3.0-6_amd64.deb ...\\r\\nUnpacking g++-8 (8.3.0-6) ...\\r\\nSelecting previously unselected package g++.\\r\\nPreparing to unpack .../23-g++_4%3a8.3.0-1_amd64.deb ...\\r\\nUnpacking g++ (4:8.3.0-1) ...\\r\\nSelecting previously unselected package make.\\r\\nPreparing to unpack .../24-make_4.2.1-1.2_amd64.deb ...\\r\\nUnpacking make (4.2.1-1.2) ...\\r\\nSelecting previously unselected package libdpkg-perl.\\r\\nPreparing to unpack .../25-libdpkg-perl_1.19.8_all.deb ...\\r\\nUnpacking libdpkg-perl (1.19.8) ...\\r\\nSelecting previously unselected package dpkg-dev.\\r\\nPreparing to unpack .../26-dpkg-dev_1.19.8_all.deb ...\\r\\nUnpacking dpkg-dev (1.19.8) ...\\r\\nSelecting previously unselected package build-essential.\\r\\nPreparing to unpack .../27-build-essential_12.6_amd64.deb ...\\r\\nUnpacking build-essential (12.6) ...\\r\\nSelecting previously unselected package python3-lib2to3.\\r\\nPreparing to unpack .../28-python3-lib2to3_3.7.3-1_all.deb ...\\r\\nUnpacking python3-lib2to3 (3.7.3-1) ...\\r\\nSelecting previously unselected package python3-distutils.\\r\\nPreparing to unpack .../29-python3-distutils_3.7.3-1_all.deb ...\\r\\nUnpacking python3-distutils (3.7.3-1) ...\\r\\nSelecting previously unselected package dh-python.\\r\\nPreparing to unpack .../30-dh-python_3.20190308_all.deb ...\\r\\nUnpacking dh-python (3.20190308) ...\\r\\nSelecting previously unselected package libassuan0:amd64.\\r\\nPreparing to unpack .../31-libassuan0_2.5.2-1_amd64.deb ...\\r\\nUnpacking libassuan0:amd64 (2.5.2-1) ...\\r\\nSelecting previously unselected package gpgconf.\\r\\nPreparing to unpack .../32-gpgconf_2.2.12-1+deb10u2_amd64.deb ...\\r\\nUnpacking gpgconf (2.2.12-1+deb10u2) ...\\r\\nSelecting previously unselected package libksba8:amd64.\\r\\nPreparing to unpack .../33-libksba8_1.3.5-2+deb10u1_amd64.deb ...\\r\\nUnpacking libksba8:amd64 (1.3.5-2+deb10u1) ...\\r\\nSelecting previously unselected package libnpth0:amd64.\\r\\nPreparing to unpack .../34-libnpth0_1.6-1_amd64.deb ...\\r\\nUnpacking libnpth0:amd64 (1.6-1) ...\\r\\nSelecting previously unselected package dirmngr.\\r\\nPreparing to unpack .../35-dirmngr_2.2.12-1+deb10u2_amd64.deb ...\\r\\nUnpacking dirmngr (2.2.12-1+deb10u2) ...\\r\\nSelecting previously unselected package libfakeroot:amd64.\\r\\nPreparing to unpack .../36-libfakeroot_1.23-1_amd64.deb ...\\r\\nUnpacking libfakeroot:amd64 (1.23-1) ...\\r\\nSelecting previously unselected package fakeroot.\\r\\nPreparing to unpack .../37-fakeroot_1.23-1_amd64.deb ...\\r\\nUnpacking fakeroot (1.23-1) ...\\r\\nSelecting previously unselected package libgirepository-1.0-1:amd64.\\r\\nPreparing to unpack .../38-libgirepository-1.0-1_1.58.3-2_amd64.deb ...\\r\\nUnpacking libgirepository-1.0-1:amd64 (1.58.3-2) ...\\r\\nSelecting previously unselected package gir1.2-glib-2.0:amd64.\\r\\nPreparing to unpack .../39-gir1.2-glib-2.0_1.58.3-2_amd64.deb ...\\r\\nUnpacking gir1.2-glib-2.0:amd64 (1.58.3-2) ...\\r\\nSelecting previously unselected package gnupg-l10n.\\r\\nPreparing to unpack .../40-gnupg-l10n_2.2.12-1+deb10u2_all.deb ...\\r\\nUnpacking gnupg-l10n (2.2.12-1+deb10u2) ...\\r\\nSelecting previously unselected package gnupg-utils.\\r\\nPreparing to unpack .../41-gnupg-utils_2.2.12-1+deb10u2_amd64.deb ...\\r\\nUnpacking gnupg-utils (2.2.12-1+deb10u2) ...\\r\\nSelecting previously unselected package gpg.\\r\\nPreparing to unpack .../42-gpg_2.2.12-1+deb10u2_amd64.deb ...\\r\\nUnpacking gpg (2.2.12-1+deb10u2) ...\\r\\nSelecting previously unselected package pinentry-curses.\\r\\nPreparing to unpack .../43-pinentry-curses_1.1.0-2_amd64.deb ...\\r\\nUnpacking pinentry-curses (1.1.0-2) ...\\r\\nSelecting previously unselected package gpg-agent.\\r\\nPreparing to unpack .../44-gpg-agent_2.2.12-1+deb10u2_amd64.deb ...\\r\\nUnpacking gpg-agent (2.2.12-1+deb10u2) ...\\r\\nSelecting previously unselected package gpg-wks-client.\\r\\nPreparing to unpack .../45-gpg-wks-client_2.2.12-1+deb10u2_amd64.deb ...\\r\\nUnpacking gpg-wks-client (2.2.12-1+deb10u2) ...\\r\\nSelecting previously unselected package gpg-wks-server.\\r\\nPreparing to unpack .../46-gpg-wks-server_2.2.12-1+deb10u2_amd64.deb ...\\r\\nUnpacking gpg-wks-server (2.2.12-1+deb10u2) ...\\r\\nSelecting previously unselected package gpgsm.\\r\\nPreparing to unpack .../47-gpgsm_2.2.12-1+deb10u2_amd64.deb ...\\r\\nUnpacking gpgsm (2.2.12-1+deb10u2) ...\\r\\nSelecting previously unselected package gnupg.\\r\\nPreparing to unpack .../48-gnupg_2.2.12-1+deb10u2_all.deb ...\\r\\nUnpacking gnupg (2.2.12-1+deb10u2) ...\\r\\nSelecting previously unselected package libalgorithm-diff-perl.\\r\\nPreparing to unpack .../49-libalgorithm-diff-perl_1.19.03-2_all.deb ...\\r\\nUnpacking libalgorithm-diff-perl (1.19.03-2) ...\\r\\nSelecting previously unselected package libalgorithm-diff-xs-perl.\\r\\nPreparing to unpack .../50-libalgorithm-diff-xs-perl_0.04-5+b1_amd64.deb ...\\r\\nUnpacking libalgorithm-diff-xs-perl (0.04-5+b1) ...\\r\\nSelecting previously unselected package libalgorithm-merge-perl.\\r\\nPreparing to unpack .../51-libalgorithm-merge-perl_0.08-3_all.deb ...\\r\\nUnpacking libalgorithm-merge-perl (0.08-3) ...\\r\\nPreparing to unpack .../52-libexpat1_2.2.6-2+deb10u6_amd64.deb ...\\r\\nUnpacking libexpat1:amd64 (2.2.6-2+deb10u6) over (2.2.6-2+deb10u1) ...\\r\\nSelecting previously unselected package libexpat1-dev:amd64.\\r\\nPreparing to unpack .../53-libexpat1-dev_2.2.6-2+deb10u6_amd64.deb ...\\r\\nUnpacking libexpat1-dev:amd64 (2.2.6-2+deb10u6) ...\\r\\nSelecting previously unselected package libfile-fcntllock-perl.\\r\\nPreparing to unpack .../54-libfile-fcntllock-perl_0.22-3+b5_amd64.deb ...\\r\\nUnpacking libfile-fcntllock-perl (0.22-3+b5) ...\\r\\nSelecting previously unselected package libpython3.7:amd64.\\r\\nPreparing to unpack .../55-libpython3.7_3.7.3-2+deb10u4_amd64.deb ...\\r\\nUnpacking libpython3.7:amd64 (3.7.3-2+deb10u4) ...\\r\\nSelecting previously unselected package libpython3.7-dev:amd64.\\r\\nPreparing to unpack .../56-libpython3.7-dev_3.7.3-2+deb10u4_amd64.deb ...\\r\\nUnpacking libpython3.7-dev:amd64 (3.7.3-2+deb10u4) ...\\r\\nSelecting previously unselected package libpython3-dev:amd64.\\r\\nPreparing to unpack .../57-libpython3-dev_3.7.3-1_amd64.deb ...\\r\\nUnpacking libpython3-dev:amd64 (3.7.3-1) ...\\r\\nSelecting previously unselected package python-pip-whl.\\r\\nPreparing to unpack .../58-python-pip-whl_18.1-5_all.deb ...\\r\\nUnpacking python-pip-whl (18.1-5) ...\\r\\nSelecting previously unselected package python3-asn1crypto.\\r\\nPreparing to unpack .../59-python3-asn1crypto_0.24.0-1_all.deb ...\\r\\nUnpacking python3-asn1crypto (0.24.0-1) ...\\r\\nSelecting previously unselected package python3-cffi-backend.\\r\\nPreparing to unpack .../60-python3-cffi-backend_1.12.2-1_amd64.deb ...\\r\\nUnpacking python3-cffi-backend (1.12.2-1) ...\\r\\nSelecting previously unselected package python3-crypto.\\r\\nPreparing to unpack .../61-python3-crypto_2.6.1-9+b1_amd64.deb ...\\r\\nUnpacking python3-crypto (2.6.1-9+b1) ...\\r\\nSelecting previously unselected package python3-six.\\r\\nPreparing to unpack .../62-python3-six_1.12.0-1_all.deb ...\\r\\nUnpacking python3-six (1.12.0-1) ...\\r\\nSelecting previously unselected package python3-cryptography.\\r\\nPreparing to unpack .../63-python3-cryptography_2.6.1-3+deb10u2_amd64.deb ...\\r\\nUnpacking python3-cryptography (2.6.1-3+deb10u2) ...\\r\\nSelecting previously unselected package python3-dbus.\\r\\nPreparing to unpack .../64-python3-dbus_1.2.8-3_amd64.deb ...\\r\\nUnpacking python3-dbus (1.2.8-3) ...\\r\\nSelecting previously unselected package python3.7-dev.\\r\\nPreparing to unpack .../65-python3.7-dev_3.7.3-2+deb10u4_amd64.deb ...\\r\\nUnpacking python3.7-dev (3.7.3-2+deb10u4) ...\\r\\nSelecting previously unselected package python3-dev.\\r\\nPreparing to unpack .../66-python3-dev_3.7.3-1_amd64.deb ...\\r\\nUnpacking python3-dev (3.7.3-1) ...\\r\\nSelecting previously unselected package python3-entrypoints.\\r\\nPreparing to unpack .../67-python3-entrypoints_0.3-1_all.deb ...\\r\\nUnpacking python3-entrypoints (0.3-1) ...\\r\\nSelecting previously unselected package python3-gi.\\r\\nPreparing to unpack .../68-python3-gi_3.30.4-1_amd64.deb ...\\r\\nUnpacking python3-gi (3.30.4-1) ...\\r\\nSelecting previously unselected package python3-secretstorage.\\r\\nPreparing to unpack .../69-python3-secretstorage_2.3.1-2_all.deb ...\\r\\nUnpacking python3-secretstorage (2.3.1-2) ...\\r\\nSelecting previously unselected package python3-keyring.\\r\\nPreparing to unpack .../70-python3-keyring_17.1.1-1_all.deb ...\\r\\nUnpacking python3-keyring (17.1.1-1) ...\\r\\nSelecting previously unselected package python3-keyrings.alt.\\r\\nPreparing to unpack .../71-python3-keyrings.alt_3.1.1-1_all.deb ...\\r\\nUnpacking python3-keyrings.alt (3.1.1-1) ...\\r\\nSelecting previously unselected package python3-pip.\\r\\nPreparing to unpack .../72-python3-pip_18.1-5_all.deb ...\\r\\nUnpacking python3-pip (18.1-5) ...\\r\\nSelecting previously unselected package python3-pkg-resources.\\r\\nPreparing to unpack .../73-python3-pkg-resources_40.8.0-1_all.deb ...\\r\\nUnpacking python3-pkg-resources (40.8.0-1) ...\\r\\nSelecting previously unselected package python3-setuptools.\\r\\nPreparing to unpack .../74-python3-setuptools_40.8.0-1_all.deb ...\\r\\nUnpacking python3-setuptools (40.8.0-1) ...\\r\\nSelecting previously unselected package python3-wheel.\\r\\nPreparing to unpack .../75-python3-wheel_0.32.3-2_all.deb ...\\r\\nUnpacking python3-wheel (0.32.3-2) ...\\r\\nSelecting previously unselected package python3-xdg.\\r\\nPreparing to unpack .../76-python3-xdg_0.25-5_all.deb ...\\r\\nUnpacking python3-xdg (0.25-5) ...\\r\\nSetting up python3-pkg-resources (40.8.0-1) ...\\r\\nSetting up python3-entrypoints (0.3-1) ...\\r\\nSetting up libksba8:amd64 (1.3.5-2+deb10u1) ...\\r\\nSetting up libexpat1:amd64 (2.2.6-2+deb10u6) ...\\r\\nSetting up python3-dbus (1.2.8-3) ...\\r\\nSetting up libpython3.7:amd64 (3.7.3-2+deb10u4) ...\\r\\nSetting up libfile-fcntllock-perl (0.22-3+b5) ...\\r\\nSetting up libalgorithm-diff-perl (1.19.03-2) ...\\r\\nSetting up binutils-common:amd64 (2.31.1-16) ...\\r\\nSetting up libnpth0:amd64 (1.6-1) ...\\r\\nSetting up libassuan0:amd64 (2.5.2-1) ...\\r\\nSetting up python3-xdg (0.25-5) ...\\r\\nSetting up python3-wheel (0.32.3-2) ...\\r\\nSetting up libfakeroot:amd64 (1.23-1) ...\\r\\nSetting up fakeroot (1.23-1) ...\\r\\nupdate-alternatives: using /usr/bin/fakeroot-sysv to provide /usr/bin/fakeroot (fakeroot) in auto mode\\r\\nupdate-alternatives: warning: skip creation of /usr/share/man/man1/fakeroot.1.gz because associated file /usr/share/man/man1/fakeroot-sysv.1.gz (of link group fakeroot) doesn't exist\\r\\nupdate-alternatives: warning: skip creation of /usr/share/man/man1/faked.1.gz because associated file /usr/share/man/man1/faked-sysv.1.gz (of link group fakeroot) doesn't exist\\r\\nupdate-alternatives: warning: skip creation of /usr/share/man/es/man1/fakeroot.1.gz because associated file /usr/share/man/es/man1/fakeroot-sysv.1.gz (of link group fakeroot) doesn't exist\\r\\nupdate-alternatives: warning: skip creation of /usr/share/man/es/man1/faked.1.gz because associated file /usr/share/man/es/man1/faked-sysv.1.gz (of link group fakeroot) doesn't exist\\r\\nupdate-alternatives: warning: skip creation of /usr/share/man/fr/man1/fakeroot.1.gz because associated file /usr/share/man/fr/man1/fakeroot-sysv.1.gz (of link group fakeroot) doesn't exist\\r\\nupdate-alternatives: warning: skip creation of /usr/share/man/fr/man1/faked.1.gz because associated file /usr/share/man/fr/man1/faked-sysv.1.gz (of link group fakeroot) doesn't exist\\r\\nupdate-alternatives: warning: skip creation of /usr/share/man/sv/man1/fakeroot.1.gz because associated file /usr/share/man/sv/man1/fakeroot-sysv.1.gz (of link group fakeroot) doesn't exist\\r\\nupdate-alternatives: warning: skip creation of /usr/share/man/sv/man1/faked.1.gz because associated file /usr/share/man/sv/man1/faked-sysv.1.gz (of link group fakeroot) doesn't exist\\r\\nSetting up python3-six (1.12.0-1) ...\\r\\nSetting up libasan5:amd64 (8.3.0-6) ...\\r\\nSetting up libexpat1-dev:amd64 (2.2.6-2+deb10u6) ...\\r\\nSetting up make (4.2.1-1.2) ...\\r\\nSetting up libmpfr6:amd64 (4.0.2-1) ...\\r\\nSetting up gnupg-l10n (2.2.12-1+deb10u2) ...\\r\\nSetting up libquadmath0:amd64 (8.3.0-6) ...\\r\\nSetting up libmpc3:amd64 (1.1.0-1) ...\\r\\nSetting up libatomic1:amd64 (8.3.0-6) ...\\r\\nSetting up libdpkg-perl (1.19.8) ...\\r\\nSetting up libmpx2:amd64 (8.3.0-6) ...\\r\\nSetting up libubsan1:amd64 (8.3.0-6) ...\\r\\nSetting up libisl19:amd64 (0.20-2) ...\\r\\nSetting up gpgconf (2.2.12-1+deb10u2) ...\\r\\nSetting up python3-crypto (2.6.1-9+b1) ...\\r\\nSetting up libgirepository-1.0-1:amd64 (1.58.3-2) ...\\r\\nSetting up python-pip-whl (18.1-5) ...\\r\\nSetting up libbinutils:amd64 (2.31.1-16) ...\\r\\nSetting up cpp-8 (8.3.0-6) ...\\r\\nSetting up python3-lib2to3 (3.7.3-1) ...\\r\\nSetting up libalgorithm-diff-xs-perl (0.04-5+b1) ...\\r\\nSetting up python3-asn1crypto (0.24.0-1) ...\\r\\nSetting up libcc1-0:amd64 (8.3.0-6) ...\\r\\nSetting up liblocale-gettext-perl (1.07-3+b4) ...\\r\\nSetting up gpg (2.2.12-1+deb10u2) ...\\r\\nSetting up liblsan0:amd64 (8.3.0-6) ...\\r\\nSetting up libitm1:amd64 (8.3.0-6) ...\\r\\nSetting up python3-cffi-backend (1.12.2-1) ...\\r\\nSetting up libalgorithm-merge-perl (0.08-3) ...\\r\\nSetting up gnupg-utils (2.2.12-1+deb10u2) ...\\r\\nSetting up binutils-x86-64-linux-gnu (2.31.1-16) ...\\r\\nSetting up libtsan0:amd64 (8.3.0-6) ...\\r\\nSetting up python3-distutils (3.7.3-1) ...\\r\\nSetting up dh-python (3.20190308) ...\\r\\nSetting up pinentry-curses (1.1.0-2) ...\\r\\nSetting up gpg-agent (2.2.12-1+deb10u2) ...\\r\\nSetting up python3-setuptools (40.8.0-1) ...\\r\\nSetting up libpython3.7-dev:amd64 (3.7.3-2+deb10u4) ...\\r\\nSetting up gpgsm (2.2.12-1+deb10u2) ...\\r\\nSetting up binutils (2.31.1-16) ...\\r\\nSetting up python3.7-dev (3.7.3-2+deb10u4) ...\\r\\nSetting up dpkg-dev (1.19.8) ...\\r\\nSetting up dirmngr (2.2.12-1+deb10u2) ...\\r\\nSetting up python3-cryptography (2.6.1-3+deb10u2) ...\\r\\nSetting up gir1.2-glib-2.0:amd64 (1.58.3-2) ...\\r\\nSetting up python3-pip (18.1-5) ...\\r\\nSetting up libgcc-8-dev:amd64 (8.3.0-6) ...\\r\\nSetting up gpg-wks-server (2.2.12-1+deb10u2) ...\\r\\nSetting up cpp (4:8.3.0-1) ...\\r\\nSetting up python3-keyrings.alt (3.1.1-1) ...\\r\\nSetting up libstdc++-8-dev:amd64 (8.3.0-6) ...\\r\\nSetting up gcc-8 (8.3.0-6) ...\\r\\nSetting up libpython3-dev:amd64 (3.7.3-1) ...\\r\\nSetting up gpg-wks-client (2.2.12-1+deb10u2) ...\\r\\nSetting up gcc (4:8.3.0-1) ...\\r\\nSetting up python3-secretstorage (2.3.1-2) ...\\r\\nSetting up python3-dev (3.7.3-1) ...\\r\\nSetting up python3-gi (3.30.4-1) ...\\r\\nSetting up g++-8 (8.3.0-6) ...\\r\\nSetting up gnupg (2.2.12-1+deb10u2) ...\\r\\nSetting up python3-keyring (17.1.1-1) ...\\r\\nSetting up g++ (4:8.3.0-1) ...\\r\\nupdate-alternatives: using /usr/bin/g++ to provide /usr/bin/c++ (c++) in auto mode\\r\\nSetting up build-essential (12.6) ...\\r\\nProcessing triggers for libc-bin (2.28-10) ...\\r\\n\"\n",
      "\n"
     ]
    }
   ],
   "source": [
    "from msspackages import setup_runner\n",
    "setup_runner()"
   ]
  },
  {
   "cell_type": "code",
   "execution_count": 11,
   "metadata": {
    "tags": []
   },
   "outputs": [
    {
     "name": "stdout",
     "output_type": "stream",
     "text": [
      "Keyring is skipped due to an exception: 'keyring.backends'\n",
      "Requirement already satisfied: pyspark>=3.3.0 in /opt/conda/lib/python3.7/site-packages (from -r requirements.txt (line 1)) (3.3.1)\n",
      "Requirement already satisfied: pandas>=1.3.5 in /opt/conda/lib/python3.7/site-packages (from -r requirements.txt (line 2)) (1.3.5)\n",
      "Collecting tensorflow>=2.11.0\n",
      "  Using cached tensorflow-2.11.0-cp37-cp37m-manylinux_2_17_x86_64.manylinux2014_x86_64.whl (588.3 MB)\n",
      "Requirement already satisfied: matplotlib>=3.1.3 in /opt/conda/lib/python3.7/site-packages (from -r requirements.txt (line 4)) (3.1.3)\n",
      "Requirement already satisfied: numpy>=1.21.6 in /opt/conda/lib/python3.7/site-packages (from -r requirements.txt (line 5)) (1.21.6)\n",
      "Requirement already satisfied: dill==0.3.6 in /opt/conda/lib/python3.7/site-packages (from -r requirements.txt (line 6)) (0.3.6)\n",
      "Collecting scikit_learn==1.0.2\n",
      "  Using cached scikit_learn-1.0.2-cp37-cp37m-manylinux_2_17_x86_64.manylinux2014_x86_64.whl (24.8 MB)\n",
      "Requirement already satisfied: statsmodels==0.11.0 in /opt/conda/lib/python3.7/site-packages (from -r requirements.txt (line 8)) (0.11.0)\n",
      "Collecting threadpoolctl>=2.0.0\n",
      "  Using cached threadpoolctl-3.1.0-py3-none-any.whl (14 kB)\n",
      "Requirement already satisfied: scipy>=1.1.0 in /opt/conda/lib/python3.7/site-packages (from scikit_learn==1.0.2->-r requirements.txt (line 7)) (1.4.1)\n",
      "Requirement already satisfied: joblib>=0.11 in /opt/conda/lib/python3.7/site-packages (from scikit_learn==1.0.2->-r requirements.txt (line 7)) (0.14.1)\n",
      "Requirement already satisfied: patsy>=0.5 in /opt/conda/lib/python3.7/site-packages (from statsmodels==0.11.0->-r requirements.txt (line 8)) (0.5.1)\n",
      "Requirement already satisfied: py4j==0.10.9.5 in /opt/conda/lib/python3.7/site-packages (from pyspark>=3.3.0->-r requirements.txt (line 1)) (0.10.9.5)\n",
      "Requirement already satisfied: python-dateutil>=2.7.3 in /opt/conda/lib/python3.7/site-packages (from pandas>=1.3.5->-r requirements.txt (line 2)) (2.8.2)\n",
      "Requirement already satisfied: pytz>=2017.3 in /opt/conda/lib/python3.7/site-packages (from pandas>=1.3.5->-r requirements.txt (line 2)) (2019.3)\n",
      "Requirement already satisfied: six>=1.12.0 in /opt/conda/lib/python3.7/site-packages (from tensorflow>=2.11.0->-r requirements.txt (line 3)) (1.14.0)\n",
      "Collecting protobuf<3.20,>=3.9.2\n",
      "  Using cached protobuf-3.19.6-cp37-cp37m-manylinux_2_17_x86_64.manylinux2014_x86_64.whl (1.1 MB)\n",
      "Collecting tensorflow-io-gcs-filesystem>=0.23.1\n",
      "  Using cached tensorflow_io_gcs_filesystem-0.28.0-cp37-cp37m-manylinux_2_12_x86_64.manylinux2010_x86_64.whl (2.4 MB)\n",
      "Collecting opt-einsum>=2.3.2\n",
      "  Using cached opt_einsum-3.3.0-py3-none-any.whl (65 kB)\n",
      "Requirement already satisfied: setuptools in /opt/conda/lib/python3.7/site-packages (from tensorflow>=2.11.0->-r requirements.txt (line 3)) (59.3.0)\n",
      "Collecting grpcio<2.0,>=1.24.3\n",
      "  Using cached grpcio-1.51.1-cp37-cp37m-manylinux_2_17_x86_64.manylinux2014_x86_64.whl (4.8 MB)\n",
      "Collecting gast<=0.4.0,>=0.2.1\n",
      "  Using cached gast-0.4.0-py3-none-any.whl (9.8 kB)\n",
      "Requirement already satisfied: google-pasta>=0.1.1 in /opt/conda/lib/python3.7/site-packages (from tensorflow>=2.11.0->-r requirements.txt (line 3)) (0.2.0)\n",
      "Requirement already satisfied: h5py>=2.9.0 in /opt/conda/lib/python3.7/site-packages (from tensorflow>=2.11.0->-r requirements.txt (line 3)) (2.10.0)\n",
      "Collecting absl-py>=1.0.0\n",
      "  Using cached absl_py-1.3.0-py3-none-any.whl (124 kB)\n",
      "Collecting libclang>=13.0.0\n",
      "  Using cached libclang-14.0.6-py2.py3-none-manylinux2010_x86_64.whl (14.1 MB)\n",
      "Collecting tensorboard<2.12,>=2.11\n",
      "  Using cached tensorboard-2.11.0-py3-none-any.whl (6.0 MB)\n",
      "Requirement already satisfied: typing-extensions>=3.6.6 in /opt/conda/lib/python3.7/site-packages (from tensorflow>=2.11.0->-r requirements.txt (line 3)) (4.4.0)\n",
      "Collecting termcolor>=1.1.0\n",
      "  Using cached termcolor-2.1.1-py3-none-any.whl (6.2 kB)\n",
      "Requirement already satisfied: packaging in /opt/conda/lib/python3.7/site-packages (from tensorflow>=2.11.0->-r requirements.txt (line 3)) (20.1)\n",
      "Collecting tensorflow-estimator<2.12,>=2.11.0\n",
      "  Using cached tensorflow_estimator-2.11.0-py2.py3-none-any.whl (439 kB)\n",
      "Requirement already satisfied: wrapt>=1.11.0 in /opt/conda/lib/python3.7/site-packages (from tensorflow>=2.11.0->-r requirements.txt (line 3)) (1.11.2)\n",
      "Collecting astunparse>=1.6.0\n",
      "  Using cached astunparse-1.6.3-py2.py3-none-any.whl (12 kB)\n",
      "Collecting flatbuffers>=2.0\n",
      "  Using cached flatbuffers-22.12.6-py2.py3-none-any.whl (26 kB)\n",
      "Collecting keras<2.12,>=2.11.0\n",
      "  Using cached keras-2.11.0-py2.py3-none-any.whl (1.7 MB)\n",
      "Requirement already satisfied: cycler>=0.10 in /opt/conda/lib/python3.7/site-packages (from matplotlib>=3.1.3->-r requirements.txt (line 4)) (0.10.0)\n",
      "Requirement already satisfied: kiwisolver>=1.0.1 in /opt/conda/lib/python3.7/site-packages (from matplotlib>=3.1.3->-r requirements.txt (line 4)) (1.1.0)\n",
      "Requirement already satisfied: pyparsing!=2.0.4,!=2.1.2,!=2.1.6,>=2.0.1 in /opt/conda/lib/python3.7/site-packages (from matplotlib>=3.1.3->-r requirements.txt (line 4)) (2.4.6)\n",
      "Requirement already satisfied: wheel<1.0,>=0.23.0 in /opt/conda/lib/python3.7/site-packages (from astunparse>=1.6.0->tensorflow>=2.11.0->-r requirements.txt (line 3)) (0.34.2)\n",
      "Collecting google-auth<3,>=1.6.3\n",
      "  Using cached google_auth-2.15.0-py2.py3-none-any.whl (177 kB)\n",
      "Collecting tensorboard-plugin-wit>=1.6.0\n",
      "  Using cached tensorboard_plugin_wit-1.8.1-py3-none-any.whl (781 kB)\n",
      "Collecting markdown>=2.6.8\n",
      "  Using cached Markdown-3.4.1-py3-none-any.whl (93 kB)\n",
      "Requirement already satisfied: requests<3,>=2.21.0 in /opt/conda/lib/python3.7/site-packages (from tensorboard<2.12,>=2.11->tensorflow>=2.11.0->-r requirements.txt (line 3)) (2.28.1)\n",
      "Collecting google-auth-oauthlib<0.5,>=0.4.1\n",
      "  Using cached google_auth_oauthlib-0.4.6-py2.py3-none-any.whl (18 kB)\n",
      "Collecting tensorboard-data-server<0.7.0,>=0.6.0\n",
      "  Using cached tensorboard_data_server-0.6.1-py3-none-manylinux2010_x86_64.whl (4.9 MB)\n",
      "Collecting werkzeug>=1.0.1\n",
      "  Using cached Werkzeug-2.2.2-py3-none-any.whl (232 kB)\n",
      "Collecting cachetools<6.0,>=2.0.0\n",
      "  Using cached cachetools-5.2.0-py3-none-any.whl (9.3 kB)\n",
      "Requirement already satisfied: rsa<5,>=3.1.4 in /opt/conda/lib/python3.7/site-packages (from google-auth<3,>=1.6.3->tensorboard<2.12,>=2.11->tensorflow>=2.11.0->-r requirements.txt (line 3)) (4.9)\n",
      "Collecting pyasn1-modules>=0.2.1\n",
      "  Using cached pyasn1_modules-0.2.8-py2.py3-none-any.whl (155 kB)\n",
      "Collecting requests-oauthlib>=0.7.0\n",
      "  Using cached requests_oauthlib-1.3.1-py2.py3-none-any.whl (23 kB)\n",
      "Requirement already satisfied: importlib-metadata>=4.4 in /opt/conda/lib/python3.7/site-packages (from markdown>=2.6.8->tensorboard<2.12,>=2.11->tensorflow>=2.11.0->-r requirements.txt (line 3)) (5.1.0)\n",
      "Requirement already satisfied: certifi>=2017.4.17 in /opt/conda/lib/python3.7/site-packages (from requests<3,>=2.21.0->tensorboard<2.12,>=2.11->tensorflow>=2.11.0->-r requirements.txt (line 3)) (2022.9.24)\n",
      "Requirement already satisfied: charset-normalizer<3,>=2 in /opt/conda/lib/python3.7/site-packages (from requests<3,>=2.21.0->tensorboard<2.12,>=2.11->tensorflow>=2.11.0->-r requirements.txt (line 3)) (2.0.4)\n",
      "Requirement already satisfied: urllib3<1.27,>=1.21.1 in /opt/conda/lib/python3.7/site-packages (from requests<3,>=2.21.0->tensorboard<2.12,>=2.11->tensorflow>=2.11.0->-r requirements.txt (line 3)) (1.26.13)\n",
      "Requirement already satisfied: idna<4,>=2.5 in /opt/conda/lib/python3.7/site-packages (from requests<3,>=2.21.0->tensorboard<2.12,>=2.11->tensorflow>=2.11.0->-r requirements.txt (line 3)) (2.8)\n",
      "Requirement already satisfied: MarkupSafe>=2.1.1 in /opt/conda/lib/python3.7/site-packages (from werkzeug>=1.0.1->tensorboard<2.12,>=2.11->tensorflow>=2.11.0->-r requirements.txt (line 3)) (2.1.1)\n",
      "Requirement already satisfied: zipp>=0.5 in /opt/conda/lib/python3.7/site-packages (from importlib-metadata>=4.4->markdown>=2.6.8->tensorboard<2.12,>=2.11->tensorflow>=2.11.0->-r requirements.txt (line 3)) (3.11.0)\n",
      "Requirement already satisfied: pyasn1<0.5.0,>=0.4.6 in /opt/conda/lib/python3.7/site-packages (from pyasn1-modules>=0.2.1->google-auth<3,>=1.6.3->tensorboard<2.12,>=2.11->tensorflow>=2.11.0->-r requirements.txt (line 3)) (0.4.8)\n",
      "Collecting oauthlib>=3.0.0\n",
      "  Using cached oauthlib-3.2.2-py3-none-any.whl (151 kB)\n",
      "Installing collected packages: tensorboard-plugin-wit, libclang, flatbuffers, werkzeug, threadpoolctl, termcolor, tensorflow-io-gcs-filesystem, tensorflow-estimator, tensorboard-data-server, pyasn1-modules, protobuf, opt-einsum, oauthlib, keras, grpcio, gast, cachetools, astunparse, absl-py, scikit_learn, requests-oauthlib, markdown, google-auth, google-auth-oauthlib, tensorboard, tensorflow\n",
      "  Attempting uninstall: werkzeug\n",
      "    Found existing installation: Werkzeug 1.0.0\n",
      "    Uninstalling Werkzeug-1.0.0:\n",
      "      Successfully uninstalled Werkzeug-1.0.0\n",
      "  Attempting uninstall: protobuf\n",
      "    Found existing installation: protobuf 3.20.3\n",
      "    Uninstalling protobuf-3.20.3:\n",
      "      Successfully uninstalled protobuf-3.20.3\n",
      "  Attempting uninstall: scikit_learn\n",
      "    Found existing installation: scikit-learn 0.22.1\n",
      "    Uninstalling scikit-learn-0.22.1:\n",
      "      Successfully uninstalled scikit-learn-0.22.1\n",
      "\u001b[31mERROR: pip's dependency resolver does not currently take into account all the packages that are installed. This behaviour is the source of the following dependency conflicts.\n",
      "sagemaker 2.120.0 requires importlib-metadata<5.0,>=1.4.0, but you have importlib-metadata 5.1.0 which is incompatible.\u001b[0m\u001b[31m\n",
      "\u001b[0mSuccessfully installed absl-py-1.3.0 astunparse-1.6.3 cachetools-5.2.0 flatbuffers-22.12.6 gast-0.4.0 google-auth-2.15.0 google-auth-oauthlib-0.4.6 grpcio-1.51.1 keras-2.11.0 libclang-14.0.6 markdown-3.4.1 oauthlib-3.2.2 opt-einsum-3.3.0 protobuf-3.19.6 pyasn1-modules-0.2.8 requests-oauthlib-1.3.1 scikit_learn-1.0.2 tensorboard-2.11.0 tensorboard-data-server-0.6.1 tensorboard-plugin-wit-1.8.1 tensorflow-2.11.0 tensorflow-estimator-2.11.0 tensorflow-io-gcs-filesystem-0.28.0 termcolor-2.1.1 threadpoolctl-3.1.0 werkzeug-2.2.2\n",
      "\u001b[33mWARNING: Running pip as the 'root' user can result in broken permissions and conflicting behaviour with the system package manager. It is recommended to use a virtual environment instead: https://pip.pypa.io/warnings/venv\u001b[0m\u001b[33m\n",
      "\u001b[0m"
     ]
    }
   ],
   "source": [
    "!python3 -m pip install -r requirements.txt"
   ]
  },
  {
   "cell_type": "code",
   "execution_count": 12,
   "metadata": {
    "tags": []
   },
   "outputs": [],
   "source": [
    "from msspackages import Pyspark_data_ingestion\n",
    "from pyspark import StorageLevel\n",
    "from pyspark.sql.functions import *\n",
    "import pandas as pd\n",
    "import seaborn as sns\n",
    "import matplotlib.pyplot as plt\n",
    "%matplotlib inline\n",
    "import numpy as np\n",
    "sns.set(color_codes=True)\n",
    "from numpy.random import seed\n",
    "import tensorflow as tf\n",
    "\n",
    "\n",
    "\n",
    "from keras.layers import Input, Dropout, Dense, LSTM, TimeDistributed, RepeatVector\n",
    "from keras.models import Model\n",
    "from keras import regularizers\n",
    "#pandas settings\n",
    "pd.set_option('display.max_columns', None)\n",
    "pd.set_option('display.max_rows', None)"
   ]
  },
  {
   "cell_type": "code",
   "execution_count": 13,
   "metadata": {
    "tags": []
   },
   "outputs": [],
   "source": [
    "# %%time\n",
    "# from msspackages import Pyspark_data_ingestion\n",
    "# pod_obj = Pyspark_data_ingestion(year = '2022', month = '10', day = '10', hour = -1, filter_column_value ='Pod',setup='128gb')\n",
    "# spark = pod_obj.get_spark()\n",
    "# err, pod_data = pod_obj.read()\n",
    "# pod_data = pod_data.select(*pod_data.columns,get_json_object(col(\"kubernetes\"),\"$.pod_id\").alias(\"pod_id\"))\n",
    "\n",
    "# features_list =  ['Timestamp','pod_id','pod_status','pod_memory_utilization','pod_network_total_bytes','pod_cpu_utilization']\n",
    "# pod_data = pod_data.select(features_list)\n",
    "\n",
    "# pod_data.write.parquet(\"pod_data_one_day.parquet\")\n"
   ]
  },
  {
   "cell_type": "code",
   "execution_count": 14,
   "metadata": {
    "tags": []
   },
   "outputs": [],
   "source": [
    "import importlib\n",
    "import numpy as np\n",
    "import pandas as pd\n",
    "from matplotlib import pyplot as plt\n",
    "from sklearn.preprocessing import MinMaxScaler, StandardScaler\n",
    "import json\n",
    "import sys\n",
    "import statsmodels.api as sm\n",
    "import os\n",
    "import keras\n",
    "from keras import layers\n",
    "import tensorflow as tf\n",
    "from sklearn.preprocessing import StandardScaler\n",
    "from models import autoencoder_model_dish_5g\n",
    "\n",
    "from sklearn.model_selection import train_test_split\n",
    "\n"
   ]
  },
  {
   "cell_type": "code",
   "execution_count": 15,
   "metadata": {
    "tags": []
   },
   "outputs": [],
   "source": [
    "pd.set_option('display.max_rows', None)"
   ]
  },
  {
   "cell_type": "markdown",
   "metadata": {},
   "source": [
    "First lets read in our training sample set "
   ]
  },
  {
   "cell_type": "code",
   "execution_count": 18,
   "metadata": {
    "tags": []
   },
   "outputs": [],
   "source": [
    "import pandas as pd\n",
    "\n",
    "training_df_full = pd.read_parquet('pod_data_one_day.parquet')"
   ]
  },
  {
   "cell_type": "code",
   "execution_count": 19,
   "metadata": {
    "tags": []
   },
   "outputs": [
    {
     "data": {
      "text/html": [
       "<div>\n",
       "<style scoped>\n",
       "    .dataframe tbody tr th:only-of-type {\n",
       "        vertical-align: middle;\n",
       "    }\n",
       "\n",
       "    .dataframe tbody tr th {\n",
       "        vertical-align: top;\n",
       "    }\n",
       "\n",
       "    .dataframe thead th {\n",
       "        text-align: right;\n",
       "    }\n",
       "</style>\n",
       "<table border=\"1\" class=\"dataframe\">\n",
       "  <thead>\n",
       "    <tr style=\"text-align: right;\">\n",
       "      <th></th>\n",
       "      <th>Timestamp</th>\n",
       "      <th>pod_id</th>\n",
       "      <th>pod_status</th>\n",
       "      <th>pod_memory_utilization</th>\n",
       "      <th>pod_network_total_bytes</th>\n",
       "      <th>pod_cpu_utilization</th>\n",
       "    </tr>\n",
       "  </thead>\n",
       "  <tbody>\n",
       "    <tr>\n",
       "      <th>0</th>\n",
       "      <td>1665413960444</td>\n",
       "      <td>dd5f7368-44d0-42e6-8862-f306acaca4a9</td>\n",
       "      <td>Running</td>\n",
       "      <td>0.030798</td>\n",
       "      <td>3.003854e+04</td>\n",
       "      <td>0.047314</td>\n",
       "    </tr>\n",
       "    <tr>\n",
       "      <th>1</th>\n",
       "      <td>1665413967122</td>\n",
       "      <td>dcc12d82-64ca-4e78-83d1-354d0dccc838</td>\n",
       "      <td>Running</td>\n",
       "      <td>0.175907</td>\n",
       "      <td>2.425773e+03</td>\n",
       "      <td>0.002205</td>\n",
       "    </tr>\n",
       "    <tr>\n",
       "      <th>2</th>\n",
       "      <td>1665413969770</td>\n",
       "      <td>f0f216ae-3ebe-4a8c-a1d8-1a6728d8b32e</td>\n",
       "      <td>Running</td>\n",
       "      <td>0.201239</td>\n",
       "      <td>1.530957e+03</td>\n",
       "      <td>0.003732</td>\n",
       "    </tr>\n",
       "    <tr>\n",
       "      <th>3</th>\n",
       "      <td>1665413961335</td>\n",
       "      <td>6c4e2304-26e4-4838-9461-bbb3829f4c2f</td>\n",
       "      <td>Running</td>\n",
       "      <td>0.036943</td>\n",
       "      <td>1.834399e+06</td>\n",
       "      <td>0.004596</td>\n",
       "    </tr>\n",
       "    <tr>\n",
       "      <th>4</th>\n",
       "      <td>1665413960723</td>\n",
       "      <td>94f65baf-b7a2-4a93-85a8-ac65f0e0c5b9</td>\n",
       "      <td>Running</td>\n",
       "      <td>0.169697</td>\n",
       "      <td>1.556154e+03</td>\n",
       "      <td>0.022813</td>\n",
       "    </tr>\n",
       "  </tbody>\n",
       "</table>\n",
       "</div>"
      ],
      "text/plain": [
       "       Timestamp                                pod_id pod_status  \\\n",
       "0  1665413960444  dd5f7368-44d0-42e6-8862-f306acaca4a9    Running   \n",
       "1  1665413967122  dcc12d82-64ca-4e78-83d1-354d0dccc838    Running   \n",
       "2  1665413969770  f0f216ae-3ebe-4a8c-a1d8-1a6728d8b32e    Running   \n",
       "3  1665413961335  6c4e2304-26e4-4838-9461-bbb3829f4c2f    Running   \n",
       "4  1665413960723  94f65baf-b7a2-4a93-85a8-ac65f0e0c5b9    Running   \n",
       "\n",
       "   pod_memory_utilization  pod_network_total_bytes  pod_cpu_utilization  \n",
       "0                0.030798             3.003854e+04             0.047314  \n",
       "1                0.175907             2.425773e+03             0.002205  \n",
       "2                0.201239             1.530957e+03             0.003732  \n",
       "3                0.036943             1.834399e+06             0.004596  \n",
       "4                0.169697             1.556154e+03             0.022813  "
      ]
     },
     "execution_count": 19,
     "metadata": {},
     "output_type": "execute_result"
    }
   ],
   "source": [
    "training_df_full.head()"
   ]
  },
  {
   "cell_type": "code",
   "execution_count": 20,
   "metadata": {
    "tags": []
   },
   "outputs": [],
   "source": [
    "pod_df=training_df_full.query(\"pod_status == 'Running'\")"
   ]
  },
  {
   "cell_type": "code",
   "execution_count": 21,
   "metadata": {
    "tags": []
   },
   "outputs": [
    {
     "data": {
      "text/plain": [
       "(15892622, 6)"
      ]
     },
     "execution_count": 21,
     "metadata": {},
     "output_type": "execute_result"
    }
   ],
   "source": [
    "pod_df.shape"
   ]
  },
  {
   "cell_type": "code",
   "execution_count": 22,
   "metadata": {
    "tags": []
   },
   "outputs": [
    {
     "data": {
      "text/plain": [
       "13192"
      ]
     },
     "execution_count": 22,
     "metadata": {},
     "output_type": "execute_result"
    }
   ],
   "source": [
    "pod_df['pod_id'].nunique()"
   ]
  },
  {
   "cell_type": "code",
   "execution_count": 23,
   "metadata": {
    "tags": []
   },
   "outputs": [],
   "source": [
    "columns_to_keep = ['Timestamp','pod_id','pod_memory_utilization','pod_network_total_bytes','pod_cpu_utilization']"
   ]
  },
  {
   "cell_type": "code",
   "execution_count": 24,
   "metadata": {
    "tags": []
   },
   "outputs": [
    {
     "name": "stderr",
     "output_type": "stream",
     "text": [
      "/opt/conda/lib/python3.7/site-packages/ipykernel_launcher.py:2: SettingWithCopyWarning: \n",
      "A value is trying to be set on a copy of a slice from a DataFrame.\n",
      "Try using .loc[row_indexer,col_indexer] = value instead\n",
      "\n",
      "See the caveats in the documentation: https://pandas.pydata.org/pandas-docs/stable/user_guide/indexing.html#returning-a-view-versus-a-copy\n",
      "  \n"
     ]
    }
   ],
   "source": [
    "# training_df_full = training_df_full.drop(training_df_full.columns.difference(columns_to_keep),1, inplace=False)\n",
    "pod_df['Timestamp'] = pd.to_datetime(pod_df['Timestamp'], unit='ms')"
   ]
  },
  {
   "cell_type": "code",
   "execution_count": 25,
   "metadata": {
    "tags": []
   },
   "outputs": [
    {
     "data": {
      "text/html": [
       "<div>\n",
       "<style scoped>\n",
       "    .dataframe tbody tr th:only-of-type {\n",
       "        vertical-align: middle;\n",
       "    }\n",
       "\n",
       "    .dataframe tbody tr th {\n",
       "        vertical-align: top;\n",
       "    }\n",
       "\n",
       "    .dataframe thead th {\n",
       "        text-align: right;\n",
       "    }\n",
       "</style>\n",
       "<table border=\"1\" class=\"dataframe\">\n",
       "  <thead>\n",
       "    <tr style=\"text-align: right;\">\n",
       "      <th></th>\n",
       "      <th>Timestamp</th>\n",
       "      <th>pod_id</th>\n",
       "      <th>pod_status</th>\n",
       "      <th>pod_memory_utilization</th>\n",
       "      <th>pod_network_total_bytes</th>\n",
       "      <th>pod_cpu_utilization</th>\n",
       "    </tr>\n",
       "  </thead>\n",
       "  <tbody>\n",
       "    <tr>\n",
       "      <th>0</th>\n",
       "      <td>2022-10-10 14:59:20.444</td>\n",
       "      <td>dd5f7368-44d0-42e6-8862-f306acaca4a9</td>\n",
       "      <td>Running</td>\n",
       "      <td>0.030798</td>\n",
       "      <td>3.003854e+04</td>\n",
       "      <td>0.047314</td>\n",
       "    </tr>\n",
       "    <tr>\n",
       "      <th>1</th>\n",
       "      <td>2022-10-10 14:59:27.122</td>\n",
       "      <td>dcc12d82-64ca-4e78-83d1-354d0dccc838</td>\n",
       "      <td>Running</td>\n",
       "      <td>0.175907</td>\n",
       "      <td>2.425773e+03</td>\n",
       "      <td>0.002205</td>\n",
       "    </tr>\n",
       "    <tr>\n",
       "      <th>2</th>\n",
       "      <td>2022-10-10 14:59:29.770</td>\n",
       "      <td>f0f216ae-3ebe-4a8c-a1d8-1a6728d8b32e</td>\n",
       "      <td>Running</td>\n",
       "      <td>0.201239</td>\n",
       "      <td>1.530957e+03</td>\n",
       "      <td>0.003732</td>\n",
       "    </tr>\n",
       "    <tr>\n",
       "      <th>3</th>\n",
       "      <td>2022-10-10 14:59:21.335</td>\n",
       "      <td>6c4e2304-26e4-4838-9461-bbb3829f4c2f</td>\n",
       "      <td>Running</td>\n",
       "      <td>0.036943</td>\n",
       "      <td>1.834399e+06</td>\n",
       "      <td>0.004596</td>\n",
       "    </tr>\n",
       "    <tr>\n",
       "      <th>4</th>\n",
       "      <td>2022-10-10 14:59:20.723</td>\n",
       "      <td>94f65baf-b7a2-4a93-85a8-ac65f0e0c5b9</td>\n",
       "      <td>Running</td>\n",
       "      <td>0.169697</td>\n",
       "      <td>1.556154e+03</td>\n",
       "      <td>0.022813</td>\n",
       "    </tr>\n",
       "  </tbody>\n",
       "</table>\n",
       "</div>"
      ],
      "text/plain": [
       "                Timestamp                                pod_id pod_status  \\\n",
       "0 2022-10-10 14:59:20.444  dd5f7368-44d0-42e6-8862-f306acaca4a9    Running   \n",
       "1 2022-10-10 14:59:27.122  dcc12d82-64ca-4e78-83d1-354d0dccc838    Running   \n",
       "2 2022-10-10 14:59:29.770  f0f216ae-3ebe-4a8c-a1d8-1a6728d8b32e    Running   \n",
       "3 2022-10-10 14:59:21.335  6c4e2304-26e4-4838-9461-bbb3829f4c2f    Running   \n",
       "4 2022-10-10 14:59:20.723  94f65baf-b7a2-4a93-85a8-ac65f0e0c5b9    Running   \n",
       "\n",
       "   pod_memory_utilization  pod_network_total_bytes  pod_cpu_utilization  \n",
       "0                0.030798             3.003854e+04             0.047314  \n",
       "1                0.175907             2.425773e+03             0.002205  \n",
       "2                0.201239             1.530957e+03             0.003732  \n",
       "3                0.036943             1.834399e+06             0.004596  \n",
       "4                0.169697             1.556154e+03             0.022813  "
      ]
     },
     "execution_count": 25,
     "metadata": {},
     "output_type": "execute_result"
    }
   ],
   "source": [
    "pod_df.head()"
   ]
  },
  {
   "cell_type": "code",
   "execution_count": 26,
   "metadata": {
    "tags": []
   },
   "outputs": [
    {
     "data": {
      "text/plain": [
       "<matplotlib.axes._subplots.AxesSubplot at 0x7f9d2f3ebf50>"
      ]
     },
     "execution_count": 26,
     "metadata": {},
     "output_type": "execute_result"
    },
    {
     "data": {
      "image/png": "[encoded data removed]",
      "text/plain": [
       "<Figure size 640x480 with 1 Axes>"
      ]
     },
     "metadata": {},
     "output_type": "display_data"
    }
   ],
   "source": [
    "pod_df.groupby('pod_id')['Timestamp'].count().hist()"
   ]
  },
  {
   "cell_type": "code",
   "execution_count": 27,
   "metadata": {
    "tags": []
   },
   "outputs": [],
   "source": [
    "pods_by_count = pod_df.groupby('pod_id')['Timestamp'].count() \n",
    "count_filter_1 = (pods_by_count >= 1080)\n",
    "count_filter_2 = (pods_by_count <= 1800)\n",
    "\n",
    "# get a list of pods with the right length \n",
    "ok_pod_list = pods_by_count[count_filter_1 & count_filter_2].index #.sample(1_000, replace=True).index"
   ]
  },
  {
   "cell_type": "markdown",
   "metadata": {},
   "source": [
    "-----"
   ]
  },
  {
   "cell_type": "code",
   "execution_count": 28,
   "metadata": {
    "tags": []
   },
   "outputs": [
    {
     "data": {
      "text/plain": [
       "9362"
      ]
     },
     "execution_count": 28,
     "metadata": {},
     "output_type": "execute_result"
    }
   ],
   "source": [
    "len(ok_pod_list)"
   ]
  },
  {
   "cell_type": "code",
   "execution_count": 29,
   "metadata": {
    "tags": []
   },
   "outputs": [],
   "source": [
    "## for normalization\n",
    "scaler = StandardScaler()"
   ]
  },
  {
   "cell_type": "code",
   "execution_count": 30,
   "metadata": {
    "tags": []
   },
   "outputs": [],
   "source": [
    "import random \n",
    "features = ['pod_cpu_utilization','pod_memory_utilization','pod_network_total_bytes']"
   ]
  },
  {
   "cell_type": "code",
   "execution_count": 32,
   "metadata": {
    "tags": []
   },
   "outputs": [],
   "source": [
    "# training_df = \n",
    "ok_pod_filter = pod_df['pod_id'].isin(ok_pod_list)\n",
    "training_df = pod_df[ ok_pod_filter ][['Timestamp'] + ['pod_id']+features]"
   ]
  },
  {
   "cell_type": "code",
   "execution_count": 35,
   "metadata": {
    "tags": []
   },
   "outputs": [
    {
     "name": "stdout",
     "output_type": "stream",
     "text": [
      "CPU times: user 1h 47min, sys: 3.43 s, total: 1h 47min 3s\n",
      "Wall time: 1h 46min 58s\n"
     ]
    }
   ],
   "source": [
    "%%time\n",
    "\n",
    "\n",
    "def make_df_for_pod(pod):\n",
    "    pod_filter = (training_df.pod_id == pod)\n",
    "    return     training_df[ pod_filter ].sort_values(by='Timestamp').reset_index(drop=True)\n",
    "\n",
    "\n",
    "    \n",
    "pod_dfs = [ make_df_for_pod(pod) for pod in training_df['pod_id'].unique()] \n",
    "\n"
   ]
  },
  {
   "cell_type": "code",
   "execution_count": 36,
   "metadata": {
    "tags": []
   },
   "outputs": [
    {
     "name": "stderr",
     "output_type": "stream",
     "text": [
      "/opt/conda/lib/python3.7/site-packages/numpy/lib/npyio.py:528: VisibleDeprecationWarning: Creating an ndarray from ragged nested sequences (which is a list-or-tuple of lists-or-tuples-or ndarrays with different lengths or shapes) is deprecated. If you meant to do this, you must specify 'dtype=object' when creating the ndarray.\n",
      "  arr = np.asanyarray(arr)\n"
     ]
    }
   ],
   "source": [
    "with open('pod_dfs.npy', 'wb') as f:\n",
    "    np.save(f, pod_dfs)"
   ]
  },
  {
   "cell_type": "code",
   "execution_count": 38,
   "metadata": {
    "tags": []
   },
   "outputs": [
    {
     "data": {
      "text/html": [
       "<div>\n",
       "<style scoped>\n",
       "    .dataframe tbody tr th:only-of-type {\n",
       "        vertical-align: middle;\n",
       "    }\n",
       "\n",
       "    .dataframe tbody tr th {\n",
       "        vertical-align: top;\n",
       "    }\n",
       "\n",
       "    .dataframe thead th {\n",
       "        text-align: right;\n",
       "    }\n",
       "</style>\n",
       "<table border=\"1\" class=\"dataframe\">\n",
       "  <thead>\n",
       "    <tr style=\"text-align: right;\">\n",
       "      <th></th>\n",
       "      <th>Timestamp</th>\n",
       "      <th>pod_id</th>\n",
       "      <th>pod_cpu_utilization</th>\n",
       "      <th>pod_memory_utilization</th>\n",
       "      <th>pod_network_total_bytes</th>\n",
       "    </tr>\n",
       "  </thead>\n",
       "  <tbody>\n",
       "    <tr>\n",
       "      <th>0</th>\n",
       "      <td>2022-10-10 00:00:22.562</td>\n",
       "      <td>48c12519-2acb-43c4-b9ba-5176fdf40abc</td>\n",
       "      <td>0.256547</td>\n",
       "      <td>0.772662</td>\n",
       "      <td>3268.285149</td>\n",
       "    </tr>\n",
       "    <tr>\n",
       "      <th>1</th>\n",
       "      <td>2022-10-10 00:01:31.528</td>\n",
       "      <td>48c12519-2acb-43c4-b9ba-5176fdf40abc</td>\n",
       "      <td>0.256738</td>\n",
       "      <td>0.775199</td>\n",
       "      <td>2862.815423</td>\n",
       "    </tr>\n",
       "    <tr>\n",
       "      <th>2</th>\n",
       "      <td>2022-10-10 00:02:25.422</td>\n",
       "      <td>48c12519-2acb-43c4-b9ba-5176fdf40abc</td>\n",
       "      <td>0.255896</td>\n",
       "      <td>0.772334</td>\n",
       "      <td>2844.869761</td>\n",
       "    </tr>\n",
       "    <tr>\n",
       "      <th>3</th>\n",
       "      <td>2022-10-10 00:03:23.431</td>\n",
       "      <td>48c12519-2acb-43c4-b9ba-5176fdf40abc</td>\n",
       "      <td>0.258694</td>\n",
       "      <td>0.772484</td>\n",
       "      <td>2770.950191</td>\n",
       "    </tr>\n",
       "    <tr>\n",
       "      <th>4</th>\n",
       "      <td>2022-10-10 00:04:23.847</td>\n",
       "      <td>48c12519-2acb-43c4-b9ba-5176fdf40abc</td>\n",
       "      <td>0.262699</td>\n",
       "      <td>0.772380</td>\n",
       "      <td>2818.176754</td>\n",
       "    </tr>\n",
       "  </tbody>\n",
       "</table>\n",
       "</div>"
      ],
      "text/plain": [
       "                Timestamp                                pod_id  \\\n",
       "0 2022-10-10 00:00:22.562  48c12519-2acb-43c4-b9ba-5176fdf40abc   \n",
       "1 2022-10-10 00:01:31.528  48c12519-2acb-43c4-b9ba-5176fdf40abc   \n",
       "2 2022-10-10 00:02:25.422  48c12519-2acb-43c4-b9ba-5176fdf40abc   \n",
       "3 2022-10-10 00:03:23.431  48c12519-2acb-43c4-b9ba-5176fdf40abc   \n",
       "4 2022-10-10 00:04:23.847  48c12519-2acb-43c4-b9ba-5176fdf40abc   \n",
       "\n",
       "   pod_cpu_utilization  pod_memory_utilization  pod_network_total_bytes  \n",
       "0             0.256547                0.772662              3268.285149  \n",
       "1             0.256738                0.775199              2862.815423  \n",
       "2             0.255896                0.772334              2844.869761  \n",
       "3             0.258694                0.772484              2770.950191  \n",
       "4             0.262699                0.772380              2818.176754  "
      ]
     },
     "execution_count": 38,
     "metadata": {},
     "output_type": "execute_result"
    }
   ],
   "source": [
    "pod_dfs[0].head()"
   ]
  },
  {
   "cell_type": "code",
   "execution_count": 30,
   "metadata": {
    "tags": []
   },
   "outputs": [],
   "source": [
    "##global variable\n",
    "\n",
    "time_steps = 20\n",
    "batch_size = 16\n",
    "n_samples = batch_size*1000 #000"
   ]
  },
  {
   "cell_type": "code",
   "execution_count": 31,
   "metadata": {
    "tags": []
   },
   "outputs": [
    {
     "name": "stdout",
     "output_type": "stream",
     "text": [
      "CPU times: user 1min 13s, sys: 108 ms, total: 1min 13s\n",
      "Wall time: 1min 13s\n"
     ]
    }
   ],
   "source": [
    "%%time\n",
    "#initializing for training set\n",
    "x_train = np.zeros((n_samples,time_steps,len(features)))\n",
    "\n",
    "for b in range(n_samples):\n",
    "    ##pick random df, and normalize\n",
    "    df = random.choice(pod_dfs)\n",
    "    df = df.dropna()\n",
    "\n",
    "    df = df.drop(columns = ['pod_id'])\n",
    "    df = df.set_index('Timestamp')\n",
    "    df = df.sort_index()\n",
    "    \n",
    "    ##make sure length of df is atleast 40\n",
    "    if len(df) >= 40 :\n",
    "        df = scaler.fit_transform(df[['pod_cpu_utilization','pod_memory_utilization','pod_network_total_bytes']])\n",
    "        sample = np.zeros((n_samples,time_steps,len(features)))\n",
    "        \n",
    "        first_time = random.choice(range(len(df)-time_steps))\n",
    "        sample = df[first_time:first_time+time_steps]\n",
    "        x_train[b] = sample\n",
    "  \n",
    "    else:\n",
    "        print('This never hapens')\n",
    "        continue\n",
    "        \n",
    "# x_train[159,:,0]"
   ]
  },
  {
   "cell_type": "markdown",
   "metadata": {},
   "source": [
    "# Training for 10000 Pods in one day with parameters \n",
    "\n",
    "time_steps = 20\n",
    "batch_size = 16\n",
    "n_samples = batch_size*1000 #000"
   ]
  },
  {
   "cell_type": "code",
   "execution_count": 32,
   "metadata": {
    "tags": []
   },
   "outputs": [
    {
     "name": "stderr",
     "output_type": "stream",
     "text": [
      "WARNING:absl:`lr` is deprecated, please use `learning_rate` instead, or use the legacy optimizer, e.g.,tf.keras.optimizers.legacy.Adam.\n"
     ]
    },
    {
     "name": "stdout",
     "output_type": "stream",
     "text": [
      "Model: \"sequential\"\n",
      "_________________________________________________________________\n",
      " Layer (type)                Output Shape              Param #   \n",
      "=================================================================\n",
      " bidirectional (Bidirectiona  (None, 256)              135168    \n",
      " l)                                                              \n",
      "                                                                 \n",
      " repeat_vector (RepeatVector  (None, 20, 256)          0         \n",
      " )                                                               \n",
      "                                                                 \n",
      " bidirectional_1 (Bidirectio  (None, 20, 256)          394240    \n",
      " nal)                                                            \n",
      "                                                                 \n",
      " time_distributed (TimeDistr  (None, 20, 3)            771       \n",
      " ibuted)                                                         \n",
      "                                                                 \n",
      "=================================================================\n",
      "Total params: 530,179\n",
      "Trainable params: 530,179\n",
      "Non-trainable params: 0\n",
      "_________________________________________________________________\n",
      "Epoch 1/100\n",
      "900/900 [==============================] - 24s 21ms/step - loss: 0.5317 - val_loss: 0.5085\n",
      "Epoch 2/100\n",
      "900/900 [==============================] - 18s 20ms/step - loss: 0.5092 - val_loss: 0.4911\n",
      "Epoch 3/100\n",
      "900/900 [==============================] - 18s 20ms/step - loss: 0.4936 - val_loss: 0.4759\n",
      "Epoch 4/100\n",
      "900/900 [==============================] - 18s 20ms/step - loss: 0.4770 - val_loss: 0.4518\n",
      "Epoch 5/100\n",
      "900/900 [==============================] - 18s 20ms/step - loss: 0.4527 - val_loss: 0.4249\n",
      "Epoch 6/100\n",
      "900/900 [==============================] - 18s 20ms/step - loss: 0.4228 - val_loss: 0.3821\n",
      "Epoch 7/100\n",
      "900/900 [==============================] - 18s 20ms/step - loss: 0.3836 - val_loss: 0.3441\n",
      "Epoch 8/100\n",
      "900/900 [==============================] - 18s 20ms/step - loss: 0.3437 - val_loss: 0.2998\n",
      "Epoch 9/100\n",
      "900/900 [==============================] - 18s 20ms/step - loss: 0.3167 - val_loss: 0.2832\n",
      "Epoch 10/100\n",
      "900/900 [==============================] - 18s 20ms/step - loss: 0.2966 - val_loss: 0.2613\n",
      "Epoch 11/100\n",
      "900/900 [==============================] - 18s 20ms/step - loss: 0.2786 - val_loss: 0.2454\n",
      "Epoch 12/100\n",
      "900/900 [==============================] - 18s 20ms/step - loss: 0.2635 - val_loss: 0.2244\n",
      "Epoch 13/100\n",
      "900/900 [==============================] - 18s 20ms/step - loss: 0.2487 - val_loss: 0.2205\n",
      "Epoch 14/100\n",
      "900/900 [==============================] - 18s 20ms/step - loss: 0.2360 - val_loss: 0.2006\n",
      "Epoch 15/100\n",
      "900/900 [==============================] - 18s 20ms/step - loss: 0.2242 - val_loss: 0.1879\n",
      "Epoch 16/100\n",
      "900/900 [==============================] - 18s 20ms/step - loss: 0.2142 - val_loss: 0.1762\n",
      "Epoch 17/100\n",
      "900/900 [==============================] - 18s 20ms/step - loss: 0.2061 - val_loss: 0.1714\n",
      "Epoch 18/100\n",
      "900/900 [==============================] - 18s 20ms/step - loss: 0.1975 - val_loss: 0.1619\n",
      "Epoch 19/100\n",
      "900/900 [==============================] - 18s 20ms/step - loss: 0.1915 - val_loss: 0.1550\n",
      "Epoch 20/100\n",
      "900/900 [==============================] - 18s 20ms/step - loss: 0.1853 - val_loss: 0.1507\n",
      "Epoch 21/100\n",
      "900/900 [==============================] - 18s 20ms/step - loss: 0.1803 - val_loss: 0.1482\n",
      "Epoch 22/100\n",
      "900/900 [==============================] - 18s 20ms/step - loss: 0.1760 - val_loss: 0.1444\n",
      "Epoch 23/100\n",
      "900/900 [==============================] - 18s 20ms/step - loss: 0.1721 - val_loss: 0.1427\n",
      "Epoch 24/100\n",
      "900/900 [==============================] - 18s 20ms/step - loss: 0.1695 - val_loss: 0.1343\n",
      "Epoch 25/100\n",
      "900/900 [==============================] - 18s 20ms/step - loss: 0.1661 - val_loss: 0.1372\n",
      "Epoch 26/100\n",
      "900/900 [==============================] - 19s 21ms/step - loss: 0.1630 - val_loss: 0.1286\n",
      "Epoch 27/100\n",
      "900/900 [==============================] - 18s 20ms/step - loss: 0.1599 - val_loss: 0.1298\n",
      "Epoch 28/100\n",
      "900/900 [==============================] - 18s 20ms/step - loss: 0.1575 - val_loss: 0.1240\n",
      "Epoch 29/100\n",
      "900/900 [==============================] - 18s 20ms/step - loss: 0.1561 - val_loss: 0.1255\n",
      "Epoch 30/100\n",
      "900/900 [==============================] - 19s 21ms/step - loss: 0.1532 - val_loss: 0.1234\n",
      "Epoch 31/100\n",
      "900/900 [==============================] - 19s 21ms/step - loss: 0.1519 - val_loss: 0.1204\n",
      "Epoch 32/100\n",
      "900/900 [==============================] - 19s 21ms/step - loss: 0.1493 - val_loss: 0.1202\n",
      "Epoch 33/100\n",
      "900/900 [==============================] - 19s 21ms/step - loss: 0.1469 - val_loss: 0.1175\n",
      "Epoch 34/100\n",
      "900/900 [==============================] - 19s 21ms/step - loss: 0.1451 - val_loss: 0.1126\n",
      "Epoch 35/100\n",
      "900/900 [==============================] - 19s 21ms/step - loss: 0.1441 - val_loss: 0.1138\n",
      "Epoch 36/100\n",
      "900/900 [==============================] - 19s 21ms/step - loss: 0.1427 - val_loss: 0.1107\n",
      "Epoch 37/100\n",
      "900/900 [==============================] - 19s 21ms/step - loss: 0.1415 - val_loss: 0.1100\n",
      "Epoch 38/100\n",
      "900/900 [==============================] - 19s 21ms/step - loss: 0.1400 - val_loss: 0.1083\n",
      "Epoch 39/100\n",
      "900/900 [==============================] - 19s 21ms/step - loss: 0.1386 - val_loss: 0.1082\n",
      "Epoch 40/100\n",
      "900/900 [==============================] - 19s 21ms/step - loss: 0.1377 - val_loss: 0.1085\n",
      "Epoch 41/100\n",
      "900/900 [==============================] - 19s 21ms/step - loss: 0.1358 - val_loss: 0.1060\n",
      "Epoch 42/100\n",
      "900/900 [==============================] - 19s 21ms/step - loss: 0.1348 - val_loss: 0.1024\n",
      "Epoch 43/100\n",
      "900/900 [==============================] - 19s 21ms/step - loss: 0.1338 - val_loss: 0.1034\n",
      "Epoch 44/100\n",
      "900/900 [==============================] - 19s 22ms/step - loss: 0.1338 - val_loss: 0.1102\n",
      "Epoch 45/100\n",
      "900/900 [==============================] - 19s 21ms/step - loss: 0.1325 - val_loss: 0.1004\n",
      "Epoch 46/100\n",
      "900/900 [==============================] - 19s 21ms/step - loss: 0.1318 - val_loss: 0.1036\n",
      "Epoch 47/100\n",
      "900/900 [==============================] - 19s 21ms/step - loss: 0.1308 - val_loss: 0.1015\n",
      "Epoch 48/100\n",
      "900/900 [==============================] - 19s 21ms/step - loss: 0.1300 - val_loss: 0.1045\n",
      "Epoch 49/100\n",
      "900/900 [==============================] - 19s 21ms/step - loss: 0.1291 - val_loss: 0.1011\n",
      "Epoch 50/100\n",
      "900/900 [==============================] - 19s 21ms/step - loss: 0.1287 - val_loss: 0.1013\n"
     ]
    },
    {
     "data": {
      "image/png": "[encoded data removed]",
      "text/plain": [
       "<Figure size 640x480 with 1 Axes>"
      ]
     },
     "metadata": {},
     "output_type": "display_data"
    },
    {
     "name": "stdout",
     "output_type": "stream",
     "text": [
      "500/500 [==============================] - 6s 10ms/step\n"
     ]
    }
   ],
   "source": [
    "from models import autoencoder_model_dish_5g\n",
    "model = autoencoder_model_dish_5g(batch_size = batch_size, \n",
    "                                  time_steps = time_steps,\n",
    "                                  learning_rate=0.001,\n",
    "                                  validation_split=.1, \n",
    "                                  epochs=100, \n",
    "                                  nuerons = 128, \n",
    "                                  dropout_rate=.1\n",
    "                                 )\n",
    "model.fit(x_train)"
   ]
  },
  {
   "cell_type": "code",
   "execution_count": 34,
   "metadata": {
    "tags": []
   },
   "outputs": [],
   "source": [
    "with open('train.npy', 'wb') as f:\n",
    "    np.save(f, x_train)"
   ]
  },
  {
   "cell_type": "code",
   "execution_count": 39,
   "metadata": {
    "tags": []
   },
   "outputs": [],
   "source": [
    "##global variable\n",
    "\n",
    "time_steps = 20\n",
    "batch_size = 32\n",
    "n_samples = batch_size*1000 #000"
   ]
  },
  {
   "cell_type": "code",
   "execution_count": 40,
   "metadata": {
    "tags": []
   },
   "outputs": [
    {
     "name": "stdout",
     "output_type": "stream",
     "text": [
      "CPU times: user 2min 36s, sys: 15.9 ms, total: 2min 36s\n",
      "Wall time: 2min 36s\n"
     ]
    }
   ],
   "source": [
    "%%time\n",
    "#initializing for training set\n",
    "x_train = np.zeros((n_samples,time_steps,len(features)))\n",
    "\n",
    "for b in range(n_samples):\n",
    "    ##pick random df, and normalize\n",
    "    df = random.choice(pod_dfs)\n",
    "    df = df.dropna()\n",
    "\n",
    "    df = df.drop(columns = ['pod_id'])\n",
    "    df = df.set_index('Timestamp')\n",
    "    df = df.sort_index()\n",
    "    \n",
    "    ##make sure length of df is atleast 40\n",
    "    if len(df) >= 40 :\n",
    "        df = scaler.fit_transform(df[['pod_cpu_utilization','pod_memory_utilization','pod_network_total_bytes']])\n",
    "        sample = np.zeros((n_samples,time_steps,len(features)))\n",
    "        \n",
    "        first_time = random.choice(range(len(df)-time_steps))\n",
    "        sample = df[first_time:first_time+time_steps]\n",
    "        x_train[b] = sample\n",
    "  \n",
    "    else:\n",
    "        print('This never hapens')\n",
    "        continue\n",
    "        \n",
    "# x_train[159,:,0]"
   ]
  },
  {
   "cell_type": "code",
   "execution_count": null,
   "metadata": {},
   "outputs": [],
   "source": [
    "with open('train_20_32_10000.npy', 'wb') as f:\n",
    "    np.save(f, x_train)"
   ]
  },
  {
   "cell_type": "code",
   "execution_count": 85,
   "metadata": {
    "tags": []
   },
   "outputs": [
    {
     "name": "stderr",
     "output_type": "stream",
     "text": [
      "WARNING:absl:`lr` is deprecated, please use `learning_rate` instead, or use the legacy optimizer, e.g.,tf.keras.optimizers.legacy.Adam.\n"
     ]
    },
    {
     "name": "stdout",
     "output_type": "stream",
     "text": [
      "Model: \"sequential_3\"\n",
      "_________________________________________________________________\n",
      " Layer (type)                Output Shape              Param #   \n",
      "=================================================================\n",
      " bidirectional_6 (Bidirectio  (None, 256)              135168    \n",
      " nal)                                                            \n",
      "                                                                 \n",
      " repeat_vector_3 (RepeatVect  (None, 20, 256)          0         \n",
      " or)                                                             \n",
      "                                                                 \n",
      " bidirectional_7 (Bidirectio  (None, 20, 256)          394240    \n",
      " nal)                                                            \n",
      "                                                                 \n",
      " time_distributed_3 (TimeDis  (None, 20, 3)            771       \n",
      " tributed)                                                       \n",
      "                                                                 \n",
      "=================================================================\n",
      "Total params: 530,179\n",
      "Trainable params: 530,179\n",
      "Non-trainable params: 0\n",
      "_________________________________________________________________\n",
      "Epoch 1/100\n",
      "900/900 [==============================] - 28s 26ms/step - loss: 0.5506 - val_loss: 0.5291\n",
      "Epoch 2/100\n",
      "900/900 [==============================] - 22s 24ms/step - loss: 0.5235 - val_loss: 0.5055\n",
      "Epoch 3/100\n",
      "900/900 [==============================] - 22s 24ms/step - loss: 0.5003 - val_loss: 0.4768\n",
      "Epoch 4/100\n",
      "900/900 [==============================] - 22s 24ms/step - loss: 0.4707 - val_loss: 0.4371\n",
      "Epoch 5/100\n",
      "900/900 [==============================] - 22s 24ms/step - loss: 0.4272 - val_loss: 0.3912\n",
      "Epoch 6/100\n",
      "900/900 [==============================] - 22s 24ms/step - loss: 0.3856 - val_loss: 0.3444\n",
      "Epoch 7/100\n",
      "900/900 [==============================] - 22s 24ms/step - loss: 0.3383 - val_loss: 0.2864\n",
      "Epoch 8/100\n",
      "900/900 [==============================] - 22s 24ms/step - loss: 0.2895 - val_loss: 0.2396\n",
      "Epoch 9/100\n",
      "900/900 [==============================] - 22s 24ms/step - loss: 0.2562 - val_loss: 0.2098\n",
      "Epoch 10/100\n",
      "900/900 [==============================] - 22s 24ms/step - loss: 0.2293 - val_loss: 0.1814\n",
      "Epoch 11/100\n",
      "900/900 [==============================] - 22s 24ms/step - loss: 0.2077 - val_loss: 0.1643\n",
      "Epoch 12/100\n",
      "900/900 [==============================] - 22s 24ms/step - loss: 0.1879 - val_loss: 0.1409\n",
      "Epoch 13/100\n",
      "900/900 [==============================] - 22s 24ms/step - loss: 0.1716 - val_loss: 0.1326\n",
      "Epoch 14/100\n",
      "900/900 [==============================] - 22s 24ms/step - loss: 0.1644 - val_loss: 0.1272\n",
      "Epoch 15/100\n",
      "900/900 [==============================] - 22s 24ms/step - loss: 0.1604 - val_loss: 0.1233\n",
      "Epoch 16/100\n",
      "900/900 [==============================] - 22s 24ms/step - loss: 0.1567 - val_loss: 0.1216\n",
      "Epoch 17/100\n",
      "900/900 [==============================] - 22s 24ms/step - loss: 0.1539 - val_loss: 0.1197\n",
      "Epoch 18/100\n",
      "900/900 [==============================] - 22s 24ms/step - loss: 0.1511 - val_loss: 0.1194\n",
      "Epoch 19/100\n",
      "900/900 [==============================] - 22s 24ms/step - loss: 0.1485 - val_loss: 0.1112\n",
      "Epoch 20/100\n",
      "900/900 [==============================] - 22s 24ms/step - loss: 0.1460 - val_loss: 0.1121\n",
      "Epoch 21/100\n",
      "900/900 [==============================] - 22s 24ms/step - loss: 0.1443 - val_loss: 0.1068\n",
      "Epoch 22/100\n",
      "900/900 [==============================] - 22s 24ms/step - loss: 0.1427 - val_loss: 0.1080\n",
      "Epoch 23/100\n",
      "900/900 [==============================] - 22s 25ms/step - loss: 0.1403 - val_loss: 0.1061\n",
      "Epoch 24/100\n",
      "900/900 [==============================] - 22s 25ms/step - loss: 0.1387 - val_loss: 0.1028\n",
      "Epoch 25/100\n",
      "900/900 [==============================] - 22s 25ms/step - loss: 0.1373 - val_loss: 0.1048\n",
      "Epoch 26/100\n",
      "900/900 [==============================] - 22s 25ms/step - loss: 0.1358 - val_loss: 0.1051\n",
      "Epoch 27/100\n",
      "900/900 [==============================] - 22s 24ms/step - loss: 0.1351 - val_loss: 0.1013\n",
      "Epoch 28/100\n",
      "900/900 [==============================] - 22s 24ms/step - loss: 0.1338 - val_loss: 0.1023\n",
      "Epoch 29/100\n",
      "900/900 [==============================] - 22s 24ms/step - loss: 0.1323 - val_loss: 0.0975\n",
      "Epoch 30/100\n",
      "900/900 [==============================] - 22s 24ms/step - loss: 0.1311 - val_loss: 0.0963\n",
      "Epoch 31/100\n",
      "900/900 [==============================] - 22s 25ms/step - loss: 0.1299 - val_loss: 0.1012\n",
      "Epoch 32/100\n",
      "900/900 [==============================] - 22s 25ms/step - loss: 0.1291 - val_loss: 0.1010\n",
      "Epoch 33/100\n",
      "900/900 [==============================] - 23s 25ms/step - loss: 0.1281 - val_loss: 0.1001\n",
      "Epoch 34/100\n",
      "900/900 [==============================] - 22s 25ms/step - loss: 0.1265 - val_loss: 0.0981\n",
      "Epoch 35/100\n",
      "900/900 [==============================] - 22s 25ms/step - loss: 0.1258 - val_loss: 0.0974\n"
     ]
    },
    {
     "data": {
      "image/png": "[encoded data removed]",
      "text/plain": [
       "<Figure size 640x480 with 1 Axes>"
      ]
     },
     "metadata": {},
     "output_type": "display_data"
    },
    {
     "name": "stdout",
     "output_type": "stream",
     "text": [
      "1000/1000 [==============================] - 12s 11ms/step\n"
     ]
    }
   ],
   "source": [
    "from models import autoencoder_model_dish_5g\n",
    "model = autoencoder_model_dish_5g(batch_size = batch_size, \n",
    "                                  time_steps = time_steps,\n",
    "                                  learning_rate=0.001,\n",
    "                                  validation_split=.1, \n",
    "                                  epochs=100, \n",
    "                                  nuerons = 128, \n",
    "                                  dropout_rate=.1\n",
    "                                 )\n",
    "model.fit(x_train)"
   ]
  },
  {
   "cell_type": "code",
   "execution_count": 86,
   "metadata": {
    "tags": []
   },
   "outputs": [
    {
     "data": {
      "text/plain": [
       "(32000, 20, 3)"
      ]
     },
     "execution_count": 86,
     "metadata": {},
     "output_type": "execute_result"
    }
   ],
   "source": [
    "x_train.shape"
   ]
  },
  {
   "cell_type": "code",
   "execution_count": null,
   "metadata": {},
   "outputs": [],
   "source": []
  },
  {
   "cell_type": "code",
   "execution_count": 88,
   "metadata": {
    "tags": []
   },
   "outputs": [
    {
     "data": {
      "text/plain": [
       "0.06948142003292579"
      ]
     },
     "execution_count": 88,
     "metadata": {},
     "output_type": "execute_result"
    }
   ],
   "source": [
    "maes = 0\n",
    "for i in range(3):\n",
    "    maes += median_absolute_error(x_train[:,:,i], model.results[:,:,i])\n",
    "    \n",
    "ae_train_loss  = (maes)/3\n",
    "ae_train_loss"
   ]
  },
  {
   "cell_type": "code",
   "execution_count": 54,
   "metadata": {
    "tags": []
   },
   "outputs": [],
   "source": [
    "from sklearn.metrics import median_absolute_error"
   ]
  },
  {
   "cell_type": "code",
   "execution_count": 23,
   "metadata": {},
   "outputs": [],
   "source": [
    "# model: i_model.IModel = autoencoder_model.AutoEncoderModel(batch_size = batch_size, time_steps = time_steps)"
   ]
  },
  {
   "cell_type": "markdown",
   "metadata": {},
   "source": [
    "# PCA"
   ]
  },
  {
   "cell_type": "code",
   "execution_count": 66,
   "metadata": {
    "tags": []
   },
   "outputs": [],
   "source": [
    "from models import pca_ad_dish_5g"
   ]
  },
  {
   "cell_type": "code",
   "execution_count": 67,
   "metadata": {
    "tags": []
   },
   "outputs": [
    {
     "data": {
      "text/plain": [
       "(32000, 20, 3)"
      ]
     },
     "execution_count": 67,
     "metadata": {},
     "output_type": "execute_result"
    }
   ],
   "source": [
    "x_train.shape"
   ]
  },
  {
   "cell_type": "code",
   "execution_count": 70,
   "metadata": {
    "tags": []
   },
   "outputs": [],
   "source": [
    "pca = pca_ad_dish_5g(num_of_features =x_train.shape[2], \n",
    "                                    number_of_temporal_slices = 1, \n",
    "                                    timesteps_per_slice = x_train.shape[1], \n",
    "                                    n_modes_to_delete=1\n",
    "                                   )"
   ]
  },
  {
   "cell_type": "code",
   "execution_count": 73,
   "metadata": {
    "tags": []
   },
   "outputs": [
    {
     "data": {
      "text/plain": [
       "(array([[[ 6.20596635e-03, -1.69570878e-02,  4.62025333e-01],\n",
       "         [-1.23397154e-02,  2.90122021e-02,  4.64030062e-01],\n",
       "         [-2.85522201e-02, -2.11471795e-02, -1.57763859e-01],\n",
       "         ...,\n",
       "         [-1.08944789e-02,  4.08991169e-02, -5.98713351e-02],\n",
       "         [ 2.41640651e-02, -4.89383640e-02,  6.43154539e-01],\n",
       "         [ 2.26215946e-02,  3.16563817e-02,  6.16988663e-01]],\n",
       " \n",
       "        [[-8.48222565e-03,  1.81307922e-02, -2.12182576e-01],\n",
       "         [ 1.68657457e-02, -3.10203151e-02, -2.13103237e-01],\n",
       "         [ 3.90247643e-02,  2.26109060e-02,  7.24521785e-02],\n",
       "         ...,\n",
       "         [ 1.48904173e-02, -4.37299965e-02,  2.74955791e-02],\n",
       "         [-3.30270970e-02,  5.23256894e-02, -2.95365161e-01],\n",
       "         [-3.09188706e-02, -3.38475147e-02, -2.83348627e-01]],\n",
       " \n",
       "        [[-2.22709519e-02, -1.83910200e-03,  1.40255842e-01],\n",
       "         [ 4.42827422e-02,  3.14655440e-03,  1.40864413e-01],\n",
       "         [ 1.02463514e-01, -2.29354361e-03, -4.78919689e-02],\n",
       "         ...,\n",
       "         [ 3.90963151e-02,  4.43576450e-03, -1.81749873e-02],\n",
       "         [-8.67160248e-02, -5.30767103e-03,  1.95240770e-01],\n",
       "         [-8.11806604e-02,  3.43333218e-03,  1.87297662e-01]],\n",
       " \n",
       "        ...,\n",
       " \n",
       "        [[-2.27308584e-02, -2.98375436e-02, -2.32359480e-01],\n",
       "         [ 4.51972034e-02,  5.10496175e-02, -2.33367689e-01],\n",
       "         [ 1.04579438e-01, -3.72103925e-02,  7.93418143e-02],\n",
       "         ...,\n",
       "         [ 3.99036739e-02,  7.19657290e-02,  3.01101938e-02],\n",
       "         [-8.85067549e-02, -8.61115181e-02, -3.23452079e-01],\n",
       "         [-8.28570824e-02,  5.57022929e-02, -3.10292867e-01]],\n",
       " \n",
       "        [[ 2.47849029e-02, -6.66296413e-02, -1.61086814e-01],\n",
       "         [-4.92813899e-02,  1.13997913e-01, -1.61785770e-01],\n",
       "         [-1.14029623e-01, -8.30938076e-02,  5.50049434e-02],\n",
       "         ...,\n",
       "         [-4.35095175e-02,  1.60705277e-01,  2.08743589e-02],\n",
       "         [ 9.65045527e-02, -1.92293965e-01, -2.24238171e-01],\n",
       "         [ 9.03443548e-02,  1.24387713e-01, -2.15115343e-01]],\n",
       " \n",
       "        [[ 6.80556807e-05, -3.64096237e-04, -4.91575132e-01],\n",
       "         [-1.35319414e-04,  6.22939136e-04, -4.93708078e-01],\n",
       "         [-3.13108493e-04, -4.54064318e-04,  1.67853977e-01],\n",
       "         ...,\n",
       "         [-1.19470705e-04,  8.78170518e-04,  6.37005318e-02],\n",
       "         [ 2.64987241e-04, -1.05078622e-03, -6.84288836e-01],\n",
       "         [ 2.48072248e-04,  6.79713971e-04, -6.56449467e-01]]]),\n",
       " array([[5.47632657e-01, 5.01422557e-01, 6.55116507e+00],\n",
       "        [7.48496449e-01, 5.36129098e-01, 3.00858628e+00],\n",
       "        [1.96525406e+00, 5.43824060e-02, 1.98872034e+00],\n",
       "        ...,\n",
       "        [2.00583756e+00, 8.82298754e-01, 3.29467932e+00],\n",
       "        [2.18709246e+00, 1.97024428e+00, 2.28408754e+00],\n",
       "        [6.00543270e-03, 1.07663573e-02, 6.97015856e+00]]),\n",
       " [array([[ 0.99804134,  0.00389453,  0.00901135,  0.00388157, -0.00653207,\n",
       "          -0.01300422, -0.00789561,  0.00389697,  0.01365943,  0.01222911,\n",
       "           0.00147665, -0.01169061, -0.01894027, -0.01158027,  0.005574  ,\n",
       "           0.01565564,  0.01375271,  0.0034384 , -0.00762641, -0.00713959],\n",
       "         [ 0.00389453,  0.99225626, -0.01791784, -0.00771796,  0.01298814,\n",
       "           0.02585711,  0.01569934, -0.0077486 , -0.0271599 , -0.02431591,\n",
       "          -0.00293612,  0.02324519,  0.03766014,  0.02302579, -0.01108314,\n",
       "          -0.03112911, -0.02734538, -0.00683679,  0.01516407,  0.0141961 ],\n",
       "         [ 0.00901135, -0.01791784,  0.95854085, -0.01785819,  0.03005257,\n",
       "           0.05982941,  0.03632587, -0.01792908, -0.06284387, -0.05626331,\n",
       "          -0.00679373,  0.05378582,  0.08713982,  0.05327816, -0.02564469,\n",
       "          -0.07202801, -0.06327303, -0.01581929,  0.03508735,  0.03284761],\n",
       "         [ 0.00388157, -0.00771796, -0.01785819,  0.99230773,  0.01294489,\n",
       "           0.02577102,  0.01564707, -0.0077228 , -0.02706947, -0.02423495,\n",
       "          -0.00292634,  0.02316779,  0.03753475,  0.02294912, -0.01104624,\n",
       "          -0.03102547, -0.02725433, -0.00681403,  0.01511358,  0.01414884],\n",
       "         [-0.00653207,  0.01298814,  0.03005257,  0.01294489,  0.97821574,\n",
       "          -0.04336865, -0.0263316 ,  0.01299628,  0.04555374,  0.04078368,\n",
       "           0.00492458, -0.03898782, -0.06316519, -0.03861983,  0.01858911,\n",
       "           0.05221107,  0.04586483,  0.01146696, -0.02543383, -0.0238103 ],\n",
       "         [-0.01300422,  0.02585711,  0.05982941,  0.02577102, -0.04336865,\n",
       "           0.9136606 , -0.0524216 ,  0.02587333,  0.09068954,  0.08119319,\n",
       "           0.00980398, -0.07761793, -0.12575085, -0.07688533,  0.03700767,\n",
       "           0.1039431 ,  0.09130886,  0.02282871, -0.0506343 , -0.04740215],\n",
       "         [-0.00789561,  0.01569934,  0.03632587,  0.01564707, -0.0263316 ,\n",
       "          -0.0524216 ,  0.96817183,  0.01570918,  0.05506282,  0.04929704,\n",
       "           0.00595256, -0.0471263 , -0.07635056, -0.0466815 ,  0.02246948,\n",
       "           0.06310983,  0.05543885,  0.01386062, -0.03074299, -0.02878057],\n",
       "         [ 0.00389697, -0.0077486 , -0.01792908, -0.0077228 ,  0.01299628,\n",
       "           0.02587333,  0.01570918,  0.99224654, -0.02717693, -0.02433116,\n",
       "          -0.00293796,  0.02325976,  0.03768376,  0.02304023, -0.01109009,\n",
       "          -0.03114863, -0.02736253, -0.00684108,  0.01517358,  0.014205  ],\n",
       "         [ 0.01365943, -0.0271599 , -0.06284387, -0.02706947,  0.04555374,\n",
       "           0.09068954,  0.05506282, -0.02717693,  0.90474114, -0.08528404,\n",
       "          -0.01029795,  0.08152864,  0.13208671,  0.08075914, -0.03887227,\n",
       "          -0.10918019, -0.09590938, -0.02397891,  0.05318547,  0.04979047],\n",
       "         [ 0.01222911, -0.02431591, -0.05626331, -0.02423495,  0.04078368,\n",
       "           0.08119319,  0.04929704, -0.02433116, -0.08528404,  0.92364629,\n",
       "          -0.00921962,  0.07299155,  0.11825554,  0.07230262, -0.03480185,\n",
       "          -0.09774763, -0.08586645, -0.02146801,  0.04761627,  0.04457677],\n",
       "         [ 0.00147665, -0.00293612, -0.00679373, -0.00292634,  0.00492458,\n",
       "           0.00980398,  0.00595256, -0.00293796, -0.01029795, -0.00921962,\n",
       "           0.99888674,  0.00881365,  0.01427922,  0.00873046, -0.00420228,\n",
       "          -0.01180291, -0.01036827, -0.00259224,  0.00574961,  0.00538259],\n",
       "         [-0.01169061,  0.02324519,  0.05378582,  0.02316779, -0.03898782,\n",
       "          -0.07761793, -0.0471263 ,  0.02325976,  0.08152864,  0.07299155,\n",
       "           0.00881365,  0.93022255, -0.11304828, -0.06911885,  0.03326939,\n",
       "           0.09344342,  0.08208541,  0.02052269, -0.04551954, -0.04261388],\n",
       "         [-0.01894027,  0.03766014,  0.08713982,  0.03753475, -0.06316519,\n",
       "          -0.12575085, -0.07635056,  0.03768376,  0.13208671,  0.11825554,\n",
       "           0.01427922, -0.11304828,  0.81684749, -0.11198128,  0.05390061,\n",
       "           0.15139015,  0.13298873,  0.03324936, -0.07374741, -0.06903987],\n",
       "         [-0.01158027,  0.02302579,  0.05327816,  0.02294912, -0.03861983,\n",
       "          -0.07688533, -0.0466815 ,  0.02304023,  0.08075914,  0.07230262,\n",
       "           0.00873046, -0.06911885, -0.11198128,  0.93153353,  0.03295537,\n",
       "           0.09256145,  0.08131064,  0.02032899, -0.0450899 , -0.04221167],\n",
       "         [ 0.005574  , -0.01108314, -0.02564469, -0.01104624,  0.01858911,\n",
       "           0.03700767,  0.02246948, -0.01109009, -0.03887227, -0.03480185,\n",
       "          -0.00420228,  0.03326939,  0.05390061,  0.03295537,  0.9841374 ,\n",
       "          -0.04455315, -0.03913773, -0.00978507,  0.02170339,  0.02031799],\n",
       "         [ 0.01565564, -0.03112911, -0.07202801, -0.03102547,  0.05221107,\n",
       "           0.1039431 ,  0.06310983, -0.03114863, -0.10918019, -0.09774763,\n",
       "          -0.01180291,  0.09344342,  0.15139015,  0.09256145, -0.04455315,\n",
       "           0.87486398, -0.10992579, -0.02748324,  0.06095811,  0.05706696],\n",
       "         [ 0.01375271, -0.02734538, -0.06327303, -0.02725433,  0.04586483,\n",
       "           0.09130886,  0.05543885, -0.02736253, -0.09590938, -0.08586645,\n",
       "          -0.01036827,  0.08208541,  0.13298873,  0.08131064, -0.03913773,\n",
       "          -0.10992579,  0.90343565, -0.02414267,  0.05354868,  0.05013049],\n",
       "         [ 0.0034384 , -0.00683679, -0.01581929, -0.00681403,  0.01146696,\n",
       "           0.02282871,  0.01386062, -0.00684108, -0.02397891, -0.02146801,\n",
       "          -0.00259224,  0.02052269,  0.03324936,  0.02032899, -0.00978507,\n",
       "          -0.02748324, -0.02414267,  0.99396394,  0.01338804,  0.01253344],\n",
       "         [-0.00762641,  0.01516407,  0.03508735,  0.01511358, -0.02543383,\n",
       "          -0.0506343 , -0.03074299,  0.01517358,  0.05318547,  0.04761627,\n",
       "           0.00574961, -0.04551954, -0.07374741, -0.0450899 ,  0.02170339,\n",
       "           0.06095811,  0.05354868,  0.01338804,  0.97030518, -0.0277993 ],\n",
       "         [-0.00713959,  0.0141961 ,  0.03284761,  0.01414884, -0.0238103 ,\n",
       "          -0.04740215, -0.02878057,  0.014205  ,  0.04979047,  0.04457677,\n",
       "           0.00538259, -0.04261388, -0.06903987, -0.04221167,  0.02031799,\n",
       "           0.05706696,  0.05013049,  0.01253344, -0.0277993 ,  0.97397522]]),\n",
       "  array([[ 9.83308630e-01,  2.85575807e-02, -2.08158031e-02,\n",
       "           1.26690027e-02, -1.34922526e-02,  3.97593160e-03,\n",
       "           2.77083115e-03, -1.63249951e-02,  3.17685618e-02,\n",
       "          -4.27365196e-02,  4.54088680e-02, -4.54193416e-02,\n",
       "           3.98071106e-02, -1.62372507e-02,  3.75152085e-03,\n",
       "           5.96648654e-03, -2.75817829e-02,  4.02582275e-02,\n",
       "          -4.81714996e-02,  3.11603260e-02],\n",
       "         [ 2.85575807e-02,  9.51140295e-01,  3.56141511e-02,\n",
       "          -2.16756363e-02,  2.30841502e-02, -6.80249656e-03,\n",
       "          -4.74066740e-03,  2.79307428e-02, -5.43534332e-02,\n",
       "           7.31187195e-02, -7.76908909e-02,  7.77088104e-02,\n",
       "          -6.81067383e-02,  2.77806193e-02, -6.41854795e-03,\n",
       "          -1.02081746e-02,  4.71901939e-02, -6.88785626e-02,\n",
       "           8.24175295e-02, -5.33127910e-02],\n",
       "         [-2.08158031e-02,  3.56141511e-02,  9.74040618e-01,\n",
       "           1.57995098e-02, -1.68261846e-02,  4.95838322e-03,\n",
       "           3.45550277e-03, -2.03588970e-02,  3.96185648e-02,\n",
       "          -5.32967020e-02,  5.66293870e-02, -5.66424486e-02,\n",
       "           4.96434368e-02, -2.02494709e-02,  4.67852063e-03,\n",
       "           7.44080374e-03, -3.43972339e-02,  5.02060245e-02,\n",
       "          -6.00746640e-02,  3.88600341e-02],\n",
       "         [ 1.26690027e-02, -2.16756363e-02,  1.57995098e-02,\n",
       "           9.90384035e-01,  1.02408241e-02, -3.01779230e-03,\n",
       "          -2.10310280e-03,  1.23909185e-02, -2.41128196e-02,\n",
       "           3.24376656e-02, -3.44660185e-02,  3.44739681e-02,\n",
       "          -3.02141998e-02,  1.23243192e-02, -2.84746114e-03,\n",
       "          -4.52865365e-03,  2.09349909e-02, -3.05566044e-02,\n",
       "           3.65628977e-02, -2.36511594e-02],\n",
       "         [-1.34922526e-02,  2.30841502e-02, -1.68261846e-02,\n",
       "           1.02408241e-02,  9.89093712e-01,  3.21389277e-03,\n",
       "           2.23976544e-03, -1.31960982e-02,  2.56797052e-02,\n",
       "          -3.45455116e-02,  3.67056698e-02, -3.67141360e-02,\n",
       "           3.21775618e-02, -1.31251711e-02,  3.03249325e-03,\n",
       "           4.82293205e-03, -2.22953766e-02,  3.25422163e-02,\n",
       "          -3.89388072e-02,  2.51880456e-02],\n",
       "         [ 3.97593160e-03, -6.80249656e-03,  4.95838322e-03,\n",
       "          -3.01779230e-03,  3.21389277e-03,  9.99052922e-01,\n",
       "          -6.60019822e-04,  3.88866005e-03, -7.56736136e-03,\n",
       "           1.01799599e-02, -1.08165209e-02,  1.08190157e-02,\n",
       "          -9.48216643e-03,  3.86775908e-03, -8.93622885e-04,\n",
       "          -1.42123398e-03,  6.57005876e-03, -9.58962374e-03,\n",
       "           1.14745876e-02, -7.42247787e-03],\n",
       "         [ 2.77083115e-03, -4.74066740e-03,  3.45550277e-03,\n",
       "          -2.10310280e-03,  2.23976544e-03, -6.60019822e-04,\n",
       "           9.99540031e-01,  2.71001150e-03, -5.27370253e-03,\n",
       "           7.09442538e-03, -7.53804542e-03,  7.53978407e-03,\n",
       "          -6.60813231e-03,  2.69544559e-03, -6.22766780e-04,\n",
       "          -9.90459540e-04,  4.57868124e-03, -6.68301943e-03,\n",
       "           7.99665280e-03, -5.17273306e-03],\n",
       "         [-1.63249951e-02,  2.79307428e-02, -2.03588970e-02,\n",
       "           1.23909185e-02, -1.31960982e-02,  3.88866005e-03,\n",
       "           2.71001150e-03,  9.84033338e-01,  3.10712431e-02,\n",
       "          -4.17984546e-02,  4.44121450e-02, -4.44223887e-02,\n",
       "           3.89333460e-02, -1.58808436e-02,  3.66917510e-03,\n",
       "           5.83552238e-03, -2.69763637e-02,  3.93745608e-02,\n",
       "          -4.71141369e-02,  3.04763580e-02],\n",
       "         [ 3.17685618e-02, -5.43534332e-02,  3.96185648e-02,\n",
       "          -2.41128196e-02,  2.56797052e-02, -7.56736136e-03,\n",
       "          -5.27370253e-03,  3.10712431e-02,  9.39535130e-01,\n",
       "           8.13401032e-02, -8.64263643e-02,  8.64462986e-02,\n",
       "          -7.57645806e-02,  3.09042398e-02, -7.14024202e-03,\n",
       "          -1.13559699e-02,  5.24962043e-02, -7.66231880e-02,\n",
       "           9.16844606e-02, -5.93072192e-02],\n",
       "         [-4.27365196e-02,  7.31187195e-02, -5.32967020e-02,\n",
       "           3.24376656e-02, -3.45455116e-02,  1.01799599e-02,\n",
       "           7.09442538e-03, -4.17984546e-02,  8.13401032e-02,\n",
       "           8.90577580e-01,  1.16264691e-01, -1.16291507e-01,\n",
       "           1.01921972e-01, -4.15737941e-02,  9.60537951e-03,\n",
       "           1.52765691e-02, -7.06202905e-02,  1.03077010e-01,\n",
       "          -1.23338122e-01,  7.97827786e-02],\n",
       "         [ 4.54088680e-02, -7.76908909e-02,  5.66293870e-02,\n",
       "          -3.44660185e-02,  3.67056698e-02, -1.08165209e-02,\n",
       "          -7.53804542e-03,  4.44121450e-02, -8.64263643e-02,\n",
       "           1.16264691e-01,  8.76465186e-01,  1.23563307e-01,\n",
       "          -1.08295234e-01,  4.41734363e-02, -1.02060115e-02,\n",
       "          -1.62318251e-02,  7.50362332e-02, -1.09522497e-01,\n",
       "           1.31050552e-01, -8.47716589e-02],\n",
       "         [-4.54193416e-02,  7.77088104e-02, -5.66424486e-02,\n",
       "           3.44739681e-02, -3.67141360e-02,  1.08190157e-02,\n",
       "           7.53978407e-03, -4.44223887e-02,  8.64462986e-02,\n",
       "          -1.16291507e-01,  1.23563307e-01,  8.76408193e-01,\n",
       "           1.08320212e-01, -4.41836250e-02,  1.02083655e-02,\n",
       "           1.62355690e-02, -7.50535403e-02,  1.09547759e-01,\n",
       "          -1.31080779e-01,  8.47912116e-02],\n",
       "         [ 3.98071106e-02, -6.81067383e-02,  4.96434368e-02,\n",
       "          -3.02141998e-02,  3.21775618e-02, -9.48216643e-03,\n",
       "          -6.60813231e-03,  3.89333460e-02, -7.57645806e-02,\n",
       "           1.01921972e-01, -1.08295234e-01,  1.08320212e-01,\n",
       "           9.05064351e-01,  3.87240850e-02, -8.94697107e-03,\n",
       "          -1.42294245e-02,  6.57795661e-02, -9.60115140e-02,\n",
       "           1.14883811e-01, -7.43140041e-02],\n",
       "         [-1.62372507e-02,  2.77806193e-02, -2.02494709e-02,\n",
       "           1.23243192e-02, -1.31251711e-02,  3.86775908e-03,\n",
       "           2.69544559e-03, -1.58808436e-02,  3.09042398e-02,\n",
       "          -4.15737941e-02,  4.41734363e-02, -4.41836250e-02,\n",
       "           3.87240850e-02,  9.84204514e-01,  3.64945383e-03,\n",
       "           5.80415731e-03, -2.68313698e-02,  3.91629284e-02,\n",
       "          -4.68609054e-02,  3.03125521e-02],\n",
       "         [ 3.75152085e-03, -6.41854795e-03,  4.67852063e-03,\n",
       "          -2.84746114e-03,  3.03249325e-03, -8.93622885e-04,\n",
       "          -6.22766780e-04,  3.66917510e-03, -7.14024202e-03,\n",
       "           9.60537951e-03, -1.02060115e-02,  1.02083655e-02,\n",
       "          -8.94697107e-03,  3.64945383e-03,  9.99156815e-01,\n",
       "          -1.34101626e-03,  6.19922948e-03, -9.04836324e-03,\n",
       "           1.08269354e-02, -7.00353609e-03],\n",
       "         [ 5.96648654e-03, -1.02081746e-02,  7.44080374e-03,\n",
       "          -4.52865365e-03,  4.82293205e-03, -1.42123398e-03,\n",
       "          -9.90459540e-04,  5.83552238e-03, -1.13559699e-02,\n",
       "           1.52765691e-02, -1.62318251e-02,  1.62355690e-02,\n",
       "          -1.42294245e-02,  5.80415731e-03, -1.34101626e-03,\n",
       "           9.97867224e-01,  9.85936657e-03, -1.43906804e-02,\n",
       "           1.72193536e-02, -1.11385503e-02],\n",
       "         [-2.75817829e-02,  4.71901939e-02, -3.43972339e-02,\n",
       "           2.09349909e-02, -2.22953766e-02,  6.57005876e-03,\n",
       "           4.57868124e-03, -2.69763637e-02,  5.24962043e-02,\n",
       "          -7.06202905e-02,  7.50362332e-02, -7.50535403e-02,\n",
       "           6.57795661e-02, -2.68313698e-02,  6.19922948e-03,\n",
       "           9.85936657e-03,  9.54422271e-01,  6.65250176e-02,\n",
       "          -7.96013650e-02,  5.14911204e-02],\n",
       "         [ 4.02582275e-02, -6.88785626e-02,  5.02060245e-02,\n",
       "          -3.05566044e-02,  3.25422163e-02, -9.58962374e-03,\n",
       "          -6.68301943e-03,  3.93745608e-02, -7.66231880e-02,\n",
       "           1.03077010e-01, -1.09522497e-01,  1.09547759e-01,\n",
       "          -9.60115140e-02,  3.91629284e-02, -9.04836324e-03,\n",
       "          -1.43906804e-02,  6.65250176e-02,  9.02900429e-01,\n",
       "           1.16185740e-01, -7.51561727e-02],\n",
       "         [-4.81714996e-02,  8.24175295e-02, -6.00746640e-02,\n",
       "           3.65628977e-02, -3.89388072e-02,  1.14745876e-02,\n",
       "           7.99665280e-03, -4.71141369e-02,  9.16844606e-02,\n",
       "          -1.23338122e-01,  1.31050552e-01, -1.31080779e-01,\n",
       "           1.14883811e-01, -4.68609054e-02,  1.08269354e-02,\n",
       "           1.72193536e-02, -7.96013650e-02,  1.16185740e-01,\n",
       "           8.60976459e-01,  8.99290846e-02],\n",
       "         [ 3.11603260e-02, -5.33127910e-02,  3.88600341e-02,\n",
       "          -2.36511594e-02,  2.51880456e-02, -7.42247787e-03,\n",
       "          -5.17273306e-03,  3.04763580e-02, -5.93072192e-02,\n",
       "           7.97827786e-02, -8.47716589e-02,  8.47912116e-02,\n",
       "          -7.43140041e-02,  3.03125521e-02, -7.00353609e-03,\n",
       "          -1.11385503e-02,  5.14911204e-02, -7.51561727e-02,\n",
       "           8.99290846e-02,  9.41828267e-01]]),\n",
       "  array([[ 0.92772955, -0.07258403,  0.02467758,  0.11191329,  0.08720127,\n",
       "          -0.01704689, -0.06059307, -0.02937401,  0.01975598,  0.0370176 ,\n",
       "           0.04178528,  0.03067279, -0.01398014, -0.04122073, -0.02214032,\n",
       "           0.05055634,  0.08547184,  0.00936513, -0.10060285, -0.09650996],\n",
       "         [-0.07258403,  0.92710103,  0.02478465,  0.11239889,  0.08757964,\n",
       "          -0.01712086, -0.06085599, -0.02950147,  0.0198417 ,  0.03717822,\n",
       "           0.04196659,  0.03080588, -0.0140408 , -0.04139959, -0.02223639,\n",
       "           0.05077571,  0.0858427 ,  0.00940577, -0.10103937, -0.09692872],\n",
       "         [ 0.02467758,  0.02478465,  0.99157356, -0.03821408, -0.02977588,\n",
       "           0.00582086,  0.0206902 ,  0.01003009, -0.0067459 , -0.01264008,\n",
       "          -0.01426806, -0.01047358,  0.00477368,  0.01407529,  0.00756007,\n",
       "          -0.01726304, -0.02918534, -0.00319783,  0.034352  ,  0.03295444],\n",
       "         [ 0.11191329,  0.11239889, -0.03821408,  0.82669839, -0.13503419,\n",
       "           0.0263977 ,  0.09383047,  0.04548668, -0.03059281, -0.05732303,\n",
       "          -0.06470596, -0.04749788,  0.02164873,  0.06383173,  0.03428505,\n",
       "          -0.07828825, -0.1323561 , -0.01450223,  0.155787  ,  0.14944902],\n",
       "         [ 0.08720127,  0.08757964, -0.02977588, -0.13503419,  0.89478325,\n",
       "           0.02056872,  0.07311139,  0.03544258, -0.02383749, -0.04466531,\n",
       "          -0.05041798, -0.03700968,  0.01686839,  0.0497368 ,  0.02671443,\n",
       "          -0.06100111, -0.10313003, -0.01129994,  0.12138706,  0.11644859],\n",
       "         [-0.01704689, -0.01712086,  0.00582086,  0.0263977 ,  0.02056872,\n",
       "           0.99597904, -0.01429247, -0.00692864,  0.00465997,  0.00873158,\n",
       "           0.00985616,  0.00723499, -0.00329758, -0.009723  , -0.00522238,\n",
       "           0.01192505,  0.02016079,  0.00220901, -0.02372983, -0.02276442],\n",
       "         [-0.06059307, -0.06085599,  0.0206902 ,  0.09383047,  0.07311139,\n",
       "          -0.01429247,  0.94919749, -0.02462779,  0.01656383,  0.03103634,\n",
       "           0.03503366,  0.02571672, -0.01172124, -0.03456034, -0.01856291,\n",
       "           0.04238751,  0.0716614 ,  0.00785192, -0.08434756, -0.08091599],\n",
       "         [-0.02937401, -0.02950147,  0.01003009,  0.04548668,  0.03544258,\n",
       "          -0.00692864, -0.02462779,  0.98806106,  0.00802973,  0.01504564,\n",
       "           0.01698345,  0.01246682, -0.00568217, -0.01675399, -0.00899884,\n",
       "           0.02054841,  0.03473966,  0.00380642, -0.0408896 , -0.03922606],\n",
       "         [ 0.01975598,  0.0198417 , -0.0067459 , -0.03059281, -0.02383749,\n",
       "           0.00465997,  0.01656383,  0.00802973,  0.99459947, -0.01011919,\n",
       "          -0.0114225 , -0.00838477,  0.00382163,  0.01126817,  0.00605232,\n",
       "          -0.01382017, -0.02336473, -0.00256007,  0.02750097,  0.02638213],\n",
       "         [ 0.0370176 ,  0.03717822, -0.01264008, -0.05732303, -0.04466531,\n",
       "           0.00873158,  0.03103634,  0.01504564, -0.01011919,  0.98103924,\n",
       "          -0.02140281, -0.01571089,  0.00716076,  0.02111364,  0.01134048,\n",
       "          -0.02589543, -0.04377947, -0.00479691,  0.05152972,  0.0494333 ],\n",
       "         [ 0.04178528,  0.04196659, -0.01426806, -0.06470596, -0.05041798,\n",
       "           0.00985616,  0.03503366,  0.01698345, -0.0114225 , -0.02140281,\n",
       "           0.97584061, -0.01773438,  0.00808303,  0.02383298,  0.01280108,\n",
       "          -0.02923063, -0.04941805, -0.00541473,  0.05816649,  0.05580007],\n",
       "         [ 0.03067279,  0.03080588, -0.01047358, -0.04749788, -0.03700968,\n",
       "           0.00723499,  0.02571672,  0.01246682, -0.00838477, -0.01571089,\n",
       "          -0.01773438,  0.98698195,  0.00593341,  0.01749477,  0.00939672,\n",
       "          -0.02145696, -0.03627568, -0.00397472,  0.04269754,  0.04096045],\n",
       "         [-0.01398014, -0.0140408 ,  0.00477368,  0.02164873,  0.01686839,\n",
       "          -0.00329758, -0.01172124, -0.00568217,  0.00382163,  0.00716076,\n",
       "           0.00808303,  0.00593341,  0.99729565, -0.00797382, -0.00428287,\n",
       "           0.00977972,  0.01653384,  0.00181161, -0.01946081, -0.01866908],\n",
       "         [-0.04122073, -0.04139959,  0.01407529,  0.06383173,  0.0497368 ,\n",
       "          -0.009723  , -0.03456034, -0.01675399,  0.01126817,  0.02111364,\n",
       "           0.02383298,  0.01749477, -0.00797382,  0.97648902, -0.01262812,\n",
       "           0.02883571,  0.04875038,  0.00534157, -0.05738062, -0.05504617],\n",
       "         [-0.02214032, -0.02223639,  0.00756007,  0.03428505,  0.02671443,\n",
       "          -0.00522238, -0.01856291, -0.00899884,  0.00605232,  0.01134048,\n",
       "           0.01280108,  0.00939672, -0.00428287, -0.01262812,  0.99321723,\n",
       "           0.01548812,  0.02618461,  0.00286904, -0.03082006, -0.02956618],\n",
       "         [ 0.05055634,  0.05077571, -0.01726304, -0.07828825, -0.06100111,\n",
       "           0.01192505,  0.04238751,  0.02054841, -0.01382017, -0.02589543,\n",
       "          -0.02923063, -0.02145696,  0.00977972,  0.02883571,  0.01548812,\n",
       "           0.96463362, -0.05979129, -0.00655132,  0.0703761 ,  0.06751294],\n",
       "         [ 0.08547184,  0.0858427 , -0.02918534, -0.1323561 , -0.10313003,\n",
       "           0.02016079,  0.0716614 ,  0.03473966, -0.02336473, -0.04377947,\n",
       "          -0.04941805, -0.03627568,  0.01653384,  0.04875038,  0.02618461,\n",
       "          -0.05979129,  0.89891532, -0.01107583,  0.11897963,  0.1141391 ],\n",
       "         [ 0.00936513,  0.00940577, -0.00319783, -0.01450223, -0.01129994,\n",
       "           0.00220901,  0.00785192,  0.00380642, -0.00256007, -0.00479691,\n",
       "          -0.00541473, -0.00397472,  0.00181161,  0.00534157,  0.00286904,\n",
       "          -0.00655132, -0.01107583,  0.99878642,  0.01303657,  0.0125062 ],\n",
       "         [-0.10060285, -0.10103937,  0.034352  ,  0.155787  ,  0.12138706,\n",
       "          -0.02372983, -0.08434756, -0.0408896 ,  0.02750097,  0.05152972,\n",
       "           0.05816649,  0.04269754, -0.01946081, -0.05738062, -0.03082006,\n",
       "           0.0703761 ,  0.11897963,  0.01303657,  0.8599575 , -0.13434506],\n",
       "         [-0.09650996, -0.09692872,  0.03295444,  0.14944902,  0.11644859,\n",
       "          -0.02276442, -0.08091599, -0.03922606,  0.02638213,  0.0494333 ,\n",
       "           0.05580007,  0.04096045, -0.01866908, -0.05504617, -0.02956618,\n",
       "           0.06751294,  0.1141391 ,  0.0125062 , -0.13434506,  0.87112059]])])"
      ]
     },
     "execution_count": 73,
     "metadata": {},
     "output_type": "execute_result"
    }
   ],
   "source": [
    "pca.train(x_train)"
   ]
  },
  {
   "cell_type": "code",
   "execution_count": 74,
   "metadata": {
    "tags": []
   },
   "outputs": [],
   "source": [
    "pca.vs[0].shape\n",
    "last_right_principal_vector = pca.vs[0][:,-1]"
   ]
  },
  {
   "cell_type": "code",
   "execution_count": 75,
   "metadata": {
    "tags": []
   },
   "outputs": [
    {
     "data": {
      "image/png": "[encoded data removed]",
      "text/plain": [
       "<Figure size 640x480 with 1 Axes>"
      ]
     },
     "metadata": {},
     "output_type": "display_data"
    }
   ],
   "source": [
    "last_right_principal_vectors = []\n",
    "for q in range(1_000 , \n",
    "               x_train.shape[0] , \n",
    "               1_000):\n",
    "    residuals_reshaped, ed_errors, encode_decode_maps = pca.train(x_train[:q])\n",
    "    last_right_principal_vectors.append( pca.vs[0][:,-1])\n",
    "    \n",
    "\n",
    "angles = [ np.min([np.arccos(np.matmul(vector.T,last_right_principal_vector)),\n",
    "                np.arccos(np.matmul(vector.T, - last_right_principal_vector)) ])for vector in last_right_principal_vectors]\n",
    "\n",
    "plt.plot(angles)\n",
    "plt.show();"
   ]
  },
  {
   "cell_type": "markdown",
   "metadata": {},
   "source": [
    "The direction of the last principal vector is settling down to the direction determined by having 16,000 samples. "
   ]
  },
  {
   "cell_type": "code",
   "execution_count": null,
   "metadata": {},
   "outputs": [],
   "source": []
  },
  {
   "cell_type": "code",
   "execution_count": null,
   "metadata": {},
   "outputs": [],
   "source": []
  },
  {
   "cell_type": "code",
   "execution_count": null,
   "metadata": {},
   "outputs": [],
   "source": []
  },
  {
   "cell_type": "code",
   "execution_count": null,
   "metadata": {},
   "outputs": [],
   "source": []
  },
  {
   "cell_type": "code",
   "execution_count": 144,
   "metadata": {
    "tags": []
   },
   "outputs": [
    {
     "data": {
      "text/plain": [
       "(16000, 20, 3)"
      ]
     },
     "execution_count": 144,
     "metadata": {},
     "output_type": "execute_result"
    }
   ],
   "source": [
    "residuals_reshaped.shape"
   ]
  },
  {
   "cell_type": "code",
   "execution_count": 169,
   "metadata": {
    "tags": []
   },
   "outputs": [
    {
     "data": {
      "text/plain": [
       "(0.10311449907328027, 0.096687)"
      ]
     },
     "execution_count": 169,
     "metadata": {},
     "output_type": "execute_result"
    }
   ],
   "source": [
    "pca_train_loss = ed_errors.mean()/20\n",
    "pca_train_loss, 0.096687"
   ]
  },
  {
   "cell_type": "code",
   "execution_count": 146,
   "metadata": {
    "tags": []
   },
   "outputs": [
    {
     "data": {
      "text/plain": [
       "(20, 20)"
      ]
     },
     "execution_count": 146,
     "metadata": {},
     "output_type": "execute_result"
    }
   ],
   "source": [
    "encode_decode_maps[0].shape"
   ]
  },
  {
   "cell_type": "markdown",
   "metadata": {},
   "source": [
    "# TEST DATASET: Build out Dataset for testing on one pod"
   ]
  },
  {
   "cell_type": "code",
   "execution_count": 63,
   "metadata": {
    "tags": []
   },
   "outputs": [],
   "source": [
    "# testing_df = pod_df[~pod_df['pod_id'].isin(upods)]\n",
    "\n",
    "# testing_df.head()\n",
    "# ## drop the pod_id\n",
    "# test_df = test_df.drop(\"pod_id\",1, inplace=False)\n",
    "\n",
    "\n",
    "# ##set timestamp as the index\n",
    "# test_df = test_df.set_index('Timestamp')\n",
    "\n",
    "# ##normalize test_df \n",
    "# test_df = scaler.fit_transform(test_df.values)\n",
    "\n",
    "\n",
    "# ##ensure the data is sorted!!\n",
    "# test_df = test_df.sort_index()"
   ]
  },
  {
   "cell_type": "markdown",
   "metadata": {},
   "source": [
    "### Then we test"
   ]
  },
  {
   "cell_type": "code",
   "execution_count": 25,
   "metadata": {},
   "outputs": [
    {
     "name": "stdout",
     "output_type": "stream",
     "text": [
      "1/1 [==============================] - 0s 21ms/step\n",
      "1/1 [==============================] - 0s 21ms/step\n",
      "1/1 [==============================] - 0s 21ms/step\n",
      "1/1 [==============================] - 0s 20ms/step\n",
      "1/1 [==============================] - 0s 20ms/step\n",
      "1/1 [==============================] - 0s 19ms/step\n",
      "1/1 [==============================] - 0s 20ms/step\n",
      "1/1 [==============================] - 0s 21ms/step\n",
      "1/1 [==============================] - 0s 21ms/step\n",
      "1/1 [==============================] - 0s 20ms/step\n",
      "1/1 [==============================] - 0s 21ms/step\n",
      "1/1 [==============================] - 0s 20ms/step\n",
      "1/1 [==============================] - 0s 20ms/step\n",
      "1/1 [==============================] - 0s 21ms/step\n",
      "1/1 [==============================] - 0s 22ms/step\n",
      "1/1 [==============================] - 0s 22ms/step\n",
      "1/1 [==============================] - 0s 21ms/step\n",
      "1/1 [==============================] - 0s 21ms/step\n",
      "1/1 [==============================] - 0s 20ms/step\n",
      "1/1 [==============================] - 0s 20ms/step\n",
      "1/1 [==============================] - 0s 20ms/step\n",
      "1/1 [==============================] - 0s 20ms/step\n",
      "1/1 [==============================] - 0s 21ms/step\n",
      "1/1 [==============================] - 0s 21ms/step\n",
      "1/1 [==============================] - 0s 21ms/step\n",
      "1/1 [==============================] - 0s 20ms/step\n",
      "1/1 [==============================] - 0s 20ms/step\n",
      "1/1 [==============================] - 0s 22ms/step\n",
      "1/1 [==============================] - 0s 20ms/step\n",
      "1/1 [==============================] - 0s 20ms/step\n",
      "1/1 [==============================] - 0s 20ms/step\n",
      "1/1 [==============================] - 0s 20ms/step\n",
      "1/1 [==============================] - 0s 21ms/step\n",
      "1/1 [==============================] - 0s 21ms/step\n",
      "1/1 [==============================] - 0s 21ms/step\n",
      "1/1 [==============================] - 0s 20ms/step\n",
      "1/1 [==============================] - 0s 20ms/step\n",
      "1/1 [==============================] - 0s 20ms/step\n",
      "1/1 [==============================] - 0s 21ms/step\n",
      "1/1 [==============================] - 0s 20ms/step\n",
      "1/1 [==============================] - 0s 20ms/step\n",
      "1/1 [==============================] - 0s 21ms/step\n",
      "1/1 [==============================] - 0s 20ms/step\n",
      "1/1 [==============================] - 0s 21ms/step\n",
      "1/1 [==============================] - 0s 22ms/step\n",
      "1/1 [==============================] - 0s 22ms/step\n",
      "1/1 [==============================] - 0s 21ms/step\n",
      "1/1 [==============================] - 0s 21ms/step\n",
      "1/1 [==============================] - 0s 21ms/step\n",
      "1/1 [==============================] - 0s 22ms/step\n",
      "1/1 [==============================] - 0s 21ms/step\n",
      "1/1 [==============================] - 0s 22ms/step\n",
      "1/1 [==============================] - 0s 24ms/step\n",
      "1/1 [==============================] - 0s 23ms/step\n",
      "1/1 [==============================] - 0s 23ms/step\n",
      "1/1 [==============================] - 0s 22ms/step\n",
      "1/1 [==============================] - 0s 22ms/step\n",
      "1/1 [==============================] - 0s 22ms/step\n",
      "1/1 [==============================] - 0s 21ms/step\n",
      "1/1 [==============================] - 0s 21ms/step\n",
      "1/1 [==============================] - 0s 21ms/step\n",
      "1/1 [==============================] - 0s 21ms/step\n",
      "1/1 [==============================] - 0s 22ms/step\n",
      "1/1 [==============================] - 0s 22ms/step\n",
      "1/1 [==============================] - 0s 22ms/step\n",
      "1/1 [==============================] - 0s 22ms/step\n",
      "1/1 [==============================] - 0s 22ms/step\n",
      "1/1 [==============================] - 0s 22ms/step\n",
      "1/1 [==============================] - 0s 22ms/step\n",
      "1/1 [==============================] - 0s 22ms/step\n",
      "1/1 [==============================] - 0s 22ms/step\n",
      "1/1 [==============================] - 0s 22ms/step\n",
      "1/1 [==============================] - 0s 23ms/step\n",
      "1/1 [==============================] - 0s 22ms/step\n",
      "1/1 [==============================] - 0s 22ms/step\n",
      "1/1 [==============================] - 0s 21ms/step\n",
      "1/1 [==============================] - 0s 21ms/step\n",
      "1/1 [==============================] - 0s 22ms/step\n",
      "1/1 [==============================] - 0s 22ms/step\n",
      "1/1 [==============================] - 0s 22ms/step\n",
      "1/1 [==============================] - 0s 22ms/step\n",
      "1/1 [==============================] - 0s 23ms/step\n",
      "1/1 [==============================] - 0s 23ms/step\n",
      "1/1 [==============================] - 0s 22ms/step\n",
      "1/1 [==============================] - 0s 22ms/step\n",
      "1/1 [==============================] - 0s 22ms/step\n",
      "1/1 [==============================] - 0s 22ms/step\n",
      "1/1 [==============================] - 0s 22ms/step\n",
      "1/1 [==============================] - 0s 22ms/step\n",
      "1/1 [==============================] - 0s 22ms/step\n",
      "1/1 [==============================] - 0s 22ms/step\n",
      "1/1 [==============================] - 0s 23ms/step\n",
      "1/1 [==============================] - 0s 23ms/step\n",
      "1/1 [==============================] - 0s 22ms/step\n",
      "1/1 [==============================] - 0s 21ms/step\n",
      "1/1 [==============================] - 0s 22ms/step\n",
      "1/1 [==============================] - 0s 22ms/step\n",
      "1/1 [==============================] - 0s 21ms/step\n",
      "1/1 [==============================] - 0s 21ms/step\n",
      "1/1 [==============================] - 0s 21ms/step\n",
      "1/1 [==============================] - 0s 21ms/step\n",
      "1/1 [==============================] - 0s 23ms/step\n",
      "1/1 [==============================] - 0s 22ms/step\n",
      "1/1 [==============================] - 0s 21ms/step\n",
      "1/1 [==============================] - 0s 21ms/step\n",
      "1/1 [==============================] - 0s 20ms/step\n",
      "1/1 [==============================] - 0s 21ms/step\n",
      "1/1 [==============================] - 0s 21ms/step\n",
      "1/1 [==============================] - 0s 21ms/step\n",
      "1/1 [==============================] - 0s 20ms/step\n",
      "1/1 [==============================] - 0s 22ms/step\n",
      "1/1 [==============================] - 0s 21ms/step\n",
      "1/1 [==============================] - 0s 21ms/step\n",
      "1/1 [==============================] - 0s 21ms/step\n",
      "1/1 [==============================] - 0s 20ms/step\n",
      "1/1 [==============================] - 0s 21ms/step\n",
      "1/1 [==============================] - 0s 21ms/step\n",
      "1/1 [==============================] - 0s 21ms/step\n",
      "1/1 [==============================] - 0s 21ms/step\n"
     ]
    }
   ],
   "source": [
    "# predictions = []\n",
    "# anomaly_scores = []\n",
    "\n",
    "# for i in range(0,len(test_df),12*5):\n",
    "#     if(i + 12*5 < len(test_df)):\n",
    "#         sample_topredict_on = test_df.iloc[i:i+12*5]\n",
    "# #         display(sample_topredict_on)\n",
    "#         x_test = np.array(sample_topredict_on['pod_cpu_utilization'].tolist())\n",
    "#         x_test = x_test.reshape(1,-1,1)\n",
    "#         preds,anom_scores = model.testnew(x_test)\n",
    "#         predictions.append(preds)\n",
    "#         anomaly_scores.append(anom_scores)\n",
    "\n",
    "\n",
    "\n",
    "\n",
    "predictions = []\n",
    "anomaly_scores = []\n",
    "errors = []\n",
    "for i in range(0,len(test_df),timesteps):\n",
    "    if(i + timesteps < len(test_df)):\n",
    "        sample_topredict_on = test_df.iloc[i:i+timesteps]\n",
    "#         display(sample_topredict_on)\n",
    "        x_test = np.array(sample_topredict_on['pod_cpu_utilization'].tolist())\n",
    "        x_test = x_test.reshape(1,-1,1)\n",
    "        preds,errs,anom_scores = model.test(x_test)\n",
    "        predictions.append(preds)\n",
    "        errors.append(errs)\n",
    "        anomaly_scores.append(anom_scores)"
   ]
  },
  {
   "cell_type": "code",
   "execution_count": 26,
   "metadata": {},
   "outputs": [
    {
     "name": "stderr",
     "output_type": "stream",
     "text": [
      "/opt/conda/lib/python3.7/site-packages/ipykernel_launcher.py:6: SettingWithCopyWarning: \n",
      "A value is trying to be set on a copy of a slice from a DataFrame.\n",
      "Try using .loc[row_indexer,col_indexer] = value instead\n",
      "\n",
      "See the caveats in the documentation: https://pandas.pydata.org/pandas-docs/stable/user_guide/indexing.html#returning-a-view-versus-a-copy\n",
      "  \n",
      "/opt/conda/lib/python3.7/site-packages/ipykernel_launcher.py:7: SettingWithCopyWarning: \n",
      "A value is trying to be set on a copy of a slice from a DataFrame.\n",
      "Try using .loc[row_indexer,col_indexer] = value instead\n",
      "\n",
      "See the caveats in the documentation: https://pandas.pydata.org/pandas-docs/stable/user_guide/indexing.html#returning-a-view-versus-a-copy\n",
      "  import sys\n",
      "/opt/conda/lib/python3.7/site-packages/ipykernel_launcher.py:8: SettingWithCopyWarning: \n",
      "A value is trying to be set on a copy of a slice from a DataFrame.\n",
      "Try using .loc[row_indexer,col_indexer] = value instead\n",
      "\n",
      "See the caveats in the documentation: https://pandas.pydata.org/pandas-docs/stable/user_guide/indexing.html#returning-a-view-versus-a-copy\n",
      "  \n",
      "/opt/conda/lib/python3.7/site-packages/ipykernel_launcher.py:14: SettingWithCopyWarning: \n",
      "A value is trying to be set on a copy of a slice from a DataFrame.\n",
      "Try using .loc[row_indexer,col_indexer] = value instead\n",
      "\n",
      "See the caveats in the documentation: https://pandas.pydata.org/pandas-docs/stable/user_guide/indexing.html#returning-a-view-versus-a-copy\n",
      "  \n"
     ]
    }
   ],
   "source": [
    "anomaly_scores = np.concatenate(np.concatenate(anomaly_scores,axis=0),axis=0)\n",
    "errors = np.concatenate(np.concatenate(errors,axis=0),axis=0)\n",
    "predictions = np.concatenate(np.concatenate(predictions,axis=0),axis=0)\n",
    "\n",
    "df_results = test_df.iloc[0:len(anomaly_scores)]\n",
    "df_results['predictions'] = predictions\n",
    "df_results['error'] = errors\n",
    "df_results['anom_score'] = anomaly_scores\n",
    "\n",
    "def anom_threshold_function(x):\n",
    "    if(x > 0.8): return True\n",
    "    else: return False\n",
    "\n",
    "df_results['is_anomaly'] = df_results['anom_score'].apply(anom_threshold_function)"
   ]
  },
  {
   "cell_type": "code",
   "execution_count": 28,
   "metadata": {},
   "outputs": [
    {
     "name": "stderr",
     "output_type": "stream",
     "text": [
      "/root/eks-ml-pipeline/modeling/autoencoder_model_dish_5g.py:243: SettingWithCopyWarning: \n",
      "A value is trying to be set on a copy of a slice from a DataFrame.\n",
      "Try using .loc[row_indexer,col_indexer] = value instead\n",
      "\n",
      "See the caveats in the documentation: https://pandas.pydata.org/pandas-docs/stable/user_guide/indexing.html#returning-a-view-versus-a-copy\n",
      "  results_df[ANOMALIES_COLUMN] = results_df[ANOMALIES_COLUMN].fillna(False)\n"
     ]
    },
    {
     "data": {
      "image/png": "[encoded data removed]",
      "text/plain": [
       "<Figure size 2000x2000 with 2 Axes>"
      ]
     },
     "metadata": {},
     "output_type": "display_data"
    }
   ],
   "source": [
    "\n",
    "model.visualize(df_results, \"pod_cpu_utilization\")\n",
    "plt.show()"
   ]
  },
  {
   "cell_type": "code",
   "execution_count": null,
   "metadata": {},
   "outputs": [],
   "source": [
    "model.visualize(df_results, \"pod_memory_utilization\")\n",
    "plt.show()"
   ]
  },
  {
   "cell_type": "code",
   "execution_count": null,
   "metadata": {},
   "outputs": [],
   "source": [
    "model.visualize(df_results, \"pod_memory_utilization\")\n",
    "plt.show()"
   ]
  },
  {
   "cell_type": "code",
   "execution_count": null,
   "metadata": {},
   "outputs": [],
   "source": [
    "model.visualize(df_results, \"pod_network_total_bytes\")\n",
    "plt.show()"
   ]
  },
  {
   "cell_type": "code",
   "execution_count": null,
   "metadata": {},
   "outputs": [],
   "source": []
  },
  {
   "cell_type": "code",
   "execution_count": null,
   "metadata": {},
   "outputs": [],
   "source": []
  },
  {
   "cell_type": "code",
   "execution_count": null,
   "metadata": {},
   "outputs": [],
   "source": []
  }
 ],
 "metadata": {
  "instance_type": "ml.m5.8xlarge",
  "kernelspec": {
   "display_name": "Python 3 (Data Science)",
   "language": "python",
   "name": "python3__SAGEMAKER_INTERNAL__arn:aws:sagemaker:us-west-2:236514542706:image/datascience-1.0"
  },
  "language_info": {
   "codemirror_mode": {
    "name": "ipython",
    "version": 3
   },
   "file_extension": ".py",
   "mimetype": "text/x-python",
   "name": "python",
   "nbconvert_exporter": "python",
   "pygments_lexer": "ipython3",
   "version": "3.7.10"
  }
 },
 "nbformat": 4,
 "nbformat_minor": 4
}
