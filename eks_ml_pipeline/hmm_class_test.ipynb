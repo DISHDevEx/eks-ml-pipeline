{
 "cells": [
  {
   "cell_type": "code",
   "execution_count": null,
   "id": "89c999fa-8ed1-462c-9fb2-80855475598b",
   "metadata": {},
   "outputs": [],
   "source": [
    "!pip uninstall -y msspackages"
   ]
  },
  {
   "cell_type": "code",
   "execution_count": null,
   "id": "8a15fcad-ebd6-4ba8-84f1-c88ee2fb67e2",
   "metadata": {},
   "outputs": [],
   "source": []
  }
 ],
 "metadata": {
  "instance_type": "ml.t3.medium",
  "kernelspec": {
   "display_name": "Python 3 (Data Science)",
   "language": "python",
   "name": "python3__SAGEMAKER_INTERNAL__arn:aws:sagemaker:us-west-2:236514542706:image/datascience-1.0"
  },
  "language_info": {
   "codemirror_mode": {
    "name": "ipython",
    "version": 3
   },
   "file_extension": ".py",
   "mimetype": "text/x-python",
   "name": "python",
   "nbconvert_exporter": "python",
   "pygments_lexer": "ipython3",
   "version": "3.7.10"
  }
 },
 "nbformat": 4,
 "nbformat_minor": 5
}
