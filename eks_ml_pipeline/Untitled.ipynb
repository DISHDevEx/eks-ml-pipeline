{
 "cells": [
  {
   "cell_type": "code",
   "execution_count": null,
   "metadata": {},
   "outputs": [],
   "source": []
  },
  {
   "cell_type": "code",
   "execution_count": 11,
   "metadata": {},
   "outputs": [],
   "source": [
    "from io import BytesIO\n",
    "import numpy as np\n",
    "from urllib.parse import urlparse\n",
    "import boto3\n",
    "import os\n",
    "import shutil, sys  "
   ]
  },
  {
   "cell_type": "code",
   "execution_count": 12,
   "metadata": {},
   "outputs": [],
   "source": [
    "def upload_zip(local_path, bucket_name, model_name, version, file):\n",
    "    \"\"\"\n",
    "    inputs\n",
    "    ------\n",
    "            local_path: string\n",
    "            local path to folder NOT file to upload the folder to s3\n",
    "\n",
    "            bucket_name: STRING\n",
    "            s3 bucket name to write the folder\n",
    "\n",
    "            model_name: STRING\n",
    "            model name to create a folder within the bucket for model versioning\n",
    "\n",
    "            version: STRING\n",
    "            format: v#.#.#\n",
    "            version will be used versioning\n",
    "\n",
    "\n",
    "    outputs\n",
    "    -------\n",
    "            prints that the upload has completed\n",
    "\n",
    "    \"\"\"\n",
    "    path = shutil.make_archive(local_path, 'zip', local_path)\n",
    "    client = boto3.client('s3')\n",
    "    client.upload_file(path, bucket_name, model_name + '/' + version + '/models/' + file + \".zip\")\n",
    "    print(\"Zip file uploaded\")\n"
   ]
  },
  {
   "cell_type": "code",
   "execution_count": 13,
   "metadata": {},
   "outputs": [],
   "source": [
    "save_model_local_path = \"../../node_autoencoder\"\n",
    "model_bucketname = 'dish-5g.core.pd.g.dp.eks.logs.e'\n",
    "model_name = 'node_autoencoder_ad'\n",
    "model_version = 'v0.0.2'"
   ]
  },
  {
   "cell_type": "code",
   "execution_count": 20,
   "metadata": {},
   "outputs": [
    {
     "name": "stdout",
     "output_type": "stream",
     "text": [
      "Zip file uploaded\n"
     ]
    }
   ],
   "source": [
    "upload_zip(save_model_local_path,model_bucketname,model_name,model_version,model_name+model_version)"
   ]
  },
  {
   "cell_type": "code",
   "execution_count": 17,
   "metadata": {},
   "outputs": [
    {
     "name": "stdout",
     "output_type": "stream",
     "text": [
      "/root/eks-ml-pipeline\n"
     ]
    }
   ],
   "source": [
    "cd eks-ml-pipeline"
   ]
  },
  {
   "cell_type": "code",
   "execution_count": 18,
   "metadata": {},
   "outputs": [
    {
     "data": {
      "text/plain": [
       "'/root/eks-ml-pipeline'"
      ]
     },
     "execution_count": 18,
     "metadata": {},
     "output_type": "execute_result"
    }
   ],
   "source": [
    "pwd"
   ]
  },
  {
   "cell_type": "code",
   "execution_count": 19,
   "metadata": {},
   "outputs": [
    {
     "name": "stdout",
     "output_type": "stream",
     "text": [
      "/root/eks-ml-pipeline/eks_ml_pipeline\n"
     ]
    }
   ],
   "source": [
    "cd eks_ml_pipeline"
   ]
  },
  {
   "cell_type": "code",
   "execution_count": null,
   "metadata": {},
   "outputs": [],
   "source": []
  }
 ],
 "metadata": {
  "instance_type": "ml.m5d.8xlarge",
  "kernelspec": {
   "display_name": "Python 3 (Data Science)",
   "language": "python",
   "name": "python3__SAGEMAKER_INTERNAL__arn:aws:sagemaker:us-west-2:236514542706:image/datascience-1.0"
  },
  "language_info": {
   "codemirror_mode": {
    "name": "ipython",
    "version": 3
   },
   "file_extension": ".py",
   "mimetype": "text/x-python",
   "name": "python",
   "nbconvert_exporter": "python",
   "pygments_lexer": "ipython3",
   "version": "3.7.10"
  }
 },
 "nbformat": 4,
 "nbformat_minor": 4
}
