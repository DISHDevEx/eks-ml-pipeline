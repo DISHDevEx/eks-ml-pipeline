{
 "cells": [
  {
   "cell_type": "markdown",
   "metadata": {},
   "source": [
    "# Autoencoder POD Multiivariate Training Autoencoders and PCA (Expiriment 1)\n",
    " One Hour and One Day\n",
    "\n"
   ]
  },
  {
   "cell_type": "markdown",
   "metadata": {},
   "source": [
    "------"
   ]
  },
  {
   "cell_type": "code",
   "execution_count": 1,
   "metadata": {
    "tags": []
   },
   "outputs": [
    {
     "data": {
      "text/plain": [
       "'/root/eks-ml-pipeline/eks_ml_pipeline'"
      ]
     },
     "execution_count": 1,
     "metadata": {},
     "output_type": "execute_result"
    }
   ],
   "source": [
    "pwd"
   ]
  },
  {
   "cell_type": "markdown",
   "metadata": {},
   "source": [
    "## Imports"
   ]
  },
  {
   "cell_type": "code",
   "execution_count": 2,
   "metadata": {
    "tags": []
   },
   "outputs": [
    {
     "name": "stdout",
     "output_type": "stream",
     "text": [
      "Keyring is skipped due to an exception: 'keyring.backends'\n",
      "Found existing installation: msspackages 0.0.7\n",
      "Uninstalling msspackages-0.0.7:\n",
      "  Successfully uninstalled msspackages-0.0.7\n",
      "\u001b[33mWARNING: Running pip as the 'root' user can result in broken permissions and conflicting behaviour with the system package manager. It is recommended to use a virtual environment instead: https://pip.pypa.io/warnings/venv\u001b[0m\u001b[33m\n",
      "\u001b[0m"
     ]
    }
   ],
   "source": [
    "!pip uninstall -y msspackages"
   ]
  },
  {
   "cell_type": "code",
   "execution_count": 4,
   "metadata": {
    "tags": []
   },
   "outputs": [
    {
     "name": "stdout",
     "output_type": "stream",
     "text": [
      "Keyring is skipped due to an exception: 'keyring.backends'\n",
      "Processing /root/msspackages/dist/msspackages-0.0.7-py3-none-any.whl\n",
      "Requirement already satisfied: pyspark in /opt/conda/lib/python3.7/site-packages (from msspackages==0.0.7) (3.3.1)\n",
      "Requirement already satisfied: tqdm in /opt/conda/lib/python3.7/site-packages (from msspackages==0.0.7) (4.42.1)\n",
      "Requirement already satisfied: numpy in /opt/conda/lib/python3.7/site-packages (from msspackages==0.0.7) (1.21.6)\n",
      "Requirement already satisfied: pandas in /opt/conda/lib/python3.7/site-packages (from msspackages==0.0.7) (1.3.5)\n",
      "Requirement already satisfied: dask in /opt/conda/lib/python3.7/site-packages (from msspackages==0.0.7) (2022.2.0)\n",
      "Requirement already satisfied: configparser in /opt/conda/lib/python3.7/site-packages (from msspackages==0.0.7) (5.3.0)\n",
      "Requirement already satisfied: pyyaml>=5.3.1 in /opt/conda/lib/python3.7/site-packages (from dask->msspackages==0.0.7) (6.0)\n",
      "Requirement already satisfied: cloudpickle>=1.1.1 in /opt/conda/lib/python3.7/site-packages (from dask->msspackages==0.0.7) (2.2.0)\n",
      "Requirement already satisfied: partd>=0.3.10 in /opt/conda/lib/python3.7/site-packages (from dask->msspackages==0.0.7) (1.1.0)\n",
      "Requirement already satisfied: fsspec>=0.6.0 in /opt/conda/lib/python3.7/site-packages (from dask->msspackages==0.0.7) (2022.11.0)\n",
      "Requirement already satisfied: toolz>=0.8.2 in /opt/conda/lib/python3.7/site-packages (from dask->msspackages==0.0.7) (0.10.0)\n",
      "Requirement already satisfied: packaging>=20.0 in /opt/conda/lib/python3.7/site-packages (from dask->msspackages==0.0.7) (20.1)\n",
      "Requirement already satisfied: pytz>=2017.3 in /opt/conda/lib/python3.7/site-packages (from pandas->msspackages==0.0.7) (2019.3)\n",
      "Requirement already satisfied: python-dateutil>=2.7.3 in /opt/conda/lib/python3.7/site-packages (from pandas->msspackages==0.0.7) (2.8.2)\n",
      "Requirement already satisfied: py4j==0.10.9.5 in /opt/conda/lib/python3.7/site-packages (from pyspark->msspackages==0.0.7) (0.10.9.5)\n",
      "Requirement already satisfied: pyparsing>=2.0.2 in /opt/conda/lib/python3.7/site-packages (from packaging>=20.0->dask->msspackages==0.0.7) (2.4.6)\n",
      "Requirement already satisfied: six in /opt/conda/lib/python3.7/site-packages (from packaging>=20.0->dask->msspackages==0.0.7) (1.14.0)\n",
      "Requirement already satisfied: locket in /opt/conda/lib/python3.7/site-packages (from partd>=0.3.10->dask->msspackages==0.0.7) (0.2.0)\n",
      "Installing collected packages: msspackages\n",
      "Successfully installed msspackages-0.0.7\n",
      "\u001b[33mWARNING: Running pip as the 'root' user can result in broken permissions and conflicting behaviour with the system package manager. It is recommended to use a virtual environment instead: https://pip.pypa.io/warnings/venv\u001b[0m\u001b[33m\n",
      "\u001b[0m"
     ]
    }
   ],
   "source": [
    "!pip install /root/msspackages/dist/msspackages-0.0.7-py3-none-any.whl"
   ]
  },
  {
   "cell_type": "code",
   "execution_count": 5,
   "metadata": {
    "tags": []
   },
   "outputs": [
    {
     "name": "stdout",
     "output_type": "stream",
     "text": [
      "b\"Hit:1 http://deb.debian.org/debian buster InRelease\\nGet:2 http://security.debian.org/debian-security buster/updates InRelease [34.8 kB]\\nHit:3 http://deb.debian.org/debian buster-updates InRelease\\nFetched 34.8 kB in 0s (122 kB/s)\\nReading package lists...\\nBuilding dependency tree...\\nReading state information...\\n52 packages can be upgraded. Run 'apt list --upgradable' to see them.\\nReading package lists...\\nBuilding dependency tree...\\nReading state information...\\nsudo is already the newest version (1.8.27-1+deb10u4).\\n0 upgraded, 0 newly installed, 0 to remove and 52 not upgraded.\\nReading package lists...\\nBuilding dependency tree...\\nReading state information...\\ndefault-jre is already the newest version (2:1.11-71).\\n0 upgraded, 0 newly installed, 0 to remove and 52 not upgraded.\\nReading package lists...\\nBuilding dependency tree...\\nReading state information...\\npython3 is already the newest version (3.7.3-1).\\n0 upgraded, 0 newly installed, 0 to remove and 52 not upgraded.\\nReading package lists...\\nBuilding dependency tree...\\nReading state information...\\npython3-pip is already the newest version (18.1-5).\\n0 upgraded, 0 newly installed, 0 to remove and 52 not upgraded.\\n\"\n",
      "\n"
     ]
    }
   ],
   "source": [
    "from msspackages import setup_runner\n",
    "setup_runner()"
   ]
  },
  {
   "cell_type": "code",
   "execution_count": 6,
   "metadata": {
    "tags": []
   },
   "outputs": [
    {
     "name": "stdout",
     "output_type": "stream",
     "text": [
      "Keyring is skipped due to an exception: 'keyring.backends'\n",
      "Requirement already satisfied: pyspark>=3.3.0 in /opt/conda/lib/python3.7/site-packages (from -r requirements.txt (line 1)) (3.3.1)\n",
      "Requirement already satisfied: pandas>=1.3.5 in /opt/conda/lib/python3.7/site-packages (from -r requirements.txt (line 2)) (1.3.5)\n",
      "Requirement already satisfied: tensorflow>=2.11.0 in /opt/conda/lib/python3.7/site-packages (from -r requirements.txt (line 3)) (2.11.0)\n",
      "Requirement already satisfied: matplotlib>=3.1.3 in /opt/conda/lib/python3.7/site-packages (from -r requirements.txt (line 4)) (3.1.3)\n",
      "Requirement already satisfied: numpy>=1.21.6 in /opt/conda/lib/python3.7/site-packages (from -r requirements.txt (line 5)) (1.21.6)\n",
      "Requirement already satisfied: dill==0.3.6 in /opt/conda/lib/python3.7/site-packages (from -r requirements.txt (line 6)) (0.3.6)\n",
      "Requirement already satisfied: scikit_learn==1.0.2 in /opt/conda/lib/python3.7/site-packages (from -r requirements.txt (line 7)) (1.0.2)\n",
      "Requirement already satisfied: statsmodels==0.11.0 in /opt/conda/lib/python3.7/site-packages (from -r requirements.txt (line 8)) (0.11.0)\n",
      "Requirement already satisfied: threadpoolctl>=2.0.0 in /opt/conda/lib/python3.7/site-packages (from scikit_learn==1.0.2->-r requirements.txt (line 7)) (3.1.0)\n",
      "Requirement already satisfied: joblib>=0.11 in /opt/conda/lib/python3.7/site-packages (from scikit_learn==1.0.2->-r requirements.txt (line 7)) (0.14.1)\n",
      "Requirement already satisfied: scipy>=1.1.0 in /opt/conda/lib/python3.7/site-packages (from scikit_learn==1.0.2->-r requirements.txt (line 7)) (1.4.1)\n",
      "Requirement already satisfied: patsy>=0.5 in /opt/conda/lib/python3.7/site-packages (from statsmodels==0.11.0->-r requirements.txt (line 8)) (0.5.1)\n",
      "Requirement already satisfied: py4j==0.10.9.5 in /opt/conda/lib/python3.7/site-packages (from pyspark>=3.3.0->-r requirements.txt (line 1)) (0.10.9.5)\n",
      "Requirement already satisfied: python-dateutil>=2.7.3 in /opt/conda/lib/python3.7/site-packages (from pandas>=1.3.5->-r requirements.txt (line 2)) (2.8.2)\n",
      "Requirement already satisfied: pytz>=2017.3 in /opt/conda/lib/python3.7/site-packages (from pandas>=1.3.5->-r requirements.txt (line 2)) (2019.3)\n",
      "Requirement already satisfied: wrapt>=1.11.0 in /opt/conda/lib/python3.7/site-packages (from tensorflow>=2.11.0->-r requirements.txt (line 3)) (1.11.2)\n",
      "Requirement already satisfied: absl-py>=1.0.0 in /opt/conda/lib/python3.7/site-packages (from tensorflow>=2.11.0->-r requirements.txt (line 3)) (1.3.0)\n",
      "Requirement already satisfied: libclang>=13.0.0 in /opt/conda/lib/python3.7/site-packages (from tensorflow>=2.11.0->-r requirements.txt (line 3)) (14.0.6)\n",
      "Requirement already satisfied: setuptools in /opt/conda/lib/python3.7/site-packages (from tensorflow>=2.11.0->-r requirements.txt (line 3)) (59.3.0)\n",
      "Requirement already satisfied: termcolor>=1.1.0 in /opt/conda/lib/python3.7/site-packages (from tensorflow>=2.11.0->-r requirements.txt (line 3)) (2.1.1)\n",
      "Requirement already satisfied: h5py>=2.9.0 in /opt/conda/lib/python3.7/site-packages (from tensorflow>=2.11.0->-r requirements.txt (line 3)) (2.10.0)\n",
      "Requirement already satisfied: tensorboard<2.12,>=2.11 in /opt/conda/lib/python3.7/site-packages (from tensorflow>=2.11.0->-r requirements.txt (line 3)) (2.11.0)\n",
      "Requirement already satisfied: typing-extensions>=3.6.6 in /opt/conda/lib/python3.7/site-packages (from tensorflow>=2.11.0->-r requirements.txt (line 3)) (4.4.0)\n",
      "Requirement already satisfied: google-pasta>=0.1.1 in /opt/conda/lib/python3.7/site-packages (from tensorflow>=2.11.0->-r requirements.txt (line 3)) (0.2.0)\n",
      "Requirement already satisfied: protobuf<3.20,>=3.9.2 in /opt/conda/lib/python3.7/site-packages (from tensorflow>=2.11.0->-r requirements.txt (line 3)) (3.19.6)\n",
      "Requirement already satisfied: opt-einsum>=2.3.2 in /opt/conda/lib/python3.7/site-packages (from tensorflow>=2.11.0->-r requirements.txt (line 3)) (3.3.0)\n",
      "Requirement already satisfied: tensorflow-io-gcs-filesystem>=0.23.1 in /opt/conda/lib/python3.7/site-packages (from tensorflow>=2.11.0->-r requirements.txt (line 3)) (0.28.0)\n",
      "Requirement already satisfied: tensorflow-estimator<2.12,>=2.11.0 in /opt/conda/lib/python3.7/site-packages (from tensorflow>=2.11.0->-r requirements.txt (line 3)) (2.11.0)\n",
      "Requirement already satisfied: astunparse>=1.6.0 in /opt/conda/lib/python3.7/site-packages (from tensorflow>=2.11.0->-r requirements.txt (line 3)) (1.6.3)\n",
      "Requirement already satisfied: packaging in /opt/conda/lib/python3.7/site-packages (from tensorflow>=2.11.0->-r requirements.txt (line 3)) (20.1)\n",
      "Requirement already satisfied: gast<=0.4.0,>=0.2.1 in /opt/conda/lib/python3.7/site-packages (from tensorflow>=2.11.0->-r requirements.txt (line 3)) (0.4.0)\n",
      "Requirement already satisfied: six>=1.12.0 in /opt/conda/lib/python3.7/site-packages (from tensorflow>=2.11.0->-r requirements.txt (line 3)) (1.14.0)\n",
      "Requirement already satisfied: keras<2.12,>=2.11.0 in /opt/conda/lib/python3.7/site-packages (from tensorflow>=2.11.0->-r requirements.txt (line 3)) (2.11.0)\n",
      "Requirement already satisfied: flatbuffers>=2.0 in /opt/conda/lib/python3.7/site-packages (from tensorflow>=2.11.0->-r requirements.txt (line 3)) (22.12.6)\n",
      "Requirement already satisfied: grpcio<2.0,>=1.24.3 in /opt/conda/lib/python3.7/site-packages (from tensorflow>=2.11.0->-r requirements.txt (line 3)) (1.51.1)\n",
      "Requirement already satisfied: kiwisolver>=1.0.1 in /opt/conda/lib/python3.7/site-packages (from matplotlib>=3.1.3->-r requirements.txt (line 4)) (1.1.0)\n",
      "Requirement already satisfied: pyparsing!=2.0.4,!=2.1.2,!=2.1.6,>=2.0.1 in /opt/conda/lib/python3.7/site-packages (from matplotlib>=3.1.3->-r requirements.txt (line 4)) (2.4.6)\n",
      "Requirement already satisfied: cycler>=0.10 in /opt/conda/lib/python3.7/site-packages (from matplotlib>=3.1.3->-r requirements.txt (line 4)) (0.10.0)\n",
      "Requirement already satisfied: wheel<1.0,>=0.23.0 in /opt/conda/lib/python3.7/site-packages (from astunparse>=1.6.0->tensorflow>=2.11.0->-r requirements.txt (line 3)) (0.34.2)\n",
      "Requirement already satisfied: google-auth<3,>=1.6.3 in /opt/conda/lib/python3.7/site-packages (from tensorboard<2.12,>=2.11->tensorflow>=2.11.0->-r requirements.txt (line 3)) (2.15.0)\n",
      "Requirement already satisfied: tensorboard-plugin-wit>=1.6.0 in /opt/conda/lib/python3.7/site-packages (from tensorboard<2.12,>=2.11->tensorflow>=2.11.0->-r requirements.txt (line 3)) (1.8.1)\n",
      "Requirement already satisfied: requests<3,>=2.21.0 in /opt/conda/lib/python3.7/site-packages (from tensorboard<2.12,>=2.11->tensorflow>=2.11.0->-r requirements.txt (line 3)) (2.28.1)\n",
      "Requirement already satisfied: tensorboard-data-server<0.7.0,>=0.6.0 in /opt/conda/lib/python3.7/site-packages (from tensorboard<2.12,>=2.11->tensorflow>=2.11.0->-r requirements.txt (line 3)) (0.6.1)\n",
      "Requirement already satisfied: google-auth-oauthlib<0.5,>=0.4.1 in /opt/conda/lib/python3.7/site-packages (from tensorboard<2.12,>=2.11->tensorflow>=2.11.0->-r requirements.txt (line 3)) (0.4.6)\n",
      "Requirement already satisfied: markdown>=2.6.8 in /opt/conda/lib/python3.7/site-packages (from tensorboard<2.12,>=2.11->tensorflow>=2.11.0->-r requirements.txt (line 3)) (3.4.1)\n",
      "Requirement already satisfied: werkzeug>=1.0.1 in /opt/conda/lib/python3.7/site-packages (from tensorboard<2.12,>=2.11->tensorflow>=2.11.0->-r requirements.txt (line 3)) (2.2.2)\n",
      "Requirement already satisfied: cachetools<6.0,>=2.0.0 in /opt/conda/lib/python3.7/site-packages (from google-auth<3,>=1.6.3->tensorboard<2.12,>=2.11->tensorflow>=2.11.0->-r requirements.txt (line 3)) (5.2.0)\n",
      "Requirement already satisfied: pyasn1-modules>=0.2.1 in /opt/conda/lib/python3.7/site-packages (from google-auth<3,>=1.6.3->tensorboard<2.12,>=2.11->tensorflow>=2.11.0->-r requirements.txt (line 3)) (0.2.8)\n",
      "Requirement already satisfied: rsa<5,>=3.1.4 in /opt/conda/lib/python3.7/site-packages (from google-auth<3,>=1.6.3->tensorboard<2.12,>=2.11->tensorflow>=2.11.0->-r requirements.txt (line 3)) (4.9)\n",
      "Requirement already satisfied: requests-oauthlib>=0.7.0 in /opt/conda/lib/python3.7/site-packages (from google-auth-oauthlib<0.5,>=0.4.1->tensorboard<2.12,>=2.11->tensorflow>=2.11.0->-r requirements.txt (line 3)) (1.3.1)\n",
      "Requirement already satisfied: importlib-metadata>=4.4 in /opt/conda/lib/python3.7/site-packages (from markdown>=2.6.8->tensorboard<2.12,>=2.11->tensorflow>=2.11.0->-r requirements.txt (line 3)) (5.1.0)\n",
      "Requirement already satisfied: charset-normalizer<3,>=2 in /opt/conda/lib/python3.7/site-packages (from requests<3,>=2.21.0->tensorboard<2.12,>=2.11->tensorflow>=2.11.0->-r requirements.txt (line 3)) (2.0.4)\n",
      "Requirement already satisfied: idna<4,>=2.5 in /opt/conda/lib/python3.7/site-packages (from requests<3,>=2.21.0->tensorboard<2.12,>=2.11->tensorflow>=2.11.0->-r requirements.txt (line 3)) (2.8)\n",
      "Requirement already satisfied: urllib3<1.27,>=1.21.1 in /opt/conda/lib/python3.7/site-packages (from requests<3,>=2.21.0->tensorboard<2.12,>=2.11->tensorflow>=2.11.0->-r requirements.txt (line 3)) (1.26.13)\n",
      "Requirement already satisfied: certifi>=2017.4.17 in /opt/conda/lib/python3.7/site-packages (from requests<3,>=2.21.0->tensorboard<2.12,>=2.11->tensorflow>=2.11.0->-r requirements.txt (line 3)) (2022.9.24)\n",
      "Requirement already satisfied: MarkupSafe>=2.1.1 in /opt/conda/lib/python3.7/site-packages (from werkzeug>=1.0.1->tensorboard<2.12,>=2.11->tensorflow>=2.11.0->-r requirements.txt (line 3)) (2.1.1)\n",
      "Requirement already satisfied: zipp>=0.5 in /opt/conda/lib/python3.7/site-packages (from importlib-metadata>=4.4->markdown>=2.6.8->tensorboard<2.12,>=2.11->tensorflow>=2.11.0->-r requirements.txt (line 3)) (3.11.0)\n",
      "Requirement already satisfied: pyasn1<0.5.0,>=0.4.6 in /opt/conda/lib/python3.7/site-packages (from pyasn1-modules>=0.2.1->google-auth<3,>=1.6.3->tensorboard<2.12,>=2.11->tensorflow>=2.11.0->-r requirements.txt (line 3)) (0.4.8)\n",
      "Requirement already satisfied: oauthlib>=3.0.0 in /opt/conda/lib/python3.7/site-packages (from requests-oauthlib>=0.7.0->google-auth-oauthlib<0.5,>=0.4.1->tensorboard<2.12,>=2.11->tensorflow>=2.11.0->-r requirements.txt (line 3)) (3.2.2)\n",
      "\u001b[33mWARNING: Running pip as the 'root' user can result in broken permissions and conflicting behaviour with the system package manager. It is recommended to use a virtual environment instead: https://pip.pypa.io/warnings/venv\u001b[0m\u001b[33m\n",
      "\u001b[0m"
     ]
    }
   ],
   "source": [
    "!python3 -m pip install -r requirements.txt"
   ]
  },
  {
   "cell_type": "code",
   "execution_count": null,
   "metadata": {},
   "outputs": [],
   "source": []
  },
  {
   "cell_type": "code",
   "execution_count": 7,
   "metadata": {
    "tags": []
   },
   "outputs": [],
   "source": [
    "from msspackages import Pyspark_data_ingestion\n",
    "from pyspark import StorageLevel\n",
    "from pyspark.sql.functions import *\n",
    "import pandas as pd\n",
    "import seaborn as sns\n",
    "import matplotlib.pyplot as plt\n",
    "%matplotlib inline\n",
    "import numpy as np\n",
    "sns.set(color_codes=True)\n",
    "from numpy.random import seed\n",
    "import tensorflow as tf\n",
    "\n",
    "\n",
    "\n",
    "from keras.layers import Input, Dropout, Dense, LSTM, TimeDistributed, RepeatVector\n",
    "from keras.models import Model\n",
    "from keras import regularizers\n",
    "#pandas settings\n",
    "pd.set_option('display.max_columns', None)\n",
    "pd.set_option('display.max_rows', None)"
   ]
  },
  {
   "cell_type": "code",
   "execution_count": 8,
   "metadata": {
    "tags": []
   },
   "outputs": [],
   "source": [
    "# %%time\n",
    "# from msspackages import Pyspark_data_ingestion\n",
    "# pod_obj = Pyspark_data_ingestion(year = '2022', month = '10', day = '10', hour = -1, filter_column_value ='Pod',setup='128gb')\n",
    "# spark = pod_obj.get_spark()\n",
    "# err, pod_data = pod_obj.read()\n",
    "# pod_data = pod_data.select(*pod_data.columns,get_json_object(col(\"kubernetes\"),\"$.pod_id\").alias(\"pod_id\"))\n",
    "\n",
    "# features_list =  ['Timestamp','pod_id','pod_status','pod_memory_utilization','pod_network_total_bytes','pod_cpu_utilization']\n",
    "# pod_data = pod_data.select(features_list)\n",
    "\n",
    "# pod_data.write.parquet(\"pod_data_one_day.parquet\")\n"
   ]
  },
  {
   "cell_type": "code",
   "execution_count": 9,
   "metadata": {
    "tags": []
   },
   "outputs": [],
   "source": [
    "import importlib\n",
    "import numpy as np\n",
    "import pandas as pd\n",
    "from matplotlib import pyplot as plt\n",
    "from sklearn.preprocessing import MinMaxScaler, StandardScaler\n",
    "import json\n",
    "import sys\n",
    "import statsmodels.api as sm\n",
    "import os\n",
    "import keras\n",
    "from keras import layers\n",
    "import tensorflow as tf\n",
    "from sklearn.preprocessing import StandardScaler\n",
    "from models import autoencoder_model_dish_5g\n",
    "\n",
    "from sklearn.model_selection import train_test_split\n",
    "\n"
   ]
  },
  {
   "cell_type": "code",
   "execution_count": 10,
   "metadata": {
    "tags": []
   },
   "outputs": [],
   "source": [
    "pd.set_option('display.max_rows', None)"
   ]
  },
  {
   "cell_type": "markdown",
   "metadata": {},
   "source": [
    "First lets read in our training sample set "
   ]
  },
  {
   "cell_type": "code",
   "execution_count": 11,
   "metadata": {
    "tags": []
   },
   "outputs": [],
   "source": [
    "import pandas as pd\n",
    "\n",
    "training_df_full = pd.read_parquet('pod_data_one_hour.parquet')"
   ]
  },
  {
   "cell_type": "code",
   "execution_count": 12,
   "metadata": {
    "tags": []
   },
   "outputs": [],
   "source": [
    "pod_df=training_df_full.query(\"pod_status == 'Running'\")"
   ]
  },
  {
   "cell_type": "code",
   "execution_count": 13,
   "metadata": {
    "tags": []
   },
   "outputs": [
    {
     "name": "stderr",
     "output_type": "stream",
     "text": [
      "/opt/conda/lib/python3.7/site-packages/ipykernel_launcher.py:2: SettingWithCopyWarning: \n",
      "A value is trying to be set on a copy of a slice from a DataFrame.\n",
      "Try using .loc[row_indexer,col_indexer] = value instead\n",
      "\n",
      "See the caveats in the documentation: https://pandas.pydata.org/pandas-docs/stable/user_guide/indexing.html#returning-a-view-versus-a-copy\n",
      "  \n"
     ]
    }
   ],
   "source": [
    "# training_df_full = training_df_full.drop(training_df_full.columns.difference(columns_to_keep),1, inplace=False)\n",
    "pod_df['Timestamp'] = pd.to_datetime(pod_df['Timestamp'], unit='ms')"
   ]
  },
  {
   "cell_type": "code",
   "execution_count": 14,
   "metadata": {
    "tags": []
   },
   "outputs": [
    {
     "data": {
      "text/html": [
       "<div>\n",
       "<style scoped>\n",
       "    .dataframe tbody tr th:only-of-type {\n",
       "        vertical-align: middle;\n",
       "    }\n",
       "\n",
       "    .dataframe tbody tr th {\n",
       "        vertical-align: top;\n",
       "    }\n",
       "\n",
       "    .dataframe thead th {\n",
       "        text-align: right;\n",
       "    }\n",
       "</style>\n",
       "<table border=\"1\" class=\"dataframe\">\n",
       "  <thead>\n",
       "    <tr style=\"text-align: right;\">\n",
       "      <th></th>\n",
       "      <th>Timestamp</th>\n",
       "      <th>pod_id</th>\n",
       "      <th>pod_status</th>\n",
       "      <th>pod_memory_utilization</th>\n",
       "      <th>pod_network_total_bytes</th>\n",
       "      <th>pod_cpu_utilization</th>\n",
       "    </tr>\n",
       "  </thead>\n",
       "  <tbody>\n",
       "    <tr>\n",
       "      <th>0</th>\n",
       "      <td>2022-10-10 09:59:40.504</td>\n",
       "      <td>3ff8b4dd-aec7-4e4f-b66c-5b7b99821a7c</td>\n",
       "      <td>Running</td>\n",
       "      <td>0.040647</td>\n",
       "      <td>1.437919e+06</td>\n",
       "      <td>0.000790</td>\n",
       "    </tr>\n",
       "    <tr>\n",
       "      <th>1</th>\n",
       "      <td>2022-10-10 09:59:42.465</td>\n",
       "      <td>c57d2cce-e3e7-436e-99f2-bc23b7badea8</td>\n",
       "      <td>Running</td>\n",
       "      <td>0.273012</td>\n",
       "      <td>4.624508e+04</td>\n",
       "      <td>0.232224</td>\n",
       "    </tr>\n",
       "    <tr>\n",
       "      <th>2</th>\n",
       "      <td>2022-10-10 09:59:41.745</td>\n",
       "      <td>7500bb71-d4d1-4c03-84cf-a6683553b136</td>\n",
       "      <td>Running</td>\n",
       "      <td>0.121350</td>\n",
       "      <td>1.120958e+04</td>\n",
       "      <td>0.054349</td>\n",
       "    </tr>\n",
       "    <tr>\n",
       "      <th>3</th>\n",
       "      <td>2022-10-10 09:59:40.719</td>\n",
       "      <td>6731b8b8-5f10-4950-bd43-d1ce2c43a583</td>\n",
       "      <td>Running</td>\n",
       "      <td>0.265602</td>\n",
       "      <td>2.877183e+04</td>\n",
       "      <td>0.034304</td>\n",
       "    </tr>\n",
       "    <tr>\n",
       "      <th>4</th>\n",
       "      <td>2022-10-10 09:59:37.516</td>\n",
       "      <td>e2783813-09ad-420a-a34a-04c7b01f4791</td>\n",
       "      <td>Running</td>\n",
       "      <td>0.112260</td>\n",
       "      <td>1.035475e+04</td>\n",
       "      <td>0.044972</td>\n",
       "    </tr>\n",
       "  </tbody>\n",
       "</table>\n",
       "</div>"
      ],
      "text/plain": [
       "                Timestamp                                pod_id pod_status  \\\n",
       "0 2022-10-10 09:59:40.504  3ff8b4dd-aec7-4e4f-b66c-5b7b99821a7c    Running   \n",
       "1 2022-10-10 09:59:42.465  c57d2cce-e3e7-436e-99f2-bc23b7badea8    Running   \n",
       "2 2022-10-10 09:59:41.745  7500bb71-d4d1-4c03-84cf-a6683553b136    Running   \n",
       "3 2022-10-10 09:59:40.719  6731b8b8-5f10-4950-bd43-d1ce2c43a583    Running   \n",
       "4 2022-10-10 09:59:37.516  e2783813-09ad-420a-a34a-04c7b01f4791    Running   \n",
       "\n",
       "   pod_memory_utilization  pod_network_total_bytes  pod_cpu_utilization  \n",
       "0                0.040647             1.437919e+06             0.000790  \n",
       "1                0.273012             4.624508e+04             0.232224  \n",
       "2                0.121350             1.120958e+04             0.054349  \n",
       "3                0.265602             2.877183e+04             0.034304  \n",
       "4                0.112260             1.035475e+04             0.044972  "
      ]
     },
     "execution_count": 14,
     "metadata": {},
     "output_type": "execute_result"
    }
   ],
   "source": [
    "pod_df.head()"
   ]
  },
  {
   "cell_type": "code",
   "execution_count": 15,
   "metadata": {
    "tags": []
   },
   "outputs": [],
   "source": [
    "# pod_df.groupby('pod_id')['Timestamp'].count().hist()"
   ]
  },
  {
   "cell_type": "code",
   "execution_count": 16,
   "metadata": {
    "tags": []
   },
   "outputs": [],
   "source": [
    "pods_by_count = pod_df.groupby('pod_id')['Timestamp'].count() \n",
    "count_filter_1 = (pods_by_count >= 45)\n",
    "count_filter_2 = (pods_by_count <= 75)\n",
    "\n",
    "# get a list of pods with the right length \n",
    "ok_pod_list = pods_by_count[count_filter_1 & count_filter_2].index #.sample(1_000, replace=True).index"
   ]
  },
  {
   "cell_type": "markdown",
   "metadata": {},
   "source": [
    "-----"
   ]
  },
  {
   "cell_type": "code",
   "execution_count": 17,
   "metadata": {
    "tags": []
   },
   "outputs": [],
   "source": [
    "## for normalization\n",
    "scaler = StandardScaler()"
   ]
  },
  {
   "cell_type": "code",
   "execution_count": 18,
   "metadata": {
    "tags": []
   },
   "outputs": [],
   "source": [
    "import random \n",
    "features = ['pod_cpu_utilization','pod_memory_utilization','pod_network_total_bytes']"
   ]
  },
  {
   "cell_type": "code",
   "execution_count": 19,
   "metadata": {
    "tags": []
   },
   "outputs": [],
   "source": [
    "# training_df = \n",
    "ok_pod_filter = pod_df['pod_id'].isin(ok_pod_list)\n",
    "training_df = pod_df[ ok_pod_filter ][['Timestamp'] + ['pod_id']+features]"
   ]
  },
  {
   "cell_type": "code",
   "execution_count": 20,
   "metadata": {
    "tags": []
   },
   "outputs": [
    {
     "name": "stdout",
     "output_type": "stream",
     "text": [
      "CPU times: user 4min 47s, sys: 49.7 ms, total: 4min 47s\n",
      "Wall time: 4min 47s\n"
     ]
    }
   ],
   "source": [
    "%%time\n",
    "\n",
    "\n",
    "def make_df_for_pod(pod):\n",
    "    pod_filter = (training_df.pod_id == pod)\n",
    "    return     training_df[ pod_filter ].sort_values(by='Timestamp').reset_index(drop=True)\n",
    "\n",
    "\n",
    "    \n",
    "pod_dfs = [ make_df_for_pod(pod) for pod in training_df['pod_id'].unique() ] "
   ]
  },
  {
   "cell_type": "code",
   "execution_count": 21,
   "metadata": {
    "tags": []
   },
   "outputs": [
    {
     "name": "stderr",
     "output_type": "stream",
     "text": [
      "/opt/conda/lib/python3.7/site-packages/numpy/lib/npyio.py:528: VisibleDeprecationWarning: Creating an ndarray from ragged nested sequences (which is a list-or-tuple of lists-or-tuples-or ndarrays with different lengths or shapes) is deprecated. If you meant to do this, you must specify 'dtype=object' when creating the ndarray.\n",
      "  arr = np.asanyarray(arr)\n"
     ]
    }
   ],
   "source": [
    "with open('pods_dfs_onehour.npy', 'wb') as f:\n",
    "    np.save(f, pod_dfs)"
   ]
  },
  {
   "cell_type": "code",
   "execution_count": 22,
   "metadata": {
    "tags": []
   },
   "outputs": [],
   "source": [
    "##global variable\n",
    "\n",
    "time_steps = 20\n",
    "batch_size = 32\n",
    "n_samples = batch_size*1000 #000"
   ]
  },
  {
   "cell_type": "code",
   "execution_count": 23,
   "metadata": {
    "tags": []
   },
   "outputs": [
    {
     "name": "stdout",
     "output_type": "stream",
     "text": [
      "CPU times: user 2min 29s, sys: 11.8 ms, total: 2min 29s\n",
      "Wall time: 2min 29s\n"
     ]
    }
   ],
   "source": [
    "%%time\n",
    "#initializing for training set\n",
    "x_train = np.zeros((n_samples,time_steps,len(features)))\n",
    "\n",
    "for b in range(n_samples):\n",
    "    ##pick random df, and normalize\n",
    "    df = random.choice(pod_dfs)\n",
    "    df = df.dropna()\n",
    "\n",
    "    df = df.drop(columns = ['pod_id'])\n",
    "    df = df.set_index('Timestamp')\n",
    "    df = df.sort_index()\n",
    "    \n",
    "    ##make sure length of df is atleast 40\n",
    "    if len(df) >= 40 :\n",
    "        df = scaler.fit_transform(df[['pod_cpu_utilization','pod_memory_utilization','pod_network_total_bytes']])\n",
    "        sample = np.zeros((n_samples,time_steps,len(features)))\n",
    "        \n",
    "        first_time = random.choice(range(len(df)-time_steps))\n",
    "        sample = df[first_time:first_time+time_steps]\n",
    "        x_train[b] = sample\n",
    "  \n",
    "    else:\n",
    "        print('This never hapens')\n",
    "        continue\n",
    "        \n",
    "# x_train[159,:,0]"
   ]
  },
  {
   "cell_type": "code",
   "execution_count": 24,
   "metadata": {
    "tags": []
   },
   "outputs": [],
   "source": [
    "with open('train_20_32_1000onehour.npy', 'wb') as f:\n",
    "    np.save(f, x_train)"
   ]
  },
  {
   "cell_type": "markdown",
   "metadata": {},
   "source": [
    "# Training for 9485 Pods with the following parameters\n",
    "time_steps = 20\n",
    "batch_size = 32\n",
    "n_samples = batch_size*1000 "
   ]
  },
  {
   "cell_type": "code",
   "execution_count": 24,
   "metadata": {
    "tags": []
   },
   "outputs": [
    {
     "name": "stderr",
     "output_type": "stream",
     "text": [
      "WARNING:absl:`lr` is deprecated, please use `learning_rate` instead, or use the legacy optimizer, e.g.,tf.keras.optimizers.legacy.Adam.\n"
     ]
    },
    {
     "name": "stdout",
     "output_type": "stream",
     "text": [
      "Model: \"sequential\"\n",
      "_________________________________________________________________\n",
      " Layer (type)                Output Shape              Param #   \n",
      "=================================================================\n",
      " bidirectional (Bidirectiona  (None, 256)              135168    \n",
      " l)                                                              \n",
      "                                                                 \n",
      " repeat_vector (RepeatVector  (None, 20, 256)          0         \n",
      " )                                                               \n",
      "                                                                 \n",
      " bidirectional_1 (Bidirectio  (None, 20, 256)          394240    \n",
      " nal)                                                            \n",
      "                                                                 \n",
      " time_distributed (TimeDistr  (None, 20, 3)            771       \n",
      " ibuted)                                                         \n",
      "                                                                 \n",
      "=================================================================\n",
      "Total params: 530,179\n",
      "Trainable params: 530,179\n",
      "Non-trainable params: 0\n",
      "_________________________________________________________________\n",
      "Epoch 1/2\n",
      "900/900 [==============================] - 26s 24ms/step - loss: 0.5899 - val_loss: 0.5598\n",
      "Epoch 2/2\n",
      "900/900 [==============================] - 20s 23ms/step - loss: 0.5522 - val_loss: 0.5246\n"
     ]
    },
    {
     "data": {
      "image/png": "[encoded data removed]",
      "text/plain": [
       "<Figure size 640x480 with 1 Axes>"
      ]
     },
     "metadata": {},
     "output_type": "display_data"
    },
    {
     "name": "stdout",
     "output_type": "stream",
     "text": [
      "1000/1000 [==============================] - 11s 10ms/step\n"
     ]
    }
   ],
   "source": [
    "from models import autoencoder_model_dish_5g\n",
    "model = autoencoder_model_dish_5g(batch_size = batch_size, \n",
    "                                  time_steps = time_steps,\n",
    "                                  learning_rate=0.001,\n",
    "                                  validation_split=.1, \n",
    "                                  epochs=100, \n",
    "                                  nuerons = 128, \n",
    "                                  dropout_rate=.1\n",
    "                                 )\n",
    "model.fit(x_train)"
   ]
  },
  {
   "cell_type": "code",
   "execution_count": 25,
   "metadata": {
    "tags": []
   },
   "outputs": [
    {
     "name": "stdout",
     "output_type": "stream",
     "text": [
      "1000/1000 [==============================] - 10s 10ms/step\n"
     ]
    },
    {
     "data": {
      "text/plain": [
       "[0.8280269900323836, 0.5541252117231082, 0.8711429083154767]"
      ]
     },
     "execution_count": 25,
     "metadata": {},
     "output_type": "execute_result"
    }
   ],
   "source": [
    "model.fraction_of_variance_lost(x_train)"
   ]
  },
  {
   "cell_type": "code",
   "execution_count": 25,
   "metadata": {
    "tags": []
   },
   "outputs": [
    {
     "name": "stdout",
     "output_type": "stream",
     "text": [
      "1000/1000 [==============================] - 11s 11ms/step\n"
     ]
    },
    {
     "data": {
      "text/plain": [
       "[0.987059160897523, 0.9871588350440342, 0.9853511112843538]"
      ]
     },
     "execution_count": 25,
     "metadata": {},
     "output_type": "execute_result"
    }
   ],
   "source": [
    "from sklearn.metrics import explained_variance_score\n",
    "results, error = model.test(x_train[:,:,:])\n",
    "scores = []\n",
    "\n",
    "for i in range(3):\n",
    "    scores.append(explained_variance_score(y_true = x_train[:,:,i], y_pred = results[:,:,i]))\n",
    "# model.loss_of_varaiance(x_train,results)\n",
    "\n",
    "scores"
   ]
  },
  {
   "cell_type": "code",
   "execution_count": 26,
   "metadata": {
    "tags": []
   },
   "outputs": [],
   "source": [
    "# from sklearn.decomposition import PCA\n",
    "\n",
    "# pca = PCA(n_components=x_train.shape[1])\n",
    "# train_set_predictions,_ = model.test(x_train)\n",
    "\n",
    "# loss_of_variance = []\n",
    "\n",
    "# for i in range(3):\n",
    "#     pca.fit(x_train[:,:,i]).explained_variance_.sum()\n",
    "#     variance_of_x_train = pca.fit(x_train[:,:,i]).explained_variance_.sum()\n",
    "#     variance_of_DoEx_train = pca.fit( train_set_predictions[:,:,i] ).explained_variance_.sum()\n",
    "#     loss_of_variance.append(variance_of_x_train - variance_of_DoEx_train)\n",
    "\n",
    "# loss_of_variance"
   ]
  },
  {
   "cell_type": "markdown",
   "metadata": {},
   "source": [
    "### train for 9485 PODS in one hour \n",
    "time_steps = 20\n",
    "batch_size = 16\n",
    "n_samples = batch_size*1000 #000"
   ]
  },
  {
   "cell_type": "code",
   "execution_count": 38,
   "metadata": {
    "tags": []
   },
   "outputs": [
    {
     "name": "stderr",
     "output_type": "stream",
     "text": [
      "WARNING:absl:`lr` is deprecated, please use `learning_rate` instead, or use the legacy optimizer, e.g.,tf.keras.optimizers.legacy.Adam.\n"
     ]
    },
    {
     "name": "stdout",
     "output_type": "stream",
     "text": [
      "Model: \"sequential\"\n",
      "_________________________________________________________________\n",
      " Layer (type)                Output Shape              Param #   \n",
      "=================================================================\n",
      " bidirectional (Bidirectiona  (None, 256)              135168    \n",
      " l)                                                              \n",
      "                                                                 \n",
      " repeat_vector (RepeatVector  (None, 20, 256)          0         \n",
      " )                                                               \n",
      "                                                                 \n",
      " bidirectional_1 (Bidirectio  (None, 20, 256)          394240    \n",
      " nal)                                                            \n",
      "                                                                 \n",
      " time_distributed (TimeDistr  (None, 20, 3)            771       \n",
      " ibuted)                                                         \n",
      "                                                                 \n",
      "=================================================================\n",
      "Total params: 530,179\n",
      "Trainable params: 530,179\n",
      "Non-trainable params: 0\n",
      "_________________________________________________________________\n",
      "Epoch 1/100\n",
      "900/900 [==============================] - 23s 21ms/step - loss: 0.5840 - val_loss: 0.5581\n",
      "Epoch 2/100\n",
      "900/900 [==============================] - 18s 20ms/step - loss: 0.5530 - val_loss: 0.5365\n",
      "Epoch 3/100\n",
      "900/900 [==============================] - 18s 20ms/step - loss: 0.5372 - val_loss: 0.5181\n",
      "Epoch 4/100\n",
      "900/900 [==============================] - 18s 20ms/step - loss: 0.5174 - val_loss: 0.4928\n",
      "Epoch 5/100\n",
      "900/900 [==============================] - 18s 20ms/step - loss: 0.4888 - val_loss: 0.4521\n",
      "Epoch 6/100\n",
      "900/900 [==============================] - 18s 20ms/step - loss: 0.4514 - val_loss: 0.4104\n",
      "Epoch 7/100\n",
      "900/900 [==============================] - 18s 20ms/step - loss: 0.4153 - val_loss: 0.3746\n",
      "Epoch 8/100\n",
      "900/900 [==============================] - 18s 20ms/step - loss: 0.3828 - val_loss: 0.3446\n",
      "Epoch 9/100\n",
      "900/900 [==============================] - 18s 20ms/step - loss: 0.3478 - val_loss: 0.3043\n",
      "Epoch 10/100\n",
      "900/900 [==============================] - 18s 20ms/step - loss: 0.3127 - val_loss: 0.2607\n",
      "Epoch 11/100\n",
      "900/900 [==============================] - 18s 20ms/step - loss: 0.2835 - val_loss: 0.2371\n",
      "Epoch 12/100\n",
      "900/900 [==============================] - 18s 20ms/step - loss: 0.2613 - val_loss: 0.2175\n",
      "Epoch 13/100\n",
      "900/900 [==============================] - 18s 20ms/step - loss: 0.2414 - val_loss: 0.1994\n",
      "Epoch 14/100\n",
      "900/900 [==============================] - 18s 20ms/step - loss: 0.2255 - val_loss: 0.1839\n",
      "Epoch 15/100\n",
      "900/900 [==============================] - 18s 20ms/step - loss: 0.2109 - val_loss: 0.1614\n",
      "Epoch 16/100\n",
      "900/900 [==============================] - 18s 20ms/step - loss: 0.1977 - val_loss: 0.1589\n",
      "Epoch 17/100\n",
      "900/900 [==============================] - 18s 20ms/step - loss: 0.1867 - val_loss: 0.1465\n",
      "Epoch 18/100\n",
      "900/900 [==============================] - 18s 20ms/step - loss: 0.1766 - val_loss: 0.1323\n",
      "Epoch 19/100\n",
      "900/900 [==============================] - 18s 20ms/step - loss: 0.1684 - val_loss: 0.1282\n",
      "Epoch 20/100\n",
      "900/900 [==============================] - 18s 20ms/step - loss: 0.1632 - val_loss: 0.1261\n",
      "Epoch 21/100\n",
      "900/900 [==============================] - 18s 20ms/step - loss: 0.1598 - val_loss: 0.1258\n",
      "Epoch 22/100\n",
      "900/900 [==============================] - 18s 20ms/step - loss: 0.1570 - val_loss: 0.1210\n",
      "Epoch 23/100\n",
      "900/900 [==============================] - 18s 20ms/step - loss: 0.1552 - val_loss: 0.1109\n",
      "Epoch 24/100\n",
      "900/900 [==============================] - 18s 20ms/step - loss: 0.1520 - val_loss: 0.1132\n",
      "Epoch 25/100\n",
      "900/900 [==============================] - 18s 20ms/step - loss: 0.1496 - val_loss: 0.1118\n",
      "Epoch 26/100\n",
      "900/900 [==============================] - 18s 20ms/step - loss: 0.1478 - val_loss: 0.1078\n",
      "Epoch 27/100\n",
      "900/900 [==============================] - 18s 21ms/step - loss: 0.1464 - val_loss: 0.1152\n",
      "Epoch 28/100\n",
      "900/900 [==============================] - 19s 21ms/step - loss: 0.1448 - val_loss: 0.1007\n",
      "Epoch 29/100\n",
      "900/900 [==============================] - 19s 21ms/step - loss: 0.1433 - val_loss: 0.1061\n",
      "Epoch 30/100\n",
      "900/900 [==============================] - 19s 21ms/step - loss: 0.1410 - val_loss: 0.1050\n",
      "Epoch 31/100\n",
      "900/900 [==============================] - 18s 21ms/step - loss: 0.1402 - val_loss: 0.1010\n",
      "Epoch 32/100\n",
      "900/900 [==============================] - 19s 21ms/step - loss: 0.1383 - val_loss: 0.1058\n",
      "Epoch 33/100\n",
      "900/900 [==============================] - 19s 21ms/step - loss: 0.1376 - val_loss: 0.1000\n",
      "Epoch 34/100\n",
      "900/900 [==============================] - 19s 21ms/step - loss: 0.1365 - val_loss: 0.0985\n",
      "Epoch 35/100\n",
      "900/900 [==============================] - 19s 21ms/step - loss: 0.1357 - val_loss: 0.0988\n",
      "Epoch 36/100\n",
      "900/900 [==============================] - 19s 21ms/step - loss: 0.1347 - val_loss: 0.0968\n",
      "Epoch 37/100\n",
      "900/900 [==============================] - 19s 21ms/step - loss: 0.1332 - val_loss: 0.0981\n",
      "Epoch 38/100\n",
      "900/900 [==============================] - 19s 21ms/step - loss: 0.1324 - val_loss: 0.0959\n",
      "Epoch 39/100\n",
      "900/900 [==============================] - 19s 21ms/step - loss: 0.1313 - val_loss: 0.0960\n",
      "Epoch 40/100\n",
      "900/900 [==============================] - 19s 21ms/step - loss: 0.1302 - val_loss: 0.0908\n",
      "Epoch 41/100\n",
      "900/900 [==============================] - 19s 21ms/step - loss: 0.1295 - val_loss: 0.0964\n",
      "Epoch 42/100\n",
      "900/900 [==============================] - 19s 21ms/step - loss: 0.1293 - val_loss: 0.0905\n",
      "Epoch 43/100\n",
      "900/900 [==============================] - 19s 21ms/step - loss: 0.1283 - val_loss: 0.0893\n",
      "Epoch 44/100\n",
      "900/900 [==============================] - 19s 21ms/step - loss: 0.1278 - val_loss: 0.0923\n",
      "Epoch 45/100\n",
      "900/900 [==============================] - 19s 21ms/step - loss: 0.1267 - val_loss: 0.0895\n",
      "Epoch 46/100\n",
      "900/900 [==============================] - 19s 21ms/step - loss: 0.1270 - val_loss: 0.0927\n",
      "Epoch 47/100\n",
      "900/900 [==============================] - 19s 21ms/step - loss: 0.1265 - val_loss: 0.0914\n",
      "Epoch 48/100\n",
      "900/900 [==============================] - 19s 21ms/step - loss: 0.1259 - val_loss: 0.0896\n"
     ]
    },
    {
     "data": {
      "image/png": "[encoded data removed]",
      "text/plain": [
       "<Figure size 640x480 with 1 Axes>"
      ]
     },
     "metadata": {},
     "output_type": "display_data"
    },
    {
     "name": "stdout",
     "output_type": "stream",
     "text": [
      "500/500 [==============================] - 6s 10ms/step\n"
     ]
    }
   ],
   "source": [
    "from models import autoencoder_model_dish_5g\n",
    "model = autoencoder_model_dish_5g(batch_size = batch_size, \n",
    "                                  time_steps = time_steps,\n",
    "                                  learning_rate=0.001,\n",
    "                                  validation_split=.1, \n",
    "                                  epochs=100, \n",
    "                                  nuerons = 128, \n",
    "                                  dropout_rate=.1\n",
    "                                 )\n",
    "model.fit(x_train)"
   ]
  },
  {
   "cell_type": "code",
   "execution_count": 158,
   "metadata": {
    "tags": []
   },
   "outputs": [],
   "source": [
    "from sklearn.metrics import median_absolute_error"
   ]
  },
  {
   "cell_type": "code",
   "execution_count": 157,
   "metadata": {
    "tags": []
   },
   "outputs": [
    {
     "data": {
      "text/plain": [
       "(16000, 20, 3)"
      ]
     },
     "execution_count": 157,
     "metadata": {},
     "output_type": "execute_result"
    }
   ],
   "source": [
    "model.results.shape"
   ]
  },
  {
   "cell_type": "code",
   "execution_count": 168,
   "metadata": {
    "tags": []
   },
   "outputs": [
    {
     "data": {
      "text/plain": [
       "0.0966878951664284"
      ]
     },
     "execution_count": 168,
     "metadata": {},
     "output_type": "execute_result"
    }
   ],
   "source": [
    "maes = 0\n",
    "for i in range(3):\n",
    "    maes += median_absolute_error(x_train[:,:,i], model.results[:,:,i])\n",
    "    \n",
    "mae_train_loss  = (maes)/3\n",
    "mae_train_loss"
   ]
  },
  {
   "cell_type": "code",
   "execution_count": 23,
   "metadata": {},
   "outputs": [],
   "source": [
    "# model: i_model.IModel = autoencoder_model.AutoEncoderModel(batch_size = batch_size, time_steps = time_steps)"
   ]
  },
  {
   "cell_type": "code",
   "execution_count": 135,
   "metadata": {
    "tags": []
   },
   "outputs": [],
   "source": [
    "from models import pca_ad_dish_5g"
   ]
  },
  {
   "cell_type": "code",
   "execution_count": 140,
   "metadata": {
    "tags": []
   },
   "outputs": [
    {
     "data": {
      "text/plain": [
       "(16000, 20, 3)"
      ]
     },
     "execution_count": 140,
     "metadata": {},
     "output_type": "execute_result"
    }
   ],
   "source": [
    "x_train.shape"
   ]
  },
  {
   "cell_type": "code",
   "execution_count": 143,
   "metadata": {
    "tags": []
   },
   "outputs": [],
   "source": [
    "pca = pca_ad_dish_5g.pca_ad_dish_5g(num_of_features =x_train.shape[2], \n",
    "                                    number_of_temporal_slices = 1, \n",
    "                                    timesteps_per_slice = x_train.shape[1], \n",
    "                                    n_modes_to_delete=1\n",
    "                                   )"
   ]
  },
  {
   "cell_type": "code",
   "execution_count": 172,
   "metadata": {
    "tags": []
   },
   "outputs": [],
   "source": [
    "pca.vs[0].shape\n",
    "last_right_principal_vector = pca.vs[0][:,-1]"
   ]
  },
  {
   "cell_type": "code",
   "execution_count": 211,
   "metadata": {
    "tags": []
   },
   "outputs": [
    {
     "data": {
      "image/png": "[encoded data removed]",
      "text/plain": [
       "<Figure size 640x480 with 1 Axes>"
      ]
     },
     "metadata": {},
     "output_type": "display_data"
    }
   ],
   "source": [
    "last_right_principal_vectors = []\n",
    "for q in range(1_000 , \n",
    "               x_train.shape[0] , \n",
    "               1_000):\n",
    "    residuals_reshaped, ed_errors, encode_decode_maps = pca.train(x_train[:q])\n",
    "    last_right_principal_vectors.append( pca.vs[0][:,-1])\n",
    "    \n",
    "\n",
    "angles = [ np.min([np.arccos(np.matmul(vector.T,last_right_principal_vector)),\n",
    "                np.arccos(np.matmul(vector.T, - last_right_principal_vector)) ])for vector in last_right_principal_vectors]\n",
    "\n",
    "plt.plot(angles)\n",
    "plt.show();"
   ]
  },
  {
   "cell_type": "markdown",
   "metadata": {},
   "source": [
    "The direction of the last principal vector is settling down to the direction determined by having 16,000 samples. "
   ]
  },
  {
   "cell_type": "code",
   "execution_count": null,
   "metadata": {},
   "outputs": [],
   "source": []
  },
  {
   "cell_type": "code",
   "execution_count": null,
   "metadata": {},
   "outputs": [],
   "source": []
  },
  {
   "cell_type": "code",
   "execution_count": null,
   "metadata": {},
   "outputs": [],
   "source": []
  },
  {
   "cell_type": "code",
   "execution_count": null,
   "metadata": {},
   "outputs": [],
   "source": []
  },
  {
   "cell_type": "code",
   "execution_count": 144,
   "metadata": {
    "tags": []
   },
   "outputs": [
    {
     "data": {
      "text/plain": [
       "(16000, 20, 3)"
      ]
     },
     "execution_count": 144,
     "metadata": {},
     "output_type": "execute_result"
    }
   ],
   "source": [
    "residuals_reshaped.shape"
   ]
  },
  {
   "cell_type": "code",
   "execution_count": 169,
   "metadata": {
    "tags": []
   },
   "outputs": [
    {
     "data": {
      "text/plain": [
       "(0.10311449907328027, 0.096687)"
      ]
     },
     "execution_count": 169,
     "metadata": {},
     "output_type": "execute_result"
    }
   ],
   "source": [
    "pca_train_loss = ed_errors.mean()/20\n",
    "pca_train_loss, 0.096687"
   ]
  },
  {
   "cell_type": "code",
   "execution_count": 146,
   "metadata": {
    "tags": []
   },
   "outputs": [
    {
     "data": {
      "text/plain": [
       "(20, 20)"
      ]
     },
     "execution_count": 146,
     "metadata": {},
     "output_type": "execute_result"
    }
   ],
   "source": [
    "encode_decode_maps[0].shape"
   ]
  },
  {
   "cell_type": "markdown",
   "metadata": {},
   "source": [
    "# TEST DATASET: Build out Dataset for testing on one pod"
   ]
  },
  {
   "cell_type": "code",
   "execution_count": 63,
   "metadata": {
    "tags": []
   },
   "outputs": [],
   "source": [
    "# testing_df = pod_df[~pod_df['pod_id'].isin(upods)]\n",
    "\n",
    "# testing_df.head()\n",
    "# ## drop the pod_id\n",
    "# test_df = test_df.drop(\"pod_id\",1, inplace=False)\n",
    "\n",
    "\n",
    "# ##set timestamp as the index\n",
    "# test_df = test_df.set_index('Timestamp')\n",
    "\n",
    "# ##normalize test_df \n",
    "# test_df = scaler.fit_transform(test_df.values)\n",
    "\n",
    "\n",
    "# ##ensure the data is sorted!!\n",
    "# test_df = test_df.sort_index()"
   ]
  },
  {
   "cell_type": "markdown",
   "metadata": {},
   "source": [
    "### Then we test"
   ]
  },
  {
   "cell_type": "code",
   "execution_count": 25,
   "metadata": {},
   "outputs": [
    {
     "name": "stdout",
     "output_type": "stream",
     "text": [
      "1/1 [==============================] - 0s 21ms/step\n",
      "1/1 [==============================] - 0s 21ms/step\n",
      "1/1 [==============================] - 0s 21ms/step\n",
      "1/1 [==============================] - 0s 20ms/step\n",
      "1/1 [==============================] - 0s 20ms/step\n",
      "1/1 [==============================] - 0s 19ms/step\n",
      "1/1 [==============================] - 0s 20ms/step\n",
      "1/1 [==============================] - 0s 21ms/step\n",
      "1/1 [==============================] - 0s 21ms/step\n",
      "1/1 [==============================] - 0s 20ms/step\n",
      "1/1 [==============================] - 0s 21ms/step\n",
      "1/1 [==============================] - 0s 20ms/step\n",
      "1/1 [==============================] - 0s 20ms/step\n",
      "1/1 [==============================] - 0s 21ms/step\n",
      "1/1 [==============================] - 0s 22ms/step\n",
      "1/1 [==============================] - 0s 22ms/step\n",
      "1/1 [==============================] - 0s 21ms/step\n",
      "1/1 [==============================] - 0s 21ms/step\n",
      "1/1 [==============================] - 0s 20ms/step\n",
      "1/1 [==============================] - 0s 20ms/step\n",
      "1/1 [==============================] - 0s 20ms/step\n",
      "1/1 [==============================] - 0s 20ms/step\n",
      "1/1 [==============================] - 0s 21ms/step\n",
      "1/1 [==============================] - 0s 21ms/step\n",
      "1/1 [==============================] - 0s 21ms/step\n",
      "1/1 [==============================] - 0s 20ms/step\n",
      "1/1 [==============================] - 0s 20ms/step\n",
      "1/1 [==============================] - 0s 22ms/step\n",
      "1/1 [==============================] - 0s 20ms/step\n",
      "1/1 [==============================] - 0s 20ms/step\n",
      "1/1 [==============================] - 0s 20ms/step\n",
      "1/1 [==============================] - 0s 20ms/step\n",
      "1/1 [==============================] - 0s 21ms/step\n",
      "1/1 [==============================] - 0s 21ms/step\n",
      "1/1 [==============================] - 0s 21ms/step\n",
      "1/1 [==============================] - 0s 20ms/step\n",
      "1/1 [==============================] - 0s 20ms/step\n",
      "1/1 [==============================] - 0s 20ms/step\n",
      "1/1 [==============================] - 0s 21ms/step\n",
      "1/1 [==============================] - 0s 20ms/step\n",
      "1/1 [==============================] - 0s 20ms/step\n",
      "1/1 [==============================] - 0s 21ms/step\n",
      "1/1 [==============================] - 0s 20ms/step\n",
      "1/1 [==============================] - 0s 21ms/step\n",
      "1/1 [==============================] - 0s 22ms/step\n",
      "1/1 [==============================] - 0s 22ms/step\n",
      "1/1 [==============================] - 0s 21ms/step\n",
      "1/1 [==============================] - 0s 21ms/step\n",
      "1/1 [==============================] - 0s 21ms/step\n",
      "1/1 [==============================] - 0s 22ms/step\n",
      "1/1 [==============================] - 0s 21ms/step\n",
      "1/1 [==============================] - 0s 22ms/step\n",
      "1/1 [==============================] - 0s 24ms/step\n",
      "1/1 [==============================] - 0s 23ms/step\n",
      "1/1 [==============================] - 0s 23ms/step\n",
      "1/1 [==============================] - 0s 22ms/step\n",
      "1/1 [==============================] - 0s 22ms/step\n",
      "1/1 [==============================] - 0s 22ms/step\n",
      "1/1 [==============================] - 0s 21ms/step\n",
      "1/1 [==============================] - 0s 21ms/step\n",
      "1/1 [==============================] - 0s 21ms/step\n",
      "1/1 [==============================] - 0s 21ms/step\n",
      "1/1 [==============================] - 0s 22ms/step\n",
      "1/1 [==============================] - 0s 22ms/step\n",
      "1/1 [==============================] - 0s 22ms/step\n",
      "1/1 [==============================] - 0s 22ms/step\n",
      "1/1 [==============================] - 0s 22ms/step\n",
      "1/1 [==============================] - 0s 22ms/step\n",
      "1/1 [==============================] - 0s 22ms/step\n",
      "1/1 [==============================] - 0s 22ms/step\n",
      "1/1 [==============================] - 0s 22ms/step\n",
      "1/1 [==============================] - 0s 22ms/step\n",
      "1/1 [==============================] - 0s 23ms/step\n",
      "1/1 [==============================] - 0s 22ms/step\n",
      "1/1 [==============================] - 0s 22ms/step\n",
      "1/1 [==============================] - 0s 21ms/step\n",
      "1/1 [==============================] - 0s 21ms/step\n",
      "1/1 [==============================] - 0s 22ms/step\n",
      "1/1 [==============================] - 0s 22ms/step\n",
      "1/1 [==============================] - 0s 22ms/step\n",
      "1/1 [==============================] - 0s 22ms/step\n",
      "1/1 [==============================] - 0s 23ms/step\n",
      "1/1 [==============================] - 0s 23ms/step\n",
      "1/1 [==============================] - 0s 22ms/step\n",
      "1/1 [==============================] - 0s 22ms/step\n",
      "1/1 [==============================] - 0s 22ms/step\n",
      "1/1 [==============================] - 0s 22ms/step\n",
      "1/1 [==============================] - 0s 22ms/step\n",
      "1/1 [==============================] - 0s 22ms/step\n",
      "1/1 [==============================] - 0s 22ms/step\n",
      "1/1 [==============================] - 0s 22ms/step\n",
      "1/1 [==============================] - 0s 23ms/step\n",
      "1/1 [==============================] - 0s 23ms/step\n",
      "1/1 [==============================] - 0s 22ms/step\n",
      "1/1 [==============================] - 0s 21ms/step\n",
      "1/1 [==============================] - 0s 22ms/step\n",
      "1/1 [==============================] - 0s 22ms/step\n",
      "1/1 [==============================] - 0s 21ms/step\n",
      "1/1 [==============================] - 0s 21ms/step\n",
      "1/1 [==============================] - 0s 21ms/step\n",
      "1/1 [==============================] - 0s 21ms/step\n",
      "1/1 [==============================] - 0s 23ms/step\n",
      "1/1 [==============================] - 0s 22ms/step\n",
      "1/1 [==============================] - 0s 21ms/step\n",
      "1/1 [==============================] - 0s 21ms/step\n",
      "1/1 [==============================] - 0s 20ms/step\n",
      "1/1 [==============================] - 0s 21ms/step\n",
      "1/1 [==============================] - 0s 21ms/step\n",
      "1/1 [==============================] - 0s 21ms/step\n",
      "1/1 [==============================] - 0s 20ms/step\n",
      "1/1 [==============================] - 0s 22ms/step\n",
      "1/1 [==============================] - 0s 21ms/step\n",
      "1/1 [==============================] - 0s 21ms/step\n",
      "1/1 [==============================] - 0s 21ms/step\n",
      "1/1 [==============================] - 0s 20ms/step\n",
      "1/1 [==============================] - 0s 21ms/step\n",
      "1/1 [==============================] - 0s 21ms/step\n",
      "1/1 [==============================] - 0s 21ms/step\n",
      "1/1 [==============================] - 0s 21ms/step\n"
     ]
    }
   ],
   "source": [
    "# predictions = []\n",
    "# anomaly_scores = []\n",
    "\n",
    "# for i in range(0,len(test_df),12*5):\n",
    "#     if(i + 12*5 < len(test_df)):\n",
    "#         sample_topredict_on = test_df.iloc[i:i+12*5]\n",
    "# #         display(sample_topredict_on)\n",
    "#         x_test = np.array(sample_topredict_on['pod_cpu_utilization'].tolist())\n",
    "#         x_test = x_test.reshape(1,-1,1)\n",
    "#         preds,anom_scores = model.testnew(x_test)\n",
    "#         predictions.append(preds)\n",
    "#         anomaly_scores.append(anom_scores)\n",
    "\n",
    "\n",
    "\n",
    "\n",
    "predictions = []\n",
    "anomaly_scores = []\n",
    "errors = []\n",
    "for i in range(0,len(test_df),timesteps):\n",
    "    if(i + timesteps < len(test_df)):\n",
    "        sample_topredict_on = test_df.iloc[i:i+timesteps]\n",
    "#         display(sample_topredict_on)\n",
    "        x_test = np.array(sample_topredict_on['pod_cpu_utilization'].tolist())\n",
    "        x_test = x_test.reshape(1,-1,1)\n",
    "        preds,errs,anom_scores = model.test(x_test)\n",
    "        predictions.append(preds)\n",
    "        errors.append(errs)\n",
    "        anomaly_scores.append(anom_scores)"
   ]
  },
  {
   "cell_type": "code",
   "execution_count": 26,
   "metadata": {},
   "outputs": [
    {
     "name": "stderr",
     "output_type": "stream",
     "text": [
      "/opt/conda/lib/python3.7/site-packages/ipykernel_launcher.py:6: SettingWithCopyWarning: \n",
      "A value is trying to be set on a copy of a slice from a DataFrame.\n",
      "Try using .loc[row_indexer,col_indexer] = value instead\n",
      "\n",
      "See the caveats in the documentation: https://pandas.pydata.org/pandas-docs/stable/user_guide/indexing.html#returning-a-view-versus-a-copy\n",
      "  \n",
      "/opt/conda/lib/python3.7/site-packages/ipykernel_launcher.py:7: SettingWithCopyWarning: \n",
      "A value is trying to be set on a copy of a slice from a DataFrame.\n",
      "Try using .loc[row_indexer,col_indexer] = value instead\n",
      "\n",
      "See the caveats in the documentation: https://pandas.pydata.org/pandas-docs/stable/user_guide/indexing.html#returning-a-view-versus-a-copy\n",
      "  import sys\n",
      "/opt/conda/lib/python3.7/site-packages/ipykernel_launcher.py:8: SettingWithCopyWarning: \n",
      "A value is trying to be set on a copy of a slice from a DataFrame.\n",
      "Try using .loc[row_indexer,col_indexer] = value instead\n",
      "\n",
      "See the caveats in the documentation: https://pandas.pydata.org/pandas-docs/stable/user_guide/indexing.html#returning-a-view-versus-a-copy\n",
      "  \n",
      "/opt/conda/lib/python3.7/site-packages/ipykernel_launcher.py:14: SettingWithCopyWarning: \n",
      "A value is trying to be set on a copy of a slice from a DataFrame.\n",
      "Try using .loc[row_indexer,col_indexer] = value instead\n",
      "\n",
      "See the caveats in the documentation: https://pandas.pydata.org/pandas-docs/stable/user_guide/indexing.html#returning-a-view-versus-a-copy\n",
      "  \n"
     ]
    }
   ],
   "source": [
    "anomaly_scores = np.concatenate(np.concatenate(anomaly_scores,axis=0),axis=0)\n",
    "errors = np.concatenate(np.concatenate(errors,axis=0),axis=0)\n",
    "predictions = np.concatenate(np.concatenate(predictions,axis=0),axis=0)\n",
    "\n",
    "df_results = test_df.iloc[0:len(anomaly_scores)]\n",
    "df_results['predictions'] = predictions\n",
    "df_results['error'] = errors\n",
    "df_results['anom_score'] = anomaly_scores\n",
    "\n",
    "def anom_threshold_function(x):\n",
    "    if(x > 0.8): return True\n",
    "    else: return False\n",
    "\n",
    "df_results['is_anomaly'] = df_results['anom_score'].apply(anom_threshold_function)"
   ]
  },
  {
   "cell_type": "code",
   "execution_count": 28,
   "metadata": {},
   "outputs": [
    {
     "name": "stderr",
     "output_type": "stream",
     "text": [
      "/root/eks-ml-pipeline/modeling/autoencoder_model_dish_5g.py:243: SettingWithCopyWarning: \n",
      "A value is trying to be set on a copy of a slice from a DataFrame.\n",
      "Try using .loc[row_indexer,col_indexer] = value instead\n",
      "\n",
      "See the caveats in the documentation: https://pandas.pydata.org/pandas-docs/stable/user_guide/indexing.html#returning-a-view-versus-a-copy\n",
      "  results_df[ANOMALIES_COLUMN] = results_df[ANOMALIES_COLUMN].fillna(False)\n"
     ]
    },
    {
     "data": {
      "image/png": "[encoded data removed]",
      "text/plain": [
       "<Figure size 2000x2000 with 2 Axes>"
      ]
     },
     "metadata": {},
     "output_type": "display_data"
    }
   ],
   "source": [
    "\n",
    "model.visualize(df_results, \"pod_cpu_utilization\")\n",
    "plt.show()"
   ]
  },
  {
   "cell_type": "code",
   "execution_count": null,
   "metadata": {},
   "outputs": [],
   "source": [
    "model.visualize(df_results, \"pod_memory_utilization\")\n",
    "plt.show()"
   ]
  },
  {
   "cell_type": "code",
   "execution_count": null,
   "metadata": {},
   "outputs": [],
   "source": [
    "model.visualize(df_results, \"pod_memory_utilization\")\n",
    "plt.show()"
   ]
  },
  {
   "cell_type": "code",
   "execution_count": null,
   "metadata": {},
   "outputs": [],
   "source": [
    "model.visualize(df_results, \"pod_network_total_bytes\")\n",
    "plt.show()"
   ]
  },
  {
   "cell_type": "code",
   "execution_count": null,
   "metadata": {},
   "outputs": [],
   "source": []
  },
  {
   "cell_type": "code",
   "execution_count": null,
   "metadata": {},
   "outputs": [],
   "source": []
  },
  {
   "cell_type": "code",
   "execution_count": null,
   "metadata": {},
   "outputs": [],
   "source": []
  }
 ],
 "metadata": {
  "instance_type": "ml.m5.12xlarge",
  "kernelspec": {
   "display_name": "Python 3 (Data Science)",
   "language": "python",
   "name": "python3__SAGEMAKER_INTERNAL__arn:aws:sagemaker:us-west-2:236514542706:image/datascience-1.0"
  },
  "language_info": {
   "codemirror_mode": {
    "name": "ipython",
    "version": 3
   },
   "file_extension": ".py",
   "mimetype": "text/x-python",
   "name": "python",
   "nbconvert_exporter": "python",
   "pygments_lexer": "ipython3",
   "version": "3.7.10"
  }
 },
 "nbformat": 4,
 "nbformat_minor": 4
}
