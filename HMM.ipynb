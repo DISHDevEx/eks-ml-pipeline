{
 "cells": [
  {
   "cell_type": "code",
   "execution_count": 6,
   "id": "d52dbaa5-c893-4973-88ad-025faa801dea",
   "metadata": {},
   "outputs": [
    {
     "data": {
      "text/plain": [
       "'/root/CodeCommit/eks-ml-pipeline'"
      ]
     },
     "execution_count": 6,
     "metadata": {},
     "output_type": "execute_result"
    }
   ],
   "source": [
    "pwd"
   ]
  },
  {
   "cell_type": "code",
   "execution_count": 7,
   "id": "1d855f92-4840-46e1-abf9-4cdb1c87373c",
   "metadata": {},
   "outputs": [],
   "source": [
    "# pip install /root/CodeCommit/msspackages/dist/msspackages-0.0.7-py3-none-any.whl"
   ]
  },
  {
   "cell_type": "code",
   "execution_count": 8,
   "id": "9056376e-0314-4f91-8305-4dd37827567f",
   "metadata": {},
   "outputs": [],
   "source": [
    "# from msspackages import setup_runner\n",
    "# setup_runner()"
   ]
  },
  {
   "cell_type": "code",
   "execution_count": null,
   "id": "aec48e51-5158-41e6-84a0-c86fa9195e5b",
   "metadata": {},
   "outputs": [],
   "source": []
  }
 ],
 "metadata": {
  "instance_type": "ml.t3.medium",
  "kernelspec": {
   "display_name": "Python 3 (Data Science)",
   "language": "python",
   "name": "python3__SAGEMAKER_INTERNAL__arn:aws:sagemaker:us-west-2:236514542706:image/datascience-1.0"
  },
  "language_info": {
   "codemirror_mode": {
    "name": "ipython",
    "version": 3
   },
   "file_extension": ".py",
   "mimetype": "text/x-python",
   "name": "python",
   "nbconvert_exporter": "python",
   "pygments_lexer": "ipython3",
   "version": "3.7.10"
  }
 },
 "nbformat": 4,
 "nbformat_minor": 5
}
