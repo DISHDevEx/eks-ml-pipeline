{
 "cells": [
  {
   "cell_type": "markdown",
   "id": "69900457-3f80-426e-a6c9-39895b99a880",
   "metadata": {
    "tags": []
   },
   "source": [
    "## this notebooks serves as a test for my model implementation"
   ]
  },
  {
   "cell_type": "code",
   "execution_count": 2,
   "id": "888ab651-685f-4aa9-be27-51c86d4ea044",
   "metadata": {
    "tags": []
   },
   "outputs": [
    {
     "name": "stdout",
     "output_type": "stream",
     "text": [
      "Keyring is skipped due to an exception: 'keyring.backends'\n",
      "Processing /root/git/msspackages/dist/msspackages-0.0.7-py3-none-any.whl\n",
      "Requirement already satisfied: pandas in /opt/conda/lib/python3.7/site-packages (from msspackages==0.0.7) (1.3.5)\n",
      "Requirement already satisfied: dask in /opt/conda/lib/python3.7/site-packages (from msspackages==0.0.7) (2022.2.0)\n",
      "Requirement already satisfied: configparser in /opt/conda/lib/python3.7/site-packages (from msspackages==0.0.7) (5.3.0)\n",
      "Requirement already satisfied: pyspark in /opt/conda/lib/python3.7/site-packages (from msspackages==0.0.7) (3.3.1)\n",
      "Requirement already satisfied: tqdm in /opt/conda/lib/python3.7/site-packages (from msspackages==0.0.7) (4.42.1)\n",
      "Requirement already satisfied: numpy in /opt/conda/lib/python3.7/site-packages (from msspackages==0.0.7) (1.21.6)\n",
      "Requirement already satisfied: fsspec>=0.6.0 in /opt/conda/lib/python3.7/site-packages (from dask->msspackages==0.0.7) (2022.11.0)\n",
      "Requirement already satisfied: packaging>=20.0 in /opt/conda/lib/python3.7/site-packages (from dask->msspackages==0.0.7) (20.1)\n",
      "Requirement already satisfied: partd>=0.3.10 in /opt/conda/lib/python3.7/site-packages (from dask->msspackages==0.0.7) (1.1.0)\n",
      "Requirement already satisfied: pyyaml>=5.3.1 in /opt/conda/lib/python3.7/site-packages (from dask->msspackages==0.0.7) (6.0)\n",
      "Requirement already satisfied: toolz>=0.8.2 in /opt/conda/lib/python3.7/site-packages (from dask->msspackages==0.0.7) (0.10.0)\n",
      "Requirement already satisfied: cloudpickle>=1.1.1 in /opt/conda/lib/python3.7/site-packages (from dask->msspackages==0.0.7) (2.2.0)\n",
      "Requirement already satisfied: pytz>=2017.3 in /opt/conda/lib/python3.7/site-packages (from pandas->msspackages==0.0.7) (2019.3)\n",
      "Requirement already satisfied: python-dateutil>=2.7.3 in /opt/conda/lib/python3.7/site-packages (from pandas->msspackages==0.0.7) (2.8.2)\n",
      "Requirement already satisfied: py4j==0.10.9.5 in /opt/conda/lib/python3.7/site-packages (from pyspark->msspackages==0.0.7) (0.10.9.5)\n",
      "Requirement already satisfied: pyparsing>=2.0.2 in /opt/conda/lib/python3.7/site-packages (from packaging>=20.0->dask->msspackages==0.0.7) (2.4.6)\n",
      "Requirement already satisfied: six in /opt/conda/lib/python3.7/site-packages (from packaging>=20.0->dask->msspackages==0.0.7) (1.14.0)\n",
      "Requirement already satisfied: locket in /opt/conda/lib/python3.7/site-packages (from partd>=0.3.10->dask->msspackages==0.0.7) (0.2.0)\n",
      "msspackages is already installed with the same version as the provided wheel. Use --force-reinstall to force an installation of the wheel.\n",
      "\u001b[33mWARNING: Running pip as the 'root' user can result in broken permissions and conflicting behaviour with the system package manager. It is recommended to use a virtual environment instead: https://pip.pypa.io/warnings/venv\u001b[0m\u001b[33m\n",
      "\u001b[0mb\"Get:1 http://security.debian.org/debian-security buster/updates InRelease [34.8 kB]\\nHit:2 http://deb.debian.org/debian buster InRelease\\nGet:3 http://deb.debian.org/debian buster-updates InRelease [56.6 kB]\\nGet:4 http://security.debian.org/debian-security buster/updates/main amd64 Packages [412 kB]\\nFetched 504 kB in 1s (811 kB/s)\\nReading package lists...\\nBuilding dependency tree...\\nReading state information...\\n52 packages can be upgraded. Run 'apt list --upgradable' to see them.\\nReading package lists...\\nBuilding dependency tree...\\nReading state information...\\nsudo is already the newest version (1.8.27-1+deb10u4).\\n0 upgraded, 0 newly installed, 0 to remove and 52 not upgraded.\\nReading package lists...\\nBuilding dependency tree...\\nReading state information...\\ndefault-jre is already the newest version (2:1.11-71).\\n0 upgraded, 0 newly installed, 0 to remove and 52 not upgraded.\\nReading package lists...\\nBuilding dependency tree...\\nReading state information...\\npython3 is already the newest version (3.7.3-1).\\n0 upgraded, 0 newly installed, 0 to remove and 52 not upgraded.\\nReading package lists...\\nBuilding dependency tree...\\nReading state information...\\npython3-pip is already the newest version (18.1-5).\\n0 upgraded, 0 newly installed, 0 to remove and 52 not upgraded.\\n\"\n",
      "\n"
     ]
    }
   ],
   "source": [
    "!pip install /root/git/msspackages/dist/msspackages-0.0.7-py3-none-any.whl\n",
    "from msspackages import setup_runner\n",
    "setup_runner(setup_type = 'notebook' , project = 'understanding-eks-data')"
   ]
  },
  {
   "cell_type": "code",
   "execution_count": 13,
   "id": "e5fd7bc2-6000-466b-8c13-22a0fcb5979b",
   "metadata": {
    "tags": []
   },
   "outputs": [
    {
     "name": "stdout",
     "output_type": "stream",
     "text": [
      "Keyring is skipped due to an exception: 'keyring.backends'\n",
      "Requirement already satisfied: hmmlearn in /opt/conda/lib/python3.7/site-packages (0.2.8)\n",
      "Requirement already satisfied: scipy>=0.19 in /opt/conda/lib/python3.7/site-packages (from hmmlearn) (1.4.1)\n",
      "Requirement already satisfied: scikit-learn>=0.16 in /opt/conda/lib/python3.7/site-packages (from hmmlearn) (0.22.1)\n",
      "Requirement already satisfied: numpy>=1.10 in /opt/conda/lib/python3.7/site-packages (from hmmlearn) (1.21.6)\n",
      "Requirement already satisfied: joblib>=0.11 in /opt/conda/lib/python3.7/site-packages (from scikit-learn>=0.16->hmmlearn) (0.14.1)\n",
      "\u001b[33mWARNING: Running pip as the 'root' user can result in broken permissions and conflicting behaviour with the system package manager. It is recommended to use a virtual environment instead: https://pip.pypa.io/warnings/venv\u001b[0m\u001b[33m\n",
      "\u001b[0mNote: you may need to restart the kernel to use updated packages.\n"
     ]
    }
   ],
   "source": [
    "%pip install hmmlearn\n",
    "from msspackages import Pyspark_data_ingestion\n",
    "from pyspark import StorageLevel\n",
    "\n",
    "from pyspark.sql.functions import *\n",
    "from hmmlearn import hmm,base\n",
    "from sklearn.preprocessing import StandardScaler as scale\n",
    "import pandas as pd\n",
    "import seaborn as sns\n",
    "import matplotlib.pyplot as plt \n",
    "%matplotlib inline\n",
    "import numpy as np\n",
    "from pyspark.sql import Window\n",
    "from pyspark.sql import functions as F\n",
    "from pyspark.ml import Pipeline\n",
    "import random\n",
    "from pyspark.ml.feature import VectorAssembler, StandardScaler"
   ]
  },
  {
   "cell_type": "code",
   "execution_count": 4,
   "id": "de754d9d-47a1-425e-a2a3-e8be2866ca18",
   "metadata": {
    "tags": []
   },
   "outputs": [
    {
     "name": "stdout",
     "output_type": "stream",
     "text": [
      "CPU times: user 66.8 ms, sys: 23.7 ms, total: 90.5 ms\n",
      "Wall time: 20.7 s\n"
     ]
    }
   ],
   "source": [
    "%%time\n",
    "test = Pyspark_data_ingestion(year = '2022', month = \"7\", day = \"10\", hour =\"1\", filter_column_value ='Node',setup='128gb')\n",
    "test_node = test.get_spark()\n",
    "err, test_df = test.read()"
   ]
  },
  {
   "cell_type": "markdown",
   "id": "ed184d85-e90a-4d79-baa3-4ca8b90256ea",
   "metadata": {},
   "source": [
    "## feature selection"
   ]
  },
  {
   "cell_type": "code",
   "execution_count": 5,
   "id": "616645fc-073f-4ae9-b524-bbf598530752",
   "metadata": {
    "tags": []
   },
   "outputs": [
    {
     "name": "stdout",
     "output_type": "stream",
     "text": [
      "3\n"
     ]
    }
   ],
   "source": [
    "features = ['node_cpu_utilization','node_memory_utilization']\n",
    "#filter inital node df based on request features\n",
    "node_df =test_df.select(\"Timestamp\", \"InstanceId\", 'node_cpu_utilization','node_memory_utilization')\n",
    "node_df = node_df.withColumn(\"Datetime\",(col(\"Timestamp\")/1000).cast(\"timestamp\"))\n",
    "\n",
    "# Drop NA\n",
    "cleaned_node_df = node_df.na.drop(subset=features)\n",
    "\n",
    "\n",
    "#Quality(timestamp filtered) nodes\n",
    "quality_filtered_node_df = cleaned_node_df.groupBy(\"InstanceId\").agg(count(\"Timestamp\").alias(\"timestamp_count\"))\n",
    "quality_filtered_nodes = quality_filtered_node_df.filter(col(\"timestamp_count\").between(45,75))\n",
    "\n",
    "print(3)\n",
    "#Processed Node DF                                                      \n",
    "processed_node_df = cleaned_node_df.filter(col(\"InstanceId\").isin(quality_filtered_nodes[\"InstanceId\"]))"
   ]
  },
  {
   "cell_type": "code",
   "execution_count": 6,
   "id": "85cc5f8f-06af-461f-84db-0cc2867686be",
   "metadata": {
    "tags": []
   },
   "outputs": [
    {
     "name": "stdout",
     "output_type": "stream",
     "text": [
      "-RECORD 0---------------------------------------\n",
      " Timestamp               | 1657425701916        \n",
      " InstanceId              | i-06953fcb432461415  \n",
      " node_cpu_utilization    | 1.9636783447281012   \n",
      " node_memory_utilization | 7.287004490706401    \n",
      " Datetime                | 2022-07-10 04:01:... \n",
      "only showing top 1 row\n",
      "\n"
     ]
    }
   ],
   "source": [
    "processed_node_df.show(n=1,vertical=True)"
   ]
  },
  {
   "cell_type": "code",
   "execution_count": 6,
   "id": "a21db7e3-d998-4d67-9be2-4a55a5899101",
   "metadata": {
    "tags": []
   },
   "outputs": [
    {
     "name": "stdout",
     "output_type": "stream",
     "text": [
      "-RECORD 0---------------------------------------\n",
      " Timestamp               | 1657415367926        \n",
      " InstanceId              | i-0cf25f056cc94aee7  \n",
      " node_cpu_utilization    | 0.1968782361829547   \n",
      " node_memory_utilization | 1.0431763504720821   \n",
      " Datetime                | 2022-07-10 01:09:... \n",
      "-RECORD 1---------------------------------------\n",
      " Timestamp               | 1657415368207        \n",
      " InstanceId              | i-08bd7e60558eb530d  \n",
      " node_cpu_utilization    | 1.0533160441504943   \n",
      " node_memory_utilization | 7.2665617052198135   \n",
      " Datetime                | 2022-07-10 01:09:... \n",
      "-RECORD 2---------------------------------------\n",
      " Timestamp               | 1657415368693        \n",
      " InstanceId              | i-05929ef9891c0ebe1  \n",
      " node_cpu_utilization    | 1.9263661848142852   \n",
      " node_memory_utilization | 10.366899292369194   \n",
      " Datetime                | 2022-07-10 01:09:... \n",
      "-RECORD 3---------------------------------------\n",
      " Timestamp               | 1657415369173        \n",
      " InstanceId              | i-0a4f073f09ed06c07  \n",
      " node_cpu_utilization    | 2.426516125253732    \n",
      " node_memory_utilization | 20.224149915306523   \n",
      " Datetime                | 2022-07-10 01:09:... \n",
      "-RECORD 4---------------------------------------\n",
      " Timestamp               | 1657415371261        \n",
      " InstanceId              | i-080f459563bf2ff44  \n",
      " node_cpu_utilization    | 0.36366655504340195  \n",
      " node_memory_utilization | 1.301317162990807    \n",
      " Datetime                | 2022-07-10 01:09:... \n",
      "only showing top 5 rows\n",
      "\n"
     ]
    }
   ],
   "source": [
    "## random split data\n",
    "input_df, test_df = processed_node_df .randomSplit(weights=[0.8,0.2], seed=200)\n",
    "input_df.show(n=5,vertical=True)"
   ]
  },
  {
   "cell_type": "code",
   "execution_count": 48,
   "id": "60a0edde-fae7-4047-9d94-1aadf148df4f",
   "metadata": {
    "tags": []
   },
   "outputs": [],
   "source": [
    "n = 0\n",
    "time_steps=12\n",
    "final_df = None\n",
    "weight = 2\n",
    "\n",
    "\n",
    "'''\n",
    "hour_multiplier = 1\n",
    "if input_hour=='-1':\n",
    "    hour_multiplier = 24\n",
    "\n",
    "    \n",
    "samplesize = multiplier*1440*weight/time_step\n",
    "'''\n",
    "samplesize = 100\n",
    "features = ['node_cpu_utilization','node_memory_utilization']"
   ]
  },
  {
   "cell_type": "code",
   "execution_count": null,
   "id": "35f9c07a-a376-4bf9-b376-f03210094db7",
   "metadata": {},
   "outputs": [
    {
     "name": "stdout",
     "output_type": "stream",
     "text": [
      "Finished with sample #0\n",
      "Finished with sample #1\n",
      "Finished with sample #2\n",
      "Finished with sample #3\n",
      "Finished with sample #4\n",
      "Finished with sample #5\n"
     ]
    }
   ],
   "source": [
    "n=0\n",
    "while n<samplesize:\n",
    "    ##pick random node\n",
    "    random_instance = random.choice(input_df.select(\"InstanceId\").rdd.flatMap(list).collect())\n",
    "    node_df = input_df[(input_df[\"InstanceId\"] ==  random_instance)][[\"Timestamp\", \"InstanceId\"] + features].select('*')\n",
    "    node_df = node_df.sort(\"Timestamp\")\n",
    "    node_df = node_df.na.drop(subset=features)\n",
    "\n",
    "    #fix negative number bug \n",
    "    if node_df.count()-time_steps<= 0:\n",
    "        print(f'Exception occurred: not enough data')\n",
    "        continue\n",
    "\n",
    "\n",
    "    #standardize data from the node\n",
    "    assembler = VectorAssembler(inputCols=features, outputCol=\"vectorized_features\")\n",
    "    scaler = StandardScaler(inputCol = \"vectorized_features\", outputCol = \"scaled_features\", withMean=True, withStd=True)\n",
    "    pipeline = Pipeline(stages=[assembler, scaler])\n",
    "    node_df = pipeline.fit(node_df).transform(node_df)\n",
    "\n",
    "    #pick random time slice of 12 timestamps from this node\n",
    "    start = random.choice(range(node_df.count()-time_steps))\n",
    "    node_slice_df = node_df.withColumn('rn', row_number().over(Window.orderBy(\"Timestamp\"))).filter((col(\"rn\") >= start) & (col(\"rn\") < start+time_steps)).select([\"Timestamp\",'scaled_features'])\n",
    "    node_slice_df = node_slice_df.select('Timestamp','scaled_features')\n",
    "\n",
    "\n",
    "\n",
    "    #fill the large dataset\n",
    "    if not final_df:\n",
    "        final_df = node_slice_df\n",
    "    else:\n",
    "        final_df = final_df.union( node_slice_df)\n",
    "\n",
    "    print(f'Finished with sample #{n}')\n",
    "    n+=1"
   ]
  },
  {
   "cell_type": "code",
   "execution_count": null,
   "id": "943eb51a-46c9-4e44-a037-5aaa2450742b",
   "metadata": {
    "tags": []
   },
   "outputs": [],
   "source": [
    "final_df.groupBy(\"Timestamp\").agg(mean(\"scaled_features\").alias(\"scaled_features\")).show()\n",
    "\n"
   ]
  },
  {
   "cell_type": "code",
   "execution_count": 47,
   "id": "42124864-46cd-44e7-a203-6339d747721b",
   "metadata": {
    "tags": []
   },
   "outputs": [
    {
     "name": "stdout",
     "output_type": "stream",
     "text": [
      "+-------------+\n",
      "|    Timestamp|\n",
      "+-------------+\n",
      "|1657417441081|\n",
      "+-------------+\n",
      "only showing top 1 row\n",
      "\n"
     ]
    }
   ],
   "source": [
    "final_df.show(n=1)"
   ]
  },
  {
   "cell_type": "code",
   "execution_count": null,
   "id": "a2c23d47-11ce-401d-8af7-39d976699938",
   "metadata": {},
   "outputs": [],
   "source": [
    "## using pandas to clean my codes instead"
   ]
  }
 ],
 "metadata": {
  "forced_instance_type": "ml.t3.medium",
  "forced_lcc_arn": "",
  "instance_type": "ml.m5.12xlarge",
  "kernelspec": {
   "display_name": "Python 3 (Data Science)",
   "language": "python",
   "name": "python3__SAGEMAKER_INTERNAL__arn:aws:sagemaker:us-west-2:236514542706:image/datascience-1.0"
  },
  "language_info": {
   "codemirror_mode": {
    "name": "ipython",
    "version": 3
   },
   "file_extension": ".py",
   "mimetype": "text/x-python",
   "name": "python",
   "nbconvert_exporter": "python",
   "pygments_lexer": "ipython3",
   "version": "3.7.10"
  }
 },
 "nbformat": 4,
 "nbformat_minor": 5
}
