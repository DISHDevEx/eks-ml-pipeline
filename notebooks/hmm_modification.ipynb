{
 "cells": [
  {
   "cell_type": "markdown",
   "id": "411348de-7828-40bb-bce3-83be2b1e0c9b",
   "metadata": {},
   "source": [
    "## Serves as a advanced node model which focuses on building model on multiple nodes"
   ]
  },
  {
   "cell_type": "markdown",
   "id": "042f5b83-2985-4f65-b062-c615a9d0e088",
   "metadata": {
    "tags": []
   },
   "source": [
    "### import packages and read data"
   ]
  },
  {
   "cell_type": "code",
<<<<<<< Updated upstream
   "execution_count": 3,
=======
   "execution_count": 1,
>>>>>>> Stashed changes
   "id": "d810c2ea-6564-47e9-8cf2-c2eea8af448c",
   "metadata": {
    "tags": []
   },
   "outputs": [
    {
     "name": "stdout",
     "output_type": "stream",
     "text": [
      "Keyring is skipped due to an exception: 'keyring.backends'\n",
      "Processing /root/git/msspackages/dist/msspackages-0.0.7-py3-none-any.whl\n",
<<<<<<< Updated upstream
      "Requirement already satisfied: tqdm in /opt/conda/lib/python3.7/site-packages (from msspackages==0.0.7) (4.42.1)\n",
      "Collecting pyspark\n",
      "  Using cached pyspark-3.3.1-py2.py3-none-any.whl\n",
      "Requirement already satisfied: numpy in /opt/conda/lib/python3.7/site-packages (from msspackages==0.0.7) (1.21.6)\n",
      "Requirement already satisfied: pandas in /opt/conda/lib/python3.7/site-packages (from msspackages==0.0.7) (1.3.5)\n",
      "Collecting configparser\n",
      "  Using cached configparser-5.3.0-py3-none-any.whl (19 kB)\n",
      "Requirement already satisfied: dask in /opt/conda/lib/python3.7/site-packages (from msspackages==0.0.7) (2022.2.0)\n",
      "Requirement already satisfied: pyyaml>=5.3.1 in /opt/conda/lib/python3.7/site-packages (from dask->msspackages==0.0.7) (6.0)\n",
      "Requirement already satisfied: packaging>=20.0 in /opt/conda/lib/python3.7/site-packages (from dask->msspackages==0.0.7) (20.1)\n",
      "Requirement already satisfied: fsspec>=0.6.0 in /opt/conda/lib/python3.7/site-packages (from dask->msspackages==0.0.7) (2022.11.0)\n",
      "Requirement already satisfied: partd>=0.3.10 in /opt/conda/lib/python3.7/site-packages (from dask->msspackages==0.0.7) (1.1.0)\n",
      "Requirement already satisfied: cloudpickle>=1.1.1 in /opt/conda/lib/python3.7/site-packages (from dask->msspackages==0.0.7) (2.2.0)\n",
      "Requirement already satisfied: toolz>=0.8.2 in /opt/conda/lib/python3.7/site-packages (from dask->msspackages==0.0.7) (0.10.0)\n",
      "Requirement already satisfied: pytz>=2017.3 in /opt/conda/lib/python3.7/site-packages (from pandas->msspackages==0.0.7) (2019.3)\n",
      "Requirement already satisfied: python-dateutil>=2.7.3 in /opt/conda/lib/python3.7/site-packages (from pandas->msspackages==0.0.7) (2.8.2)\n",
      "Collecting py4j==0.10.9.5\n",
      "  Using cached py4j-0.10.9.5-py2.py3-none-any.whl (199 kB)\n",
=======
      "Requirement already satisfied: pyspark in /opt/conda/lib/python3.7/site-packages (from msspackages==0.0.7) (3.3.1)\n",
      "Requirement already satisfied: dask in /opt/conda/lib/python3.7/site-packages (from msspackages==0.0.7) (2022.2.0)\n",
      "Requirement already satisfied: numpy in /opt/conda/lib/python3.7/site-packages (from msspackages==0.0.7) (1.21.6)\n",
      "Requirement already satisfied: tqdm in /opt/conda/lib/python3.7/site-packages (from msspackages==0.0.7) (4.42.1)\n",
      "Requirement already satisfied: pandas in /opt/conda/lib/python3.7/site-packages (from msspackages==0.0.7) (1.3.5)\n",
      "Requirement already satisfied: configparser in /opt/conda/lib/python3.7/site-packages (from msspackages==0.0.7) (5.3.0)\n",
      "Requirement already satisfied: cloudpickle>=1.1.1 in /opt/conda/lib/python3.7/site-packages (from dask->msspackages==0.0.7) (2.2.0)\n",
      "Requirement already satisfied: packaging>=20.0 in /opt/conda/lib/python3.7/site-packages (from dask->msspackages==0.0.7) (20.1)\n",
      "Requirement already satisfied: partd>=0.3.10 in /opt/conda/lib/python3.7/site-packages (from dask->msspackages==0.0.7) (1.1.0)\n",
      "Requirement already satisfied: pyyaml>=5.3.1 in /opt/conda/lib/python3.7/site-packages (from dask->msspackages==0.0.7) (6.0)\n",
      "Requirement already satisfied: toolz>=0.8.2 in /opt/conda/lib/python3.7/site-packages (from dask->msspackages==0.0.7) (0.10.0)\n",
      "Requirement already satisfied: fsspec>=0.6.0 in /opt/conda/lib/python3.7/site-packages (from dask->msspackages==0.0.7) (2022.11.0)\n",
      "Requirement already satisfied: python-dateutil>=2.7.3 in /opt/conda/lib/python3.7/site-packages (from pandas->msspackages==0.0.7) (2.8.2)\n",
      "Requirement already satisfied: pytz>=2017.3 in /opt/conda/lib/python3.7/site-packages (from pandas->msspackages==0.0.7) (2019.3)\n",
      "Requirement already satisfied: py4j==0.10.9.5 in /opt/conda/lib/python3.7/site-packages (from pyspark->msspackages==0.0.7) (0.10.9.5)\n",
>>>>>>> Stashed changes
      "Requirement already satisfied: pyparsing>=2.0.2 in /opt/conda/lib/python3.7/site-packages (from packaging>=20.0->dask->msspackages==0.0.7) (2.4.6)\n",
      "Requirement already satisfied: six in /opt/conda/lib/python3.7/site-packages (from packaging>=20.0->dask->msspackages==0.0.7) (1.14.0)\n",
      "Requirement already satisfied: locket in /opt/conda/lib/python3.7/site-packages (from partd>=0.3.10->dask->msspackages==0.0.7) (0.2.0)\n",
      "Installing collected packages: py4j, pyspark, configparser, msspackages\n",
      "Successfully installed configparser-5.3.0 msspackages-0.0.7 py4j-0.10.9.5 pyspark-3.3.1\n",
      "\u001b[33mWARNING: Running pip as the 'root' user can result in broken permissions and conflicting behaviour with the system package manager. It is recommended to use a virtual environment instead: https://pip.pypa.io/warnings/venv\u001b[0m\u001b[33m\n",
<<<<<<< Updated upstream
      "\u001b[0mb\"Get:1 http://security.debian.org/debian-security buster/updates InRelease [34.8 kB]\\nGet:2 http://deb.debian.org/debian buster InRelease [122 kB]\\nGet:3 http://deb.debian.org/debian buster-updates InRelease [56.6 kB]\\nGet:4 http://security.debian.org/debian-security buster/updates/main amd64 Packages [412 kB]\\nGet:5 http://deb.debian.org/debian buster/main amd64 Packages [7909 kB]\\nGet:6 http://deb.debian.org/debian buster-updates/main amd64 Packages [8788 B]\\nFetched 8543 kB in 1s (6554 kB/s)\\nReading package lists...\\nBuilding dependency tree...\\nReading state information...\\n55 packages can be upgraded. Run 'apt list --upgradable' to see them.\\nReading package lists...\\nBuilding dependency tree...\\nReading state information...\\nThe following NEW packages will be installed:\\n  sudo\\n0 upgraded, 1 newly installed, 0 to remove and 55 not upgraded.\\nNeed to get 1244 kB of archives.\\nAfter this operation, 3883 kB of additional disk space will be used.\\nGet:1 http://security.debian.org/debian-security buster/updates/main amd64 sudo amd64 1.8.27-1+deb10u4 [1244 kB]\\nFetched 1244 kB in 0s (16.0 MB/s)\\nSelecting previously unselected package sudo.\\r\\n(Reading database ... \\r(Reading database ... 5%\\r(Reading database ... 10%\\r(Reading database ... 15%\\r(Reading database ... 20%\\r(Reading database ... 25%\\r(Reading database ... 30%\\r(Reading database ... 35%\\r(Reading database ... 40%\\r(Reading database ... 45%\\r(Reading database ... 50%\\r(Reading database ... 55%\\r(Reading database ... 60%\\r(Reading database ... 65%\\r(Reading database ... 70%\\r(Reading database ... 75%\\r(Reading database ... 80%\\r(Reading database ... 85%\\r(Reading database ... 90%\\r(Reading database ... 95%\\r(Reading database ... 100%\\r(Reading database ... 20588 files and directories currently installed.)\\r\\nPreparing to unpack .../sudo_1.8.27-1+deb10u4_amd64.deb ...\\r\\nUnpacking sudo (1.8.27-1+deb10u4) ...\\r\\nSetting up sudo (1.8.27-1+deb10u4) ...\\r\\ninvoke-rc.d: could not determine current runlevel\\r\\ninvoke-rc.d: policy-rc.d denied execution of start.\\r\\nReading package lists...\\nBuilding dependency tree...\\nReading state information...\\nThe following additional packages will be installed:\\n  adwaita-icon-theme at-spi2-core ca-certificates-java dbus-user-session\\n  dconf-gsettings-backend dconf-service default-jre-headless dmsetup\\n  fonts-dejavu-extra glib-networking glib-networking-common\\n  glib-networking-services gsettings-desktop-schemas gtk-update-icon-cache\\n  java-common libargon2-1 libasound2 libasound2-data libatk-bridge2.0-0\\n  libatk-wrapper-java libatk-wrapper-java-jni libatk1.0-0 libatk1.0-data\\n  libatspi2.0-0 libcairo-gobject2 libcolord2 libcroco3 libcryptsetup12\\n  libdconf1 libdevmapper1.02.1 libdrm-amdgpu1 libdrm-common libdrm-intel1\\n  libdrm-nouveau2 libdrm-radeon1 libdrm2 libelf1 libepoxy0 libfontenc1\\n  libgail-common libgail18 libgdk-pixbuf2.0-0 libgdk-pixbuf2.0-bin\\n  libgdk-pixbuf2.0-common libgif7 libgl1 libgl1-mesa-dri libglapi-mesa\\n  libglvnd0 libglx-mesa0 libglx0 libgtk-3-0 libgtk-3-bin libgtk-3-common\\n  libgtk2.0-0 libgtk2.0-bin libgtk2.0-common libip4tc0 libjson-glib-1.0-0\\n  libjson-glib-1.0-common libkmod2 libllvm7 libnspr4 libnss-systemd libnss3\\n  libpam-systemd libpciaccess0 libpcsclite1 libproxy1v5 librest-0.7-0\\n  librsvg2-2 librsvg2-common libsensors-config libsensors5 libsoup-gnome2.4-1\\n  libsoup2.4-1 libsystemd0 libwayland-client0 libwayland-cursor0\\n  libwayland-egl1 libx11-xcb1 libxcb-dri2-0 libxcb-dri3-0 libxcb-glx0\\n  libxcb-present0 libxcb-shape0 libxcb-sync1 libxcomposite1 libxcursor1\\n  libxdamage1 libxfixes3 libxft2 libxi6 libxinerama1 libxkbcommon0 libxrandr2\\n  libxshmfence1 libxtst6 libxv1 libxxf86dga1 libxxf86vm1 openjdk-11-jre\\n  openjdk-11-jre-headless systemd systemd-sysv x11-utils xkb-data\\nSuggested packages:\\n  libasound2-plugins alsa-utils colord gvfs pciutils pcscd librsvg2-bin\\n  lm-sensors libnss-mdns fonts-ipafont-gothic fonts-ipafont-mincho\\n  fonts-wqy-microhei | fonts-wqy-zenhei fonts-indic systemd-container\\n  policykit-1 mesa-utils\\nThe following NEW packages will be installed:\\n  adwaita-icon-theme at-spi2-core ca-certificates-java dbus-user-session\\n  dconf-gsettings-backend dconf-service default-jre default-jre-headless\\n  dmsetup fonts-dejavu-extra glib-networking glib-networking-common\\n  glib-networking-services gsettings-desktop-schemas gtk-update-icon-cache\\n  java-common libargon2-1 libasound2 libasound2-data libatk-bridge2.0-0\\n  libatk-wrapper-java libatk-wrapper-java-jni libatk1.0-0 libatk1.0-data\\n  libatspi2.0-0 libcairo-gobject2 libcolord2 libcroco3 libcryptsetup12\\n  libdconf1 libdevmapper1.02.1 libdrm-amdgpu1 libdrm-common libdrm-intel1\\n  libdrm-nouveau2 libdrm-radeon1 libdrm2 libelf1 libepoxy0 libfontenc1\\n  libgail-common libgail18 libgdk-pixbuf2.0-0 libgdk-pixbuf2.0-bin\\n  libgdk-pixbuf2.0-common libgif7 libgl1 libgl1-mesa-dri libglapi-mesa\\n  libglvnd0 libglx-mesa0 libglx0 libgtk-3-0 libgtk-3-bin libgtk-3-common\\n  libgtk2.0-0 libgtk2.0-bin libgtk2.0-common libip4tc0 libjson-glib-1.0-0\\n  libjson-glib-1.0-common libkmod2 libllvm7 libnspr4 libnss-systemd libnss3\\n  libpam-systemd libpciaccess0 libpcsclite1 libproxy1v5 librest-0.7-0\\n  librsvg2-2 librsvg2-common libsensors-config libsensors5 libsoup-gnome2.4-1\\n  libsoup2.4-1 libwayland-client0 libwayland-cursor0 libwayland-egl1\\n  libx11-xcb1 libxcb-dri2-0 libxcb-dri3-0 libxcb-glx0 libxcb-present0\\n  libxcb-shape0 libxcb-sync1 libxcomposite1 libxcursor1 libxdamage1 libxfixes3\\n  libxft2 libxi6 libxinerama1 libxkbcommon0 libxrandr2 libxshmfence1 libxtst6\\n  libxv1 libxxf86dga1 libxxf86vm1 openjdk-11-jre openjdk-11-jre-headless\\n  systemd systemd-sysv x11-utils xkb-data\\nThe following packages will be upgraded:\\n  libsystemd0\\n1 upgraded, 107 newly installed, 0 to remove and 54 not upgraded.\\nNeed to get 96.3 MB of archives.\\nAfter this operation, 535 MB of additional disk space will be used.\\nGet:1 http://deb.debian.org/debian buster/main amd64 libsystemd0 amd64 241-7~deb10u8 [331 kB]\\nGet:2 http://security.debian.org/debian-security buster/updates/main amd64 dbus-user-session amd64 1.12.24-0+deb10u1 [97.9 kB]\\nGet:3 http://security.debian.org/debian-security buster/updates/main amd64 libgif7 amd64 5.1.4-3+deb10u1 [43.4 kB]\\nGet:4 http://deb.debian.org/debian buster/main amd64 libargon2-1 amd64 0~20171227-0.2 [19.6 kB]\\nGet:5 http://deb.debian.org/debian buster/main amd64 dmsetup amd64 2:1.02.155-3 [90.8 kB]\\nGet:6 http://deb.debian.org/debian buster/main amd64 libdevmapper1.02.1 amd64 2:1.02.155-3 [141 kB]\\nGet:7 http://deb.debian.org/debian buster/main amd64 libcryptsetup12 amd64 2:2.1.0-5+deb10u2 [193 kB]\\nGet:8 http://deb.debian.org/debian buster/main amd64 libip4tc0 amd64 1.8.2-4 [70.2 kB]\\nGet:9 http://deb.debian.org/debian buster/main amd64 libkmod2 amd64 26-1 [52.7 kB]\\nGet:10 http://deb.debian.org/debian buster/main amd64 systemd amd64 241-7~deb10u8 [3496 kB]\\nGet:11 http://deb.debian.org/debian buster/main amd64 systemd-sysv amd64 241-7~deb10u8 [100 kB]\\nGet:12 http://deb.debian.org/debian buster/main amd64 libnss-systemd amd64 241-7~deb10u8 [205 kB]\\nGet:13 http://deb.debian.org/debian buster/main amd64 libpam-systemd amd64 241-7~deb10u8 [209 kB]\\nGet:14 http://deb.debian.org/debian buster/main amd64 libgdk-pixbuf2.0-common all 2.38.1+dfsg-1 [316 kB]\\nGet:15 http://deb.debian.org/debian buster/main amd64 libgdk-pixbuf2.0-0 amd64 2.38.1+dfsg-1 [177 kB]\\nGet:16 http://deb.debian.org/debian buster/main amd64 gtk-update-icon-cache amd64 3.24.5-1 [81.7 kB]\\nGet:17 http://deb.debian.org/debian buster/main amd64 libcroco3 amd64 0.6.12-3 [145 kB]\\nGet:18 http://deb.debian.org/debian buster/main amd64 librsvg2-2 amd64 2.44.10-2.1+deb10u3 [1258 kB]\\nGet:19 http://deb.debian.org/debian buster/main amd64 librsvg2-common amd64 2.44.10-2.1+deb10u3 [23.6 kB]\\nGet:20 http://deb.debian.org/debian buster/main amd64 adwaita-icon-theme all 3.30.1-1 [11.7 MB]\\nGet:21 http://deb.debian.org/debian buster/main amd64 libatspi2.0-0 amd64 2.30.0-7 [65.0 kB]\\nGet:22 http://deb.debian.org/debian buster/main amd64 libxi6 amd64 2:1.7.9-1 [82.6 kB]\\nGet:23 http://deb.debian.org/debian buster/main amd64 libxtst6 amd64 2:1.2.3-1 [27.8 kB]\\nGet:24 http://deb.debian.org/debian buster/main amd64 at-spi2-core amd64 2.30.0-7 [70.7 kB]\\nGet:25 http://deb.debian.org/debian buster/main amd64 java-common all 0.71 [14.4 kB]\\nGet:26 http://deb.debian.org/debian buster/main amd64 libnspr4 amd64 2:4.20-1 [112 kB]\\nGet:27 http://deb.debian.org/debian buster/main amd64 libnss3 amd64 2:3.42.1-1+deb10u5 [1160 kB]\\nGet:28 http://deb.debian.org/debian buster/main amd64 libasound2-data all 1.1.8-1 [59.6 kB]\\nGet:29 http://deb.debian.org/debian buster/main amd64 libasound2 amd64 1.1.8-1 [361 kB]\\nGet:30 http://deb.debian.org/debian buster/main amd64 libpcsclite1 amd64 1.8.24-1 [58.5 kB]\\nGet:31 http://deb.debian.org/debian buster/main amd64 openjdk-11-jre-headless amd64 11.0.16+8-1~deb10u1 [37.3 MB]\\nGet:32 http://deb.debian.org/debian buster/main amd64 default-jre-headless amd64 2:1.11-71 [10.9 kB]\\nGet:33 http://deb.debian.org/debian buster/main amd64 ca-certificates-java all 20190405 [15.7 kB]\\nGet:34 http://deb.debian.org/debian buster/main amd64 libdconf1 amd64 0.30.1-2 [40.7 kB]\\nGet:35 http://deb.debian.org/debian buster/main amd64 dconf-service amd64 0.30.1-2 [36.4 kB]\\nGet:36 http://deb.debian.org/debian buster/main amd64 dconf-gsettings-backend amd64 0.30.1-2 [28.9 kB]\\nGet:37 http://deb.debian.org/debian buster/main amd64 libglvnd0 amd64 1.1.0-1 [48.6 kB]\\nGet:38 http://deb.debian.org/debian buster/main amd64 libdrm-common all 2.4.97-1 [13.8 kB]\\nGet:39 http://deb.debian.org/debian buster/main amd64 libdrm2 amd64 2.4.97-1 [39.7 kB]\\nGet:40 http://deb.debian.org/debian buster/main amd64 libglapi-mesa amd64 18.3.6-2+deb10u1 [66.3 kB]\\nGet:41 http://deb.debian.org/debian buster/main amd64 libx11-xcb1 amd64 2:1.6.7-1+deb10u2 [191 kB]\\nGet:42 http://deb.debian.org/debian buster/main amd64 libxcb-dri2-0 amd64 1.13.1-2 [101 kB]\\nGet:43 http://deb.debian.org/debian buster/main amd64 libxcb-dri3-0 amd64 1.13.1-2 [100 kB]\\nGet:44 http://deb.debian.org/debian buster/main amd64 libxcb-glx0 amd64 1.13.1-2 [116 kB]\\nGet:45 http://deb.debian.org/debian buster/main amd64 libxcb-present0 amd64 1.13.1-2 [99.1 kB]\\nGet:46 http://deb.debian.org/debian buster/main amd64 libxcb-sync1 amd64 1.13.1-2 [103 kB]\\nGet:47 http://deb.debian.org/debian buster/main amd64 libxfixes3 amd64 1:5.0.3-1 [21.9 kB]\\nGet:48 http://deb.debian.org/debian buster/main amd64 libxdamage1 amd64 1:1.1.4-3+b3 [14.9 kB]\\nGet:49 http://deb.debian.org/debian buster/main amd64 libxshmfence1 amd64 1.3-1 [8820 B]\\nGet:50 http://deb.debian.org/debian buster/main amd64 libxxf86vm1 amd64 1:1.1.4-1+b2 [20.8 kB]\\nGet:51 http://deb.debian.org/debian buster/main amd64 libdrm-amdgpu1 amd64 2.4.97-1 [27.3 kB]\\nGet:52 http://deb.debian.org/debian buster/main amd64 libpciaccess0 amd64 0.14-1 [53.5 kB]\\nGet:53 http://deb.debian.org/debian buster/main amd64 libdrm-intel1 amd64 2.4.97-1 [69.8 kB]\\nGet:54 http://deb.debian.org/debian buster/main amd64 libdrm-nouveau2 amd64 2.4.97-1 [26.3 kB]\\nGet:55 http://deb.debian.org/debian buster/main amd64 libdrm-radeon1 amd64 2.4.97-1 [31.1 kB]\\nGet:56 http://deb.debian.org/debian buster/main amd64 libelf1 amd64 0.176-1.1 [161 kB]\\nGet:57 http://deb.debian.org/debian buster/main amd64 libllvm7 amd64 1:7.0.1-8+deb10u2 [13.1 MB]\\nGet:58 http://deb.debian.org/debian buster/main amd64 libsensors-config all 1:3.5.0-3 [31.6 kB]\\nGet:59 http://deb.debian.org/debian buster/main amd64 libsensors5 amd64 1:3.5.0-3 [52.6 kB]\\nGet:60 http://deb.debian.org/debian buster/main amd64 libgl1-mesa-dri amd64 18.3.6-2+deb10u1 [6685 kB]\\nGet:61 http://deb.debian.org/debian buster/main amd64 libglx-mesa0 amd64 18.3.6-2+deb10u1 [180 kB]\\nGet:62 http://deb.debian.org/debian buster/main amd64 libglx0 amd64 1.1.0-1 [30.0 kB]\\nGet:63 http://deb.debian.org/debian buster/main amd64 libgl1 amd64 1.1.0-1 [91.1 kB]\\nGet:64 http://deb.debian.org/debian buster/main amd64 openjdk-11-jre amd64 11.0.16+8-1~deb10u1 [174 kB]\\nGet:65 http://deb.debian.org/debian buster/main amd64 default-jre amd64 2:1.11-71 [1044 B]\\nGet:66 http://deb.debian.org/debian buster/main amd64 fonts-dejavu-extra all 2.37-1 [1982 kB]\\nGet:67 http://deb.debian.org/debian buster/main amd64 libproxy1v5 amd64 0.4.15-5+deb10u1 [56.1 kB]\\nGet:68 http://deb.debian.org/debian buster/main amd64 glib-networking-common all 2.58.0-2+deb10u2 [59.5 kB]\\nGet:69 http://deb.debian.org/debian buster/main amd64 glib-networking-services amd64 2.58.0-2+deb10u2 [13.7 kB]\\nGet:70 http://deb.debian.org/debian buster/main amd64 gsettings-desktop-schemas all 3.28.1-1 [529 kB]\\nGet:71 http://deb.debian.org/debian buster/main amd64 glib-networking amd64 2.58.0-2+deb10u2 [54.6 kB]\\nGet:72 http://deb.debian.org/debian buster/main amd64 libatk1.0-data all 2.30.0-2 [145 kB]\\nGet:73 http://deb.debian.org/debian buster/main amd64 libatk1.0-0 amd64 2.30.0-2 [50.6 kB]\\nGet:74 http://deb.debian.org/debian buster/main amd64 libatk-bridge2.0-0 amd64 2.30.0-5 [61.6 kB]\\nGet:75 http://deb.debian.org/debian buster/main amd64 libfontenc1 amd64 1:1.1.3-1+b2 [24.4 kB]\\nGet:76 http://deb.debian.org/debian buster/main amd64 libxcb-shape0 amd64 1.13.1-2 [99.5 kB]\\nGet:77 http://deb.debian.org/debian buster/main amd64 libxcomposite1 amd64 1:0.4.4-2 [16.5 kB]\\nGet:78 http://deb.debian.org/debian buster/main amd64 libxft2 amd64 2.3.2-2 [57.2 kB]\\nGet:79 http://deb.debian.org/debian buster/main amd64 libxinerama1 amd64 2:1.1.4-2 [17.7 kB]\\nGet:80 http://deb.debian.org/debian buster/main amd64 libxrandr2 amd64 2:1.5.1-1 [37.5 kB]\\nGet:81 http://deb.debian.org/debian buster/main amd64 libxv1 amd64 2:1.0.11-1 [24.6 kB]\\nGet:82 http://deb.debian.org/debian buster/main amd64 libxxf86dga1 amd64 2:1.1.4-1+b3 [22.1 kB]\\nGet:83 http://deb.debian.org/debian buster/main amd64 x11-utils amd64 7.7+4 [202 kB]\\nGet:84 http://deb.debian.org/debian buster/main amd64 libatk-wrapper-java all 0.33.3-22+deb10u1 [45.5 kB]\\nGet:85 http://deb.debian.org/debian buster/main amd64 libcairo-gobject2 amd64 1.16.0-4+deb10u1 [125 kB]\\nGet:86 http://deb.debian.org/debian buster/main amd64 libcolord2 amd64 1.4.3-4 [141 kB]\\nGet:87 http://deb.debian.org/debian buster/main amd64 libepoxy0 amd64 1.5.3-0.1 [190 kB]\\nGet:88 http://deb.debian.org/debian buster/main amd64 libjson-glib-1.0-common all 1.4.4-2 [52.3 kB]\\nGet:89 http://deb.debian.org/debian buster/main amd64 libjson-glib-1.0-0 amd64 1.4.4-2 [61.2 kB]\\nGet:90 http://deb.debian.org/debian buster/main amd64 libsoup2.4-1 amd64 2.64.2-2 [253 kB]\\nGet:91 http://deb.debian.org/debian buster/main amd64 libsoup-gnome2.4-1 amd64 2.64.2-2 [18.0 kB]\\nGet:92 http://deb.debian.org/debian buster/main amd64 librest-0.7-0 amd64 0.8.1-1 [33.7 kB]\\nGet:93 http://deb.debian.org/debian buster/main amd64 libwayland-client0 amd64 1.16.0-1 [26.4 kB]\\nGet:94 http://deb.debian.org/debian buster/main amd64 libwayland-cursor0 amd64 1.16.0-1 [14.1 kB]\\nGet:95 http://deb.debian.org/debian buster/main amd64 libwayland-egl1 amd64 1.16.0-1 [8204 B]\\nGet:96 http://deb.debian.org/debian buster/main amd64 libxcursor1 amd64 1:1.1.15-2 [36.6 kB]\\nGet:97 http://deb.debian.org/debian buster/main amd64 xkb-data all 2.26-2 [681 kB]\\nGet:98 http://deb.debian.org/debian buster/main amd64 libxkbcommon0 amd64 0.8.2-1 [123 kB]\\nGet:99 http://deb.debian.org/debian buster/main amd64 libgtk-3-common all 3.24.5-1 [3678 kB]\\nGet:100 http://deb.debian.org/debian buster/main amd64 libgtk-3-0 amd64 3.24.5-1 [2580 kB]\\nGet:101 http://deb.debian.org/debian buster/main amd64 libgtk2.0-common all 2.24.32-3 [2698 kB]\\nGet:102 http://deb.debian.org/debian buster/main amd64 libgtk2.0-0 amd64 2.24.32-3 [1809 kB]\\nGet:103 http://deb.debian.org/debian buster/main amd64 libatk-wrapper-java-jni amd64 0.33.3-22+deb10u1 [39.5 kB]\\nGet:104 http://deb.debian.org/debian buster/main amd64 libgail18 amd64 2.24.32-3 [55.5 kB]\\nGet:105 http://deb.debian.org/debian buster/main amd64 libgail-common amd64 2.24.32-3 [156 kB]\\nGet:106 http://deb.debian.org/debian buster/main amd64 libgdk-pixbuf2.0-bin amd64 2.38.1+dfsg-1 [24.1 kB]\\nGet:107 http://deb.debian.org/debian buster/main amd64 libgtk-3-bin amd64 3.24.5-1 [114 kB]\\nGet:108 http://deb.debian.org/debian buster/main amd64 libgtk2.0-bin amd64 2.24.32-3 [48.5 kB]\\nFetched 96.3 MB in 1s (95.8 MB/s)\\n(Reading database ... \\r(Reading database ... 5%\\r(Reading database ... 10%\\r(Reading database ... 15%\\r(Reading database ... 20%\\r(Reading database ... 25%\\r(Reading database ... 30%\\r(Reading database ... 35%\\r(Reading database ... 40%\\r(Reading database ... 45%\\r(Reading database ... 50%\\r(Reading database ... 55%\\r(Reading database ... 60%\\r(Reading database ... 65%\\r(Reading database ... 70%\\r(Reading database ... 75%\\r(Reading database ... 80%\\r(Reading database ... 85%\\r(Reading database ... 90%\\r(Reading database ... 95%\\r(Reading database ... 100%\\r(Reading database ... 20709 files and directories currently installed.)\\r\\nPreparing to unpack .../libsystemd0_241-7~deb10u8_amd64.deb ...\\r\\nUnpacking libsystemd0:amd64 (241-7~deb10u8) over (241-7~deb10u4) ...\\r\\nSetting up libsystemd0:amd64 (241-7~deb10u8) ...\\r\\nSelecting previously unselected package libargon2-1:amd64.\\r\\n(Reading database ... \\r(Reading database ... 5%\\r(Reading database ... 10%\\r(Reading database ... 15%\\r(Reading database ... 20%\\r(Reading database ... 25%\\r(Reading database ... 30%\\r(Reading database ... 35%\\r(Reading database ... 40%\\r(Reading database ... 45%\\r(Reading database ... 50%\\r(Reading database ... 55%\\r(Reading database ... 60%\\r(Reading database ... 65%\\r(Reading database ... 70%\\r(Reading database ... 75%\\r(Reading database ... 80%\\r(Reading database ... 85%\\r(Reading database ... 90%\\r(Reading database ... 95%\\r(Reading database ... 100%\\r(Reading database ... 20709 files and directories currently installed.)\\r\\nPreparing to unpack .../0-libargon2-1_0~20171227-0.2_amd64.deb ...\\r\\nUnpacking libargon2-1:amd64 (0~20171227-0.2) ...\\r\\nSelecting previously unselected package dmsetup.\\r\\nPreparing to unpack .../1-dmsetup_2%3a1.02.155-3_amd64.deb ...\\r\\nUnpacking dmsetup (2:1.02.155-3) ...\\r\\nSelecting previously unselected package libdevmapper1.02.1:amd64.\\r\\nPreparing to unpack .../2-libdevmapper1.02.1_2%3a1.02.155-3_amd64.deb ...\\r\\nUnpacking libdevmapper1.02.1:amd64 (2:1.02.155-3) ...\\r\\nSelecting previously unselected package libcryptsetup12:amd64.\\r\\nPreparing to unpack .../3-libcryptsetup12_2%3a2.1.0-5+deb10u2_amd64.deb ...\\r\\nUnpacking libcryptsetup12:amd64 (2:2.1.0-5+deb10u2) ...\\r\\nSelecting previously unselected package libip4tc0:amd64.\\r\\nPreparing to unpack .../4-libip4tc0_1.8.2-4_amd64.deb ...\\r\\nUnpacking libip4tc0:amd64 (1.8.2-4) ...\\r\\nSelecting previously unselected package libkmod2:amd64.\\r\\nPreparing to unpack .../5-libkmod2_26-1_amd64.deb ...\\r\\nUnpacking libkmod2:amd64 (26-1) ...\\r\\nSelecting previously unselected package systemd.\\r\\nPreparing to unpack .../6-systemd_241-7~deb10u8_amd64.deb ...\\r\\nUnpacking systemd (241-7~deb10u8) ...\\r\\nSetting up libargon2-1:amd64 (0~20171227-0.2) ...\\r\\nSetting up libip4tc0:amd64 (1.8.2-4) ...\\r\\nSetting up libkmod2:amd64 (26-1) ...\\r\\nSetting up libdevmapper1.02.1:amd64 (2:1.02.155-3) ...\\r\\nSetting up libcryptsetup12:amd64 (2:2.1.0-5+deb10u2) ...\\r\\nSetting up systemd (241-7~deb10u8) ...\\r\\nCreated symlink /etc/systemd/system/getty.target.wants/getty@tty1.service \\xe2\\x86\\x92 /lib/systemd/system/getty@.service.\\r\\nCreated symlink /etc/systemd/system/multi-user.target.wants/remote-fs.target \\xe2\\x86\\x92 /lib/systemd/system/remote-fs.target.\\r\\nCreated symlink /etc/systemd/system/dbus-org.freedesktop.timesync1.service \\xe2\\x86\\x92 /lib/systemd/system/systemd-timesyncd.service.\\r\\nCreated symlink /etc/systemd/system/sysinit.target.wants/systemd-timesyncd.service \\xe2\\x86\\x92 /lib/systemd/system/systemd-timesyncd.service.\\r\\nSetting up dmsetup (2:1.02.155-3) ...\\r\\nSelecting previously unselected package systemd-sysv.\\r\\n(Reading database ... \\r(Reading database ... 5%\\r(Reading database ... 10%\\r(Reading database ... 15%\\r(Reading database ... 20%\\r(Reading database ... 25%\\r(Reading database ... 30%\\r(Reading database ... 35%\\r(Reading database ... 40%\\r(Reading database ... 45%\\r(Reading database ... 50%\\r(Reading database ... 55%\\r(Reading database ... 60%\\r(Reading database ... 65%\\r(Reading database ... 70%\\r(Reading database ... 75%\\r(Reading database ... 80%\\r(Reading database ... 85%\\r(Reading database ... 90%\\r(Reading database ... 95%\\r(Reading database ... 100%\\r(Reading database ... 21514 files and directories currently installed.)\\r\\nPreparing to unpack .../00-systemd-sysv_241-7~deb10u8_amd64.deb ...\\r\\nUnpacking systemd-sysv (241-7~deb10u8) ...\\r\\nSelecting previously unselected package libnss-systemd:amd64.\\r\\nPreparing to unpack .../01-libnss-systemd_241-7~deb10u8_amd64.deb ...\\r\\nUnpacking libnss-systemd:amd64 (241-7~deb10u8) ...\\r\\nSelecting previously unselected package libpam-systemd:amd64.\\r\\nPreparing to unpack .../02-libpam-systemd_241-7~deb10u8_amd64.deb ...\\r\\nUnpacking libpam-systemd:amd64 (241-7~deb10u8) ...\\r\\nSelecting previously unselected package libgdk-pixbuf2.0-common.\\r\\nPreparing to unpack .../03-libgdk-pixbuf2.0-common_2.38.1+dfsg-1_all.deb ...\\r\\nUnpacking libgdk-pixbuf2.0-common (2.38.1+dfsg-1) ...\\r\\nSelecting previously unselected package libgdk-pixbuf2.0-0:amd64.\\r\\nPreparing to unpack .../04-libgdk-pixbuf2.0-0_2.38.1+dfsg-1_amd64.deb ...\\r\\nUnpacking libgdk-pixbuf2.0-0:amd64 (2.38.1+dfsg-1) ...\\r\\nSelecting previously unselected package gtk-update-icon-cache.\\r\\nPreparing to unpack .../05-gtk-update-icon-cache_3.24.5-1_amd64.deb ...\\r\\nNo diversion 'diversion of /usr/sbin/update-icon-caches to /usr/sbin/update-icon-caches.gtk2 by libgtk-3-bin', none removed.\\r\\nNo diversion 'diversion of /usr/share/man/man8/update-icon-caches.8.gz to /usr/share/man/man8/update-icon-caches.gtk2.8.gz by libgtk-3-bin', none removed.\\r\\nUnpacking gtk-update-icon-cache (3.24.5-1) ...\\r\\nSelecting previously unselected package libcroco3:amd64.\\r\\nPreparing to unpack .../06-libcroco3_0.6.12-3_amd64.deb ...\\r\\nUnpacking libcroco3:amd64 (0.6.12-3) ...\\r\\nSelecting previously unselected package librsvg2-2:amd64.\\r\\nPreparing to unpack .../07-librsvg2-2_2.44.10-2.1+deb10u3_amd64.deb ...\\r\\nUnpacking librsvg2-2:amd64 (2.44.10-2.1+deb10u3) ...\\r\\nSelecting previously unselected package librsvg2-common:amd64.\\r\\nPreparing to unpack .../08-librsvg2-common_2.44.10-2.1+deb10u3_amd64.deb ...\\r\\nUnpacking librsvg2-common:amd64 (2.44.10-2.1+deb10u3) ...\\r\\nSelecting previously unselected package adwaita-icon-theme.\\r\\nPreparing to unpack .../09-adwaita-icon-theme_3.30.1-1_all.deb ...\\r\\nUnpacking adwaita-icon-theme (3.30.1-1) ...\\r\\nSelecting previously unselected package libatspi2.0-0:amd64.\\r\\nPreparing to unpack .../10-libatspi2.0-0_2.30.0-7_amd64.deb ...\\r\\nUnpacking libatspi2.0-0:amd64 (2.30.0-7) ...\\r\\nSelecting previously unselected package libxi6:amd64.\\r\\nPreparing to unpack .../11-libxi6_2%3a1.7.9-1_amd64.deb ...\\r\\nUnpacking libxi6:amd64 (2:1.7.9-1) ...\\r\\nSelecting previously unselected package libxtst6:amd64.\\r\\nPreparing to unpack .../12-libxtst6_2%3a1.2.3-1_amd64.deb ...\\r\\nUnpacking libxtst6:amd64 (2:1.2.3-1) ...\\r\\nSelecting previously unselected package at-spi2-core.\\r\\nPreparing to unpack .../13-at-spi2-core_2.30.0-7_amd64.deb ...\\r\\nUnpacking at-spi2-core (2.30.0-7) ...\\r\\nSelecting previously unselected package java-common.\\r\\nPreparing to unpack .../14-java-common_0.71_all.deb ...\\r\\nUnpacking java-common (0.71) ...\\r\\nSelecting previously unselected package libnspr4:amd64.\\r\\nPreparing to unpack .../15-libnspr4_2%3a4.20-1_amd64.deb ...\\r\\nUnpacking libnspr4:amd64 (2:4.20-1) ...\\r\\nSelecting previously unselected package libnss3:amd64.\\r\\nPreparing to unpack .../16-libnss3_2%3a3.42.1-1+deb10u5_amd64.deb ...\\r\\nUnpacking libnss3:amd64 (2:3.42.1-1+deb10u5) ...\\r\\nSelecting previously unselected package libasound2-data.\\r\\nPreparing to unpack .../17-libasound2-data_1.1.8-1_all.deb ...\\r\\nUnpacking libasound2-data (1.1.8-1) ...\\r\\nSelecting previously unselected package libasound2:amd64.\\r\\nPreparing to unpack .../18-libasound2_1.1.8-1_amd64.deb ...\\r\\nUnpacking libasound2:amd64 (1.1.8-1) ...\\r\\nSelecting previously unselected package libpcsclite1:amd64.\\r\\nPreparing to unpack .../19-libpcsclite1_1.8.24-1_amd64.deb ...\\r\\nUnpacking libpcsclite1:amd64 (1.8.24-1) ...\\r\\nSelecting previously unselected package openjdk-11-jre-headless:amd64.\\r\\nPreparing to unpack .../20-openjdk-11-jre-headless_11.0.16+8-1~deb10u1_amd64.deb ...\\r\\nUnpacking openjdk-11-jre-headless:amd64 (11.0.16+8-1~deb10u1) ...\\r\\nSelecting previously unselected package default-jre-headless.\\r\\nPreparing to unpack .../21-default-jre-headless_2%3a1.11-71_amd64.deb ...\\r\\nUnpacking default-jre-headless (2:1.11-71) ...\\r\\nSelecting previously unselected package ca-certificates-java.\\r\\nPreparing to unpack .../22-ca-certificates-java_20190405_all.deb ...\\r\\nUnpacking ca-certificates-java (20190405) ...\\r\\nSelecting previously unselected package dbus-user-session.\\r\\nPreparing to unpack .../23-dbus-user-session_1.12.24-0+deb10u1_amd64.deb ...\\r\\nUnpacking dbus-user-session (1.12.24-0+deb10u1) ...\\r\\nSelecting previously unselected package libdconf1:amd64.\\r\\nPreparing to unpack .../24-libdconf1_0.30.1-2_amd64.deb ...\\r\\nUnpacking libdconf1:amd64 (0.30.1-2) ...\\r\\nSelecting previously unselected package dconf-service.\\r\\nPreparing to unpack .../25-dconf-service_0.30.1-2_amd64.deb ...\\r\\nUnpacking dconf-service (0.30.1-2) ...\\r\\nSelecting previously unselected package dconf-gsettings-backend:amd64.\\r\\nPreparing to unpack .../26-dconf-gsettings-backend_0.30.1-2_amd64.deb ...\\r\\nUnpacking dconf-gsettings-backend:amd64 (0.30.1-2) ...\\r\\nSelecting previously unselected package libglvnd0:amd64.\\r\\nPreparing to unpack .../27-libglvnd0_1.1.0-1_amd64.deb ...\\r\\nUnpacking libglvnd0:amd64 (1.1.0-1) ...\\r\\nSelecting previously unselected package libdrm-common.\\r\\nPreparing to unpack .../28-libdrm-common_2.4.97-1_all.deb ...\\r\\nUnpacking libdrm-common (2.4.97-1) ...\\r\\nSelecting previously unselected package libdrm2:amd64.\\r\\nPreparing to unpack .../29-libdrm2_2.4.97-1_amd64.deb ...\\r\\nUnpacking libdrm2:amd64 (2.4.97-1) ...\\r\\nSelecting previously unselected package libglapi-mesa:amd64.\\r\\nPreparing to unpack .../30-libglapi-mesa_18.3.6-2+deb10u1_amd64.deb ...\\r\\nUnpacking libglapi-mesa:amd64 (18.3.6-2+deb10u1) ...\\r\\nSelecting previously unselected package libx11-xcb1:amd64.\\r\\nPreparing to unpack .../31-libx11-xcb1_2%3a1.6.7-1+deb10u2_amd64.deb ...\\r\\nUnpacking libx11-xcb1:amd64 (2:1.6.7-1+deb10u2) ...\\r\\nSelecting previously unselected package libxcb-dri2-0:amd64.\\r\\nPreparing to unpack .../32-libxcb-dri2-0_1.13.1-2_amd64.deb ...\\r\\nUnpacking libxcb-dri2-0:amd64 (1.13.1-2) ...\\r\\nSelecting previously unselected package libxcb-dri3-0:amd64.\\r\\nPreparing to unpack .../33-libxcb-dri3-0_1.13.1-2_amd64.deb ...\\r\\nUnpacking libxcb-dri3-0:amd64 (1.13.1-2) ...\\r\\nSelecting previously unselected package libxcb-glx0:amd64.\\r\\nPreparing to unpack .../34-libxcb-glx0_1.13.1-2_amd64.deb ...\\r\\nUnpacking libxcb-glx0:amd64 (1.13.1-2) ...\\r\\nSelecting previously unselected package libxcb-present0:amd64.\\r\\nPreparing to unpack .../35-libxcb-present0_1.13.1-2_amd64.deb ...\\r\\nUnpacking libxcb-present0:amd64 (1.13.1-2) ...\\r\\nSelecting previously unselected package libxcb-sync1:amd64.\\r\\nPreparing to unpack .../36-libxcb-sync1_1.13.1-2_amd64.deb ...\\r\\nUnpacking libxcb-sync1:amd64 (1.13.1-2) ...\\r\\nSelecting previously unselected package libxfixes3:amd64.\\r\\nPreparing to unpack .../37-libxfixes3_1%3a5.0.3-1_amd64.deb ...\\r\\nUnpacking libxfixes3:amd64 (1:5.0.3-1) ...\\r\\nSelecting previously unselected package libxdamage1:amd64.\\r\\nPreparing to unpack .../38-libxdamage1_1%3a1.1.4-3+b3_amd64.deb ...\\r\\nUnpacking libxdamage1:amd64 (1:1.1.4-3+b3) ...\\r\\nSelecting previously unselected package libxshmfence1:amd64.\\r\\nPreparing to unpack .../39-libxshmfence1_1.3-1_amd64.deb ...\\r\\nUnpacking libxshmfence1:amd64 (1.3-1) ...\\r\\nSelecting previously unselected package libxxf86vm1:amd64.\\r\\nPreparing to unpack .../40-libxxf86vm1_1%3a1.1.4-1+b2_amd64.deb ...\\r\\nUnpacking libxxf86vm1:amd64 (1:1.1.4-1+b2) ...\\r\\nSelecting previously unselected package libdrm-amdgpu1:amd64.\\r\\nPreparing to unpack .../41-libdrm-amdgpu1_2.4.97-1_amd64.deb ...\\r\\nUnpacking libdrm-amdgpu1:amd64 (2.4.97-1) ...\\r\\nSelecting previously unselected package libpciaccess0:amd64.\\r\\nPreparing to unpack .../42-libpciaccess0_0.14-1_amd64.deb ...\\r\\nUnpacking libpciaccess0:amd64 (0.14-1) ...\\r\\nSelecting previously unselected package libdrm-intel1:amd64.\\r\\nPreparing to unpack .../43-libdrm-intel1_2.4.97-1_amd64.deb ...\\r\\nUnpacking libdrm-intel1:amd64 (2.4.97-1) ...\\r\\nSelecting previously unselected package libdrm-nouveau2:amd64.\\r\\nPreparing to unpack .../44-libdrm-nouveau2_2.4.97-1_amd64.deb ...\\r\\nUnpacking libdrm-nouveau2:amd64 (2.4.97-1) ...\\r\\nSelecting previously unselected package libdrm-radeon1:amd64.\\r\\nPreparing to unpack .../45-libdrm-radeon1_2.4.97-1_amd64.deb ...\\r\\nUnpacking libdrm-radeon1:amd64 (2.4.97-1) ...\\r\\nSelecting previously unselected package libelf1:amd64.\\r\\nPreparing to unpack .../46-libelf1_0.176-1.1_amd64.deb ...\\r\\nUnpacking libelf1:amd64 (0.176-1.1) ...\\r\\nSelecting previously unselected package libllvm7:amd64.\\r\\nPreparing to unpack .../47-libllvm7_1%3a7.0.1-8+deb10u2_amd64.deb ...\\r\\nUnpacking libllvm7:amd64 (1:7.0.1-8+deb10u2) ...\\r\\nSelecting previously unselected package libsensors-config.\\r\\nPreparing to unpack .../48-libsensors-config_1%3a3.5.0-3_all.deb ...\\r\\nUnpacking libsensors-config (1:3.5.0-3) ...\\r\\nSelecting previously unselected package libsensors5:amd64.\\r\\nPreparing to unpack .../49-libsensors5_1%3a3.5.0-3_amd64.deb ...\\r\\nUnpacking libsensors5:amd64 (1:3.5.0-3) ...\\r\\nSelecting previously unselected package libgl1-mesa-dri:amd64.\\r\\nPreparing to unpack .../50-libgl1-mesa-dri_18.3.6-2+deb10u1_amd64.deb ...\\r\\nUnpacking libgl1-mesa-dri:amd64 (18.3.6-2+deb10u1) ...\\r\\nSelecting previously unselected package libglx-mesa0:amd64.\\r\\nPreparing to unpack .../51-libglx-mesa0_18.3.6-2+deb10u1_amd64.deb ...\\r\\nUnpacking libglx-mesa0:amd64 (18.3.6-2+deb10u1) ...\\r\\nSelecting previously unselected package libglx0:amd64.\\r\\nPreparing to unpack .../52-libglx0_1.1.0-1_amd64.deb ...\\r\\nUnpacking libglx0:amd64 (1.1.0-1) ...\\r\\nSelecting previously unselected package libgl1:amd64.\\r\\nPreparing to unpack .../53-libgl1_1.1.0-1_amd64.deb ...\\r\\nUnpacking libgl1:amd64 (1.1.0-1) ...\\r\\nSelecting previously unselected package libgif7:amd64.\\r\\nPreparing to unpack .../54-libgif7_5.1.4-3+deb10u1_amd64.deb ...\\r\\nUnpacking libgif7:amd64 (5.1.4-3+deb10u1) ...\\r\\nSelecting previously unselected package openjdk-11-jre:amd64.\\r\\nPreparing to unpack .../55-openjdk-11-jre_11.0.16+8-1~deb10u1_amd64.deb ...\\r\\nUnpacking openjdk-11-jre:amd64 (11.0.16+8-1~deb10u1) ...\\r\\nSelecting previously unselected package default-jre.\\r\\nPreparing to unpack .../56-default-jre_2%3a1.11-71_amd64.deb ...\\r\\nUnpacking default-jre (2:1.11-71) ...\\r\\nSelecting previously unselected package fonts-dejavu-extra.\\r\\nPreparing to unpack .../57-fonts-dejavu-extra_2.37-1_all.deb ...\\r\\nUnpacking fonts-dejavu-extra (2.37-1) ...\\r\\nSelecting previously unselected package libproxy1v5:amd64.\\r\\nPreparing to unpack .../58-libproxy1v5_0.4.15-5+deb10u1_amd64.deb ...\\r\\nUnpacking libproxy1v5:amd64 (0.4.15-5+deb10u1) ...\\r\\nSelecting previously unselected package glib-networking-common.\\r\\nPreparing to unpack .../59-glib-networking-common_2.58.0-2+deb10u2_all.deb ...\\r\\nUnpacking glib-networking-common (2.58.0-2+deb10u2) ...\\r\\nSelecting previously unselected package glib-networking-services.\\r\\nPreparing to unpack .../60-glib-networking-services_2.58.0-2+deb10u2_amd64.deb ...\\r\\nUnpacking glib-networking-services (2.58.0-2+deb10u2) ...\\r\\nSelecting previously unselected package gsettings-desktop-schemas.\\r\\nPreparing to unpack .../61-gsettings-desktop-schemas_3.28.1-1_all.deb ...\\r\\nUnpacking gsettings-desktop-schemas (3.28.1-1) ...\\r\\nSelecting previously unselected package glib-networking:amd64.\\r\\nPreparing to unpack .../62-glib-networking_2.58.0-2+deb10u2_amd64.deb ...\\r\\nUnpacking glib-networking:amd64 (2.58.0-2+deb10u2) ...\\r\\nSelecting previously unselected package libatk1.0-data.\\r\\nPreparing to unpack .../63-libatk1.0-data_2.30.0-2_all.deb ...\\r\\nUnpacking libatk1.0-data (2.30.0-2) ...\\r\\nSelecting previously unselected package libatk1.0-0:amd64.\\r\\nPreparing to unpack .../64-libatk1.0-0_2.30.0-2_amd64.deb ...\\r\\nUnpacking libatk1.0-0:amd64 (2.30.0-2) ...\\r\\nSelecting previously unselected package libatk-bridge2.0-0:amd64.\\r\\nPreparing to unpack .../65-libatk-bridge2.0-0_2.30.0-5_amd64.deb ...\\r\\nUnpacking libatk-bridge2.0-0:amd64 (2.30.0-5) ...\\r\\nSelecting previously unselected package libfontenc1:amd64.\\r\\nPreparing to unpack .../66-libfontenc1_1%3a1.1.3-1+b2_amd64.deb ...\\r\\nUnpacking libfontenc1:amd64 (1:1.1.3-1+b2) ...\\r\\nSelecting previously unselected package libxcb-shape0:amd64.\\r\\nPreparing to unpack .../67-libxcb-shape0_1.13.1-2_amd64.deb ...\\r\\nUnpacking libxcb-shape0:amd64 (1.13.1-2) ...\\r\\nSelecting previously unselected package libxcomposite1:amd64.\\r\\nPreparing to unpack .../68-libxcomposite1_1%3a0.4.4-2_amd64.deb ...\\r\\nUnpacking libxcomposite1:amd64 (1:0.4.4-2) ...\\r\\nSelecting previously unselected package libxft2:amd64.\\r\\nPreparing to unpack .../69-libxft2_2.3.2-2_amd64.deb ...\\r\\nUnpacking libxft2:amd64 (2.3.2-2) ...\\r\\nSelecting previously unselected package libxinerama1:amd64.\\r\\nPreparing to unpack .../70-libxinerama1_2%3a1.1.4-2_amd64.deb ...\\r\\nUnpacking libxinerama1:amd64 (2:1.1.4-2) ...\\r\\nSelecting previously unselected package libxrandr2:amd64.\\r\\nPreparing to unpack .../71-libxrandr2_2%3a1.5.1-1_amd64.deb ...\\r\\nUnpacking libxrandr2:amd64 (2:1.5.1-1) ...\\r\\nSelecting previously unselected package libxv1:amd64.\\r\\nPreparing to unpack .../72-libxv1_2%3a1.0.11-1_amd64.deb ...\\r\\nUnpacking libxv1:amd64 (2:1.0.11-1) ...\\r\\nSelecting previously unselected package libxxf86dga1:amd64.\\r\\nPreparing to unpack .../73-libxxf86dga1_2%3a1.1.4-1+b3_amd64.deb ...\\r\\nUnpacking libxxf86dga1:amd64 (2:1.1.4-1+b3) ...\\r\\nSelecting previously unselected package x11-utils.\\r\\nPreparing to unpack .../74-x11-utils_7.7+4_amd64.deb ...\\r\\nUnpacking x11-utils (7.7+4) ...\\r\\nSelecting previously unselected package libatk-wrapper-java.\\r\\nPreparing to unpack .../75-libatk-wrapper-java_0.33.3-22+deb10u1_all.deb ...\\r\\nUnpacking libatk-wrapper-java (0.33.3-22+deb10u1) ...\\r\\nSelecting previously unselected package libcairo-gobject2:amd64.\\r\\nPreparing to unpack .../76-libcairo-gobject2_1.16.0-4+deb10u1_amd64.deb ...\\r\\nUnpacking libcairo-gobject2:amd64 (1.16.0-4+deb10u1) ...\\r\\nSelecting previously unselected package libcolord2:amd64.\\r\\nPreparing to unpack .../77-libcolord2_1.4.3-4_amd64.deb ...\\r\\nUnpacking libcolord2:amd64 (1.4.3-4) ...\\r\\nSelecting previously unselected package libepoxy0:amd64.\\r\\nPreparing to unpack .../78-libepoxy0_1.5.3-0.1_amd64.deb ...\\r\\nUnpacking libepoxy0:amd64 (1.5.3-0.1) ...\\r\\nSelecting previously unselected package libjson-glib-1.0-common.\\r\\nPreparing to unpack .../79-libjson-glib-1.0-common_1.4.4-2_all.deb ...\\r\\nUnpacking libjson-glib-1.0-common (1.4.4-2) ...\\r\\nSelecting previously unselected package libjson-glib-1.0-0:amd64.\\r\\nPreparing to unpack .../80-libjson-glib-1.0-0_1.4.4-2_amd64.deb ...\\r\\nUnpacking libjson-glib-1.0-0:amd64 (1.4.4-2) ...\\r\\nSelecting previously unselected package libsoup2.4-1:amd64.\\r\\nPreparing to unpack .../81-libsoup2.4-1_2.64.2-2_amd64.deb ...\\r\\nUnpacking libsoup2.4-1:amd64 (2.64.2-2) ...\\r\\nSelecting previously unselected package libsoup-gnome2.4-1:amd64.\\r\\nPreparing to unpack .../82-libsoup-gnome2.4-1_2.64.2-2_amd64.deb ...\\r\\nUnpacking libsoup-gnome2.4-1:amd64 (2.64.2-2) ...\\r\\nSelecting previously unselected package librest-0.7-0:amd64.\\r\\nPreparing to unpack .../83-librest-0.7-0_0.8.1-1_amd64.deb ...\\r\\nUnpacking librest-0.7-0:amd64 (0.8.1-1) ...\\r\\nSelecting previously unselected package libwayland-client0:amd64.\\r\\nPreparing to unpack .../84-libwayland-client0_1.16.0-1_amd64.deb ...\\r\\nUnpacking libwayland-client0:amd64 (1.16.0-1) ...\\r\\nSelecting previously unselected package libwayland-cursor0:amd64.\\r\\nPreparing to unpack .../85-libwayland-cursor0_1.16.0-1_amd64.deb ...\\r\\nUnpacking libwayland-cursor0:amd64 (1.16.0-1) ...\\r\\nSelecting previously unselected package libwayland-egl1:amd64.\\r\\nPreparing to unpack .../86-libwayland-egl1_1.16.0-1_amd64.deb ...\\r\\nUnpacking libwayland-egl1:amd64 (1.16.0-1) ...\\r\\nSelecting previously unselected package libxcursor1:amd64.\\r\\nPreparing to unpack .../87-libxcursor1_1%3a1.1.15-2_amd64.deb ...\\r\\nUnpacking libxcursor1:amd64 (1:1.1.15-2) ...\\r\\nSelecting previously unselected package xkb-data.\\r\\nPreparing to unpack .../88-xkb-data_2.26-2_all.deb ...\\r\\nUnpacking xkb-data (2.26-2) ...\\r\\nSelecting previously unselected package libxkbcommon0:amd64.\\r\\nPreparing to unpack .../89-libxkbcommon0_0.8.2-1_amd64.deb ...\\r\\nUnpacking libxkbcommon0:amd64 (0.8.2-1) ...\\r\\nSelecting previously unselected package libgtk-3-common.\\r\\nPreparing to unpack .../90-libgtk-3-common_3.24.5-1_all.deb ...\\r\\nUnpacking libgtk-3-common (3.24.5-1) ...\\r\\nSelecting previously unselected package libgtk-3-0:amd64.\\r\\nPreparing to unpack .../91-libgtk-3-0_3.24.5-1_amd64.deb ...\\r\\nUnpacking libgtk-3-0:amd64 (3.24.5-1) ...\\r\\nSelecting previously unselected package libgtk2.0-common.\\r\\nPreparing to unpack .../92-libgtk2.0-common_2.24.32-3_all.deb ...\\r\\nUnpacking libgtk2.0-common (2.24.32-3) ...\\r\\nSelecting previously unselected package libgtk2.0-0:amd64.\\r\\nPreparing to unpack .../93-libgtk2.0-0_2.24.32-3_amd64.deb ...\\r\\nUnpacking libgtk2.0-0:amd64 (2.24.32-3) ...\\r\\nSelecting previously unselected package libatk-wrapper-java-jni:amd64.\\r\\nPreparing to unpack .../94-libatk-wrapper-java-jni_0.33.3-22+deb10u1_amd64.deb ...\\r\\nUnpacking libatk-wrapper-java-jni:amd64 (0.33.3-22+deb10u1) ...\\r\\nSelecting previously unselected package libgail18:amd64.\\r\\nPreparing to unpack .../95-libgail18_2.24.32-3_amd64.deb ...\\r\\nUnpacking libgail18:amd64 (2.24.32-3) ...\\r\\nSelecting previously unselected package libgail-common:amd64.\\r\\nPreparing to unpack .../96-libgail-common_2.24.32-3_amd64.deb ...\\r\\nUnpacking libgail-common:amd64 (2.24.32-3) ...\\r\\nSelecting previously unselected package libgdk-pixbuf2.0-bin.\\r\\nPreparing to unpack .../97-libgdk-pixbuf2.0-bin_2.38.1+dfsg-1_amd64.deb ...\\r\\nUnpacking libgdk-pixbuf2.0-bin (2.38.1+dfsg-1) ...\\r\\nSelecting previously unselected package libgtk-3-bin.\\r\\nPreparing to unpack .../98-libgtk-3-bin_3.24.5-1_amd64.deb ...\\r\\nUnpacking libgtk-3-bin (3.24.5-1) ...\\r\\nSelecting previously unselected package libgtk2.0-bin.\\r\\nPreparing to unpack .../99-libgtk2.0-bin_2.24.32-3_amd64.deb ...\\r\\nUnpacking libgtk2.0-bin (2.24.32-3) ...\\r\\nSetting up libxcb-dri3-0:amd64 (1.13.1-2) ...\\r\\nSetting up libx11-xcb1:amd64 (2:1.6.7-1+deb10u2) ...\\r\\nSetting up libpciaccess0:amd64 (0.14-1) ...\\r\\nSetting up systemd-sysv (241-7~deb10u8) ...\\r\\nSetting up libxft2:amd64 (2.3.2-2) ...\\r\\nSetting up libproxy1v5:amd64 (0.4.15-5+deb10u1) ...\\r\\nSetting up libxi6:amd64 (2:1.7.9-1) ...\\r\\nSetting up java-common (0.71) ...\\r\\nSetting up libglvnd0:amd64 (1.1.0-1) ...\\r\\nSetting up libxtst6:amd64 (2:1.2.3-1) ...\\r\\nSetting up libxcb-glx0:amd64 (1.13.1-2) ...\\r\\nSetting up libgdk-pixbuf2.0-common (2.38.1+dfsg-1) ...\\r\\nSetting up libxcb-shape0:amd64 (1.13.1-2) ...\\r\\nSetting up libsensors-config (1:3.5.0-3) ...\\r\\nSetting up libxxf86dga1:amd64 (2:1.1.4-1+b3) ...\\r\\nSetting up libnss-systemd:amd64 (241-7~deb10u8) ...\\r\\nFirst installation detected...\\r\\nChecking NSS setup...\\r\\nSetting up xkb-data (2.26-2) ...\\r\\nSetting up libatspi2.0-0:amd64 (2.30.0-7) ...\\r\\nSetting up libcolord2:amd64 (1.4.3-4) ...\\r\\nSetting up libxxf86vm1:amd64 (1:1.1.4-1+b2) ...\\r\\nSetting up libxcb-present0:amd64 (1.13.1-2) ...\\r\\nSetting up libdconf1:amd64 (0.30.1-2) ...\\r\\nSetting up libasound2-data (1.1.8-1) ...\\r\\nSetting up libfontenc1:amd64 (1:1.1.3-1+b2) ...\\r\\nSetting up libepoxy0:amd64 (1.5.3-0.1) ...\\r\\nSetting up libnspr4:amd64 (2:4.20-1) ...\\r\\nSetting up libxfixes3:amd64 (1:5.0.3-1) ...\\r\\nSetting up libxcb-sync1:amd64 (1.13.1-2) ...\\r\\nSetting up libgdk-pixbuf2.0-0:amd64 (2.38.1+dfsg-1) ...\\r\\nSetting up libxinerama1:amd64 (2:1.1.4-2) ...\\r\\nSetting up libxv1:amd64 (2:1.0.11-1) ...\\r\\nSetting up libxrandr2:amd64 (2:1.5.1-1) ...\\r\\nSetting up libcroco3:amd64 (0.6.12-3) ...\\r\\nSetting up libpcsclite1:amd64 (1.8.24-1) ...\\r\\nSetting up libsensors5:amd64 (1:3.5.0-3) ...\\r\\nSetting up libglapi-mesa:amd64 (18.3.6-2+deb10u1) ...\\r\\nSetting up libxcb-dri2-0:amd64 (1.13.1-2) ...\\r\\nSetting up libgif7:amd64 (5.1.4-3+deb10u1) ...\\r\\nSetting up libatk1.0-data (2.30.0-2) ...\\r\\nSetting up fonts-dejavu-extra (2.37-1) ...\\r\\nSetting up at-spi2-core (2.30.0-7) ...\\r\\nSetting up libxshmfence1:amd64 (1.3-1) ...\\r\\nSetting up libgdk-pixbuf2.0-bin (2.38.1+dfsg-1) ...\\r\\nSetting up libasound2:amd64 (1.1.8-1) ...\\r\\nSetting up libpam-systemd:amd64 (241-7~deb10u8) ...\\r\\ndebconf: unable to initialize frontend: Dialog\\r\\ndebconf: (No usable dialog-like program is installed, so the dialog based frontend cannot be used. at /usr/share/perl5/Debconf/FrontEnd/Dialog.pm line 76.)\\r\\ndebconf: falling back to frontend: Readline\\r\\nSetting up libllvm7:amd64 (1:7.0.1-8+deb10u2) ...\\r\\nSetting up libjson-glib-1.0-common (1.4.4-2) ...\\r\\nSetting up libcairo-gobject2:amd64 (1.16.0-4+deb10u1) ...\\r\\nSetting up libgtk2.0-common (2.24.32-3) ...\\r\\nSetting up libatk1.0-0:amd64 (2.30.0-2) ...\\r\\nSetting up libwayland-egl1:amd64 (1.16.0-1) ...\\r\\nSetting up glib-networking-common (2.58.0-2+deb10u2) ...\\r\\nSetting up libdrm-common (2.4.97-1) ...\\r\\nSetting up libelf1:amd64 (0.176-1.1) ...\\r\\nSetting up libxcomposite1:amd64 (1:0.4.4-2) ...\\r\\nSetting up libxkbcommon0:amd64 (0.8.2-1) ...\\r\\nSetting up libwayland-client0:amd64 (1.16.0-1) ...\\r\\nSetting up glib-networking-services (2.58.0-2+deb10u2) ...\\r\\nSetting up gtk-update-icon-cache (3.24.5-1) ...\\r\\nSetting up libxdamage1:amd64 (1:1.1.4-3+b3) ...\\r\\nSetting up libxcursor1:amd64 (1:1.1.15-2) ...\\r\\nSetting up libnss3:amd64 (2:3.42.1-1+deb10u5) ...\\r\\nSetting up libjson-glib-1.0-0:amd64 (1.4.4-2) ...\\r\\nSetting up librsvg2-2:amd64 (2.44.10-2.1+deb10u3) ...\\r\\nSetting up libatk-bridge2.0-0:amd64 (2.30.0-5) ...\\r\\nSetting up dbus-user-session (1.12.24-0+deb10u1) ...\\r\\nSetting up librsvg2-common:amd64 (2.44.10-2.1+deb10u3) ...\\r\\nSetting up libdrm2:amd64 (2.4.97-1) ...\\r\\nSetting up libwayland-cursor0:amd64 (1.16.0-1) ...\\r\\nSetting up libdrm-amdgpu1:amd64 (2.4.97-1) ...\\r\\nSetting up libdrm-nouveau2:amd64 (2.4.97-1) ...\\r\\nSetting up libdrm-radeon1:amd64 (2.4.97-1) ...\\r\\nSetting up libdrm-intel1:amd64 (2.4.97-1) ...\\r\\nSetting up libgl1-mesa-dri:amd64 (18.3.6-2+deb10u1) ...\\r\\nSetting up dconf-service (0.30.1-2) ...\\r\\nSetting up adwaita-icon-theme (3.30.1-1) ...\\r\\nupdate-alternatives: using /usr/share/icons/Adwaita/cursor.theme to provide /usr/share/icons/default/index.theme (x-cursor-theme) in auto mode\\r\\nSetting up libglx-mesa0:amd64 (18.3.6-2+deb10u1) ...\\r\\nSetting up libglx0:amd64 (1.1.0-1) ...\\r\\nSetting up dconf-gsettings-backend:amd64 (0.30.1-2) ...\\r\\nSetting up libgtk2.0-0:amd64 (2.24.32-3) ...\\r\\nSetting up libgl1:amd64 (1.1.0-1) ...\\r\\nSetting up libgail18:amd64 (2.24.32-3) ...\\r\\nSetting up libgtk2.0-bin (2.24.32-3) ...\\r\\nSetting up x11-utils (7.7+4) ...\\r\\nSetting up libatk-wrapper-java (0.33.3-22+deb10u1) ...\\r\\nSetting up libgtk-3-common (3.24.5-1) ...\\r\\nSetting up gsettings-desktop-schemas (3.28.1-1) ...\\r\\nSetting up libgail-common:amd64 (2.24.32-3) ...\\r\\nSetting up default-jre-headless (2:1.11-71) ...\\r\\nSetting up openjdk-11-jre-headless:amd64 (11.0.16+8-1~deb10u1) ...\\r\\nupdate-alternatives: using /usr/lib/jvm/java-11-openjdk-amd64/bin/java to provide /usr/bin/java (java) in auto mode\\r\\nupdate-alternatives: using /usr/lib/jvm/java-11-openjdk-amd64/bin/jjs to provide /usr/bin/jjs (jjs) in auto mode\\r\\nupdate-alternatives: using /usr/lib/jvm/java-11-openjdk-amd64/bin/keytool to provide /usr/bin/keytool (keytool) in auto mode\\r\\nupdate-alternatives: using /usr/lib/jvm/java-11-openjdk-amd64/bin/rmid to provide /usr/bin/rmid (rmid) in auto mode\\r\\nupdate-alternatives: using /usr/lib/jvm/java-11-openjdk-amd64/bin/rmiregistry to provide /usr/bin/rmiregistry (rmiregistry) in auto mode\\r\\nupdate-alternatives: using /usr/lib/jvm/java-11-openjdk-amd64/bin/pack200 to provide /usr/bin/pack200 (pack200) in auto mode\\r\\nupdate-alternatives: using /usr/lib/jvm/java-11-openjdk-amd64/bin/unpack200 to provide /usr/bin/unpack200 (unpack200) in auto mode\\r\\nupdate-alternatives: using /usr/lib/jvm/java-11-openjdk-amd64/lib/jexec to provide /usr/bin/jexec (jexec) in auto mode\\r\\nSetting up openjdk-11-jre:amd64 (11.0.16+8-1~deb10u1) ...\\r\\nSetting up default-jre (2:1.11-71) ...\\r\\nSetting up ca-certificates-java (20190405) ...\\r\\nhead: cannot open '/etc/ssl/certs/java/cacerts' for reading: No such file or directory\\r\\nAdding debian:ACCVRAIZ1.pem\\r\\nAdding debian:AC_RAIZ_FNMT-RCM.pem\\r\\nAdding debian:Actalis_Authentication_Root_CA.pem\\r\\nAdding debian:AffirmTrust_Commercial.pem\\r\\nAdding debian:AffirmTrust_Networking.pem\\r\\nAdding debian:AffirmTrust_Premium.pem\\r\\nAdding debian:AffirmTrust_Premium_ECC.pem\\r\\nAdding debian:Amazon_Root_CA_1.pem\\r\\nAdding debian:Amazon_Root_CA_2.pem\\r\\nAdding debian:Amazon_Root_CA_3.pem\\r\\nAdding debian:Amazon_Root_CA_4.pem\\r\\nAdding debian:Atos_TrustedRoot_2011.pem\\r\\nAdding debian:Autoridad_de_Certificacion_Firmaprofesional_CIF_A62634068.pem\\r\\nAdding debian:Baltimore_CyberTrust_Root.pem\\r\\nAdding debian:Buypass_Class_2_Root_CA.pem\\r\\nAdding debian:Buypass_Class_3_Root_CA.pem\\r\\nAdding debian:CA_Disig_Root_R2.pem\\r\\nAdding debian:CFCA_EV_ROOT.pem\\r\\nAdding debian:COMODO_Certification_Authority.pem\\r\\nAdding debian:COMODO_ECC_Certification_Authority.pem\\r\\nAdding debian:COMODO_RSA_Certification_Authority.pem\\r\\nAdding debian:Certigna.pem\\r\\nAdding debian:Certigna_Root_CA.pem\\r\\nAdding debian:Certum_Trusted_Network_CA.pem\\r\\nAdding debian:Certum_Trusted_Network_CA_2.pem\\r\\nAdding debian:Chambers_of_Commerce_Root_-_2008.pem\\r\\nAdding debian:Comodo_AAA_Services_root.pem\\r\\nAdding debian:Cybertrust_Global_Root.pem\\r\\nAdding debian:D-TRUST_Root_Class_3_CA_2_2009.pem\\r\\nAdding debian:D-TRUST_Root_Class_3_CA_2_EV_2009.pem\\r\\nAdding debian:DST_Root_CA_X3.pem\\r\\nAdding debian:DigiCert_Assured_ID_Root_CA.pem\\r\\nAdding debian:DigiCert_Assured_ID_Root_G2.pem\\r\\nAdding debian:DigiCert_Assured_ID_Root_G3.pem\\r\\nAdding debian:DigiCert_Global_Root_CA.pem\\r\\nAdding debian:DigiCert_Global_Root_G2.pem\\r\\nAdding debian:DigiCert_Global_Root_G3.pem\\r\\nAdding debian:DigiCert_High_Assurance_EV_Root_CA.pem\\r\\nAdding debian:DigiCert_Trusted_Root_G4.pem\\r\\nAdding debian:E-Tugra_Certification_Authority.pem\\r\\nAdding debian:EC-ACC.pem\\r\\nAdding debian:EE_Certification_Centre_Root_CA.pem\\r\\nAdding debian:Entrust.net_Premium_2048_Secure_Server_CA.pem\\r\\nAdding debian:Entrust_Root_Certification_Authority.pem\\r\\nAdding debian:Entrust_Root_Certification_Authority_-_EC1.pem\\r\\nAdding debian:Entrust_Root_Certification_Authority_-_G2.pem\\r\\nAdding debian:GDCA_TrustAUTH_R5_ROOT.pem\\r\\nAdding debian:Entrust_Root_Certification_Authority_-_G4.pem\\r\\nAdding debian:GTS_Root_R1.pem\\r\\nAdding debian:GTS_Root_R2.pem\\r\\nAdding debian:GTS_Root_R3.pem\\r\\nAdding debian:GTS_Root_R4.pem\\r\\nAdding debian:GeoTrust_Universal_CA_2.pem\\r\\nAdding debian:GlobalSign_ECC_Root_CA_-_R4.pem\\r\\nAdding debian:GlobalSign_ECC_Root_CA_-_R5.pem\\r\\nAdding debian:GlobalSign_Root_CA.pem\\r\\nAdding debian:GlobalSign_Root_CA_-_R2.pem\\r\\nAdding debian:GlobalSign_Root_CA_-_R3.pem\\r\\nAdding debian:GlobalSign_Root_CA_-_R6.pem\\r\\nAdding debian:Global_Chambersign_Root_-_2008.pem\\r\\nAdding debian:Go_Daddy_Class_2_CA.pem\\r\\nAdding debian:Go_Daddy_Root_Certificate_Authority_-_G2.pem\\r\\nAdding debian:Hellenic_Academic_and_Research_Institutions_ECC_RootCA_2015.pem\\r\\nAdding debian:Hellenic_Academic_and_Research_Institutions_RootCA_2011.pem\\r\\nAdding debian:Hellenic_Academic_and_Research_Institutions_RootCA_2015.pem\\r\\nAdding debian:Hongkong_Post_Root_CA_1.pem\\r\\nAdding debian:Hongkong_Post_Root_CA_3.pem\\r\\nAdding debian:ISRG_Root_X1.pem\\r\\nAdding debian:IdenTrust_Commercial_Root_CA_1.pem\\r\\nAdding debian:IdenTrust_Public_Sector_Root_CA_1.pem\\r\\nAdding debian:Izenpe.com.pem\\r\\nAdding debian:LuxTrust_Global_Root_2.pem\\r\\nAdding debian:Microsec_e-Szigno_Root_CA_2009.pem\\r\\nAdding debian:NetLock_Arany_=Class_Gold=_F\\xc5\\x91tan\\xc3\\xbas\\xc3\\xadtv\\xc3\\xa1ny.pem\\r\\nAdding debian:Network_Solutions_Certificate_Authority.pem\\r\\nAdding debian:OISTE_WISeKey_Global_Root_GA_CA.pem\\r\\nAdding debian:OISTE_WISeKey_Global_Root_GB_CA.pem\\r\\nAdding debian:OISTE_WISeKey_Global_Root_GC_CA.pem\\r\\nAdding debian:QuoVadis_Root_CA.pem\\r\\nAdding debian:QuoVadis_Root_CA_1_G3.pem\\r\\nAdding debian:QuoVadis_Root_CA_2.pem\\r\\nAdding debian:QuoVadis_Root_CA_2_G3.pem\\r\\nAdding debian:QuoVadis_Root_CA_3.pem\\r\\nAdding debian:QuoVadis_Root_CA_3_G3.pem\\r\\nAdding debian:SSL.com_EV_Root_Certification_Authority_ECC.pem\\r\\nAdding debian:SSL.com_EV_Root_Certification_Authority_RSA_R2.pem\\r\\nAdding debian:SSL.com_Root_Certification_Authority_ECC.pem\\r\\nAdding debian:SSL.com_Root_Certification_Authority_RSA.pem\\r\\nAdding debian:SZAFIR_ROOT_CA2.pem\\r\\nAdding debian:SecureSign_RootCA11.pem\\r\\nAdding debian:SecureTrust_CA.pem\\r\\nAdding debian:Secure_Global_CA.pem\\r\\nAdding debian:Security_Communication_RootCA2.pem\\r\\nAdding debian:Security_Communication_Root_CA.pem\\r\\nAdding debian:Sonera_Class_2_Root_CA.pem\\r\\nAdding debian:Staat_der_Nederlanden_EV_Root_CA.pem\\r\\nAdding debian:Staat_der_Nederlanden_Root_CA_-_G2.pem\\r\\nAdding debian:Staat_der_Nederlanden_Root_CA_-_G3.pem\\r\\nAdding debian:Starfield_Class_2_CA.pem\\r\\nAdding debian:Starfield_Root_Certificate_Authority_-_G2.pem\\r\\nAdding debian:Starfield_Services_Root_Certificate_Authority_-_G2.pem\\r\\nAdding debian:SwissSign_Gold_CA_-_G2.pem\\r\\nAdding debian:SwissSign_Silver_CA_-_G2.pem\\r\\nAdding debian:T-TeleSec_GlobalRoot_Class_2.pem\\r\\nAdding debian:T-TeleSec_GlobalRoot_Class_3.pem\\r\\nAdding debian:TUBITAK_Kamu_SM_SSL_Kok_Sertifikasi_-_Surum_1.pem\\r\\nAdding debian:TWCA_Global_Root_CA.pem\\r\\nAdding debian:TWCA_Root_Certification_Authority.pem\\r\\nAdding debian:Taiwan_GRCA.pem\\r\\nAdding debian:TeliaSonera_Root_CA_v1.pem\\r\\nAdding debian:TrustCor_ECA-1.pem\\r\\nAdding debian:TrustCor_RootCert_CA-1.pem\\r\\nAdding debian:TrustCor_RootCert_CA-2.pem\\r\\nAdding debian:Trustis_FPS_Root_CA.pem\\r\\nAdding debian:UCA_Extended_Validation_Root.pem\\r\\nAdding debian:UCA_Global_G2_Root.pem\\r\\nAdding debian:USERTrust_ECC_Certification_Authority.pem\\r\\nAdding debian:USERTrust_RSA_Certification_Authority.pem\\r\\nAdding debian:Verisign_Class_3_Public_Primary_Certification_Authority_-_G3.pem\\r\\nAdding debian:XRamp_Global_CA_Root.pem\\r\\nAdding debian:certSIGN_ROOT_CA.pem\\r\\nAdding debian:ePKI_Root_Certification_Authority.pem\\r\\nAdding debian:emSign_ECC_Root_CA_-_C3.pem\\r\\nAdding debian:emSign_ECC_Root_CA_-_G3.pem\\r\\nAdding debian:emSign_Root_CA_-_C1.pem\\r\\nAdding debian:emSign_Root_CA_-_G1.pem\\r\\ndone.\\r\\nProcessing triggers for fontconfig (2.13.1-2) ...\\r\\nProcessing triggers for mime-support (3.62) ...\\r\\nProcessing triggers for hicolor-icon-theme (0.17-2) ...\\r\\nProcessing triggers for libglib2.0-0:amd64 (2.58.3-2+deb10u2) ...\\r\\nProcessing triggers for libc-bin (2.28-10) ...\\r\\nProcessing triggers for ca-certificates (20200601~deb10u1) ...\\r\\nUpdating certificates in /etc/ssl/certs...\\r\\n0 added, 0 removed; done.\\r\\nRunning hooks in /etc/ca-certificates/update.d...\\r\\n\\r\\ndone.\\r\\ndone.\\r\\nProcessing triggers for dbus (1.12.24-0+deb10u1) ...\\r\\nSetting up glib-networking:amd64 (2.58.0-2+deb10u2) ...\\r\\nSetting up libsoup2.4-1:amd64 (2.64.2-2) ...\\r\\nSetting up libsoup-gnome2.4-1:amd64 (2.64.2-2) ...\\r\\nSetting up librest-0.7-0:amd64 (0.8.1-1) ...\\r\\nSetting up libgtk-3-0:amd64 (3.24.5-1) ...\\r\\nSetting up libgtk-3-bin (3.24.5-1) ...\\r\\nSetting up libatk-wrapper-java-jni:amd64 (0.33.3-22+deb10u1) ...\\r\\nProcessing triggers for libgdk-pixbuf2.0-0:amd64 (2.38.1+dfsg-1) ...\\r\\nProcessing triggers for libc-bin (2.28-10) ...\\r\\nReading package lists...\\nBuilding dependency tree...\\nReading state information...\\nThe following additional packages will be installed:\\n  libmpdec2 libpython3-stdlib libpython3.7-minimal libpython3.7-stdlib\\n  python3-minimal python3.7 python3.7-minimal\\nSuggested packages:\\n  python3-doc python3-tk python3-venv python3.7-venv python3.7-doc binutils\\n  binfmt-support\\nThe following NEW packages will be installed:\\n  libmpdec2 libpython3-stdlib libpython3.7-minimal libpython3.7-stdlib python3\\n  python3-minimal python3.7 python3.7-minimal\\n0 upgraded, 8 newly installed, 0 to remove and 54 not upgraded.\\nNeed to get 4593 kB of archives.\\nAfter this operation, 23.2 MB of additional disk space will be used.\\nGet:1 http://deb.debian.org/debian buster/main amd64 python3-minimal amd64 3.7.3-1 [36.6 kB]\\nGet:2 http://security.debian.org/debian-security buster/updates/main amd64 libpython3.7-minimal amd64 3.7.3-2+deb10u4 [589 kB]\\nGet:3 http://deb.debian.org/debian buster/main amd64 libmpdec2 amd64 2.4.2-2 [87.2 kB]\\nGet:4 http://deb.debian.org/debian buster/main amd64 libpython3-stdlib amd64 3.7.3-1 [20.0 kB]\\nGet:5 http://deb.debian.org/debian buster/main amd64 python3 amd64 3.7.3-1 [61.5 kB]\\nGet:6 http://security.debian.org/debian-security buster/updates/main amd64 python3.7-minimal amd64 3.7.3-2+deb10u4 [1736 kB]\\nGet:7 http://security.debian.org/debian-security buster/updates/main amd64 libpython3.7-stdlib amd64 3.7.3-2+deb10u4 [1733 kB]\\nGet:8 http://security.debian.org/debian-security buster/updates/main amd64 python3.7 amd64 3.7.3-2+deb10u4 [330 kB]\\nFetched 4593 kB in 0s (39.6 MB/s)\\nSelecting previously unselected package libpython3.7-minimal:amd64.\\r\\n(Reading database ... \\r(Reading database ... 5%\\r(Reading database ... 10%\\r(Reading database ... 15%\\r(Reading database ... 20%\\r(Reading database ... 25%\\r(Reading database ... 30%\\r(Reading database ... 35%\\r(Reading database ... 40%\\r(Reading database ... 45%\\r(Reading database ... 50%\\r(Reading database ... 55%\\r(Reading database ... 60%\\r(Reading database ... 65%\\r(Reading database ... 70%\\r(Reading database ... 75%\\r(Reading database ... 80%\\r(Reading database ... 85%\\r(Reading database ... 90%\\r(Reading database ... 95%\\r(Reading database ... 100%\\r(Reading database ... 30137 files and directories currently installed.)\\r\\nPreparing to unpack .../libpython3.7-minimal_3.7.3-2+deb10u4_amd64.deb ...\\r\\nUnpacking libpython3.7-minimal:amd64 (3.7.3-2+deb10u4) ...\\r\\nSelecting previously unselected package python3.7-minimal.\\r\\nPreparing to unpack .../python3.7-minimal_3.7.3-2+deb10u4_amd64.deb ...\\r\\nUnpacking python3.7-minimal (3.7.3-2+deb10u4) ...\\r\\nSetting up libpython3.7-minimal:amd64 (3.7.3-2+deb10u4) ...\\r\\nSetting up python3.7-minimal (3.7.3-2+deb10u4) ...\\r\\nSelecting previously unselected package python3-minimal.\\r\\n(Reading database ... \\r(Reading database ... 5%\\r(Reading database ... 10%\\r(Reading database ... 15%\\r(Reading database ... 20%\\r(Reading database ... 25%\\r(Reading database ... 30%\\r(Reading database ... 35%\\r(Reading database ... 40%\\r(Reading database ... 45%\\r(Reading database ... 50%\\r(Reading database ... 55%\\r(Reading database ... 60%\\r(Reading database ... 65%\\r(Reading database ... 70%\\r(Reading database ... 75%\\r(Reading database ... 80%\\r(Reading database ... 85%\\r(Reading database ... 90%\\r(Reading database ... 95%\\r(Reading database ... 100%\\r(Reading database ... 30377 files and directories currently installed.)\\r\\nPreparing to unpack .../python3-minimal_3.7.3-1_amd64.deb ...\\r\\nUnpacking python3-minimal (3.7.3-1) ...\\r\\nSelecting previously unselected package libmpdec2:amd64.\\r\\nPreparing to unpack .../libmpdec2_2.4.2-2_amd64.deb ...\\r\\nUnpacking libmpdec2:amd64 (2.4.2-2) ...\\r\\nSelecting previously unselected package libpython3.7-stdlib:amd64.\\r\\nPreparing to unpack .../libpython3.7-stdlib_3.7.3-2+deb10u4_amd64.deb ...\\r\\nUnpacking libpython3.7-stdlib:amd64 (3.7.3-2+deb10u4) ...\\r\\nSelecting previously unselected package python3.7.\\r\\nPreparing to unpack .../python3.7_3.7.3-2+deb10u4_amd64.deb ...\\r\\nUnpacking python3.7 (3.7.3-2+deb10u4) ...\\r\\nSelecting previously unselected package libpython3-stdlib:amd64.\\r\\nPreparing to unpack .../libpython3-stdlib_3.7.3-1_amd64.deb ...\\r\\nUnpacking libpython3-stdlib:amd64 (3.7.3-1) ...\\r\\nSetting up python3-minimal (3.7.3-1) ...\\r\\nSelecting previously unselected package python3.\\r\\n(Reading database ... \\r(Reading database ... 5%\\r(Reading database ... 10%\\r(Reading database ... 15%\\r(Reading database ... 20%\\r(Reading database ... 25%\\r(Reading database ... 30%\\r(Reading database ... 35%\\r(Reading database ... 40%\\r(Reading database ... 45%\\r(Reading database ... 50%\\r(Reading database ... 55%\\r(Reading database ... 60%\\r(Reading database ... 65%\\r(Reading database ... 70%\\r(Reading database ... 75%\\r(Reading database ... 80%\\r(Reading database ... 85%\\r(Reading database ... 90%\\r(Reading database ... 95%\\r(Reading database ... 100%\\r(Reading database ... 30789 files and directories currently installed.)\\r\\nPreparing to unpack .../python3_3.7.3-1_amd64.deb ...\\r\\nUnpacking python3 (3.7.3-1) ...\\r\\nSetting up libmpdec2:amd64 (2.4.2-2) ...\\r\\nSetting up libpython3.7-stdlib:amd64 (3.7.3-2+deb10u4) ...\\r\\nSetting up libpython3-stdlib:amd64 (3.7.3-1) ...\\r\\nSetting up python3.7 (3.7.3-2+deb10u4) ...\\r\\nSetting up python3 (3.7.3-1) ...\\r\\nrunning python rtupdate hooks for python3.7...\\r\\nrunning python post-rtupdate hooks for python3.7...\\r\\nProcessing triggers for libc-bin (2.28-10) ...\\r\\nProcessing triggers for mime-support (3.62) ...\\r\\nReading package lists...\\nBuilding dependency tree...\\nReading state information...\\nThe following additional packages will be installed:\\n  binutils binutils-common binutils-x86-64-linux-gnu build-essential cpp cpp-8\\n  dh-python dirmngr dpkg-dev fakeroot g++ g++-8 gcc gcc-8 gir1.2-glib-2.0\\n  gnupg gnupg-l10n gnupg-utils gpg gpg-agent gpg-wks-client gpg-wks-server\\n  gpgconf gpgsm gpgv libalgorithm-diff-perl libalgorithm-diff-xs-perl\\n  libalgorithm-merge-perl libasan5 libassuan0 libatomic1 libbinutils libcc1-0\\n  libdpkg-perl libexpat1 libexpat1-dev libfakeroot libfile-fcntllock-perl\\n  libgcc-8-dev libgirepository-1.0-1 libisl19 libitm1 libksba8\\n  liblocale-gettext-perl liblsan0 libmpc3 libmpfr6 libmpx2 libnpth0\\n  libpython3-dev libpython3.7 libpython3.7-dev libquadmath0 libstdc++-8-dev\\n  libtsan0 libubsan1 make pinentry-curses python-pip-whl python3-asn1crypto\\n  python3-cffi-backend python3-crypto python3-cryptography python3-dbus\\n  python3-dev python3-distutils python3-entrypoints python3-gi python3-keyring\\n  python3-keyrings.alt python3-lib2to3 python3-pkg-resources\\n  python3-secretstorage python3-setuptools python3-six python3-wheel\\n  python3-xdg python3.7-dev\\nSuggested packages:\\n  binutils-doc cpp-doc gcc-8-locales pinentry-gnome3 tor debian-keyring\\n  g++-multilib g++-8-multilib gcc-8-doc libstdc++6-8-dbg gcc-multilib autoconf\\n  automake libtool flex bison gdb gcc-doc gcc-8-multilib libgcc1-dbg\\n  libgomp1-dbg libitm1-dbg libatomic1-dbg libasan5-dbg liblsan0-dbg\\n  libtsan0-dbg libubsan1-dbg libmpx2-dbg libquadmath0-dbg parcimonie\\n  xloadimage scdaemon bzr libstdc++-8-doc make-doc pinentry-doc\\n  python-crypto-doc python-cryptography-doc python3-cryptography-vectors\\n  python-dbus-doc python3-dbus-dbg gnome-keyring libkf5wallet-bin\\n  gir1.2-gnomekeyring-1.0 python-secretstorage-doc python-setuptools-doc\\nThe following NEW packages will be installed:\\n  binutils binutils-common binutils-x86-64-linux-gnu build-essential cpp cpp-8\\n  dh-python dirmngr dpkg-dev fakeroot g++ g++-8 gcc gcc-8 gir1.2-glib-2.0\\n  gnupg gnupg-l10n gnupg-utils gpg gpg-agent gpg-wks-client gpg-wks-server\\n  gpgconf gpgsm libalgorithm-diff-perl libalgorithm-diff-xs-perl\\n  libalgorithm-merge-perl libasan5 libassuan0 libatomic1 libbinutils libcc1-0\\n  libdpkg-perl libexpat1-dev libfakeroot libfile-fcntllock-perl libgcc-8-dev\\n  libgirepository-1.0-1 libisl19 libitm1 libksba8 liblocale-gettext-perl\\n  liblsan0 libmpc3 libmpfr6 libmpx2 libnpth0 libpython3-dev libpython3.7\\n  libpython3.7-dev libquadmath0 libstdc++-8-dev libtsan0 libubsan1 make\\n  pinentry-curses python-pip-whl python3-asn1crypto python3-cffi-backend\\n  python3-crypto python3-cryptography python3-dbus python3-dev\\n  python3-distutils python3-entrypoints python3-gi python3-keyring\\n  python3-keyrings.alt python3-lib2to3 python3-pip python3-pkg-resources\\n  python3-secretstorage python3-setuptools python3-six python3-wheel\\n  python3-xdg python3.7-dev\\nThe following packages will be upgraded:\\n  gpgv libexpat1\\n2 upgraded, 77 newly installed, 0 to remove and 52 not upgraded.\\nNeed to get 105 MB of archives.\\nAfter this operation, 275 MB of additional disk space will be used.\\nGet:1 http://security.debian.org/debian-security buster/updates/main amd64 libksba8 amd64 1.3.5-2+deb10u1 [102 kB]\\nGet:2 http://deb.debian.org/debian buster/main amd64 liblocale-gettext-perl amd64 1.07-3+b4 [18.9 kB]\\nGet:3 http://deb.debian.org/debian buster/main amd64 gpgv amd64 2.2.12-1+deb10u2 [584 kB]\\nGet:4 http://security.debian.org/debian-security buster/updates/main amd64 libexpat1 amd64 2.2.6-2+deb10u6 [108 kB]\\nGet:5 http://security.debian.org/debian-security buster/updates/main amd64 libexpat1-dev amd64 2.2.6-2+deb10u6 [155 kB]\\nGet:6 http://security.debian.org/debian-security buster/updates/main amd64 libpython3.7 amd64 3.7.3-2+deb10u4 [1498 kB]\\nGet:7 http://deb.debian.org/debian buster/main amd64 binutils-common amd64 2.31.1-16 [2073 kB]\\nGet:8 http://security.debian.org/debian-security buster/updates/main amd64 libpython3.7-dev amd64 3.7.3-2+deb10u4 [48.4 MB]\\nGet:9 http://deb.debian.org/debian buster/main amd64 libbinutils amd64 2.31.1-16 [478 kB]\\nGet:10 http://deb.debian.org/debian buster/main amd64 binutils-x86-64-linux-gnu amd64 2.31.1-16 [1823 kB]\\nGet:11 http://deb.debian.org/debian buster/main amd64 binutils amd64 2.31.1-16 [56.8 kB]\\nGet:12 http://deb.debian.org/debian buster/main amd64 libisl19 amd64 0.20-2 [587 kB]\\nGet:13 http://deb.debian.org/debian buster/main amd64 libmpfr6 amd64 4.0.2-1 [775 kB]\\nGet:14 http://deb.debian.org/debian buster/main amd64 libmpc3 amd64 1.1.0-1 [41.3 kB]\\nGet:15 http://deb.debian.org/debian buster/main amd64 cpp-8 amd64 8.3.0-6 [8914 kB]\\nGet:16 http://deb.debian.org/debian buster/main amd64 cpp amd64 4:8.3.0-1 [19.4 kB]\\nGet:17 http://deb.debian.org/debian buster/main amd64 libcc1-0 amd64 8.3.0-6 [46.6 kB]\\nGet:18 http://deb.debian.org/debian buster/main amd64 libitm1 amd64 8.3.0-6 [27.7 kB]\\nGet:19 http://deb.debian.org/debian buster/main amd64 libatomic1 amd64 8.3.0-6 [9032 B]\\nGet:20 http://deb.debian.org/debian buster/main amd64 libasan5 amd64 8.3.0-6 [362 kB]\\nGet:21 http://deb.debian.org/debian buster/main amd64 liblsan0 amd64 8.3.0-6 [131 kB]\\nGet:22 http://deb.debian.org/debian buster/main amd64 libtsan0 amd64 8.3.0-6 [283 kB]\\nGet:23 http://deb.debian.org/debian buster/main amd64 libubsan1 amd64 8.3.0-6 [120 kB]\\nGet:24 http://deb.debian.org/debian buster/main amd64 libmpx2 amd64 8.3.0-6 [11.4 kB]\\nGet:25 http://deb.debian.org/debian buster/main amd64 libquadmath0 amd64 8.3.0-6 [133 kB]\\nGet:26 http://deb.debian.org/debian buster/main amd64 libgcc-8-dev amd64 8.3.0-6 [2298 kB]\\nGet:27 http://deb.debian.org/debian buster/main amd64 gcc-8 amd64 8.3.0-6 [9452 kB]\\nGet:28 http://deb.debian.org/debian buster/main amd64 gcc amd64 4:8.3.0-1 [5196 B]\\nGet:29 http://deb.debian.org/debian buster/main amd64 libstdc++-8-dev amd64 8.3.0-6 [1532 kB]\\nGet:30 http://deb.debian.org/debian buster/main amd64 g++-8 amd64 8.3.0-6 [9752 kB]\\nGet:31 http://deb.debian.org/debian buster/main amd64 g++ amd64 4:8.3.0-1 [1644 B]\\nGet:32 http://deb.debian.org/debian buster/main amd64 make amd64 4.2.1-1.2 [341 kB]\\nGet:33 http://deb.debian.org/debian buster/main amd64 libdpkg-perl all 1.19.8 [1415 kB]\\nGet:34 http://deb.debian.org/debian buster/main amd64 dpkg-dev all 1.19.8 [1776 kB]\\nGet:35 http://deb.debian.org/debian buster/main amd64 build-essential amd64 12.6 [7576 B]\\nGet:36 http://deb.debian.org/debian buster/main amd64 python3-lib2to3 all 3.7.3-1 [76.7 kB]\\nGet:37 http://deb.debian.org/debian buster/main amd64 python3-distutils all 3.7.3-1 [142 kB]\\nGet:38 http://deb.debian.org/debian buster/main amd64 dh-python all 3.20190308 [99.3 kB]\\nGet:39 http://deb.debian.org/debian buster/main amd64 libassuan0 amd64 2.5.2-1 [49.4 kB]\\nGet:40 http://deb.debian.org/debian buster/main amd64 gpgconf amd64 2.2.12-1+deb10u2 [510 kB]\\nGet:41 http://deb.debian.org/debian buster/main amd64 libnpth0 amd64 1.6-1 [18.4 kB]\\nGet:42 http://deb.debian.org/debian buster/main amd64 dirmngr amd64 2.2.12-1+deb10u2 [712 kB]\\nGet:43 http://deb.debian.org/debian buster/main amd64 libfakeroot amd64 1.23-1 [45.9 kB]\\nGet:44 http://deb.debian.org/debian buster/main amd64 fakeroot amd64 1.23-1 [85.8 kB]\\nGet:45 http://deb.debian.org/debian buster/main amd64 libgirepository-1.0-1 amd64 1.58.3-2 [92.8 kB]\\nGet:46 http://deb.debian.org/debian buster/main amd64 gir1.2-glib-2.0 amd64 1.58.3-2 [143 kB]\\nGet:47 http://deb.debian.org/debian buster/main amd64 gnupg-l10n all 2.2.12-1+deb10u2 [1009 kB]\\nGet:48 http://deb.debian.org/debian buster/main amd64 gnupg-utils amd64 2.2.12-1+deb10u2 [861 kB]\\nGet:49 http://deb.debian.org/debian buster/main amd64 gpg amd64 2.2.12-1+deb10u2 [865 kB]\\nGet:50 http://deb.debian.org/debian buster/main amd64 pinentry-curses amd64 1.1.0-2 [64.5 kB]\\nGet:51 http://deb.debian.org/debian buster/main amd64 gpg-agent amd64 2.2.12-1+deb10u2 [617 kB]\\nGet:52 http://security.debian.org/debian-security buster/updates/main amd64 python3.7-dev amd64 3.7.3-2+deb10u4 [513 kB]\\nGet:53 http://deb.debian.org/debian buster/main amd64 gpg-wks-client amd64 2.2.12-1+deb10u2 [485 kB]\\nGet:54 http://deb.debian.org/debian buster/main amd64 gpg-wks-server amd64 2.2.12-1+deb10u2 [478 kB]\\nGet:55 http://deb.debian.org/debian buster/main amd64 gpgsm amd64 2.2.12-1+deb10u2 [604 kB]\\nGet:56 http://deb.debian.org/debian buster/main amd64 gnupg all 2.2.12-1+deb10u2 [715 kB]\\nGet:57 http://deb.debian.org/debian buster/main amd64 libalgorithm-diff-perl all 1.19.03-2 [47.9 kB]\\nGet:58 http://deb.debian.org/debian buster/main amd64 libalgorithm-diff-xs-perl amd64 0.04-5+b1 [11.8 kB]\\nGet:59 http://deb.debian.org/debian buster/main amd64 libalgorithm-merge-perl all 0.08-3 [12.7 kB]\\nGet:60 http://deb.debian.org/debian buster/main amd64 libfile-fcntllock-perl amd64 0.22-3+b5 [35.4 kB]\\nGet:61 http://deb.debian.org/debian buster/main amd64 libpython3-dev amd64 3.7.3-1 [20.1 kB]\\nGet:62 http://deb.debian.org/debian buster/main amd64 python-pip-whl all 18.1-5 [1591 kB]\\nGet:63 http://deb.debian.org/debian buster/main amd64 python3-asn1crypto all 0.24.0-1 [78.2 kB]\\nGet:64 http://deb.debian.org/debian buster/main amd64 python3-cffi-backend amd64 1.12.2-1 [79.7 kB]\\nGet:65 http://deb.debian.org/debian buster/main amd64 python3-crypto amd64 2.6.1-9+b1 [263 kB]\\nGet:66 http://deb.debian.org/debian buster/main amd64 python3-six all 1.12.0-1 [15.7 kB]\\nGet:67 http://deb.debian.org/debian buster/main amd64 python3-cryptography amd64 2.6.1-3+deb10u2 [219 kB]\\nGet:68 http://deb.debian.org/debian buster/main amd64 python3-dbus amd64 1.2.8-3 [103 kB]\\nGet:69 http://deb.debian.org/debian buster/main amd64 python3-dev amd64 3.7.3-1 [1264 B]\\nGet:70 http://deb.debian.org/debian buster/main amd64 python3-entrypoints all 0.3-1 [5508 B]\\nGet:71 http://deb.debian.org/debian buster/main amd64 python3-gi amd64 3.30.4-1 [180 kB]\\nGet:72 http://deb.debian.org/debian buster/main amd64 python3-secretstorage all 2.3.1-2 [14.2 kB]\\nGet:73 http://deb.debian.org/debian buster/main amd64 python3-keyring all 17.1.1-1 [43.1 kB]\\nGet:74 http://deb.debian.org/debian buster/main amd64 python3-keyrings.alt all 3.1.1-1 [18.2 kB]\\nGet:75 http://deb.debian.org/debian buster/main amd64 python3-pip all 18.1-5 [171 kB]\\nGet:76 http://deb.debian.org/debian buster/main amd64 python3-pkg-resources all 40.8.0-1 [153 kB]\\nGet:77 http://deb.debian.org/debian buster/main amd64 python3-setuptools all 40.8.0-1 [306 kB]\\nGet:78 http://deb.debian.org/debian buster/main amd64 python3-wheel all 0.32.3-2 [19.4 kB]\\nGet:79 http://deb.debian.org/debian buster/main amd64 python3-xdg all 0.25-5 [35.9 kB]\\nFetched 105 MB in 1s (185 MB/s)\\nSelecting previously unselected package liblocale-gettext-perl.\\r\\n(Reading database ... \\r(Reading database ... 5%\\r(Reading database ... 10%\\r(Reading database ... 15%\\r(Reading database ... 20%\\r(Reading database ... 25%\\r(Reading database ... 30%\\r(Reading database ... 35%\\r(Reading database ... 40%\\r(Reading database ... 45%\\r(Reading database ... 50%\\r(Reading database ... 55%\\r(Reading database ... 60%\\r(Reading database ... 65%\\r(Reading database ... 70%\\r(Reading database ... 75%\\r(Reading database ... 80%\\r(Reading database ... 85%\\r(Reading database ... 90%\\r(Reading database ... 95%\\r(Reading database ... 100%\\r(Reading database ... 30822 files and directories currently installed.)\\r\\nPreparing to unpack .../liblocale-gettext-perl_1.07-3+b4_amd64.deb ...\\r\\nUnpacking liblocale-gettext-perl (1.07-3+b4) ...\\r\\nPreparing to unpack .../gpgv_2.2.12-1+deb10u2_amd64.deb ...\\r\\nUnpacking gpgv (2.2.12-1+deb10u2) over (2.2.12-1+deb10u1) ...\\r\\nSetting up gpgv (2.2.12-1+deb10u2) ...\\r\\nSelecting previously unselected package binutils-common:amd64.\\r\\n(Reading database ... \\r(Reading database ... 5%\\r(Reading database ... 10%\\r(Reading database ... 15%\\r(Reading database ... 20%\\r(Reading database ... 25%\\r(Reading database ... 30%\\r(Reading database ... 35%\\r(Reading database ... 40%\\r(Reading database ... 45%\\r(Reading database ... 50%\\r(Reading database ... 55%\\r(Reading database ... 60%\\r(Reading database ... 65%\\r(Reading database ... 70%\\r(Reading database ... 75%\\r(Reading database ... 80%\\r(Reading database ... 85%\\r(Reading database ... 90%\\r(Reading database ... 95%\\r(Reading database ... 100%\\r(Reading database ... 30837 files and directories currently installed.)\\r\\nPreparing to unpack .../00-binutils-common_2.31.1-16_amd64.deb ...\\r\\nUnpacking binutils-common:amd64 (2.31.1-16) ...\\r\\nSelecting previously unselected package libbinutils:amd64.\\r\\nPreparing to unpack .../01-libbinutils_2.31.1-16_amd64.deb ...\\r\\nUnpacking libbinutils:amd64 (2.31.1-16) ...\\r\\nSelecting previously unselected package binutils-x86-64-linux-gnu.\\r\\nPreparing to unpack .../02-binutils-x86-64-linux-gnu_2.31.1-16_amd64.deb ...\\r\\nUnpacking binutils-x86-64-linux-gnu (2.31.1-16) ...\\r\\nSelecting previously unselected package binutils.\\r\\nPreparing to unpack .../03-binutils_2.31.1-16_amd64.deb ...\\r\\nUnpacking binutils (2.31.1-16) ...\\r\\nSelecting previously unselected package libisl19:amd64.\\r\\nPreparing to unpack .../04-libisl19_0.20-2_amd64.deb ...\\r\\nUnpacking libisl19:amd64 (0.20-2) ...\\r\\nSelecting previously unselected package libmpfr6:amd64.\\r\\nPreparing to unpack .../05-libmpfr6_4.0.2-1_amd64.deb ...\\r\\nUnpacking libmpfr6:amd64 (4.0.2-1) ...\\r\\nSelecting previously unselected package libmpc3:amd64.\\r\\nPreparing to unpack .../06-libmpc3_1.1.0-1_amd64.deb ...\\r\\nUnpacking libmpc3:amd64 (1.1.0-1) ...\\r\\nSelecting previously unselected package cpp-8.\\r\\nPreparing to unpack .../07-cpp-8_8.3.0-6_amd64.deb ...\\r\\nUnpacking cpp-8 (8.3.0-6) ...\\r\\nSelecting previously unselected package cpp.\\r\\nPreparing to unpack .../08-cpp_4%3a8.3.0-1_amd64.deb ...\\r\\nUnpacking cpp (4:8.3.0-1) ...\\r\\nSelecting previously unselected package libcc1-0:amd64.\\r\\nPreparing to unpack .../09-libcc1-0_8.3.0-6_amd64.deb ...\\r\\nUnpacking libcc1-0:amd64 (8.3.0-6) ...\\r\\nSelecting previously unselected package libitm1:amd64.\\r\\nPreparing to unpack .../10-libitm1_8.3.0-6_amd64.deb ...\\r\\nUnpacking libitm1:amd64 (8.3.0-6) ...\\r\\nSelecting previously unselected package libatomic1:amd64.\\r\\nPreparing to unpack .../11-libatomic1_8.3.0-6_amd64.deb ...\\r\\nUnpacking libatomic1:amd64 (8.3.0-6) ...\\r\\nSelecting previously unselected package libasan5:amd64.\\r\\nPreparing to unpack .../12-libasan5_8.3.0-6_amd64.deb ...\\r\\nUnpacking libasan5:amd64 (8.3.0-6) ...\\r\\nSelecting previously unselected package liblsan0:amd64.\\r\\nPreparing to unpack .../13-liblsan0_8.3.0-6_amd64.deb ...\\r\\nUnpacking liblsan0:amd64 (8.3.0-6) ...\\r\\nSelecting previously unselected package libtsan0:amd64.\\r\\nPreparing to unpack .../14-libtsan0_8.3.0-6_amd64.deb ...\\r\\nUnpacking libtsan0:amd64 (8.3.0-6) ...\\r\\nSelecting previously unselected package libubsan1:amd64.\\r\\nPreparing to unpack .../15-libubsan1_8.3.0-6_amd64.deb ...\\r\\nUnpacking libubsan1:amd64 (8.3.0-6) ...\\r\\nSelecting previously unselected package libmpx2:amd64.\\r\\nPreparing to unpack .../16-libmpx2_8.3.0-6_amd64.deb ...\\r\\nUnpacking libmpx2:amd64 (8.3.0-6) ...\\r\\nSelecting previously unselected package libquadmath0:amd64.\\r\\nPreparing to unpack .../17-libquadmath0_8.3.0-6_amd64.deb ...\\r\\nUnpacking libquadmath0:amd64 (8.3.0-6) ...\\r\\nSelecting previously unselected package libgcc-8-dev:amd64.\\r\\nPreparing to unpack .../18-libgcc-8-dev_8.3.0-6_amd64.deb ...\\r\\nUnpacking libgcc-8-dev:amd64 (8.3.0-6) ...\\r\\nSelecting previously unselected package gcc-8.\\r\\nPreparing to unpack .../19-gcc-8_8.3.0-6_amd64.deb ...\\r\\nUnpacking gcc-8 (8.3.0-6) ...\\r\\nSelecting previously unselected package gcc.\\r\\nPreparing to unpack .../20-gcc_4%3a8.3.0-1_amd64.deb ...\\r\\nUnpacking gcc (4:8.3.0-1) ...\\r\\nSelecting previously unselected package libstdc++-8-dev:amd64.\\r\\nPreparing to unpack .../21-libstdc++-8-dev_8.3.0-6_amd64.deb ...\\r\\nUnpacking libstdc++-8-dev:amd64 (8.3.0-6) ...\\r\\nSelecting previously unselected package g++-8.\\r\\nPreparing to unpack .../22-g++-8_8.3.0-6_amd64.deb ...\\r\\nUnpacking g++-8 (8.3.0-6) ...\\r\\nSelecting previously unselected package g++.\\r\\nPreparing to unpack .../23-g++_4%3a8.3.0-1_amd64.deb ...\\r\\nUnpacking g++ (4:8.3.0-1) ...\\r\\nSelecting previously unselected package make.\\r\\nPreparing to unpack .../24-make_4.2.1-1.2_amd64.deb ...\\r\\nUnpacking make (4.2.1-1.2) ...\\r\\nSelecting previously unselected package libdpkg-perl.\\r\\nPreparing to unpack .../25-libdpkg-perl_1.19.8_all.deb ...\\r\\nUnpacking libdpkg-perl (1.19.8) ...\\r\\nSelecting previously unselected package dpkg-dev.\\r\\nPreparing to unpack .../26-dpkg-dev_1.19.8_all.deb ...\\r\\nUnpacking dpkg-dev (1.19.8) ...\\r\\nSelecting previously unselected package build-essential.\\r\\nPreparing to unpack .../27-build-essential_12.6_amd64.deb ...\\r\\nUnpacking build-essential (12.6) ...\\r\\nSelecting previously unselected package python3-lib2to3.\\r\\nPreparing to unpack .../28-python3-lib2to3_3.7.3-1_all.deb ...\\r\\nUnpacking python3-lib2to3 (3.7.3-1) ...\\r\\nSelecting previously unselected package python3-distutils.\\r\\nPreparing to unpack .../29-python3-distutils_3.7.3-1_all.deb ...\\r\\nUnpacking python3-distutils (3.7.3-1) ...\\r\\nSelecting previously unselected package dh-python.\\r\\nPreparing to unpack .../30-dh-python_3.20190308_all.deb ...\\r\\nUnpacking dh-python (3.20190308) ...\\r\\nSelecting previously unselected package libassuan0:amd64.\\r\\nPreparing to unpack .../31-libassuan0_2.5.2-1_amd64.deb ...\\r\\nUnpacking libassuan0:amd64 (2.5.2-1) ...\\r\\nSelecting previously unselected package gpgconf.\\r\\nPreparing to unpack .../32-gpgconf_2.2.12-1+deb10u2_amd64.deb ...\\r\\nUnpacking gpgconf (2.2.12-1+deb10u2) ...\\r\\nSelecting previously unselected package libksba8:amd64.\\r\\nPreparing to unpack .../33-libksba8_1.3.5-2+deb10u1_amd64.deb ...\\r\\nUnpacking libksba8:amd64 (1.3.5-2+deb10u1) ...\\r\\nSelecting previously unselected package libnpth0:amd64.\\r\\nPreparing to unpack .../34-libnpth0_1.6-1_amd64.deb ...\\r\\nUnpacking libnpth0:amd64 (1.6-1) ...\\r\\nSelecting previously unselected package dirmngr.\\r\\nPreparing to unpack .../35-dirmngr_2.2.12-1+deb10u2_amd64.deb ...\\r\\nUnpacking dirmngr (2.2.12-1+deb10u2) ...\\r\\nSelecting previously unselected package libfakeroot:amd64.\\r\\nPreparing to unpack .../36-libfakeroot_1.23-1_amd64.deb ...\\r\\nUnpacking libfakeroot:amd64 (1.23-1) ...\\r\\nSelecting previously unselected package fakeroot.\\r\\nPreparing to unpack .../37-fakeroot_1.23-1_amd64.deb ...\\r\\nUnpacking fakeroot (1.23-1) ...\\r\\nSelecting previously unselected package libgirepository-1.0-1:amd64.\\r\\nPreparing to unpack .../38-libgirepository-1.0-1_1.58.3-2_amd64.deb ...\\r\\nUnpacking libgirepository-1.0-1:amd64 (1.58.3-2) ...\\r\\nSelecting previously unselected package gir1.2-glib-2.0:amd64.\\r\\nPreparing to unpack .../39-gir1.2-glib-2.0_1.58.3-2_amd64.deb ...\\r\\nUnpacking gir1.2-glib-2.0:amd64 (1.58.3-2) ...\\r\\nSelecting previously unselected package gnupg-l10n.\\r\\nPreparing to unpack .../40-gnupg-l10n_2.2.12-1+deb10u2_all.deb ...\\r\\nUnpacking gnupg-l10n (2.2.12-1+deb10u2) ...\\r\\nSelecting previously unselected package gnupg-utils.\\r\\nPreparing to unpack .../41-gnupg-utils_2.2.12-1+deb10u2_amd64.deb ...\\r\\nUnpacking gnupg-utils (2.2.12-1+deb10u2) ...\\r\\nSelecting previously unselected package gpg.\\r\\nPreparing to unpack .../42-gpg_2.2.12-1+deb10u2_amd64.deb ...\\r\\nUnpacking gpg (2.2.12-1+deb10u2) ...\\r\\nSelecting previously unselected package pinentry-curses.\\r\\nPreparing to unpack .../43-pinentry-curses_1.1.0-2_amd64.deb ...\\r\\nUnpacking pinentry-curses (1.1.0-2) ...\\r\\nSelecting previously unselected package gpg-agent.\\r\\nPreparing to unpack .../44-gpg-agent_2.2.12-1+deb10u2_amd64.deb ...\\r\\nUnpacking gpg-agent (2.2.12-1+deb10u2) ...\\r\\nSelecting previously unselected package gpg-wks-client.\\r\\nPreparing to unpack .../45-gpg-wks-client_2.2.12-1+deb10u2_amd64.deb ...\\r\\nUnpacking gpg-wks-client (2.2.12-1+deb10u2) ...\\r\\nSelecting previously unselected package gpg-wks-server.\\r\\nPreparing to unpack .../46-gpg-wks-server_2.2.12-1+deb10u2_amd64.deb ...\\r\\nUnpacking gpg-wks-server (2.2.12-1+deb10u2) ...\\r\\nSelecting previously unselected package gpgsm.\\r\\nPreparing to unpack .../47-gpgsm_2.2.12-1+deb10u2_amd64.deb ...\\r\\nUnpacking gpgsm (2.2.12-1+deb10u2) ...\\r\\nSelecting previously unselected package gnupg.\\r\\nPreparing to unpack .../48-gnupg_2.2.12-1+deb10u2_all.deb ...\\r\\nUnpacking gnupg (2.2.12-1+deb10u2) ...\\r\\nSelecting previously unselected package libalgorithm-diff-perl.\\r\\nPreparing to unpack .../49-libalgorithm-diff-perl_1.19.03-2_all.deb ...\\r\\nUnpacking libalgorithm-diff-perl (1.19.03-2) ...\\r\\nSelecting previously unselected package libalgorithm-diff-xs-perl.\\r\\nPreparing to unpack .../50-libalgorithm-diff-xs-perl_0.04-5+b1_amd64.deb ...\\r\\nUnpacking libalgorithm-diff-xs-perl (0.04-5+b1) ...\\r\\nSelecting previously unselected package libalgorithm-merge-perl.\\r\\nPreparing to unpack .../51-libalgorithm-merge-perl_0.08-3_all.deb ...\\r\\nUnpacking libalgorithm-merge-perl (0.08-3) ...\\r\\nPreparing to unpack .../52-libexpat1_2.2.6-2+deb10u6_amd64.deb ...\\r\\nUnpacking libexpat1:amd64 (2.2.6-2+deb10u6) over (2.2.6-2+deb10u1) ...\\r\\nSelecting previously unselected package libexpat1-dev:amd64.\\r\\nPreparing to unpack .../53-libexpat1-dev_2.2.6-2+deb10u6_amd64.deb ...\\r\\nUnpacking libexpat1-dev:amd64 (2.2.6-2+deb10u6) ...\\r\\nSelecting previously unselected package libfile-fcntllock-perl.\\r\\nPreparing to unpack .../54-libfile-fcntllock-perl_0.22-3+b5_amd64.deb ...\\r\\nUnpacking libfile-fcntllock-perl (0.22-3+b5) ...\\r\\nSelecting previously unselected package libpython3.7:amd64.\\r\\nPreparing to unpack .../55-libpython3.7_3.7.3-2+deb10u4_amd64.deb ...\\r\\nUnpacking libpython3.7:amd64 (3.7.3-2+deb10u4) ...\\r\\nSelecting previously unselected package libpython3.7-dev:amd64.\\r\\nPreparing to unpack .../56-libpython3.7-dev_3.7.3-2+deb10u4_amd64.deb ...\\r\\nUnpacking libpython3.7-dev:amd64 (3.7.3-2+deb10u4) ...\\r\\nSelecting previously unselected package libpython3-dev:amd64.\\r\\nPreparing to unpack .../57-libpython3-dev_3.7.3-1_amd64.deb ...\\r\\nUnpacking libpython3-dev:amd64 (3.7.3-1) ...\\r\\nSelecting previously unselected package python-pip-whl.\\r\\nPreparing to unpack .../58-python-pip-whl_18.1-5_all.deb ...\\r\\nUnpacking python-pip-whl (18.1-5) ...\\r\\nSelecting previously unselected package python3-asn1crypto.\\r\\nPreparing to unpack .../59-python3-asn1crypto_0.24.0-1_all.deb ...\\r\\nUnpacking python3-asn1crypto (0.24.0-1) ...\\r\\nSelecting previously unselected package python3-cffi-backend.\\r\\nPreparing to unpack .../60-python3-cffi-backend_1.12.2-1_amd64.deb ...\\r\\nUnpacking python3-cffi-backend (1.12.2-1) ...\\r\\nSelecting previously unselected package python3-crypto.\\r\\nPreparing to unpack .../61-python3-crypto_2.6.1-9+b1_amd64.deb ...\\r\\nUnpacking python3-crypto (2.6.1-9+b1) ...\\r\\nSelecting previously unselected package python3-six.\\r\\nPreparing to unpack .../62-python3-six_1.12.0-1_all.deb ...\\r\\nUnpacking python3-six (1.12.0-1) ...\\r\\nSelecting previously unselected package python3-cryptography.\\r\\nPreparing to unpack .../63-python3-cryptography_2.6.1-3+deb10u2_amd64.deb ...\\r\\nUnpacking python3-cryptography (2.6.1-3+deb10u2) ...\\r\\nSelecting previously unselected package python3-dbus.\\r\\nPreparing to unpack .../64-python3-dbus_1.2.8-3_amd64.deb ...\\r\\nUnpacking python3-dbus (1.2.8-3) ...\\r\\nSelecting previously unselected package python3.7-dev.\\r\\nPreparing to unpack .../65-python3.7-dev_3.7.3-2+deb10u4_amd64.deb ...\\r\\nUnpacking python3.7-dev (3.7.3-2+deb10u4) ...\\r\\nSelecting previously unselected package python3-dev.\\r\\nPreparing to unpack .../66-python3-dev_3.7.3-1_amd64.deb ...\\r\\nUnpacking python3-dev (3.7.3-1) ...\\r\\nSelecting previously unselected package python3-entrypoints.\\r\\nPreparing to unpack .../67-python3-entrypoints_0.3-1_all.deb ...\\r\\nUnpacking python3-entrypoints (0.3-1) ...\\r\\nSelecting previously unselected package python3-gi.\\r\\nPreparing to unpack .../68-python3-gi_3.30.4-1_amd64.deb ...\\r\\nUnpacking python3-gi (3.30.4-1) ...\\r\\nSelecting previously unselected package python3-secretstorage.\\r\\nPreparing to unpack .../69-python3-secretstorage_2.3.1-2_all.deb ...\\r\\nUnpacking python3-secretstorage (2.3.1-2) ...\\r\\nSelecting previously unselected package python3-keyring.\\r\\nPreparing to unpack .../70-python3-keyring_17.1.1-1_all.deb ...\\r\\nUnpacking python3-keyring (17.1.1-1) ...\\r\\nSelecting previously unselected package python3-keyrings.alt.\\r\\nPreparing to unpack .../71-python3-keyrings.alt_3.1.1-1_all.deb ...\\r\\nUnpacking python3-keyrings.alt (3.1.1-1) ...\\r\\nSelecting previously unselected package python3-pip.\\r\\nPreparing to unpack .../72-python3-pip_18.1-5_all.deb ...\\r\\nUnpacking python3-pip (18.1-5) ...\\r\\nSelecting previously unselected package python3-pkg-resources.\\r\\nPreparing to unpack .../73-python3-pkg-resources_40.8.0-1_all.deb ...\\r\\nUnpacking python3-pkg-resources (40.8.0-1) ...\\r\\nSelecting previously unselected package python3-setuptools.\\r\\nPreparing to unpack .../74-python3-setuptools_40.8.0-1_all.deb ...\\r\\nUnpacking python3-setuptools (40.8.0-1) ...\\r\\nSelecting previously unselected package python3-wheel.\\r\\nPreparing to unpack .../75-python3-wheel_0.32.3-2_all.deb ...\\r\\nUnpacking python3-wheel (0.32.3-2) ...\\r\\nSelecting previously unselected package python3-xdg.\\r\\nPreparing to unpack .../76-python3-xdg_0.25-5_all.deb ...\\r\\nUnpacking python3-xdg (0.25-5) ...\\r\\nSetting up python3-pkg-resources (40.8.0-1) ...\\r\\nSetting up python3-entrypoints (0.3-1) ...\\r\\nSetting up libksba8:amd64 (1.3.5-2+deb10u1) ...\\r\\nSetting up libexpat1:amd64 (2.2.6-2+deb10u6) ...\\r\\nSetting up python3-dbus (1.2.8-3) ...\\r\\nSetting up libpython3.7:amd64 (3.7.3-2+deb10u4) ...\\r\\nSetting up libfile-fcntllock-perl (0.22-3+b5) ...\\r\\nSetting up libalgorithm-diff-perl (1.19.03-2) ...\\r\\nSetting up binutils-common:amd64 (2.31.1-16) ...\\r\\nSetting up libnpth0:amd64 (1.6-1) ...\\r\\nSetting up libassuan0:amd64 (2.5.2-1) ...\\r\\nSetting up python3-xdg (0.25-5) ...\\r\\nSetting up python3-wheel (0.32.3-2) ...\\r\\nSetting up libfakeroot:amd64 (1.23-1) ...\\r\\nSetting up fakeroot (1.23-1) ...\\r\\nupdate-alternatives: using /usr/bin/fakeroot-sysv to provide /usr/bin/fakeroot (fakeroot) in auto mode\\r\\nupdate-alternatives: warning: skip creation of /usr/share/man/man1/fakeroot.1.gz because associated file /usr/share/man/man1/fakeroot-sysv.1.gz (of link group fakeroot) doesn't exist\\r\\nupdate-alternatives: warning: skip creation of /usr/share/man/man1/faked.1.gz because associated file /usr/share/man/man1/faked-sysv.1.gz (of link group fakeroot) doesn't exist\\r\\nupdate-alternatives: warning: skip creation of /usr/share/man/es/man1/fakeroot.1.gz because associated file /usr/share/man/es/man1/fakeroot-sysv.1.gz (of link group fakeroot) doesn't exist\\r\\nupdate-alternatives: warning: skip creation of /usr/share/man/es/man1/faked.1.gz because associated file /usr/share/man/es/man1/faked-sysv.1.gz (of link group fakeroot) doesn't exist\\r\\nupdate-alternatives: warning: skip creation of /usr/share/man/fr/man1/fakeroot.1.gz because associated file /usr/share/man/fr/man1/fakeroot-sysv.1.gz (of link group fakeroot) doesn't exist\\r\\nupdate-alternatives: warning: skip creation of /usr/share/man/fr/man1/faked.1.gz because associated file /usr/share/man/fr/man1/faked-sysv.1.gz (of link group fakeroot) doesn't exist\\r\\nupdate-alternatives: warning: skip creation of /usr/share/man/sv/man1/fakeroot.1.gz because associated file /usr/share/man/sv/man1/fakeroot-sysv.1.gz (of link group fakeroot) doesn't exist\\r\\nupdate-alternatives: warning: skip creation of /usr/share/man/sv/man1/faked.1.gz because associated file /usr/share/man/sv/man1/faked-sysv.1.gz (of link group fakeroot) doesn't exist\\r\\nSetting up python3-six (1.12.0-1) ...\\r\\nSetting up libasan5:amd64 (8.3.0-6) ...\\r\\nSetting up libexpat1-dev:amd64 (2.2.6-2+deb10u6) ...\\r\\nSetting up make (4.2.1-1.2) ...\\r\\nSetting up libmpfr6:amd64 (4.0.2-1) ...\\r\\nSetting up gnupg-l10n (2.2.12-1+deb10u2) ...\\r\\nSetting up libquadmath0:amd64 (8.3.0-6) ...\\r\\nSetting up libmpc3:amd64 (1.1.0-1) ...\\r\\nSetting up libatomic1:amd64 (8.3.0-6) ...\\r\\nSetting up libdpkg-perl (1.19.8) ...\\r\\nSetting up libmpx2:amd64 (8.3.0-6) ...\\r\\nSetting up libubsan1:amd64 (8.3.0-6) ...\\r\\nSetting up libisl19:amd64 (0.20-2) ...\\r\\nSetting up gpgconf (2.2.12-1+deb10u2) ...\\r\\nSetting up python3-crypto (2.6.1-9+b1) ...\\r\\nSetting up libgirepository-1.0-1:amd64 (1.58.3-2) ...\\r\\nSetting up python-pip-whl (18.1-5) ...\\r\\nSetting up libbinutils:amd64 (2.31.1-16) ...\\r\\nSetting up cpp-8 (8.3.0-6) ...\\r\\nSetting up python3-lib2to3 (3.7.3-1) ...\\r\\nSetting up libalgorithm-diff-xs-perl (0.04-5+b1) ...\\r\\nSetting up python3-asn1crypto (0.24.0-1) ...\\r\\nSetting up libcc1-0:amd64 (8.3.0-6) ...\\r\\nSetting up liblocale-gettext-perl (1.07-3+b4) ...\\r\\nSetting up gpg (2.2.12-1+deb10u2) ...\\r\\nSetting up liblsan0:amd64 (8.3.0-6) ...\\r\\nSetting up libitm1:amd64 (8.3.0-6) ...\\r\\nSetting up python3-cffi-backend (1.12.2-1) ...\\r\\nSetting up libalgorithm-merge-perl (0.08-3) ...\\r\\nSetting up gnupg-utils (2.2.12-1+deb10u2) ...\\r\\nSetting up binutils-x86-64-linux-gnu (2.31.1-16) ...\\r\\nSetting up libtsan0:amd64 (8.3.0-6) ...\\r\\nSetting up python3-distutils (3.7.3-1) ...\\r\\nSetting up dh-python (3.20190308) ...\\r\\nSetting up pinentry-curses (1.1.0-2) ...\\r\\nSetting up gpg-agent (2.2.12-1+deb10u2) ...\\r\\nSetting up python3-setuptools (40.8.0-1) ...\\r\\nSetting up libpython3.7-dev:amd64 (3.7.3-2+deb10u4) ...\\r\\nSetting up gpgsm (2.2.12-1+deb10u2) ...\\r\\nSetting up binutils (2.31.1-16) ...\\r\\nSetting up python3.7-dev (3.7.3-2+deb10u4) ...\\r\\nSetting up dpkg-dev (1.19.8) ...\\r\\nSetting up dirmngr (2.2.12-1+deb10u2) ...\\r\\nSetting up python3-cryptography (2.6.1-3+deb10u2) ...\\r\\nSetting up gir1.2-glib-2.0:amd64 (1.58.3-2) ...\\r\\nSetting up python3-pip (18.1-5) ...\\r\\nSetting up libgcc-8-dev:amd64 (8.3.0-6) ...\\r\\nSetting up gpg-wks-server (2.2.12-1+deb10u2) ...\\r\\nSetting up cpp (4:8.3.0-1) ...\\r\\nSetting up python3-keyrings.alt (3.1.1-1) ...\\r\\nSetting up libstdc++-8-dev:amd64 (8.3.0-6) ...\\r\\nSetting up gcc-8 (8.3.0-6) ...\\r\\nSetting up libpython3-dev:amd64 (3.7.3-1) ...\\r\\nSetting up gpg-wks-client (2.2.12-1+deb10u2) ...\\r\\nSetting up gcc (4:8.3.0-1) ...\\r\\nSetting up python3-secretstorage (2.3.1-2) ...\\r\\nSetting up python3-dev (3.7.3-1) ...\\r\\nSetting up python3-gi (3.30.4-1) ...\\r\\nSetting up g++-8 (8.3.0-6) ...\\r\\nSetting up gnupg (2.2.12-1+deb10u2) ...\\r\\nSetting up python3-keyring (17.1.1-1) ...\\r\\nSetting up g++ (4:8.3.0-1) ...\\r\\nupdate-alternatives: using /usr/bin/g++ to provide /usr/bin/c++ (c++) in auto mode\\r\\nSetting up build-essential (12.6) ...\\r\\nProcessing triggers for libc-bin (2.28-10) ...\\r\\n\"\n",
=======
      "\u001b[0mb\"Hit:1 http://deb.debian.org/debian buster InRelease\\nGet:2 http://deb.debian.org/debian buster-updates InRelease [56.6 kB]\\nHit:3 http://security.debian.org/debian-security buster/updates InRelease\\nFetched 56.6 kB in 1s (112 kB/s)\\nReading package lists...\\nBuilding dependency tree...\\nReading state information...\\n52 packages can be upgraded. Run 'apt list --upgradable' to see them.\\nReading package lists...\\nBuilding dependency tree...\\nReading state information...\\nsudo is already the newest version (1.8.27-1+deb10u4).\\n0 upgraded, 0 newly installed, 0 to remove and 52 not upgraded.\\nReading package lists...\\nBuilding dependency tree...\\nReading state information...\\ndefault-jre is already the newest version (2:1.11-71).\\n0 upgraded, 0 newly installed, 0 to remove and 52 not upgraded.\\nReading package lists...\\nBuilding dependency tree...\\nReading state information...\\npython3 is already the newest version (3.7.3-1).\\n0 upgraded, 0 newly installed, 0 to remove and 52 not upgraded.\\nReading package lists...\\nBuilding dependency tree...\\nReading state information...\\npython3-pip is already the newest version (18.1-5).\\n0 upgraded, 0 newly installed, 0 to remove and 52 not upgraded.\\n\"\n",
>>>>>>> Stashed changes
      "\n"
     ]
    }
   ],
   "source": [
    "!pip install /root/git/msspackages/dist/msspackages-0.0.7-py3-none-any.whl\n",
    "from msspackages import setup_runner\n",
    "setup_runner(setup_type = 'notebook' , project = 'understanding-eks-data')"
   ]
  },
  {
   "cell_type": "code",
<<<<<<< Updated upstream
   "execution_count": 4,
=======
   "execution_count": 3,
>>>>>>> Stashed changes
   "id": "fcbd307c-b2e5-42b4-9a37-8c515fc2fb79",
   "metadata": {
    "tags": []
   },
   "outputs": [
    {
     "name": "stdout",
     "output_type": "stream",
     "text": [
      "Keyring is skipped due to an exception: 'keyring.backends'\n",
<<<<<<< Updated upstream
      "Collecting hmmlearn\n",
      "  Using cached hmmlearn-0.2.8-cp37-cp37m-manylinux_2_5_x86_64.manylinux1_x86_64.whl (217 kB)\n",
      "Requirement already satisfied: numpy>=1.10 in /opt/conda/lib/python3.7/site-packages (from hmmlearn) (1.21.6)\n",
=======
      "Requirement already satisfied: hmmlearn in /opt/conda/lib/python3.7/site-packages (0.2.8)\n",
>>>>>>> Stashed changes
      "Requirement already satisfied: scikit-learn>=0.16 in /opt/conda/lib/python3.7/site-packages (from hmmlearn) (0.22.1)\n",
      "Requirement already satisfied: scipy>=0.19 in /opt/conda/lib/python3.7/site-packages (from hmmlearn) (1.4.1)\n",
      "Requirement already satisfied: numpy>=1.10 in /opt/conda/lib/python3.7/site-packages (from hmmlearn) (1.21.6)\n",
      "Requirement already satisfied: joblib>=0.11 in /opt/conda/lib/python3.7/site-packages (from scikit-learn>=0.16->hmmlearn) (0.14.1)\n",
      "Installing collected packages: hmmlearn\n",
      "Successfully installed hmmlearn-0.2.8\n",
      "\u001b[33mWARNING: Running pip as the 'root' user can result in broken permissions and conflicting behaviour with the system package manager. It is recommended to use a virtual environment instead: https://pip.pypa.io/warnings/venv\u001b[0m\u001b[33m\n",
      "\u001b[0mNote: you may need to restart the kernel to use updated packages.\n"
     ]
    }
   ],
   "source": [
    "%pip install hmmlearn\n",
    "from msspackages import Pyspark_data_ingestion\n",
    "from pyspark import StorageLevel\n",
    "from pyspark.sql.functions import *\n",
    "from hmmlearn import hmm,base\n",
    "from sklearn.preprocessing import StandardScaler as scale\n",
    "import pandas as pd\n",
    "import seaborn as sns\n",
    "import matplotlib.pyplot as plt \n",
    "%matplotlib inline\n",
    "import numpy as np\n",
    "# pandas settings \n",
    "pd.set_option('display.max_columns', None)\n",
    "pd.set_option('display.max_rows', None)"
   ]
  },
  {
   "cell_type": "code",
   "execution_count": 7,
   "id": "7e234984-446a-4830-a728-af610ba41669",
   "metadata": {
    "tags": []
   },
   "outputs": [
    {
     "name": "stdout",
     "output_type": "stream",
     "text": [
<<<<<<< Updated upstream
      "CPU times: user 31.1 ms, sys: 11.7 ms, total: 42.9 ms\n",
      "Wall time: 9.09 s\n"
=======
      "CPU times: user 57.5 ms, sys: 32.1 ms, total: 89.5 ms\n",
      "Wall time: 21.4 s\n"
>>>>>>> Stashed changes
     ]
    }
   ],
   "source": [
    "%%time\n",
    "node_obj = Pyspark_data_ingestion(year = '2022', month = \"7\", day = \"7\", hour = 10, filter_column_value ='Node',setup='128gb')\n",
    "spark_node = node_obj.get_spark()\n",
    "err, node_data = node_obj.read()"
   ]
  },
  {
   "cell_type": "code",
<<<<<<< Updated upstream
   "execution_count": 9,
=======
   "execution_count": 5,
>>>>>>> Stashed changes
   "id": "bac50f98-8f0b-434b-87a9-eb210962ec93",
   "metadata": {
    "tags": []
   },
   "outputs": [],
   "source": [
    "df = node_data.toPandas()"
   ]
  },
  {
   "cell_type": "code",
<<<<<<< Updated upstream
   "execution_count": 10,
   "id": "3320ee49-e7eb-4c8b-b95c-c9ab5c3b2745",
   "metadata": {},
   "outputs": [],
   "source": [
    "import warnings\n",
    "warnings.filterwarnings('ignore')\n"
   ]
  },
  {
   "cell_type": "code",
   "execution_count": 11,
   "id": "f08aaee4-ac76-4b6d-b8d8-5e3326799102",
   "metadata": {
    "tags": []
   },
   "outputs": [],
   "source": [
    "df.to_csv('one_hour.csv', index=False, header=True)"
=======
   "execution_count": 6,
   "id": "3320ee49-e7eb-4c8b-b95c-c9ab5c3b2745",
   "metadata": {},
   "outputs": [],
   "source": [
    "import warnings\n",
    "warnings.filterwarnings('ignore')\n"
>>>>>>> Stashed changes
   ]
  },
  {
   "cell_type": "code",
<<<<<<< Updated upstream
   "execution_count": null,
=======
   "execution_count": 6,
>>>>>>> Stashed changes
   "id": "a47d425d-eedc-4d0d-8e29-7652fdd03127",
   "metadata": {
    "tags": []
   },
   "outputs": [
    {
     "data": {
      "text/plain": [
       "(1218429, 56)"
      ]
     },
     "execution_count": 6,
     "metadata": {},
     "output_type": "execute_result"
    }
   ],
   "source": [
    "df.shape"
   ]
  },
  {
   "cell_type": "code",
   "execution_count": null,
   "id": "65a98e1a-a8b5-4305-95af-2767720ab760",
   "metadata": {
    "jupyter": {
     "source_hidden": true
    },
    "tags": []
   },
   "outputs": [],
   "source": [
    "def clean_data(df):\n",
    "    df = df.dropna(subset=['node_cpu_utilization','node_memory_utilization'])\n",
    "    nodelist = df.NodeName.unique()\n",
    "    subdfs = []\n",
    "    for node in nodelist:\n",
    "        \n",
    "        subdf = df[df.NodeName==node]\n",
    "        sc_m = scale()\n",
    "        sc_c = scale()\n",
    "        c_s = sc_c.fit_transform(subdf['node_cpu_utilization'].values.reshape(-1,1))\n",
    "        m_s = sc_m.fit_transform(subdf['node_memory_utilization'].values.reshape(-1,1))\n",
    "        subdf['node_cpu_utilization'] = c_s\n",
    "        subdf['node_memory_utilization'] = m_s\n",
    "        subdfs.append(subdf)\n",
    "    cleaned = subdfs[0]\n",
    "    \n",
    "    for i in subdfs[1:]:\n",
    "        cleaned = pd.concat([cleaned, i], axis=0)\n",
    "    return cleaned"
   ]
  },
  {
   "cell_type": "code",
   "execution_count": null,
   "id": "a6a30ea8-92fa-4666-a495-ea15b4571611",
   "metadata": {
    "tags": []
   },
   "outputs": [],
   "source": []
  },
  {
   "cell_type": "markdown",
   "id": "72034295-db32-456c-aad7-c6bcc377c128",
   "metadata": {
    "jp-MarkdownHeadingCollapsed": true,
    "tags": []
   },
   "source": [
    "## feature selection"
   ]
  },
  {
   "cell_type": "code",
   "execution_count": null,
   "id": "38583e2e-0963-4d3f-a5e2-6cf1e1c0711e",
   "metadata": {
    "tags": []
   },
   "outputs": [],
   "source": [
    "len(new_df)"
   ]
  },
  {
   "cell_type": "code",
   "execution_count": null,
   "id": "f05fcd8b-1fdd-4cc3-9e5c-dec6bb9fbab5",
   "metadata": {
    "tags": []
   },
   "outputs": [],
   "source": [
    "fig,ax = plt.subplots(len(new_df.NodeName.unique()),figsize = (10,40),sharex=True)\n",
    "i = 0\n",
    "for node in new_df.NodeName.unique():\n",
    "    sub = new_df[new_df.NodeName==node]\n",
    "    ax[i].hist(sub.node_cpu_utilization)\n",
    "    i+=1\n",
    "plt.show()\n",
    "    "
   ]
  },
  {
   "cell_type": "code",
   "execution_count": null,
   "id": "33e2402e-e39e-4f87-8b1a-ab0ce49af26f",
   "metadata": {
    "tags": []
   },
   "outputs": [],
   "source": [
    "new_df.reset_index(inplace=True,drop=True)"
   ]
  },
  {
   "cell_type": "code",
   "execution_count": null,
   "id": "87f8b820-6254-4e9b-ba07-d629b81a2ddc",
   "metadata": {
    "tags": []
   },
   "outputs": [],
   "source": [
    "new_df.head()"
   ]
  },
  {
   "cell_type": "code",
   "execution_count": null,
   "id": "17d45490-565b-46d7-ba01-fe2dda4c7ddf",
   "metadata": {
    "tags": []
   },
   "outputs": [],
   "source": [
    "def sample_data(df,data_frac= 0.5,random_state = 1, slice_length = 6):\n",
    "    res_ind = df.sample(frac=data_frac/6, replace=True, random_state=random_state).index.to_list()\n",
    "    for i in res_ind :\n",
    "        for j in range(slice_length):\n",
    "            res_ind.append(i+j)\n",
    "            \n",
    "    return df.iloc[res_ind.sort()]\n",
    "        \n",
    "        \n",
    "    "
   ]
  },
  {
   "cell_type": "markdown",
   "id": "c2d380f2-1fb4-4f2b-9ee7-6f758313723e",
   "metadata": {},
   "source": []
  },
  {
   "cell_type": "code",
   "execution_count": null,
   "id": "f302b9d1-ca5d-45f9-8bb7-ded75f009c55",
   "metadata": {
    "tags": []
   },
   "outputs": [],
   "source": [
    "res_ind = new_df.sample(frac=0.5/6, replace=True, random_state=1).index.to_list()"
   ]
  },
  {
   "cell_type": "code",
   "execution_count": null,
   "id": "cd18a678-ee81-4bc5-b2db-ca6c42df4d08",
   "metadata": {
    "tags": []
   },
   "outputs": [],
   "source": [
    "\n",
    "for i in res_ind :\n",
    "    for j in range(6):\n",
    "        res_ind.append(i+j)"
   ]
  },
  {
   "cell_type": "code",
   "execution_count": null,
   "id": "62d124c9-996e-447d-b13d-29f6c18f1527",
   "metadata": {
    "tags": []
   },
   "outputs": [],
   "source": [
    "\n",
    "\n",
    "res_ind[:5]"
   ]
  },
  {
   "cell_type": "code",
   "execution_count": null,
   "id": "f5d2385c-cb30-4ec8-b825-e3459916cb3d",
   "metadata": {
    "tags": []
   },
   "outputs": [],
   "source": [
    "new_df.iloc[[5,5]]"
   ]
  },
  {
   "cell_type": "code",
   "execution_count": null,
   "id": "6cec681c-201b-4782-9f46-5fadecd5ac60",
   "metadata": {},
   "outputs": [],
   "source": []
  },
  {
   "cell_type": "markdown",
   "id": "59a7ecf3-1739-47c9-a90e-50e9e20ce229",
<<<<<<< Updated upstream
=======
   "metadata": {
    "jp-MarkdownHeadingCollapsed": true,
    "tags": []
   },
   "source": [
    "## model testing"
   ]
  },
  {
   "cell_type": "code",
   "execution_count": 6,
   "id": "80dd7cdb-cb17-472e-87df-7ad7a1485607",
>>>>>>> Stashed changes
   "metadata": {
    "jp-MarkdownHeadingCollapsed": true,
    "tags": []
   },
<<<<<<< Updated upstream
   "source": [
    "## model testing V1.0"
=======
   "outputs": [
    {
     "name": "stdout",
     "output_type": "stream",
     "text": [
      "CPU times: user 22 ms, sys: 17.9 ms, total: 39.9 ms\n",
      "Wall time: 9.93 s\n"
     ]
    }
   ],
   "source": [
    "%%time\n",
    "test = Pyspark_data_ingestion(year = '2022', month = \"7\", day = \"7\", hour = \"10\", filter_column_value ='Node',setup='128gb')\n",
    "test_node = test.get_spark()\n",
    "err, test_df = test.read()"
   ]
  },
  {
   "cell_type": "code",
   "execution_count": 7,
   "id": "55edc667-2870-4eeb-b61c-414de66c83dd",
   "metadata": {
    "tags": []
   },
   "outputs": [
    {
     "name": "stdout",
     "output_type": "stream",
     "text": [
      "+------------+--------------------+--------------------+--------------------+--------------------+-------------------------------+-------------------------------+-------------------+-------------------+--------------------+--------------------+--------------------+--------------------+-------------------+------------+--------------------+--------------------+-------------+----+-------+--------------------+--------------+----------------+--------------------------+---------------------+--------------------+-------------------+--------------------+-----------------+-------------------+--------------------------------+-----------------------------------+-----------------+-----------------------+---------------------+-------------------+----------------------+-------------------+-----------------------------+---------------+----------------+-----------------+-----------------------+-----------------------+---------------------+-----------------------+----------------------+-----------------------+------------------------+---------------------+-----------------------+----------------------+-----------------------+---------------------------------+---------------------------+---------+\n",
      "|  account_id|      log_group_name|     log_stream_name|           record_id|         stream_name|record_arrival_stream_timestamp|record_arrival_stream_epochtime|log_event_timestamp|log_event_epochtime|        log_event_id|AutoScalingGroupName|   CloudWatchMetrics|         ClusterName|         InstanceId|InstanceType|            NodeName|             Sources|    Timestamp|Type|Version|          kubernetes|node_cpu_limit|node_cpu_request|node_cpu_reserved_capacity|node_cpu_usage_system|node_cpu_usage_total|node_cpu_usage_user|node_cpu_utilization|node_memory_cache|node_memory_failcnt|node_memory_hierarchical_pgfault|node_memory_hierarchical_pgmajfault|node_memory_limit|node_memory_mapped_file|node_memory_max_usage|node_memory_pgfault|node_memory_pgmajfault|node_memory_request|node_memory_reserved_capacity|node_memory_rss|node_memory_swap|node_memory_usage|node_memory_utilization|node_memory_working_set|node_network_rx_bytes|node_network_rx_dropped|node_network_rx_errors|node_network_rx_packets|node_network_total_bytes|node_network_tx_bytes|node_network_tx_dropped|node_network_tx_errors|node_network_tx_packets|node_number_of_running_containers|node_number_of_running_pods|   region|\n",
      "+------------+--------------------+--------------------+--------------------+--------------------+-------------------------------+-------------------------------+-------------------+-------------------+--------------------+--------------------+--------------------+--------------------+-------------------+------------+--------------------+--------------------+-------------+----+-------+--------------------+--------------+----------------+--------------------------+---------------------+--------------------+-------------------+--------------------+-----------------+-------------------+--------------------------------+-----------------------------------+-----------------+-----------------------+---------------------+-------------------+----------------------+-------------------+-----------------------------+---------------+----------------+-----------------+-----------------------+-----------------------+---------------------+-----------------------+----------------------+-----------------------+------------------------+---------------------+-----------------------+----------------------+-----------------------+---------------------------------+---------------------------+---------+\n",
      "|346687249423|/aws/containerins...|ip-100-64-19-132....|49627967497190512...|dp-us-west-2-cont...|            2022-07-07 10:06:23|                     1657188383|2022-07-07 10:06:17|      1657188377000|36956535741443506...|nk-ndc-asbc-asg-c...|[{\"Dimensions\":[[...|nk-ndc-eks-cluste...|i-0fd528a5b4db63a58| m5.16xlarge|ip-100-64-19-132....|[\"cadvisor\",\"/pro...|1657188368827|Node|      0|{\"host\":\"ip-100-6...|         64000|            2716|                   4.24375|    405.1504517412961|   684.5653591799788|  388.0779587589941|   1.069633373718717|       5686312960|                  0|                               0|                                  0|     267384934400|              804790272|          21409251328|                  0|                     0|         3340763136|           1.2494208559268776|     2185527296|               0|       7871840256|     1.7896269925370931|             4785192960|    33970.68131851052|                      0|                     0|     138.36062323398951|       67947.01675297646|    33976.33543446595|                      0|                     0|     136.76351905177415|                               18|                         12|us-west-2|\n",
      "+------------+--------------------+--------------------+--------------------+--------------------+-------------------------------+-------------------------------+-------------------+-------------------+--------------------+--------------------+--------------------+--------------------+-------------------+------------+--------------------+--------------------+-------------+----+-------+--------------------+--------------+----------------+--------------------------+---------------------+--------------------+-------------------+--------------------+-----------------+-------------------+--------------------------------+-----------------------------------+-----------------+-----------------------+---------------------+-------------------+----------------------+-------------------+-----------------------------+---------------+----------------+-----------------+-----------------------+-----------------------+---------------------+-----------------------+----------------------+-----------------------+------------------------+---------------------+-----------------------+----------------------+-----------------------+---------------------------------+---------------------------+---------+\n",
      "only showing top 1 row\n",
      "\n"
     ]
    }
   ],
   "source": [
    "test_df.show(n=1)"
>>>>>>> Stashed changes
   ]
  },
  {
   "cell_type": "markdown",
   "id": "c42216b5-5037-4de6-baa1-fc552d8ca5e7",
   "metadata": {
    "jp-MarkdownHeadingCollapsed": true,
    "tags": []
   },
   "source": [
    "### preprocess"
   ]
  },
  {
   "cell_type": "code",
<<<<<<< Updated upstream
   "execution_count": 10,
=======
   "execution_count": 8,
>>>>>>> Stashed changes
   "id": "fc182400-684d-4301-8ecb-92bef4ffca94",
   "metadata": {
    "tags": []
   },
   "outputs": [
    {
     "ename": "AttributeError",
     "evalue": "'DataFrame' object has no attribute 'select'",
     "output_type": "error",
     "traceback": [
      "\u001b[0;31m---------------------------------------------------------------------------\u001b[0m",
      "\u001b[0;31mAttributeError\u001b[0m                            Traceback (most recent call last)",
      "\u001b[0;32m<ipython-input-10-fa8647f38323>\u001b[0m in \u001b[0;36m<module>\u001b[0;34m\u001b[0m\n\u001b[1;32m      1\u001b[0m \u001b[0mfeatures\u001b[0m \u001b[0;34m=\u001b[0m \u001b[0;34m[\u001b[0m\u001b[0;34m'node_cpu_utilization'\u001b[0m\u001b[0;34m,\u001b[0m\u001b[0;34m'node_memory_utilization'\u001b[0m\u001b[0;34m]\u001b[0m\u001b[0;34m\u001b[0m\u001b[0;34m\u001b[0m\u001b[0m\n\u001b[1;32m      2\u001b[0m \u001b[0;31m#filter inital node df based on request features\u001b[0m\u001b[0;34m\u001b[0m\u001b[0;34m\u001b[0m\u001b[0;34m\u001b[0m\u001b[0m\n\u001b[0;32m----> 3\u001b[0;31m \u001b[0mnode_df\u001b[0m \u001b[0;34m=\u001b[0m\u001b[0mdf\u001b[0m\u001b[0;34m.\u001b[0m\u001b[0mselect\u001b[0m\u001b[0;34m(\u001b[0m\u001b[0;34m\"Timestamp\"\u001b[0m\u001b[0;34m,\u001b[0m \u001b[0;34m\"NodeName\"\u001b[0m\u001b[0;34m,\u001b[0m \u001b[0;34m'node_cpu_utilization'\u001b[0m\u001b[0;34m,\u001b[0m\u001b[0;34m'node_memory_utilization'\u001b[0m\u001b[0;34m)\u001b[0m\u001b[0;34m\u001b[0m\u001b[0;34m\u001b[0m\u001b[0m\n\u001b[0m\u001b[1;32m      4\u001b[0m \u001b[0mnode_df\u001b[0m \u001b[0;34m=\u001b[0m \u001b[0mnode_df\u001b[0m\u001b[0;34m.\u001b[0m\u001b[0mwithColumn\u001b[0m\u001b[0;34m(\u001b[0m\u001b[0;34m\"Timestamp\"\u001b[0m\u001b[0;34m,\u001b[0m\u001b[0;34m(\u001b[0m\u001b[0mcol\u001b[0m\u001b[0;34m(\u001b[0m\u001b[0;34m\"Timestamp\"\u001b[0m\u001b[0;34m)\u001b[0m\u001b[0;34m/\u001b[0m\u001b[0;36m1000\u001b[0m\u001b[0;34m)\u001b[0m\u001b[0;34m.\u001b[0m\u001b[0mcast\u001b[0m\u001b[0;34m(\u001b[0m\u001b[0;34m\"timestamp\"\u001b[0m\u001b[0;34m)\u001b[0m\u001b[0;34m)\u001b[0m\u001b[0;34m\u001b[0m\u001b[0;34m\u001b[0m\u001b[0m\n\u001b[1;32m      5\u001b[0m \u001b[0;34m\u001b[0m\u001b[0m\n",
      "\u001b[0;32m/opt/conda/lib/python3.7/site-packages/pandas/core/generic.py\u001b[0m in \u001b[0;36m__getattr__\u001b[0;34m(self, name)\u001b[0m\n\u001b[1;32m   5485\u001b[0m         ):\n\u001b[1;32m   5486\u001b[0m             \u001b[0;32mreturn\u001b[0m \u001b[0mself\u001b[0m\u001b[0;34m[\u001b[0m\u001b[0mname\u001b[0m\u001b[0;34m]\u001b[0m\u001b[0;34m\u001b[0m\u001b[0;34m\u001b[0m\u001b[0m\n\u001b[0;32m-> 5487\u001b[0;31m         \u001b[0;32mreturn\u001b[0m \u001b[0mobject\u001b[0m\u001b[0;34m.\u001b[0m\u001b[0m__getattribute__\u001b[0m\u001b[0;34m(\u001b[0m\u001b[0mself\u001b[0m\u001b[0;34m,\u001b[0m \u001b[0mname\u001b[0m\u001b[0;34m)\u001b[0m\u001b[0;34m\u001b[0m\u001b[0;34m\u001b[0m\u001b[0m\n\u001b[0m\u001b[1;32m   5488\u001b[0m \u001b[0;34m\u001b[0m\u001b[0m\n\u001b[1;32m   5489\u001b[0m     \u001b[0;32mdef\u001b[0m \u001b[0m__setattr__\u001b[0m\u001b[0;34m(\u001b[0m\u001b[0mself\u001b[0m\u001b[0;34m,\u001b[0m \u001b[0mname\u001b[0m\u001b[0;34m:\u001b[0m \u001b[0mstr\u001b[0m\u001b[0;34m,\u001b[0m \u001b[0mvalue\u001b[0m\u001b[0;34m)\u001b[0m \u001b[0;34m->\u001b[0m \u001b[0;32mNone\u001b[0m\u001b[0;34m:\u001b[0m\u001b[0;34m\u001b[0m\u001b[0;34m\u001b[0m\u001b[0m\n",
      "\u001b[0;31mAttributeError\u001b[0m: 'DataFrame' object has no attribute 'select'"
     ]
    }
   ],
   "source": [
    "features = ['node_cpu_utilization','node_memory_utilization']\n",
    "#filter inital node df based on request features\n",
    "node_df =df.select(\"Timestamp\", \"NodeName\", 'node_cpu_utilization','node_memory_utilization')\n",
    "node_df = node_df.withColumn(\"Timestamp\",(col(\"Timestamp\")/1000).cast(\"timestamp\"))\n",
    "\n",
    "# Drop NA\n",
    "cleaned_node_df = node_df.na.drop(subset=features)\n",
    "\n",
    "\n",
    "#Quality(timestamp filtered) nodes\n",
    "quality_filtered_node_df = cleaned_node_df.groupBy(\"NodeName\").agg(count(\"Timestamp\").alias(\"timestamp_count\"))\n",
    "quality_filtered_nodes = quality_filtered_node_df.filter(col(\"timestamp_count\").between(45,75))\n",
    "\n",
    "print(3)\n",
    "#Processed Node DF                                                      \n",
    "processed_node_df = cleaned_node_df.filter(col(\"NodeName\").isin(quality_filtered_nodes[\"NodeName\"]))\n",
    "\n"
   ]
  },
  {
   "cell_type": "markdown",
   "id": "ecf94a6d-0178-4fd4-9761-1e61ecbc6e50",
   "metadata": {
    "jp-MarkdownHeadingCollapsed": true,
    "tags": []
   },
   "source": [
    "### split data"
   ]
  },
  {
   "cell_type": "code",
<<<<<<< Updated upstream
   "execution_count": null,
=======
   "execution_count": 9,
>>>>>>> Stashed changes
   "id": "2c35eed1-a35e-4642-a749-4b57d0f836d9",
   "metadata": {
    "tags": []
   },
   "outputs": [],
   "source": [
    "input_df, test_df = processed_node_df .randomSplit(weights=[0.8,0.2], seed=200)"
   ]
  },
  {
   "cell_type": "code",
<<<<<<< Updated upstream
   "execution_count": null,
=======
   "execution_count": 10,
>>>>>>> Stashed changes
   "id": "56538a78-b8f5-4551-9497-fe741ea9a1b1",
   "metadata": {
    "tags": []
   },
   "outputs": [],
   "source": [
    "input_df.show(n=1)"
   ]
  },
  {
   "cell_type": "markdown",
   "id": "47e33c1b-95d1-4801-a235-807179e0e555",
   "metadata": {
<<<<<<< Updated upstream
=======
    "jp-MarkdownHeadingCollapsed": true,
>>>>>>> Stashed changes
    "tags": []
   },
   "source": [
    "### feature engineering"
   ]
  },
  {
   "cell_type": "code",
<<<<<<< Updated upstream
   "execution_count": null,
=======
   "execution_count": 11,
>>>>>>> Stashed changes
   "id": "a67cd3bc-ff8d-40ba-800e-0f7b5e403991",
   "metadata": {
    "tags": []
   },
   "outputs": [],
   "source": [
    "n = 0\n",
    "samplesize =1\n",
    "time_steps=12\n",
    "final_df = np.zeros((samplesize,time_steps,len(features)+1))"
   ]
  },
  {
   "cell_type": "code",
<<<<<<< Updated upstream
   "execution_count": null,
=======
   "execution_count": 12,
>>>>>>> Stashed changes
   "id": "8f3ed0b3-e1e5-41e4-bbf0-19b948bb7f6d",
   "metadata": {
    "tags": []
   },
   "outputs": [],
   "source": [
    "from pyspark.ml.feature import VectorAssembler, StandardScaler\n",
    "from pyspark.ml import Pipeline"
   ]
  },
  {
   "cell_type": "code",
<<<<<<< Updated upstream
   "execution_count": null,
=======
   "execution_count": 13,
>>>>>>> Stashed changes
   "id": "ea31b948-8fc3-4bd7-9883-cb89029ed4e4",
   "metadata": {
    "tags": []
   },
   "outputs": [],
   "source": [
    "from pyspark.sql import Window\n",
    "from pyspark.sql import functions as F\n",
    "from pyspark.ml import Pipeline\n"
   ]
  },
  {
   "cell_type": "code",
<<<<<<< Updated upstream
   "execution_count": null,
=======
   "execution_count": 14,
>>>>>>> Stashed changes
   "id": "ac297f9f-a317-4f1f-ae76-a9f5d6f98f42",
   "metadata": {
    "tags": []
   },
   "outputs": [],
   "source": [
    "import random\n",
    "##pick random node\n",
    "random_nodename = random.choice(input_df.select(\"NodeName\").rdd.flatMap(list).collect())\n",
    "node_df = input_df[(input_df[\"NodeName\"] ==  random_nodename)][[\"Timestamp\", \"NodeName\"] + features].select('*')\n",
    "node_df = node_df.sort(\"Timestamp\")\n",
    "node_df = node_df.na.drop(subset=features)\n",
    "    \n",
    "\n",
    "\n",
    "#standardize data from the node\n",
    "\n",
    "\n",
    "w = Window.partitionBy('NodeName')\n",
    "for c in features:\n",
    "    node_df = (node_df.withColumn('mean', F.mean(c).over(w))\n",
    "        .withColumn('stddev', F.stddev(c).over(w))\n",
    "        .withColumn(c, ((F.col(c) - F.col('mean')) / (F.col('stddev'))))\n",
    "        .drop('mean')\n",
    "        .drop('stddev'))\n",
    "\n",
    "\n",
    "    "
   ]
  },
  {
   "cell_type": "code",
   "execution_count": 15,
   "id": "dff8afa1-502c-4f97-8b8e-662149a32a2b",
   "metadata": {
    "tags": []
   },
<<<<<<< Updated upstream
   "outputs": [],
=======
   "outputs": [
    {
     "data": {
      "text/plain": [
       "'/root/git/eks-ml-pipeline/notebooks'"
      ]
     },
     "execution_count": 15,
     "metadata": {},
     "output_type": "execute_result"
    }
   ],
>>>>>>> Stashed changes
   "source": [
    "pwd"
   ]
  },
  {
   "cell_type": "code",
<<<<<<< Updated upstream
   "execution_count": null,
=======
   "execution_count": 16,
>>>>>>> Stashed changes
   "id": "6458675d-fc7b-4250-a380-4e9ce324cec7",
   "metadata": {
    "tags": []
   },
<<<<<<< Updated upstream
   "outputs": [],
=======
   "outputs": [
    {
     "data": {
      "text/plain": [
       "['Timestamp', 'NodeName', 'node_cpu_utilization', 'node_memory_utilization']"
      ]
     },
     "execution_count": 16,
     "metadata": {},
     "output_type": "execute_result"
    }
   ],
>>>>>>> Stashed changes
   "source": [
    "node_df.columns"
   ]
  },
  {
   "cell_type": "code",
<<<<<<< Updated upstream
   "execution_count": null,
=======
   "execution_count": 17,
>>>>>>> Stashed changes
   "id": "a86197f6-09e5-48ea-8279-a65c39d08983",
   "metadata": {
    "tags": []
   },
   "outputs": [],
   "source": [
    "#pick random time slice of 12 timestamps from this node\n",
    "final_df = None\n",
    "start = random.choice(range(node_df.count()-time_steps))\n",
    "node_slice_df = node_df.withColumn('rn', row_number().over(Window.orderBy(\"Timestamp\"))).filter((col(\"rn\") >= start) & (col(\"rn\") < start+time_steps)).select([\"Timestamp\"] + features)\n",
    "node_uti_data = node_slice_df.select(*features).rdd.flatMap(list).collect()\n",
    "\n",
    "if not final_df:\n",
    "    final_df = node_slice_df \n",
    "else:\n",
    "    final_df = final_df.union(node_slice_df )\n"
   ]
  },
  {
   "cell_type": "code",
<<<<<<< Updated upstream
   "execution_count": null,
=======
   "execution_count": 18,
>>>>>>> Stashed changes
   "id": "2078a58e-ab69-40ba-ba76-99537274a518",
   "metadata": {
    "tags": []
   },
   "outputs": [],
   "source": [
    "final_df = final_df.groupBy(\"Timestamp\").mean()"
   ]
  },
  {
   "cell_type": "code",
<<<<<<< Updated upstream
   "execution_count": null,
=======
   "execution_count": 22,
>>>>>>> Stashed changes
   "id": "8261c468-194b-4478-9f1d-525952e103c1",
   "metadata": {
    "tags": []
   },
   "outputs": [],
   "source": [
    "final_df = final_df.withColumnRenamed(\"avg(node_cpu_utilization)\",\"node_cpu_utilization\") \\\n",
    "    .withColumnRenamed(\"avg(node_memory_utilization)\",\"node_memory_utilization\")\n",
    "    \n",
    "final_df = final_df.select(*features)\n",
    "    \n",
    "   "
   ]
  },
  {
   "cell_type": "code",
<<<<<<< Updated upstream
   "execution_count": null,
=======
   "execution_count": 23,
>>>>>>> Stashed changes
   "id": "efff14d4-b5ec-4dd3-adc1-1619a2412512",
   "metadata": {
    "tags": []
   },
<<<<<<< Updated upstream
   "outputs": [],
   "source": [
    "final_df.show(n=5,vertical=True)\n",
    "        "
   ]
  },
  {
   "cell_type": "code",
   "execution_count": null,
   "id": "fb97300a-8a26-4d45-af2e-8845ca9a46d0",
   "metadata": {},
   "outputs": [],
   "source": [
    "fianl_df"
   ]
  },
  {
   "cell_type": "code",
   "execution_count": null,
   "id": "c54f4f85-d945-44d2-b8a2-2859a41cc2fb",
   "metadata": {},
   "outputs": [],
   "source": []
  },
  {
   "cell_type": "markdown",
   "id": "0205e2c1-8069-4f0d-a5ea-0892a2dd7538",
   "metadata": {},
   "source": [
    "## Data cleaning"
   ]
  },
  {
   "cell_type": "code",
   "execution_count": null,
   "id": "e8c7f917-770c-420e-b97e-fbc83d51e694",
   "metadata": {
    "tags": []
   },
   "outputs": [],
   "source": [
    "df.head()"
   ]
  },
  {
   "cell_type": "markdown",
   "id": "d6a5bf1c-341a-4a9e-b410-17fe62395a4e",
   "metadata": {
    "jp-MarkdownHeadingCollapsed": true,
    "tags": []
   },
   "source": [
    "## model V2.0"
   ]
  },
  {
   "cell_type": "code",
   "execution_count": 4,
   "id": "ad7cddb3-2709-413f-9994-96c95ce5b763",
   "metadata": {
    "tags": []
   },
   "outputs": [],
   "source": [
    "df = pd.read_csv('one_hour.csv')"
   ]
  },
  {
   "cell_type": "code",
   "execution_count": 12,
   "id": "cd513c36-4cdf-4495-acad-76b2b2a40cbf",
   "metadata": {
    "collapsed": true,
    "jupyter": {
     "outputs_hidden": true
    },
    "tags": []
   },
   "outputs": [
    {
     "data": {
      "text/html": [
       "<div>\n",
       "<style scoped>\n",
       "    .dataframe tbody tr th:only-of-type {\n",
       "        vertical-align: middle;\n",
       "    }\n",
       "\n",
       "    .dataframe tbody tr th {\n",
       "        vertical-align: top;\n",
       "    }\n",
       "\n",
       "    .dataframe thead th {\n",
       "        text-align: right;\n",
       "    }\n",
       "</style>\n",
       "<table border=\"1\" class=\"dataframe\">\n",
       "  <thead>\n",
       "    <tr style=\"text-align: right;\">\n",
       "      <th></th>\n",
       "      <th>account_id</th>\n",
       "      <th>log_group_name</th>\n",
       "      <th>log_stream_name</th>\n",
       "      <th>record_id</th>\n",
       "      <th>stream_name</th>\n",
       "      <th>record_arrival_stream_timestamp</th>\n",
       "      <th>record_arrival_stream_epochtime</th>\n",
       "      <th>log_event_timestamp</th>\n",
       "      <th>log_event_epochtime</th>\n",
       "      <th>log_event_id</th>\n",
       "      <th>AutoScalingGroupName</th>\n",
       "      <th>CloudWatchMetrics</th>\n",
       "      <th>ClusterName</th>\n",
       "      <th>InstanceId</th>\n",
       "      <th>InstanceType</th>\n",
       "      <th>NodeName</th>\n",
       "      <th>Sources</th>\n",
       "      <th>Timestamp</th>\n",
       "      <th>Type</th>\n",
       "      <th>Version</th>\n",
       "      <th>kubernetes</th>\n",
       "      <th>node_cpu_limit</th>\n",
       "      <th>node_cpu_request</th>\n",
       "      <th>node_cpu_reserved_capacity</th>\n",
       "      <th>node_cpu_usage_system</th>\n",
       "      <th>node_cpu_usage_total</th>\n",
       "      <th>node_cpu_usage_user</th>\n",
       "      <th>node_cpu_utilization</th>\n",
       "      <th>node_memory_cache</th>\n",
       "      <th>node_memory_failcnt</th>\n",
       "      <th>node_memory_hierarchical_pgfault</th>\n",
       "      <th>node_memory_hierarchical_pgmajfault</th>\n",
       "      <th>node_memory_limit</th>\n",
       "      <th>node_memory_mapped_file</th>\n",
       "      <th>node_memory_max_usage</th>\n",
       "      <th>node_memory_pgfault</th>\n",
       "      <th>node_memory_pgmajfault</th>\n",
       "      <th>node_memory_request</th>\n",
       "      <th>node_memory_reserved_capacity</th>\n",
       "      <th>node_memory_rss</th>\n",
       "      <th>node_memory_swap</th>\n",
       "      <th>node_memory_usage</th>\n",
       "      <th>node_memory_utilization</th>\n",
       "      <th>node_memory_working_set</th>\n",
       "      <th>node_network_rx_bytes</th>\n",
       "      <th>node_network_rx_dropped</th>\n",
       "      <th>node_network_rx_errors</th>\n",
       "      <th>node_network_rx_packets</th>\n",
       "      <th>node_network_total_bytes</th>\n",
       "      <th>node_network_tx_bytes</th>\n",
       "      <th>node_network_tx_dropped</th>\n",
       "      <th>node_network_tx_errors</th>\n",
       "      <th>node_network_tx_packets</th>\n",
       "      <th>node_number_of_running_containers</th>\n",
       "      <th>node_number_of_running_pods</th>\n",
       "      <th>region</th>\n",
       "    </tr>\n",
       "  </thead>\n",
       "  <tbody>\n",
       "    <tr>\n",
       "      <th>0</th>\n",
       "      <td>346687249423</td>\n",
       "      <td>/aws/containerinsights/nk-ndc-eks-cluster-test...</td>\n",
       "      <td>ip-100-64-19-132.us-west-2.compute.internal</td>\n",
       "      <td>4962796749719051212894665848731042236882148557...</td>\n",
       "      <td>dp-us-west-2-container-insights-performance-me...</td>\n",
       "      <td>2022-07-07 10:06:23</td>\n",
       "      <td>1657188383</td>\n",
       "      <td>2022-07-07 10:06:17</td>\n",
       "      <td>1657188377000</td>\n",
       "      <td>3695653574144350615072363607584040779097551619...</td>\n",
       "      <td>nk-ndc-asbc-asg-cicdtest-usw2-az2-perf-0</td>\n",
       "      <td>[{\"Dimensions\":[[\"NodeName\",\"InstanceId\",\"Clus...</td>\n",
       "      <td>nk-ndc-eks-cluster-test-dev-usw2-az2-perf</td>\n",
       "      <td>i-0fd528a5b4db63a58</td>\n",
       "      <td>m5.16xlarge</td>\n",
       "      <td>ip-100-64-19-132.us-west-2.compute.internal</td>\n",
       "      <td>[\"cadvisor\",\"/proc\",\"pod\",\"calculated\"]</td>\n",
       "      <td>1657188368827</td>\n",
       "      <td>Node</td>\n",
       "      <td>0</td>\n",
       "      <td>{\"host\":\"ip-100-64-19-132.us-west-2.compute.in...</td>\n",
       "      <td>64000.0</td>\n",
       "      <td>2716.0</td>\n",
       "      <td>4.243750</td>\n",
       "      <td>405.150452</td>\n",
       "      <td>684.565359</td>\n",
       "      <td>388.077959</td>\n",
       "      <td>1.069633</td>\n",
       "      <td>5686312960</td>\n",
       "      <td>0</td>\n",
       "      <td>0.0</td>\n",
       "      <td>0.0</td>\n",
       "      <td>267384934400</td>\n",
       "      <td>804790272</td>\n",
       "      <td>21409251328</td>\n",
       "      <td>0.0</td>\n",
       "      <td>0.0</td>\n",
       "      <td>3340763136</td>\n",
       "      <td>1.249421</td>\n",
       "      <td>2185527296</td>\n",
       "      <td>0</td>\n",
       "      <td>7871840256</td>\n",
       "      <td>1.789627</td>\n",
       "      <td>4785192960</td>\n",
       "      <td>33970.681319</td>\n",
       "      <td>0.0</td>\n",
       "      <td>0.0</td>\n",
       "      <td>138.360623</td>\n",
       "      <td>6.794702e+04</td>\n",
       "      <td>33976.335434</td>\n",
       "      <td>0.0</td>\n",
       "      <td>0.0</td>\n",
       "      <td>136.763519</td>\n",
       "      <td>18</td>\n",
       "      <td>12</td>\n",
       "      <td>us-west-2</td>\n",
       "    </tr>\n",
       "    <tr>\n",
       "      <th>1</th>\n",
       "      <td>866535947663</td>\n",
       "      <td>/aws/containerinsights/mt-ndc-eks-cluster-dev-...</td>\n",
       "      <td>ip-172-24-67-95.ec2.internal</td>\n",
       "      <td>4962796749719051212894665848741318106348872912...</td>\n",
       "      <td>dp-us-west-2-container-insights-performance-me...</td>\n",
       "      <td>2022-07-07 10:06:24</td>\n",
       "      <td>1657188384</td>\n",
       "      <td>2022-07-07 10:06:19</td>\n",
       "      <td>1657188379000</td>\n",
       "      <td>3695653578604499654778488236066210175310495798...</td>\n",
       "      <td>mt-ndc-chf-asg-dev-ASG01-non-multus</td>\n",
       "      <td>[{\"Dimensions\":[[\"NodeName\",\"InstanceId\",\"Clus...</td>\n",
       "      <td>mt-ndc-eks-cluster-dev-dev-e1-cluster</td>\n",
       "      <td>i-0f83dfb0d9ea9120a</td>\n",
       "      <td>m5.4xlarge</td>\n",
       "      <td>ip-172-24-67-95.ec2.internal</td>\n",
       "      <td>[\"cadvisor\",\"/proc\",\"pod\",\"calculated\"]</td>\n",
       "      <td>1657188370769</td>\n",
       "      <td>Node</td>\n",
       "      <td>0</td>\n",
       "      <td>{\"host\":\"ip-172-24-67-95.ec2.internal\"}</td>\n",
       "      <td>16000.0</td>\n",
       "      <td>1681.0</td>\n",
       "      <td>10.506250</td>\n",
       "      <td>27.218900</td>\n",
       "      <td>82.893135</td>\n",
       "      <td>51.012905</td>\n",
       "      <td>0.518082</td>\n",
       "      <td>4468023296</td>\n",
       "      <td>0</td>\n",
       "      <td>0.0</td>\n",
       "      <td>0.0</td>\n",
       "      <td>65899286528</td>\n",
       "      <td>585142272</td>\n",
       "      <td>5688471552</td>\n",
       "      <td>0.0</td>\n",
       "      <td>0.0</td>\n",
       "      <td>1166016512</td>\n",
       "      <td>1.769392</td>\n",
       "      <td>546852864</td>\n",
       "      <td>0</td>\n",
       "      <td>5014876160</td>\n",
       "      <td>2.020823</td>\n",
       "      <td>1331707904</td>\n",
       "      <td>8701.016984</td>\n",
       "      <td>0.0</td>\n",
       "      <td>0.0</td>\n",
       "      <td>38.809464</td>\n",
       "      <td>2.256991e+04</td>\n",
       "      <td>13868.894612</td>\n",
       "      <td>0.0</td>\n",
       "      <td>0.0</td>\n",
       "      <td>38.070408</td>\n",
       "      <td>15</td>\n",
       "      <td>11</td>\n",
       "      <td>us-west-2</td>\n",
       "    </tr>\n",
       "    <tr>\n",
       "      <th>2</th>\n",
       "      <td>294485975972</td>\n",
       "      <td>/aws/containerinsights/mv-ndc-eks-cluster-dev-...</td>\n",
       "      <td>ip-172-16-50-125.us-west-2.compute.internal</td>\n",
       "      <td>4962796749719051212894665848743252387660256319...</td>\n",
       "      <td>dp-us-west-2-container-insights-performance-me...</td>\n",
       "      <td>2022-07-07 10:06:25</td>\n",
       "      <td>1657188385</td>\n",
       "      <td>2022-07-07 10:06:20</td>\n",
       "      <td>1657188380000</td>\n",
       "      <td>3695653580834574174631550550298854738425925581...</td>\n",
       "      <td>mv-ndc-scyla-asg-dev-usw2b-01-ASGusw2b-01</td>\n",
       "      <td>[{\"Dimensions\":[[\"NodeName\",\"InstanceId\",\"Clus...</td>\n",
       "      <td>mv-ndc-eks-cluster-dev-vmas-usw2-01</td>\n",
       "      <td>i-0294f49d42a8a6084</td>\n",
       "      <td>m5n.16xlarge</td>\n",
       "      <td>ip-172-16-50-125.us-west-2.compute.internal</td>\n",
       "      <td>[\"cadvisor\",\"/proc\",\"pod\",\"calculated\"]</td>\n",
       "      <td>1657188378585</td>\n",
       "      <td>Node</td>\n",
       "      <td>0</td>\n",
       "      <td>{\"host\":\"ip-172-16-50-125.us-west-2.compute.in...</td>\n",
       "      <td>64000.0</td>\n",
       "      <td>17266.0</td>\n",
       "      <td>26.978125</td>\n",
       "      <td>79.040780</td>\n",
       "      <td>276.004781</td>\n",
       "      <td>163.460517</td>\n",
       "      <td>0.431257</td>\n",
       "      <td>5378805760</td>\n",
       "      <td>0</td>\n",
       "      <td>0.0</td>\n",
       "      <td>0.0</td>\n",
       "      <td>267384934400</td>\n",
       "      <td>850206720</td>\n",
       "      <td>20248190976</td>\n",
       "      <td>0.0</td>\n",
       "      <td>0.0</td>\n",
       "      <td>69675778048</td>\n",
       "      <td>26.058229</td>\n",
       "      <td>5288857600</td>\n",
       "      <td>0</td>\n",
       "      <td>10667663360</td>\n",
       "      <td>2.965135</td>\n",
       "      <td>7928324096</td>\n",
       "      <td>29761.632839</td>\n",
       "      <td>0.0</td>\n",
       "      <td>0.0</td>\n",
       "      <td>77.710982</td>\n",
       "      <td>7.354837e+04</td>\n",
       "      <td>43786.739429</td>\n",
       "      <td>0.0</td>\n",
       "      <td>0.0</td>\n",
       "      <td>71.868838</td>\n",
       "      <td>15</td>\n",
       "      <td>11</td>\n",
       "      <td>us-west-2</td>\n",
       "    </tr>\n",
       "    <tr>\n",
       "      <th>3</th>\n",
       "      <td>237450111201</td>\n",
       "      <td>/aws/containerinsights/oracle-ndc-eks-cluster-...</td>\n",
       "      <td>ip-172-16-69-112.us-west-2.compute.internal</td>\n",
       "      <td>4962796749719051212894665848759210208479169451...</td>\n",
       "      <td>dp-us-west-2-container-insights-performance-me...</td>\n",
       "      <td>2022-07-07 10:06:27</td>\n",
       "      <td>1657188387</td>\n",
       "      <td>2022-07-07 10:06:22</td>\n",
       "      <td>1657188382000</td>\n",
       "      <td>3695653585294723214337675178925773512103829067...</td>\n",
       "      <td>oracle-ndc-infra-asg-sbox-ng-ibm-sbx-0</td>\n",
       "      <td>[{\"Dimensions\":[[\"NodeName\",\"InstanceId\",\"Clus...</td>\n",
       "      <td>oracle-ndc-eks-cluster-sbox-ibm-sbx</td>\n",
       "      <td>i-0135cde94606361ca</td>\n",
       "      <td>m5.16xlarge</td>\n",
       "      <td>ip-172-16-69-112.us-west-2.compute.internal</td>\n",
       "      <td>[\"cadvisor\",\"/proc\",\"pod\",\"calculated\"]</td>\n",
       "      <td>1657188380656</td>\n",
       "      <td>Node</td>\n",
       "      <td>0</td>\n",
       "      <td>{\"host\":\"ip-172-16-69-112.us-west-2.compute.in...</td>\n",
       "      <td>64000.0</td>\n",
       "      <td>40766.0</td>\n",
       "      <td>63.696875</td>\n",
       "      <td>248.671939</td>\n",
       "      <td>894.585419</td>\n",
       "      <td>561.447354</td>\n",
       "      <td>1.397790</td>\n",
       "      <td>21098795008</td>\n",
       "      <td>0</td>\n",
       "      <td>0.0</td>\n",
       "      <td>0.0</td>\n",
       "      <td>267386232832</td>\n",
       "      <td>1019977728</td>\n",
       "      <td>63987814400</td>\n",
       "      <td>0.0</td>\n",
       "      <td>0.0</td>\n",
       "      <td>53691285504</td>\n",
       "      <td>20.080049</td>\n",
       "      <td>22597332992</td>\n",
       "      <td>0</td>\n",
       "      <td>43696128000</td>\n",
       "      <td>9.349722</td>\n",
       "      <td>24999870464</td>\n",
       "      <td>436164.650350</td>\n",
       "      <td>0.0</td>\n",
       "      <td>0.0</td>\n",
       "      <td>3176.621437</td>\n",
       "      <td>1.094378e+06</td>\n",
       "      <td>658213.021980</td>\n",
       "      <td>0.0</td>\n",
       "      <td>0.0</td>\n",
       "      <td>3197.524745</td>\n",
       "      <td>30</td>\n",
       "      <td>18</td>\n",
       "      <td>us-west-2</td>\n",
       "    </tr>\n",
       "    <tr>\n",
       "      <th>4</th>\n",
       "      <td>700642182785</td>\n",
       "      <td>/aws/containerinsights/am-ndc-eks-cluster-dev-...</td>\n",
       "      <td>ip-172-27-0-180.ec2.internal</td>\n",
       "      <td>4962796749719051212894665848762836985938013339...</td>\n",
       "      <td>dp-us-west-2-container-insights-performance-me...</td>\n",
       "      <td>2022-07-07 10:06:28</td>\n",
       "      <td>1657188388</td>\n",
       "      <td>2022-07-07 10:06:22</td>\n",
       "      <td>1657188382000</td>\n",
       "      <td>3695653585294723214337675178958007915699630216...</td>\n",
       "      <td>am-ndc-chf-asg-dev-02-ASG02</td>\n",
       "      <td>[{\"Dimensions\":[[\"NodeName\",\"InstanceId\",\"Clus...</td>\n",
       "      <td>am-ndc-eks-cluster-dev-am-use1-02</td>\n",
       "      <td>i-052ff6e758e5066a8</td>\n",
       "      <td>m5.4xlarge</td>\n",
       "      <td>ip-172-27-0-180.ec2.internal</td>\n",
       "      <td>[\"cadvisor\",\"/proc\",\"pod\",\"calculated\"]</td>\n",
       "      <td>1657188381211</td>\n",
       "      <td>Node</td>\n",
       "      <td>0</td>\n",
       "      <td>{\"host\":\"ip-172-27-0-180.ec2.internal\"}</td>\n",
       "      <td>16000.0</td>\n",
       "      <td>1816.0</td>\n",
       "      <td>11.350000</td>\n",
       "      <td>28.272837</td>\n",
       "      <td>103.071248</td>\n",
       "      <td>59.743197</td>\n",
       "      <td>0.644195</td>\n",
       "      <td>11271614464</td>\n",
       "      <td>0</td>\n",
       "      <td>0.0</td>\n",
       "      <td>0.0</td>\n",
       "      <td>66607185920</td>\n",
       "      <td>771944448</td>\n",
       "      <td>20818436096</td>\n",
       "      <td>0.0</td>\n",
       "      <td>0.0</td>\n",
       "      <td>5255462912</td>\n",
       "      <td>7.890234</td>\n",
       "      <td>7825780736</td>\n",
       "      <td>0</td>\n",
       "      <td>19097395200</td>\n",
       "      <td>14.654528</td>\n",
       "      <td>9760968704</td>\n",
       "      <td>13603.711110</td>\n",
       "      <td>0.0</td>\n",
       "      <td>0.0</td>\n",
       "      <td>45.085078</td>\n",
       "      <td>2.950464e+04</td>\n",
       "      <td>15900.929601</td>\n",
       "      <td>0.0</td>\n",
       "      <td>0.0</td>\n",
       "      <td>45.488975</td>\n",
       "      <td>17</td>\n",
       "      <td>13</td>\n",
       "      <td>us-west-2</td>\n",
       "    </tr>\n",
       "  </tbody>\n",
       "</table>\n",
       "</div>"
      ],
      "text/plain": [
       "     account_id                                     log_group_name  \\\n",
       "0  346687249423  /aws/containerinsights/nk-ndc-eks-cluster-test...   \n",
       "1  866535947663  /aws/containerinsights/mt-ndc-eks-cluster-dev-...   \n",
       "2  294485975972  /aws/containerinsights/mv-ndc-eks-cluster-dev-...   \n",
       "3  237450111201  /aws/containerinsights/oracle-ndc-eks-cluster-...   \n",
       "4  700642182785  /aws/containerinsights/am-ndc-eks-cluster-dev-...   \n",
       "\n",
       "                               log_stream_name  \\\n",
       "0  ip-100-64-19-132.us-west-2.compute.internal   \n",
       "1                 ip-172-24-67-95.ec2.internal   \n",
       "2  ip-172-16-50-125.us-west-2.compute.internal   \n",
       "3  ip-172-16-69-112.us-west-2.compute.internal   \n",
       "4                 ip-172-27-0-180.ec2.internal   \n",
       "\n",
       "                                           record_id  \\\n",
       "0  4962796749719051212894665848731042236882148557...   \n",
       "1  4962796749719051212894665848741318106348872912...   \n",
       "2  4962796749719051212894665848743252387660256319...   \n",
       "3  4962796749719051212894665848759210208479169451...   \n",
       "4  4962796749719051212894665848762836985938013339...   \n",
       "\n",
       "                                         stream_name  \\\n",
       "0  dp-us-west-2-container-insights-performance-me...   \n",
       "1  dp-us-west-2-container-insights-performance-me...   \n",
       "2  dp-us-west-2-container-insights-performance-me...   \n",
       "3  dp-us-west-2-container-insights-performance-me...   \n",
       "4  dp-us-west-2-container-insights-performance-me...   \n",
       "\n",
       "  record_arrival_stream_timestamp  record_arrival_stream_epochtime  \\\n",
       "0             2022-07-07 10:06:23                       1657188383   \n",
       "1             2022-07-07 10:06:24                       1657188384   \n",
       "2             2022-07-07 10:06:25                       1657188385   \n",
       "3             2022-07-07 10:06:27                       1657188387   \n",
       "4             2022-07-07 10:06:28                       1657188388   \n",
       "\n",
       "  log_event_timestamp  log_event_epochtime  \\\n",
       "0 2022-07-07 10:06:17        1657188377000   \n",
       "1 2022-07-07 10:06:19        1657188379000   \n",
       "2 2022-07-07 10:06:20        1657188380000   \n",
       "3 2022-07-07 10:06:22        1657188382000   \n",
       "4 2022-07-07 10:06:22        1657188382000   \n",
       "\n",
       "                                        log_event_id  \\\n",
       "0  3695653574144350615072363607584040779097551619...   \n",
       "1  3695653578604499654778488236066210175310495798...   \n",
       "2  3695653580834574174631550550298854738425925581...   \n",
       "3  3695653585294723214337675178925773512103829067...   \n",
       "4  3695653585294723214337675178958007915699630216...   \n",
       "\n",
       "                        AutoScalingGroupName  \\\n",
       "0   nk-ndc-asbc-asg-cicdtest-usw2-az2-perf-0   \n",
       "1        mt-ndc-chf-asg-dev-ASG01-non-multus   \n",
       "2  mv-ndc-scyla-asg-dev-usw2b-01-ASGusw2b-01   \n",
       "3     oracle-ndc-infra-asg-sbox-ng-ibm-sbx-0   \n",
       "4                am-ndc-chf-asg-dev-02-ASG02   \n",
       "\n",
       "                                   CloudWatchMetrics  \\\n",
       "0  [{\"Dimensions\":[[\"NodeName\",\"InstanceId\",\"Clus...   \n",
       "1  [{\"Dimensions\":[[\"NodeName\",\"InstanceId\",\"Clus...   \n",
       "2  [{\"Dimensions\":[[\"NodeName\",\"InstanceId\",\"Clus...   \n",
       "3  [{\"Dimensions\":[[\"NodeName\",\"InstanceId\",\"Clus...   \n",
       "4  [{\"Dimensions\":[[\"NodeName\",\"InstanceId\",\"Clus...   \n",
       "\n",
       "                                 ClusterName           InstanceId  \\\n",
       "0  nk-ndc-eks-cluster-test-dev-usw2-az2-perf  i-0fd528a5b4db63a58   \n",
       "1      mt-ndc-eks-cluster-dev-dev-e1-cluster  i-0f83dfb0d9ea9120a   \n",
       "2        mv-ndc-eks-cluster-dev-vmas-usw2-01  i-0294f49d42a8a6084   \n",
       "3        oracle-ndc-eks-cluster-sbox-ibm-sbx  i-0135cde94606361ca   \n",
       "4          am-ndc-eks-cluster-dev-am-use1-02  i-052ff6e758e5066a8   \n",
       "\n",
       "   InstanceType                                     NodeName  \\\n",
       "0   m5.16xlarge  ip-100-64-19-132.us-west-2.compute.internal   \n",
       "1    m5.4xlarge                 ip-172-24-67-95.ec2.internal   \n",
       "2  m5n.16xlarge  ip-172-16-50-125.us-west-2.compute.internal   \n",
       "3   m5.16xlarge  ip-172-16-69-112.us-west-2.compute.internal   \n",
       "4    m5.4xlarge                 ip-172-27-0-180.ec2.internal   \n",
       "\n",
       "                                   Sources      Timestamp  Type Version  \\\n",
       "0  [\"cadvisor\",\"/proc\",\"pod\",\"calculated\"]  1657188368827  Node       0   \n",
       "1  [\"cadvisor\",\"/proc\",\"pod\",\"calculated\"]  1657188370769  Node       0   \n",
       "2  [\"cadvisor\",\"/proc\",\"pod\",\"calculated\"]  1657188378585  Node       0   \n",
       "3  [\"cadvisor\",\"/proc\",\"pod\",\"calculated\"]  1657188380656  Node       0   \n",
       "4  [\"cadvisor\",\"/proc\",\"pod\",\"calculated\"]  1657188381211  Node       0   \n",
       "\n",
       "                                          kubernetes  node_cpu_limit  \\\n",
       "0  {\"host\":\"ip-100-64-19-132.us-west-2.compute.in...         64000.0   \n",
       "1            {\"host\":\"ip-172-24-67-95.ec2.internal\"}         16000.0   \n",
       "2  {\"host\":\"ip-172-16-50-125.us-west-2.compute.in...         64000.0   \n",
       "3  {\"host\":\"ip-172-16-69-112.us-west-2.compute.in...         64000.0   \n",
       "4            {\"host\":\"ip-172-27-0-180.ec2.internal\"}         16000.0   \n",
       "\n",
       "   node_cpu_request  node_cpu_reserved_capacity  node_cpu_usage_system  \\\n",
       "0            2716.0                    4.243750             405.150452   \n",
       "1            1681.0                   10.506250              27.218900   \n",
       "2           17266.0                   26.978125              79.040780   \n",
       "3           40766.0                   63.696875             248.671939   \n",
       "4            1816.0                   11.350000              28.272837   \n",
       "\n",
       "   node_cpu_usage_total  node_cpu_usage_user  node_cpu_utilization  \\\n",
       "0            684.565359           388.077959              1.069633   \n",
       "1             82.893135            51.012905              0.518082   \n",
       "2            276.004781           163.460517              0.431257   \n",
       "3            894.585419           561.447354              1.397790   \n",
       "4            103.071248            59.743197              0.644195   \n",
       "\n",
       "   node_memory_cache  node_memory_failcnt  node_memory_hierarchical_pgfault  \\\n",
       "0         5686312960                    0                               0.0   \n",
       "1         4468023296                    0                               0.0   \n",
       "2         5378805760                    0                               0.0   \n",
       "3        21098795008                    0                               0.0   \n",
       "4        11271614464                    0                               0.0   \n",
       "\n",
       "   node_memory_hierarchical_pgmajfault  node_memory_limit  \\\n",
       "0                                  0.0       267384934400   \n",
       "1                                  0.0        65899286528   \n",
       "2                                  0.0       267384934400   \n",
       "3                                  0.0       267386232832   \n",
       "4                                  0.0        66607185920   \n",
       "\n",
       "   node_memory_mapped_file  node_memory_max_usage  node_memory_pgfault  \\\n",
       "0                804790272            21409251328                  0.0   \n",
       "1                585142272             5688471552                  0.0   \n",
       "2                850206720            20248190976                  0.0   \n",
       "3               1019977728            63987814400                  0.0   \n",
       "4                771944448            20818436096                  0.0   \n",
       "\n",
       "   node_memory_pgmajfault  node_memory_request  node_memory_reserved_capacity  \\\n",
       "0                     0.0           3340763136                       1.249421   \n",
       "1                     0.0           1166016512                       1.769392   \n",
       "2                     0.0          69675778048                      26.058229   \n",
       "3                     0.0          53691285504                      20.080049   \n",
       "4                     0.0           5255462912                       7.890234   \n",
       "\n",
       "   node_memory_rss  node_memory_swap  node_memory_usage  \\\n",
       "0       2185527296                 0         7871840256   \n",
       "1        546852864                 0         5014876160   \n",
       "2       5288857600                 0        10667663360   \n",
       "3      22597332992                 0        43696128000   \n",
       "4       7825780736                 0        19097395200   \n",
       "\n",
       "   node_memory_utilization  node_memory_working_set  node_network_rx_bytes  \\\n",
       "0                 1.789627               4785192960           33970.681319   \n",
       "1                 2.020823               1331707904            8701.016984   \n",
       "2                 2.965135               7928324096           29761.632839   \n",
       "3                 9.349722              24999870464          436164.650350   \n",
       "4                14.654528               9760968704           13603.711110   \n",
       "\n",
       "   node_network_rx_dropped  node_network_rx_errors  node_network_rx_packets  \\\n",
       "0                      0.0                     0.0               138.360623   \n",
       "1                      0.0                     0.0                38.809464   \n",
       "2                      0.0                     0.0                77.710982   \n",
       "3                      0.0                     0.0              3176.621437   \n",
       "4                      0.0                     0.0                45.085078   \n",
       "\n",
       "   node_network_total_bytes  node_network_tx_bytes  node_network_tx_dropped  \\\n",
       "0              6.794702e+04           33976.335434                      0.0   \n",
       "1              2.256991e+04           13868.894612                      0.0   \n",
       "2              7.354837e+04           43786.739429                      0.0   \n",
       "3              1.094378e+06          658213.021980                      0.0   \n",
       "4              2.950464e+04           15900.929601                      0.0   \n",
       "\n",
       "   node_network_tx_errors  node_network_tx_packets  \\\n",
       "0                     0.0               136.763519   \n",
       "1                     0.0                38.070408   \n",
       "2                     0.0                71.868838   \n",
       "3                     0.0              3197.524745   \n",
       "4                     0.0                45.488975   \n",
       "\n",
       "   node_number_of_running_containers  node_number_of_running_pods     region  \n",
       "0                                 18                           12  us-west-2  \n",
       "1                                 15                           11  us-west-2  \n",
       "2                                 15                           11  us-west-2  \n",
       "3                                 30                           18  us-west-2  \n",
       "4                                 17                           13  us-west-2  "
      ]
     },
     "execution_count": 12,
     "metadata": {},
     "output_type": "execute_result"
    }
   ],
   "source": [
    "df.head()"
   ]
  },
  {
   "cell_type": "code",
   "execution_count": 34,
   "id": "a73c5bb0-17c0-4d0d-ac06-eb339509ae34",
   "metadata": {
    "tags": []
   },
   "outputs": [],
   "source": [
    "import datetime\n",
    "\n",
    "df = df[['Timestamp','InstanceId','node_cpu_utilization','node_memory_utilization']]\n",
    "df = df.dropna(subset=['node_cpu_utilization','node_memory_utilization'])\n",
    "df['Datetime'] = df['Timestamp'].apply(lambda x: datetime.datetime.fromtimestamp(int(x)/1000))\n",
    "ls = df.groupby([df.InstanceId]).count().reset_index()\n",
    "instancelist = ls[(ls.Datetime>=45)&(ls.Datetime<=75)].InstanceId.to_list()\n"
   ]
  },
  {
   "cell_type": "code",
   "execution_count": 36,
   "id": "df1ed2fe-cae5-475a-a10c-e3bf21081e04",
   "metadata": {
    "tags": []
   },
=======
>>>>>>> Stashed changes
   "outputs": [
    {
     "name": "stdout",
     "output_type": "stream",
     "text": [
<<<<<<< Updated upstream
      "CPU times: user 298 ms, sys: 0 ns, total: 298 ms\n",
      "Wall time: 296 ms\n"
=======
      "-RECORD 0--------------------------------------\n",
      " node_cpu_utilization    | -1.132031511668422  \n",
      " node_memory_utilization | -0.1940268435779545 \n",
      "-RECORD 1--------------------------------------\n",
      " node_cpu_utilization    | -1.673174629623677  \n",
      " node_memory_utilization | 1.3762219353132332  \n",
      "-RECORD 2--------------------------------------\n",
      " node_cpu_utilization    | 0.6090618475177498  \n",
      " node_memory_utilization | 2.088512458442813   \n",
      "-RECORD 3--------------------------------------\n",
      " node_cpu_utilization    | -0.1338204951719944 \n",
      " node_memory_utilization | -0.3236464361751247 \n",
      "-RECORD 4--------------------------------------\n",
      " node_cpu_utilization    | 0.9987468781028935  \n",
      " node_memory_utilization | 0.331858360673299   \n",
      "only showing top 5 rows\n",
      "\n"
>>>>>>> Stashed changes
     ]
    }
   ],
   "source": [
<<<<<<< Updated upstream
    "%%time\n",
    "df['split'] = df['InstanceId'].apply(lambda x:x in instancelist)"
=======
    "final_df.show(n=5,vertical=True)\n",
    "        "
>>>>>>> Stashed changes
   ]
  },
  {
   "cell_type": "code",
<<<<<<< Updated upstream
   "execution_count": 38,
   "id": "4a4e4ddb-a53c-4a39-b335-b46ac811e18e",
=======
   "execution_count": null,
   "id": "fb97300a-8a26-4d45-af2e-8845ca9a46d0",
   "metadata": {},
   "outputs": [],
   "source": [
    "fianl_df"
   ]
  },
  {
   "cell_type": "markdown",
   "id": "0205e2c1-8069-4f0d-a5ea-0892a2dd7538",
   "metadata": {},
   "source": [
    "## Data cleaning"
   ]
  },
  {
   "cell_type": "code",
   "execution_count": 7,
   "id": "e8c7f917-770c-420e-b97e-fbc83d51e694",
   "metadata": {
    "tags": []
   },
   "outputs": [
    {
     "data": {
      "text/html": [
       "<div>\n",
       "<style scoped>\n",
       "    .dataframe tbody tr th:only-of-type {\n",
       "        vertical-align: middle;\n",
       "    }\n",
       "\n",
       "    .dataframe tbody tr th {\n",
       "        vertical-align: top;\n",
       "    }\n",
       "\n",
       "    .dataframe thead th {\n",
       "        text-align: right;\n",
       "    }\n",
       "</style>\n",
       "<table border=\"1\" class=\"dataframe\">\n",
       "  <thead>\n",
       "    <tr style=\"text-align: right;\">\n",
       "      <th></th>\n",
       "      <th>account_id</th>\n",
       "      <th>log_group_name</th>\n",
       "      <th>log_stream_name</th>\n",
       "      <th>record_id</th>\n",
       "      <th>stream_name</th>\n",
       "      <th>record_arrival_stream_timestamp</th>\n",
       "      <th>record_arrival_stream_epochtime</th>\n",
       "      <th>log_event_timestamp</th>\n",
       "      <th>log_event_epochtime</th>\n",
       "      <th>log_event_id</th>\n",
       "      <th>AutoScalingGroupName</th>\n",
       "      <th>CloudWatchMetrics</th>\n",
       "      <th>ClusterName</th>\n",
       "      <th>InstanceId</th>\n",
       "      <th>InstanceType</th>\n",
       "      <th>NodeName</th>\n",
       "      <th>Sources</th>\n",
       "      <th>Timestamp</th>\n",
       "      <th>Type</th>\n",
       "      <th>Version</th>\n",
       "      <th>kubernetes</th>\n",
       "      <th>node_cpu_limit</th>\n",
       "      <th>node_cpu_request</th>\n",
       "      <th>node_cpu_reserved_capacity</th>\n",
       "      <th>node_cpu_usage_system</th>\n",
       "      <th>node_cpu_usage_total</th>\n",
       "      <th>node_cpu_usage_user</th>\n",
       "      <th>node_cpu_utilization</th>\n",
       "      <th>node_memory_cache</th>\n",
       "      <th>node_memory_failcnt</th>\n",
       "      <th>node_memory_hierarchical_pgfault</th>\n",
       "      <th>node_memory_hierarchical_pgmajfault</th>\n",
       "      <th>node_memory_limit</th>\n",
       "      <th>node_memory_mapped_file</th>\n",
       "      <th>node_memory_max_usage</th>\n",
       "      <th>node_memory_pgfault</th>\n",
       "      <th>node_memory_pgmajfault</th>\n",
       "      <th>node_memory_request</th>\n",
       "      <th>node_memory_reserved_capacity</th>\n",
       "      <th>node_memory_rss</th>\n",
       "      <th>node_memory_swap</th>\n",
       "      <th>node_memory_usage</th>\n",
       "      <th>node_memory_utilization</th>\n",
       "      <th>node_memory_working_set</th>\n",
       "      <th>node_network_rx_bytes</th>\n",
       "      <th>node_network_rx_dropped</th>\n",
       "      <th>node_network_rx_errors</th>\n",
       "      <th>node_network_rx_packets</th>\n",
       "      <th>node_network_total_bytes</th>\n",
       "      <th>node_network_tx_bytes</th>\n",
       "      <th>node_network_tx_dropped</th>\n",
       "      <th>node_network_tx_errors</th>\n",
       "      <th>node_network_tx_packets</th>\n",
       "      <th>node_number_of_running_containers</th>\n",
       "      <th>node_number_of_running_pods</th>\n",
       "      <th>region</th>\n",
       "    </tr>\n",
       "  </thead>\n",
       "  <tbody>\n",
       "    <tr>\n",
       "      <th>0</th>\n",
       "      <td>193670463418</td>\n",
       "      <td>/aws/containerinsights/cs-ndc-eks-cluster-dev-...</td>\n",
       "      <td>ip-172-24-28-241.ec2.internal</td>\n",
       "      <td>4962796749719051212894666042192660620426313056...</td>\n",
       "      <td>dp-us-west-2-container-insights-performance-me...</td>\n",
       "      <td>2022-07-07 17:01:53</td>\n",
       "      <td>1657213313</td>\n",
       "      <td>2022-07-07 17:01:48</td>\n",
       "      <td>1657213308000</td>\n",
       "      <td>3695709172132205071768920784118144680167293892...</td>\n",
       "      <td>cs-ndc-viafm-asg-dev-ASGvia01-worker</td>\n",
       "      <td>[{\"Dimensions\":[[\"NodeName\",\"InstanceId\",\"Clus...</td>\n",
       "      <td>cs-ndc-eks-cluster-dev-sdnc-eks</td>\n",
       "      <td>i-003af3c608a801ece</td>\n",
       "      <td>m5.24xlarge</td>\n",
       "      <td>ip-172-24-28-241.ec2.internal</td>\n",
       "      <td>[\"cadvisor\",\"/proc\",\"pod\",\"calculated\"]</td>\n",
       "      <td>1657213302144</td>\n",
       "      <td>Node</td>\n",
       "      <td>0</td>\n",
       "      <td>{\"host\":\"ip-172-24-28-241.ec2.internal\"}</td>\n",
       "      <td>96000.0</td>\n",
       "      <td>80081.0</td>\n",
       "      <td>83.417708</td>\n",
       "      <td>73.069163</td>\n",
       "      <td>753.572196</td>\n",
       "      <td>636.141490</td>\n",
       "      <td>0.784971</td>\n",
       "      <td>33867599872</td>\n",
       "      <td>0</td>\n",
       "      <td>NaN</td>\n",
       "      <td>0.0</td>\n",
       "      <td>401263624192</td>\n",
       "      <td>629071872</td>\n",
       "      <td>246977601536</td>\n",
       "      <td>NaN</td>\n",
       "      <td>0.0</td>\n",
       "      <td>327268958208</td>\n",
       "      <td>81.559588</td>\n",
       "      <td>23446118400</td>\n",
       "      <td>0</td>\n",
       "      <td>57313718272</td>\n",
       "      <td>11.549146</td>\n",
       "      <td>46342520832</td>\n",
       "      <td>22820.531516</td>\n",
       "      <td>0.0</td>\n",
       "      <td>0.0</td>\n",
       "      <td>93.163183</td>\n",
       "      <td>48892.217952</td>\n",
       "      <td>26071.686436</td>\n",
       "      <td>0.0</td>\n",
       "      <td>0.0</td>\n",
       "      <td>92.334390</td>\n",
       "      <td>13</td>\n",
       "      <td>9</td>\n",
       "      <td>us-west-2</td>\n",
       "    </tr>\n",
       "    <tr>\n",
       "      <th>1</th>\n",
       "      <td>346687249423</td>\n",
       "      <td>/aws/containerinsights/nokia-ndc-eks-cluster-b...</td>\n",
       "      <td>ip-100-64-117-54.us-west-2.compute.internal</td>\n",
       "      <td>4962796749719051212894666042192902405590235982...</td>\n",
       "      <td>dp-us-west-2-container-insights-performance-me...</td>\n",
       "      <td>2022-07-07 17:01:53</td>\n",
       "      <td>1657213313</td>\n",
       "      <td>2022-07-07 17:01:47</td>\n",
       "      <td>1657213307000</td>\n",
       "      <td>3695709169902130551915858469994336576378975369...</td>\n",
       "      <td>nokia-ndc-udm-asg-bts-btssc</td>\n",
       "      <td>[{\"Dimensions\":[[\"NodeName\",\"InstanceId\",\"Clus...</td>\n",
       "      <td>nokia-ndc-eks-cluster-bts-btssc</td>\n",
       "      <td>i-06e7a2de4385b361b</td>\n",
       "      <td>m5.4xlarge</td>\n",
       "      <td>ip-100-64-117-54.us-west-2.compute.internal</td>\n",
       "      <td>[\"cadvisor\",\"/proc\",\"pod\",\"calculated\"]</td>\n",
       "      <td>1657213306070</td>\n",
       "      <td>Node</td>\n",
       "      <td>0</td>\n",
       "      <td>{\"host\":\"ip-100-64-117-54.us-west-2.compute.in...</td>\n",
       "      <td>16000.0</td>\n",
       "      <td>1366.0</td>\n",
       "      <td>8.537500</td>\n",
       "      <td>35.535833</td>\n",
       "      <td>104.585769</td>\n",
       "      <td>61.230974</td>\n",
       "      <td>0.653661</td>\n",
       "      <td>3741560832</td>\n",
       "      <td>0</td>\n",
       "      <td>NaN</td>\n",
       "      <td>0.0</td>\n",
       "      <td>66606874624</td>\n",
       "      <td>655024128</td>\n",
       "      <td>5492453376</td>\n",
       "      <td>NaN</td>\n",
       "      <td>0.0</td>\n",
       "      <td>1029701632</td>\n",
       "      <td>1.545939</td>\n",
       "      <td>674177024</td>\n",
       "      <td>0</td>\n",
       "      <td>4415737856</td>\n",
       "      <td>2.780725</td>\n",
       "      <td>1852153856</td>\n",
       "      <td>11801.135828</td>\n",
       "      <td>0.0</td>\n",
       "      <td>0.0</td>\n",
       "      <td>42.232971</td>\n",
       "      <td>26729.411303</td>\n",
       "      <td>14928.275476</td>\n",
       "      <td>0.0</td>\n",
       "      <td>0.0</td>\n",
       "      <td>41.207899</td>\n",
       "      <td>20</td>\n",
       "      <td>11</td>\n",
       "      <td>us-west-2</td>\n",
       "    </tr>\n",
       "    <tr>\n",
       "      <th>2</th>\n",
       "      <td>675136609689</td>\n",
       "      <td>/aws/containerinsights/nk-ndc-eks-cluster-dev-...</td>\n",
       "      <td>ip-100-64-14-14.us-west-2.compute.internal</td>\n",
       "      <td>4962796749719051212894666042193023298172197445...</td>\n",
       "      <td>dp-us-west-2-container-insights-performance-me...</td>\n",
       "      <td>2022-07-07 17:01:53</td>\n",
       "      <td>1657213313</td>\n",
       "      <td>2022-07-07 17:01:48</td>\n",
       "      <td>1657213308000</td>\n",
       "      <td>3695709172132205071768920784156228614974305956...</td>\n",
       "      <td>nk-ndc-smsf-asg-dev-ASGusw2-az01</td>\n",
       "      <td>[{\"Dimensions\":[[\"NodeName\",\"InstanceId\",\"Clus...</td>\n",
       "      <td>nk-ndc-eks-cluster-dev-usw2-az1-dev-std</td>\n",
       "      <td>i-05c8f02fa0309f1b2</td>\n",
       "      <td>m5.16xlarge</td>\n",
       "      <td>ip-100-64-14-14.us-west-2.compute.internal</td>\n",
       "      <td>[\"cadvisor\",\"/proc\",\"pod\",\"calculated\"]</td>\n",
       "      <td>1657213294454</td>\n",
       "      <td>Node</td>\n",
       "      <td>0</td>\n",
       "      <td>{\"host\":\"ip-100-64-14-14.us-west-2.compute.int...</td>\n",
       "      <td>64000.0</td>\n",
       "      <td>1666.0</td>\n",
       "      <td>2.603125</td>\n",
       "      <td>75.960400</td>\n",
       "      <td>260.491869</td>\n",
       "      <td>154.526303</td>\n",
       "      <td>0.407019</td>\n",
       "      <td>10250481664</td>\n",
       "      <td>0</td>\n",
       "      <td>NaN</td>\n",
       "      <td>0.0</td>\n",
       "      <td>267382837248</td>\n",
       "      <td>723689472</td>\n",
       "      <td>26861481984</td>\n",
       "      <td>NaN</td>\n",
       "      <td>0.0</td>\n",
       "      <td>1166016512</td>\n",
       "      <td>0.436085</td>\n",
       "      <td>1074429952</td>\n",
       "      <td>0</td>\n",
       "      <td>11324911616</td>\n",
       "      <td>1.408073</td>\n",
       "      <td>3764944896</td>\n",
       "      <td>218330.533746</td>\n",
       "      <td>0.0</td>\n",
       "      <td>0.0</td>\n",
       "      <td>158.634979</td>\n",
       "      <td>437164.290113</td>\n",
       "      <td>218833.756367</td>\n",
       "      <td>0.0</td>\n",
       "      <td>0.0</td>\n",
       "      <td>138.392233</td>\n",
       "      <td>23</td>\n",
       "      <td>12</td>\n",
       "      <td>us-west-2</td>\n",
       "    </tr>\n",
       "    <tr>\n",
       "      <th>3</th>\n",
       "      <td>087516029837</td>\n",
       "      <td>/aws/containerinsights/nk-ndc-eks-cluster-dev-...</td>\n",
       "      <td>ip-100-64-27-95.ec2.internal</td>\n",
       "      <td>4962796749719051212894666042203661845384806195...</td>\n",
       "      <td>dp-us-west-2-container-insights-performance-me...</td>\n",
       "      <td>2022-07-07 17:01:55</td>\n",
       "      <td>1657213315</td>\n",
       "      <td>2022-07-07 17:01:50</td>\n",
       "      <td>1657213310000</td>\n",
       "      <td>3695709176592354111475045412734677521242246483...</td>\n",
       "      <td>nk-ndc-scc-asg-dev-use1-az2-itd-ng-01-ASGuse1-...</td>\n",
       "      <td>[{\"Dimensions\":[[\"NodeName\",\"InstanceId\",\"Clus...</td>\n",
       "      <td>nk-ndc-eks-cluster-dev-use1-az2-dev-std</td>\n",
       "      <td>i-0c5d6a0a32608913c</td>\n",
       "      <td>m5.16xlarge</td>\n",
       "      <td>ip-100-64-27-95.ec2.internal</td>\n",
       "      <td>[\"cadvisor\",\"/proc\",\"pod\",\"calculated\"]</td>\n",
       "      <td>1657213302010</td>\n",
       "      <td>Node</td>\n",
       "      <td>0</td>\n",
       "      <td>{\"host\":\"ip-100-64-27-95.ec2.internal\"}</td>\n",
       "      <td>64000.0</td>\n",
       "      <td>6571.0</td>\n",
       "      <td>10.267188</td>\n",
       "      <td>422.826666</td>\n",
       "      <td>1065.610058</td>\n",
       "      <td>702.908779</td>\n",
       "      <td>1.665016</td>\n",
       "      <td>40991096832</td>\n",
       "      <td>0</td>\n",
       "      <td>NaN</td>\n",
       "      <td>0.0</td>\n",
       "      <td>264566362112</td>\n",
       "      <td>1060528128</td>\n",
       "      <td>102370168832</td>\n",
       "      <td>NaN</td>\n",
       "      <td>0.0</td>\n",
       "      <td>13953400832</td>\n",
       "      <td>5.274065</td>\n",
       "      <td>6133846016</td>\n",
       "      <td>0</td>\n",
       "      <td>47124942848</td>\n",
       "      <td>5.528249</td>\n",
       "      <td>14625886208</td>\n",
       "      <td>159837.161657</td>\n",
       "      <td>0.0</td>\n",
       "      <td>0.0</td>\n",
       "      <td>531.399037</td>\n",
       "      <td>281852.732982</td>\n",
       "      <td>122015.571325</td>\n",
       "      <td>0.0</td>\n",
       "      <td>0.0</td>\n",
       "      <td>517.124582</td>\n",
       "      <td>40</td>\n",
       "      <td>20</td>\n",
       "      <td>us-west-2</td>\n",
       "    </tr>\n",
       "    <tr>\n",
       "      <th>4</th>\n",
       "      <td>294485975972</td>\n",
       "      <td>/aws/containerinsights/mv-ndc-eks-cluster-dev-...</td>\n",
       "      <td>ip-172-24-53-199.ec2.internal</td>\n",
       "      <td>4962796749719051212894666042203782737966767658...</td>\n",
       "      <td>dp-us-west-2-container-insights-performance-me...</td>\n",
       "      <td>2022-07-07 17:01:55</td>\n",
       "      <td>1657213315</td>\n",
       "      <td>2022-07-07 17:01:50</td>\n",
       "      <td>1657213310000</td>\n",
       "      <td>3695709176592354111475045412764625896635809704...</td>\n",
       "      <td>mv-ndc-mmsc-asg-dev-ASGuse1-ng-crdl01</td>\n",
       "      <td>[{\"Dimensions\":[[\"NodeName\",\"InstanceId\",\"Clus...</td>\n",
       "      <td>mv-ndc-eks-cluster-dev-mmsc-use1</td>\n",
       "      <td>i-02877760f499ccf02</td>\n",
       "      <td>m5.8xlarge</td>\n",
       "      <td>ip-172-24-53-199.ec2.internal</td>\n",
       "      <td>[\"cadvisor\",\"/proc\",\"pod\",\"calculated\"]</td>\n",
       "      <td>1657213307615</td>\n",
       "      <td>Node</td>\n",
       "      <td>0</td>\n",
       "      <td>{\"host\":\"ip-172-24-53-199.ec2.internal\"}</td>\n",
       "      <td>32000.0</td>\n",
       "      <td>26681.0</td>\n",
       "      <td>83.378125</td>\n",
       "      <td>216.040787</td>\n",
       "      <td>516.929612</td>\n",
       "      <td>360.737250</td>\n",
       "      <td>1.615405</td>\n",
       "      <td>11256094720</td>\n",
       "      <td>0</td>\n",
       "      <td>NaN</td>\n",
       "      <td>0.0</td>\n",
       "      <td>133544132608</td>\n",
       "      <td>647454720</td>\n",
       "      <td>17158103040</td>\n",
       "      <td>NaN</td>\n",
       "      <td>0.0</td>\n",
       "      <td>53779365888</td>\n",
       "      <td>40.270856</td>\n",
       "      <td>3223425024</td>\n",
       "      <td>0</td>\n",
       "      <td>14479519744</td>\n",
       "      <td>3.708710</td>\n",
       "      <td>4952764416</td>\n",
       "      <td>300737.663539</td>\n",
       "      <td>0.0</td>\n",
       "      <td>0.0</td>\n",
       "      <td>254.550660</td>\n",
       "      <td>605778.353587</td>\n",
       "      <td>305040.690048</td>\n",
       "      <td>0.0</td>\n",
       "      <td>0.0</td>\n",
       "      <td>253.064877</td>\n",
       "      <td>15</td>\n",
       "      <td>10</td>\n",
       "      <td>us-west-2</td>\n",
       "    </tr>\n",
       "  </tbody>\n",
       "</table>\n",
       "</div>"
      ],
      "text/plain": [
       "     account_id                                     log_group_name  \\\n",
       "0  193670463418  /aws/containerinsights/cs-ndc-eks-cluster-dev-...   \n",
       "1  346687249423  /aws/containerinsights/nokia-ndc-eks-cluster-b...   \n",
       "2  675136609689  /aws/containerinsights/nk-ndc-eks-cluster-dev-...   \n",
       "3  087516029837  /aws/containerinsights/nk-ndc-eks-cluster-dev-...   \n",
       "4  294485975972  /aws/containerinsights/mv-ndc-eks-cluster-dev-...   \n",
       "\n",
       "                               log_stream_name  \\\n",
       "0                ip-172-24-28-241.ec2.internal   \n",
       "1  ip-100-64-117-54.us-west-2.compute.internal   \n",
       "2   ip-100-64-14-14.us-west-2.compute.internal   \n",
       "3                 ip-100-64-27-95.ec2.internal   \n",
       "4                ip-172-24-53-199.ec2.internal   \n",
       "\n",
       "                                           record_id  \\\n",
       "0  4962796749719051212894666042192660620426313056...   \n",
       "1  4962796749719051212894666042192902405590235982...   \n",
       "2  4962796749719051212894666042193023298172197445...   \n",
       "3  4962796749719051212894666042203661845384806195...   \n",
       "4  4962796749719051212894666042203782737966767658...   \n",
       "\n",
       "                                         stream_name  \\\n",
       "0  dp-us-west-2-container-insights-performance-me...   \n",
       "1  dp-us-west-2-container-insights-performance-me...   \n",
       "2  dp-us-west-2-container-insights-performance-me...   \n",
       "3  dp-us-west-2-container-insights-performance-me...   \n",
       "4  dp-us-west-2-container-insights-performance-me...   \n",
       "\n",
       "  record_arrival_stream_timestamp  record_arrival_stream_epochtime  \\\n",
       "0             2022-07-07 17:01:53                       1657213313   \n",
       "1             2022-07-07 17:01:53                       1657213313   \n",
       "2             2022-07-07 17:01:53                       1657213313   \n",
       "3             2022-07-07 17:01:55                       1657213315   \n",
       "4             2022-07-07 17:01:55                       1657213315   \n",
       "\n",
       "  log_event_timestamp  log_event_epochtime  \\\n",
       "0 2022-07-07 17:01:48        1657213308000   \n",
       "1 2022-07-07 17:01:47        1657213307000   \n",
       "2 2022-07-07 17:01:48        1657213308000   \n",
       "3 2022-07-07 17:01:50        1657213310000   \n",
       "4 2022-07-07 17:01:50        1657213310000   \n",
       "\n",
       "                                        log_event_id  \\\n",
       "0  3695709172132205071768920784118144680167293892...   \n",
       "1  3695709169902130551915858469994336576378975369...   \n",
       "2  3695709172132205071768920784156228614974305956...   \n",
       "3  3695709176592354111475045412734677521242246483...   \n",
       "4  3695709176592354111475045412764625896635809704...   \n",
       "\n",
       "                                AutoScalingGroupName  \\\n",
       "0               cs-ndc-viafm-asg-dev-ASGvia01-worker   \n",
       "1                        nokia-ndc-udm-asg-bts-btssc   \n",
       "2                   nk-ndc-smsf-asg-dev-ASGusw2-az01   \n",
       "3  nk-ndc-scc-asg-dev-use1-az2-itd-ng-01-ASGuse1-...   \n",
       "4              mv-ndc-mmsc-asg-dev-ASGuse1-ng-crdl01   \n",
       "\n",
       "                                   CloudWatchMetrics  \\\n",
       "0  [{\"Dimensions\":[[\"NodeName\",\"InstanceId\",\"Clus...   \n",
       "1  [{\"Dimensions\":[[\"NodeName\",\"InstanceId\",\"Clus...   \n",
       "2  [{\"Dimensions\":[[\"NodeName\",\"InstanceId\",\"Clus...   \n",
       "3  [{\"Dimensions\":[[\"NodeName\",\"InstanceId\",\"Clus...   \n",
       "4  [{\"Dimensions\":[[\"NodeName\",\"InstanceId\",\"Clus...   \n",
       "\n",
       "                               ClusterName           InstanceId InstanceType  \\\n",
       "0          cs-ndc-eks-cluster-dev-sdnc-eks  i-003af3c608a801ece  m5.24xlarge   \n",
       "1          nokia-ndc-eks-cluster-bts-btssc  i-06e7a2de4385b361b   m5.4xlarge   \n",
       "2  nk-ndc-eks-cluster-dev-usw2-az1-dev-std  i-05c8f02fa0309f1b2  m5.16xlarge   \n",
       "3  nk-ndc-eks-cluster-dev-use1-az2-dev-std  i-0c5d6a0a32608913c  m5.16xlarge   \n",
       "4         mv-ndc-eks-cluster-dev-mmsc-use1  i-02877760f499ccf02   m5.8xlarge   \n",
       "\n",
       "                                      NodeName  \\\n",
       "0                ip-172-24-28-241.ec2.internal   \n",
       "1  ip-100-64-117-54.us-west-2.compute.internal   \n",
       "2   ip-100-64-14-14.us-west-2.compute.internal   \n",
       "3                 ip-100-64-27-95.ec2.internal   \n",
       "4                ip-172-24-53-199.ec2.internal   \n",
       "\n",
       "                                   Sources      Timestamp  Type Version  \\\n",
       "0  [\"cadvisor\",\"/proc\",\"pod\",\"calculated\"]  1657213302144  Node       0   \n",
       "1  [\"cadvisor\",\"/proc\",\"pod\",\"calculated\"]  1657213306070  Node       0   \n",
       "2  [\"cadvisor\",\"/proc\",\"pod\",\"calculated\"]  1657213294454  Node       0   \n",
       "3  [\"cadvisor\",\"/proc\",\"pod\",\"calculated\"]  1657213302010  Node       0   \n",
       "4  [\"cadvisor\",\"/proc\",\"pod\",\"calculated\"]  1657213307615  Node       0   \n",
       "\n",
       "                                          kubernetes  node_cpu_limit  \\\n",
       "0           {\"host\":\"ip-172-24-28-241.ec2.internal\"}         96000.0   \n",
       "1  {\"host\":\"ip-100-64-117-54.us-west-2.compute.in...         16000.0   \n",
       "2  {\"host\":\"ip-100-64-14-14.us-west-2.compute.int...         64000.0   \n",
       "3            {\"host\":\"ip-100-64-27-95.ec2.internal\"}         64000.0   \n",
       "4           {\"host\":\"ip-172-24-53-199.ec2.internal\"}         32000.0   \n",
       "\n",
       "   node_cpu_request  node_cpu_reserved_capacity  node_cpu_usage_system  \\\n",
       "0           80081.0                   83.417708              73.069163   \n",
       "1            1366.0                    8.537500              35.535833   \n",
       "2            1666.0                    2.603125              75.960400   \n",
       "3            6571.0                   10.267188             422.826666   \n",
       "4           26681.0                   83.378125             216.040787   \n",
       "\n",
       "   node_cpu_usage_total  node_cpu_usage_user  node_cpu_utilization  \\\n",
       "0            753.572196           636.141490              0.784971   \n",
       "1            104.585769            61.230974              0.653661   \n",
       "2            260.491869           154.526303              0.407019   \n",
       "3           1065.610058           702.908779              1.665016   \n",
       "4            516.929612           360.737250              1.615405   \n",
       "\n",
       "   node_memory_cache  node_memory_failcnt  node_memory_hierarchical_pgfault  \\\n",
       "0        33867599872                    0                               NaN   \n",
       "1         3741560832                    0                               NaN   \n",
       "2        10250481664                    0                               NaN   \n",
       "3        40991096832                    0                               NaN   \n",
       "4        11256094720                    0                               NaN   \n",
       "\n",
       "   node_memory_hierarchical_pgmajfault  node_memory_limit  \\\n",
       "0                                  0.0       401263624192   \n",
       "1                                  0.0        66606874624   \n",
       "2                                  0.0       267382837248   \n",
       "3                                  0.0       264566362112   \n",
       "4                                  0.0       133544132608   \n",
       "\n",
       "   node_memory_mapped_file  node_memory_max_usage  node_memory_pgfault  \\\n",
       "0                629071872           246977601536                  NaN   \n",
       "1                655024128             5492453376                  NaN   \n",
       "2                723689472            26861481984                  NaN   \n",
       "3               1060528128           102370168832                  NaN   \n",
       "4                647454720            17158103040                  NaN   \n",
       "\n",
       "   node_memory_pgmajfault  node_memory_request  node_memory_reserved_capacity  \\\n",
       "0                     0.0         327268958208                      81.559588   \n",
       "1                     0.0           1029701632                       1.545939   \n",
       "2                     0.0           1166016512                       0.436085   \n",
       "3                     0.0          13953400832                       5.274065   \n",
       "4                     0.0          53779365888                      40.270856   \n",
       "\n",
       "   node_memory_rss  node_memory_swap  node_memory_usage  \\\n",
       "0      23446118400                 0        57313718272   \n",
       "1        674177024                 0         4415737856   \n",
       "2       1074429952                 0        11324911616   \n",
       "3       6133846016                 0        47124942848   \n",
       "4       3223425024                 0        14479519744   \n",
       "\n",
       "   node_memory_utilization  node_memory_working_set  node_network_rx_bytes  \\\n",
       "0                11.549146              46342520832           22820.531516   \n",
       "1                 2.780725               1852153856           11801.135828   \n",
       "2                 1.408073               3764944896          218330.533746   \n",
       "3                 5.528249              14625886208          159837.161657   \n",
       "4                 3.708710               4952764416          300737.663539   \n",
       "\n",
       "   node_network_rx_dropped  node_network_rx_errors  node_network_rx_packets  \\\n",
       "0                      0.0                     0.0                93.163183   \n",
       "1                      0.0                     0.0                42.232971   \n",
       "2                      0.0                     0.0               158.634979   \n",
       "3                      0.0                     0.0               531.399037   \n",
       "4                      0.0                     0.0               254.550660   \n",
       "\n",
       "   node_network_total_bytes  node_network_tx_bytes  node_network_tx_dropped  \\\n",
       "0              48892.217952           26071.686436                      0.0   \n",
       "1              26729.411303           14928.275476                      0.0   \n",
       "2             437164.290113          218833.756367                      0.0   \n",
       "3             281852.732982          122015.571325                      0.0   \n",
       "4             605778.353587          305040.690048                      0.0   \n",
       "\n",
       "   node_network_tx_errors  node_network_tx_packets  \\\n",
       "0                     0.0                92.334390   \n",
       "1                     0.0                41.207899   \n",
       "2                     0.0               138.392233   \n",
       "3                     0.0               517.124582   \n",
       "4                     0.0               253.064877   \n",
       "\n",
       "   node_number_of_running_containers  node_number_of_running_pods     region  \n",
       "0                                 13                            9  us-west-2  \n",
       "1                                 20                           11  us-west-2  \n",
       "2                                 23                           12  us-west-2  \n",
       "3                                 40                           20  us-west-2  \n",
       "4                                 15                           10  us-west-2  "
      ]
     },
     "execution_count": 7,
     "metadata": {},
     "output_type": "execute_result"
    }
   ],
   "source": [
    "df.head()"
   ]
  },
  {
   "cell_type": "code",
   "execution_count": null,
   "id": "a73c5bb0-17c0-4d0d-ac06-eb339509ae34",
   "metadata": {},
   "outputs": [],
   "source": [
    "import datetime\n",
    "\n",
    "df = df[['Timestamp','InstanceId','node_cpu_utilization','node_memory_utilization']]\n",
    "df = df.dropna(subset=['node_cpu_utilization','node_memory_utilization'])\n",
    "df['Datetime'] = df['Timestamp'].apply(lambda x: datetime.datetime.fromtimestamp(int(x)/1000))\n",
    "ls = df.groupby([df.InstanceId]).count().reset_index()\n",
    "instancelist = ls[(ls.Datetime>=45*24)&(ls.Datetime<=75*24)].InstanceId\n",
    "df[df['InstanceId'].isin(instancelist)]"
   ]
  },
  {
   "cell_type": "markdown",
   "id": "6253c4de-05b9-4252-be19-3b45ab0f55d5",
   "metadata": {
    "tags": []
   },
   "source": [
    "## Data split"
   ]
  },
  {
   "cell_type": "code",
   "execution_count": 13,
   "id": "4faa307e-23a1-48be-a3a5-d4d7cffda12d",
>>>>>>> Stashed changes
   "metadata": {
    "tags": []
   },
   "outputs": [],
   "source": [
<<<<<<< Updated upstream
    "df = df[df['split']==1]"
   ]
  },
  {
   "cell_type": "markdown",
   "id": "6253c4de-05b9-4252-be19-3b45ab0f55d5",
   "metadata": {
    "tags": []
   },
   "source": [
    "## Data split"
   ]
  },
  {
   "cell_type": "code",
   "execution_count": 5,
   "id": "0be43e02-2bce-4842-9d50-58f3cf92e19e",
   "metadata": {
    "tags": []
   },
   "outputs": [],
   "source": [
    "df = pd.read_csv('preprocessed.csv')"
   ]
  },
  {
   "cell_type": "code",
   "execution_count": 6,
   "id": "c3406169-3080-4489-ab9c-f60e3df6c449",
   "metadata": {
    "tags": []
   },
   "outputs": [
    {
     "data": {
      "text/html": [
       "<div>\n",
       "<style scoped>\n",
       "    .dataframe tbody tr th:only-of-type {\n",
       "        vertical-align: middle;\n",
       "    }\n",
       "\n",
       "    .dataframe tbody tr th {\n",
       "        vertical-align: top;\n",
       "    }\n",
       "\n",
       "    .dataframe thead th {\n",
       "        text-align: right;\n",
       "    }\n",
       "</style>\n",
       "<table border=\"1\" class=\"dataframe\">\n",
       "  <thead>\n",
       "    <tr style=\"text-align: right;\">\n",
       "      <th></th>\n",
       "      <th>Unnamed: 0</th>\n",
       "      <th>Timestamp</th>\n",
       "      <th>InstanceId</th>\n",
       "      <th>scaled_mem</th>\n",
       "      <th>scaled_cpu</th>\n",
       "    </tr>\n",
       "  </thead>\n",
       "  <tbody>\n",
       "    <tr>\n",
       "      <th>0</th>\n",
       "      <td>0</td>\n",
       "      <td>1657188368827</td>\n",
       "      <td>i-0fd528a5b4db63a58</td>\n",
       "      <td>0.929672</td>\n",
       "      <td>1.821592</td>\n",
       "    </tr>\n",
       "    <tr>\n",
       "      <th>1</th>\n",
       "      <td>1</td>\n",
       "      <td>1657188370769</td>\n",
       "      <td>i-0f83dfb0d9ea9120a</td>\n",
       "      <td>0.306372</td>\n",
       "      <td>-0.288206</td>\n",
       "    </tr>\n",
       "    <tr>\n",
       "      <th>2</th>\n",
       "      <td>2</td>\n",
       "      <td>1657188378585</td>\n",
       "      <td>i-0294f49d42a8a6084</td>\n",
       "      <td>1.929476</td>\n",
       "      <td>0.305287</td>\n",
       "    </tr>\n",
       "    <tr>\n",
       "      <th>3</th>\n",
       "      <td>3</td>\n",
       "      <td>1657188380656</td>\n",
       "      <td>i-0135cde94606361ca</td>\n",
       "      <td>1.325316</td>\n",
       "      <td>3.473258</td>\n",
       "    </tr>\n",
       "    <tr>\n",
       "      <th>4</th>\n",
       "      <td>4</td>\n",
       "      <td>1657188381211</td>\n",
       "      <td>i-052ff6e758e5066a8</td>\n",
       "      <td>0.059157</td>\n",
       "      <td>-0.148335</td>\n",
       "    </tr>\n",
       "  </tbody>\n",
       "</table>\n",
       "</div>"
      ],
      "text/plain": [
       "   Unnamed: 0      Timestamp           InstanceId  scaled_mem  scaled_cpu\n",
       "0           0  1657188368827  i-0fd528a5b4db63a58    0.929672    1.821592\n",
       "1           1  1657188370769  i-0f83dfb0d9ea9120a    0.306372   -0.288206\n",
       "2           2  1657188378585  i-0294f49d42a8a6084    1.929476    0.305287\n",
       "3           3  1657188380656  i-0135cde94606361ca    1.325316    3.473258\n",
       "4           4  1657188381211  i-052ff6e758e5066a8    0.059157   -0.148335"
      ]
     },
     "execution_count": 6,
     "metadata": {},
     "output_type": "execute_result"
    }
   ],
   "source": [
    "df.head()"
   ]
  },
  {
   "cell_type": "code",
   "execution_count": 102,
   "id": "a15f2a1c-0502-446d-b0ee-7f5e25420652",
   "metadata": {
    "tags": []
   },
   "outputs": [],
   "source": [
    "## pick random nodes (half of the total nodes) and add them to our test data\n",
    "import random\n",
    "instancelist = df['InstanceId'].unique()\n",
    "testlist = random.choices(instancelist, k=int(len(instancelist)/2))"
   ]
  },
  {
   "cell_type": "code",
   "execution_count": 103,
   "id": "d4d08302-bd24-41a1-a50b-e260fa6d56ff",
   "metadata": {
    "tags": []
   },
   "outputs": [],
   "source": [
    "df['x_train'] = df['InstanceId'].apply(lambda x:x in testlist)\n",
    "x_train = df[df['x_train']==1]\n",
    "x_test= df[df['x_train']==0]"
   ]
  },
  {
   "cell_type": "code",
   "execution_count": null,
   "id": "d4008a86-ec1b-438a-bb4f-a0affccf6b6b",
   "metadata": {},
   "outputs": [
    {
     "data": {
      "text/html": [
       "<div>\n",
       "<style scoped>\n",
       "    .dataframe tbody tr th:only-of-type {\n",
       "        vertical-align: middle;\n",
       "    }\n",
       "\n",
       "    .dataframe tbody tr th {\n",
       "        vertical-align: top;\n",
       "    }\n",
       "\n",
       "    .dataframe thead th {\n",
       "        text-align: right;\n",
       "    }\n",
       "</style>\n",
       "<table border=\"1\" class=\"dataframe\">\n",
       "  <thead>\n",
       "    <tr style=\"text-align: right;\">\n",
       "      <th></th>\n",
       "      <th>Unnamed: 0</th>\n",
       "      <th>Timestamp</th>\n",
       "      <th>InstanceId</th>\n",
       "      <th>scaled_mem</th>\n",
       "      <th>scaled_cpu</th>\n",
       "      <th>x_train</th>\n",
       "    </tr>\n",
       "  </thead>\n",
       "  <tbody>\n",
       "    <tr>\n",
       "      <th>2</th>\n",
       "      <td>2</td>\n",
       "      <td>1657188378585</td>\n",
       "      <td>i-0294f49d42a8a6084</td>\n",
       "      <td>1.929476</td>\n",
       "      <td>0.305287</td>\n",
       "      <td>True</td>\n",
       "    </tr>\n",
       "    <tr>\n",
       "      <th>3</th>\n",
       "      <td>3</td>\n",
       "      <td>1657188380656</td>\n",
       "      <td>i-0135cde94606361ca</td>\n",
       "      <td>1.325316</td>\n",
       "      <td>3.473258</td>\n",
       "      <td>True</td>\n",
       "    </tr>\n",
       "    <tr>\n",
       "      <th>4</th>\n",
       "      <td>4</td>\n",
       "      <td>1657188381211</td>\n",
       "      <td>i-052ff6e758e5066a8</td>\n",
       "      <td>0.059157</td>\n",
       "      <td>-0.148335</td>\n",
       "      <td>True</td>\n",
       "    </tr>\n",
       "    <tr>\n",
       "      <th>7</th>\n",
       "      <td>7</td>\n",
       "      <td>1657188380255</td>\n",
       "      <td>i-019763c52c2720665</td>\n",
       "      <td>0.292811</td>\n",
       "      <td>1.425888</td>\n",
       "      <td>True</td>\n",
       "    </tr>\n",
       "    <tr>\n",
       "      <th>8</th>\n",
       "      <td>8</td>\n",
       "      <td>1657188381686</td>\n",
       "      <td>i-0c637059400cc0a16</td>\n",
       "      <td>0.002217</td>\n",
       "      <td>0.230518</td>\n",
       "      <td>True</td>\n",
       "    </tr>\n",
       "  </tbody>\n",
       "</table>\n",
       "</div>"
      ],
      "text/plain": [
       "   Unnamed: 0      Timestamp           InstanceId  scaled_mem  scaled_cpu  \\\n",
       "2           2  1657188378585  i-0294f49d42a8a6084    1.929476    0.305287   \n",
       "3           3  1657188380656  i-0135cde94606361ca    1.325316    3.473258   \n",
       "4           4  1657188381211  i-052ff6e758e5066a8    0.059157   -0.148335   \n",
       "7           7  1657188380255  i-019763c52c2720665    0.292811    1.425888   \n",
       "8           8  1657188381686  i-0c637059400cc0a16    0.002217    0.230518   \n",
       "\n",
       "   x_train  \n",
       "2     True  \n",
       "3     True  \n",
       "4     True  \n",
       "7     True  \n",
       "8     True  "
      ]
     },
     "execution_count": 14,
     "metadata": {},
     "output_type": "execute_result"
    }
   ],
   "source": []
  },
  {
   "cell_type": "code",
   "execution_count": 15,
   "id": "fb16dbe5-152d-41da-b297-57b5b4e6a475",
   "metadata": {
    "tags": []
   },
   "outputs": [],
   "source": [
    "x_train.to_csv('train.csv')\n",
    "x_test.to_csv('test.csv')"
   ]
  },
  {
   "cell_type": "markdown",
   "id": "ae89af5e-eba3-4573-8a34-27a67c99db19",
   "metadata": {},
   "source": [
    "## Feature Engineering"
   ]
  },
  {
   "cell_type": "code",
   "execution_count": 68,
   "id": "e6a31132-6768-40db-9991-76744a2b7735",
   "metadata": {
    "tags": []
   },
   "outputs": [],
   "source": [
    "features = ['node_cpu_utilization','node_memory_utilization']\n",
    "params_miu_cpu = df.groupby(by='InstanceId').mean()[features[0]]\n",
    "params_miu_mem = df.groupby(by='InstanceId').mean()[features[1]]\n",
    "params_sigma_cpu = df.groupby(by='InstanceId').std()[features[0]]\n",
    "params_sigma_mem = df.groupby(by='InstanceId').std()[features[1]]\n",
    "    "
   ]
  },
  {
   "cell_type": "code",
   "execution_count": 69,
   "id": "5714dc60-6173-492e-89bf-4395a8558942",
   "metadata": {
    "tags": []
   },
   "outputs": [],
   "source": [
    "\n",
    "params_miu_cpu = params_miu_cpu.to_dict()\n",
    "params_miu_mem = params_miu_mem.to_dict()\n",
    "params_sigma_cpu = params_sigma_cpu.to_dict()\n",
    "params_sigma_mem = params_sigma_mem.to_dict()\n",
    "\n",
    "df['miu_cpu'] = df['InstanceId'].map(params_miu_cpu)\n",
    "df['miu_mem'] = df['InstanceId'].map(params_miu_mem)\n",
    "df['sigma_cpu'] = df['InstanceId'].map(params_sigma_cpu)\n",
    "df['sigma_mem'] = df['InstanceId'].map(params_sigma_mem)\n"
   ]
  },
  {
   "cell_type": "code",
   "execution_count": 71,
   "id": "cda3ff12-fa39-4d0e-a8fc-86202cd8ece3",
   "metadata": {
    "tags": []
   },
   "outputs": [],
   "source": [
    "df['scaled_mem']=(df['node_memory_utilization']-df['miu_mem'])/df['sigma_mem']\n",
    "df['scaled_cpu']=(df['node_cpu_utilization']-df['miu_cpu'])/df['sigma_cpu']"
   ]
  },
  {
   "cell_type": "code",
   "execution_count": 75,
   "id": "952424c9-67e1-4024-95fd-2a13b4a735c3",
   "metadata": {
    "tags": []
   },
   "outputs": [],
   "source": [
    "df.to_csv('preprocessed.csv')"
   ]
  },
  {
   "cell_type": "code",
   "execution_count": null,
   "id": "dde1371b-ef3f-4832-96b7-a5e76b2e3978",
=======
    "from sklearn.model_selection import train_test_split\n",
    "node_train, node_test = train_test_split(df,test_size=0.33,random_state = 730)\n",
    "\n",
    "    "
   ]
  },
  {
   "cell_type": "markdown",
   "id": "ae89af5e-eba3-4573-8a34-27a67c99db19",
>>>>>>> Stashed changes
   "metadata": {},
   "source": [
    "## Feature Engineering"
   ]
  },
  {
   "cell_type": "code",
<<<<<<< Updated upstream
   "execution_count": null,
   "id": "6acfd441-da56-4c4b-bd29-361055266bf3",
   "metadata": {
    "tags": []
   },
   "outputs": [],
   "source": [
    "'''\n",
    "import random\n",
    "n = 0\n",
    "features = ['node_cpu_utilization','node_memory_utilization']\n",
    "instancelist = node_train.InstanceId.unique()\n",
    "result = None\n",
    "while n<samplesize:\n",
    "    instance = random.choice(instancelist)\n",
    "    subdf = df[df.InstanceId==instance].sort_values(by = ['Timestamp'])\n",
    "    if len(subdf)<12:\n",
    "        continue\n",
    "    start = random.choice(range(len(subdf)-12))\n",
    "    timeslice = subdf[start:start+12][['Timestamp',*features]]\n",
    "    if n!=0:\n",
    "        result = pd.concat([result,timeslice])\n",
    "       \n",
    "    else:\n",
    "        result =  timeslice\n",
    "    n+=1\n",
    "    if n%100==0:\n",
    "        print(n)\n",
    "#result = result.groupby(by=['Timestamp']).mean()\n",
    "'''"
=======
   "execution_count": 14,
   "id": "759cf1f2-daa3-4952-a2f8-18af4d4bd8df",
   "metadata": {
    "tags": []
   },
   "outputs": [],
   "source": [
    "samplesize = int(2*24*1440/12)"
   ]
  },
  {
   "cell_type": "code",
   "execution_count": 15,
   "id": "2dd4d42a-093e-4552-9220-d9d127ee2ffa",
   "metadata": {
    "tags": []
   },
   "outputs": [
    {
     "data": {
      "text/plain": [
       "5760"
      ]
     },
     "execution_count": 15,
     "metadata": {},
     "output_type": "execute_result"
    }
   ],
   "source": [
    "samplesize "
   ]
  },
  {
   "cell_type": "code",
   "execution_count": 33,
   "id": "6acfd441-da56-4c4b-bd29-361055266bf3",
   "metadata": {
    "collapsed": true,
    "jupyter": {
     "outputs_hidden": true
    },
    "tags": []
   },
   "outputs": [
    {
     "name": "stdout",
     "output_type": "stream",
     "text": [
      "100\n",
      "200\n",
      "300\n",
      "400\n",
      "500\n",
      "600\n",
      "700\n",
      "800\n",
      "900\n",
      "1000\n",
      "1100\n",
      "1200\n",
      "1300\n",
      "1400\n",
      "1500\n",
      "1600\n",
      "1700\n",
      "1800\n",
      "1900\n",
      "2000\n",
      "2100\n",
      "2200\n",
      "2300\n",
      "2400\n",
      "2500\n",
      "2600\n",
      "2700\n",
      "2800\n",
      "2900\n",
      "3000\n",
      "3100\n",
      "3200\n",
      "3300\n",
      "3400\n",
      "3500\n",
      "3600\n",
      "3700\n",
      "3800\n",
      "3900\n",
      "4000\n",
      "4100\n",
      "4200\n",
      "4300\n",
      "4400\n",
      "4500\n",
      "4600\n",
      "4700\n",
      "4800\n",
      "4900\n",
      "5000\n",
      "5100\n",
      "5200\n",
      "5300\n",
      "5400\n",
      "5500\n",
      "5600\n",
      "5700\n"
     ]
    }
   ],
   "source": [
    "import random\n",
    "n = 0\n",
    "features = ['node_cpu_utilization','node_memory_utilization']\n",
    "instancelist = node_train.InstanceId.unique()\n",
    "result = None\n",
    "while n<samplesize:\n",
    "    instance = random.choice(instancelist)\n",
    "    subdf = df[df.InstanceId==instance].sort_values(by = ['Timestamp'])\n",
    "    if len(subdf)<12:\n",
    "        continue\n",
    "    start = random.choice(range(len(subdf)-12))\n",
    "    timeslice = subdf[start:start+12][['Timestamp',*features]]\n",
    "    if n!=0:\n",
    "        result = pd.concat([result,timeslice])\n",
    "       \n",
    "    else:\n",
    "        result =  timeslice\n",
    "    n+=1\n",
    "    if n%100==0:\n",
    "        print(n)\n",
    "#result = result.groupby(by=['Timestamp']).mean()\n",
    "                          "
   ]
  },
  {
   "cell_type": "code",
   "execution_count": 35,
   "id": "f89ff442-6af6-431f-969b-45a55cd9aa14",
   "metadata": {},
   "outputs": [
    {
     "data": {
      "text/html": [
       "<div>\n",
       "<style scoped>\n",
       "    .dataframe tbody tr th:only-of-type {\n",
       "        vertical-align: middle;\n",
       "    }\n",
       "\n",
       "    .dataframe tbody tr th {\n",
       "        vertical-align: top;\n",
       "    }\n",
       "\n",
       "    .dataframe thead th {\n",
       "        text-align: right;\n",
       "    }\n",
       "</style>\n",
       "<table border=\"1\" class=\"dataframe\">\n",
       "  <thead>\n",
       "    <tr style=\"text-align: right;\">\n",
       "      <th></th>\n",
       "      <th>Timestamp</th>\n",
       "      <th>node_cpu_utilization</th>\n",
       "      <th>node_memory_utilization</th>\n",
       "    </tr>\n",
       "  </thead>\n",
       "  <tbody>\n",
       "    <tr>\n",
       "      <th>892693</th>\n",
       "      <td>1657151810622</td>\n",
       "      <td>0.231954</td>\n",
       "      <td>0.355681</td>\n",
       "    </tr>\n",
       "    <tr>\n",
       "      <th>892750</th>\n",
       "      <td>1657151871967</td>\n",
       "      <td>0.239594</td>\n",
       "      <td>0.355371</td>\n",
       "    </tr>\n",
       "    <tr>\n",
       "      <th>892807</th>\n",
       "      <td>1657151931782</td>\n",
       "      <td>0.236598</td>\n",
       "      <td>0.354979</td>\n",
       "    </tr>\n",
       "    <tr>\n",
       "      <th>892864</th>\n",
       "      <td>1657151987474</td>\n",
       "      <td>0.234593</td>\n",
       "      <td>0.354847</td>\n",
       "    </tr>\n",
       "    <tr>\n",
       "      <th>892921</th>\n",
       "      <td>1657152044448</td>\n",
       "      <td>0.256429</td>\n",
       "      <td>0.355206</td>\n",
       "    </tr>\n",
       "  </tbody>\n",
       "</table>\n",
       "</div>"
      ],
      "text/plain": [
       "            Timestamp  node_cpu_utilization  node_memory_utilization\n",
       "892693  1657151810622              0.231954                 0.355681\n",
       "892750  1657151871967              0.239594                 0.355371\n",
       "892807  1657151931782              0.236598                 0.354979\n",
       "892864  1657151987474              0.234593                 0.354847\n",
       "892921  1657152044448              0.256429                 0.355206"
      ]
     },
     "execution_count": 35,
     "metadata": {},
     "output_type": "execute_result"
    }
   ],
   "source": [
    "result = result.sort_values(by='Timestamp')\n",
    "result.head()"
   ]
  },
  {
   "cell_type": "code",
   "execution_count": 36,
   "id": "175c9c8c-fbc9-49ee-998c-63892e06bc02",
   "metadata": {},
   "outputs": [
    {
     "data": {
      "text/plain": [
       "(69120, 3)"
      ]
     },
     "execution_count": 36,
     "metadata": {},
     "output_type": "execute_result"
    }
   ],
   "source": [
    "result.shape"
   ]
  },
  {
   "cell_type": "code",
   "execution_count": 37,
   "id": "a13d5cc5-92bb-413f-8888-ff3614f7e493",
   "metadata": {},
   "outputs": [
    {
     "data": {
      "text/plain": [
       "69120"
      ]
     },
     "execution_count": 37,
     "metadata": {},
     "output_type": "execute_result"
    }
   ],
   "source": [
    "5760*12"
   ]
  },
  {
   "cell_type": "code",
   "execution_count": 38,
   "id": "1b639287-0c3e-40d7-bce1-77b0ec84302d",
   "metadata": {},
   "outputs": [],
   "source": [
    "result.to_csv('train_x.csv', index=False, header=False)"
>>>>>>> Stashed changes
   ]
  },
  {
   "cell_type": "code",
   "execution_count": null,
   "id": "cbf040cc-ce00-43ce-aef8-14b8a877d9d8",
   "metadata": {},
   "outputs": [],
   "source": [
    "result.to_csv('/root/git/eks-ml-pipeline/notebooks/train.csv', index=False, header=False)\n"
   ]
  },
  {
   "cell_type": "markdown",
   "id": "f3284941-3e42-4be0-ac2a-2341754fad2a",
   "metadata": {},
   "source": [
    "## Train my model"
   ]
  },
  {
   "cell_type": "code",
   "execution_count": 16,
   "id": "20bbb55a-5de6-4641-bf0e-a3a95c9ee704",
   "metadata": {
    "tags": []
   },
   "outputs": [
    {
     "data": {
      "text/html": [
       "<div>\n",
       "<style scoped>\n",
       "    .dataframe tbody tr th:only-of-type {\n",
       "        vertical-align: middle;\n",
       "    }\n",
       "\n",
       "    .dataframe tbody tr th {\n",
       "        vertical-align: top;\n",
       "    }\n",
       "\n",
       "    .dataframe thead th {\n",
       "        text-align: right;\n",
       "    }\n",
       "</style>\n",
       "<table border=\"1\" class=\"dataframe\">\n",
       "  <thead>\n",
       "    <tr style=\"text-align: right;\">\n",
       "      <th></th>\n",
       "      <th>Unnamed: 0</th>\n",
       "      <th>Timestamp</th>\n",
       "      <th>InstanceId</th>\n",
       "      <th>scaled_mem</th>\n",
       "      <th>scaled_cpu</th>\n",
       "      <th>x_train</th>\n",
       "    </tr>\n",
       "  </thead>\n",
       "  <tbody>\n",
       "    <tr>\n",
       "      <th>2</th>\n",
       "      <td>2</td>\n",
       "      <td>1657188378585</td>\n",
       "      <td>i-0294f49d42a8a6084</td>\n",
       "      <td>1.929476</td>\n",
       "      <td>0.305287</td>\n",
       "      <td>True</td>\n",
       "    </tr>\n",
       "    <tr>\n",
       "      <th>3</th>\n",
       "      <td>3</td>\n",
       "      <td>1657188380656</td>\n",
       "      <td>i-0135cde94606361ca</td>\n",
       "      <td>1.325316</td>\n",
       "      <td>3.473258</td>\n",
       "      <td>True</td>\n",
       "    </tr>\n",
       "    <tr>\n",
       "      <th>4</th>\n",
       "      <td>4</td>\n",
       "      <td>1657188381211</td>\n",
       "      <td>i-052ff6e758e5066a8</td>\n",
       "      <td>0.059157</td>\n",
       "      <td>-0.148335</td>\n",
       "      <td>True</td>\n",
       "    </tr>\n",
       "    <tr>\n",
       "      <th>7</th>\n",
       "      <td>7</td>\n",
       "      <td>1657188380255</td>\n",
       "      <td>i-019763c52c2720665</td>\n",
       "      <td>0.292811</td>\n",
       "      <td>1.425888</td>\n",
       "      <td>True</td>\n",
       "    </tr>\n",
       "    <tr>\n",
       "      <th>8</th>\n",
       "      <td>8</td>\n",
       "      <td>1657188381686</td>\n",
       "      <td>i-0c637059400cc0a16</td>\n",
       "      <td>0.002217</td>\n",
       "      <td>0.230518</td>\n",
       "      <td>True</td>\n",
       "    </tr>\n",
       "  </tbody>\n",
       "</table>\n",
       "</div>"
      ],
      "text/plain": [
       "   Unnamed: 0      Timestamp           InstanceId  scaled_mem  scaled_cpu  \\\n",
       "2           2  1657188378585  i-0294f49d42a8a6084    1.929476    0.305287   \n",
       "3           3  1657188380656  i-0135cde94606361ca    1.325316    3.473258   \n",
       "4           4  1657188381211  i-052ff6e758e5066a8    0.059157   -0.148335   \n",
       "7           7  1657188380255  i-019763c52c2720665    0.292811    1.425888   \n",
       "8           8  1657188381686  i-0c637059400cc0a16    0.002217    0.230518   \n",
       "\n",
       "   x_train  \n",
       "2     True  \n",
       "3     True  \n",
       "4     True  \n",
       "7     True  \n",
       "8     True  "
      ]
     },
     "execution_count": 16,
     "metadata": {},
     "output_type": "execute_result"
    }
   ],
   "source": [
    "x_train.head()\n"
   ]
  },
  {
   "cell_type": "code",
   "execution_count": 17,
   "id": "92c24f29-326f-46a7-8807-9f1b510a2529",
   "metadata": {},
   "outputs": [],
   "source": [
    "x_train = x_train[['Timestamp','InstanceId','scaled_mem','scaled_cpu']]\n",
    "#generate test sequences\n",
    "x_train = x_train.sort_values(by=['InstanceId','Timestamp'])"
   ]
  },
  {
   "cell_type": "code",
<<<<<<< Updated upstream
   "execution_count": 19,
   "id": "70e943b1-5d76-42fe-86f9-af8695d58437",
   "metadata": {
    "tags": []
   },
   "outputs": [],
   "source": [
    "test_data = []\n",
    "for i in testlist:\n",
    "    subdf = x_train[x_train['InstanceId']==i]\n",
    "    test_data.append(subdf[['scaled_cpu','scaled_mem']].values)\n",
    "    "
   ]
  },
  {
   "cell_type": "code",
   "execution_count": 53,
   "id": "e6f2cab0-c1f7-4f58-b217-49bbf43a1cec",
   "metadata": {
    "tags": []
   },
   "outputs": [
    {
     "data": {
      "text/plain": [
       "GaussianHMM(algorithm='viterbi', covariance_type='full', covars_prior=0.01,\n",
       "            covars_weight=1, implementation='log', init_params='',\n",
       "            means_prior=0, means_weight=0, min_covar=0.001, n_components=2,\n",
       "            n_iter=10, params='stmc', random_state=None, startprob_prior=2.0,\n",
       "            tol=0.01, transmat_prior=1.0, verbose=False)"
      ]
     },
     "execution_count": 53,
     "metadata": {},
     "output_type": "execute_result"
    }
   ],
   "source": [
    "\n",
    "model = hmm.GaussianHMM(n_components=2, covariance_type=\"full\",init_params='')\n",
    "model.startprob_prior = 2.0\n",
    "model.fit(test_data[0])"
   ]
  },
  {
   "cell_type": "code",
   "execution_count": 57,
   "id": "b879d656-0eae-4d9b-bb1a-36a52677c18d",
   "metadata": {
    "tags": []
   },
   "outputs": [
    {
     "data": {
      "text/plain": [
       "1.0"
      ]
     },
     "execution_count": 57,
     "metadata": {},
     "output_type": "execute_result"
    }
   ],
   "source": [
    "##test\n",
    "model = hmm.GaussianHMM(n_components=2, covariance_type=\"full\",init_params='')\n",
    "model.startprob_prior\n",
    "\n",
    "    \n",
    "    \n"
   ]
  },
  {
   "cell_type": "code",
   "execution_count": 68,
   "id": "ee2eeffc-1b8a-45c1-9981-2216fd5d66e3",
   "metadata": {
    "tags": []
   },
   "outputs": [
    {
     "data": {
      "text/plain": [
       "1.0"
      ]
     },
     "execution_count": 68,
     "metadata": {},
     "output_type": "execute_result"
    }
   ],
   "source": [
    "t_df = test_data[3]\n",
    "model.startprob_prior"
   ]
=======
   "execution_count": null,
   "id": "c20f28fc-26ad-49a8-be74-fb58b125642d",
   "metadata": {},
   "outputs": [],
   "source": []
>>>>>>> Stashed changes
  },
  {
   "cell_type": "code",
   "execution_count": null,
<<<<<<< Updated upstream
   "id": "687fbecd-13ba-4412-ac71-da208aa58153",
=======
   "id": "03a742fe-5065-4af7-8d3d-b1ccdf75c2e7",
   "metadata": {},
   "outputs": [],
   "source": []
  },
  {
   "cell_type": "code",
   "execution_count": null,
   "id": "ebe2b6ab-446c-4d02-bf1b-7fa2a4c9b88d",
   "metadata": {},
   "outputs": [],
   "source": []
  },
  {
   "cell_type": "code",
   "execution_count": null,
   "id": "8c25c72e-681d-4a37-b72a-57f01368460c",
   "metadata": {},
   "outputs": [],
   "source": []
  },
  {
   "cell_type": "code",
   "execution_count": null,
   "id": "a19dcb96-23da-46fc-a5f2-c04e6399bfe1",
>>>>>>> Stashed changes
   "metadata": {},
   "outputs": [],
   "source": []
  },
  {
   "cell_type": "code",
   "execution_count": 95,
   "id": "7c8f3339-ed46-42ec-9dd4-ee6005482cfc",
   "metadata": {},
   "outputs": [
    {
     "name": "stdout",
     "output_type": "stream",
     "text": [
      "0,\n",
      " startprob is \n",
      " [1.58396230e-13 7.41542916e-03 9.92584571e-01 5.28526598e-28],\n",
      " transmat is \n",
      "[[2.20320839e-03 2.92942174e-06 1.37951394e-01 8.59842468e-01]\n",
      " [1.42209700e-04 2.36214805e-01 7.63613251e-01 2.97346477e-05]\n",
      " [1.60129878e-02 8.29282687e-01 2.71947208e-02 1.27509605e-01]\n",
      " [9.74000174e-01 6.29770541e-04 1.81862735e-04 2.51881931e-02]]\n",
      "1,\n",
      " startprob is \n",
      " [0. 0. 1. 0.],\n",
      " transmat is \n",
      "[[0.         0.         0.28626106 0.71373894]\n",
      " [0.         0.44820913 0.55179087 0.        ]\n",
      " [0.         0.93014615 0.         0.06985385]\n",
      " [0.70669673 0.         0.         0.29330327]]\n",
      "2,\n",
      " startprob is \n",
      " [0. 0. 1. 0.],\n",
      " transmat is \n",
      "[[0.         0.         0.23566812 0.76433188]\n",
      " [0.         0.02701138 0.97298862 0.        ]\n",
      " [0.         0.87620107 0.         0.12379893]\n",
      " [0.87331287 0.         0.         0.12668713]]\n"
     ]
    },
    {
     "name": "stderr",
     "output_type": "stream",
     "text": [
      "/opt/conda/lib/python3.7/site-packages/hmmlearn/hmm.py:275: RuntimeWarning: invalid value encountered in true_divide\n",
      "  / (means_weight + denom))\n"
     ]
    },
    {
     "ename": "ValueError",
     "evalue": "array must not contain infs or NaNs",
     "output_type": "error",
     "traceback": [
      "\u001b[0;31m---------------------------------------------------------------------------\u001b[0m",
      "\u001b[0;31mValueError\u001b[0m                                Traceback (most recent call last)",
      "\u001b[0;32m<ipython-input-95-a89447d9ad41>\u001b[0m in \u001b[0;36m<module>\u001b[0;34m\u001b[0m\n\u001b[1;32m      3\u001b[0m \u001b[0;32mfor\u001b[0m \u001b[0mi\u001b[0m \u001b[0;32min\u001b[0m \u001b[0mrange\u001b[0m\u001b[0;34m(\u001b[0m\u001b[0mlen\u001b[0m\u001b[0;34m(\u001b[0m\u001b[0mtest_data\u001b[0m\u001b[0;34m)\u001b[0m\u001b[0;34m)\u001b[0m\u001b[0;34m:\u001b[0m\u001b[0;34m\u001b[0m\u001b[0;34m\u001b[0m\u001b[0m\n\u001b[1;32m      4\u001b[0m     \u001b[0mdata\u001b[0m \u001b[0;34m=\u001b[0m \u001b[0mtest_data\u001b[0m\u001b[0;34m[\u001b[0m\u001b[0mi\u001b[0m\u001b[0;34m]\u001b[0m\u001b[0;34m\u001b[0m\u001b[0;34m\u001b[0m\u001b[0m\n\u001b[0;32m----> 5\u001b[0;31m     \u001b[0mmodel\u001b[0m\u001b[0;34m.\u001b[0m\u001b[0mfit\u001b[0m\u001b[0;34m(\u001b[0m\u001b[0mdata\u001b[0m\u001b[0;34m)\u001b[0m\u001b[0;34m\u001b[0m\u001b[0;34m\u001b[0m\u001b[0m\n\u001b[0m\u001b[1;32m      6\u001b[0m \u001b[0;34m\u001b[0m\u001b[0m\n\u001b[1;32m      7\u001b[0m \u001b[0;34m\u001b[0m\u001b[0m\n",
      "\u001b[0;32m/opt/conda/lib/python3.7/site-packages/hmmlearn/base.py\u001b[0m in \u001b[0;36mfit\u001b[0;34m(self, X, lengths)\u001b[0m\n\u001b[1;32m    509\u001b[0m             \u001b[0;32mfor\u001b[0m \u001b[0msub_X\u001b[0m \u001b[0;32min\u001b[0m \u001b[0m_utils\u001b[0m\u001b[0;34m.\u001b[0m\u001b[0msplit_X_lengths\u001b[0m\u001b[0;34m(\u001b[0m\u001b[0mX\u001b[0m\u001b[0;34m,\u001b[0m \u001b[0mlengths\u001b[0m\u001b[0;34m)\u001b[0m\u001b[0;34m:\u001b[0m\u001b[0;34m\u001b[0m\u001b[0;34m\u001b[0m\u001b[0m\n\u001b[1;32m    510\u001b[0m                 \u001b[0mlattice\u001b[0m\u001b[0;34m,\u001b[0m \u001b[0mlog_prob\u001b[0m\u001b[0;34m,\u001b[0m \u001b[0mposteriors\u001b[0m\u001b[0;34m,\u001b[0m \u001b[0mfwdlattice\u001b[0m\u001b[0;34m,\u001b[0m \u001b[0mbwdlattice\u001b[0m \u001b[0;34m=\u001b[0m\u001b[0;31m \u001b[0m\u001b[0;31m\\\u001b[0m\u001b[0;34m\u001b[0m\u001b[0;34m\u001b[0m\u001b[0m\n\u001b[0;32m--> 511\u001b[0;31m                         \u001b[0mimpl\u001b[0m\u001b[0;34m(\u001b[0m\u001b[0msub_X\u001b[0m\u001b[0;34m)\u001b[0m\u001b[0;34m\u001b[0m\u001b[0;34m\u001b[0m\u001b[0m\n\u001b[0m\u001b[1;32m    512\u001b[0m                 \u001b[0;31m# Derived HMM classes will implement the following method to\u001b[0m\u001b[0;34m\u001b[0m\u001b[0;34m\u001b[0m\u001b[0;34m\u001b[0m\u001b[0m\n\u001b[1;32m    513\u001b[0m                 \u001b[0;31m# update their probability distributions, so keep\u001b[0m\u001b[0;34m\u001b[0m\u001b[0;34m\u001b[0m\u001b[0;34m\u001b[0m\u001b[0m\n",
      "\u001b[0;32m/opt/conda/lib/python3.7/site-packages/hmmlearn/base.py\u001b[0m in \u001b[0;36m_fit_log\u001b[0;34m(self, X)\u001b[0m\n\u001b[1;32m    542\u001b[0m \u001b[0;34m\u001b[0m\u001b[0m\n\u001b[1;32m    543\u001b[0m     \u001b[0;32mdef\u001b[0m \u001b[0m_fit_log\u001b[0m\u001b[0;34m(\u001b[0m\u001b[0mself\u001b[0m\u001b[0;34m,\u001b[0m \u001b[0mX\u001b[0m\u001b[0;34m)\u001b[0m\u001b[0;34m:\u001b[0m\u001b[0;34m\u001b[0m\u001b[0;34m\u001b[0m\u001b[0m\n\u001b[0;32m--> 544\u001b[0;31m         \u001b[0mlog_frameprob\u001b[0m \u001b[0;34m=\u001b[0m \u001b[0mself\u001b[0m\u001b[0;34m.\u001b[0m\u001b[0m_compute_log_likelihood\u001b[0m\u001b[0;34m(\u001b[0m\u001b[0mX\u001b[0m\u001b[0;34m)\u001b[0m\u001b[0;34m\u001b[0m\u001b[0;34m\u001b[0m\u001b[0m\n\u001b[0m\u001b[1;32m    545\u001b[0m         log_prob, fwdlattice = _hmmc.forward_log(\n\u001b[1;32m    546\u001b[0m             self.startprob_, self.transmat_, log_frameprob)\n",
      "\u001b[0;32m/opt/conda/lib/python3.7/site-packages/hmmlearn/hmm.py\u001b[0m in \u001b[0;36m_compute_log_likelihood\u001b[0;34m(self, X)\u001b[0m\n\u001b[1;32m    226\u001b[0m     \u001b[0;32mdef\u001b[0m \u001b[0m_compute_log_likelihood\u001b[0m\u001b[0;34m(\u001b[0m\u001b[0mself\u001b[0m\u001b[0;34m,\u001b[0m \u001b[0mX\u001b[0m\u001b[0;34m)\u001b[0m\u001b[0;34m:\u001b[0m\u001b[0;34m\u001b[0m\u001b[0;34m\u001b[0m\u001b[0m\n\u001b[1;32m    227\u001b[0m         return log_multivariate_normal_density(\n\u001b[0;32m--> 228\u001b[0;31m             X, self.means_, self._covars_, self.covariance_type)\n\u001b[0m\u001b[1;32m    229\u001b[0m \u001b[0;34m\u001b[0m\u001b[0m\n\u001b[1;32m    230\u001b[0m     \u001b[0;32mdef\u001b[0m \u001b[0m_generate_sample_from_state\u001b[0m\u001b[0;34m(\u001b[0m\u001b[0mself\u001b[0m\u001b[0;34m,\u001b[0m \u001b[0mstate\u001b[0m\u001b[0;34m,\u001b[0m \u001b[0mrandom_state\u001b[0m\u001b[0;34m)\u001b[0m\u001b[0;34m:\u001b[0m\u001b[0;34m\u001b[0m\u001b[0;34m\u001b[0m\u001b[0m\n",
      "\u001b[0;32m/opt/conda/lib/python3.7/site-packages/hmmlearn/stats.py\u001b[0m in \u001b[0;36mlog_multivariate_normal_density\u001b[0;34m(X, means, covars, covariance_type)\u001b[0m\n\u001b[1;32m     41\u001b[0m         'full': _log_multivariate_normal_density_full}\n\u001b[1;32m     42\u001b[0m     return log_multivariate_normal_density_dict[covariance_type](\n\u001b[0;32m---> 43\u001b[0;31m         \u001b[0mX\u001b[0m\u001b[0;34m,\u001b[0m \u001b[0mmeans\u001b[0m\u001b[0;34m,\u001b[0m \u001b[0mcovars\u001b[0m\u001b[0;34m\u001b[0m\u001b[0;34m\u001b[0m\u001b[0m\n\u001b[0m\u001b[1;32m     44\u001b[0m     )\n\u001b[1;32m     45\u001b[0m \u001b[0;34m\u001b[0m\u001b[0m\n",
      "\u001b[0;32m/opt/conda/lib/python3.7/site-packages/hmmlearn/stats.py\u001b[0m in \u001b[0;36m_log_multivariate_normal_density_full\u001b[0;34m(X, means, covars, min_covar)\u001b[0m\n\u001b[1;32m     79\u001b[0m     \u001b[0;32mfor\u001b[0m \u001b[0mc\u001b[0m\u001b[0;34m,\u001b[0m \u001b[0;34m(\u001b[0m\u001b[0mmu\u001b[0m\u001b[0;34m,\u001b[0m \u001b[0mcv\u001b[0m\u001b[0;34m)\u001b[0m \u001b[0;32min\u001b[0m \u001b[0menumerate\u001b[0m\u001b[0;34m(\u001b[0m\u001b[0mzip\u001b[0m\u001b[0;34m(\u001b[0m\u001b[0mmeans\u001b[0m\u001b[0;34m,\u001b[0m \u001b[0mcovars\u001b[0m\u001b[0;34m)\u001b[0m\u001b[0;34m)\u001b[0m\u001b[0;34m:\u001b[0m\u001b[0;34m\u001b[0m\u001b[0;34m\u001b[0m\u001b[0m\n\u001b[1;32m     80\u001b[0m         \u001b[0;32mtry\u001b[0m\u001b[0;34m:\u001b[0m\u001b[0;34m\u001b[0m\u001b[0;34m\u001b[0m\u001b[0m\n\u001b[0;32m---> 81\u001b[0;31m             \u001b[0mcv_chol\u001b[0m \u001b[0;34m=\u001b[0m \u001b[0mlinalg\u001b[0m\u001b[0;34m.\u001b[0m\u001b[0mcholesky\u001b[0m\u001b[0;34m(\u001b[0m\u001b[0mcv\u001b[0m\u001b[0;34m,\u001b[0m \u001b[0mlower\u001b[0m\u001b[0;34m=\u001b[0m\u001b[0;32mTrue\u001b[0m\u001b[0;34m)\u001b[0m\u001b[0;34m\u001b[0m\u001b[0;34m\u001b[0m\u001b[0m\n\u001b[0m\u001b[1;32m     82\u001b[0m         \u001b[0;32mexcept\u001b[0m \u001b[0mlinalg\u001b[0m\u001b[0;34m.\u001b[0m\u001b[0mLinAlgError\u001b[0m\u001b[0;34m:\u001b[0m\u001b[0;34m\u001b[0m\u001b[0;34m\u001b[0m\u001b[0m\n\u001b[1;32m     83\u001b[0m             \u001b[0;31m# The model is most probably stuck in a component with too\u001b[0m\u001b[0;34m\u001b[0m\u001b[0;34m\u001b[0m\u001b[0;34m\u001b[0m\u001b[0m\n",
      "\u001b[0;32m/opt/conda/lib/python3.7/site-packages/scipy/linalg/decomp_cholesky.py\u001b[0m in \u001b[0;36mcholesky\u001b[0;34m(a, lower, overwrite_a, check_finite)\u001b[0m\n\u001b[1;32m     89\u001b[0m     \"\"\"\n\u001b[1;32m     90\u001b[0m     c, lower = _cholesky(a, lower=lower, overwrite_a=overwrite_a, clean=True,\n\u001b[0;32m---> 91\u001b[0;31m                          check_finite=check_finite)\n\u001b[0m\u001b[1;32m     92\u001b[0m     \u001b[0;32mreturn\u001b[0m \u001b[0mc\u001b[0m\u001b[0;34m\u001b[0m\u001b[0;34m\u001b[0m\u001b[0m\n\u001b[1;32m     93\u001b[0m \u001b[0;34m\u001b[0m\u001b[0m\n",
      "\u001b[0;32m/opt/conda/lib/python3.7/site-packages/scipy/linalg/decomp_cholesky.py\u001b[0m in \u001b[0;36m_cholesky\u001b[0;34m(a, lower, overwrite_a, clean, check_finite)\u001b[0m\n\u001b[1;32m     17\u001b[0m     \u001b[0;34m\"\"\"Common code for cholesky() and cho_factor().\"\"\"\u001b[0m\u001b[0;34m\u001b[0m\u001b[0;34m\u001b[0m\u001b[0m\n\u001b[1;32m     18\u001b[0m \u001b[0;34m\u001b[0m\u001b[0m\n\u001b[0;32m---> 19\u001b[0;31m     \u001b[0ma1\u001b[0m \u001b[0;34m=\u001b[0m \u001b[0masarray_chkfinite\u001b[0m\u001b[0;34m(\u001b[0m\u001b[0ma\u001b[0m\u001b[0;34m)\u001b[0m \u001b[0;32mif\u001b[0m \u001b[0mcheck_finite\u001b[0m \u001b[0;32melse\u001b[0m \u001b[0masarray\u001b[0m\u001b[0;34m(\u001b[0m\u001b[0ma\u001b[0m\u001b[0;34m)\u001b[0m\u001b[0;34m\u001b[0m\u001b[0;34m\u001b[0m\u001b[0m\n\u001b[0m\u001b[1;32m     20\u001b[0m     \u001b[0ma1\u001b[0m \u001b[0;34m=\u001b[0m \u001b[0matleast_2d\u001b[0m\u001b[0;34m(\u001b[0m\u001b[0ma1\u001b[0m\u001b[0;34m)\u001b[0m\u001b[0;34m\u001b[0m\u001b[0;34m\u001b[0m\u001b[0m\n\u001b[1;32m     21\u001b[0m \u001b[0;34m\u001b[0m\u001b[0m\n",
      "\u001b[0;32m/opt/conda/lib/python3.7/site-packages/numpy/lib/function_base.py\u001b[0m in \u001b[0;36masarray_chkfinite\u001b[0;34m(a, dtype, order)\u001b[0m\n\u001b[1;32m    487\u001b[0m     \u001b[0;32mif\u001b[0m \u001b[0ma\u001b[0m\u001b[0;34m.\u001b[0m\u001b[0mdtype\u001b[0m\u001b[0;34m.\u001b[0m\u001b[0mchar\u001b[0m \u001b[0;32min\u001b[0m \u001b[0mtypecodes\u001b[0m\u001b[0;34m[\u001b[0m\u001b[0;34m'AllFloat'\u001b[0m\u001b[0;34m]\u001b[0m \u001b[0;32mand\u001b[0m \u001b[0;32mnot\u001b[0m \u001b[0mnp\u001b[0m\u001b[0;34m.\u001b[0m\u001b[0misfinite\u001b[0m\u001b[0;34m(\u001b[0m\u001b[0ma\u001b[0m\u001b[0;34m)\u001b[0m\u001b[0;34m.\u001b[0m\u001b[0mall\u001b[0m\u001b[0;34m(\u001b[0m\u001b[0;34m)\u001b[0m\u001b[0;34m:\u001b[0m\u001b[0;34m\u001b[0m\u001b[0;34m\u001b[0m\u001b[0m\n\u001b[1;32m    488\u001b[0m         raise ValueError(\n\u001b[0;32m--> 489\u001b[0;31m             \"array must not contain infs or NaNs\")\n\u001b[0m\u001b[1;32m    490\u001b[0m     \u001b[0;32mreturn\u001b[0m \u001b[0ma\u001b[0m\u001b[0;34m\u001b[0m\u001b[0;34m\u001b[0m\u001b[0m\n\u001b[1;32m    491\u001b[0m \u001b[0;34m\u001b[0m\u001b[0m\n",
      "\u001b[0;31mValueError\u001b[0m: array must not contain infs or NaNs"
     ]
    }
   ],
   "source": [
    "## init mpdel\n",
    "model = hmm.GaussianHMM(n_components=4, covariance_type=\"full\",init_params='')\n",
    "for i in range(len(test_data)):\n",
    "    data = test_data[i]   \n",
    "    model.fit(data)\n",
    " \n",
    "\n",
    "    model.startprob_prior = model.startprob_\n",
    "    model.transmat_prior = model.transmat_\n",
    "    model.means_prior = model.means_\n",
    "    model.covars_prior = model.covars_\n",
    "    \n",
    "    print(f\"{i},\\n startprob is \\n {model.startprob_},\\n transmat is \\n{ model.transmat_}\")\n",
    "    "
   ]
  },
  {
   "cell_type": "markdown",
   "id": "be2b4cf7-964c-4133-835a-4b779d02fdd4",
   "metadata": {
    "tags": []
   },
   "source": [
    "## Model 3.0\n",
    "#### Will use the previous model before I figure out how to deal with singularity..."
   ]
  },
  {
   "cell_type": "code",
   "execution_count": 5,
   "id": "0bcc16a5-aa7a-4a45-9eda-e3efacb4902c",
   "metadata": {
    "tags": []
   },
   "outputs": [],
   "source": [
    "df = pd.read_csv('preprocessed.csv')"
   ]
  },
  {
   "cell_type": "code",
   "execution_count": 6,
   "id": "663ef03a-fdfc-4d78-86ef-484a2515c939",
   "metadata": {
    "tags": []
   },
   "outputs": [
    {
     "data": {
      "text/html": [
       "<div>\n",
       "<style scoped>\n",
       "    .dataframe tbody tr th:only-of-type {\n",
       "        vertical-align: middle;\n",
       "    }\n",
       "\n",
       "    .dataframe tbody tr th {\n",
       "        vertical-align: top;\n",
       "    }\n",
       "\n",
       "    .dataframe thead th {\n",
       "        text-align: right;\n",
       "    }\n",
       "</style>\n",
       "<table border=\"1\" class=\"dataframe\">\n",
       "  <thead>\n",
       "    <tr style=\"text-align: right;\">\n",
       "      <th></th>\n",
       "      <th>Unnamed: 0</th>\n",
       "      <th>Timestamp</th>\n",
       "      <th>InstanceId</th>\n",
       "      <th>scaled_mem</th>\n",
       "      <th>scaled_cpu</th>\n",
       "    </tr>\n",
       "  </thead>\n",
       "  <tbody>\n",
       "    <tr>\n",
       "      <th>0</th>\n",
       "      <td>0</td>\n",
       "      <td>1657188368827</td>\n",
       "      <td>i-0fd528a5b4db63a58</td>\n",
       "      <td>0.929672</td>\n",
       "      <td>1.821592</td>\n",
       "    </tr>\n",
       "    <tr>\n",
       "      <th>1</th>\n",
       "      <td>1</td>\n",
       "      <td>1657188370769</td>\n",
       "      <td>i-0f83dfb0d9ea9120a</td>\n",
       "      <td>0.306372</td>\n",
       "      <td>-0.288206</td>\n",
       "    </tr>\n",
       "    <tr>\n",
       "      <th>2</th>\n",
       "      <td>2</td>\n",
       "      <td>1657188378585</td>\n",
       "      <td>i-0294f49d42a8a6084</td>\n",
       "      <td>1.929476</td>\n",
       "      <td>0.305287</td>\n",
       "    </tr>\n",
       "    <tr>\n",
       "      <th>3</th>\n",
       "      <td>3</td>\n",
       "      <td>1657188380656</td>\n",
       "      <td>i-0135cde94606361ca</td>\n",
       "      <td>1.325316</td>\n",
       "      <td>3.473258</td>\n",
       "    </tr>\n",
       "    <tr>\n",
       "      <th>4</th>\n",
       "      <td>4</td>\n",
       "      <td>1657188381211</td>\n",
       "      <td>i-052ff6e758e5066a8</td>\n",
       "      <td>0.059157</td>\n",
       "      <td>-0.148335</td>\n",
       "    </tr>\n",
       "  </tbody>\n",
       "</table>\n",
       "</div>"
      ],
      "text/plain": [
       "   Unnamed: 0      Timestamp           InstanceId  scaled_mem  scaled_cpu\n",
       "0           0  1657188368827  i-0fd528a5b4db63a58    0.929672    1.821592\n",
       "1           1  1657188370769  i-0f83dfb0d9ea9120a    0.306372   -0.288206\n",
       "2           2  1657188378585  i-0294f49d42a8a6084    1.929476    0.305287\n",
       "3           3  1657188380656  i-0135cde94606361ca    1.325316    3.473258\n",
       "4           4  1657188381211  i-052ff6e758e5066a8    0.059157   -0.148335"
      ]
     },
     "execution_count": 6,
     "metadata": {},
     "output_type": "execute_result"
    }
   ],
   "source": [
    "df.head()"
   ]
  },
  {
   "cell_type": "code",
   "execution_count": 23,
   "id": "ef0371cb-ae04-4bd1-b496-d46cd4713384",
   "metadata": {
    "tags": []
   },
   "outputs": [],
   "source": [
    "df = df[['Timestamp','InstanceId','scaled_mem','scaled_cpu']]"
   ]
  },
  {
   "cell_type": "code",
   "execution_count": 7,
   "id": "cb05a7d6-144a-4085-ada6-5f5e4bb440d8",
   "metadata": {
    "tags": []
   },
   "outputs": [],
   "source": [
    "import datetime\n",
    "df.sort_values(by=['InstanceId','Timestamp'])\n",
    "df['Timestamp'] = df['Timestamp'].apply(lambda x: datetime.datetime.fromtimestamp(x/1000).strftime('%H:%M'))"
   ]
  },
  {
   "cell_type": "code",
   "execution_count": 8,
   "id": "a53d43ab-85bb-449e-a5ae-d264ade63cc1",
   "metadata": {
    "tags": []
   },
   "outputs": [
    {
     "data": {
      "text/plain": [
       "'11:09'"
      ]
     },
     "execution_count": 8,
     "metadata": {},
     "output_type": "execute_result"
    }
   ],
   "source": [
    "df.Timestamp.max()"
   ]
  },
  {
   "cell_type": "code",
   "execution_count": null,
   "id": "cb26c203-2de1-4f6f-a8d6-03e874307479",
   "metadata": {},
   "outputs": [],
   "source": [
    "impo"
   ]
  },
  {
   "cell_type": "code",
   "execution_count": 105,
   "id": "cc76ae64-0bff-421d-8ca0-16d14cc1ae5d",
   "metadata": {},
   "outputs": [],
   "source": [
    "## fe\n",
    "import random\n",
    "def feature_engineer(df,n_sample,n_slice):\n",
    "    df = df.sort_values(by=[\"InstanceId\",\"Timestamp\"])\n",
    "    res = None\n",
    "    instancelist = list(df.InstanceId.unique())\n",
    "    i = 0\n",
    "    while i <n_sample:\n",
    "\n",
    "        instance = random.choice(instancelist)\n",
    "        subdf = df[df.InstanceId==instance]\n",
    "        \n",
    "        if subdf.shape[0]<n_slice:\n",
    "           \n",
    "            continue\n",
    "        elif subdf.shape[0]==n_slice:\n",
    "          \n",
    "            add =subdf\n",
    "        else: \n",
    "            \n",
    "            start = random.randrange(subdf.shape[0])\n",
    "            add = subdf[start:start+n_slice]\n",
    "            \n",
    "        if res is None:\n",
    "            res = add     \n",
    "        else:\n",
    "            res = pd.concat([res,add])\n",
    "        \n",
    "        i+=1\n",
    "    return res\n",
    "        \n",
    "        \n"
   ]
  },
  {
   "cell_type": "code",
   "execution_count": null,
   "id": "a86250f4-e8a7-418e-8ae5-884e75dd8a32",
   "metadata": {},
   "outputs": [],
   "source": [
    "# no i dont think we could randomly split data at the begining, cause it will lead to missing consecutive"
   ]
  },
  {
   "cell_type": "markdown",
   "id": "18b8dedf-142c-4cb9-80a5-af2a8b12d35f",
   "metadata": {
    "tags": []
   },
   "source": [
    "from sklearn.model_selection import train_test_split\n",
    "x_train,x_test = train_test_split(df,test_size=0.5,random_state=123)"
   ]
  },
  {
   "cell_type": "code",
   "execution_count": 104,
   "id": "7bc47f19-9d91-4d67-b86b-c5e48ff66414",
   "metadata": {
    "tags": []
   },
   "outputs": [
    {
     "data": {
      "text/html": [
       "<div>\n",
       "<style scoped>\n",
       "    .dataframe tbody tr th:only-of-type {\n",
       "        vertical-align: middle;\n",
       "    }\n",
       "\n",
       "    .dataframe tbody tr th {\n",
       "        vertical-align: top;\n",
       "    }\n",
       "\n",
       "    .dataframe thead th {\n",
       "        text-align: right;\n",
       "    }\n",
       "</style>\n",
       "<table border=\"1\" class=\"dataframe\">\n",
       "  <thead>\n",
       "    <tr style=\"text-align: right;\">\n",
       "      <th></th>\n",
       "      <th>Timestamp</th>\n",
       "      <th>InstanceId</th>\n",
       "      <th>scaled_mem</th>\n",
       "      <th>scaled_cpu</th>\n",
       "      <th>x_train</th>\n",
       "    </tr>\n",
       "  </thead>\n",
       "  <tbody>\n",
       "    <tr>\n",
       "      <th>1</th>\n",
       "      <td>10:06</td>\n",
       "      <td>i-0f83dfb0d9ea9120a</td>\n",
       "      <td>0.306372</td>\n",
       "      <td>-0.288206</td>\n",
       "      <td>True</td>\n",
       "    </tr>\n",
       "    <tr>\n",
       "      <th>8</th>\n",
       "      <td>10:06</td>\n",
       "      <td>i-0c637059400cc0a16</td>\n",
       "      <td>0.002217</td>\n",
       "      <td>0.230518</td>\n",
       "      <td>True</td>\n",
       "    </tr>\n",
       "    <tr>\n",
       "      <th>9</th>\n",
       "      <td>10:06</td>\n",
       "      <td>i-02affffaac578c9be</td>\n",
       "      <td>1.894043</td>\n",
       "      <td>2.333259</td>\n",
       "      <td>True</td>\n",
       "    </tr>\n",
       "    <tr>\n",
       "      <th>12</th>\n",
       "      <td>10:06</td>\n",
       "      <td>i-07d5a4beefdf609af</td>\n",
       "      <td>-0.761971</td>\n",
       "      <td>-0.149494</td>\n",
       "      <td>True</td>\n",
       "    </tr>\n",
       "    <tr>\n",
       "      <th>13</th>\n",
       "      <td>10:06</td>\n",
       "      <td>i-0769368b6b4490aa7</td>\n",
       "      <td>1.749880</td>\n",
       "      <td>1.496290</td>\n",
       "      <td>True</td>\n",
       "    </tr>\n",
       "  </tbody>\n",
       "</table>\n",
       "</div>"
      ],
      "text/plain": [
       "   Timestamp           InstanceId  scaled_mem  scaled_cpu  x_train\n",
       "1      10:06  i-0f83dfb0d9ea9120a    0.306372   -0.288206     True\n",
       "8      10:06  i-0c637059400cc0a16    0.002217    0.230518     True\n",
       "9      10:06  i-02affffaac578c9be    1.894043    2.333259     True\n",
       "12     10:06  i-07d5a4beefdf609af   -0.761971   -0.149494     True\n",
       "13     10:06  i-0769368b6b4490aa7    1.749880    1.496290     True"
      ]
     },
     "execution_count": 104,
     "metadata": {},
     "output_type": "execute_result"
    }
   ],
   "source": [
    "x_train.head()"
   ]
  },
  {
   "cell_type": "code",
   "execution_count": 117,
   "id": "d9afeea7-e0d3-4626-ba11-7c631b109b36",
   "metadata": {
    "tags": []
   },
   "outputs": [],
   "source": [
    "train = feature_engineer(x_train,100,12)"
   ]
  },
  {
   "cell_type": "code",
   "execution_count": 118,
   "id": "70d87708-43d5-4da0-b033-5ec14d0bcf0e",
   "metadata": {
    "tags": []
   },
   "outputs": [
    {
     "data": {
      "text/html": [
       "<div>\n",
       "<style scoped>\n",
       "    .dataframe tbody tr th:only-of-type {\n",
       "        vertical-align: middle;\n",
       "    }\n",
       "\n",
       "    .dataframe tbody tr th {\n",
       "        vertical-align: top;\n",
       "    }\n",
       "\n",
       "    .dataframe thead th {\n",
       "        text-align: right;\n",
       "    }\n",
       "</style>\n",
       "<table border=\"1\" class=\"dataframe\">\n",
       "  <thead>\n",
       "    <tr style=\"text-align: right;\">\n",
       "      <th></th>\n",
       "      <th>Timestamp</th>\n",
       "      <th>InstanceId</th>\n",
       "      <th>scaled_mem</th>\n",
       "      <th>scaled_cpu</th>\n",
       "      <th>x_train</th>\n",
       "    </tr>\n",
       "  </thead>\n",
       "  <tbody>\n",
       "    <tr>\n",
       "      <th>16763</th>\n",
       "      <td>10:56</td>\n",
       "      <td>i-0eef78a69a346936b</td>\n",
       "      <td>-0.920309</td>\n",
       "      <td>0.868947</td>\n",
       "      <td>True</td>\n",
       "    </tr>\n",
       "    <tr>\n",
       "      <th>16855</th>\n",
       "      <td>10:57</td>\n",
       "      <td>i-0eef78a69a346936b</td>\n",
       "      <td>0.686362</td>\n",
       "      <td>0.542858</td>\n",
       "      <td>True</td>\n",
       "    </tr>\n",
       "    <tr>\n",
       "      <th>16934</th>\n",
       "      <td>10:57</td>\n",
       "      <td>i-0eef78a69a346936b</td>\n",
       "      <td>-1.008322</td>\n",
       "      <td>0.631681</td>\n",
       "      <td>True</td>\n",
       "    </tr>\n",
       "    <tr>\n",
       "      <th>17005</th>\n",
       "      <td>10:58</td>\n",
       "      <td>i-0eef78a69a346936b</td>\n",
       "      <td>-0.330501</td>\n",
       "      <td>0.656388</td>\n",
       "      <td>True</td>\n",
       "    </tr>\n",
       "    <tr>\n",
       "      <th>17097</th>\n",
       "      <td>10:59</td>\n",
       "      <td>i-0eef78a69a346936b</td>\n",
       "      <td>-0.444869</td>\n",
       "      <td>0.748894</td>\n",
       "      <td>True</td>\n",
       "    </tr>\n",
       "  </tbody>\n",
       "</table>\n",
       "</div>"
      ],
      "text/plain": [
       "      Timestamp           InstanceId  scaled_mem  scaled_cpu  x_train\n",
       "16763     10:56  i-0eef78a69a346936b   -0.920309    0.868947     True\n",
       "16855     10:57  i-0eef78a69a346936b    0.686362    0.542858     True\n",
       "16934     10:57  i-0eef78a69a346936b   -1.008322    0.631681     True\n",
       "17005     10:58  i-0eef78a69a346936b   -0.330501    0.656388     True\n",
       "17097     10:59  i-0eef78a69a346936b   -0.444869    0.748894     True"
      ]
     },
     "execution_count": 118,
     "metadata": {},
     "output_type": "execute_result"
    }
   ],
   "source": [
    "train.head()"
   ]
  },
  {
   "cell_type": "code",
   "execution_count": 119,
   "id": "05359edc-eb95-498a-9257-d705697aa5c2",
   "metadata": {
    "tags": []
   },
   "outputs": [],
   "source": [
    "train = train[['Timestamp','scaled_mem','scaled_cpu']]"
   ]
  },
  {
   "cell_type": "code",
   "execution_count": 109,
   "id": "080912ce-e0aa-4532-9d2b-7d797cce4c5d",
   "metadata": {
    "tags": []
   },
   "outputs": [
    {
     "data": {
      "text/plain": [
       "67"
      ]
     },
     "execution_count": 109,
     "metadata": {},
     "output_type": "execute_result"
    }
   ],
   "source": [
    "len(train.Timestamp.unique())"
   ]
  },
  {
   "cell_type": "code",
   "execution_count": 110,
   "id": "2bd877b2-762a-4684-a92d-fc8f8d2ecb9f",
   "metadata": {
    "tags": []
   },
   "outputs": [
    {
     "data": {
      "text/plain": [
       "1083"
      ]
     },
     "execution_count": 110,
     "metadata": {},
     "output_type": "execute_result"
    }
   ],
   "source": [
    "len(train)"
   ]
  },
  {
   "cell_type": "code",
   "execution_count": 120,
   "id": "8a91712b-96f8-48c6-9007-c8e62f09df3b",
   "metadata": {
    "tags": []
   },
   "outputs": [],
   "source": [
    "train = train.groupby(by='Timestamp').mean().values"
   ]
  },
  {
   "cell_type": "code",
   "execution_count": 121,
   "id": "36e65f19-ba12-40ef-b7b5-758a079fabb1",
   "metadata": {
    "tags": []
   },
   "outputs": [
    {
     "data": {
      "text/plain": [
       "array([[ 0.2164818 ,  0.16835622],\n",
       "       [-0.6456965 ,  2.09674187],\n",
       "       [-0.78026995, -0.75150639],\n",
       "       [-1.12977204,  0.22988862],\n",
       "       [-1.08932476,  0.21064662]])"
      ]
     },
     "execution_count": 121,
     "metadata": {},
     "output_type": "execute_result"
    }
   ],
   "source": [
    "train[:5]"
   ]
  },
  {
   "cell_type": "code",
   "execution_count": 126,
   "id": "b7c047ca-026c-473f-84da-6051174fd350",
   "metadata": {
    "tags": []
   },
   "outputs": [],
   "source": [
    "model = hmm.GaussianHMM(n_components=2, covariance_type=\"full\",init_params='stmc')"
   ]
  },
  {
   "cell_type": "code",
   "execution_count": 127,
   "id": "95eeaf1c-342b-43e6-a65c-ff1aabe82153",
   "metadata": {
    "tags": []
   },
   "outputs": [
    {
     "data": {
      "text/plain": [
       "GaussianHMM(algorithm='viterbi', covariance_type='full', covars_prior=0.01,\n",
       "            covars_weight=1, implementation='log', init_params='stmc',\n",
       "            means_prior=0, means_weight=0, min_covar=0.001, n_components=2,\n",
       "            n_iter=10, params='stmc', random_state=None, startprob_prior=1.0,\n",
       "            tol=0.01, transmat_prior=1.0, verbose=False)"
      ]
     },
     "execution_count": 127,
     "metadata": {},
     "output_type": "execute_result"
    }
   ],
   "source": [
    "model.fit(train)"
   ]
  },
  {
   "cell_type": "code",
   "execution_count": 128,
   "id": "b9ac073a-fdaa-4a09-9bbd-a249c86e5da7",
   "metadata": {
    "tags": []
   },
   "outputs": [
    {
     "data": {
      "text/plain": [
       "-43.04972348451919"
      ]
     },
     "execution_count": 128,
     "metadata": {},
     "output_type": "execute_result"
    }
   ],
   "source": [
    "model.score(train)"
   ]
  },
  {
   "cell_type": "code",
   "execution_count": 129,
   "id": "a2f96ba6-5193-47c6-b88b-351ad7551d8f",
   "metadata": {
    "tags": []
   },
   "outputs": [
    {
     "data": {
      "text/plain": [
       "array([1.0000000e+00, 1.5977254e-15])"
      ]
     },
     "execution_count": 129,
     "metadata": {},
     "output_type": "execute_result"
    }
   ],
   "source": [
    "model.startprob_"
   ]
  },
  {
   "cell_type": "code",
   "execution_count": 130,
   "id": "c8347c04-d571-4217-8ae8-2414cac22d63",
   "metadata": {
    "tags": []
   },
   "outputs": [
    {
     "data": {
      "text/plain": [
       "array([[0.95477657, 0.04522343],\n",
       "       [0.20598938, 0.79401062]])"
      ]
     },
     "execution_count": 130,
     "metadata": {},
     "output_type": "execute_result"
    }
   ],
   "source": [
    "model.transmat_"
   ]
  },
  {
   "cell_type": "code",
   "execution_count": 135,
   "id": "88a4af13-b4a5-4232-b05b-ebdc8c796081",
   "metadata": {
    "tags": []
   },
   "outputs": [
    {
     "data": {
      "text/plain": [
       "array([0, 1, 1, 1, 1, 1, 1, 1, 0, 0, 0, 0, 0, 0, 0, 0, 0, 0, 0, 0, 0, 0,\n",
       "       0, 0, 0, 0, 0, 0, 0, 0, 0, 0, 0, 0, 0, 0, 0, 0, 0, 0, 0, 0, 0, 0,\n",
       "       0, 0, 0, 0, 0, 0, 0, 0, 0, 0, 0, 0, 0, 0, 0, 0, 0, 0, 0, 0, 0, 0,\n",
       "       0, 0, 0, 1])"
      ]
     },
     "execution_count": 135,
     "metadata": {},
     "output_type": "execute_result"
    }
   ],
   "source": [
    "model.predict(train)"
   ]
  },
  {
   "cell_type": "code",
   "execution_count": 136,
   "id": "902ee29c-33ce-4b51-a3f4-f92e970c9e0f",
   "metadata": {},
   "outputs": [
    {
     "data": {
      "text/html": [
       "<div>\n",
       "<style scoped>\n",
       "    .dataframe tbody tr th:only-of-type {\n",
       "        vertical-align: middle;\n",
       "    }\n",
       "\n",
       "    .dataframe tbody tr th {\n",
       "        vertical-align: top;\n",
       "    }\n",
       "\n",
       "    .dataframe thead th {\n",
       "        text-align: right;\n",
       "    }\n",
       "</style>\n",
       "<table border=\"1\" class=\"dataframe\">\n",
       "  <thead>\n",
       "    <tr style=\"text-align: right;\">\n",
       "      <th></th>\n",
       "      <th>Timestamp</th>\n",
       "      <th>InstanceId</th>\n",
       "      <th>scaled_mem</th>\n",
       "      <th>scaled_cpu</th>\n",
       "      <th>x_train</th>\n",
       "    </tr>\n",
       "  </thead>\n",
       "  <tbody>\n",
       "    <tr>\n",
       "      <th>0</th>\n",
       "      <td>10:06</td>\n",
       "      <td>i-0fd528a5b4db63a58</td>\n",
       "      <td>0.929672</td>\n",
       "      <td>1.821592</td>\n",
       "      <td>False</td>\n",
       "    </tr>\n",
       "    <tr>\n",
       "      <th>2</th>\n",
       "      <td>10:06</td>\n",
       "      <td>i-0294f49d42a8a6084</td>\n",
       "      <td>1.929476</td>\n",
       "      <td>0.305287</td>\n",
       "      <td>False</td>\n",
       "    </tr>\n",
       "    <tr>\n",
       "      <th>3</th>\n",
       "      <td>10:06</td>\n",
       "      <td>i-0135cde94606361ca</td>\n",
       "      <td>1.325316</td>\n",
       "      <td>3.473258</td>\n",
       "      <td>False</td>\n",
       "    </tr>\n",
       "    <tr>\n",
       "      <th>4</th>\n",
       "      <td>10:06</td>\n",
       "      <td>i-052ff6e758e5066a8</td>\n",
       "      <td>0.059157</td>\n",
       "      <td>-0.148335</td>\n",
       "      <td>False</td>\n",
       "    </tr>\n",
       "    <tr>\n",
       "      <th>5</th>\n",
       "      <td>10:06</td>\n",
       "      <td>i-0bfd6c8b0f189e6bb</td>\n",
       "      <td>0.379126</td>\n",
       "      <td>0.408945</td>\n",
       "      <td>False</td>\n",
       "    </tr>\n",
       "  </tbody>\n",
       "</table>\n",
       "</div>"
      ],
      "text/plain": [
       "  Timestamp           InstanceId  scaled_mem  scaled_cpu  x_train\n",
       "0     10:06  i-0fd528a5b4db63a58    0.929672    1.821592    False\n",
       "2     10:06  i-0294f49d42a8a6084    1.929476    0.305287    False\n",
       "3     10:06  i-0135cde94606361ca    1.325316    3.473258    False\n",
       "4     10:06  i-052ff6e758e5066a8    0.059157   -0.148335    False\n",
       "5     10:06  i-0bfd6c8b0f189e6bb    0.379126    0.408945    False"
      ]
     },
     "execution_count": 136,
     "metadata": {},
     "output_type": "execute_result"
    }
   ],
   "source": [
    "x_test.head()"
   ]
  },
  {
   "cell_type": "code",
   "execution_count": null,
   "id": "d0f912b2-24d8-44a6-8d7f-325eb24bc965",
   "metadata": {},
   "outputs": [],
   "source": [
    "test = feature_engineer("
   ]
  }
 ],
 "metadata": {
  "instance_type": "ml.m5.12xlarge",
  "kernelspec": {
   "display_name": "Python 3 (Data Science)",
   "language": "python",
   "name": "python3__SAGEMAKER_INTERNAL__arn:aws:sagemaker:us-west-2:236514542706:image/datascience-1.0"
  },
  "language_info": {
   "codemirror_mode": {
    "name": "ipython",
    "version": 3
   },
   "file_extension": ".py",
   "mimetype": "text/x-python",
   "name": "python",
   "nbconvert_exporter": "python",
   "pygments_lexer": "ipython3",
   "version": "3.7.10"
  }
 },
 "nbformat": 4,
 "nbformat_minor": 5
}
