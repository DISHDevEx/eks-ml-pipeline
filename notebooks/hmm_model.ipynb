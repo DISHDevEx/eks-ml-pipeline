{
 "cells": [
  {
   "cell_type": "markdown",
   "id": "411348de-7828-40bb-bce3-83be2b1e0c9b",
   "metadata": {},
   "source": [
    "## Serves as a advanced node model which focuses on building model on multiple nodes"
   ]
  },
  {
   "cell_type": "code",
   "execution_count": null,
   "id": "3879d818-5d00-439f-ba23-92f0b4db3b0b",
   "metadata": {},
   "outputs": [],
   "source": [
    "import boto3\n",
    "import pandas as pd\n",
    "from sagemaker import get_execution_role\n",
    "\n",
    "role = get_execution_rxfole()\n",
    "bucket='my-bucket'\n",
    "data_key = 'train.csv'\n",
    "data_location = 's3://{}/{}'.format(bucket, data_key)\n",
    "\n",
    "pd.read_csv(data_location)"
   ]
  },
  {
   "cell_type": "code",
   "execution_count": 3,
   "id": "bd6808e9-097e-46c1-8d65-286633930100",
   "metadata": {},
   "outputs": [],
   "source": [
    "import boto3\n",
    "import pandas as pd\n",
    "from sagemaker import get_execution_role"
   ]
  },
  {
   "cell_type": "code",
   "execution_count": 5,
   "id": "f6f1d42d-3152-497b-93d4-765b23e436bc",
   "metadata": {
    "tags": []
   },
   "outputs": [],
   "source": [
    "role = get_execution_role()"
   ]
  },
  {
   "cell_type": "code",
   "execution_count": 9,
   "id": "d58af791-6038-44be-a62f-dcd44cacaa28",
   "metadata": {
    "collapsed": true,
    "jupyter": {
     "outputs_hidden": true
    },
    "tags": []
   },
   "outputs": [
    {
     "ename": "UnicodeDecodeError",
     "evalue": "'utf-8' codec can't decode byte 0xb0 in position 7: invalid start byte",
     "output_type": "error",
     "traceback": [
      "\u001b[0;31m---------------------------------------------------------------------------\u001b[0m",
      "\u001b[0;31mUnicodeDecodeError\u001b[0m                        Traceback (most recent call last)",
      "\u001b[0;32m<ipython-input-9-c4bb5fedaefd>\u001b[0m in \u001b[0;36m<module>\u001b[0;34m\u001b[0m\n\u001b[0;32m----> 1\u001b[0;31m \u001b[0mpd\u001b[0m\u001b[0;34m.\u001b[0m\u001b[0mread_csv\u001b[0m\u001b[0;34m(\u001b[0m\u001b[0;34mr\"s3://dish-5g.core.pd.g.dp.eks.logs.e/node_hmm_ad/v0.0.1/data/pandas_df/training_2022_9_29.parquet\"\u001b[0m\u001b[0;34m)\u001b[0m\u001b[0;34m\u001b[0m\u001b[0;34m\u001b[0m\u001b[0m\n\u001b[0m",
      "\u001b[0;32m/opt/conda/lib/python3.7/site-packages/pandas/util/_decorators.py\u001b[0m in \u001b[0;36mwrapper\u001b[0;34m(*args, **kwargs)\u001b[0m\n\u001b[1;32m    309\u001b[0m                     \u001b[0mstacklevel\u001b[0m\u001b[0;34m=\u001b[0m\u001b[0mstacklevel\u001b[0m\u001b[0;34m,\u001b[0m\u001b[0;34m\u001b[0m\u001b[0;34m\u001b[0m\u001b[0m\n\u001b[1;32m    310\u001b[0m                 )\n\u001b[0;32m--> 311\u001b[0;31m             \u001b[0;32mreturn\u001b[0m \u001b[0mfunc\u001b[0m\u001b[0;34m(\u001b[0m\u001b[0;34m*\u001b[0m\u001b[0margs\u001b[0m\u001b[0;34m,\u001b[0m \u001b[0;34m**\u001b[0m\u001b[0mkwargs\u001b[0m\u001b[0;34m)\u001b[0m\u001b[0;34m\u001b[0m\u001b[0;34m\u001b[0m\u001b[0m\n\u001b[0m\u001b[1;32m    312\u001b[0m \u001b[0;34m\u001b[0m\u001b[0m\n\u001b[1;32m    313\u001b[0m         \u001b[0;32mreturn\u001b[0m \u001b[0mwrapper\u001b[0m\u001b[0;34m\u001b[0m\u001b[0;34m\u001b[0m\u001b[0m\n",
      "\u001b[0;32m/opt/conda/lib/python3.7/site-packages/pandas/io/parsers/readers.py\u001b[0m in \u001b[0;36mread_csv\u001b[0;34m(filepath_or_buffer, sep, delimiter, header, names, index_col, usecols, squeeze, prefix, mangle_dupe_cols, dtype, engine, converters, true_values, false_values, skipinitialspace, skiprows, skipfooter, nrows, na_values, keep_default_na, na_filter, verbose, skip_blank_lines, parse_dates, infer_datetime_format, keep_date_col, date_parser, dayfirst, cache_dates, iterator, chunksize, compression, thousands, decimal, lineterminator, quotechar, quoting, doublequote, escapechar, comment, encoding, encoding_errors, dialect, error_bad_lines, warn_bad_lines, on_bad_lines, delim_whitespace, low_memory, memory_map, float_precision, storage_options)\u001b[0m\n\u001b[1;32m    584\u001b[0m     \u001b[0mkwds\u001b[0m\u001b[0;34m.\u001b[0m\u001b[0mupdate\u001b[0m\u001b[0;34m(\u001b[0m\u001b[0mkwds_defaults\u001b[0m\u001b[0;34m)\u001b[0m\u001b[0;34m\u001b[0m\u001b[0;34m\u001b[0m\u001b[0m\n\u001b[1;32m    585\u001b[0m \u001b[0;34m\u001b[0m\u001b[0m\n\u001b[0;32m--> 586\u001b[0;31m     \u001b[0;32mreturn\u001b[0m \u001b[0m_read\u001b[0m\u001b[0;34m(\u001b[0m\u001b[0mfilepath_or_buffer\u001b[0m\u001b[0;34m,\u001b[0m \u001b[0mkwds\u001b[0m\u001b[0;34m)\u001b[0m\u001b[0;34m\u001b[0m\u001b[0;34m\u001b[0m\u001b[0m\n\u001b[0m\u001b[1;32m    587\u001b[0m \u001b[0;34m\u001b[0m\u001b[0m\n\u001b[1;32m    588\u001b[0m \u001b[0;34m\u001b[0m\u001b[0m\n",
      "\u001b[0;32m/opt/conda/lib/python3.7/site-packages/pandas/io/parsers/readers.py\u001b[0m in \u001b[0;36m_read\u001b[0;34m(filepath_or_buffer, kwds)\u001b[0m\n\u001b[1;32m    480\u001b[0m \u001b[0;34m\u001b[0m\u001b[0m\n\u001b[1;32m    481\u001b[0m     \u001b[0;31m# Create the parser.\u001b[0m\u001b[0;34m\u001b[0m\u001b[0;34m\u001b[0m\u001b[0;34m\u001b[0m\u001b[0m\n\u001b[0;32m--> 482\u001b[0;31m     \u001b[0mparser\u001b[0m \u001b[0;34m=\u001b[0m \u001b[0mTextFileReader\u001b[0m\u001b[0;34m(\u001b[0m\u001b[0mfilepath_or_buffer\u001b[0m\u001b[0;34m,\u001b[0m \u001b[0;34m**\u001b[0m\u001b[0mkwds\u001b[0m\u001b[0;34m)\u001b[0m\u001b[0;34m\u001b[0m\u001b[0;34m\u001b[0m\u001b[0m\n\u001b[0m\u001b[1;32m    483\u001b[0m \u001b[0;34m\u001b[0m\u001b[0m\n\u001b[1;32m    484\u001b[0m     \u001b[0;32mif\u001b[0m \u001b[0mchunksize\u001b[0m \u001b[0;32mor\u001b[0m \u001b[0miterator\u001b[0m\u001b[0;34m:\u001b[0m\u001b[0;34m\u001b[0m\u001b[0;34m\u001b[0m\u001b[0m\n",
      "\u001b[0;32m/opt/conda/lib/python3.7/site-packages/pandas/io/parsers/readers.py\u001b[0m in \u001b[0;36m__init__\u001b[0;34m(self, f, engine, **kwds)\u001b[0m\n\u001b[1;32m    809\u001b[0m             \u001b[0mself\u001b[0m\u001b[0;34m.\u001b[0m\u001b[0moptions\u001b[0m\u001b[0;34m[\u001b[0m\u001b[0;34m\"has_index_names\"\u001b[0m\u001b[0;34m]\u001b[0m \u001b[0;34m=\u001b[0m \u001b[0mkwds\u001b[0m\u001b[0;34m[\u001b[0m\u001b[0;34m\"has_index_names\"\u001b[0m\u001b[0;34m]\u001b[0m\u001b[0;34m\u001b[0m\u001b[0;34m\u001b[0m\u001b[0m\n\u001b[1;32m    810\u001b[0m \u001b[0;34m\u001b[0m\u001b[0m\n\u001b[0;32m--> 811\u001b[0;31m         \u001b[0mself\u001b[0m\u001b[0;34m.\u001b[0m\u001b[0m_engine\u001b[0m \u001b[0;34m=\u001b[0m \u001b[0mself\u001b[0m\u001b[0;34m.\u001b[0m\u001b[0m_make_engine\u001b[0m\u001b[0;34m(\u001b[0m\u001b[0mself\u001b[0m\u001b[0;34m.\u001b[0m\u001b[0mengine\u001b[0m\u001b[0;34m)\u001b[0m\u001b[0;34m\u001b[0m\u001b[0;34m\u001b[0m\u001b[0m\n\u001b[0m\u001b[1;32m    812\u001b[0m \u001b[0;34m\u001b[0m\u001b[0m\n\u001b[1;32m    813\u001b[0m     \u001b[0;32mdef\u001b[0m \u001b[0mclose\u001b[0m\u001b[0;34m(\u001b[0m\u001b[0mself\u001b[0m\u001b[0;34m)\u001b[0m\u001b[0;34m:\u001b[0m\u001b[0;34m\u001b[0m\u001b[0;34m\u001b[0m\u001b[0m\n",
      "\u001b[0;32m/opt/conda/lib/python3.7/site-packages/pandas/io/parsers/readers.py\u001b[0m in \u001b[0;36m_make_engine\u001b[0;34m(self, engine)\u001b[0m\n\u001b[1;32m   1038\u001b[0m             )\n\u001b[1;32m   1039\u001b[0m         \u001b[0;31m# error: Too many arguments for \"ParserBase\"\u001b[0m\u001b[0;34m\u001b[0m\u001b[0;34m\u001b[0m\u001b[0;34m\u001b[0m\u001b[0m\n\u001b[0;32m-> 1040\u001b[0;31m         \u001b[0;32mreturn\u001b[0m \u001b[0mmapping\u001b[0m\u001b[0;34m[\u001b[0m\u001b[0mengine\u001b[0m\u001b[0;34m]\u001b[0m\u001b[0;34m(\u001b[0m\u001b[0mself\u001b[0m\u001b[0;34m.\u001b[0m\u001b[0mf\u001b[0m\u001b[0;34m,\u001b[0m \u001b[0;34m**\u001b[0m\u001b[0mself\u001b[0m\u001b[0;34m.\u001b[0m\u001b[0moptions\u001b[0m\u001b[0;34m)\u001b[0m  \u001b[0;31m# type: ignore[call-arg]\u001b[0m\u001b[0;34m\u001b[0m\u001b[0;34m\u001b[0m\u001b[0m\n\u001b[0m\u001b[1;32m   1041\u001b[0m \u001b[0;34m\u001b[0m\u001b[0m\n\u001b[1;32m   1042\u001b[0m     \u001b[0;32mdef\u001b[0m \u001b[0m_failover_to_python\u001b[0m\u001b[0;34m(\u001b[0m\u001b[0mself\u001b[0m\u001b[0;34m)\u001b[0m\u001b[0;34m:\u001b[0m\u001b[0;34m\u001b[0m\u001b[0;34m\u001b[0m\u001b[0m\n",
      "\u001b[0;32m/opt/conda/lib/python3.7/site-packages/pandas/io/parsers/c_parser_wrapper.py\u001b[0m in \u001b[0;36m__init__\u001b[0;34m(self, src, **kwds)\u001b[0m\n\u001b[1;32m     67\u001b[0m         \u001b[0mkwds\u001b[0m\u001b[0;34m[\u001b[0m\u001b[0;34m\"dtype\"\u001b[0m\u001b[0;34m]\u001b[0m \u001b[0;34m=\u001b[0m \u001b[0mensure_dtype_objs\u001b[0m\u001b[0;34m(\u001b[0m\u001b[0mkwds\u001b[0m\u001b[0;34m.\u001b[0m\u001b[0mget\u001b[0m\u001b[0;34m(\u001b[0m\u001b[0;34m\"dtype\"\u001b[0m\u001b[0;34m,\u001b[0m \u001b[0;32mNone\u001b[0m\u001b[0;34m)\u001b[0m\u001b[0;34m)\u001b[0m\u001b[0;34m\u001b[0m\u001b[0;34m\u001b[0m\u001b[0m\n\u001b[1;32m     68\u001b[0m         \u001b[0;32mtry\u001b[0m\u001b[0;34m:\u001b[0m\u001b[0;34m\u001b[0m\u001b[0;34m\u001b[0m\u001b[0m\n\u001b[0;32m---> 69\u001b[0;31m             \u001b[0mself\u001b[0m\u001b[0;34m.\u001b[0m\u001b[0m_reader\u001b[0m \u001b[0;34m=\u001b[0m \u001b[0mparsers\u001b[0m\u001b[0;34m.\u001b[0m\u001b[0mTextReader\u001b[0m\u001b[0;34m(\u001b[0m\u001b[0mself\u001b[0m\u001b[0;34m.\u001b[0m\u001b[0mhandles\u001b[0m\u001b[0;34m.\u001b[0m\u001b[0mhandle\u001b[0m\u001b[0;34m,\u001b[0m \u001b[0;34m**\u001b[0m\u001b[0mkwds\u001b[0m\u001b[0;34m)\u001b[0m\u001b[0;34m\u001b[0m\u001b[0;34m\u001b[0m\u001b[0m\n\u001b[0m\u001b[1;32m     70\u001b[0m         \u001b[0;32mexcept\u001b[0m \u001b[0mException\u001b[0m\u001b[0;34m:\u001b[0m\u001b[0;34m\u001b[0m\u001b[0;34m\u001b[0m\u001b[0m\n\u001b[1;32m     71\u001b[0m             \u001b[0mself\u001b[0m\u001b[0;34m.\u001b[0m\u001b[0mhandles\u001b[0m\u001b[0;34m.\u001b[0m\u001b[0mclose\u001b[0m\u001b[0;34m(\u001b[0m\u001b[0;34m)\u001b[0m\u001b[0;34m\u001b[0m\u001b[0;34m\u001b[0m\u001b[0m\n",
      "\u001b[0;32m/opt/conda/lib/python3.7/site-packages/pandas/_libs/parsers.pyx\u001b[0m in \u001b[0;36mpandas._libs.parsers.TextReader.__cinit__\u001b[0;34m()\u001b[0m\n",
      "\u001b[0;32m/opt/conda/lib/python3.7/site-packages/pandas/_libs/parsers.pyx\u001b[0m in \u001b[0;36mpandas._libs.parsers.TextReader._get_header\u001b[0;34m()\u001b[0m\n",
      "\u001b[0;32m/opt/conda/lib/python3.7/site-packages/pandas/_libs/parsers.pyx\u001b[0m in \u001b[0;36mpandas._libs.parsers.TextReader._tokenize_rows\u001b[0;34m()\u001b[0m\n",
      "\u001b[0;32m/opt/conda/lib/python3.7/site-packages/pandas/_libs/parsers.pyx\u001b[0m in \u001b[0;36mpandas._libs.parsers.raise_parser_error\u001b[0;34m()\u001b[0m\n",
      "\u001b[0;31mUnicodeDecodeError\u001b[0m: 'utf-8' codec can't decode byte 0xb0 in position 7: invalid start byte"
     ]
    }
   ],
   "source": [
    "pd.read_csv(r\"s3://dish-5g.core.pd.g.dp.eks.logs.e/node_hmm_ad/v0.0.1/data/pandas_df/training_2022_9_29.parquet\")"
   ]
  },
  {
   "cell_type": "markdown",
   "id": "042f5b83-2985-4f65-b062-c615a9d0e088",
   "metadata": {
    "tags": []
   },
   "source": [
    "### import packages and read data"
   ]
  },
  {
   "cell_type": "code",
   "execution_count": 4,
   "id": "d810c2ea-6564-47e9-8cf2-c2eea8af448c",
   "metadata": {
    "collapsed": true,
    "jupyter": {
     "outputs_hidden": true
    },
    "tags": []
   },
   "outputs": [
    {
     "name": "stdout",
     "output_type": "stream",
     "text": [
      "Keyring is skipped due to an exception: 'keyring.backends'\n",
      "Processing /root/git/msspackages/dist/msspackages-0.0.7-py3-none-any.whl\n",
      "Requirement already satisfied: tqdm in /opt/conda/lib/python3.7/site-packages (from msspackages==0.0.7) (4.42.1)\n",
      "Requirement already satisfied: configparser in /opt/conda/lib/python3.7/site-packages (from msspackages==0.0.7) (5.3.0)\n",
      "Requirement already satisfied: pandas in /opt/conda/lib/python3.7/site-packages (from msspackages==0.0.7) (1.3.5)\n",
      "Requirement already satisfied: pyspark in /opt/conda/lib/python3.7/site-packages (from msspackages==0.0.7) (3.3.1)\n",
      "Requirement already satisfied: dask in /opt/conda/lib/python3.7/site-packages (from msspackages==0.0.7) (2022.2.0)\n",
      "Requirement already satisfied: numpy in /opt/conda/lib/python3.7/site-packages (from msspackages==0.0.7) (1.21.6)\n",
      "Requirement already satisfied: pyyaml>=5.3.1 in /opt/conda/lib/python3.7/site-packages (from dask->msspackages==0.0.7) (6.0)\n",
      "Requirement already satisfied: cloudpickle>=1.1.1 in /opt/conda/lib/python3.7/site-packages (from dask->msspackages==0.0.7) (2.2.0)\n",
      "Requirement already satisfied: partd>=0.3.10 in /opt/conda/lib/python3.7/site-packages (from dask->msspackages==0.0.7) (1.1.0)\n",
      "Requirement already satisfied: fsspec>=0.6.0 in /opt/conda/lib/python3.7/site-packages (from dask->msspackages==0.0.7) (2022.11.0)\n",
      "Requirement already satisfied: packaging>=20.0 in /opt/conda/lib/python3.7/site-packages (from dask->msspackages==0.0.7) (20.1)\n",
      "Requirement already satisfied: toolz>=0.8.2 in /opt/conda/lib/python3.7/site-packages (from dask->msspackages==0.0.7) (0.10.0)\n",
      "Requirement already satisfied: python-dateutil>=2.7.3 in /opt/conda/lib/python3.7/site-packages (from pandas->msspackages==0.0.7) (2.8.2)\n",
      "Requirement already satisfied: pytz>=2017.3 in /opt/conda/lib/python3.7/site-packages (from pandas->msspackages==0.0.7) (2019.3)\n",
      "Requirement already satisfied: py4j==0.10.9.5 in /opt/conda/lib/python3.7/site-packages (from pyspark->msspackages==0.0.7) (0.10.9.5)\n",
      "Requirement already satisfied: six in /opt/conda/lib/python3.7/site-packages (from packaging>=20.0->dask->msspackages==0.0.7) (1.14.0)\n",
      "Requirement already satisfied: pyparsing>=2.0.2 in /opt/conda/lib/python3.7/site-packages (from packaging>=20.0->dask->msspackages==0.0.7) (2.4.6)\n",
      "Requirement already satisfied: locket in /opt/conda/lib/python3.7/site-packages (from partd>=0.3.10->dask->msspackages==0.0.7) (0.2.0)\n",
      "msspackages is already installed with the same version as the provided wheel. Use --force-reinstall to force an installation of the wheel.\n",
      "\u001b[33mWARNING: Running pip as the 'root' user can result in broken permissions and conflicting behaviour with the system package manager. It is recommended to use a virtual environment instead: https://pip.pypa.io/warnings/venv\u001b[0m\u001b[33m\n",
      "\u001b[0mb\"Hit:1 http://deb.debian.org/debian buster InRelease\\nHit:2 http://security.debian.org/debian-security buster/updates InRelease\\nHit:3 http://deb.debian.org/debian buster-updates InRelease\\nReading package lists...\\nBuilding dependency tree...\\nReading state information...\\n53 packages can be upgraded. Run 'apt list --upgradable' to see them.\\nReading package lists...\\nBuilding dependency tree...\\nReading state information...\\nsudo is already the newest version (1.8.27-1+deb10u4).\\n0 upgraded, 0 newly installed, 0 to remove and 53 not upgraded.\\nReading package lists...\\nBuilding dependency tree...\\nReading state information...\\ndefault-jre is already the newest version (2:1.11-71).\\n0 upgraded, 0 newly installed, 0 to remove and 53 not upgraded.\\nReading package lists...\\nBuilding dependency tree...\\nReading state information...\\npython3 is already the newest version (3.7.3-1).\\n0 upgraded, 0 newly installed, 0 to remove and 53 not upgraded.\\nReading package lists...\\nBuilding dependency tree...\\nReading state information...\\npython3-pip is already the newest version (18.1-5).\\n0 upgraded, 0 newly installed, 0 to remove and 53 not upgraded.\\n\"\n",
      "\n"
     ]
    }
   ],
   "source": [
    "!pip install /root/git/msspackages/dist/msspackages-0.0.7-py3-none-any.whl\n",
    "from msspackages import setup_runner\n",
    "setup_runner(setup_type = 'notebook' , project = 'understanding-eks-data')"
   ]
  },
  {
   "cell_type": "code",
   "execution_count": 5,
   "id": "fcbd307c-b2e5-42b4-9a37-8c515fc2fb79",
   "metadata": {
    "tags": []
   },
   "outputs": [
    {
     "name": "stdout",
     "output_type": "stream",
     "text": [
      "Keyring is skipped due to an exception: 'keyring.backends'\n",
      "Collecting hmmlearn\n",
      "  Using cached hmmlearn-0.2.8-cp37-cp37m-manylinux_2_5_x86_64.manylinux1_x86_64.whl (217 kB)\n",
      "Requirement already satisfied: numpy>=1.10 in /opt/conda/lib/python3.7/site-packages (from hmmlearn) (1.21.6)\n",
      "Requirement already satisfied: scipy>=0.19 in /opt/conda/lib/python3.7/site-packages (from hmmlearn) (1.4.1)\n",
      "Requirement already satisfied: scikit-learn>=0.16 in /opt/conda/lib/python3.7/site-packages (from hmmlearn) (0.22.1)\n",
      "Requirement already satisfied: joblib>=0.11 in /opt/conda/lib/python3.7/site-packages (from scikit-learn>=0.16->hmmlearn) (0.14.1)\n",
      "Installing collected packages: hmmlearn\n",
      "Successfully installed hmmlearn-0.2.8\n",
      "\u001b[33mWARNING: Running pip as the 'root' user can result in broken permissions and conflicting behaviour with the system package manager. It is recommended to use a virtual environment instead: https://pip.pypa.io/warnings/venv\u001b[0m\u001b[33m\n",
      "\u001b[0mNote: you may need to restart the kernel to use updated packages.\n"
     ]
    }
   ],
   "source": [
    "%pip install hmmlearn\n",
    "from msspackages import Pyspark_data_ingestion\n",
    "from pyspark import StorageLevel\n",
    "from pyspark.sql.functions import *\n",
    "from hmmlearn import hmm,base\n",
    "from sklearn.preprocessing import StandardScaler as scale\n",
    "import pandas as pd\n",
    "import seaborn as sns\n",
    "import matplotlib.pyplot as plt \n",
    "%matplotlib inline\n",
    "import numpy as np\n",
    "# pandas settings \n",
    "pd.set_option('display.max_columns', None)\n",
    "pd.set_option('display.max_rows', None)"
   ]
  },
  {
   "cell_type": "code",
   "execution_count": 6,
   "id": "7e234984-446a-4830-a728-af610ba41669",
   "metadata": {
    "tags": []
   },
   "outputs": [
    {
     "name": "stdout",
     "output_type": "stream",
     "text": [
      "CPU times: user 25 ms, sys: 17 ms, total: 42 ms\n",
      "Wall time: 10.5 s\n"
     ]
    }
   ],
   "source": [
    "%%time\n",
    "node_obj = Pyspark_data_ingestion(year = '2022', month = \"7\", day = \"7\", hour = 10, filter_column_value ='Node',setup='128gb')\n",
    "spark_node = node_obj.get_spark()\n",
    "err, node_data = node_obj.read()"
   ]
  },
  {
   "cell_type": "code",
   "execution_count": 8,
   "id": "7a7e675a-3528-41dc-87e7-fc80a51f7f32",
   "metadata": {
    "tags": []
   },
   "outputs": [],
   "source": [
    "node_df = node_data.select(\"InstanceId\",'Timestamp','node_cpu_utilization','node_memory_utilization')\n"
   ]
  },
  {
   "cell_type": "code",
   "execution_count": 9,
   "id": "1fa2fbd0-2f66-4591-979a-a0a10a4bfc25",
   "metadata": {
    "tags": []
   },
   "outputs": [
    {
     "name": "stdout",
     "output_type": "stream",
     "text": [
      "-RECORD 0--------------------------------------\n",
      " InstanceId              | i-0fd528a5b4db63a58 \n",
      " Timestamp               | 1657188368827       \n",
      " node_cpu_utilization    | 1.069633373718717   \n",
      " node_memory_utilization | 1.7896269925370931  \n",
      "only showing top 1 row\n",
      "\n"
     ]
    }
   ],
   "source": [
    "node_df.show(n=1,vertical=True)"
   ]
  },
  {
   "cell_type": "code",
   "execution_count": 12,
   "id": "5797b7d7-dfc6-4d8b-a348-c755cb73fda4",
   "metadata": {
    "tags": []
   },
   "outputs": [],
   "source": [
    "bucket_name = 'dish-5g.core.pd.g.dp.eks.logs.e'\n",
    "model_name = 'pod_autoencoder_ad'\n",
    "version = 'v0.0.2'\n",
    "#array = read_tensor(bucket_name, model_name,version,\"training_2022_9_9_scaled_features\")"
   ]
  },
  {
   "cell_type": "code",
   "execution_count": 20,
   "id": "1f6670bd-2f1d-4233-a935-1ffb95588059",
   "metadata": {
    "tags": []
   },
   "outputs": [
    {
     "ename": "ClientError",
     "evalue": "An error occurred (400) when calling the HeadObject operation: Bad Request",
     "output_type": "error",
     "traceback": [
      "\u001b[0;31m---------------------------------------------------------------------------\u001b[0m",
      "\u001b[0;31mClientError\u001b[0m                               Traceback (most recent call last)",
      "\u001b[0;32m<ipython-input-20-15f24f3cc49b>\u001b[0m in \u001b[0;36m<module>\u001b[0;34m\u001b[0m\n\u001b[1;32m      4\u001b[0m \u001b[0mclient\u001b[0m \u001b[0;34m=\u001b[0m \u001b[0mboto3\u001b[0m\u001b[0;34m.\u001b[0m\u001b[0mclient\u001b[0m\u001b[0;34m(\u001b[0m\u001b[0;34m's3'\u001b[0m\u001b[0;34m)\u001b[0m\u001b[0;34m\u001b[0m\u001b[0;34m\u001b[0m\u001b[0m\n\u001b[1;32m      5\u001b[0m \u001b[0mbytes_\u001b[0m \u001b[0;34m=\u001b[0m \u001b[0mBytesIO\u001b[0m\u001b[0;34m(\u001b[0m\u001b[0;34m)\u001b[0m\u001b[0;34m\u001b[0m\u001b[0;34m\u001b[0m\u001b[0m\n\u001b[0;32m----> 6\u001b[0;31m \u001b[0mclient\u001b[0m\u001b[0;34m.\u001b[0m\u001b[0mdownload_fileobj\u001b[0m\u001b[0;34m(\u001b[0m\u001b[0mFileobj\u001b[0m\u001b[0;34m=\u001b[0m\u001b[0mbytes_\u001b[0m\u001b[0;34m,\u001b[0m \u001b[0mBucket\u001b[0m\u001b[0;34m=\u001b[0m\u001b[0mbucket_name\u001b[0m\u001b[0;34m,\u001b[0m \u001b[0mKey\u001b[0m\u001b[0;34m=\u001b[0m\u001b[0;34mf'{model_name}/{version}/data/tensors/training_2022_9_9_scaled_features.npy'\u001b[0m\u001b[0;34m)\u001b[0m\u001b[0;34m\u001b[0m\u001b[0;34m\u001b[0m\u001b[0m\n\u001b[0m\u001b[1;32m      7\u001b[0m \u001b[0mbytes_\u001b[0m\u001b[0;34m.\u001b[0m\u001b[0mseek\u001b[0m\u001b[0;34m(\u001b[0m\u001b[0;36m0\u001b[0m\u001b[0;34m)\u001b[0m\u001b[0;34m\u001b[0m\u001b[0;34m\u001b[0m\u001b[0m\n\u001b[1;32m      8\u001b[0m \u001b[0mtensor\u001b[0m \u001b[0;34m=\u001b[0m \u001b[0mnp\u001b[0m\u001b[0;34m.\u001b[0m\u001b[0mload\u001b[0m\u001b[0;34m(\u001b[0m\u001b[0mbytes_\u001b[0m\u001b[0;34m,\u001b[0m \u001b[0mallow_pickle\u001b[0m\u001b[0;34m=\u001b[0m\u001b[0;32mTrue\u001b[0m\u001b[0;34m)\u001b[0m\u001b[0;34m\u001b[0m\u001b[0;34m\u001b[0m\u001b[0m\n",
      "\u001b[0;32m/opt/conda/lib/python3.7/site-packages/boto3/s3/inject.py\u001b[0m in \u001b[0;36mdownload_fileobj\u001b[0;34m(self, Bucket, Key, Fileobj, ExtraArgs, Callback, Config)\u001b[0m\n\u001b[1;32m    793\u001b[0m             \u001b[0msubscribers\u001b[0m\u001b[0;34m=\u001b[0m\u001b[0msubscribers\u001b[0m\u001b[0;34m,\u001b[0m\u001b[0;34m\u001b[0m\u001b[0;34m\u001b[0m\u001b[0m\n\u001b[1;32m    794\u001b[0m         )\n\u001b[0;32m--> 795\u001b[0;31m         \u001b[0;32mreturn\u001b[0m \u001b[0mfuture\u001b[0m\u001b[0;34m.\u001b[0m\u001b[0mresult\u001b[0m\u001b[0;34m(\u001b[0m\u001b[0;34m)\u001b[0m\u001b[0;34m\u001b[0m\u001b[0;34m\u001b[0m\u001b[0m\n\u001b[0m\u001b[1;32m    796\u001b[0m \u001b[0;34m\u001b[0m\u001b[0m\n\u001b[1;32m    797\u001b[0m \u001b[0;34m\u001b[0m\u001b[0m\n",
      "\u001b[0;32m/opt/conda/lib/python3.7/site-packages/s3transfer/futures.py\u001b[0m in \u001b[0;36mresult\u001b[0;34m(self)\u001b[0m\n\u001b[1;32m    101\u001b[0m             \u001b[0;31m# however if a KeyboardInterrupt is raised we want want to exit\u001b[0m\u001b[0;34m\u001b[0m\u001b[0;34m\u001b[0m\u001b[0;34m\u001b[0m\u001b[0m\n\u001b[1;32m    102\u001b[0m             \u001b[0;31m# out of this and propagate the exception.\u001b[0m\u001b[0;34m\u001b[0m\u001b[0;34m\u001b[0m\u001b[0;34m\u001b[0m\u001b[0m\n\u001b[0;32m--> 103\u001b[0;31m             \u001b[0;32mreturn\u001b[0m \u001b[0mself\u001b[0m\u001b[0;34m.\u001b[0m\u001b[0m_coordinator\u001b[0m\u001b[0;34m.\u001b[0m\u001b[0mresult\u001b[0m\u001b[0;34m(\u001b[0m\u001b[0;34m)\u001b[0m\u001b[0;34m\u001b[0m\u001b[0;34m\u001b[0m\u001b[0m\n\u001b[0m\u001b[1;32m    104\u001b[0m         \u001b[0;32mexcept\u001b[0m \u001b[0mKeyboardInterrupt\u001b[0m \u001b[0;32mas\u001b[0m \u001b[0me\u001b[0m\u001b[0;34m:\u001b[0m\u001b[0;34m\u001b[0m\u001b[0;34m\u001b[0m\u001b[0m\n\u001b[1;32m    105\u001b[0m             \u001b[0mself\u001b[0m\u001b[0;34m.\u001b[0m\u001b[0mcancel\u001b[0m\u001b[0;34m(\u001b[0m\u001b[0;34m)\u001b[0m\u001b[0;34m\u001b[0m\u001b[0;34m\u001b[0m\u001b[0m\n",
      "\u001b[0;32m/opt/conda/lib/python3.7/site-packages/s3transfer/futures.py\u001b[0m in \u001b[0;36mresult\u001b[0;34m(self)\u001b[0m\n\u001b[1;32m    264\u001b[0m         \u001b[0;31m# final result.\u001b[0m\u001b[0;34m\u001b[0m\u001b[0;34m\u001b[0m\u001b[0;34m\u001b[0m\u001b[0m\n\u001b[1;32m    265\u001b[0m         \u001b[0;32mif\u001b[0m \u001b[0mself\u001b[0m\u001b[0;34m.\u001b[0m\u001b[0m_exception\u001b[0m\u001b[0;34m:\u001b[0m\u001b[0;34m\u001b[0m\u001b[0;34m\u001b[0m\u001b[0m\n\u001b[0;32m--> 266\u001b[0;31m             \u001b[0;32mraise\u001b[0m \u001b[0mself\u001b[0m\u001b[0;34m.\u001b[0m\u001b[0m_exception\u001b[0m\u001b[0;34m\u001b[0m\u001b[0;34m\u001b[0m\u001b[0m\n\u001b[0m\u001b[1;32m    267\u001b[0m         \u001b[0;32mreturn\u001b[0m \u001b[0mself\u001b[0m\u001b[0;34m.\u001b[0m\u001b[0m_result\u001b[0m\u001b[0;34m\u001b[0m\u001b[0;34m\u001b[0m\u001b[0m\n\u001b[1;32m    268\u001b[0m \u001b[0;34m\u001b[0m\u001b[0m\n",
      "\u001b[0;32m/opt/conda/lib/python3.7/site-packages/s3transfer/tasks.py\u001b[0m in \u001b[0;36m_main\u001b[0;34m(self, transfer_future, **kwargs)\u001b[0m\n\u001b[1;32m    267\u001b[0m             \u001b[0;31m# Call the submit method to start submitting tasks to execute the\u001b[0m\u001b[0;34m\u001b[0m\u001b[0;34m\u001b[0m\u001b[0;34m\u001b[0m\u001b[0m\n\u001b[1;32m    268\u001b[0m             \u001b[0;31m# transfer.\u001b[0m\u001b[0;34m\u001b[0m\u001b[0;34m\u001b[0m\u001b[0;34m\u001b[0m\u001b[0m\n\u001b[0;32m--> 269\u001b[0;31m             \u001b[0mself\u001b[0m\u001b[0;34m.\u001b[0m\u001b[0m_submit\u001b[0m\u001b[0;34m(\u001b[0m\u001b[0mtransfer_future\u001b[0m\u001b[0;34m=\u001b[0m\u001b[0mtransfer_future\u001b[0m\u001b[0;34m,\u001b[0m \u001b[0;34m**\u001b[0m\u001b[0mkwargs\u001b[0m\u001b[0;34m)\u001b[0m\u001b[0;34m\u001b[0m\u001b[0;34m\u001b[0m\u001b[0m\n\u001b[0m\u001b[1;32m    270\u001b[0m         \u001b[0;32mexcept\u001b[0m \u001b[0mBaseException\u001b[0m \u001b[0;32mas\u001b[0m \u001b[0me\u001b[0m\u001b[0;34m:\u001b[0m\u001b[0;34m\u001b[0m\u001b[0;34m\u001b[0m\u001b[0m\n\u001b[1;32m    271\u001b[0m             \u001b[0;31m# If there was an exception raised during the submission of task\u001b[0m\u001b[0;34m\u001b[0m\u001b[0;34m\u001b[0m\u001b[0;34m\u001b[0m\u001b[0m\n",
      "\u001b[0;32m/opt/conda/lib/python3.7/site-packages/s3transfer/download.py\u001b[0m in \u001b[0;36m_submit\u001b[0;34m(self, client, config, osutil, request_executor, io_executor, transfer_future, bandwidth_limiter)\u001b[0m\n\u001b[1;32m    355\u001b[0m                 \u001b[0mBucket\u001b[0m\u001b[0;34m=\u001b[0m\u001b[0mtransfer_future\u001b[0m\u001b[0;34m.\u001b[0m\u001b[0mmeta\u001b[0m\u001b[0;34m.\u001b[0m\u001b[0mcall_args\u001b[0m\u001b[0;34m.\u001b[0m\u001b[0mbucket\u001b[0m\u001b[0;34m,\u001b[0m\u001b[0;34m\u001b[0m\u001b[0;34m\u001b[0m\u001b[0m\n\u001b[1;32m    356\u001b[0m                 \u001b[0mKey\u001b[0m\u001b[0;34m=\u001b[0m\u001b[0mtransfer_future\u001b[0m\u001b[0;34m.\u001b[0m\u001b[0mmeta\u001b[0m\u001b[0;34m.\u001b[0m\u001b[0mcall_args\u001b[0m\u001b[0;34m.\u001b[0m\u001b[0mkey\u001b[0m\u001b[0;34m,\u001b[0m\u001b[0;34m\u001b[0m\u001b[0;34m\u001b[0m\u001b[0m\n\u001b[0;32m--> 357\u001b[0;31m                 \u001b[0;34m**\u001b[0m\u001b[0mtransfer_future\u001b[0m\u001b[0;34m.\u001b[0m\u001b[0mmeta\u001b[0m\u001b[0;34m.\u001b[0m\u001b[0mcall_args\u001b[0m\u001b[0;34m.\u001b[0m\u001b[0mextra_args\u001b[0m\u001b[0;34m,\u001b[0m\u001b[0;34m\u001b[0m\u001b[0;34m\u001b[0m\u001b[0m\n\u001b[0m\u001b[1;32m    358\u001b[0m             )\n\u001b[1;32m    359\u001b[0m             transfer_future.meta.provide_transfer_size(\n",
      "\u001b[0;32m/opt/conda/lib/python3.7/site-packages/botocore/client.py\u001b[0m in \u001b[0;36m_api_call\u001b[0;34m(self, *args, **kwargs)\u001b[0m\n\u001b[1;32m    528\u001b[0m                 )\n\u001b[1;32m    529\u001b[0m             \u001b[0;31m# The \"self\" in this scope is referring to the BaseClient.\u001b[0m\u001b[0;34m\u001b[0m\u001b[0;34m\u001b[0m\u001b[0;34m\u001b[0m\u001b[0m\n\u001b[0;32m--> 530\u001b[0;31m             \u001b[0;32mreturn\u001b[0m \u001b[0mself\u001b[0m\u001b[0;34m.\u001b[0m\u001b[0m_make_api_call\u001b[0m\u001b[0;34m(\u001b[0m\u001b[0moperation_name\u001b[0m\u001b[0;34m,\u001b[0m \u001b[0mkwargs\u001b[0m\u001b[0;34m)\u001b[0m\u001b[0;34m\u001b[0m\u001b[0;34m\u001b[0m\u001b[0m\n\u001b[0m\u001b[1;32m    531\u001b[0m \u001b[0;34m\u001b[0m\u001b[0m\n\u001b[1;32m    532\u001b[0m         \u001b[0m_api_call\u001b[0m\u001b[0;34m.\u001b[0m\u001b[0m__name__\u001b[0m \u001b[0;34m=\u001b[0m \u001b[0mstr\u001b[0m\u001b[0;34m(\u001b[0m\u001b[0mpy_operation_name\u001b[0m\u001b[0;34m)\u001b[0m\u001b[0;34m\u001b[0m\u001b[0;34m\u001b[0m\u001b[0m\n",
      "\u001b[0;32m/opt/conda/lib/python3.7/site-packages/botocore/client.py\u001b[0m in \u001b[0;36m_make_api_call\u001b[0;34m(self, operation_name, api_params)\u001b[0m\n\u001b[1;32m    958\u001b[0m             \u001b[0merror_code\u001b[0m \u001b[0;34m=\u001b[0m \u001b[0mparsed_response\u001b[0m\u001b[0;34m.\u001b[0m\u001b[0mget\u001b[0m\u001b[0;34m(\u001b[0m\u001b[0;34m\"Error\"\u001b[0m\u001b[0;34m,\u001b[0m \u001b[0;34m{\u001b[0m\u001b[0;34m}\u001b[0m\u001b[0;34m)\u001b[0m\u001b[0;34m.\u001b[0m\u001b[0mget\u001b[0m\u001b[0;34m(\u001b[0m\u001b[0;34m\"Code\"\u001b[0m\u001b[0;34m)\u001b[0m\u001b[0;34m\u001b[0m\u001b[0;34m\u001b[0m\u001b[0m\n\u001b[1;32m    959\u001b[0m             \u001b[0merror_class\u001b[0m \u001b[0;34m=\u001b[0m \u001b[0mself\u001b[0m\u001b[0;34m.\u001b[0m\u001b[0mexceptions\u001b[0m\u001b[0;34m.\u001b[0m\u001b[0mfrom_code\u001b[0m\u001b[0;34m(\u001b[0m\u001b[0merror_code\u001b[0m\u001b[0;34m)\u001b[0m\u001b[0;34m\u001b[0m\u001b[0;34m\u001b[0m\u001b[0m\n\u001b[0;32m--> 960\u001b[0;31m             \u001b[0;32mraise\u001b[0m \u001b[0merror_class\u001b[0m\u001b[0;34m(\u001b[0m\u001b[0mparsed_response\u001b[0m\u001b[0;34m,\u001b[0m \u001b[0moperation_name\u001b[0m\u001b[0;34m)\u001b[0m\u001b[0;34m\u001b[0m\u001b[0;34m\u001b[0m\u001b[0m\n\u001b[0m\u001b[1;32m    961\u001b[0m         \u001b[0;32melse\u001b[0m\u001b[0;34m:\u001b[0m\u001b[0;34m\u001b[0m\u001b[0;34m\u001b[0m\u001b[0m\n\u001b[1;32m    962\u001b[0m             \u001b[0;32mreturn\u001b[0m \u001b[0mparsed_response\u001b[0m\u001b[0;34m\u001b[0m\u001b[0;34m\u001b[0m\u001b[0m\n",
      "\u001b[0;31mClientError\u001b[0m: An error occurred (400) when calling the HeadObject operation: Bad Request"
     ]
    }
   ],
   "source": [
    "import boto3\n",
    "from io import BytesIO\n",
    "import numpy as np\n",
    "client = boto3.client('s3')\n",
    "bytes_ = BytesIO()\n",
    "client.download_fileobj(Fileobj=bytes_, Bucket=bucket_name, Key=f'{model_name}/{version}/data/tensors/training_2022_9_9_scaled_features.npy')\n",
    "bytes_.seek(0)\n",
    "tensor = np.load(bytes_, allow_pickle=True)"
   ]
  },
  {
   "cell_type": "code",
   "execution_count": null,
   "id": "2319fd52-f16d-4d18-9e1d-c96cc60b199b",
   "metadata": {},
   "outputs": [],
   "source": []
  },
  {
   "cell_type": "code",
   "execution_count": null,
   "id": "fc6c2ffc-f5aa-42f5-9711-a372ad42ac15",
   "metadata": {},
   "outputs": [],
   "source": []
  },
  {
   "cell_type": "code",
   "execution_count": null,
   "id": "44b3bf2a-29fd-410c-81c6-e40839193987",
   "metadata": {},
   "outputs": [],
   "source": []
  },
  {
   "cell_type": "code",
   "execution_count": null,
   "id": "30e029a6-a31a-48a7-873c-f99a5c1e1834",
   "metadata": {},
   "outputs": [],
   "source": []
  },
  {
   "cell_type": "code",
   "execution_count": null,
   "id": "9cd10f7c-6489-4e4d-95c2-9ac138955c19",
   "metadata": {},
   "outputs": [],
   "source": []
  },
  {
   "cell_type": "code",
   "execution_count": null,
   "id": "221e04b3-ff94-4eb2-80c2-3653d86c5213",
   "metadata": {},
   "outputs": [],
   "source": []
  },
  {
   "cell_type": "code",
   "execution_count": null,
   "id": "9a4495a7-6245-4cfb-bd82-23469ddd2f42",
   "metadata": {},
   "outputs": [],
   "source": []
  },
  {
   "cell_type": "code",
   "execution_count": 9,
   "id": "bac50f98-8f0b-434b-87a9-eb210962ec93",
   "metadata": {
    "tags": []
   },
   "outputs": [],
   "source": [
    "df = node_data.toPandas()"
   ]
  },
  {
   "cell_type": "code",
   "execution_count": 10,
   "id": "3320ee49-e7eb-4c8b-b95c-c9ab5c3b2745",
   "metadata": {},
   "outputs": [],
   "source": [
    "import warnings\n",
    "warnings.filterwarnings('ignore')\n"
   ]
  },
  {
   "cell_type": "code",
   "execution_count": 11,
   "id": "f08aaee4-ac76-4b6d-b8d8-5e3326799102",
   "metadata": {
    "tags": []
   },
   "outputs": [],
   "source": [
    "df.to_csv('one_hour.csv', index=False, header=True)"
   ]
  },
  {
   "cell_type": "code",
   "execution_count": null,
   "id": "a47d425d-eedc-4d0d-8e29-7652fdd03127",
   "metadata": {
    "tags": []
   },
   "outputs": [],
   "source": [
    "df.shape"
   ]
  },
  {
   "cell_type": "code",
   "execution_count": null,
   "id": "65a98e1a-a8b5-4305-95af-2767720ab760",
   "metadata": {
    "tags": []
   },
   "outputs": [],
   "source": [
    "def clean_data(df):\n",
    "    df = df.dropna(subset=['node_cpu_utilization','node_memory_utilization'])\n",
    "    nodelist = df.NodeName.unique()\n",
    "    subdfs = []\n",
    "    for node in nodelist:\n",
    "        \n",
    "        subdf = df[df.NodeName==node]\n",
    "        sc_m = scale()\n",
    "        sc_c = scale()\n",
    "        c_s = sc_c.fit_transform(subdf['node_cpu_utilization'].values.reshape(-1,1))\n",
    "        m_s = sc_m.fit_transform(subdf['node_memory_utilization'].values.reshape(-1,1))\n",
    "        subdf['node_cpu_utilization'] = c_s\n",
    "        subdf['node_memory_utilization'] = m_s\n",
    "        subdfs.append(subdf)\n",
    "    cleaned = subdfs[0]\n",
    "    \n",
    "    for i in subdfs[1:]:\n",
    "        cleaned = pd.concat([cleaned, i], axis=0)\n",
    "    return cleaned"
   ]
  },
  {
   "cell_type": "code",
   "execution_count": null,
   "id": "a6a30ea8-92fa-4666-a495-ea15b4571611",
   "metadata": {
    "tags": []
   },
   "outputs": [],
   "source": []
  },
  {
   "cell_type": "markdown",
   "id": "72034295-db32-456c-aad7-c6bcc377c128",
   "metadata": {
    "tags": []
   },
   "source": [
    "## feature selection"
   ]
  },
  {
   "cell_type": "code",
   "execution_count": null,
   "id": "38583e2e-0963-4d3f-a5e2-6cf1e1c0711e",
   "metadata": {
    "tags": []
   },
   "outputs": [],
   "source": [
    "len(new_df)"
   ]
  },
  {
   "cell_type": "code",
   "execution_count": null,
   "id": "f05fcd8b-1fdd-4cc3-9e5c-dec6bb9fbab5",
   "metadata": {
    "tags": []
   },
   "outputs": [],
   "source": [
    "fig,ax = plt.subplots(len(new_df.NodeName.unique()),figsize = (10,40),sharex=True)\n",
    "i = 0\n",
    "for node in new_df.NodeName.unique():\n",
    "    sub = new_df[new_df.NodeName==node]\n",
    "    ax[i].hist(sub.node_cpu_utilization)\n",
    "    i+=1\n",
    "plt.show()\n",
    "    "
   ]
  },
  {
   "cell_type": "code",
   "execution_count": null,
   "id": "33e2402e-e39e-4f87-8b1a-ab0ce49af26f",
   "metadata": {
    "tags": []
   },
   "outputs": [],
   "source": [
    "new_df.reset_index(inplace=True,drop=True)"
   ]
  },
  {
   "cell_type": "code",
   "execution_count": null,
   "id": "87f8b820-6254-4e9b-ba07-d629b81a2ddc",
   "metadata": {
    "tags": []
   },
   "outputs": [],
   "source": [
    "new_df.head()"
   ]
  },
  {
   "cell_type": "code",
   "execution_count": null,
   "id": "17d45490-565b-46d7-ba01-fe2dda4c7ddf",
   "metadata": {
    "tags": []
   },
   "outputs": [],
   "source": [
    "def sample_data(df,data_frac= 0.5,random_state = 1, slice_length = 6):\n",
    "    res_ind = df.sample(frac=data_frac/6, replace=True, random_state=random_state).index.to_list()\n",
    "    for i in res_ind :\n",
    "        for j in range(slice_length):\n",
    "            res_ind.append(i+j)\n",
    "            \n",
    "    return df.iloc[res_ind.sort()]\n",
    "        \n",
    "        \n",
    "    "
   ]
  },
  {
   "cell_type": "markdown",
   "id": "c2d380f2-1fb4-4f2b-9ee7-6f758313723e",
   "metadata": {},
   "source": []
  },
  {
   "cell_type": "code",
   "execution_count": null,
   "id": "f302b9d1-ca5d-45f9-8bb7-ded75f009c55",
   "metadata": {
    "tags": []
   },
   "outputs": [],
   "source": [
    "res_ind = new_df.sample(frac=0.5/6, replace=True, random_state=1).index.to_list()"
   ]
  },
  {
   "cell_type": "code",
   "execution_count": null,
   "id": "cd18a678-ee81-4bc5-b2db-ca6c42df4d08",
   "metadata": {
    "tags": []
   },
   "outputs": [],
   "source": [
    "\n",
    "for i in res_ind :\n",
    "    for j in range(6):\n",
    "        res_ind.append(i+j)"
   ]
  },
  {
   "cell_type": "code",
   "execution_count": null,
   "id": "62d124c9-996e-447d-b13d-29f6c18f1527",
   "metadata": {
    "tags": []
   },
   "outputs": [],
   "source": [
    "\n",
    "\n",
    "res_ind[:5]"
   ]
  },
  {
   "cell_type": "code",
   "execution_count": null,
   "id": "f5d2385c-cb30-4ec8-b825-e3459916cb3d",
   "metadata": {
    "tags": []
   },
   "outputs": [],
   "source": [
    "new_df.iloc[[5,5]]"
   ]
  },
  {
   "cell_type": "code",
   "execution_count": null,
   "id": "6cec681c-201b-4782-9f46-5fadecd5ac60",
   "metadata": {},
   "outputs": [],
   "source": []
  },
  {
   "cell_type": "markdown",
   "id": "59a7ecf3-1739-47c9-a90e-50e9e20ce229",
   "metadata": {
    "tags": []
   },
   "source": [
    "## model testing V1.0"
   ]
  },
  {
   "cell_type": "markdown",
   "id": "c42216b5-5037-4de6-baa1-fc552d8ca5e7",
   "metadata": {
    "jp-MarkdownHeadingCollapsed": true,
    "tags": []
   },
   "source": [
    "### preprocess"
   ]
  },
  {
   "cell_type": "code",
   "execution_count": 10,
   "id": "fc182400-684d-4301-8ecb-92bef4ffca94",
   "metadata": {
    "tags": []
   },
   "outputs": [
    {
     "ename": "AttributeError",
     "evalue": "'DataFrame' object has no attribute 'select'",
     "output_type": "error",
     "traceback": [
      "\u001b[0;31m---------------------------------------------------------------------------\u001b[0m",
      "\u001b[0;31mAttributeError\u001b[0m                            Traceback (most recent call last)",
      "\u001b[0;32m<ipython-input-10-fa8647f38323>\u001b[0m in \u001b[0;36m<module>\u001b[0;34m\u001b[0m\n\u001b[1;32m      1\u001b[0m \u001b[0mfeatures\u001b[0m \u001b[0;34m=\u001b[0m \u001b[0;34m[\u001b[0m\u001b[0;34m'node_cpu_utilization'\u001b[0m\u001b[0;34m,\u001b[0m\u001b[0;34m'node_memory_utilization'\u001b[0m\u001b[0;34m]\u001b[0m\u001b[0;34m\u001b[0m\u001b[0;34m\u001b[0m\u001b[0m\n\u001b[1;32m      2\u001b[0m \u001b[0;31m#filter inital node df based on request features\u001b[0m\u001b[0;34m\u001b[0m\u001b[0;34m\u001b[0m\u001b[0;34m\u001b[0m\u001b[0m\n\u001b[0;32m----> 3\u001b[0;31m \u001b[0mnode_df\u001b[0m \u001b[0;34m=\u001b[0m\u001b[0mdf\u001b[0m\u001b[0;34m.\u001b[0m\u001b[0mselect\u001b[0m\u001b[0;34m(\u001b[0m\u001b[0;34m\"Timestamp\"\u001b[0m\u001b[0;34m,\u001b[0m \u001b[0;34m\"NodeName\"\u001b[0m\u001b[0;34m,\u001b[0m \u001b[0;34m'node_cpu_utilization'\u001b[0m\u001b[0;34m,\u001b[0m\u001b[0;34m'node_memory_utilization'\u001b[0m\u001b[0;34m)\u001b[0m\u001b[0;34m\u001b[0m\u001b[0;34m\u001b[0m\u001b[0m\n\u001b[0m\u001b[1;32m      4\u001b[0m \u001b[0mnode_df\u001b[0m \u001b[0;34m=\u001b[0m \u001b[0mnode_df\u001b[0m\u001b[0;34m.\u001b[0m\u001b[0mwithColumn\u001b[0m\u001b[0;34m(\u001b[0m\u001b[0;34m\"Timestamp\"\u001b[0m\u001b[0;34m,\u001b[0m\u001b[0;34m(\u001b[0m\u001b[0mcol\u001b[0m\u001b[0;34m(\u001b[0m\u001b[0;34m\"Timestamp\"\u001b[0m\u001b[0;34m)\u001b[0m\u001b[0;34m/\u001b[0m\u001b[0;36m1000\u001b[0m\u001b[0;34m)\u001b[0m\u001b[0;34m.\u001b[0m\u001b[0mcast\u001b[0m\u001b[0;34m(\u001b[0m\u001b[0;34m\"timestamp\"\u001b[0m\u001b[0;34m)\u001b[0m\u001b[0;34m)\u001b[0m\u001b[0;34m\u001b[0m\u001b[0;34m\u001b[0m\u001b[0m\n\u001b[1;32m      5\u001b[0m \u001b[0;34m\u001b[0m\u001b[0m\n",
      "\u001b[0;32m/opt/conda/lib/python3.7/site-packages/pandas/core/generic.py\u001b[0m in \u001b[0;36m__getattr__\u001b[0;34m(self, name)\u001b[0m\n\u001b[1;32m   5485\u001b[0m         ):\n\u001b[1;32m   5486\u001b[0m             \u001b[0;32mreturn\u001b[0m \u001b[0mself\u001b[0m\u001b[0;34m[\u001b[0m\u001b[0mname\u001b[0m\u001b[0;34m]\u001b[0m\u001b[0;34m\u001b[0m\u001b[0;34m\u001b[0m\u001b[0m\n\u001b[0;32m-> 5487\u001b[0;31m         \u001b[0;32mreturn\u001b[0m \u001b[0mobject\u001b[0m\u001b[0;34m.\u001b[0m\u001b[0m__getattribute__\u001b[0m\u001b[0;34m(\u001b[0m\u001b[0mself\u001b[0m\u001b[0;34m,\u001b[0m \u001b[0mname\u001b[0m\u001b[0;34m)\u001b[0m\u001b[0;34m\u001b[0m\u001b[0;34m\u001b[0m\u001b[0m\n\u001b[0m\u001b[1;32m   5488\u001b[0m \u001b[0;34m\u001b[0m\u001b[0m\n\u001b[1;32m   5489\u001b[0m     \u001b[0;32mdef\u001b[0m \u001b[0m__setattr__\u001b[0m\u001b[0;34m(\u001b[0m\u001b[0mself\u001b[0m\u001b[0;34m,\u001b[0m \u001b[0mname\u001b[0m\u001b[0;34m:\u001b[0m \u001b[0mstr\u001b[0m\u001b[0;34m,\u001b[0m \u001b[0mvalue\u001b[0m\u001b[0;34m)\u001b[0m \u001b[0;34m->\u001b[0m \u001b[0;32mNone\u001b[0m\u001b[0;34m:\u001b[0m\u001b[0;34m\u001b[0m\u001b[0;34m\u001b[0m\u001b[0m\n",
      "\u001b[0;31mAttributeError\u001b[0m: 'DataFrame' object has no attribute 'select'"
     ]
    }
   ],
   "source": [
    "features = ['node_cpu_utilization','node_memory_utilization']\n",
    "#filter inital node df based on request features\n",
    "node_df =df.select(\"Timestamp\", \"NodeName\", 'node_cpu_utilization','node_memory_utilization')\n",
    "node_df = node_df.withColumn(\"Timestamp\",(col(\"Timestamp\")/1000).cast(\"timestamp\"))\n",
    "\n",
    "# Drop NA\n",
    "cleaned_node_df = node_df.na.drop(subset=features)\n",
    "\n",
    "\n",
    "#Quality(timestamp filtered) nodes\n",
    "quality_filtered_node_df = cleaned_node_df.groupBy(\"NodeName\").agg(count(\"Timestamp\").alias(\"timestamp_count\"))\n",
    "quality_filtered_nodes = quality_filtered_node_df.filter(col(\"timestamp_count\").between(45,75))\n",
    "\n",
    "print(3)\n",
    "#Processed Node DF                                                      \n",
    "processed_node_df = cleaned_node_df.filter(col(\"NodeName\").isin(quality_filtered_nodes[\"NodeName\"]))\n",
    "\n"
   ]
  },
  {
   "cell_type": "markdown",
   "id": "ecf94a6d-0178-4fd4-9761-1e61ecbc6e50",
   "metadata": {
    "tags": []
   },
   "source": [
    "### split data"
   ]
  },
  {
   "cell_type": "code",
   "execution_count": null,
   "id": "2c35eed1-a35e-4642-a749-4b57d0f836d9",
   "metadata": {
    "tags": []
   },
   "outputs": [],
   "source": [
    "input_df, test_df = processed_node_df .randomSplit(weights=[0.8,0.2], seed=200)"
   ]
  },
  {
   "cell_type": "code",
   "execution_count": null,
   "id": "56538a78-b8f5-4551-9497-fe741ea9a1b1",
   "metadata": {
    "tags": []
   },
   "outputs": [],
   "source": [
    "input_df.show(n=1)"
   ]
  },
  {
   "cell_type": "markdown",
   "id": "47e33c1b-95d1-4801-a235-807179e0e555",
   "metadata": {
    "tags": []
   },
   "source": [
    "### feature engineering"
   ]
  },
  {
   "cell_type": "code",
   "execution_count": null,
   "id": "a67cd3bc-ff8d-40ba-800e-0f7b5e403991",
   "metadata": {
    "tags": []
   },
   "outputs": [],
   "source": [
    "n = 0\n",
    "samplesize =1\n",
    "time_steps=12\n",
    "final_df = np.zeros((samplesize,time_steps,len(features)+1))"
   ]
  },
  {
   "cell_type": "code",
   "execution_count": null,
   "id": "8f3ed0b3-e1e5-41e4-bbf0-19b948bb7f6d",
   "metadata": {
    "tags": []
   },
   "outputs": [],
   "source": [
    "from pyspark.ml.feature import VectorAssembler, StandardScaler\n",
    "from pyspark.ml import Pipeline"
   ]
  },
  {
   "cell_type": "code",
   "execution_count": null,
   "id": "ea31b948-8fc3-4bd7-9883-cb89029ed4e4",
   "metadata": {
    "tags": []
   },
   "outputs": [],
   "source": [
    "from pyspark.sql import Window\n",
    "from pyspark.sql import functions as F\n",
    "from pyspark.ml import Pipeline\n"
   ]
  },
  {
   "cell_type": "code",
   "execution_count": null,
   "id": "ac297f9f-a317-4f1f-ae76-a9f5d6f98f42",
   "metadata": {
    "tags": []
   },
   "outputs": [],
   "source": [
    "import random\n",
    "##pick random node\n",
    "random_nodename = random.choice(input_df.select(\"NodeName\").rdd.flatMap(list).collect())\n",
    "node_df = input_df[(input_df[\"NodeName\"] ==  random_nodename)][[\"Timestamp\", \"NodeName\"] + features].select('*')\n",
    "node_df = node_df.sort(\"Timestamp\")\n",
    "node_df = node_df.na.drop(subset=features)\n",
    "    \n",
    "\n",
    "\n",
    "#standardize data from the node\n",
    "\n",
    "\n",
    "w = Window.partitionBy('NodeName')\n",
    "for c in features:\n",
    "    node_df = (node_df.withColumn('mean', F.mean(c).over(w))\n",
    "        .withColumn('stddev', F.stddev(c).over(w))\n",
    "        .withColumn(c, ((F.col(c) - F.col('mean')) / (F.col('stddev'))))\n",
    "        .drop('mean')\n",
    "        .drop('stddev'))\n",
    "\n",
    "\n",
    "    "
   ]
  },
  {
   "cell_type": "code",
   "execution_count": null,
   "id": "dff8afa1-502c-4f97-8b8e-662149a32a2b",
   "metadata": {
    "tags": []
   },
   "outputs": [],
   "source": [
    "pwd"
   ]
  },
  {
   "cell_type": "code",
   "execution_count": null,
   "id": "6458675d-fc7b-4250-a380-4e9ce324cec7",
   "metadata": {
    "tags": []
   },
   "outputs": [],
   "source": [
    "node_df.columns"
   ]
  },
  {
   "cell_type": "code",
   "execution_count": null,
   "id": "a86197f6-09e5-48ea-8279-a65c39d08983",
   "metadata": {
    "tags": []
   },
   "outputs": [],
   "source": [
    "#pick random time slice of 12 timestamps from this node\n",
    "final_df = None\n",
    "start = random.choice(range(node_df.count()-time_steps))\n",
    "node_slice_df = node_df.withColumn('rn', row_number().over(Window.orderBy(\"Timestamp\"))).filter((col(\"rn\") >= start) & (col(\"rn\") < start+time_steps)).select([\"Timestamp\"] + features)\n",
    "node_uti_data = node_slice_df.select(*features).rdd.flatMap(list).collect()\n",
    "\n",
    "if not final_df:\n",
    "    final_df = node_slice_df \n",
    "else:\n",
    "    final_df = final_df.union(node_slice_df )\n"
   ]
  },
  {
   "cell_type": "code",
   "execution_count": null,
   "id": "2078a58e-ab69-40ba-ba76-99537274a518",
   "metadata": {
    "tags": []
   },
   "outputs": [],
   "source": [
    "final_df = final_df.groupBy(\"Timestamp\").mean()"
   ]
  },
  {
   "cell_type": "code",
   "execution_count": null,
   "id": "8261c468-194b-4478-9f1d-525952e103c1",
   "metadata": {
    "tags": []
   },
   "outputs": [],
   "source": [
    "final_df = final_df.withColumnRenamed(\"avg(node_cpu_utilization)\",\"node_cpu_utilization\") \\\n",
    "    .withColumnRenamed(\"avg(node_memory_utilization)\",\"node_memory_utilization\")\n",
    "    \n",
    "final_df = final_df.select(*features)\n",
    "    \n",
    "   "
   ]
  },
  {
   "cell_type": "code",
   "execution_count": null,
   "id": "efff14d4-b5ec-4dd3-adc1-1619a2412512",
   "metadata": {
    "tags": []
   },
   "outputs": [],
   "source": [
    "final_df.show(n=5,vertical=True)\n",
    "        "
   ]
  },
  {
   "cell_type": "code",
   "execution_count": null,
   "id": "fb97300a-8a26-4d45-af2e-8845ca9a46d0",
   "metadata": {},
   "outputs": [],
   "source": [
    "fianl_df"
   ]
  },
  {
   "cell_type": "code",
   "execution_count": null,
   "id": "c54f4f85-d945-44d2-b8a2-2859a41cc2fb",
   "metadata": {},
   "outputs": [],
   "source": []
  },
  {
   "cell_type": "markdown",
   "id": "0205e2c1-8069-4f0d-a5ea-0892a2dd7538",
   "metadata": {},
   "source": [
    "## Data cleaning"
   ]
  },
  {
   "cell_type": "code",
   "execution_count": null,
   "id": "e8c7f917-770c-420e-b97e-fbc83d51e694",
   "metadata": {
    "tags": []
   },
   "outputs": [],
   "source": [
    "df.head()"
   ]
  },
  {
   "cell_type": "markdown",
   "id": "d6a5bf1c-341a-4a9e-b410-17fe62395a4e",
   "metadata": {
    "jp-MarkdownHeadingCollapsed": true,
    "tags": []
   },
   "source": [
    "## model V2.0"
   ]
  },
  {
   "cell_type": "code",
   "execution_count": 4,
   "id": "ad7cddb3-2709-413f-9994-96c95ce5b763",
   "metadata": {
    "tags": []
   },
   "outputs": [],
   "source": [
    "df = pd.read_csv('one_hour.csv')"
   ]
  },
  {
   "cell_type": "code",
   "execution_count": 12,
   "id": "cd513c36-4cdf-4495-acad-76b2b2a40cbf",
   "metadata": {
    "collapsed": true,
    "jupyter": {
     "outputs_hidden": true
    },
    "tags": []
   },
   "outputs": [
    {
     "data": {
      "text/html": [
       "<div>\n",
       "<style scoped>\n",
       "    .dataframe tbody tr th:only-of-type {\n",
       "        vertical-align: middle;\n",
       "    }\n",
       "\n",
       "    .dataframe tbody tr th {\n",
       "        vertical-align: top;\n",
       "    }\n",
       "\n",
       "    .dataframe thead th {\n",
       "        text-align: right;\n",
       "    }\n",
       "</style>\n",
       "<table border=\"1\" class=\"dataframe\">\n",
       "  <thead>\n",
       "    <tr style=\"text-align: right;\">\n",
       "      <th></th>\n",
       "      <th>account_id</th>\n",
       "      <th>log_group_name</th>\n",
       "      <th>log_stream_name</th>\n",
       "      <th>record_id</th>\n",
       "      <th>stream_name</th>\n",
       "      <th>record_arrival_stream_timestamp</th>\n",
       "      <th>record_arrival_stream_epochtime</th>\n",
       "      <th>log_event_timestamp</th>\n",
       "      <th>log_event_epochtime</th>\n",
       "      <th>log_event_id</th>\n",
       "      <th>AutoScalingGroupName</th>\n",
       "      <th>CloudWatchMetrics</th>\n",
       "      <th>ClusterName</th>\n",
       "      <th>InstanceId</th>\n",
       "      <th>InstanceType</th>\n",
       "      <th>NodeName</th>\n",
       "      <th>Sources</th>\n",
       "      <th>Timestamp</th>\n",
       "      <th>Type</th>\n",
       "      <th>Version</th>\n",
       "      <th>kubernetes</th>\n",
       "      <th>node_cpu_limit</th>\n",
       "      <th>node_cpu_request</th>\n",
       "      <th>node_cpu_reserved_capacity</th>\n",
       "      <th>node_cpu_usage_system</th>\n",
       "      <th>node_cpu_usage_total</th>\n",
       "      <th>node_cpu_usage_user</th>\n",
       "      <th>node_cpu_utilization</th>\n",
       "      <th>node_memory_cache</th>\n",
       "      <th>node_memory_failcnt</th>\n",
       "      <th>node_memory_hierarchical_pgfault</th>\n",
       "      <th>node_memory_hierarchical_pgmajfault</th>\n",
       "      <th>node_memory_limit</th>\n",
       "      <th>node_memory_mapped_file</th>\n",
       "      <th>node_memory_max_usage</th>\n",
       "      <th>node_memory_pgfault</th>\n",
       "      <th>node_memory_pgmajfault</th>\n",
       "      <th>node_memory_request</th>\n",
       "      <th>node_memory_reserved_capacity</th>\n",
       "      <th>node_memory_rss</th>\n",
       "      <th>node_memory_swap</th>\n",
       "      <th>node_memory_usage</th>\n",
       "      <th>node_memory_utilization</th>\n",
       "      <th>node_memory_working_set</th>\n",
       "      <th>node_network_rx_bytes</th>\n",
       "      <th>node_network_rx_dropped</th>\n",
       "      <th>node_network_rx_errors</th>\n",
       "      <th>node_network_rx_packets</th>\n",
       "      <th>node_network_total_bytes</th>\n",
       "      <th>node_network_tx_bytes</th>\n",
       "      <th>node_network_tx_dropped</th>\n",
       "      <th>node_network_tx_errors</th>\n",
       "      <th>node_network_tx_packets</th>\n",
       "      <th>node_number_of_running_containers</th>\n",
       "      <th>node_number_of_running_pods</th>\n",
       "      <th>region</th>\n",
       "    </tr>\n",
       "  </thead>\n",
       "  <tbody>\n",
       "    <tr>\n",
       "      <th>0</th>\n",
       "      <td>346687249423</td>\n",
       "      <td>/aws/containerinsights/nk-ndc-eks-cluster-test...</td>\n",
       "      <td>ip-100-64-19-132.us-west-2.compute.internal</td>\n",
       "      <td>4962796749719051212894665848731042236882148557...</td>\n",
       "      <td>dp-us-west-2-container-insights-performance-me...</td>\n",
       "      <td>2022-07-07 10:06:23</td>\n",
       "      <td>1657188383</td>\n",
       "      <td>2022-07-07 10:06:17</td>\n",
       "      <td>1657188377000</td>\n",
       "      <td>3695653574144350615072363607584040779097551619...</td>\n",
       "      <td>nk-ndc-asbc-asg-cicdtest-usw2-az2-perf-0</td>\n",
       "      <td>[{\"Dimensions\":[[\"NodeName\",\"InstanceId\",\"Clus...</td>\n",
       "      <td>nk-ndc-eks-cluster-test-dev-usw2-az2-perf</td>\n",
       "      <td>i-0fd528a5b4db63a58</td>\n",
       "      <td>m5.16xlarge</td>\n",
       "      <td>ip-100-64-19-132.us-west-2.compute.internal</td>\n",
       "      <td>[\"cadvisor\",\"/proc\",\"pod\",\"calculated\"]</td>\n",
       "      <td>1657188368827</td>\n",
       "      <td>Node</td>\n",
       "      <td>0</td>\n",
       "      <td>{\"host\":\"ip-100-64-19-132.us-west-2.compute.in...</td>\n",
       "      <td>64000.0</td>\n",
       "      <td>2716.0</td>\n",
       "      <td>4.243750</td>\n",
       "      <td>405.150452</td>\n",
       "      <td>684.565359</td>\n",
       "      <td>388.077959</td>\n",
       "      <td>1.069633</td>\n",
       "      <td>5686312960</td>\n",
       "      <td>0</td>\n",
       "      <td>0.0</td>\n",
       "      <td>0.0</td>\n",
       "      <td>267384934400</td>\n",
       "      <td>804790272</td>\n",
       "      <td>21409251328</td>\n",
       "      <td>0.0</td>\n",
       "      <td>0.0</td>\n",
       "      <td>3340763136</td>\n",
       "      <td>1.249421</td>\n",
       "      <td>2185527296</td>\n",
       "      <td>0</td>\n",
       "      <td>7871840256</td>\n",
       "      <td>1.789627</td>\n",
       "      <td>4785192960</td>\n",
       "      <td>33970.681319</td>\n",
       "      <td>0.0</td>\n",
       "      <td>0.0</td>\n",
       "      <td>138.360623</td>\n",
       "      <td>6.794702e+04</td>\n",
       "      <td>33976.335434</td>\n",
       "      <td>0.0</td>\n",
       "      <td>0.0</td>\n",
       "      <td>136.763519</td>\n",
       "      <td>18</td>\n",
       "      <td>12</td>\n",
       "      <td>us-west-2</td>\n",
       "    </tr>\n",
       "    <tr>\n",
       "      <th>1</th>\n",
       "      <td>866535947663</td>\n",
       "      <td>/aws/containerinsights/mt-ndc-eks-cluster-dev-...</td>\n",
       "      <td>ip-172-24-67-95.ec2.internal</td>\n",
       "      <td>4962796749719051212894665848741318106348872912...</td>\n",
       "      <td>dp-us-west-2-container-insights-performance-me...</td>\n",
       "      <td>2022-07-07 10:06:24</td>\n",
       "      <td>1657188384</td>\n",
       "      <td>2022-07-07 10:06:19</td>\n",
       "      <td>1657188379000</td>\n",
       "      <td>3695653578604499654778488236066210175310495798...</td>\n",
       "      <td>mt-ndc-chf-asg-dev-ASG01-non-multus</td>\n",
       "      <td>[{\"Dimensions\":[[\"NodeName\",\"InstanceId\",\"Clus...</td>\n",
       "      <td>mt-ndc-eks-cluster-dev-dev-e1-cluster</td>\n",
       "      <td>i-0f83dfb0d9ea9120a</td>\n",
       "      <td>m5.4xlarge</td>\n",
       "      <td>ip-172-24-67-95.ec2.internal</td>\n",
       "      <td>[\"cadvisor\",\"/proc\",\"pod\",\"calculated\"]</td>\n",
       "      <td>1657188370769</td>\n",
       "      <td>Node</td>\n",
       "      <td>0</td>\n",
       "      <td>{\"host\":\"ip-172-24-67-95.ec2.internal\"}</td>\n",
       "      <td>16000.0</td>\n",
       "      <td>1681.0</td>\n",
       "      <td>10.506250</td>\n",
       "      <td>27.218900</td>\n",
       "      <td>82.893135</td>\n",
       "      <td>51.012905</td>\n",
       "      <td>0.518082</td>\n",
       "      <td>4468023296</td>\n",
       "      <td>0</td>\n",
       "      <td>0.0</td>\n",
       "      <td>0.0</td>\n",
       "      <td>65899286528</td>\n",
       "      <td>585142272</td>\n",
       "      <td>5688471552</td>\n",
       "      <td>0.0</td>\n",
       "      <td>0.0</td>\n",
       "      <td>1166016512</td>\n",
       "      <td>1.769392</td>\n",
       "      <td>546852864</td>\n",
       "      <td>0</td>\n",
       "      <td>5014876160</td>\n",
       "      <td>2.020823</td>\n",
       "      <td>1331707904</td>\n",
       "      <td>8701.016984</td>\n",
       "      <td>0.0</td>\n",
       "      <td>0.0</td>\n",
       "      <td>38.809464</td>\n",
       "      <td>2.256991e+04</td>\n",
       "      <td>13868.894612</td>\n",
       "      <td>0.0</td>\n",
       "      <td>0.0</td>\n",
       "      <td>38.070408</td>\n",
       "      <td>15</td>\n",
       "      <td>11</td>\n",
       "      <td>us-west-2</td>\n",
       "    </tr>\n",
       "    <tr>\n",
       "      <th>2</th>\n",
       "      <td>294485975972</td>\n",
       "      <td>/aws/containerinsights/mv-ndc-eks-cluster-dev-...</td>\n",
       "      <td>ip-172-16-50-125.us-west-2.compute.internal</td>\n",
       "      <td>4962796749719051212894665848743252387660256319...</td>\n",
       "      <td>dp-us-west-2-container-insights-performance-me...</td>\n",
       "      <td>2022-07-07 10:06:25</td>\n",
       "      <td>1657188385</td>\n",
       "      <td>2022-07-07 10:06:20</td>\n",
       "      <td>1657188380000</td>\n",
       "      <td>3695653580834574174631550550298854738425925581...</td>\n",
       "      <td>mv-ndc-scyla-asg-dev-usw2b-01-ASGusw2b-01</td>\n",
       "      <td>[{\"Dimensions\":[[\"NodeName\",\"InstanceId\",\"Clus...</td>\n",
       "      <td>mv-ndc-eks-cluster-dev-vmas-usw2-01</td>\n",
       "      <td>i-0294f49d42a8a6084</td>\n",
       "      <td>m5n.16xlarge</td>\n",
       "      <td>ip-172-16-50-125.us-west-2.compute.internal</td>\n",
       "      <td>[\"cadvisor\",\"/proc\",\"pod\",\"calculated\"]</td>\n",
       "      <td>1657188378585</td>\n",
       "      <td>Node</td>\n",
       "      <td>0</td>\n",
       "      <td>{\"host\":\"ip-172-16-50-125.us-west-2.compute.in...</td>\n",
       "      <td>64000.0</td>\n",
       "      <td>17266.0</td>\n",
       "      <td>26.978125</td>\n",
       "      <td>79.040780</td>\n",
       "      <td>276.004781</td>\n",
       "      <td>163.460517</td>\n",
       "      <td>0.431257</td>\n",
       "      <td>5378805760</td>\n",
       "      <td>0</td>\n",
       "      <td>0.0</td>\n",
       "      <td>0.0</td>\n",
       "      <td>267384934400</td>\n",
       "      <td>850206720</td>\n",
       "      <td>20248190976</td>\n",
       "      <td>0.0</td>\n",
       "      <td>0.0</td>\n",
       "      <td>69675778048</td>\n",
       "      <td>26.058229</td>\n",
       "      <td>5288857600</td>\n",
       "      <td>0</td>\n",
       "      <td>10667663360</td>\n",
       "      <td>2.965135</td>\n",
       "      <td>7928324096</td>\n",
       "      <td>29761.632839</td>\n",
       "      <td>0.0</td>\n",
       "      <td>0.0</td>\n",
       "      <td>77.710982</td>\n",
       "      <td>7.354837e+04</td>\n",
       "      <td>43786.739429</td>\n",
       "      <td>0.0</td>\n",
       "      <td>0.0</td>\n",
       "      <td>71.868838</td>\n",
       "      <td>15</td>\n",
       "      <td>11</td>\n",
       "      <td>us-west-2</td>\n",
       "    </tr>\n",
       "    <tr>\n",
       "      <th>3</th>\n",
       "      <td>237450111201</td>\n",
       "      <td>/aws/containerinsights/oracle-ndc-eks-cluster-...</td>\n",
       "      <td>ip-172-16-69-112.us-west-2.compute.internal</td>\n",
       "      <td>4962796749719051212894665848759210208479169451...</td>\n",
       "      <td>dp-us-west-2-container-insights-performance-me...</td>\n",
       "      <td>2022-07-07 10:06:27</td>\n",
       "      <td>1657188387</td>\n",
       "      <td>2022-07-07 10:06:22</td>\n",
       "      <td>1657188382000</td>\n",
       "      <td>3695653585294723214337675178925773512103829067...</td>\n",
       "      <td>oracle-ndc-infra-asg-sbox-ng-ibm-sbx-0</td>\n",
       "      <td>[{\"Dimensions\":[[\"NodeName\",\"InstanceId\",\"Clus...</td>\n",
       "      <td>oracle-ndc-eks-cluster-sbox-ibm-sbx</td>\n",
       "      <td>i-0135cde94606361ca</td>\n",
       "      <td>m5.16xlarge</td>\n",
       "      <td>ip-172-16-69-112.us-west-2.compute.internal</td>\n",
       "      <td>[\"cadvisor\",\"/proc\",\"pod\",\"calculated\"]</td>\n",
       "      <td>1657188380656</td>\n",
       "      <td>Node</td>\n",
       "      <td>0</td>\n",
       "      <td>{\"host\":\"ip-172-16-69-112.us-west-2.compute.in...</td>\n",
       "      <td>64000.0</td>\n",
       "      <td>40766.0</td>\n",
       "      <td>63.696875</td>\n",
       "      <td>248.671939</td>\n",
       "      <td>894.585419</td>\n",
       "      <td>561.447354</td>\n",
       "      <td>1.397790</td>\n",
       "      <td>21098795008</td>\n",
       "      <td>0</td>\n",
       "      <td>0.0</td>\n",
       "      <td>0.0</td>\n",
       "      <td>267386232832</td>\n",
       "      <td>1019977728</td>\n",
       "      <td>63987814400</td>\n",
       "      <td>0.0</td>\n",
       "      <td>0.0</td>\n",
       "      <td>53691285504</td>\n",
       "      <td>20.080049</td>\n",
       "      <td>22597332992</td>\n",
       "      <td>0</td>\n",
       "      <td>43696128000</td>\n",
       "      <td>9.349722</td>\n",
       "      <td>24999870464</td>\n",
       "      <td>436164.650350</td>\n",
       "      <td>0.0</td>\n",
       "      <td>0.0</td>\n",
       "      <td>3176.621437</td>\n",
       "      <td>1.094378e+06</td>\n",
       "      <td>658213.021980</td>\n",
       "      <td>0.0</td>\n",
       "      <td>0.0</td>\n",
       "      <td>3197.524745</td>\n",
       "      <td>30</td>\n",
       "      <td>18</td>\n",
       "      <td>us-west-2</td>\n",
       "    </tr>\n",
       "    <tr>\n",
       "      <th>4</th>\n",
       "      <td>700642182785</td>\n",
       "      <td>/aws/containerinsights/am-ndc-eks-cluster-dev-...</td>\n",
       "      <td>ip-172-27-0-180.ec2.internal</td>\n",
       "      <td>4962796749719051212894665848762836985938013339...</td>\n",
       "      <td>dp-us-west-2-container-insights-performance-me...</td>\n",
       "      <td>2022-07-07 10:06:28</td>\n",
       "      <td>1657188388</td>\n",
       "      <td>2022-07-07 10:06:22</td>\n",
       "      <td>1657188382000</td>\n",
       "      <td>3695653585294723214337675178958007915699630216...</td>\n",
       "      <td>am-ndc-chf-asg-dev-02-ASG02</td>\n",
       "      <td>[{\"Dimensions\":[[\"NodeName\",\"InstanceId\",\"Clus...</td>\n",
       "      <td>am-ndc-eks-cluster-dev-am-use1-02</td>\n",
       "      <td>i-052ff6e758e5066a8</td>\n",
       "      <td>m5.4xlarge</td>\n",
       "      <td>ip-172-27-0-180.ec2.internal</td>\n",
       "      <td>[\"cadvisor\",\"/proc\",\"pod\",\"calculated\"]</td>\n",
       "      <td>1657188381211</td>\n",
       "      <td>Node</td>\n",
       "      <td>0</td>\n",
       "      <td>{\"host\":\"ip-172-27-0-180.ec2.internal\"}</td>\n",
       "      <td>16000.0</td>\n",
       "      <td>1816.0</td>\n",
       "      <td>11.350000</td>\n",
       "      <td>28.272837</td>\n",
       "      <td>103.071248</td>\n",
       "      <td>59.743197</td>\n",
       "      <td>0.644195</td>\n",
       "      <td>11271614464</td>\n",
       "      <td>0</td>\n",
       "      <td>0.0</td>\n",
       "      <td>0.0</td>\n",
       "      <td>66607185920</td>\n",
       "      <td>771944448</td>\n",
       "      <td>20818436096</td>\n",
       "      <td>0.0</td>\n",
       "      <td>0.0</td>\n",
       "      <td>5255462912</td>\n",
       "      <td>7.890234</td>\n",
       "      <td>7825780736</td>\n",
       "      <td>0</td>\n",
       "      <td>19097395200</td>\n",
       "      <td>14.654528</td>\n",
       "      <td>9760968704</td>\n",
       "      <td>13603.711110</td>\n",
       "      <td>0.0</td>\n",
       "      <td>0.0</td>\n",
       "      <td>45.085078</td>\n",
       "      <td>2.950464e+04</td>\n",
       "      <td>15900.929601</td>\n",
       "      <td>0.0</td>\n",
       "      <td>0.0</td>\n",
       "      <td>45.488975</td>\n",
       "      <td>17</td>\n",
       "      <td>13</td>\n",
       "      <td>us-west-2</td>\n",
       "    </tr>\n",
       "  </tbody>\n",
       "</table>\n",
       "</div>"
      ],
      "text/plain": [
       "     account_id                                     log_group_name  \\\n",
       "0  346687249423  /aws/containerinsights/nk-ndc-eks-cluster-test...   \n",
       "1  866535947663  /aws/containerinsights/mt-ndc-eks-cluster-dev-...   \n",
       "2  294485975972  /aws/containerinsights/mv-ndc-eks-cluster-dev-...   \n",
       "3  237450111201  /aws/containerinsights/oracle-ndc-eks-cluster-...   \n",
       "4  700642182785  /aws/containerinsights/am-ndc-eks-cluster-dev-...   \n",
       "\n",
       "                               log_stream_name  \\\n",
       "0  ip-100-64-19-132.us-west-2.compute.internal   \n",
       "1                 ip-172-24-67-95.ec2.internal   \n",
       "2  ip-172-16-50-125.us-west-2.compute.internal   \n",
       "3  ip-172-16-69-112.us-west-2.compute.internal   \n",
       "4                 ip-172-27-0-180.ec2.internal   \n",
       "\n",
       "                                           record_id  \\\n",
       "0  4962796749719051212894665848731042236882148557...   \n",
       "1  4962796749719051212894665848741318106348872912...   \n",
       "2  4962796749719051212894665848743252387660256319...   \n",
       "3  4962796749719051212894665848759210208479169451...   \n",
       "4  4962796749719051212894665848762836985938013339...   \n",
       "\n",
       "                                         stream_name  \\\n",
       "0  dp-us-west-2-container-insights-performance-me...   \n",
       "1  dp-us-west-2-container-insights-performance-me...   \n",
       "2  dp-us-west-2-container-insights-performance-me...   \n",
       "3  dp-us-west-2-container-insights-performance-me...   \n",
       "4  dp-us-west-2-container-insights-performance-me...   \n",
       "\n",
       "  record_arrival_stream_timestamp  record_arrival_stream_epochtime  \\\n",
       "0             2022-07-07 10:06:23                       1657188383   \n",
       "1             2022-07-07 10:06:24                       1657188384   \n",
       "2             2022-07-07 10:06:25                       1657188385   \n",
       "3             2022-07-07 10:06:27                       1657188387   \n",
       "4             2022-07-07 10:06:28                       1657188388   \n",
       "\n",
       "  log_event_timestamp  log_event_epochtime  \\\n",
       "0 2022-07-07 10:06:17        1657188377000   \n",
       "1 2022-07-07 10:06:19        1657188379000   \n",
       "2 2022-07-07 10:06:20        1657188380000   \n",
       "3 2022-07-07 10:06:22        1657188382000   \n",
       "4 2022-07-07 10:06:22        1657188382000   \n",
       "\n",
       "                                        log_event_id  \\\n",
       "0  3695653574144350615072363607584040779097551619...   \n",
       "1  3695653578604499654778488236066210175310495798...   \n",
       "2  3695653580834574174631550550298854738425925581...   \n",
       "3  3695653585294723214337675178925773512103829067...   \n",
       "4  3695653585294723214337675178958007915699630216...   \n",
       "\n",
       "                        AutoScalingGroupName  \\\n",
       "0   nk-ndc-asbc-asg-cicdtest-usw2-az2-perf-0   \n",
       "1        mt-ndc-chf-asg-dev-ASG01-non-multus   \n",
       "2  mv-ndc-scyla-asg-dev-usw2b-01-ASGusw2b-01   \n",
       "3     oracle-ndc-infra-asg-sbox-ng-ibm-sbx-0   \n",
       "4                am-ndc-chf-asg-dev-02-ASG02   \n",
       "\n",
       "                                   CloudWatchMetrics  \\\n",
       "0  [{\"Dimensions\":[[\"NodeName\",\"InstanceId\",\"Clus...   \n",
       "1  [{\"Dimensions\":[[\"NodeName\",\"InstanceId\",\"Clus...   \n",
       "2  [{\"Dimensions\":[[\"NodeName\",\"InstanceId\",\"Clus...   \n",
       "3  [{\"Dimensions\":[[\"NodeName\",\"InstanceId\",\"Clus...   \n",
       "4  [{\"Dimensions\":[[\"NodeName\",\"InstanceId\",\"Clus...   \n",
       "\n",
       "                                 ClusterName           InstanceId  \\\n",
       "0  nk-ndc-eks-cluster-test-dev-usw2-az2-perf  i-0fd528a5b4db63a58   \n",
       "1      mt-ndc-eks-cluster-dev-dev-e1-cluster  i-0f83dfb0d9ea9120a   \n",
       "2        mv-ndc-eks-cluster-dev-vmas-usw2-01  i-0294f49d42a8a6084   \n",
       "3        oracle-ndc-eks-cluster-sbox-ibm-sbx  i-0135cde94606361ca   \n",
       "4          am-ndc-eks-cluster-dev-am-use1-02  i-052ff6e758e5066a8   \n",
       "\n",
       "   InstanceType                                     NodeName  \\\n",
       "0   m5.16xlarge  ip-100-64-19-132.us-west-2.compute.internal   \n",
       "1    m5.4xlarge                 ip-172-24-67-95.ec2.internal   \n",
       "2  m5n.16xlarge  ip-172-16-50-125.us-west-2.compute.internal   \n",
       "3   m5.16xlarge  ip-172-16-69-112.us-west-2.compute.internal   \n",
       "4    m5.4xlarge                 ip-172-27-0-180.ec2.internal   \n",
       "\n",
       "                                   Sources      Timestamp  Type Version  \\\n",
       "0  [\"cadvisor\",\"/proc\",\"pod\",\"calculated\"]  1657188368827  Node       0   \n",
       "1  [\"cadvisor\",\"/proc\",\"pod\",\"calculated\"]  1657188370769  Node       0   \n",
       "2  [\"cadvisor\",\"/proc\",\"pod\",\"calculated\"]  1657188378585  Node       0   \n",
       "3  [\"cadvisor\",\"/proc\",\"pod\",\"calculated\"]  1657188380656  Node       0   \n",
       "4  [\"cadvisor\",\"/proc\",\"pod\",\"calculated\"]  1657188381211  Node       0   \n",
       "\n",
       "                                          kubernetes  node_cpu_limit  \\\n",
       "0  {\"host\":\"ip-100-64-19-132.us-west-2.compute.in...         64000.0   \n",
       "1            {\"host\":\"ip-172-24-67-95.ec2.internal\"}         16000.0   \n",
       "2  {\"host\":\"ip-172-16-50-125.us-west-2.compute.in...         64000.0   \n",
       "3  {\"host\":\"ip-172-16-69-112.us-west-2.compute.in...         64000.0   \n",
       "4            {\"host\":\"ip-172-27-0-180.ec2.internal\"}         16000.0   \n",
       "\n",
       "   node_cpu_request  node_cpu_reserved_capacity  node_cpu_usage_system  \\\n",
       "0            2716.0                    4.243750             405.150452   \n",
       "1            1681.0                   10.506250              27.218900   \n",
       "2           17266.0                   26.978125              79.040780   \n",
       "3           40766.0                   63.696875             248.671939   \n",
       "4            1816.0                   11.350000              28.272837   \n",
       "\n",
       "   node_cpu_usage_total  node_cpu_usage_user  node_cpu_utilization  \\\n",
       "0            684.565359           388.077959              1.069633   \n",
       "1             82.893135            51.012905              0.518082   \n",
       "2            276.004781           163.460517              0.431257   \n",
       "3            894.585419           561.447354              1.397790   \n",
       "4            103.071248            59.743197              0.644195   \n",
       "\n",
       "   node_memory_cache  node_memory_failcnt  node_memory_hierarchical_pgfault  \\\n",
       "0         5686312960                    0                               0.0   \n",
       "1         4468023296                    0                               0.0   \n",
       "2         5378805760                    0                               0.0   \n",
       "3        21098795008                    0                               0.0   \n",
       "4        11271614464                    0                               0.0   \n",
       "\n",
       "   node_memory_hierarchical_pgmajfault  node_memory_limit  \\\n",
       "0                                  0.0       267384934400   \n",
       "1                                  0.0        65899286528   \n",
       "2                                  0.0       267384934400   \n",
       "3                                  0.0       267386232832   \n",
       "4                                  0.0        66607185920   \n",
       "\n",
       "   node_memory_mapped_file  node_memory_max_usage  node_memory_pgfault  \\\n",
       "0                804790272            21409251328                  0.0   \n",
       "1                585142272             5688471552                  0.0   \n",
       "2                850206720            20248190976                  0.0   \n",
       "3               1019977728            63987814400                  0.0   \n",
       "4                771944448            20818436096                  0.0   \n",
       "\n",
       "   node_memory_pgmajfault  node_memory_request  node_memory_reserved_capacity  \\\n",
       "0                     0.0           3340763136                       1.249421   \n",
       "1                     0.0           1166016512                       1.769392   \n",
       "2                     0.0          69675778048                      26.058229   \n",
       "3                     0.0          53691285504                      20.080049   \n",
       "4                     0.0           5255462912                       7.890234   \n",
       "\n",
       "   node_memory_rss  node_memory_swap  node_memory_usage  \\\n",
       "0       2185527296                 0         7871840256   \n",
       "1        546852864                 0         5014876160   \n",
       "2       5288857600                 0        10667663360   \n",
       "3      22597332992                 0        43696128000   \n",
       "4       7825780736                 0        19097395200   \n",
       "\n",
       "   node_memory_utilization  node_memory_working_set  node_network_rx_bytes  \\\n",
       "0                 1.789627               4785192960           33970.681319   \n",
       "1                 2.020823               1331707904            8701.016984   \n",
       "2                 2.965135               7928324096           29761.632839   \n",
       "3                 9.349722              24999870464          436164.650350   \n",
       "4                14.654528               9760968704           13603.711110   \n",
       "\n",
       "   node_network_rx_dropped  node_network_rx_errors  node_network_rx_packets  \\\n",
       "0                      0.0                     0.0               138.360623   \n",
       "1                      0.0                     0.0                38.809464   \n",
       "2                      0.0                     0.0                77.710982   \n",
       "3                      0.0                     0.0              3176.621437   \n",
       "4                      0.0                     0.0                45.085078   \n",
       "\n",
       "   node_network_total_bytes  node_network_tx_bytes  node_network_tx_dropped  \\\n",
       "0              6.794702e+04           33976.335434                      0.0   \n",
       "1              2.256991e+04           13868.894612                      0.0   \n",
       "2              7.354837e+04           43786.739429                      0.0   \n",
       "3              1.094378e+06          658213.021980                      0.0   \n",
       "4              2.950464e+04           15900.929601                      0.0   \n",
       "\n",
       "   node_network_tx_errors  node_network_tx_packets  \\\n",
       "0                     0.0               136.763519   \n",
       "1                     0.0                38.070408   \n",
       "2                     0.0                71.868838   \n",
       "3                     0.0              3197.524745   \n",
       "4                     0.0                45.488975   \n",
       "\n",
       "   node_number_of_running_containers  node_number_of_running_pods     region  \n",
       "0                                 18                           12  us-west-2  \n",
       "1                                 15                           11  us-west-2  \n",
       "2                                 15                           11  us-west-2  \n",
       "3                                 30                           18  us-west-2  \n",
       "4                                 17                           13  us-west-2  "
      ]
     },
     "execution_count": 12,
     "metadata": {},
     "output_type": "execute_result"
    }
   ],
   "source": [
    "df.head()"
   ]
  },
  {
   "cell_type": "code",
   "execution_count": 34,
   "id": "a73c5bb0-17c0-4d0d-ac06-eb339509ae34",
   "metadata": {
    "tags": []
   },
   "outputs": [],
   "source": [
    "import datetime\n",
    "\n",
    "df = df[['Timestamp','InstanceId','node_cpu_utilization','node_memory_utilization']]\n",
    "df = df.dropna(subset=['node_cpu_utilization','node_memory_utilization'])\n",
    "df['Datetime'] = df['Timestamp'].apply(lambda x: datetime.datetime.fromtimestamp(int(x)/1000))\n",
    "ls = df.groupby([df.InstanceId]).count().reset_index()\n",
    "instancelist = ls[(ls.Datetime>=45)&(ls.Datetime<=75)].InstanceId.to_list()\n"
   ]
  },
  {
   "cell_type": "code",
   "execution_count": 36,
   "id": "df1ed2fe-cae5-475a-a10c-e3bf21081e04",
   "metadata": {
    "tags": []
   },
   "outputs": [
    {
     "name": "stdout",
     "output_type": "stream",
     "text": [
      "CPU times: user 298 ms, sys: 0 ns, total: 298 ms\n",
      "Wall time: 296 ms\n"
     ]
    }
   ],
   "source": [
    "%%time\n",
    "df['split'] = df['InstanceId'].apply(lambda x:x in instancelist)"
   ]
  },
  {
   "cell_type": "code",
   "execution_count": 38,
   "id": "4a4e4ddb-a53c-4a39-b335-b46ac811e18e",
   "metadata": {
    "tags": []
   },
   "outputs": [],
   "source": [
    "df = df[df['split']==1]"
   ]
  },
  {
   "cell_type": "markdown",
   "id": "6253c4de-05b9-4252-be19-3b45ab0f55d5",
   "metadata": {
    "tags": []
   },
   "source": [
    "## Data split"
   ]
  },
  {
   "cell_type": "code",
   "execution_count": 5,
   "id": "0be43e02-2bce-4842-9d50-58f3cf92e19e",
   "metadata": {
    "tags": []
   },
   "outputs": [],
   "source": [
    "df = pd.read_csv('preprocessed.csv')"
   ]
  },
  {
   "cell_type": "code",
   "execution_count": 6,
   "id": "c3406169-3080-4489-ab9c-f60e3df6c449",
   "metadata": {
    "tags": []
   },
   "outputs": [
    {
     "data": {
      "text/html": [
       "<div>\n",
       "<style scoped>\n",
       "    .dataframe tbody tr th:only-of-type {\n",
       "        vertical-align: middle;\n",
       "    }\n",
       "\n",
       "    .dataframe tbody tr th {\n",
       "        vertical-align: top;\n",
       "    }\n",
       "\n",
       "    .dataframe thead th {\n",
       "        text-align: right;\n",
       "    }\n",
       "</style>\n",
       "<table border=\"1\" class=\"dataframe\">\n",
       "  <thead>\n",
       "    <tr style=\"text-align: right;\">\n",
       "      <th></th>\n",
       "      <th>Unnamed: 0</th>\n",
       "      <th>Timestamp</th>\n",
       "      <th>InstanceId</th>\n",
       "      <th>scaled_mem</th>\n",
       "      <th>scaled_cpu</th>\n",
       "    </tr>\n",
       "  </thead>\n",
       "  <tbody>\n",
       "    <tr>\n",
       "      <th>0</th>\n",
       "      <td>0</td>\n",
       "      <td>1657188368827</td>\n",
       "      <td>i-0fd528a5b4db63a58</td>\n",
       "      <td>0.929672</td>\n",
       "      <td>1.821592</td>\n",
       "    </tr>\n",
       "    <tr>\n",
       "      <th>1</th>\n",
       "      <td>1</td>\n",
       "      <td>1657188370769</td>\n",
       "      <td>i-0f83dfb0d9ea9120a</td>\n",
       "      <td>0.306372</td>\n",
       "      <td>-0.288206</td>\n",
       "    </tr>\n",
       "    <tr>\n",
       "      <th>2</th>\n",
       "      <td>2</td>\n",
       "      <td>1657188378585</td>\n",
       "      <td>i-0294f49d42a8a6084</td>\n",
       "      <td>1.929476</td>\n",
       "      <td>0.305287</td>\n",
       "    </tr>\n",
       "    <tr>\n",
       "      <th>3</th>\n",
       "      <td>3</td>\n",
       "      <td>1657188380656</td>\n",
       "      <td>i-0135cde94606361ca</td>\n",
       "      <td>1.325316</td>\n",
       "      <td>3.473258</td>\n",
       "    </tr>\n",
       "    <tr>\n",
       "      <th>4</th>\n",
       "      <td>4</td>\n",
       "      <td>1657188381211</td>\n",
       "      <td>i-052ff6e758e5066a8</td>\n",
       "      <td>0.059157</td>\n",
       "      <td>-0.148335</td>\n",
       "    </tr>\n",
       "  </tbody>\n",
       "</table>\n",
       "</div>"
      ],
      "text/plain": [
       "   Unnamed: 0      Timestamp           InstanceId  scaled_mem  scaled_cpu\n",
       "0           0  1657188368827  i-0fd528a5b4db63a58    0.929672    1.821592\n",
       "1           1  1657188370769  i-0f83dfb0d9ea9120a    0.306372   -0.288206\n",
       "2           2  1657188378585  i-0294f49d42a8a6084    1.929476    0.305287\n",
       "3           3  1657188380656  i-0135cde94606361ca    1.325316    3.473258\n",
       "4           4  1657188381211  i-052ff6e758e5066a8    0.059157   -0.148335"
      ]
     },
     "execution_count": 6,
     "metadata": {},
     "output_type": "execute_result"
    }
   ],
   "source": [
    "df.head()"
   ]
  },
  {
   "cell_type": "code",
   "execution_count": 102,
   "id": "a15f2a1c-0502-446d-b0ee-7f5e25420652",
   "metadata": {
    "tags": []
   },
   "outputs": [],
   "source": [
    "## pick random nodes (half of the total nodes) and add them to our test data\n",
    "import random\n",
    "instancelist = df['InstanceId'].unique()\n",
    "testlist = random.choices(instancelist, k=int(len(instancelist)/2))"
   ]
  },
  {
   "cell_type": "code",
   "execution_count": 103,
   "id": "d4d08302-bd24-41a1-a50b-e260fa6d56ff",
   "metadata": {
    "tags": []
   },
   "outputs": [],
   "source": [
    "df['x_train'] = df['InstanceId'].apply(lambda x:x in testlist)\n",
    "x_train = df[df['x_train']==1]\n",
    "x_test= df[df['x_train']==0]"
   ]
  },
  {
   "cell_type": "code",
   "execution_count": null,
   "id": "d4008a86-ec1b-438a-bb4f-a0affccf6b6b",
   "metadata": {},
   "outputs": [
    {
     "data": {
      "text/html": [
       "<div>\n",
       "<style scoped>\n",
       "    .dataframe tbody tr th:only-of-type {\n",
       "        vertical-align: middle;\n",
       "    }\n",
       "\n",
       "    .dataframe tbody tr th {\n",
       "        vertical-align: top;\n",
       "    }\n",
       "\n",
       "    .dataframe thead th {\n",
       "        text-align: right;\n",
       "    }\n",
       "</style>\n",
       "<table border=\"1\" class=\"dataframe\">\n",
       "  <thead>\n",
       "    <tr style=\"text-align: right;\">\n",
       "      <th></th>\n",
       "      <th>Unnamed: 0</th>\n",
       "      <th>Timestamp</th>\n",
       "      <th>InstanceId</th>\n",
       "      <th>scaled_mem</th>\n",
       "      <th>scaled_cpu</th>\n",
       "      <th>x_train</th>\n",
       "    </tr>\n",
       "  </thead>\n",
       "  <tbody>\n",
       "    <tr>\n",
       "      <th>2</th>\n",
       "      <td>2</td>\n",
       "      <td>1657188378585</td>\n",
       "      <td>i-0294f49d42a8a6084</td>\n",
       "      <td>1.929476</td>\n",
       "      <td>0.305287</td>\n",
       "      <td>True</td>\n",
       "    </tr>\n",
       "    <tr>\n",
       "      <th>3</th>\n",
       "      <td>3</td>\n",
       "      <td>1657188380656</td>\n",
       "      <td>i-0135cde94606361ca</td>\n",
       "      <td>1.325316</td>\n",
       "      <td>3.473258</td>\n",
       "      <td>True</td>\n",
       "    </tr>\n",
       "    <tr>\n",
       "      <th>4</th>\n",
       "      <td>4</td>\n",
       "      <td>1657188381211</td>\n",
       "      <td>i-052ff6e758e5066a8</td>\n",
       "      <td>0.059157</td>\n",
       "      <td>-0.148335</td>\n",
       "      <td>True</td>\n",
       "    </tr>\n",
       "    <tr>\n",
       "      <th>7</th>\n",
       "      <td>7</td>\n",
       "      <td>1657188380255</td>\n",
       "      <td>i-019763c52c2720665</td>\n",
       "      <td>0.292811</td>\n",
       "      <td>1.425888</td>\n",
       "      <td>True</td>\n",
       "    </tr>\n",
       "    <tr>\n",
       "      <th>8</th>\n",
       "      <td>8</td>\n",
       "      <td>1657188381686</td>\n",
       "      <td>i-0c637059400cc0a16</td>\n",
       "      <td>0.002217</td>\n",
       "      <td>0.230518</td>\n",
       "      <td>True</td>\n",
       "    </tr>\n",
       "  </tbody>\n",
       "</table>\n",
       "</div>"
      ],
      "text/plain": [
       "   Unnamed: 0      Timestamp           InstanceId  scaled_mem  scaled_cpu  \\\n",
       "2           2  1657188378585  i-0294f49d42a8a6084    1.929476    0.305287   \n",
       "3           3  1657188380656  i-0135cde94606361ca    1.325316    3.473258   \n",
       "4           4  1657188381211  i-052ff6e758e5066a8    0.059157   -0.148335   \n",
       "7           7  1657188380255  i-019763c52c2720665    0.292811    1.425888   \n",
       "8           8  1657188381686  i-0c637059400cc0a16    0.002217    0.230518   \n",
       "\n",
       "   x_train  \n",
       "2     True  \n",
       "3     True  \n",
       "4     True  \n",
       "7     True  \n",
       "8     True  "
      ]
     },
     "execution_count": 14,
     "metadata": {},
     "output_type": "execute_result"
    }
   ],
   "source": []
  },
  {
   "cell_type": "code",
   "execution_count": 15,
   "id": "fb16dbe5-152d-41da-b297-57b5b4e6a475",
   "metadata": {
    "tags": []
   },
   "outputs": [],
   "source": [
    "x_train.to_csv('train.csv')\n",
    "x_test.to_csv('test.csv')"
   ]
  },
  {
   "cell_type": "markdown",
   "id": "ae89af5e-eba3-4573-8a34-27a67c99db19",
   "metadata": {},
   "source": [
    "## Feature Engineering"
   ]
  },
  {
   "cell_type": "code",
   "execution_count": 68,
   "id": "e6a31132-6768-40db-9991-76744a2b7735",
   "metadata": {
    "tags": []
   },
   "outputs": [],
   "source": [
    "features = ['node_cpu_utilization','node_memory_utilization']\n",
    "params_miu_cpu = df.groupby(by='InstanceId').mean()[features[0]]\n",
    "params_miu_mem = df.groupby(by='InstanceId').mean()[features[1]]\n",
    "params_sigma_cpu = df.groupby(by='InstanceId').std()[features[0]]\n",
    "params_sigma_mem = df.groupby(by='InstanceId').std()[features[1]]\n",
    "    "
   ]
  },
  {
   "cell_type": "code",
   "execution_count": 69,
   "id": "5714dc60-6173-492e-89bf-4395a8558942",
   "metadata": {
    "tags": []
   },
   "outputs": [],
   "source": [
    "\n",
    "params_miu_cpu = params_miu_cpu.to_dict()\n",
    "params_miu_mem = params_miu_mem.to_dict()\n",
    "params_sigma_cpu = params_sigma_cpu.to_dict()\n",
    "params_sigma_mem = params_sigma_mem.to_dict()\n",
    "\n",
    "df['miu_cpu'] = df['InstanceId'].map(params_miu_cpu)\n",
    "df['miu_mem'] = df['InstanceId'].map(params_miu_mem)\n",
    "df['sigma_cpu'] = df['InstanceId'].map(params_sigma_cpu)\n",
    "df['sigma_mem'] = df['InstanceId'].map(params_sigma_mem)\n"
   ]
  },
  {
   "cell_type": "code",
   "execution_count": 71,
   "id": "cda3ff12-fa39-4d0e-a8fc-86202cd8ece3",
   "metadata": {
    "tags": []
   },
   "outputs": [],
   "source": [
    "df['scaled_mem']=(df['node_memory_utilization']-df['miu_mem'])/df['sigma_mem']\n",
    "df['scaled_cpu']=(df['node_cpu_utilization']-df['miu_cpu'])/df['sigma_cpu']"
   ]
  },
  {
   "cell_type": "code",
   "execution_count": 75,
   "id": "952424c9-67e1-4024-95fd-2a13b4a735c3",
   "metadata": {
    "tags": []
   },
   "outputs": [],
   "source": [
    "df.to_csv('preprocessed.csv')"
   ]
  },
  {
   "cell_type": "code",
   "execution_count": null,
   "id": "dde1371b-ef3f-4832-96b7-a5e76b2e3978",
   "metadata": {},
   "outputs": [],
   "source": []
  },
  {
   "cell_type": "code",
   "execution_count": null,
   "id": "6acfd441-da56-4c4b-bd29-361055266bf3",
   "metadata": {
    "tags": []
   },
   "outputs": [],
   "source": [
    "'''\n",
    "import random\n",
    "n = 0\n",
    "features = ['node_cpu_utilization','node_memory_utilization']\n",
    "instancelist = node_train.InstanceId.unique()\n",
    "result = None\n",
    "while n<samplesize:\n",
    "    instance = random.choice(instancelist)\n",
    "    subdf = df[df.InstanceId==instance].sort_values(by = ['Timestamp'])\n",
    "    if len(subdf)<12:\n",
    "        continue\n",
    "    start = random.choice(range(len(subdf)-12))\n",
    "    timeslice = subdf[start:start+12][['Timestamp',*features]]\n",
    "    if n!=0:\n",
    "        result = pd.concat([result,timeslice])\n",
    "       \n",
    "    else:\n",
    "        result =  timeslice\n",
    "    n+=1\n",
    "    if n%100==0:\n",
    "        print(n)\n",
    "#result = result.groupby(by=['Timestamp']).mean()\n",
    "'''"
   ]
  },
  {
   "cell_type": "code",
   "execution_count": null,
   "id": "cbf040cc-ce00-43ce-aef8-14b8a877d9d8",
   "metadata": {},
   "outputs": [],
   "source": [
    "result.to_csv('/root/git/eks-ml-pipeline/notebooks/train.csv', index=False, header=False)\n"
   ]
  },
  {
   "cell_type": "markdown",
   "id": "f3284941-3e42-4be0-ac2a-2341754fad2a",
   "metadata": {},
   "source": [
    "## Train my model"
   ]
  },
  {
   "cell_type": "code",
   "execution_count": 16,
   "id": "20bbb55a-5de6-4641-bf0e-a3a95c9ee704",
   "metadata": {
    "tags": []
   },
   "outputs": [
    {
     "data": {
      "text/html": [
       "<div>\n",
       "<style scoped>\n",
       "    .dataframe tbody tr th:only-of-type {\n",
       "        vertical-align: middle;\n",
       "    }\n",
       "\n",
       "    .dataframe tbody tr th {\n",
       "        vertical-align: top;\n",
       "    }\n",
       "\n",
       "    .dataframe thead th {\n",
       "        text-align: right;\n",
       "    }\n",
       "</style>\n",
       "<table border=\"1\" class=\"dataframe\">\n",
       "  <thead>\n",
       "    <tr style=\"text-align: right;\">\n",
       "      <th></th>\n",
       "      <th>Unnamed: 0</th>\n",
       "      <th>Timestamp</th>\n",
       "      <th>InstanceId</th>\n",
       "      <th>scaled_mem</th>\n",
       "      <th>scaled_cpu</th>\n",
       "      <th>x_train</th>\n",
       "    </tr>\n",
       "  </thead>\n",
       "  <tbody>\n",
       "    <tr>\n",
       "      <th>2</th>\n",
       "      <td>2</td>\n",
       "      <td>1657188378585</td>\n",
       "      <td>i-0294f49d42a8a6084</td>\n",
       "      <td>1.929476</td>\n",
       "      <td>0.305287</td>\n",
       "      <td>True</td>\n",
       "    </tr>\n",
       "    <tr>\n",
       "      <th>3</th>\n",
       "      <td>3</td>\n",
       "      <td>1657188380656</td>\n",
       "      <td>i-0135cde94606361ca</td>\n",
       "      <td>1.325316</td>\n",
       "      <td>3.473258</td>\n",
       "      <td>True</td>\n",
       "    </tr>\n",
       "    <tr>\n",
       "      <th>4</th>\n",
       "      <td>4</td>\n",
       "      <td>1657188381211</td>\n",
       "      <td>i-052ff6e758e5066a8</td>\n",
       "      <td>0.059157</td>\n",
       "      <td>-0.148335</td>\n",
       "      <td>True</td>\n",
       "    </tr>\n",
       "    <tr>\n",
       "      <th>7</th>\n",
       "      <td>7</td>\n",
       "      <td>1657188380255</td>\n",
       "      <td>i-019763c52c2720665</td>\n",
       "      <td>0.292811</td>\n",
       "      <td>1.425888</td>\n",
       "      <td>True</td>\n",
       "    </tr>\n",
       "    <tr>\n",
       "      <th>8</th>\n",
       "      <td>8</td>\n",
       "      <td>1657188381686</td>\n",
       "      <td>i-0c637059400cc0a16</td>\n",
       "      <td>0.002217</td>\n",
       "      <td>0.230518</td>\n",
       "      <td>True</td>\n",
       "    </tr>\n",
       "  </tbody>\n",
       "</table>\n",
       "</div>"
      ],
      "text/plain": [
       "   Unnamed: 0      Timestamp           InstanceId  scaled_mem  scaled_cpu  \\\n",
       "2           2  1657188378585  i-0294f49d42a8a6084    1.929476    0.305287   \n",
       "3           3  1657188380656  i-0135cde94606361ca    1.325316    3.473258   \n",
       "4           4  1657188381211  i-052ff6e758e5066a8    0.059157   -0.148335   \n",
       "7           7  1657188380255  i-019763c52c2720665    0.292811    1.425888   \n",
       "8           8  1657188381686  i-0c637059400cc0a16    0.002217    0.230518   \n",
       "\n",
       "   x_train  \n",
       "2     True  \n",
       "3     True  \n",
       "4     True  \n",
       "7     True  \n",
       "8     True  "
      ]
     },
     "execution_count": 16,
     "metadata": {},
     "output_type": "execute_result"
    }
   ],
   "source": [
    "x_train.head()\n"
   ]
  },
  {
   "cell_type": "code",
   "execution_count": 17,
   "id": "92c24f29-326f-46a7-8807-9f1b510a2529",
   "metadata": {},
   "outputs": [],
   "source": [
    "x_train = x_train[['Timestamp','InstanceId','scaled_mem','scaled_cpu']]\n",
    "#generate test sequences\n",
    "x_train = x_train.sort_values(by=['InstanceId','Timestamp'])"
   ]
  },
  {
   "cell_type": "code",
   "execution_count": 19,
   "id": "70e943b1-5d76-42fe-86f9-af8695d58437",
   "metadata": {
    "tags": []
   },
   "outputs": [],
   "source": [
    "test_data = []\n",
    "for i in testlist:\n",
    "    subdf = x_train[x_train['InstanceId']==i]\n",
    "    test_data.append(subdf[['scaled_cpu','scaled_mem']].values)\n",
    "    "
   ]
  },
  {
   "cell_type": "code",
   "execution_count": 53,
   "id": "e6f2cab0-c1f7-4f58-b217-49bbf43a1cec",
   "metadata": {
    "tags": []
   },
   "outputs": [
    {
     "data": {
      "text/plain": [
       "GaussianHMM(algorithm='viterbi', covariance_type='full', covars_prior=0.01,\n",
       "            covars_weight=1, implementation='log', init_params='',\n",
       "            means_prior=0, means_weight=0, min_covar=0.001, n_components=2,\n",
       "            n_iter=10, params='stmc', random_state=None, startprob_prior=2.0,\n",
       "            tol=0.01, transmat_prior=1.0, verbose=False)"
      ]
     },
     "execution_count": 53,
     "metadata": {},
     "output_type": "execute_result"
    }
   ],
   "source": [
    "\n",
    "model = hmm.GaussianHMM(n_components=2, covariance_type=\"full\",init_params='')\n",
    "model.startprob_prior = 2.0\n",
    "model.fit(test_data[0])"
   ]
  },
  {
   "cell_type": "code",
   "execution_count": 57,
   "id": "b879d656-0eae-4d9b-bb1a-36a52677c18d",
   "metadata": {
    "tags": []
   },
   "outputs": [
    {
     "data": {
      "text/plain": [
       "1.0"
      ]
     },
     "execution_count": 57,
     "metadata": {},
     "output_type": "execute_result"
    }
   ],
   "source": [
    "##test\n",
    "model = hmm.GaussianHMM(n_components=2, covariance_type=\"full\",init_params='')\n",
    "model.startprob_prior\n",
    "\n",
    "    \n",
    "    \n"
   ]
  },
  {
   "cell_type": "code",
   "execution_count": 68,
   "id": "ee2eeffc-1b8a-45c1-9981-2216fd5d66e3",
   "metadata": {
    "tags": []
   },
   "outputs": [
    {
     "data": {
      "text/plain": [
       "1.0"
      ]
     },
     "execution_count": 68,
     "metadata": {},
     "output_type": "execute_result"
    }
   ],
   "source": [
    "t_df = test_data[3]\n",
    "model.startprob_prior"
   ]
  },
  {
   "cell_type": "code",
   "execution_count": null,
   "id": "687fbecd-13ba-4412-ac71-da208aa58153",
   "metadata": {},
   "outputs": [],
   "source": []
  },
  {
   "cell_type": "code",
   "execution_count": 95,
   "id": "7c8f3339-ed46-42ec-9dd4-ee6005482cfc",
   "metadata": {},
   "outputs": [
    {
     "name": "stdout",
     "output_type": "stream",
     "text": [
      "0,\n",
      " startprob is \n",
      " [1.58396230e-13 7.41542916e-03 9.92584571e-01 5.28526598e-28],\n",
      " transmat is \n",
      "[[2.20320839e-03 2.92942174e-06 1.37951394e-01 8.59842468e-01]\n",
      " [1.42209700e-04 2.36214805e-01 7.63613251e-01 2.97346477e-05]\n",
      " [1.60129878e-02 8.29282687e-01 2.71947208e-02 1.27509605e-01]\n",
      " [9.74000174e-01 6.29770541e-04 1.81862735e-04 2.51881931e-02]]\n",
      "1,\n",
      " startprob is \n",
      " [0. 0. 1. 0.],\n",
      " transmat is \n",
      "[[0.         0.         0.28626106 0.71373894]\n",
      " [0.         0.44820913 0.55179087 0.        ]\n",
      " [0.         0.93014615 0.         0.06985385]\n",
      " [0.70669673 0.         0.         0.29330327]]\n",
      "2,\n",
      " startprob is \n",
      " [0. 0. 1. 0.],\n",
      " transmat is \n",
      "[[0.         0.         0.23566812 0.76433188]\n",
      " [0.         0.02701138 0.97298862 0.        ]\n",
      " [0.         0.87620107 0.         0.12379893]\n",
      " [0.87331287 0.         0.         0.12668713]]\n"
     ]
    },
    {
     "name": "stderr",
     "output_type": "stream",
     "text": [
      "/opt/conda/lib/python3.7/site-packages/hmmlearn/hmm.py:275: RuntimeWarning: invalid value encountered in true_divide\n",
      "  / (means_weight + denom))\n"
     ]
    },
    {
     "ename": "ValueError",
     "evalue": "array must not contain infs or NaNs",
     "output_type": "error",
     "traceback": [
      "\u001b[0;31m---------------------------------------------------------------------------\u001b[0m",
      "\u001b[0;31mValueError\u001b[0m                                Traceback (most recent call last)",
      "\u001b[0;32m<ipython-input-95-a89447d9ad41>\u001b[0m in \u001b[0;36m<module>\u001b[0;34m\u001b[0m\n\u001b[1;32m      3\u001b[0m \u001b[0;32mfor\u001b[0m \u001b[0mi\u001b[0m \u001b[0;32min\u001b[0m \u001b[0mrange\u001b[0m\u001b[0;34m(\u001b[0m\u001b[0mlen\u001b[0m\u001b[0;34m(\u001b[0m\u001b[0mtest_data\u001b[0m\u001b[0;34m)\u001b[0m\u001b[0;34m)\u001b[0m\u001b[0;34m:\u001b[0m\u001b[0;34m\u001b[0m\u001b[0;34m\u001b[0m\u001b[0m\n\u001b[1;32m      4\u001b[0m     \u001b[0mdata\u001b[0m \u001b[0;34m=\u001b[0m \u001b[0mtest_data\u001b[0m\u001b[0;34m[\u001b[0m\u001b[0mi\u001b[0m\u001b[0;34m]\u001b[0m\u001b[0;34m\u001b[0m\u001b[0;34m\u001b[0m\u001b[0m\n\u001b[0;32m----> 5\u001b[0;31m     \u001b[0mmodel\u001b[0m\u001b[0;34m.\u001b[0m\u001b[0mfit\u001b[0m\u001b[0;34m(\u001b[0m\u001b[0mdata\u001b[0m\u001b[0;34m)\u001b[0m\u001b[0;34m\u001b[0m\u001b[0;34m\u001b[0m\u001b[0m\n\u001b[0m\u001b[1;32m      6\u001b[0m \u001b[0;34m\u001b[0m\u001b[0m\n\u001b[1;32m      7\u001b[0m \u001b[0;34m\u001b[0m\u001b[0m\n",
      "\u001b[0;32m/opt/conda/lib/python3.7/site-packages/hmmlearn/base.py\u001b[0m in \u001b[0;36mfit\u001b[0;34m(self, X, lengths)\u001b[0m\n\u001b[1;32m    509\u001b[0m             \u001b[0;32mfor\u001b[0m \u001b[0msub_X\u001b[0m \u001b[0;32min\u001b[0m \u001b[0m_utils\u001b[0m\u001b[0;34m.\u001b[0m\u001b[0msplit_X_lengths\u001b[0m\u001b[0;34m(\u001b[0m\u001b[0mX\u001b[0m\u001b[0;34m,\u001b[0m \u001b[0mlengths\u001b[0m\u001b[0;34m)\u001b[0m\u001b[0;34m:\u001b[0m\u001b[0;34m\u001b[0m\u001b[0;34m\u001b[0m\u001b[0m\n\u001b[1;32m    510\u001b[0m                 \u001b[0mlattice\u001b[0m\u001b[0;34m,\u001b[0m \u001b[0mlog_prob\u001b[0m\u001b[0;34m,\u001b[0m \u001b[0mposteriors\u001b[0m\u001b[0;34m,\u001b[0m \u001b[0mfwdlattice\u001b[0m\u001b[0;34m,\u001b[0m \u001b[0mbwdlattice\u001b[0m \u001b[0;34m=\u001b[0m\u001b[0;31m \u001b[0m\u001b[0;31m\\\u001b[0m\u001b[0;34m\u001b[0m\u001b[0;34m\u001b[0m\u001b[0m\n\u001b[0;32m--> 511\u001b[0;31m                         \u001b[0mimpl\u001b[0m\u001b[0;34m(\u001b[0m\u001b[0msub_X\u001b[0m\u001b[0;34m)\u001b[0m\u001b[0;34m\u001b[0m\u001b[0;34m\u001b[0m\u001b[0m\n\u001b[0m\u001b[1;32m    512\u001b[0m                 \u001b[0;31m# Derived HMM classes will implement the following method to\u001b[0m\u001b[0;34m\u001b[0m\u001b[0;34m\u001b[0m\u001b[0;34m\u001b[0m\u001b[0m\n\u001b[1;32m    513\u001b[0m                 \u001b[0;31m# update their probability distributions, so keep\u001b[0m\u001b[0;34m\u001b[0m\u001b[0;34m\u001b[0m\u001b[0;34m\u001b[0m\u001b[0m\n",
      "\u001b[0;32m/opt/conda/lib/python3.7/site-packages/hmmlearn/base.py\u001b[0m in \u001b[0;36m_fit_log\u001b[0;34m(self, X)\u001b[0m\n\u001b[1;32m    542\u001b[0m \u001b[0;34m\u001b[0m\u001b[0m\n\u001b[1;32m    543\u001b[0m     \u001b[0;32mdef\u001b[0m \u001b[0m_fit_log\u001b[0m\u001b[0;34m(\u001b[0m\u001b[0mself\u001b[0m\u001b[0;34m,\u001b[0m \u001b[0mX\u001b[0m\u001b[0;34m)\u001b[0m\u001b[0;34m:\u001b[0m\u001b[0;34m\u001b[0m\u001b[0;34m\u001b[0m\u001b[0m\n\u001b[0;32m--> 544\u001b[0;31m         \u001b[0mlog_frameprob\u001b[0m \u001b[0;34m=\u001b[0m \u001b[0mself\u001b[0m\u001b[0;34m.\u001b[0m\u001b[0m_compute_log_likelihood\u001b[0m\u001b[0;34m(\u001b[0m\u001b[0mX\u001b[0m\u001b[0;34m)\u001b[0m\u001b[0;34m\u001b[0m\u001b[0;34m\u001b[0m\u001b[0m\n\u001b[0m\u001b[1;32m    545\u001b[0m         log_prob, fwdlattice = _hmmc.forward_log(\n\u001b[1;32m    546\u001b[0m             self.startprob_, self.transmat_, log_frameprob)\n",
      "\u001b[0;32m/opt/conda/lib/python3.7/site-packages/hmmlearn/hmm.py\u001b[0m in \u001b[0;36m_compute_log_likelihood\u001b[0;34m(self, X)\u001b[0m\n\u001b[1;32m    226\u001b[0m     \u001b[0;32mdef\u001b[0m \u001b[0m_compute_log_likelihood\u001b[0m\u001b[0;34m(\u001b[0m\u001b[0mself\u001b[0m\u001b[0;34m,\u001b[0m \u001b[0mX\u001b[0m\u001b[0;34m)\u001b[0m\u001b[0;34m:\u001b[0m\u001b[0;34m\u001b[0m\u001b[0;34m\u001b[0m\u001b[0m\n\u001b[1;32m    227\u001b[0m         return log_multivariate_normal_density(\n\u001b[0;32m--> 228\u001b[0;31m             X, self.means_, self._covars_, self.covariance_type)\n\u001b[0m\u001b[1;32m    229\u001b[0m \u001b[0;34m\u001b[0m\u001b[0m\n\u001b[1;32m    230\u001b[0m     \u001b[0;32mdef\u001b[0m \u001b[0m_generate_sample_from_state\u001b[0m\u001b[0;34m(\u001b[0m\u001b[0mself\u001b[0m\u001b[0;34m,\u001b[0m \u001b[0mstate\u001b[0m\u001b[0;34m,\u001b[0m \u001b[0mrandom_state\u001b[0m\u001b[0;34m)\u001b[0m\u001b[0;34m:\u001b[0m\u001b[0;34m\u001b[0m\u001b[0;34m\u001b[0m\u001b[0m\n",
      "\u001b[0;32m/opt/conda/lib/python3.7/site-packages/hmmlearn/stats.py\u001b[0m in \u001b[0;36mlog_multivariate_normal_density\u001b[0;34m(X, means, covars, covariance_type)\u001b[0m\n\u001b[1;32m     41\u001b[0m         'full': _log_multivariate_normal_density_full}\n\u001b[1;32m     42\u001b[0m     return log_multivariate_normal_density_dict[covariance_type](\n\u001b[0;32m---> 43\u001b[0;31m         \u001b[0mX\u001b[0m\u001b[0;34m,\u001b[0m \u001b[0mmeans\u001b[0m\u001b[0;34m,\u001b[0m \u001b[0mcovars\u001b[0m\u001b[0;34m\u001b[0m\u001b[0;34m\u001b[0m\u001b[0m\n\u001b[0m\u001b[1;32m     44\u001b[0m     )\n\u001b[1;32m     45\u001b[0m \u001b[0;34m\u001b[0m\u001b[0m\n",
      "\u001b[0;32m/opt/conda/lib/python3.7/site-packages/hmmlearn/stats.py\u001b[0m in \u001b[0;36m_log_multivariate_normal_density_full\u001b[0;34m(X, means, covars, min_covar)\u001b[0m\n\u001b[1;32m     79\u001b[0m     \u001b[0;32mfor\u001b[0m \u001b[0mc\u001b[0m\u001b[0;34m,\u001b[0m \u001b[0;34m(\u001b[0m\u001b[0mmu\u001b[0m\u001b[0;34m,\u001b[0m \u001b[0mcv\u001b[0m\u001b[0;34m)\u001b[0m \u001b[0;32min\u001b[0m \u001b[0menumerate\u001b[0m\u001b[0;34m(\u001b[0m\u001b[0mzip\u001b[0m\u001b[0;34m(\u001b[0m\u001b[0mmeans\u001b[0m\u001b[0;34m,\u001b[0m \u001b[0mcovars\u001b[0m\u001b[0;34m)\u001b[0m\u001b[0;34m)\u001b[0m\u001b[0;34m:\u001b[0m\u001b[0;34m\u001b[0m\u001b[0;34m\u001b[0m\u001b[0m\n\u001b[1;32m     80\u001b[0m         \u001b[0;32mtry\u001b[0m\u001b[0;34m:\u001b[0m\u001b[0;34m\u001b[0m\u001b[0;34m\u001b[0m\u001b[0m\n\u001b[0;32m---> 81\u001b[0;31m             \u001b[0mcv_chol\u001b[0m \u001b[0;34m=\u001b[0m \u001b[0mlinalg\u001b[0m\u001b[0;34m.\u001b[0m\u001b[0mcholesky\u001b[0m\u001b[0;34m(\u001b[0m\u001b[0mcv\u001b[0m\u001b[0;34m,\u001b[0m \u001b[0mlower\u001b[0m\u001b[0;34m=\u001b[0m\u001b[0;32mTrue\u001b[0m\u001b[0;34m)\u001b[0m\u001b[0;34m\u001b[0m\u001b[0;34m\u001b[0m\u001b[0m\n\u001b[0m\u001b[1;32m     82\u001b[0m         \u001b[0;32mexcept\u001b[0m \u001b[0mlinalg\u001b[0m\u001b[0;34m.\u001b[0m\u001b[0mLinAlgError\u001b[0m\u001b[0;34m:\u001b[0m\u001b[0;34m\u001b[0m\u001b[0;34m\u001b[0m\u001b[0m\n\u001b[1;32m     83\u001b[0m             \u001b[0;31m# The model is most probably stuck in a component with too\u001b[0m\u001b[0;34m\u001b[0m\u001b[0;34m\u001b[0m\u001b[0;34m\u001b[0m\u001b[0m\n",
      "\u001b[0;32m/opt/conda/lib/python3.7/site-packages/scipy/linalg/decomp_cholesky.py\u001b[0m in \u001b[0;36mcholesky\u001b[0;34m(a, lower, overwrite_a, check_finite)\u001b[0m\n\u001b[1;32m     89\u001b[0m     \"\"\"\n\u001b[1;32m     90\u001b[0m     c, lower = _cholesky(a, lower=lower, overwrite_a=overwrite_a, clean=True,\n\u001b[0;32m---> 91\u001b[0;31m                          check_finite=check_finite)\n\u001b[0m\u001b[1;32m     92\u001b[0m     \u001b[0;32mreturn\u001b[0m \u001b[0mc\u001b[0m\u001b[0;34m\u001b[0m\u001b[0;34m\u001b[0m\u001b[0m\n\u001b[1;32m     93\u001b[0m \u001b[0;34m\u001b[0m\u001b[0m\n",
      "\u001b[0;32m/opt/conda/lib/python3.7/site-packages/scipy/linalg/decomp_cholesky.py\u001b[0m in \u001b[0;36m_cholesky\u001b[0;34m(a, lower, overwrite_a, clean, check_finite)\u001b[0m\n\u001b[1;32m     17\u001b[0m     \u001b[0;34m\"\"\"Common code for cholesky() and cho_factor().\"\"\"\u001b[0m\u001b[0;34m\u001b[0m\u001b[0;34m\u001b[0m\u001b[0m\n\u001b[1;32m     18\u001b[0m \u001b[0;34m\u001b[0m\u001b[0m\n\u001b[0;32m---> 19\u001b[0;31m     \u001b[0ma1\u001b[0m \u001b[0;34m=\u001b[0m \u001b[0masarray_chkfinite\u001b[0m\u001b[0;34m(\u001b[0m\u001b[0ma\u001b[0m\u001b[0;34m)\u001b[0m \u001b[0;32mif\u001b[0m \u001b[0mcheck_finite\u001b[0m \u001b[0;32melse\u001b[0m \u001b[0masarray\u001b[0m\u001b[0;34m(\u001b[0m\u001b[0ma\u001b[0m\u001b[0;34m)\u001b[0m\u001b[0;34m\u001b[0m\u001b[0;34m\u001b[0m\u001b[0m\n\u001b[0m\u001b[1;32m     20\u001b[0m     \u001b[0ma1\u001b[0m \u001b[0;34m=\u001b[0m \u001b[0matleast_2d\u001b[0m\u001b[0;34m(\u001b[0m\u001b[0ma1\u001b[0m\u001b[0;34m)\u001b[0m\u001b[0;34m\u001b[0m\u001b[0;34m\u001b[0m\u001b[0m\n\u001b[1;32m     21\u001b[0m \u001b[0;34m\u001b[0m\u001b[0m\n",
      "\u001b[0;32m/opt/conda/lib/python3.7/site-packages/numpy/lib/function_base.py\u001b[0m in \u001b[0;36masarray_chkfinite\u001b[0;34m(a, dtype, order)\u001b[0m\n\u001b[1;32m    487\u001b[0m     \u001b[0;32mif\u001b[0m \u001b[0ma\u001b[0m\u001b[0;34m.\u001b[0m\u001b[0mdtype\u001b[0m\u001b[0;34m.\u001b[0m\u001b[0mchar\u001b[0m \u001b[0;32min\u001b[0m \u001b[0mtypecodes\u001b[0m\u001b[0;34m[\u001b[0m\u001b[0;34m'AllFloat'\u001b[0m\u001b[0;34m]\u001b[0m \u001b[0;32mand\u001b[0m \u001b[0;32mnot\u001b[0m \u001b[0mnp\u001b[0m\u001b[0;34m.\u001b[0m\u001b[0misfinite\u001b[0m\u001b[0;34m(\u001b[0m\u001b[0ma\u001b[0m\u001b[0;34m)\u001b[0m\u001b[0;34m.\u001b[0m\u001b[0mall\u001b[0m\u001b[0;34m(\u001b[0m\u001b[0;34m)\u001b[0m\u001b[0;34m:\u001b[0m\u001b[0;34m\u001b[0m\u001b[0;34m\u001b[0m\u001b[0m\n\u001b[1;32m    488\u001b[0m         raise ValueError(\n\u001b[0;32m--> 489\u001b[0;31m             \"array must not contain infs or NaNs\")\n\u001b[0m\u001b[1;32m    490\u001b[0m     \u001b[0;32mreturn\u001b[0m \u001b[0ma\u001b[0m\u001b[0;34m\u001b[0m\u001b[0;34m\u001b[0m\u001b[0m\n\u001b[1;32m    491\u001b[0m \u001b[0;34m\u001b[0m\u001b[0m\n",
      "\u001b[0;31mValueError\u001b[0m: array must not contain infs or NaNs"
     ]
    }
   ],
   "source": [
    "## init mpdel\n",
    "model = hmm.GaussianHMM(n_components=4, covariance_type=\"full\",init_params='')\n",
    "for i in range(len(test_data)):\n",
    "    data = test_data[i]   \n",
    "    model.fit(data)\n",
    " \n",
    "\n",
    "    model.startprob_prior = model.startprob_\n",
    "    model.transmat_prior = model.transmat_\n",
    "    model.means_prior = model.means_\n",
    "    model.covars_prior = model.covars_\n",
    "    \n",
    "    print(f\"{i},\\n startprob is \\n {model.startprob_},\\n transmat is \\n{ model.transmat_}\")\n",
    "    "
   ]
  },
  {
   "cell_type": "markdown",
   "id": "be2b4cf7-964c-4133-835a-4b779d02fdd4",
   "metadata": {
    "tags": []
   },
   "source": [
    "## Model 3.0\n",
    "#### Will use the previous model before I figure out how to deal with singularity..."
   ]
  },
  {
   "cell_type": "code",
   "execution_count": 11,
   "id": "0bcc16a5-aa7a-4a45-9eda-e3efacb4902c",
   "metadata": {
    "tags": []
   },
   "outputs": [],
   "source": [
    "df = pd.read_csv('preprocessed.csv')"
   ]
  },
  {
   "cell_type": "code",
   "execution_count": 12,
   "id": "663ef03a-fdfc-4d78-86ef-484a2515c939",
   "metadata": {
    "tags": []
   },
   "outputs": [
    {
     "data": {
      "text/html": [
       "<div>\n",
       "<style scoped>\n",
       "    .dataframe tbody tr th:only-of-type {\n",
       "        vertical-align: middle;\n",
       "    }\n",
       "\n",
       "    .dataframe tbody tr th {\n",
       "        vertical-align: top;\n",
       "    }\n",
       "\n",
       "    .dataframe thead th {\n",
       "        text-align: right;\n",
       "    }\n",
       "</style>\n",
       "<table border=\"1\" class=\"dataframe\">\n",
       "  <thead>\n",
       "    <tr style=\"text-align: right;\">\n",
       "      <th></th>\n",
       "      <th>Unnamed: 0</th>\n",
       "      <th>Timestamp</th>\n",
       "      <th>InstanceId</th>\n",
       "      <th>scaled_mem</th>\n",
       "      <th>scaled_cpu</th>\n",
       "    </tr>\n",
       "  </thead>\n",
       "  <tbody>\n",
       "    <tr>\n",
       "      <th>0</th>\n",
       "      <td>0</td>\n",
       "      <td>1657188368827</td>\n",
       "      <td>i-0fd528a5b4db63a58</td>\n",
       "      <td>0.929672</td>\n",
       "      <td>1.821592</td>\n",
       "    </tr>\n",
       "    <tr>\n",
       "      <th>1</th>\n",
       "      <td>1</td>\n",
       "      <td>1657188370769</td>\n",
       "      <td>i-0f83dfb0d9ea9120a</td>\n",
       "      <td>0.306372</td>\n",
       "      <td>-0.288206</td>\n",
       "    </tr>\n",
       "    <tr>\n",
       "      <th>2</th>\n",
       "      <td>2</td>\n",
       "      <td>1657188378585</td>\n",
       "      <td>i-0294f49d42a8a6084</td>\n",
       "      <td>1.929476</td>\n",
       "      <td>0.305287</td>\n",
       "    </tr>\n",
       "    <tr>\n",
       "      <th>3</th>\n",
       "      <td>3</td>\n",
       "      <td>1657188380656</td>\n",
       "      <td>i-0135cde94606361ca</td>\n",
       "      <td>1.325316</td>\n",
       "      <td>3.473258</td>\n",
       "    </tr>\n",
       "    <tr>\n",
       "      <th>4</th>\n",
       "      <td>4</td>\n",
       "      <td>1657188381211</td>\n",
       "      <td>i-052ff6e758e5066a8</td>\n",
       "      <td>0.059157</td>\n",
       "      <td>-0.148335</td>\n",
       "    </tr>\n",
       "  </tbody>\n",
       "</table>\n",
       "</div>"
      ],
      "text/plain": [
       "   Unnamed: 0      Timestamp           InstanceId  scaled_mem  scaled_cpu\n",
       "0           0  1657188368827  i-0fd528a5b4db63a58    0.929672    1.821592\n",
       "1           1  1657188370769  i-0f83dfb0d9ea9120a    0.306372   -0.288206\n",
       "2           2  1657188378585  i-0294f49d42a8a6084    1.929476    0.305287\n",
       "3           3  1657188380656  i-0135cde94606361ca    1.325316    3.473258\n",
       "4           4  1657188381211  i-052ff6e758e5066a8    0.059157   -0.148335"
      ]
     },
     "execution_count": 12,
     "metadata": {},
     "output_type": "execute_result"
    }
   ],
   "source": [
    "df.head()"
   ]
  },
  {
   "cell_type": "code",
   "execution_count": 13,
   "id": "ef0371cb-ae04-4bd1-b496-d46cd4713384",
   "metadata": {
    "tags": []
   },
   "outputs": [],
   "source": [
    "df = df[['Timestamp','InstanceId','scaled_mem','scaled_cpu']]"
   ]
  },
  {
   "cell_type": "code",
   "execution_count": 14,
   "id": "cb05a7d6-144a-4085-ada6-5f5e4bb440d8",
   "metadata": {
    "tags": []
   },
   "outputs": [],
   "source": [
    "import datetime\n",
    "df.sort_values(by=['InstanceId','Timestamp'])\n",
    "df['Timestamp'] = df['Timestamp'].apply(lambda x: datetime.datetime.fromtimestamp(x/1000).strftime('%H:%M'))"
   ]
  },
  {
   "cell_type": "code",
   "execution_count": 15,
   "id": "a53d43ab-85bb-449e-a5ae-d264ade63cc1",
   "metadata": {
    "tags": []
   },
   "outputs": [
    {
     "data": {
      "text/plain": [
       "'11:09'"
      ]
     },
     "execution_count": 15,
     "metadata": {},
     "output_type": "execute_result"
    }
   ],
   "source": [
    "df.Timestamp.max()"
   ]
  },
  {
   "cell_type": "code",
   "execution_count": 105,
   "id": "cc76ae64-0bff-421d-8ca0-16d14cc1ae5d",
   "metadata": {},
   "outputs": [],
   "source": []
  },
  {
   "cell_type": "code",
   "execution_count": null,
   "id": "0e3f4a82-63c6-403c-a942-764a995fdafb",
   "metadata": {},
   "outputs": [],
   "source": []
  },
  {
   "cell_type": "code",
   "execution_count": null,
   "id": "80874d24-6bb2-41d4-bb46-88e298ba9180",
   "metadata": {},
   "outputs": [],
   "source": []
  },
  {
   "cell_type": "code",
   "execution_count": null,
   "id": "a86250f4-e8a7-418e-8ae5-884e75dd8a32",
   "metadata": {},
   "outputs": [],
   "source": [
    "# no i dont think we could randomly split data at the begining, cause it will lead to missing consecutive"
   ]
  },
  {
   "cell_type": "code",
   "execution_count": null,
   "id": "42018acf-3e10-451b-9941-da153cebf6be",
   "metadata": {},
   "outputs": [],
   "source": []
  },
  {
   "cell_type": "markdown",
   "id": "18b8dedf-142c-4cb9-80a5-af2a8b12d35f",
   "metadata": {
    "tags": []
   },
   "source": [
    "from sklearn.model_selection import train_test_split\n",
    "x_train,x_test = train_test_split(df,test_size=0.5,random_state=123)"
   ]
  },
  {
   "cell_type": "markdown",
   "id": "c6a4109b-0054-4c97-8233-7f521b19972c",
   "metadata": {
    "tags": []
   },
   "source": [
    "### split data by node"
   ]
  },
  {
   "cell_type": "code",
   "execution_count": 17,
   "id": "37454578-6a4d-4917-ba3c-c4d98e827cb0",
   "metadata": {
    "tags": []
   },
   "outputs": [
    {
     "data": {
      "text/html": [
       "<div>\n",
       "<style scoped>\n",
       "    .dataframe tbody tr th:only-of-type {\n",
       "        vertical-align: middle;\n",
       "    }\n",
       "\n",
       "    .dataframe tbody tr th {\n",
       "        vertical-align: top;\n",
       "    }\n",
       "\n",
       "    .dataframe thead th {\n",
       "        text-align: right;\n",
       "    }\n",
       "</style>\n",
       "<table border=\"1\" class=\"dataframe\">\n",
       "  <thead>\n",
       "    <tr style=\"text-align: right;\">\n",
       "      <th></th>\n",
       "      <th>Timestamp</th>\n",
       "      <th>InstanceId</th>\n",
       "      <th>scaled_mem</th>\n",
       "      <th>scaled_cpu</th>\n",
       "    </tr>\n",
       "  </thead>\n",
       "  <tbody>\n",
       "    <tr>\n",
       "      <th>0</th>\n",
       "      <td>10:06</td>\n",
       "      <td>i-0fd528a5b4db63a58</td>\n",
       "      <td>0.929672</td>\n",
       "      <td>1.821592</td>\n",
       "    </tr>\n",
       "    <tr>\n",
       "      <th>1</th>\n",
       "      <td>10:06</td>\n",
       "      <td>i-0f83dfb0d9ea9120a</td>\n",
       "      <td>0.306372</td>\n",
       "      <td>-0.288206</td>\n",
       "    </tr>\n",
       "    <tr>\n",
       "      <th>2</th>\n",
       "      <td>10:06</td>\n",
       "      <td>i-0294f49d42a8a6084</td>\n",
       "      <td>1.929476</td>\n",
       "      <td>0.305287</td>\n",
       "    </tr>\n",
       "    <tr>\n",
       "      <th>3</th>\n",
       "      <td>10:06</td>\n",
       "      <td>i-0135cde94606361ca</td>\n",
       "      <td>1.325316</td>\n",
       "      <td>3.473258</td>\n",
       "    </tr>\n",
       "    <tr>\n",
       "      <th>4</th>\n",
       "      <td>10:06</td>\n",
       "      <td>i-052ff6e758e5066a8</td>\n",
       "      <td>0.059157</td>\n",
       "      <td>-0.148335</td>\n",
       "    </tr>\n",
       "  </tbody>\n",
       "</table>\n",
       "</div>"
      ],
      "text/plain": [
       "  Timestamp           InstanceId  scaled_mem  scaled_cpu\n",
       "0     10:06  i-0fd528a5b4db63a58    0.929672    1.821592\n",
       "1     10:06  i-0f83dfb0d9ea9120a    0.306372   -0.288206\n",
       "2     10:06  i-0294f49d42a8a6084    1.929476    0.305287\n",
       "3     10:06  i-0135cde94606361ca    1.325316    3.473258\n",
       "4     10:06  i-052ff6e758e5066a8    0.059157   -0.148335"
      ]
     },
     "execution_count": 17,
     "metadata": {},
     "output_type": "execute_result"
    }
   ],
   "source": []
  },
  {
   "cell_type": "code",
   "execution_count": null,
   "id": "f704334c-7663-45ad-9001-41939a034258",
   "metadata": {},
   "outputs": [],
   "source": []
  },
  {
   "cell_type": "code",
   "execution_count": null,
   "id": "c8ad7848-11b0-4f4a-9502-8dfc48c06021",
   "metadata": {},
   "outputs": [],
   "source": []
  },
  {
   "cell_type": "code",
   "execution_count": 104,
   "id": "7bc47f19-9d91-4d67-b86b-c5e48ff66414",
   "metadata": {
    "tags": []
   },
   "outputs": [
    {
     "data": {
      "text/html": [
       "<div>\n",
       "<style scoped>\n",
       "    .dataframe tbody tr th:only-of-type {\n",
       "        vertical-align: middle;\n",
       "    }\n",
       "\n",
       "    .dataframe tbody tr th {\n",
       "        vertical-align: top;\n",
       "    }\n",
       "\n",
       "    .dataframe thead th {\n",
       "        text-align: right;\n",
       "    }\n",
       "</style>\n",
       "<table border=\"1\" class=\"dataframe\">\n",
       "  <thead>\n",
       "    <tr style=\"text-align: right;\">\n",
       "      <th></th>\n",
       "      <th>Timestamp</th>\n",
       "      <th>InstanceId</th>\n",
       "      <th>scaled_mem</th>\n",
       "      <th>scaled_cpu</th>\n",
       "      <th>x_train</th>\n",
       "    </tr>\n",
       "  </thead>\n",
       "  <tbody>\n",
       "    <tr>\n",
       "      <th>1</th>\n",
       "      <td>10:06</td>\n",
       "      <td>i-0f83dfb0d9ea9120a</td>\n",
       "      <td>0.306372</td>\n",
       "      <td>-0.288206</td>\n",
       "      <td>True</td>\n",
       "    </tr>\n",
       "    <tr>\n",
       "      <th>8</th>\n",
       "      <td>10:06</td>\n",
       "      <td>i-0c637059400cc0a16</td>\n",
       "      <td>0.002217</td>\n",
       "      <td>0.230518</td>\n",
       "      <td>True</td>\n",
       "    </tr>\n",
       "    <tr>\n",
       "      <th>9</th>\n",
       "      <td>10:06</td>\n",
       "      <td>i-02affffaac578c9be</td>\n",
       "      <td>1.894043</td>\n",
       "      <td>2.333259</td>\n",
       "      <td>True</td>\n",
       "    </tr>\n",
       "    <tr>\n",
       "      <th>12</th>\n",
       "      <td>10:06</td>\n",
       "      <td>i-07d5a4beefdf609af</td>\n",
       "      <td>-0.761971</td>\n",
       "      <td>-0.149494</td>\n",
       "      <td>True</td>\n",
       "    </tr>\n",
       "    <tr>\n",
       "      <th>13</th>\n",
       "      <td>10:06</td>\n",
       "      <td>i-0769368b6b4490aa7</td>\n",
       "      <td>1.749880</td>\n",
       "      <td>1.496290</td>\n",
       "      <td>True</td>\n",
       "    </tr>\n",
       "  </tbody>\n",
       "</table>\n",
       "</div>"
      ],
      "text/plain": [
       "   Timestamp           InstanceId  scaled_mem  scaled_cpu  x_train\n",
       "1      10:06  i-0f83dfb0d9ea9120a    0.306372   -0.288206     True\n",
       "8      10:06  i-0c637059400cc0a16    0.002217    0.230518     True\n",
       "9      10:06  i-02affffaac578c9be    1.894043    2.333259     True\n",
       "12     10:06  i-07d5a4beefdf609af   -0.761971   -0.149494     True\n",
       "13     10:06  i-0769368b6b4490aa7    1.749880    1.496290     True"
      ]
     },
     "execution_count": 104,
     "metadata": {},
     "output_type": "execute_result"
    }
   ],
   "source": [
    "x_train.head()"
   ]
  },
  {
   "cell_type": "code",
   "execution_count": 117,
   "id": "d9afeea7-e0d3-4626-ba11-7c631b109b36",
   "metadata": {
    "tags": []
   },
   "outputs": [],
   "source": [
    "train = feature_engineer(x_train,100,12)"
   ]
  },
  {
   "cell_type": "code",
   "execution_count": 118,
   "id": "70d87708-43d5-4da0-b033-5ec14d0bcf0e",
   "metadata": {
    "tags": []
   },
   "outputs": [
    {
     "data": {
      "text/html": [
       "<div>\n",
       "<style scoped>\n",
       "    .dataframe tbody tr th:only-of-type {\n",
       "        vertical-align: middle;\n",
       "    }\n",
       "\n",
       "    .dataframe tbody tr th {\n",
       "        vertical-align: top;\n",
       "    }\n",
       "\n",
       "    .dataframe thead th {\n",
       "        text-align: right;\n",
       "    }\n",
       "</style>\n",
       "<table border=\"1\" class=\"dataframe\">\n",
       "  <thead>\n",
       "    <tr style=\"text-align: right;\">\n",
       "      <th></th>\n",
       "      <th>Timestamp</th>\n",
       "      <th>InstanceId</th>\n",
       "      <th>scaled_mem</th>\n",
       "      <th>scaled_cpu</th>\n",
       "      <th>x_train</th>\n",
       "    </tr>\n",
       "  </thead>\n",
       "  <tbody>\n",
       "    <tr>\n",
       "      <th>16763</th>\n",
       "      <td>10:56</td>\n",
       "      <td>i-0eef78a69a346936b</td>\n",
       "      <td>-0.920309</td>\n",
       "      <td>0.868947</td>\n",
       "      <td>True</td>\n",
       "    </tr>\n",
       "    <tr>\n",
       "      <th>16855</th>\n",
       "      <td>10:57</td>\n",
       "      <td>i-0eef78a69a346936b</td>\n",
       "      <td>0.686362</td>\n",
       "      <td>0.542858</td>\n",
       "      <td>True</td>\n",
       "    </tr>\n",
       "    <tr>\n",
       "      <th>16934</th>\n",
       "      <td>10:57</td>\n",
       "      <td>i-0eef78a69a346936b</td>\n",
       "      <td>-1.008322</td>\n",
       "      <td>0.631681</td>\n",
       "      <td>True</td>\n",
       "    </tr>\n",
       "    <tr>\n",
       "      <th>17005</th>\n",
       "      <td>10:58</td>\n",
       "      <td>i-0eef78a69a346936b</td>\n",
       "      <td>-0.330501</td>\n",
       "      <td>0.656388</td>\n",
       "      <td>True</td>\n",
       "    </tr>\n",
       "    <tr>\n",
       "      <th>17097</th>\n",
       "      <td>10:59</td>\n",
       "      <td>i-0eef78a69a346936b</td>\n",
       "      <td>-0.444869</td>\n",
       "      <td>0.748894</td>\n",
       "      <td>True</td>\n",
       "    </tr>\n",
       "  </tbody>\n",
       "</table>\n",
       "</div>"
      ],
      "text/plain": [
       "      Timestamp           InstanceId  scaled_mem  scaled_cpu  x_train\n",
       "16763     10:56  i-0eef78a69a346936b   -0.920309    0.868947     True\n",
       "16855     10:57  i-0eef78a69a346936b    0.686362    0.542858     True\n",
       "16934     10:57  i-0eef78a69a346936b   -1.008322    0.631681     True\n",
       "17005     10:58  i-0eef78a69a346936b   -0.330501    0.656388     True\n",
       "17097     10:59  i-0eef78a69a346936b   -0.444869    0.748894     True"
      ]
     },
     "execution_count": 118,
     "metadata": {},
     "output_type": "execute_result"
    }
   ],
   "source": [
    "train.head()"
   ]
  },
  {
   "cell_type": "code",
   "execution_count": 119,
   "id": "05359edc-eb95-498a-9257-d705697aa5c2",
   "metadata": {
    "tags": []
   },
   "outputs": [],
   "source": [
    "train = train[['Timestamp','scaled_mem','scaled_cpu']]"
   ]
  },
  {
   "cell_type": "code",
   "execution_count": 120,
   "id": "8a91712b-96f8-48c6-9007-c8e62f09df3b",
   "metadata": {
    "tags": []
   },
   "outputs": [],
   "source": [
    "train = train.groupby(by='Timestamp').mean().values"
   ]
  },
  {
   "cell_type": "code",
   "execution_count": 121,
   "id": "36e65f19-ba12-40ef-b7b5-758a079fabb1",
   "metadata": {
    "tags": []
   },
   "outputs": [
    {
     "data": {
      "text/plain": [
       "array([[ 0.2164818 ,  0.16835622],\n",
       "       [-0.6456965 ,  2.09674187],\n",
       "       [-0.78026995, -0.75150639],\n",
       "       [-1.12977204,  0.22988862],\n",
       "       [-1.08932476,  0.21064662]])"
      ]
     },
     "execution_count": 121,
     "metadata": {},
     "output_type": "execute_result"
    }
   ],
   "source": [
    "train[:5]"
   ]
  },
  {
   "cell_type": "code",
   "execution_count": 126,
   "id": "b7c047ca-026c-473f-84da-6051174fd350",
   "metadata": {
    "tags": []
   },
   "outputs": [],
   "source": [
    "model = hmm.GaussianHMM(n_components=2, covariance_type=\"full\",init_params='stmc')"
   ]
  },
  {
   "cell_type": "code",
   "execution_count": 127,
   "id": "95eeaf1c-342b-43e6-a65c-ff1aabe82153",
   "metadata": {
    "tags": []
   },
   "outputs": [
    {
     "data": {
      "text/plain": [
       "GaussianHMM(algorithm='viterbi', covariance_type='full', covars_prior=0.01,\n",
       "            covars_weight=1, implementation='log', init_params='stmc',\n",
       "            means_prior=0, means_weight=0, min_covar=0.001, n_components=2,\n",
       "            n_iter=10, params='stmc', random_state=None, startprob_prior=1.0,\n",
       "            tol=0.01, transmat_prior=1.0, verbose=False)"
      ]
     },
     "execution_count": 127,
     "metadata": {},
     "output_type": "execute_result"
    }
   ],
   "source": [
    "model.fit(train)"
   ]
  },
  {
   "cell_type": "code",
   "execution_count": 128,
   "id": "b9ac073a-fdaa-4a09-9bbd-a249c86e5da7",
   "metadata": {
    "tags": []
   },
   "outputs": [
    {
     "data": {
      "text/plain": [
       "-43.04972348451919"
      ]
     },
     "execution_count": 128,
     "metadata": {},
     "output_type": "execute_result"
    }
   ],
   "source": [
    "model.score(train)"
   ]
  },
  {
   "cell_type": "code",
   "execution_count": 129,
   "id": "a2f96ba6-5193-47c6-b88b-351ad7551d8f",
   "metadata": {
    "tags": []
   },
   "outputs": [
    {
     "data": {
      "text/plain": [
       "array([1.0000000e+00, 1.5977254e-15])"
      ]
     },
     "execution_count": 129,
     "metadata": {},
     "output_type": "execute_result"
    }
   ],
   "source": [
    "model.startprob_"
   ]
  },
  {
   "cell_type": "code",
   "execution_count": 130,
   "id": "c8347c04-d571-4217-8ae8-2414cac22d63",
   "metadata": {
    "tags": []
   },
   "outputs": [
    {
     "data": {
      "text/plain": [
       "array([[0.95477657, 0.04522343],\n",
       "       [0.20598938, 0.79401062]])"
      ]
     },
     "execution_count": 130,
     "metadata": {},
     "output_type": "execute_result"
    }
   ],
   "source": [
    "model.transmat_"
   ]
  },
  {
   "cell_type": "code",
   "execution_count": 135,
   "id": "88a4af13-b4a5-4232-b05b-ebdc8c796081",
   "metadata": {
    "tags": []
   },
   "outputs": [
    {
     "data": {
      "text/plain": [
       "array([0, 1, 1, 1, 1, 1, 1, 1, 0, 0, 0, 0, 0, 0, 0, 0, 0, 0, 0, 0, 0, 0,\n",
       "       0, 0, 0, 0, 0, 0, 0, 0, 0, 0, 0, 0, 0, 0, 0, 0, 0, 0, 0, 0, 0, 0,\n",
       "       0, 0, 0, 0, 0, 0, 0, 0, 0, 0, 0, 0, 0, 0, 0, 0, 0, 0, 0, 0, 0, 0,\n",
       "       0, 0, 0, 1])"
      ]
     },
     "execution_count": 135,
     "metadata": {},
     "output_type": "execute_result"
    }
   ],
   "source": [
    "model.predict(train)"
   ]
  },
  {
   "cell_type": "code",
   "execution_count": 2,
   "id": "2e661457-e3fd-45ab-b10a-2981207b61ee",
   "metadata": {
    "tags": []
   },
   "outputs": [],
   "source": [
    "## from a previous grid search which unfortunately disappeared after a file crash, we will use n_sample = 100 and timeslice = 12 for our model"
   ]
  },
  {
   "cell_type": "markdown",
   "id": "e5cecd83-2207-4bcf-98a6-b8509d307708",
   "metadata": {},
   "source": [
    "## model implementation"
   ]
  },
  {
   "cell_type": "code",
   "execution_count": 18,
   "id": "8c727263-0dc7-43ff-b53b-deb67d2da0fb",
   "metadata": {
    "tags": []
   },
   "outputs": [
    {
     "data": {
      "text/html": [
       "<div>\n",
       "<style scoped>\n",
       "    .dataframe tbody tr th:only-of-type {\n",
       "        vertical-align: middle;\n",
       "    }\n",
       "\n",
       "    .dataframe tbody tr th {\n",
       "        vertical-align: top;\n",
       "    }\n",
       "\n",
       "    .dataframe thead th {\n",
       "        text-align: right;\n",
       "    }\n",
       "</style>\n",
       "<table border=\"1\" class=\"dataframe\">\n",
       "  <thead>\n",
       "    <tr style=\"text-align: right;\">\n",
       "      <th></th>\n",
       "      <th>Timestamp</th>\n",
       "      <th>InstanceId</th>\n",
       "      <th>scaled_mem</th>\n",
       "      <th>scaled_cpu</th>\n",
       "    </tr>\n",
       "  </thead>\n",
       "  <tbody>\n",
       "    <tr>\n",
       "      <th>0</th>\n",
       "      <td>10:06</td>\n",
       "      <td>i-0fd528a5b4db63a58</td>\n",
       "      <td>0.929672</td>\n",
       "      <td>1.821592</td>\n",
       "    </tr>\n",
       "    <tr>\n",
       "      <th>1</th>\n",
       "      <td>10:06</td>\n",
       "      <td>i-0f83dfb0d9ea9120a</td>\n",
       "      <td>0.306372</td>\n",
       "      <td>-0.288206</td>\n",
       "    </tr>\n",
       "    <tr>\n",
       "      <th>2</th>\n",
       "      <td>10:06</td>\n",
       "      <td>i-0294f49d42a8a6084</td>\n",
       "      <td>1.929476</td>\n",
       "      <td>0.305287</td>\n",
       "    </tr>\n",
       "    <tr>\n",
       "      <th>3</th>\n",
       "      <td>10:06</td>\n",
       "      <td>i-0135cde94606361ca</td>\n",
       "      <td>1.325316</td>\n",
       "      <td>3.473258</td>\n",
       "    </tr>\n",
       "    <tr>\n",
       "      <th>4</th>\n",
       "      <td>10:06</td>\n",
       "      <td>i-052ff6e758e5066a8</td>\n",
       "      <td>0.059157</td>\n",
       "      <td>-0.148335</td>\n",
       "    </tr>\n",
       "  </tbody>\n",
       "</table>\n",
       "</div>"
      ],
      "text/plain": [
       "  Timestamp           InstanceId  scaled_mem  scaled_cpu\n",
       "0     10:06  i-0fd528a5b4db63a58    0.929672    1.821592\n",
       "1     10:06  i-0f83dfb0d9ea9120a    0.306372   -0.288206\n",
       "2     10:06  i-0294f49d42a8a6084    1.929476    0.305287\n",
       "3     10:06  i-0135cde94606361ca    1.325316    3.473258\n",
       "4     10:06  i-052ff6e758e5066a8    0.059157   -0.148335"
      ]
     },
     "execution_count": 18,
     "metadata": {},
     "output_type": "execute_result"
    }
   ],
   "source": [
    "df.head()"
   ]
  },
  {
   "cell_type": "code",
   "execution_count": 22,
   "id": "7db75517-656c-4266-a92e-652caea8e583",
   "metadata": {
    "tags": []
   },
   "outputs": [],
   "source": [
    "import random\n",
    "test = random.choices(list(df.InstanceId.unique()),k=int(len(df.InstanceId.unique())/2))\n",
    "df['test'] = df['InstanceId'].apply(lambda x: x in test)"
   ]
  },
  {
   "cell_type": "code",
   "execution_count": 24,
   "id": "a0de35b9-e710-4e6a-a125-3a886cfe6bc1",
   "metadata": {
    "tags": []
   },
   "outputs": [],
   "source": [
    "features = ['Timestamp','InstanceId','scaled_mem','scaled_cpu']\n",
    "x_test = df[df.test==1][features]\n",
    "x_train = df[df.test==0][features]"
   ]
  },
  {
   "cell_type": "markdown",
   "id": "2a83d9a3-dfd5-46e2-a956-c766984ed314",
   "metadata": {
    "jupyter": {
     "outputs_hidden": true
    },
    "tags": []
   },
   "source": [
    "### feature engineering"
   ]
  },
  {
   "cell_type": "code",
   "execution_count": 25,
   "id": "2dd65a7e-c678-4c7f-a427-01dd7c703740",
   "metadata": {
    "tags": []
   },
   "outputs": [],
   "source": [
    "## fe\n",
    "\n",
    "def feature_engineer(df,n_sample,n_slice):\n",
    "    df = df.sort_values(by=[\"InstanceId\",\"Timestamp\"])\n",
    "    res = None\n",
    "    instancelist = list(df.InstanceId.unique())\n",
    "    i = 0\n",
    "    while i <n_sample:\n",
    "\n",
    "        instance = random.choice(instancelist)\n",
    "        subdf = df[df.InstanceId==instance]\n",
    "        \n",
    "        if subdf.shape[0]<n_slice:\n",
    "           \n",
    "            continue\n",
    "        elif subdf.shape[0]==n_slice:\n",
    "          \n",
    "            add =subdf\n",
    "        else: \n",
    "            \n",
    "            start = random.randrange(subdf.shape[0])\n",
    "            add = subdf[start:start+n_slice]\n",
    "            \n",
    "        if res is None:\n",
    "            res = add     \n",
    "        else:\n",
    "            res = pd.concat([res,add])\n",
    "        \n",
    "        i+=1\n",
    "    return res\n",
    "        \n",
    "        \n"
   ]
  },
  {
   "cell_type": "code",
   "execution_count": 26,
   "id": "5861d16f-9830-417d-9903-6532cfcb5aeb",
   "metadata": {
    "tags": []
   },
   "outputs": [],
   "source": [
    "x_test = feature_engineer(x_test,100,12)"
   ]
  },
  {
   "cell_type": "markdown",
   "id": "ea2043bb-cf43-4239-be56-b51521cc2b44",
   "metadata": {
    "tags": []
   },
   "source": [
    "### model fit"
   ]
  },
  {
   "cell_type": "code",
   "execution_count": 31,
   "id": "37fa6cb4-8721-4a82-aa8d-277d621102e4",
   "metadata": {
    "tags": []
   },
   "outputs": [
    {
     "data": {
      "text/plain": [
       "GaussianHMM(algorithm='viterbi', covariance_type='full', covars_prior=0.01,\n",
       "            covars_weight=1, implementation='log', init_params='stmc',\n",
       "            means_prior=0, means_weight=0, min_covar=0.001, n_components=2,\n",
       "            n_iter=10, params='stmc', random_state=None, startprob_prior=1.0,\n",
       "            tol=0.01, transmat_prior=1.0, verbose=False)"
      ]
     },
     "execution_count": 31,
     "metadata": {},
     "output_type": "execute_result"
    }
   ],
   "source": [
    "random.seed(42)\n",
    "model = hmm.GaussianHMM(n_components=2, covariance_type=\"full\",init_params='stmc')\n",
    "train_val = x_train[['scaled_mem','scaled_cpu']].values\n",
    "model.fit(train_val)"
   ]
  },
  {
   "cell_type": "markdown",
   "id": "e2b47247-6e14-49a3-b172-035bb1d44144",
   "metadata": {
    "tags": []
   },
   "source": [
    "### model predict"
   ]
  },
  {
   "cell_type": "code",
   "execution_count": 32,
   "id": "df6da022-ff08-47a1-8f88-3291fabfea6d",
   "metadata": {
    "tags": []
   },
   "outputs": [],
   "source": [
    "test_val = x_test[['scaled_mem','scaled_cpu']].values\n",
    "test_state = model.predict(test_val)\n",
    "test_pred = [np.random.multivariate_normal(model.means_[s], model.covars_[s]) for s in test_state]"
   ]
  },
  {
   "cell_type": "code",
   "execution_count": null,
   "id": "f7cc1e63-0d2a-49e5-91b7-a453600b5295",
   "metadata": {},
   "outputs": [],
   "source": [
    "## threshold"
   ]
  }
 ],
 "metadata": {
  "instance_type": "ml.m5.12xlarge",
  "kernelspec": {
   "display_name": "Python 3 (Data Science)",
   "language": "python",
   "name": "python3__SAGEMAKER_INTERNAL__arn:aws:sagemaker:us-west-2:236514542706:image/datascience-1.0"
  },
  "language_info": {
   "codemirror_mode": {
    "name": "ipython",
    "version": 3
   },
   "file_extension": ".py",
   "mimetype": "text/x-python",
   "name": "python",
   "nbconvert_exporter": "python",
   "pygments_lexer": "ipython3",
   "version": "3.7.10"
  }
 },
 "nbformat": 4,
 "nbformat_minor": 5
}
